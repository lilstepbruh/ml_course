{
 "cells": [
  {
   "cell_type": "code",
   "execution_count": 1,
   "id": "initial_id",
   "metadata": {
    "ExecuteTime": {
     "end_time": "2025-01-31T16:03:00.446631Z",
     "start_time": "2025-01-31T16:02:58.548334Z"
    }
   },
   "outputs": [],
   "source": [
    "from scipy import stats as st\n",
    "import pandas as pd"
   ]
  },
  {
   "cell_type": "code",
   "id": "ff8f80287e6eb7d4",
   "metadata": {
    "ExecuteTime": {
     "end_time": "2025-01-31T16:10:40.055124Z",
     "start_time": "2025-01-31T16:10:40.046134Z"
    }
   },
   "source": [
    "scooters = pd.Series([15, 31, 10, 21, 21, 32, 30, 25, 21,\n",
    "                      28, 25, 32, 38, 18, 33, 24, 26, 40, 24, 37, 20, 36, 28, 38,\n",
    "                      24, 35, 33, 21, 29, 26, 13, 25, 34, 38, 23, 37, 31, 28, 32,\n",
    "                      24, 25, 13, 38, 34, 48, 19, 20, 22, 38, 28, 31, 18, 21, 24,\n",
    "                      31, 21, 28, 29, 33, 40, 26, 33, 33,  6, 27, 24, 17, 28,  7,\n",
    "                      33, 25, 25, 29, 19, 30, 29, 22, 15, 28, 36, 25, 36, 25, 29,\n",
    "                      33, 19, 32, 32, 28, 26, 18, 48, 15, 27, 27, 27,  0, 28, 39,\n",
    "                      27, 25, 39, 28, 22, 33, 30, 35, 19, 20, 18, 31, 44, 20, 18,\n",
    "                      17, 28, 17, 44, 40, 33,])\n",
    "\n",
    "\n",
    "optimal_value = 27\n",
    "alpha = .05\n",
    "results = st.ttest_1samp(scooters, optimal_value)"
   ],
   "outputs": [],
   "execution_count": 32
  },
  {
   "cell_type": "code",
   "id": "47f8b6e7-fcc2-440a-823b-a70bd7f6775e",
   "metadata": {
    "ExecuteTime": {
     "end_time": "2025-01-31T16:10:40.494287Z",
     "start_time": "2025-01-31T16:10:40.489201Z"
    }
   },
   "source": [
    "print('p-значение:', results.pvalue)"
   ],
   "outputs": [
    {
     "name": "stdout",
     "output_type": "stream",
     "text": [
      "p-значение: 0.8194103867888617\n"
     ]
    }
   ],
   "execution_count": 33
  },
  {
   "metadata": {},
   "cell_type": "markdown",
   "source": [
    "Интернет-магазин разработал новую посадочную страницу. Статистика показала, что чем дальше посетители пролистывали лендинг и чем больше блоков просматривали, тем чаще они делали покупку. Среднее количество просмотренных блоков теми, кто что-то купил — 4.867.\n",
    "После того, как первые несколько блоков изменили согласно новому гайдлайну от дизайнера, количество заказов осталось прежним. Но, быть может, новый дизайн помог пользователям быстрее принять решение о покупке? Проверьте, сработал ли гайдлайн: в этом случае количество проскролленных блоков сократится.\n",
    "Используйте выборку из сотни случайных покупателей. В датасете — количество просмотренных блоков лендинга.\n",
    "Нулевая гипотеза: среднее количество просмотренных блоков после изменения дизайна осталось прежним. Альтернативная гипотеза: среднее количество просмотренных блоков после изменения дизайна уменьшилось."
   ],
   "id": "57a261b7a4a9730f"
  },
  {
   "metadata": {
    "ExecuteTime": {
     "end_time": "2025-01-31T16:43:18.609221Z",
     "start_time": "2025-01-31T16:43:18.602632Z"
    }
   },
   "cell_type": "code",
   "source": [
    "screens = pd.Series([4, 2, 4, 5, 5, 4, 2, 3, 3, 5, 2, 5, 2, 2, 2, 3, 3, 4, 8, 3, 4, 3, 5, 5, 4, 2, 5, 2, 3, 7, 5, 5, 6,  5, 3, 4, 3, 6, 3, 4, 4, 3, 5, 4, 4, 8, 4, 7, 4, 5, 5, 3, 4, 6, 7, 2, 3, 6, 5, 6, 4, 4, 3, 4, 6, 4, 4, 6, 2, 6, 5, 3, 3, 3, 4, 5, 3, 5, 5, 4, 3, 3, 3, 1, 5, 4, 3, 4, 6, 3, 1, 3, 2, 7, 3, 6, 6, 6, 5, 5])\n",
    "\n",
    "prev_screens_value = 4.867\n",
    "alpha = .05\n"
   ],
   "id": "82871174bf07a3ef",
   "outputs": [],
   "execution_count": 34
  },
  {
   "metadata": {
    "ExecuteTime": {
     "end_time": "2025-01-31T16:43:34.424742Z",
     "start_time": "2025-01-31T16:43:34.414261Z"
    }
   },
   "cell_type": "code",
   "source": [
    "results = st.ttest_1samp(screens, prev_screens_value)\n",
    "results.pvalue/2"
   ],
   "id": "4c7435d292679202",
   "outputs": [
    {
     "data": {
      "text/plain": [
       "1.3358596895543794e-06"
      ]
     },
     "execution_count": 35,
     "metadata": {},
     "output_type": "execute_result"
    }
   ],
   "execution_count": 35
  },
  {
   "metadata": {
    "ExecuteTime": {
     "end_time": "2025-01-31T16:47:30.196680Z",
     "start_time": "2025-01-31T16:47:30.189164Z"
    }
   },
   "cell_type": "code",
   "source": [
    "if (results.pvalue / 2 < alpha) and (screens.mean() < prev_screens_value):\n",
    "    print(\"Отвергаем нулевую гипотезу\")\n",
    "else:\n",
    "    print(\"Не отвергаем нулевую гипотезу\")\n"
   ],
   "id": "f42283edf67db988",
   "outputs": [
    {
     "name": "stdout",
     "output_type": "stream",
     "text": [
      "Отвергаем нулевую гипотезу\n"
     ]
    }
   ],
   "execution_count": 36
  }
 ],
 "metadata": {
  "kernelspec": {
   "display_name": "Python 3 (ipykernel)",
   "language": "python",
   "name": "python3"
  },
  "language_info": {
   "codemirror_mode": {
    "name": "ipython",
    "version": 3
   },
   "file_extension": ".py",
   "mimetype": "text/x-python",
   "name": "python",
   "nbconvert_exporter": "python",
   "pygments_lexer": "ipython3",
   "version": "3.12.3"
  }
 },
 "nbformat": 4,
 "nbformat_minor": 5
}
