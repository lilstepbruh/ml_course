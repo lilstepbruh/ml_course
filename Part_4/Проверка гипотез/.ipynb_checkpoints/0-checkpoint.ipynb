{
 "cells": [
  {
   "cell_type": "code",
   "id": "initial_id",
   "metadata": {
    "collapsed": true,
    "jupyter": {
     "is_executing": true
    }
   },
   "source": [
    "from scipy import stats as st\n",
    "import pandas as pd"
   ],
   "outputs": [],
   "execution_count": null
  },
  {
   "metadata": {},
   "cell_type": "code",
   "outputs": [],
   "execution_count": null,
   "source": [
    "scooters = pd.Series([15, 31, 10, 21, 21, 32, 30, 25, 21,\n",
    "                      28, 25, 32, 38, 18, 33, 24, 26, 40, 24, 37, 20, 36, 28, 38,\n",
    "                      24, 35, 33, 21, 29, 26, 13, 25, 34, 38, 23, 37, 31, 28, 32,\n",
    "                      24, 25, 13, 38, 34, 48, 19, 20, 22, 38, 28, 31, 18, 21, 24,\n",
    "                      31, 21, 28, 29, 33, 40, 26, 33, 33,  6, 27, 24, 17, 28,  7,\n",
    "                      33, 25, 25, 29, 19, 30, 29, 22, 15, 28, 36, 25, 36, 25, 29,\n",
    "                      33, 19, 32, 32, 28, 26, 18, 48, 15, 27, 27, 27,  0, 28, 39,\n",
    "                      27, 25, 39, 28, 22, 33, 30, 35, 19, 20, 18, 31, 44, 20, 18,\n",
    "                      17, 28, 17, 44, 40, 33,])\n",
    "\n",
    "optimal_value = 30"
   ],
   "id": "ff8f80287e6eb7d4"
  }
 ],
 "metadata": {
  "kernelspec": {
   "display_name": "Python 3",
   "language": "python",
   "name": "python3"
  },
  "language_info": {
   "codemirror_mode": {
    "name": "ipython",
    "version": 2
   },
   "file_extension": ".py",
   "mimetype": "text/x-python",
   "name": "python",
   "nbconvert_exporter": "python",
   "pygments_lexer": "ipython2",
   "version": "2.7.6"
  }
 },
 "nbformat": 4,
 "nbformat_minor": 5
}
