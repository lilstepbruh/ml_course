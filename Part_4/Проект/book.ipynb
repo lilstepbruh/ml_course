{
 "cells": [
  {
   "cell_type": "code",
   "metadata": {
    "ExecuteTime": {
     "end_time": "2025-02-01T11:44:33.866111Z",
     "start_time": "2025-02-01T11:44:33.860073Z"
    }
   },
   "source": [
    "import pandas as pd\n",
    "import numpy as np\n",
    "import scipy.stats as st\n",
    "import matplotlib.pyplot as plt"
   ],
   "outputs": [],
   "execution_count": 49
  },
  {
   "metadata": {},
   "cell_type": "markdown",
   "source": "# Подготовка данных"
  },
  {
   "metadata": {
    "ExecuteTime": {
     "end_time": "2025-02-01T09:24:59.494035Z",
     "start_time": "2025-02-01T09:24:59.019359Z"
    }
   },
   "cell_type": "code",
   "source": [
    "calls = pd.read_csv('calls.csv')\n",
    "internet = pd.read_csv('internet.csv')\n",
    "messages = pd.read_csv('messages.csv')\n",
    "tariffs = pd.read_csv('tariffs.csv')\n",
    "users = pd.read_csv('users.csv')"
   ],
   "outputs": [],
   "execution_count": 2
  },
  {
   "metadata": {},
   "cell_type": "markdown",
   "source": "## calls.csv"
  },
  {
   "metadata": {
    "ExecuteTime": {
     "end_time": "2025-02-01T09:24:59.819262Z",
     "start_time": "2025-02-01T09:24:59.785746Z"
    }
   },
   "cell_type": "code",
   "source": "calls.info()",
   "outputs": [
    {
     "name": "stdout",
     "output_type": "stream",
     "text": [
      "<class 'pandas.core.frame.DataFrame'>\n",
      "RangeIndex: 202607 entries, 0 to 202606\n",
      "Data columns (total 4 columns):\n",
      " #   Column     Non-Null Count   Dtype  \n",
      "---  ------     --------------   -----  \n",
      " 0   id         202607 non-null  object \n",
      " 1   call_date  202607 non-null  object \n",
      " 2   duration   202607 non-null  float64\n",
      " 3   user_id    202607 non-null  int64  \n",
      "dtypes: float64(1), int64(1), object(2)\n",
      "memory usage: 6.2+ MB\n"
     ]
    }
   ],
   "execution_count": 3
  },
  {
   "metadata": {
    "ExecuteTime": {
     "end_time": "2025-02-01T09:24:59.937352Z",
     "start_time": "2025-02-01T09:24:59.891325Z"
    }
   },
   "cell_type": "code",
   "source": "calls.describe()",
   "outputs": [
    {
     "data": {
      "text/plain": [
       "            duration        user_id\n",
       "count  202607.000000  202607.000000\n",
       "mean        6.755887    1253.940619\n",
       "std         5.843365     144.722751\n",
       "min         0.000000    1000.000000\n",
       "25%         1.300000    1126.000000\n",
       "50%         6.000000    1260.000000\n",
       "75%        10.700000    1379.000000\n",
       "max        38.000000    1499.000000"
      ],
      "text/html": [
       "<div>\n",
       "<style scoped>\n",
       "    .dataframe tbody tr th:only-of-type {\n",
       "        vertical-align: middle;\n",
       "    }\n",
       "\n",
       "    .dataframe tbody tr th {\n",
       "        vertical-align: top;\n",
       "    }\n",
       "\n",
       "    .dataframe thead th {\n",
       "        text-align: right;\n",
       "    }\n",
       "</style>\n",
       "<table border=\"1\" class=\"dataframe\">\n",
       "  <thead>\n",
       "    <tr style=\"text-align: right;\">\n",
       "      <th></th>\n",
       "      <th>duration</th>\n",
       "      <th>user_id</th>\n",
       "    </tr>\n",
       "  </thead>\n",
       "  <tbody>\n",
       "    <tr>\n",
       "      <th>count</th>\n",
       "      <td>202607.000000</td>\n",
       "      <td>202607.000000</td>\n",
       "    </tr>\n",
       "    <tr>\n",
       "      <th>mean</th>\n",
       "      <td>6.755887</td>\n",
       "      <td>1253.940619</td>\n",
       "    </tr>\n",
       "    <tr>\n",
       "      <th>std</th>\n",
       "      <td>5.843365</td>\n",
       "      <td>144.722751</td>\n",
       "    </tr>\n",
       "    <tr>\n",
       "      <th>min</th>\n",
       "      <td>0.000000</td>\n",
       "      <td>1000.000000</td>\n",
       "    </tr>\n",
       "    <tr>\n",
       "      <th>25%</th>\n",
       "      <td>1.300000</td>\n",
       "      <td>1126.000000</td>\n",
       "    </tr>\n",
       "    <tr>\n",
       "      <th>50%</th>\n",
       "      <td>6.000000</td>\n",
       "      <td>1260.000000</td>\n",
       "    </tr>\n",
       "    <tr>\n",
       "      <th>75%</th>\n",
       "      <td>10.700000</td>\n",
       "      <td>1379.000000</td>\n",
       "    </tr>\n",
       "    <tr>\n",
       "      <th>max</th>\n",
       "      <td>38.000000</td>\n",
       "      <td>1499.000000</td>\n",
       "    </tr>\n",
       "  </tbody>\n",
       "</table>\n",
       "</div>"
      ]
     },
     "execution_count": 4,
     "metadata": {},
     "output_type": "execute_result"
    }
   ],
   "execution_count": 4
  },
  {
   "metadata": {},
   "cell_type": "markdown",
   "source": [
    "В датасете calls не было обнаружено ошибок или пустых значений. Посчитаем количество сделанных звонков и израсходованных минут разговора по месяцам для каждого пользователя.\n",
    "\n",
    "\n"
   ]
  },
  {
   "metadata": {
    "ExecuteTime": {
     "end_time": "2025-02-01T09:25:00.123493Z",
     "start_time": "2025-02-01T09:25:00.092063Z"
    }
   },
   "cell_type": "code",
   "source": "calls['call_date'] = pd.to_datetime(calls['call_date'], format='%Y-%m-%d')",
   "outputs": [],
   "execution_count": 5
  },
  {
   "metadata": {
    "ExecuteTime": {
     "end_time": "2025-02-01T09:25:00.218191Z",
     "start_time": "2025-02-01T09:25:00.202153Z"
    }
   },
   "cell_type": "code",
   "source": "calls['month'] = pd.DatetimeIndex(calls['call_date']).month",
   "outputs": [],
   "execution_count": 6
  },
  {
   "metadata": {
    "ExecuteTime": {
     "end_time": "2025-02-01T09:25:00.962654Z",
     "start_time": "2025-02-01T09:25:00.508766Z"
    }
   },
   "cell_type": "code",
   "source": [
    "calls_by_month = calls.groupby(['user_id', 'month']).agg(\n",
    "    {\n",
    "        'id': 'count',\n",
    "        'duration': lambda x :np.ceil(x).sum()\n",
    "    }\n",
    ").rename(columns={'id': 'count_of_calls'})\n",
    "calls_by_month"
   ],
   "outputs": [
    {
     "data": {
      "text/plain": [
       "               count_of_calls  duration\n",
       "user_id month                          \n",
       "1000    5                  22     159.0\n",
       "        6                  43     172.0\n",
       "        7                  47     340.0\n",
       "        8                  52     408.0\n",
       "        9                  58     466.0\n",
       "...                       ...       ...\n",
       "1498    10                 41     247.0\n",
       "1499    9                   9      70.0\n",
       "        10                 68     449.0\n",
       "        11                 74     612.0\n",
       "        12                 69     492.0\n",
       "\n",
       "[3174 rows x 2 columns]"
      ],
      "text/html": [
       "<div>\n",
       "<style scoped>\n",
       "    .dataframe tbody tr th:only-of-type {\n",
       "        vertical-align: middle;\n",
       "    }\n",
       "\n",
       "    .dataframe tbody tr th {\n",
       "        vertical-align: top;\n",
       "    }\n",
       "\n",
       "    .dataframe thead th {\n",
       "        text-align: right;\n",
       "    }\n",
       "</style>\n",
       "<table border=\"1\" class=\"dataframe\">\n",
       "  <thead>\n",
       "    <tr style=\"text-align: right;\">\n",
       "      <th></th>\n",
       "      <th></th>\n",
       "      <th>count_of_calls</th>\n",
       "      <th>duration</th>\n",
       "    </tr>\n",
       "    <tr>\n",
       "      <th>user_id</th>\n",
       "      <th>month</th>\n",
       "      <th></th>\n",
       "      <th></th>\n",
       "    </tr>\n",
       "  </thead>\n",
       "  <tbody>\n",
       "    <tr>\n",
       "      <th rowspan=\"5\" valign=\"top\">1000</th>\n",
       "      <th>5</th>\n",
       "      <td>22</td>\n",
       "      <td>159.0</td>\n",
       "    </tr>\n",
       "    <tr>\n",
       "      <th>6</th>\n",
       "      <td>43</td>\n",
       "      <td>172.0</td>\n",
       "    </tr>\n",
       "    <tr>\n",
       "      <th>7</th>\n",
       "      <td>47</td>\n",
       "      <td>340.0</td>\n",
       "    </tr>\n",
       "    <tr>\n",
       "      <th>8</th>\n",
       "      <td>52</td>\n",
       "      <td>408.0</td>\n",
       "    </tr>\n",
       "    <tr>\n",
       "      <th>9</th>\n",
       "      <td>58</td>\n",
       "      <td>466.0</td>\n",
       "    </tr>\n",
       "    <tr>\n",
       "      <th>...</th>\n",
       "      <th>...</th>\n",
       "      <td>...</td>\n",
       "      <td>...</td>\n",
       "    </tr>\n",
       "    <tr>\n",
       "      <th>1498</th>\n",
       "      <th>10</th>\n",
       "      <td>41</td>\n",
       "      <td>247.0</td>\n",
       "    </tr>\n",
       "    <tr>\n",
       "      <th rowspan=\"4\" valign=\"top\">1499</th>\n",
       "      <th>9</th>\n",
       "      <td>9</td>\n",
       "      <td>70.0</td>\n",
       "    </tr>\n",
       "    <tr>\n",
       "      <th>10</th>\n",
       "      <td>68</td>\n",
       "      <td>449.0</td>\n",
       "    </tr>\n",
       "    <tr>\n",
       "      <th>11</th>\n",
       "      <td>74</td>\n",
       "      <td>612.0</td>\n",
       "    </tr>\n",
       "    <tr>\n",
       "      <th>12</th>\n",
       "      <td>69</td>\n",
       "      <td>492.0</td>\n",
       "    </tr>\n",
       "  </tbody>\n",
       "</table>\n",
       "<p>3174 rows × 2 columns</p>\n",
       "</div>"
      ]
     },
     "execution_count": 7,
     "metadata": {},
     "output_type": "execute_result"
    }
   ],
   "execution_count": 7
  },
  {
   "metadata": {},
   "cell_type": "markdown",
   "source": "## messages.csv"
  },
  {
   "metadata": {
    "ExecuteTime": {
     "end_time": "2025-02-01T09:25:01.042935Z",
     "start_time": "2025-02-01T09:25:01.023033Z"
    }
   },
   "cell_type": "code",
   "source": "messages.info()",
   "outputs": [
    {
     "name": "stdout",
     "output_type": "stream",
     "text": [
      "<class 'pandas.core.frame.DataFrame'>\n",
      "RangeIndex: 123036 entries, 0 to 123035\n",
      "Data columns (total 3 columns):\n",
      " #   Column        Non-Null Count   Dtype \n",
      "---  ------        --------------   ----- \n",
      " 0   id            123036 non-null  object\n",
      " 1   message_date  123036 non-null  object\n",
      " 2   user_id       123036 non-null  int64 \n",
      "dtypes: int64(1), object(2)\n",
      "memory usage: 2.8+ MB\n"
     ]
    }
   ],
   "execution_count": 8
  },
  {
   "metadata": {
    "ExecuteTime": {
     "end_time": "2025-02-01T09:25:01.189390Z",
     "start_time": "2025-02-01T09:25:01.169178Z"
    }
   },
   "cell_type": "code",
   "source": "messages.describe()",
   "outputs": [
    {
     "data": {
      "text/plain": [
       "             user_id\n",
       "count  123036.000000\n",
       "mean     1256.989410\n",
       "std       143.523967\n",
       "min      1000.000000\n",
       "25%      1134.000000\n",
       "50%      1271.000000\n",
       "75%      1381.000000\n",
       "max      1499.000000"
      ],
      "text/html": [
       "<div>\n",
       "<style scoped>\n",
       "    .dataframe tbody tr th:only-of-type {\n",
       "        vertical-align: middle;\n",
       "    }\n",
       "\n",
       "    .dataframe tbody tr th {\n",
       "        vertical-align: top;\n",
       "    }\n",
       "\n",
       "    .dataframe thead th {\n",
       "        text-align: right;\n",
       "    }\n",
       "</style>\n",
       "<table border=\"1\" class=\"dataframe\">\n",
       "  <thead>\n",
       "    <tr style=\"text-align: right;\">\n",
       "      <th></th>\n",
       "      <th>user_id</th>\n",
       "    </tr>\n",
       "  </thead>\n",
       "  <tbody>\n",
       "    <tr>\n",
       "      <th>count</th>\n",
       "      <td>123036.000000</td>\n",
       "    </tr>\n",
       "    <tr>\n",
       "      <th>mean</th>\n",
       "      <td>1256.989410</td>\n",
       "    </tr>\n",
       "    <tr>\n",
       "      <th>std</th>\n",
       "      <td>143.523967</td>\n",
       "    </tr>\n",
       "    <tr>\n",
       "      <th>min</th>\n",
       "      <td>1000.000000</td>\n",
       "    </tr>\n",
       "    <tr>\n",
       "      <th>25%</th>\n",
       "      <td>1134.000000</td>\n",
       "    </tr>\n",
       "    <tr>\n",
       "      <th>50%</th>\n",
       "      <td>1271.000000</td>\n",
       "    </tr>\n",
       "    <tr>\n",
       "      <th>75%</th>\n",
       "      <td>1381.000000</td>\n",
       "    </tr>\n",
       "    <tr>\n",
       "      <th>max</th>\n",
       "      <td>1499.000000</td>\n",
       "    </tr>\n",
       "  </tbody>\n",
       "</table>\n",
       "</div>"
      ]
     },
     "execution_count": 9,
     "metadata": {},
     "output_type": "execute_result"
    }
   ],
   "execution_count": 9
  },
  {
   "metadata": {},
   "cell_type": "markdown",
   "source": "В датасете messages не было обнаружено ошибок или пустых значений. Посчитаем количество отправленных сообщений по месяцам для каждого пользователя.\n"
  },
  {
   "metadata": {
    "ExecuteTime": {
     "end_time": "2025-02-01T09:25:01.369918Z",
     "start_time": "2025-02-01T09:25:01.346641Z"
    }
   },
   "cell_type": "code",
   "source": "messages['message_date'] = pd.to_datetime(messages['message_date'], format='%Y-%m-%d')",
   "outputs": [],
   "execution_count": 10
  },
  {
   "metadata": {
    "ExecuteTime": {
     "end_time": "2025-02-01T09:25:01.509200Z",
     "start_time": "2025-02-01T09:25:01.497359Z"
    }
   },
   "cell_type": "code",
   "source": "messages['month'] = messages['message_date'].dt.month",
   "outputs": [],
   "execution_count": 11
  },
  {
   "metadata": {},
   "cell_type": "markdown",
   "source": "Рассчитано количество отправленных сообщений по месяцам для каждого пользователя."
  },
  {
   "metadata": {
    "ExecuteTime": {
     "end_time": "2025-02-01T09:25:01.806126Z",
     "start_time": "2025-02-01T09:25:01.770576Z"
    }
   },
   "cell_type": "code",
   "source": [
    "messages_by_month = messages.groupby(['user_id', 'month']).agg({'id': 'count'}).rename(columns={'id': 'count_of_messages'})\n",
    "messages_by_month"
   ],
   "outputs": [
    {
     "data": {
      "text/plain": [
       "               count_of_messages\n",
       "user_id month                   \n",
       "1000    5                     22\n",
       "        6                     60\n",
       "        7                     75\n",
       "        8                     81\n",
       "        9                     57\n",
       "...                          ...\n",
       "1498    10                    42\n",
       "1499    9                     11\n",
       "        10                    48\n",
       "        11                    59\n",
       "        12                    66\n",
       "\n",
       "[2717 rows x 1 columns]"
      ],
      "text/html": [
       "<div>\n",
       "<style scoped>\n",
       "    .dataframe tbody tr th:only-of-type {\n",
       "        vertical-align: middle;\n",
       "    }\n",
       "\n",
       "    .dataframe tbody tr th {\n",
       "        vertical-align: top;\n",
       "    }\n",
       "\n",
       "    .dataframe thead th {\n",
       "        text-align: right;\n",
       "    }\n",
       "</style>\n",
       "<table border=\"1\" class=\"dataframe\">\n",
       "  <thead>\n",
       "    <tr style=\"text-align: right;\">\n",
       "      <th></th>\n",
       "      <th></th>\n",
       "      <th>count_of_messages</th>\n",
       "    </tr>\n",
       "    <tr>\n",
       "      <th>user_id</th>\n",
       "      <th>month</th>\n",
       "      <th></th>\n",
       "    </tr>\n",
       "  </thead>\n",
       "  <tbody>\n",
       "    <tr>\n",
       "      <th rowspan=\"5\" valign=\"top\">1000</th>\n",
       "      <th>5</th>\n",
       "      <td>22</td>\n",
       "    </tr>\n",
       "    <tr>\n",
       "      <th>6</th>\n",
       "      <td>60</td>\n",
       "    </tr>\n",
       "    <tr>\n",
       "      <th>7</th>\n",
       "      <td>75</td>\n",
       "    </tr>\n",
       "    <tr>\n",
       "      <th>8</th>\n",
       "      <td>81</td>\n",
       "    </tr>\n",
       "    <tr>\n",
       "      <th>9</th>\n",
       "      <td>57</td>\n",
       "    </tr>\n",
       "    <tr>\n",
       "      <th>...</th>\n",
       "      <th>...</th>\n",
       "      <td>...</td>\n",
       "    </tr>\n",
       "    <tr>\n",
       "      <th>1498</th>\n",
       "      <th>10</th>\n",
       "      <td>42</td>\n",
       "    </tr>\n",
       "    <tr>\n",
       "      <th rowspan=\"4\" valign=\"top\">1499</th>\n",
       "      <th>9</th>\n",
       "      <td>11</td>\n",
       "    </tr>\n",
       "    <tr>\n",
       "      <th>10</th>\n",
       "      <td>48</td>\n",
       "    </tr>\n",
       "    <tr>\n",
       "      <th>11</th>\n",
       "      <td>59</td>\n",
       "    </tr>\n",
       "    <tr>\n",
       "      <th>12</th>\n",
       "      <td>66</td>\n",
       "    </tr>\n",
       "  </tbody>\n",
       "</table>\n",
       "<p>2717 rows × 1 columns</p>\n",
       "</div>"
      ]
     },
     "execution_count": 12,
     "metadata": {},
     "output_type": "execute_result"
    }
   ],
   "execution_count": 12
  },
  {
   "metadata": {},
   "cell_type": "markdown",
   "source": "## internet.csv"
  },
  {
   "metadata": {
    "ExecuteTime": {
     "end_time": "2025-02-01T09:25:01.937818Z",
     "start_time": "2025-02-01T09:25:01.906872Z"
    }
   },
   "cell_type": "code",
   "source": "internet.info()",
   "outputs": [
    {
     "name": "stdout",
     "output_type": "stream",
     "text": [
      "<class 'pandas.core.frame.DataFrame'>\n",
      "RangeIndex: 149396 entries, 0 to 149395\n",
      "Data columns (total 5 columns):\n",
      " #   Column        Non-Null Count   Dtype  \n",
      "---  ------        --------------   -----  \n",
      " 0   Unnamed: 0    149396 non-null  int64  \n",
      " 1   id            149396 non-null  object \n",
      " 2   mb_used       149396 non-null  float64\n",
      " 3   session_date  149396 non-null  object \n",
      " 4   user_id       149396 non-null  int64  \n",
      "dtypes: float64(1), int64(2), object(2)\n",
      "memory usage: 5.7+ MB\n"
     ]
    }
   ],
   "execution_count": 13
  },
  {
   "metadata": {
    "ExecuteTime": {
     "end_time": "2025-02-01T09:25:02.090341Z",
     "start_time": "2025-02-01T09:25:02.059564Z"
    }
   },
   "cell_type": "code",
   "source": "internet.describe()",
   "outputs": [
    {
     "data": {
      "text/plain": [
       "          Unnamed: 0        mb_used        user_id\n",
       "count  149396.000000  149396.000000  149396.000000\n",
       "mean    74697.500000     370.192426    1252.099842\n",
       "std     43127.054745     278.300951     144.050823\n",
       "min         0.000000       0.000000    1000.000000\n",
       "25%     37348.750000     138.187500    1130.000000\n",
       "50%     74697.500000     348.015000    1251.000000\n",
       "75%    112046.250000     559.552500    1380.000000\n",
       "max    149395.000000    1724.830000    1499.000000"
      ],
      "text/html": [
       "<div>\n",
       "<style scoped>\n",
       "    .dataframe tbody tr th:only-of-type {\n",
       "        vertical-align: middle;\n",
       "    }\n",
       "\n",
       "    .dataframe tbody tr th {\n",
       "        vertical-align: top;\n",
       "    }\n",
       "\n",
       "    .dataframe thead th {\n",
       "        text-align: right;\n",
       "    }\n",
       "</style>\n",
       "<table border=\"1\" class=\"dataframe\">\n",
       "  <thead>\n",
       "    <tr style=\"text-align: right;\">\n",
       "      <th></th>\n",
       "      <th>Unnamed: 0</th>\n",
       "      <th>mb_used</th>\n",
       "      <th>user_id</th>\n",
       "    </tr>\n",
       "  </thead>\n",
       "  <tbody>\n",
       "    <tr>\n",
       "      <th>count</th>\n",
       "      <td>149396.000000</td>\n",
       "      <td>149396.000000</td>\n",
       "      <td>149396.000000</td>\n",
       "    </tr>\n",
       "    <tr>\n",
       "      <th>mean</th>\n",
       "      <td>74697.500000</td>\n",
       "      <td>370.192426</td>\n",
       "      <td>1252.099842</td>\n",
       "    </tr>\n",
       "    <tr>\n",
       "      <th>std</th>\n",
       "      <td>43127.054745</td>\n",
       "      <td>278.300951</td>\n",
       "      <td>144.050823</td>\n",
       "    </tr>\n",
       "    <tr>\n",
       "      <th>min</th>\n",
       "      <td>0.000000</td>\n",
       "      <td>0.000000</td>\n",
       "      <td>1000.000000</td>\n",
       "    </tr>\n",
       "    <tr>\n",
       "      <th>25%</th>\n",
       "      <td>37348.750000</td>\n",
       "      <td>138.187500</td>\n",
       "      <td>1130.000000</td>\n",
       "    </tr>\n",
       "    <tr>\n",
       "      <th>50%</th>\n",
       "      <td>74697.500000</td>\n",
       "      <td>348.015000</td>\n",
       "      <td>1251.000000</td>\n",
       "    </tr>\n",
       "    <tr>\n",
       "      <th>75%</th>\n",
       "      <td>112046.250000</td>\n",
       "      <td>559.552500</td>\n",
       "      <td>1380.000000</td>\n",
       "    </tr>\n",
       "    <tr>\n",
       "      <th>max</th>\n",
       "      <td>149395.000000</td>\n",
       "      <td>1724.830000</td>\n",
       "      <td>1499.000000</td>\n",
       "    </tr>\n",
       "  </tbody>\n",
       "</table>\n",
       "</div>"
      ]
     },
     "execution_count": 14,
     "metadata": {},
     "output_type": "execute_result"
    }
   ],
   "execution_count": 14
  },
  {
   "metadata": {
    "ExecuteTime": {
     "end_time": "2025-02-01T09:25:02.270192Z",
     "start_time": "2025-02-01T09:25:02.240695Z"
    }
   },
   "cell_type": "code",
   "source": "internet['session_date'] = pd.to_datetime(internet['session_date'], format='%Y-%m-%d')",
   "outputs": [],
   "execution_count": 15
  },
  {
   "metadata": {
    "ExecuteTime": {
     "end_time": "2025-02-01T09:25:02.381967Z",
     "start_time": "2025-02-01T09:25:02.368687Z"
    }
   },
   "cell_type": "code",
   "source": "internet['month'] = internet['session_date'].dt.month",
   "outputs": [],
   "execution_count": 16
  },
  {
   "metadata": {
    "ExecuteTime": {
     "end_time": "2025-02-01T09:25:02.865390Z",
     "start_time": "2025-02-01T09:25:02.641877Z"
    }
   },
   "cell_type": "code",
   "source": [
    "internet_by_month = internet.groupby(['user_id', 'month']).agg(\n",
    "    {'mb_used': lambda x: np.ceil((x.sum())/1024)}\n",
    ").rename(columns={'mb_used': 'gb_used'})\n",
    "internet_by_month"
   ],
   "outputs": [
    {
     "data": {
      "text/plain": [
       "               gb_used\n",
       "user_id month         \n",
       "1000    5          3.0\n",
       "        6         23.0\n",
       "        7         14.0\n",
       "        8         14.0\n",
       "        9         15.0\n",
       "...                ...\n",
       "1498    10        21.0\n",
       "1499    9          2.0\n",
       "        10        18.0\n",
       "        11        18.0\n",
       "        12        13.0\n",
       "\n",
       "[3203 rows x 1 columns]"
      ],
      "text/html": [
       "<div>\n",
       "<style scoped>\n",
       "    .dataframe tbody tr th:only-of-type {\n",
       "        vertical-align: middle;\n",
       "    }\n",
       "\n",
       "    .dataframe tbody tr th {\n",
       "        vertical-align: top;\n",
       "    }\n",
       "\n",
       "    .dataframe thead th {\n",
       "        text-align: right;\n",
       "    }\n",
       "</style>\n",
       "<table border=\"1\" class=\"dataframe\">\n",
       "  <thead>\n",
       "    <tr style=\"text-align: right;\">\n",
       "      <th></th>\n",
       "      <th></th>\n",
       "      <th>gb_used</th>\n",
       "    </tr>\n",
       "    <tr>\n",
       "      <th>user_id</th>\n",
       "      <th>month</th>\n",
       "      <th></th>\n",
       "    </tr>\n",
       "  </thead>\n",
       "  <tbody>\n",
       "    <tr>\n",
       "      <th rowspan=\"5\" valign=\"top\">1000</th>\n",
       "      <th>5</th>\n",
       "      <td>3.0</td>\n",
       "    </tr>\n",
       "    <tr>\n",
       "      <th>6</th>\n",
       "      <td>23.0</td>\n",
       "    </tr>\n",
       "    <tr>\n",
       "      <th>7</th>\n",
       "      <td>14.0</td>\n",
       "    </tr>\n",
       "    <tr>\n",
       "      <th>8</th>\n",
       "      <td>14.0</td>\n",
       "    </tr>\n",
       "    <tr>\n",
       "      <th>9</th>\n",
       "      <td>15.0</td>\n",
       "    </tr>\n",
       "    <tr>\n",
       "      <th>...</th>\n",
       "      <th>...</th>\n",
       "      <td>...</td>\n",
       "    </tr>\n",
       "    <tr>\n",
       "      <th>1498</th>\n",
       "      <th>10</th>\n",
       "      <td>21.0</td>\n",
       "    </tr>\n",
       "    <tr>\n",
       "      <th rowspan=\"4\" valign=\"top\">1499</th>\n",
       "      <th>9</th>\n",
       "      <td>2.0</td>\n",
       "    </tr>\n",
       "    <tr>\n",
       "      <th>10</th>\n",
       "      <td>18.0</td>\n",
       "    </tr>\n",
       "    <tr>\n",
       "      <th>11</th>\n",
       "      <td>18.0</td>\n",
       "    </tr>\n",
       "    <tr>\n",
       "      <th>12</th>\n",
       "      <td>13.0</td>\n",
       "    </tr>\n",
       "  </tbody>\n",
       "</table>\n",
       "<p>3203 rows × 1 columns</p>\n",
       "</div>"
      ]
     },
     "execution_count": 17,
     "metadata": {},
     "output_type": "execute_result"
    }
   ],
   "execution_count": 17
  },
  {
   "metadata": {},
   "cell_type": "markdown",
   "source": "## Помесячная выручка с каждого пользователя"
  },
  {
   "metadata": {
    "ExecuteTime": {
     "end_time": "2025-02-01T09:26:42.743525Z",
     "start_time": "2025-02-01T09:26:42.708632Z"
    }
   },
   "cell_type": "code",
   "source": [
    "stats_per_user = calls_by_month.join(messages_by_month, on=['user_id', 'month'], how='outer')\n",
    "stats_per_user = stats_per_user.join(internet_by_month, on=['user_id', 'month'], how='outer')\n",
    "#users.set_index('user_id', inplace=True)\n",
    "stats_per_user = stats_per_user.join(users['tariff'], on='user_id', how='left')\n",
    "stats_per_user = stats_per_user.fillna(0)\n",
    "stats_per_user"
   ],
   "outputs": [
    {
     "data": {
      "text/plain": [
       "               count_of_calls  duration  count_of_messages  gb_used tariff\n",
       "user_id month                                                             \n",
       "1000    5                22.0     159.0               22.0      3.0  ultra\n",
       "        6                43.0     172.0               60.0     23.0  ultra\n",
       "        7                47.0     340.0               75.0     14.0  ultra\n",
       "        8                52.0     408.0               81.0     14.0  ultra\n",
       "        9                58.0     466.0               57.0     15.0  ultra\n",
       "...                       ...       ...                ...      ...    ...\n",
       "1498    10               41.0     247.0               42.0     21.0  smart\n",
       "1499    9                 9.0      70.0               11.0      2.0  smart\n",
       "        10               68.0     449.0               48.0     18.0  smart\n",
       "        11               74.0     612.0               59.0     18.0  smart\n",
       "        12               69.0     492.0               66.0     13.0  smart\n",
       "\n",
       "[3214 rows x 5 columns]"
      ],
      "text/html": [
       "<div>\n",
       "<style scoped>\n",
       "    .dataframe tbody tr th:only-of-type {\n",
       "        vertical-align: middle;\n",
       "    }\n",
       "\n",
       "    .dataframe tbody tr th {\n",
       "        vertical-align: top;\n",
       "    }\n",
       "\n",
       "    .dataframe thead th {\n",
       "        text-align: right;\n",
       "    }\n",
       "</style>\n",
       "<table border=\"1\" class=\"dataframe\">\n",
       "  <thead>\n",
       "    <tr style=\"text-align: right;\">\n",
       "      <th></th>\n",
       "      <th></th>\n",
       "      <th>count_of_calls</th>\n",
       "      <th>duration</th>\n",
       "      <th>count_of_messages</th>\n",
       "      <th>gb_used</th>\n",
       "      <th>tariff</th>\n",
       "    </tr>\n",
       "    <tr>\n",
       "      <th>user_id</th>\n",
       "      <th>month</th>\n",
       "      <th></th>\n",
       "      <th></th>\n",
       "      <th></th>\n",
       "      <th></th>\n",
       "      <th></th>\n",
       "    </tr>\n",
       "  </thead>\n",
       "  <tbody>\n",
       "    <tr>\n",
       "      <th rowspan=\"5\" valign=\"top\">1000</th>\n",
       "      <th>5</th>\n",
       "      <td>22.0</td>\n",
       "      <td>159.0</td>\n",
       "      <td>22.0</td>\n",
       "      <td>3.0</td>\n",
       "      <td>ultra</td>\n",
       "    </tr>\n",
       "    <tr>\n",
       "      <th>6</th>\n",
       "      <td>43.0</td>\n",
       "      <td>172.0</td>\n",
       "      <td>60.0</td>\n",
       "      <td>23.0</td>\n",
       "      <td>ultra</td>\n",
       "    </tr>\n",
       "    <tr>\n",
       "      <th>7</th>\n",
       "      <td>47.0</td>\n",
       "      <td>340.0</td>\n",
       "      <td>75.0</td>\n",
       "      <td>14.0</td>\n",
       "      <td>ultra</td>\n",
       "    </tr>\n",
       "    <tr>\n",
       "      <th>8</th>\n",
       "      <td>52.0</td>\n",
       "      <td>408.0</td>\n",
       "      <td>81.0</td>\n",
       "      <td>14.0</td>\n",
       "      <td>ultra</td>\n",
       "    </tr>\n",
       "    <tr>\n",
       "      <th>9</th>\n",
       "      <td>58.0</td>\n",
       "      <td>466.0</td>\n",
       "      <td>57.0</td>\n",
       "      <td>15.0</td>\n",
       "      <td>ultra</td>\n",
       "    </tr>\n",
       "    <tr>\n",
       "      <th>...</th>\n",
       "      <th>...</th>\n",
       "      <td>...</td>\n",
       "      <td>...</td>\n",
       "      <td>...</td>\n",
       "      <td>...</td>\n",
       "      <td>...</td>\n",
       "    </tr>\n",
       "    <tr>\n",
       "      <th>1498</th>\n",
       "      <th>10</th>\n",
       "      <td>41.0</td>\n",
       "      <td>247.0</td>\n",
       "      <td>42.0</td>\n",
       "      <td>21.0</td>\n",
       "      <td>smart</td>\n",
       "    </tr>\n",
       "    <tr>\n",
       "      <th rowspan=\"4\" valign=\"top\">1499</th>\n",
       "      <th>9</th>\n",
       "      <td>9.0</td>\n",
       "      <td>70.0</td>\n",
       "      <td>11.0</td>\n",
       "      <td>2.0</td>\n",
       "      <td>smart</td>\n",
       "    </tr>\n",
       "    <tr>\n",
       "      <th>10</th>\n",
       "      <td>68.0</td>\n",
       "      <td>449.0</td>\n",
       "      <td>48.0</td>\n",
       "      <td>18.0</td>\n",
       "      <td>smart</td>\n",
       "    </tr>\n",
       "    <tr>\n",
       "      <th>11</th>\n",
       "      <td>74.0</td>\n",
       "      <td>612.0</td>\n",
       "      <td>59.0</td>\n",
       "      <td>18.0</td>\n",
       "      <td>smart</td>\n",
       "    </tr>\n",
       "    <tr>\n",
       "      <th>12</th>\n",
       "      <td>69.0</td>\n",
       "      <td>492.0</td>\n",
       "      <td>66.0</td>\n",
       "      <td>13.0</td>\n",
       "      <td>smart</td>\n",
       "    </tr>\n",
       "  </tbody>\n",
       "</table>\n",
       "<p>3214 rows × 5 columns</p>\n",
       "</div>"
      ]
     },
     "execution_count": 25,
     "metadata": {},
     "output_type": "execute_result"
    }
   ],
   "execution_count": 25
  },
  {
   "metadata": {
    "ExecuteTime": {
     "end_time": "2025-02-01T09:26:45.283593Z",
     "start_time": "2025-02-01T09:26:45.275474Z"
    }
   },
   "cell_type": "code",
   "source": [
    "def calculate_total_cost(minutes_used, messages_used, internet_used_mb, tariff):\n",
    "    \"\"\"\n",
    "    Вычисляет итоговую стоимость для пользователя на основе его тарифа и использования услуг.\n",
    "\n",
    "    Параметры:\n",
    "    - minutes_used: количество использованных минут.\n",
    "    - messages_used: количество отправленных сообщений.\n",
    "    - internet_used_mb: количество использованного интернет-трафика (в мегабайтах).\n",
    "    - tariff: тип тарифа ('ultra' или 'smart').\n",
    "\n",
    "    Возвращает:\n",
    "    - total_cost: итоговая стоимость.\n",
    "    \"\"\"\n",
    "\n",
    "    # Определяем параметры тарифов\n",
    "    if tariff == 'ultra':\n",
    "        monthly_fee = 1950  # Абонентская плата\n",
    "        minutes_included = 3000  # Включено минут\n",
    "        messages_included = 1000  # Включено сообщений\n",
    "        internet_included_gb = 30  # Включено интернет-трафика (в мегабайтах)\n",
    "        cost_per_minute = 1  # Стоимость дополнительной минуты\n",
    "        cost_per_message = 1  # Стоимость дополнительного сообщения\n",
    "        cost_per_gb = 150  # Стоимость дополнительного гигабайта\n",
    "    elif tariff == 'smart':\n",
    "        monthly_fee = 550  # Абонентская плата\n",
    "        minutes_included = 500  # Включено минут\n",
    "        messages_included = 50  # Включено сообщений\n",
    "        internet_included_gb = 15  # Включено интернет-трафика (в мегабайтах)\n",
    "        cost_per_minute = 3  # Стоимость дополнительной минуты\n",
    "        cost_per_message = 3  # Стоимость дополнительного сообщения\n",
    "        cost_per_gb = 200  # Стоимость дополнительного гигабайта\n",
    "    else:\n",
    "        raise ValueError(\"Неизвестный тариф. Используйте 'ultra' или 'smart'.\")\n",
    "\n",
    "    # Вычисляем дополнительные минуты, сообщения и интернет-трафик\n",
    "    extra_minutes = max(minutes_used - minutes_included, 0)\n",
    "    extra_messages = max(messages_used - messages_included, 0)\n",
    "    extra_internet_gb = max(internet_used_mb - internet_included_gb, 0)\n",
    "\n",
    "\n",
    "    # Вычисляем итоговую стоимость\n",
    "    total_cost = (\n",
    "            monthly_fee\n",
    "            + extra_minutes * cost_per_minute\n",
    "            + extra_messages * cost_per_message\n",
    "            + extra_internet_gb * cost_per_gb\n",
    "    )\n",
    "\n",
    "    return total_cost"
   ],
   "outputs": [],
   "execution_count": 26
  },
  {
   "metadata": {
    "ExecuteTime": {
     "end_time": "2025-02-01T09:26:46.346007Z",
     "start_time": "2025-02-01T09:26:46.291704Z"
    }
   },
   "cell_type": "code",
   "source": [
    "stats_per_user['total_cost'] = stats_per_user.apply(lambda row: calculate_total_cost(\n",
    "    minutes_used=row['duration'],\n",
    "    messages_used=row['count_of_messages'],\n",
    "    internet_used_mb=row['gb_used'],\n",
    "    tariff=row['tariff']),\n",
    "    axis=1)\n"
   ],
   "outputs": [],
   "execution_count": 27
  },
  {
   "metadata": {
    "ExecuteTime": {
     "end_time": "2025-02-01T09:26:47.446352Z",
     "start_time": "2025-02-01T09:26:47.438153Z"
    }
   },
   "cell_type": "code",
   "source": "stats_per_user.reset_index(inplace=True)",
   "outputs": [],
   "execution_count": 28
  },
  {
   "metadata": {
    "ExecuteTime": {
     "end_time": "2025-02-01T09:26:49.078647Z",
     "start_time": "2025-02-01T09:26:49.064246Z"
    }
   },
   "cell_type": "code",
   "source": "stats_per_user.loc[:,['user_id','month', 'tariff', 'total_cost']]\n",
   "outputs": [
    {
     "data": {
      "text/plain": [
       "      user_id  month tariff  total_cost\n",
       "0        1000      5  ultra      1950.0\n",
       "1        1000      6  ultra      1950.0\n",
       "2        1000      7  ultra      1950.0\n",
       "3        1000      8  ultra      1950.0\n",
       "4        1000      9  ultra      1950.0\n",
       "...       ...    ...    ...         ...\n",
       "3209     1498     10  smart      1750.0\n",
       "3210     1499      9  smart       550.0\n",
       "3211     1499     10  smart      1150.0\n",
       "3212     1499     11  smart      1513.0\n",
       "3213     1499     12  smart       598.0\n",
       "\n",
       "[3214 rows x 4 columns]"
      ],
      "text/html": [
       "<div>\n",
       "<style scoped>\n",
       "    .dataframe tbody tr th:only-of-type {\n",
       "        vertical-align: middle;\n",
       "    }\n",
       "\n",
       "    .dataframe tbody tr th {\n",
       "        vertical-align: top;\n",
       "    }\n",
       "\n",
       "    .dataframe thead th {\n",
       "        text-align: right;\n",
       "    }\n",
       "</style>\n",
       "<table border=\"1\" class=\"dataframe\">\n",
       "  <thead>\n",
       "    <tr style=\"text-align: right;\">\n",
       "      <th></th>\n",
       "      <th>user_id</th>\n",
       "      <th>month</th>\n",
       "      <th>tariff</th>\n",
       "      <th>total_cost</th>\n",
       "    </tr>\n",
       "  </thead>\n",
       "  <tbody>\n",
       "    <tr>\n",
       "      <th>0</th>\n",
       "      <td>1000</td>\n",
       "      <td>5</td>\n",
       "      <td>ultra</td>\n",
       "      <td>1950.0</td>\n",
       "    </tr>\n",
       "    <tr>\n",
       "      <th>1</th>\n",
       "      <td>1000</td>\n",
       "      <td>6</td>\n",
       "      <td>ultra</td>\n",
       "      <td>1950.0</td>\n",
       "    </tr>\n",
       "    <tr>\n",
       "      <th>2</th>\n",
       "      <td>1000</td>\n",
       "      <td>7</td>\n",
       "      <td>ultra</td>\n",
       "      <td>1950.0</td>\n",
       "    </tr>\n",
       "    <tr>\n",
       "      <th>3</th>\n",
       "      <td>1000</td>\n",
       "      <td>8</td>\n",
       "      <td>ultra</td>\n",
       "      <td>1950.0</td>\n",
       "    </tr>\n",
       "    <tr>\n",
       "      <th>4</th>\n",
       "      <td>1000</td>\n",
       "      <td>9</td>\n",
       "      <td>ultra</td>\n",
       "      <td>1950.0</td>\n",
       "    </tr>\n",
       "    <tr>\n",
       "      <th>...</th>\n",
       "      <td>...</td>\n",
       "      <td>...</td>\n",
       "      <td>...</td>\n",
       "      <td>...</td>\n",
       "    </tr>\n",
       "    <tr>\n",
       "      <th>3209</th>\n",
       "      <td>1498</td>\n",
       "      <td>10</td>\n",
       "      <td>smart</td>\n",
       "      <td>1750.0</td>\n",
       "    </tr>\n",
       "    <tr>\n",
       "      <th>3210</th>\n",
       "      <td>1499</td>\n",
       "      <td>9</td>\n",
       "      <td>smart</td>\n",
       "      <td>550.0</td>\n",
       "    </tr>\n",
       "    <tr>\n",
       "      <th>3211</th>\n",
       "      <td>1499</td>\n",
       "      <td>10</td>\n",
       "      <td>smart</td>\n",
       "      <td>1150.0</td>\n",
       "    </tr>\n",
       "    <tr>\n",
       "      <th>3212</th>\n",
       "      <td>1499</td>\n",
       "      <td>11</td>\n",
       "      <td>smart</td>\n",
       "      <td>1513.0</td>\n",
       "    </tr>\n",
       "    <tr>\n",
       "      <th>3213</th>\n",
       "      <td>1499</td>\n",
       "      <td>12</td>\n",
       "      <td>smart</td>\n",
       "      <td>598.0</td>\n",
       "    </tr>\n",
       "  </tbody>\n",
       "</table>\n",
       "<p>3214 rows × 4 columns</p>\n",
       "</div>"
      ]
     },
     "execution_count": 29,
     "metadata": {},
     "output_type": "execute_result"
    }
   ],
   "execution_count": 29
  },
  {
   "metadata": {},
   "cell_type": "markdown",
   "source": "# Анализ данных"
  },
  {
   "metadata": {},
   "cell_type": "markdown",
   "source": "## Анализ звонков по тарифам"
  },
  {
   "metadata": {},
   "cell_type": "markdown",
   "source": "### ultra"
  },
  {
   "metadata": {
    "ExecuteTime": {
     "end_time": "2025-02-01T09:26:54.143645Z",
     "start_time": "2025-02-01T09:26:52.940494Z"
    }
   },
   "cell_type": "code",
   "source": "stats_per_user.loc[stats_per_user['tariff'] == 'ultra', 'duration'].hist(range=(0, 1750), bins=100)",
   "outputs": [
    {
     "data": {
      "text/plain": [
       "<Axes: >"
      ]
     },
     "execution_count": 30,
     "metadata": {},
     "output_type": "execute_result"
    },
    {
     "data": {
      "text/plain": [
       "<Figure size 640x480 with 1 Axes>"
      ],
      "image/png": "[encoded data removed]"
     },
     "metadata": {},
     "output_type": "display_data"
    }
   ],
   "execution_count": 30
  },
  {
   "metadata": {
    "ExecuteTime": {
     "end_time": "2025-02-01T09:26:57.880125Z",
     "start_time": "2025-02-01T09:26:57.869639Z"
    }
   },
   "cell_type": "code",
   "source": "stats_per_user.loc[stats_per_user['tariff'] == 'ultra', 'duration'].describe()",
   "outputs": [
    {
     "data": {
      "text/plain": [
       "count     985.000000\n",
       "mean      526.623350\n",
       "std       317.606098\n",
       "min         0.000000\n",
       "25%       284.000000\n",
       "50%       518.000000\n",
       "75%       752.000000\n",
       "max      1673.000000\n",
       "Name: duration, dtype: float64"
      ]
     },
     "execution_count": 31,
     "metadata": {},
     "output_type": "execute_result"
    }
   ],
   "execution_count": 31
  },
  {
   "metadata": {},
   "cell_type": "code",
   "outputs": [],
   "execution_count": null,
   "source": "stats_per_user.loc[stats_per_user['tariff'] == 'ultra', 'duration']"
  },
  {
   "metadata": {},
   "cell_type": "markdown",
   "source": [
    "У большинства пользователей длительность звонков находится в пределах 284–752 минут.\n",
    "Есть значительное число пользователей, которые либо не используют звонки вовсе, либо используют их в небольшом объеме."
   ]
  },
  {
   "metadata": {},
   "cell_type": "markdown",
   "source": "С точки зрения включенных в пакет минут, можно отметить, что ни один клиент и данной выборки не превысил бесплатный лимит в 3000 минут в месяц."
  },
  {
   "metadata": {},
   "cell_type": "markdown",
   "source": [
    "В итоге, можно заключить, что для тарифа \"Ultra\" характерны короткие и средние по длительности звонки, а долгие звонки встречаются редко.\n",
    "\n"
   ]
  },
  {
   "metadata": {},
   "cell_type": "markdown",
   "source": "### smart"
  },
  {
   "metadata": {
    "ExecuteTime": {
     "end_time": "2025-02-01T09:28:24.475707Z",
     "start_time": "2025-02-01T09:28:24.102074Z"
    }
   },
   "cell_type": "code",
   "source": "stats_per_user.loc[stats_per_user['tariff'] == 'smart', 'duration'].hist(range=(0, 1750), bins=100)",
   "outputs": [
    {
     "data": {
      "text/plain": [
       "<Axes: >"
      ]
     },
     "execution_count": 32,
     "metadata": {},
     "output_type": "execute_result"
    },
    {
     "data": {
      "text/plain": [
       "<Figure size 640x480 with 1 Axes>"
      ],
      "image/png": "[encoded data removed]"
     },
     "metadata": {},
     "output_type": "display_data"
    }
   ],
   "execution_count": 32
  },
  {
   "metadata": {
    "ExecuteTime": {
     "end_time": "2025-02-01T09:28:52.448154Z",
     "start_time": "2025-02-01T09:28:52.428356Z"
    }
   },
   "cell_type": "code",
   "source": "stats_per_user.loc[stats_per_user['tariff'] == 'smart', 'duration'].describe()",
   "outputs": [
    {
     "data": {
      "text/plain": [
       "count    2229.000000\n",
       "mean      417.934948\n",
       "std       190.313730\n",
       "min         0.000000\n",
       "25%       282.000000\n",
       "50%       422.000000\n",
       "75%       545.000000\n",
       "max      1435.000000\n",
       "Name: duration, dtype: float64"
      ]
     },
     "execution_count": 34,
     "metadata": {},
     "output_type": "execute_result"
    }
   ],
   "execution_count": 34
  },
  {
   "metadata": {},
   "cell_type": "markdown",
   "source": "Отклонение длительности звонков от среднего значения составляет примерно 190 единиц времени. Это указывает на меньшее разнообразие длительностей звонков по сравнению с тарифом \"Ultra\"."
  },
  {
   "metadata": {},
   "cell_type": "markdown",
   "source": "Гистограмма показывает, что большинство звонков для тарифа \"Smart\" имеют меньшую длительность. Частота звонков резко снижается по мере увеличения длительности. Основная масса звонков находится в диапазоне до 500 единиц времени, а звонки длительностью более 1000 единиц времени встречаются крайне редко."
  },
  {
   "metadata": {},
   "cell_type": "markdown",
   "source": "В таком случае, можно отметить, что средняя длительность звонков в 418 единиц времени близка к лимиту в 500 минут, что указывает на более интенсивное использование тарифа \"Smart\" пользователями по сравнению с тарифом \"Ultra\". Также видно, что значительная часть звонков находится в диапазоне, который близок к этому лимиту."
  },
  {
   "metadata": {},
   "cell_type": "markdown",
   "source": "## Анализ сообщений"
  },
  {
   "metadata": {},
   "cell_type": "markdown",
   "source": "### ultra"
  },
  {
   "metadata": {
    "ExecuteTime": {
     "end_time": "2025-02-01T11:09:17.910910Z",
     "start_time": "2025-02-01T11:09:17.890604Z"
    }
   },
   "cell_type": "code",
   "source": "stats_per_user.loc[stats_per_user['tariff'] == 'ultra', 'count_of_messages'].describe()",
   "outputs": [
    {
     "data": {
      "text/plain": [
       "count    985.000000\n",
       "mean      49.363452\n",
       "std       47.804457\n",
       "min        0.000000\n",
       "25%        6.000000\n",
       "50%       38.000000\n",
       "75%       79.000000\n",
       "max      224.000000\n",
       "Name: count_of_messages, dtype: float64"
      ]
     },
     "execution_count": 35,
     "metadata": {},
     "output_type": "execute_result"
    }
   ],
   "execution_count": 35
  },
  {
   "metadata": {
    "ExecuteTime": {
     "end_time": "2025-02-01T11:09:47.091622Z",
     "start_time": "2025-02-01T11:09:46.901845Z"
    }
   },
   "cell_type": "code",
   "source": "stats_per_user.loc[stats_per_user['tariff'] == 'ultra', 'count_of_messages'].hist(range=(0, 230), bins=50)",
   "outputs": [
    {
     "data": {
      "text/plain": [
       "<Axes: >"
      ]
     },
     "execution_count": 37,
     "metadata": {},
     "output_type": "execute_result"
    },
    {
     "data": {
      "text/plain": [
       "<Figure size 640x480 with 1 Axes>"
      ],
      "image/png": "[encoded data removed]"
     },
     "metadata": {},
     "output_type": "display_data"
    }
   ],
   "execution_count": 37
  },
  {
   "metadata": {},
   "cell_type": "markdown",
   "source": "Клиенты очень мало пользуются сообщениями. Ни один из клиентов данной выборки не превысил бесплатный лимит в 1000."
  },
  {
   "metadata": {},
   "cell_type": "markdown",
   "source": "### smart"
  },
  {
   "metadata": {
    "ExecuteTime": {
     "end_time": "2025-02-01T11:16:37.979266Z",
     "start_time": "2025-02-01T11:16:37.969964Z"
    }
   },
   "cell_type": "code",
   "source": "stats_per_user.loc[stats_per_user['tariff'] == 'smart', 'count_of_messages'].describe()\n",
   "outputs": [
    {
     "data": {
      "text/plain": [
       "count    2229.000000\n",
       "mean       33.384029\n",
       "std        28.227876\n",
       "min         0.000000\n",
       "25%        10.000000\n",
       "50%        28.000000\n",
       "75%        51.000000\n",
       "max       143.000000\n",
       "Name: count_of_messages, dtype: float64"
      ]
     },
     "execution_count": 38,
     "metadata": {},
     "output_type": "execute_result"
    }
   ],
   "execution_count": 38
  },
  {
   "metadata": {
    "ExecuteTime": {
     "end_time": "2025-02-01T11:17:03.369868Z",
     "start_time": "2025-02-01T11:17:03.139664Z"
    }
   },
   "cell_type": "code",
   "source": "stats_per_user.loc[stats_per_user['tariff'] == 'smart', 'count_of_messages'].hist(range=(0, 230), bins=50)\n",
   "outputs": [
    {
     "data": {
      "text/plain": [
       "<Axes: >"
      ]
     },
     "execution_count": 39,
     "metadata": {},
     "output_type": "execute_result"
    },
    {
     "data": {
      "text/plain": [
       "<Figure size 640x480 with 1 Axes>"
      ],
      "image/png": "[encoded data removed]"
     },
     "metadata": {},
     "output_type": "display_data"
    }
   ],
   "execution_count": 39
  },
  {
   "metadata": {},
   "cell_type": "markdown",
   "source": "Около 25% клиентов из выборки тарифа смарт не укладываются в бесплатный лимит 50 сообщений. Выборка скошена влево."
  },
  {
   "metadata": {},
   "cell_type": "markdown",
   "source": "## Анализ интернета\n"
  },
  {
   "metadata": {},
   "cell_type": "markdown",
   "source": "### ultra"
  },
  {
   "metadata": {
    "ExecuteTime": {
     "end_time": "2025-02-01T11:35:49.820189Z",
     "start_time": "2025-02-01T11:35:49.805126Z"
    }
   },
   "cell_type": "code",
   "source": "stats_per_user.loc[stats_per_user['tariff'] == 'ultra', 'gb_used'].describe()\n",
   "outputs": [
    {
     "data": {
      "text/plain": [
       "count    985.000000\n",
       "mean      19.494416\n",
       "std        9.853511\n",
       "min        0.000000\n",
       "25%       12.000000\n",
       "50%       19.000000\n",
       "75%       27.000000\n",
       "max       49.000000\n",
       "Name: gb_used, dtype: float64"
      ]
     },
     "execution_count": 40,
     "metadata": {},
     "output_type": "execute_result"
    }
   ],
   "execution_count": 40
  },
  {
   "metadata": {
    "ExecuteTime": {
     "end_time": "2025-02-01T11:36:17.579340Z",
     "start_time": "2025-02-01T11:36:17.371648Z"
    }
   },
   "cell_type": "code",
   "source": "stats_per_user.loc[stats_per_user['tariff'] == 'ultra', 'count_of_messages'].hist(range=(0, 55), bins=50)\n",
   "outputs": [
    {
     "data": {
      "text/plain": [
       "<Axes: >"
      ]
     },
     "execution_count": 41,
     "metadata": {},
     "output_type": "execute_result"
    },
    {
     "data": {
      "text/plain": [
       "<Figure size 640x480 with 1 Axes>"
      ],
      "image/png": "[encoded data removed]"
     },
     "metadata": {},
     "output_type": "display_data"
    }
   ],
   "execution_count": 41
  },
  {
   "metadata": {},
   "cell_type": "markdown",
   "source": "### smart"
  },
  {
   "metadata": {
    "ExecuteTime": {
     "end_time": "2025-02-01T11:38:21.901716Z",
     "start_time": "2025-02-01T11:38:21.889057Z"
    }
   },
   "cell_type": "code",
   "source": "stats_per_user.loc[stats_per_user['tariff'] == 'smart', 'count_of_messages'].describe()",
   "outputs": [
    {
     "data": {
      "text/plain": [
       "count    2229.000000\n",
       "mean       33.384029\n",
       "std        28.227876\n",
       "min         0.000000\n",
       "25%        10.000000\n",
       "50%        28.000000\n",
       "75%        51.000000\n",
       "max       143.000000\n",
       "Name: count_of_messages, dtype: float64"
      ]
     },
     "execution_count": 44,
     "metadata": {},
     "output_type": "execute_result"
    }
   ],
   "execution_count": 44
  },
  {
   "metadata": {
    "ExecuteTime": {
     "end_time": "2025-02-01T11:39:18.270924Z",
     "start_time": "2025-02-01T11:39:18.019594Z"
    }
   },
   "cell_type": "code",
   "source": "stats_per_user.loc[stats_per_user['tariff'] == 'ultra', 'count_of_messages'].hist(range=(0,145), bins=50)\n",
   "outputs": [
    {
     "data": {
      "text/plain": [
       "<Axes: >"
      ]
     },
     "execution_count": 45,
     "metadata": {},
     "output_type": "execute_result"
    },
    {
     "data": {
      "text/plain": [
       "<Figure size 640x480 with 1 Axes>"
      ],
      "image/png": "[encoded data removed]"
     },
     "metadata": {},
     "output_type": "display_data"
    }
   ],
   "execution_count": 45
  },
  {
   "metadata": {},
   "cell_type": "markdown",
   "source": "##"
  },
  {
   "metadata": {
    "ExecuteTime": {
     "end_time": "2025-02-01T11:42:51.359910Z",
     "start_time": "2025-02-01T11:42:51.348159Z"
    }
   },
   "cell_type": "code",
   "source": "stats_per_user.loc[:,'total_cost'].describe()\n",
   "outputs": [
    {
     "data": {
      "text/plain": [
       "count    3214.000000\n",
       "mean     1529.076229\n",
       "std       798.251091\n",
       "min       550.000000\n",
       "25%       750.000000\n",
       "50%      1653.500000\n",
       "75%      1950.000000\n",
       "max      6770.000000\n",
       "Name: total_cost, dtype: float64"
      ]
     },
     "execution_count": 47,
     "metadata": {},
     "output_type": "execute_result"
    }
   ],
   "execution_count": 47
  },
  {
   "metadata": {
    "ExecuteTime": {
     "end_time": "2025-02-01T13:08:07.885301Z",
     "start_time": "2025-02-01T13:08:06.944490Z"
    }
   },
   "cell_type": "code",
   "source": [
    "plt.hist(x=(stats_per_user.loc[stats_per_user['tariff'] == 'ultra','total_cost']), bins=150, color='red', range=(400,6770))\n",
    "plt.hist(x=(stats_per_user.loc[stats_per_user['tariff'] == 'smart','total_cost']), bins=150, color='green', range=(400,6770), alpha=0.3)\n",
    "plt.show();\n"
   ],
   "outputs": [
    {
     "data": {
      "text/plain": [
       "<Figure size 640x480 with 1 Axes>"
      ],
      "image/png": "[encoded data removed]"
     },
     "metadata": {},
     "output_type": "display_data"
    }
   ],
   "execution_count": 61
  },
  {
   "metadata": {
    "ExecuteTime": {
     "end_time": "2025-02-01T13:09:13.828082Z",
     "start_time": "2025-02-01T13:09:13.819682Z"
    }
   },
   "cell_type": "code",
   "source": "stats_per_user.loc[stats_per_user['tariff'] == 'ultra','total_cost'].sum()",
   "outputs": [
    {
     "data": {
      "text/plain": [
       "2039100.0"
      ]
     },
     "metadata": {},
     "output_type": "display_data"
    }
   ],
   "execution_count": 62
  },
  {
   "metadata": {
    "ExecuteTime": {
     "end_time": "2025-02-01T13:09:27.386890Z",
     "start_time": "2025-02-01T13:09:27.375596Z"
    }
   },
   "cell_type": "code",
   "source": "stats_per_user.loc[stats_per_user['tariff'] == 'smart','total_cost'].sum()",
   "outputs": [
    {
     "data": {
      "text/plain": [
       "2875351.0"
      ]
     },
     "execution_count": 63,
     "metadata": {},
     "output_type": "execute_result"
    }
   ],
   "execution_count": 63
  },
  {
   "metadata": {
    "ExecuteTime": {
     "end_time": "2025-02-01T13:11:18.717613Z",
     "start_time": "2025-02-01T13:11:18.706812Z"
    }
   },
   "cell_type": "code",
   "source": "users.groupby('tariff').agg({'tariff': 'count'})",
   "outputs": [
    {
     "data": {
      "text/plain": [
       "        tariff\n",
       "tariff        \n",
       "smart      351\n",
       "ultra      149"
      ],
      "text/html": [
       "<div>\n",
       "<style scoped>\n",
       "    .dataframe tbody tr th:only-of-type {\n",
       "        vertical-align: middle;\n",
       "    }\n",
       "\n",
       "    .dataframe tbody tr th {\n",
       "        vertical-align: top;\n",
       "    }\n",
       "\n",
       "    .dataframe thead th {\n",
       "        text-align: right;\n",
       "    }\n",
       "</style>\n",
       "<table border=\"1\" class=\"dataframe\">\n",
       "  <thead>\n",
       "    <tr style=\"text-align: right;\">\n",
       "      <th></th>\n",
       "      <th>tariff</th>\n",
       "    </tr>\n",
       "    <tr>\n",
       "      <th>tariff</th>\n",
       "      <th></th>\n",
       "    </tr>\n",
       "  </thead>\n",
       "  <tbody>\n",
       "    <tr>\n",
       "      <th>smart</th>\n",
       "      <td>351</td>\n",
       "    </tr>\n",
       "    <tr>\n",
       "      <th>ultra</th>\n",
       "      <td>149</td>\n",
       "    </tr>\n",
       "  </tbody>\n",
       "</table>\n",
       "</div>"
      ]
     },
     "execution_count": 65,
     "metadata": {},
     "output_type": "execute_result"
    }
   ],
   "execution_count": 65
  },
  {
   "metadata": {},
   "cell_type": "markdown",
   "source": "# Проверка гипотез"
  },
  {
   "metadata": {},
   "cell_type": "markdown",
   "source": [
    "### Гипотеза 1: Средняя выручка пользователей тарифов «Ультра» и «Смарт» различается\n",
    "\n",
    "- **Нулевая гипотеза (H₀)**: Средняя выручка пользователей тарифов «Ультра» и «Смарт» одинакова.\n",
    "  $$\n",
    "  H₀: \\mu_{\\text{Ультра}} = \\mu_{\\text{Смарт}}\n",
    "  $$\n",
    "- **Альтернативная гипотеза (H₁)**: Средняя выручка пользователей тарифов «Ультра» и «Смарт» различается.\n",
    "  $$\n",
    "  H₁: \\mu_{\\text{Ультра}} \\neq \\mu_{\\text{Смарт}}\n",
    "  $$\n",
    "\n",
    "\n"
   ]
  },
  {
   "metadata": {
    "ExecuteTime": {
     "end_time": "2025-02-01T13:27:14.942487Z",
     "start_time": "2025-02-01T13:27:14.906379Z"
    }
   },
   "cell_type": "code",
   "source": [
    "# Разделение данных на две группы по тарифам\n",
    "ultra = stats_per_user[stats_per_user['tariff'] == 'ultra']['total_cost']\n",
    "smart = stats_per_user[stats_per_user['tariff'] == 'smart']['total_cost']\n",
    "\n",
    "# Проверка нормальности распределения\n",
    "ultra_normality = st.shapiro(ultra)\n",
    "smart_normality = st.shapiro(smart)\n",
    "\n",
    "print(f\"Нормальность распределения для Ultra: {ultra_normality}\")\n",
    "print(f\"Нормальность распределения для Smart: {smart_normality}\")\n",
    "\n",
    "# Если данные распределены нормально, используем t-тест\n",
    "if ultra_normality.pvalue > 0.05 and smart_normality.pvalue > 0.05:\n",
    "    t_stat, p_value = st.ttest_ind(ultra, smart)\n",
    "    print(f\"T-статистика: {t_stat}, P-значение: {p_value}\")\n",
    "else:\n",
    "    # Если данные не распределены нормально, используем тест Манна-Уитни\n",
    "    u_stat, p_value = st.mannwhitneyu(ultra, smart)\n",
    "    print(f\"U-статистика: {u_stat}, P-значение: {p_value}\")\n",
    "\n",
    "# Принятие решения на основе p-value\n",
    "alpha = 0.05\n",
    "if p_value < alpha:\n",
    "    print(\"Отвергаем нулевую гипотезу: средняя выручка различается.\")\n",
    "else:\n",
    "    print(\"Не отвергаем нулевую гипотезу: средняя выручка не различается.\")"
   ],
   "outputs": [
    {
     "name": "stdout",
     "output_type": "stream",
     "text": [
      "Нормальность распределения для Ultra: ShapiroResult(statistic=0.36734445463678367, pvalue=8.752860960262385e-50)\n",
      "Нормальность распределения для Smart: ShapiroResult(statistic=0.8417349182282018, pvalue=1.5154174186526447e-42)\n",
      "U-статистика: 1796019.0, P-значение: 1.9803845594554806e-187\n",
      "Отвергаем нулевую гипотезу: средняя выручка различается.\n"
     ]
    }
   ],
   "execution_count": 68
  },
  {
   "metadata": {},
   "cell_type": "markdown",
   "source": [
    "### Гипотеза 2: Средняя выручка пользователей из Москвы отличается от выручки пользователей из других регионов\n",
    "\n",
    "- **Нулевая гипотеза (H₀)**: Средняя выручка пользователей из Москвы и других регионов одинакова.\n",
    "  $$\n",
    "  H₀: \\mu_{\\text{Москва}} = \\mu_{\\text{Другие регионы}}\n",
    "  $$\n",
    "\n",
    "- **Альтернативная гипотеза (H₁)**: Средняя выручка пользователей из Москвы отличается от выручки пользователей из других регионов.\n",
    "  $$\n",
    "  H₁: \\mu_{\\text{Москва}} \\neq \\mu_{\\text{Другие регионы}}\n",
    "  $$"
   ]
  },
  {
   "metadata": {
    "ExecuteTime": {
     "end_time": "2025-02-01T13:32:15.233498Z",
     "start_time": "2025-02-01T13:32:15.223438Z"
    }
   },
   "cell_type": "code",
   "source": "stats_per_user = stats_per_user.join(users['city'], on='user_id', how='left')",
   "outputs": [],
   "execution_count": 69
  },
  {
   "metadata": {
    "ExecuteTime": {
     "end_time": "2025-02-01T13:32:42.184001Z",
     "start_time": "2025-02-01T13:32:42.169164Z"
    }
   },
   "cell_type": "code",
   "source": [
    "# Разделение данных на две группы по региону\n",
    "moscow = stats_per_user[stats_per_user['city'] == 'Москва']['total_cost']\n",
    "other_regions = stats_per_user[stats_per_user['city'] != 'Москва']['total_cost']\n",
    "\n",
    "# Проверка нормальности распределения\n",
    "moscow_normality = st.shapiro(moscow)\n",
    "other_regions_normality = st.shapiro(other_regions)\n",
    "\n",
    "print(f\"Нормальность распределения для Москвы: {moscow_normality}\")\n",
    "print(f\"Нормальность распределения для других регионов: {other_regions_normality}\")\n",
    "\n",
    "# Если данные распределены нормально, используем t-тест\n",
    "if moscow_normality.pvalue > 0.05 and other_regions_normality.pvalue > 0.05:\n",
    "    t_stat, p_value = st.ttest_ind(moscow, other_regions)\n",
    "    print(f\"T-статистика: {t_stat}, P-значение: {p_value}\")\n",
    "else:\n",
    "    # Если данные не распределены нормально, используем тест Манна-Уитни\n",
    "    u_stat, p_value = st.mannwhitneyu(moscow, other_regions)\n",
    "    print(f\"U-статистика: {u_stat}, P-значение: {p_value}\")\n",
    "\n",
    "# Принятие решения на основе p-value\n",
    "alpha = 0.05\n",
    "if p_value < alpha:\n",
    "    print(\"Отвергаем нулевую гипотезу: средняя выручка различается.\")\n",
    "else:\n",
    "    print(\"Не отвергаем нулевую гипотезу: средняя выручка не различается.\")"
   ],
   "outputs": [
    {
     "name": "stdout",
     "output_type": "stream",
     "text": [
      "Нормальность распределения для Москвы: ShapiroResult(statistic=0.9005868141557931, pvalue=1.7526395808754178e-19)\n",
      "Нормальность распределения для других регионов: ShapiroResult(statistic=0.8948256491863257, pvalue=5.544509053822331e-39)\n",
      "U-статистика: 813301.5, P-значение: 0.37423394910366004\n",
      "Не отвергаем нулевую гипотезу: средняя выручка не различается.\n"
     ]
    }
   ],
   "execution_count": 70
  },
  {
   "metadata": {
    "ExecuteTime": {
     "end_time": "2025-02-01T13:52:31.995116Z",
     "start_time": "2025-02-01T13:52:31.977968Z"
    }
   },
   "cell_type": "code",
   "source": "stats_per_user.info()",
   "outputs": [
    {
     "name": "stdout",
     "output_type": "stream",
     "text": [
      "<class 'pandas.core.frame.DataFrame'>\n",
      "RangeIndex: 3214 entries, 0 to 3213\n",
      "Data columns (total 9 columns):\n",
      " #   Column             Non-Null Count  Dtype  \n",
      "---  ------             --------------  -----  \n",
      " 0   user_id            3214 non-null   int64  \n",
      " 1   month              3214 non-null   int32  \n",
      " 2   count_of_calls     3214 non-null   float64\n",
      " 3   duration           3214 non-null   float64\n",
      " 4   count_of_messages  3214 non-null   float64\n",
      " 5   gb_used            3214 non-null   float64\n",
      " 6   tariff             3214 non-null   object \n",
      " 7   total_cost         3214 non-null   float64\n",
      " 8   city               3214 non-null   object \n",
      "dtypes: float64(5), int32(1), int64(1), object(2)\n",
      "memory usage: 213.6+ KB\n"
     ]
    }
   ],
   "execution_count": 71
  },
  {
   "metadata": {},
   "cell_type": "markdown",
   "source": [
    "### Выбор критерия для проверки гипотез\n",
    "\n",
    "Для проверки этих гипотез можно использовать **двухвыборочный t-тест** (t-test для независимых выборок). Этот критерий подходит, потому что:\n",
    "\n",
    "1. **Сравнение средних значений**: t-тест используется для сравнения средних значений двух независимых выборок.\n",
    "2. **Нормальность распределения**: Предполагается, что данные распределены нормально или объем выборок достаточно большой для применения центральной предельной теоремы.\n",
    "3. **Однородность дисперсий**: Если дисперсии в группах различаются, можно использовать модификацию t-теста (например, тест Уэлча)."
   ]
  },
  {
   "metadata": {},
   "cell_type": "markdown",
   "source": "# Общий вывод\n"
  },
  {
   "metadata": {},
   "cell_type": "markdown",
   "source": "На основе проведенного анализа данных о пользователях тарифов «Ультра» и «Смарт», а также их выручке, можно сделать следующие выводы:\n"
  },
  {
   "metadata": {
    "ExecuteTime": {
     "end_time": "2025-02-01T13:57:53.325402Z",
     "start_time": "2025-02-01T13:57:53.305115Z"
    }
   },
   "cell_type": "code",
   "source": "stats_per_user.groupby('tariff')['total_cost'].mean()",
   "outputs": [
    {
     "data": {
      "text/plain": [
       "tariff\n",
       "smart    1289.973531\n",
       "ultra    2070.152284\n",
       "Name: total_cost, dtype: float64"
      ]
     },
     "execution_count": 72,
     "metadata": {},
     "output_type": "execute_result"
    }
   ],
   "execution_count": 72
  },
  {
   "metadata": {},
   "cell_type": "markdown",
   "source": [
    "### 1. Сравнение выручки по тарифам\n",
    "- Средняя выручка пользователей тарифа «Ультра» составила **2070 рублей**, а тарифа «Смарт» — **1290 рублей**.\n",
    "- На основе проведенного двухвыборочного t-теста (или теста Манна-Уитни, если данные не нормально распределены) было установлено, что разница в выручке между тарифами **статистически значима** (p-value < 0.05). Это означает, что пользователи тарифа «Ультра» приносят больше выручки, чем пользователи тарифа «Смарт»."
   ]
  },
  {
   "metadata": {
    "ExecuteTime": {
     "end_time": "2025-02-01T14:03:13.710707Z",
     "start_time": "2025-02-01T14:03:13.698850Z"
    }
   },
   "cell_type": "code",
   "source": "display(moscow.mean(), other_regions.mean())",
   "outputs": [
    {
     "data": {
      "text/plain": [
       "1546.7135842880523"
      ]
     },
     "metadata": {},
     "output_type": "display_data"
    },
    {
     "data": {
      "text/plain": [
       "1524.9362274298885"
      ]
     },
     "metadata": {},
     "output_type": "display_data"
    }
   ],
   "execution_count": 77
  },
  {
   "metadata": {},
   "cell_type": "markdown",
   "source": [
    "### 2. Сравнение выручки по регионам\n",
    "- Средняя выручка пользователей из Москвы составила **1547 рублей**, а из других регионов — **1525 рублей**.\n",
    "- Проверка гипотезы с использованием двухвыборочного t-теста (или теста Манна-Уитни) показала, что разница в выручке между Москвой и другими регионами **не является статистически значимой** (p-value > 0.05). Это означает, что географическое расположение пользователей не оказывает существенного влияния на выручку."
   ]
  },
  {
   "metadata": {},
   "cell_type": "markdown",
   "source": [
    "### 3. Рекомендации\n",
    "- **Для тарифа «Ультра»**: Учитывая более высокую выручку, можно рассмотреть возможность увеличения маркетинговых усилий для привлечения большего числа пользователей на этот тариф.\n",
    "- **Для тарифа «Смарт»**: Возможно, стоит пересмотреть условия тарифа или предложить дополнительные услуги для увеличения выручки.\n",
    "- **Для регионов**: Поскольку выручка в Москве и других регионах не отличается значительно, можно сосредоточиться на равномерном развитии услуг по всем регионам."
   ]
  },
  {
   "metadata": {},
   "cell_type": "code",
   "outputs": [],
   "execution_count": null,
   "source": ""
  }
 ],
 "metadata": {
  "kernelspec": {
   "display_name": "Python 3 (ipykernel)",
   "language": "python",
   "name": "python3"
  },
  "language_info": {
   "codemirror_mode": {
    "name": "ipython",
    "version": 3
   },
   "file_extension": ".py",
   "mimetype": "text/x-python",
   "name": "python",
   "nbconvert_exporter": "python",
   "pygments_lexer": "ipython3",
   "version": "3.9.5"
  },
  "toc": {
   "base_numbering": 1,
   "nav_menu": {},
   "number_sections": true,
   "sideBar": true,
   "skip_h1_title": true,
   "title_cell": "Table of Contents",
   "title_sidebar": "Contents",
   "toc_cell": false,
   "toc_position": {},
   "toc_section_display": true,
   "toc_window_display": false
  }
 },
 "nbformat": 4,
 "nbformat_minor": 2
}
