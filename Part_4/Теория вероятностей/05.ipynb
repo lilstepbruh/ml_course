{
 "cells": [
  {
   "metadata": {},
   "cell_type": "markdown",
   "source": [
    "В переменной spot_matrix хранится матрица с вероятностным пространством «сумма количества пятен двух питонов, у которых с равной вероятностью могут появиться от 5 до 10 пятен».\n",
    "Составьте словарь spot_probs с распределением вероятностей для этой случайной величины. Ключами в словаре должны быть целые числа — возможные исходы эксперимента (тип int), значениями — вероятности исходов типа float. Выведите значение переменной spot_probs на экран."
   ],
   "id": "4b0c5ac8da38ebf7"
  },
  {
   "cell_type": "code",
   "id": "initial_id",
   "metadata": {
    "collapsed": true,
    "tags": [],
    "ExecuteTime": {
     "end_time": "2025-01-13T12:25:42.075892Z",
     "start_time": "2025-01-13T12:25:39.569236Z"
    }
   },
   "source": [
    "import numpy as np\n",
    "\n",
    "spot_matrix = np.array(\n",
    "    [\n",
    "        [10, 11, 12, 13, 14, 15],\n",
    "        [11, 12, 13, 14, 15, 16],\n",
    "        [12, 13, 14, 15, 16, 17],\n",
    "        [13, 14, 15, 16, 17, 18],\n",
    "        [14, 15, 16, 17, 18, 19],\n",
    "        [15, 16, 17, 18, 19, 20],\n",
    "    ]\n",
    ")"
   ],
   "outputs": [],
   "execution_count": 2
  },
  {
   "metadata": {
    "ExecuteTime": {
     "end_time": "2025-01-13T12:25:42.611448Z",
     "start_time": "2025-01-13T12:25:42.599004Z"
    }
   },
   "cell_type": "code",
   "source": [
    "spot_counts = { }\n",
    "\n",
    "for i in range(len(spot_matrix)):\n",
    "    for j in range(len(spot_matrix[i])):\n",
    "        if spot_matrix[i][j] not in spot_counts:\n",
    "            spot_counts[spot_matrix[i][j]] = 1\n",
    "        else:\n",
    "            spot_counts[spot_matrix[i][j]] += 1\n",
    "\n",
    "spot_probs = {i: spot_counts[i]/36 for i in spot_counts }\n",
    "print(spot_probs)\n"
   ],
   "id": "76b67a428d9c9d1c",
   "outputs": [
    {
     "name": "stdout",
     "output_type": "stream",
     "text": [
      "{10: 0.027777777777777776, 11: 0.05555555555555555, 12: 0.08333333333333333, 13: 0.1111111111111111, 14: 0.1388888888888889, 15: 0.16666666666666666, 16: 0.1388888888888889, 17: 0.1111111111111111, 18: 0.08333333333333333, 19: 0.05555555555555555, 20: 0.027777777777777776}\n"
     ]
    }
   ],
   "execution_count": 3
  },
  {
   "metadata": {},
   "cell_type": "markdown",
   "source": "Проверьте, что сумма вероятностей всех возможных исходов равна единице. Округлите результат и запишите в переменную sum_probs_one. Выведите её на экран. Не удаляйте вывод spot_probs из предыдущего задания.",
   "id": "a1539b345f7d1186"
  },
  {
   "metadata": {
    "ExecuteTime": {
     "end_time": "2025-01-13T12:30:14.468583Z",
     "start_time": "2025-01-13T12:30:14.459280Z"
    }
   },
   "cell_type": "code",
   "source": "print(sum(spot_probs.values()))",
   "id": "2abf3b1ebdd46e7",
   "outputs": [
    {
     "name": "stdout",
     "output_type": "stream",
     "text": [
      "1.0\n"
     ]
    }
   ],
   "execution_count": 6
  }
 ],
 "metadata": {
  "kernelspec": {
   "display_name": "Python 3",
   "language": "python",
   "name": "python3"
  },
  "language_info": {
   "codemirror_mode": {
    "name": "ipython",
    "version": 2
   },
   "file_extension": ".py",
   "mimetype": "text/x-python",
   "name": "python",
   "nbconvert_exporter": "python",
   "pygments_lexer": "ipython2",
   "version": "2.7.6"
  }
 },
 "nbformat": 4,
 "nbformat_minor": 5
}
