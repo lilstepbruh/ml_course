{
 "cells": [
  {
   "metadata": {
    "ExecuteTime": {
     "end_time": "2025-01-13T12:11:58.577095Z",
     "start_time": "2025-01-13T12:11:58.568843Z"
    }
   },
   "cell_type": "code",
   "source": "import random",
   "id": "6af550193b99be87",
   "outputs": [],
   "execution_count": 3
  },
  {
   "metadata": {
    "ExecuteTime": {
     "end_time": "2025-01-13T12:11:58.624177Z",
     "start_time": "2025-01-13T12:11:58.613225Z"
    }
   },
   "cell_type": "code",
   "source": [
    "random.seed(1111)  # метод seed() задаёт степень случайности, не меняйте её\n",
    "\n",
    "def calculate_p(N):\n",
    "    cnt_21_40 = 0\n",
    "    for i in range(N):\n",
    "        random_integer =  random.randint(1, 100)\n",
    "        if 21<=random_integer<=40:\n",
    "            cnt_21_40 += 1\n",
    "    return cnt_21_40/N\n"
   ],
   "id": "e951dafd4327d483",
   "outputs": [],
   "execution_count": 4
  },
  {
   "metadata": {
    "ExecuteTime": {
     "end_time": "2025-01-13T12:11:58.676940Z",
     "start_time": "2025-01-13T12:11:58.647799Z"
    }
   },
   "cell_type": "code",
   "source": [
    "p_20 = calculate_p(20)\n",
    "p_400 = calculate_p(400)\n",
    "p_10000 = calculate_p(10000)"
   ],
   "id": "3373943457dc5e82",
   "outputs": [],
   "execution_count": 5
  }
 ],
 "metadata": {
  "kernelspec": {
   "display_name": "Python 3",
   "language": "python",
   "name": "python3"
  },
  "language_info": {
   "codemirror_mode": {
    "name": "ipython",
    "version": 2
   },
   "file_extension": ".py",
   "mimetype": "text/x-python",
   "name": "python",
   "nbconvert_exporter": "python",
   "pygments_lexer": "ipython2",
   "version": "2.7.6"
  }
 },
 "nbformat": 4,
 "nbformat_minor": 5
}
