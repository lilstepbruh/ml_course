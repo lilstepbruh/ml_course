{
 "cells": [
  {
   "metadata": {},
   "cell_type": "markdown",
   "source": "В переменной x_probs в виде словаря задано распределение вероятностей случайной величины X — апрельской температуры в городе N. Найдите её математическое ожидание и дисперсию. Сохраните результаты в переменных expectation(англ. «ожидание») и variance (англ. «разброс»). Выведите их на экран.",
   "id": "168ae5610898dc0e"
  },
  {
   "cell_type": "code",
   "id": "initial_id",
   "metadata": {
    "collapsed": true,
    "ExecuteTime": {
     "end_time": "2025-01-13T13:04:53.044733Z",
     "start_time": "2025-01-13T13:04:53.032548Z"
    }
   },
   "source": [
    "import time\n",
    "import numpy as np\n",
    "\n",
    "x_probs = {\n",
    "'-4': 0.05,\n",
    "'-2': 0.25,\n",
    "'0': 0.1,\n",
    "'1': 0.1,\n",
    "'5': 0.1,\n",
    "'7': 0.05,\n",
    "'15': 0.35,\n",
    "}\n",
    "\n",
    "expectation = 0\n",
    "for i,val in x_probs.items():\n",
    "    expectation += int(i) * val\n",
    "\n",
    "print(expectation)"
   ],
   "outputs": [
    {
     "name": "stdout",
     "output_type": "stream",
     "text": [
      "5.5\n"
     ]
    }
   ],
   "execution_count": 20
  },
  {
   "metadata": {
    "ExecuteTime": {
     "end_time": "2025-01-13T13:05:00.363659Z",
     "start_time": "2025-01-13T13:05:00.354904Z"
    }
   },
   "cell_type": "code",
   "source": [
    "variance = 0\n",
    "expectation_x2 = 0\n",
    "for i,val in x_probs.items():\n",
    "    expectation_x2 += int(i)**2 * val\n",
    "\n",
    "variance = expectation_x2 - expectation**2"
   ],
   "id": "471bc144872762b5",
   "outputs": [],
   "execution_count": 21
  },
  {
   "metadata": {
    "ExecuteTime": {
     "end_time": "2025-01-13T13:06:00.003501Z",
     "start_time": "2025-01-13T13:05:59.994204Z"
    }
   },
   "cell_type": "code",
   "source": [
    "print('Математическое ожидание равно', expectation)\n",
    "print('Дисперсия равна', variance)"
   ],
   "id": "60fa0339386aee72",
   "outputs": [
    {
     "name": "stdout",
     "output_type": "stream",
     "text": [
      "Математическое ожидание равно 5.5\n",
      "Дисперсия равна 55.349999999999994\n"
     ]
    }
   ],
   "execution_count": 22
  },
  {
   "metadata": {},
   "cell_type": "markdown",
   "source": "",
   "id": "8c3c94065df3f0"
  }
 ],
 "metadata": {
  "kernelspec": {
   "display_name": "Python 3",
   "language": "python",
   "name": "python3"
  },
  "language_info": {
   "codemirror_mode": {
    "name": "ipython",
    "version": 2
   },
   "file_extension": ".py",
   "mimetype": "text/x-python",
   "name": "python",
   "nbconvert_exporter": "python",
   "pygments_lexer": "ipython2",
   "version": "2.7.6"
  }
 },
 "nbformat": 4,
 "nbformat_minor": 5
}
