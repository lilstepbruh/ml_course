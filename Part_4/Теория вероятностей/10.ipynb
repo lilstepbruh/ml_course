{
 "cells": [
  {
   "metadata": {
    "ExecuteTime": {
     "end_time": "2025-01-11T19:12:32.128609Z",
     "start_time": "2025-01-11T19:12:30.357986Z"
    }
   },
   "cell_type": "code",
   "source": [
    "from scipy import stats as st\n",
    "import math as mt"
   ],
   "id": "2e664df8dbd39317",
   "outputs": [],
   "execution_count": 2
  },
  {
   "cell_type": "code",
   "id": "initial_id",
   "metadata": {
    "collapsed": true,
    "ExecuteTime": {
     "end_time": "2025-01-11T19:25:28.467519Z",
     "start_time": "2025-01-11T19:25:28.462112Z"
    }
   },
   "source": [
    "binom_n = 23000 # целевое количество человек в рассылке\n",
    "binom_p = 0.4 # сколько пользователей открывают рассылку?\n",
    "threshold = 9000 # на какой охват сейчас рассчитывают?\n",
    "z = (threshold-mu)/sigma\n",
    "mu = binom_n * binom_p # чему равно среднее значение распределения\n",
    "sigma = mt.sqrt(binom_p * binom_n * (1 - binom_p))# чему равно стандартное отклонение распределения\n",
    "p_threshold = 1 - st.norm.cdf(z)\n",
    "\n",
    "print(p_threshold)"
   ],
   "outputs": [
    {
     "name": "stdout",
     "output_type": "stream",
     "text": [
      "0.9964477890716447\n"
     ]
    }
   ],
   "execution_count": 8
  }
 ],
 "metadata": {
  "kernelspec": {
   "display_name": "Python 3",
   "language": "python",
   "name": "python3"
  },
  "language_info": {
   "codemirror_mode": {
    "name": "ipython",
    "version": 2
   },
   "file_extension": ".py",
   "mimetype": "text/x-python",
   "name": "python",
   "nbconvert_exporter": "python",
   "pygments_lexer": "ipython2",
   "version": "2.7.6"
  }
 },
 "nbformat": 4,
 "nbformat_minor": 5
}
