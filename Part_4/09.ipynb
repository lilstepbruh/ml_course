{
 "cells": [
  {
   "cell_type": "code",
   "id": "initial_id",
   "metadata": {
    "collapsed": true,
    "ExecuteTime": {
     "end_time": "2024-12-27T10:04:25.701615Z",
     "start_time": "2024-12-27T10:04:17.849359Z"
    }
   },
   "source": [
    "import numpy as np\n",
    "import pandas as pd"
   ],
   "outputs": [],
   "execution_count": 2
  },
  {
   "metadata": {
    "ExecuteTime": {
     "end_time": "2024-12-27T10:04:27.406865Z",
     "start_time": "2024-12-27T10:04:27.381193Z"
    }
   },
   "cell_type": "code",
   "source": [
    "data = pd.Series([0, 1, 2, 3, 4, 5, 6, 7, 8, 9, 10])\n",
    "variance = np.var(data)\n",
    "variance"
   ],
   "id": "47aa0dcd4cc2c019",
   "outputs": [
    {
     "data": {
      "text/plain": [
       "10.0"
      ]
     },
     "execution_count": 3,
     "metadata": {},
     "output_type": "execute_result"
    }
   ],
   "execution_count": 3
  },
  {
   "metadata": {
    "ExecuteTime": {
     "end_time": "2024-12-27T10:41:05.909020Z",
     "start_time": "2024-12-27T10:41:05.901737Z"
    }
   },
   "cell_type": "code",
   "source": [
    "variance_part = np.var(data, ddof=1)\n",
    "variance_part"
   ],
   "id": "27509bbd84a17fa5",
   "outputs": [
    {
     "data": {
      "text/plain": [
       "11.0"
      ]
     },
     "execution_count": 5,
     "metadata": {},
     "output_type": "execute_result"
    }
   ],
   "execution_count": 5
  },
  {
   "metadata": {
    "ExecuteTime": {
     "end_time": "2024-12-27T10:41:38.066558Z",
     "start_time": "2024-12-27T10:41:38.059105Z"
    }
   },
   "cell_type": "code",
   "source": [
    "std_part = np.std(data, ddof=1)\n",
    "std_part"
   ],
   "id": "d61c027a8ebddb2c",
   "outputs": [
    {
     "data": {
      "text/plain": [
       "3.3166247903554"
      ]
     },
     "execution_count": 7,
     "metadata": {},
     "output_type": "execute_result"
    }
   ],
   "execution_count": 7
  },
  {
   "metadata": {
    "ExecuteTime": {
     "end_time": "2024-12-27T10:43:17.803130Z",
     "start_time": "2024-12-27T10:43:17.797492Z"
    }
   },
   "cell_type": "code",
   "source": [
    "adv_mean = 3\n",
    "adv_var = 0.25"
   ],
   "id": "fc14a0fbad7e3168",
   "outputs": [],
   "execution_count": 9
  },
  {
   "metadata": {
    "ExecuteTime": {
     "end_time": "2024-12-27T10:43:28.162693Z",
     "start_time": "2024-12-27T10:43:28.157330Z"
    }
   },
   "cell_type": "code",
   "source": "sqrt_adv_var = np.sqrt(adv_var)",
   "id": "8b45f423a178d3f7",
   "outputs": [],
   "execution_count": 11
  },
  {
   "metadata": {
    "ExecuteTime": {
     "end_time": "2024-12-27T10:45:01.024949Z",
     "start_time": "2024-12-27T10:45:01.016719Z"
    }
   },
   "cell_type": "code",
   "source": [
    "(min,max) = (adv_mean-3*sqrt_adv_var, adv_mean+3*sqrt_adv_var)\n",
    "(min,max)"
   ],
   "id": "4e29b3ce16e3df78",
   "outputs": [
    {
     "data": {
      "text/plain": [
       "(1.5, 4.5)"
      ]
     },
     "execution_count": 12,
     "metadata": {},
     "output_type": "execute_result"
    }
   ],
   "execution_count": 12
  }
 ],
 "metadata": {
  "kernelspec": {
   "display_name": "Python 3",
   "language": "python",
   "name": "python3"
  },
  "language_info": {
   "codemirror_mode": {
    "name": "ipython",
    "version": 2
   },
   "file_extension": ".py",
   "mimetype": "text/x-python",
   "name": "python",
   "nbconvert_exporter": "python",
   "pygments_lexer": "ipython2",
   "version": "2.7.6"
  }
 },
 "nbformat": 4,
 "nbformat_minor": 5
}
