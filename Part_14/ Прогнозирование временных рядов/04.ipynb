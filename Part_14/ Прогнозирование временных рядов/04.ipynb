{
 "cells": [
  {
   "metadata": {
    "ExecuteTime": {
     "end_time": "2025-03-26T09:39:13.593335Z",
     "start_time": "2025-03-26T09:39:13.161915Z"
    }
   },
   "cell_type": "code",
   "source": [
    "import pandas as pd\n",
    "import numpy as np"
   ],
   "id": "a6bbd04f41acd2ed",
   "outputs": [],
   "execution_count": 3
  },
  {
   "metadata": {
    "ExecuteTime": {
     "end_time": "2025-03-26T09:49:09.746308Z",
     "start_time": "2025-03-26T09:49:09.742766Z"
    }
   },
   "cell_type": "code",
   "source": [
    "def make_features(df, max_lag, rolling_mean):\n",
    "    df['year'] = df.index.year\n",
    "    df['month'] = df.index.month\n",
    "    df['day'] = df.index.day\n",
    "    df['dayofweek'] = df.index.dayofweek\n",
    "    for lag in range(1,max_lag+1):\n",
    "        df[f'lag_{lag}'] = df['PJME_MW'].shift(lag)\n",
    "    df['rolling_mean'] = df['PJME_MW'].shift(1).rolling(rolling_mean).mean()"
   ],
   "id": "ab84d23d967cd5bd",
   "outputs": [],
   "execution_count": 19
  },
  {
   "cell_type": "code",
   "id": "initial_id",
   "metadata": {
    "collapsed": true,
    "ExecuteTime": {
     "end_time": "2025-03-26T09:49:10.300948Z",
     "start_time": "2025-03-26T09:49:10.175890Z"
    }
   },
   "source": [
    "data = pd.read_csv('/home/stepbruh/Рабочий стол/JetBrains Projects/DataspellProjects/Projects/Data Scientist Plus/Part_14/Анализ временных рядов/energy_consumption.csv', index_col=[0], parse_dates=[0])\n",
    "data.sort_index(inplace=True)\n",
    "data = data.resample('1D').sum()\n",
    "\n",
    "make_features(data,4,4)\n",
    "print(data.head())"
   ],
   "outputs": [
    {
     "name": "stdout",
     "output_type": "stream",
     "text": [
      "             PJME_MW  year  month  day  dayofweek     lag_1     lag_2  \\\n",
      "Datetime                                                                \n",
      "2002-01-01  714857.0  2002      1    1          1       NaN       NaN   \n",
      "2002-01-02  822277.0  2002      1    2          2  714857.0       NaN   \n",
      "2002-01-03  828285.0  2002      1    3          3  822277.0  714857.0   \n",
      "2002-01-04  809171.0  2002      1    4          4  828285.0  822277.0   \n",
      "2002-01-05  729723.0  2002      1    5          5  809171.0  828285.0   \n",
      "\n",
      "               lag_3     lag_4  rolling_mean  \n",
      "Datetime                                      \n",
      "2002-01-01       NaN       NaN           NaN  \n",
      "2002-01-02       NaN       NaN           NaN  \n",
      "2002-01-03       NaN       NaN           NaN  \n",
      "2002-01-04  714857.0       NaN           NaN  \n",
      "2002-01-05  822277.0  714857.0      793647.5  \n"
     ]
    }
   ],
   "execution_count": 20
  }
 ],
 "metadata": {
  "kernelspec": {
   "display_name": "Python 3",
   "language": "python",
   "name": "python3"
  },
  "language_info": {
   "codemirror_mode": {
    "name": "ipython",
    "version": 2
   },
   "file_extension": ".py",
   "mimetype": "text/x-python",
   "name": "python",
   "nbconvert_exporter": "python",
   "pygments_lexer": "ipython2",
   "version": "2.7.6"
  }
 },
 "nbformat": 4,
 "nbformat_minor": 5
}
