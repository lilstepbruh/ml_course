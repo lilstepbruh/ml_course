{
 "cells": [
  {
   "metadata": {
    "ExecuteTime": {
     "end_time": "2025-03-26T09:58:18.520770Z",
     "start_time": "2025-03-26T09:58:18.518073Z"
    }
   },
   "cell_type": "code",
   "source": [
    "import pandas as pd\n",
    "import numpy as np\n",
    "from sklearn.model_selection import train_test_split\n",
    "from sklearn.linear_model import LinearRegression\n",
    "from sklearn.metrics import mean_absolute_error"
   ],
   "id": "41a57004c920acda",
   "outputs": [],
   "execution_count": 14
  },
  {
   "metadata": {
    "ExecuteTime": {
     "end_time": "2025-03-26T09:51:10.033134Z",
     "start_time": "2025-03-26T09:51:10.030419Z"
    }
   },
   "cell_type": "code",
   "source": [
    "def make_features(df, max_lag, rolling_mean):\n",
    "    df['year'] = df.index.year\n",
    "    df['month'] = df.index.month\n",
    "    df['day'] = df.index.day\n",
    "    df['dayofweek'] = df.index.dayofweek\n",
    "    for lag in range(1,max_lag+1):\n",
    "        df[f'lag_{lag}'] = df['PJME_MW'].shift(lag)\n",
    "    df['rolling_mean'] = df['PJME_MW'].shift(1).rolling(rolling_mean).mean()"
   ],
   "id": "5cd898c791530076",
   "outputs": [],
   "execution_count": 2
  },
  {
   "metadata": {
    "ExecuteTime": {
     "end_time": "2025-03-26T10:04:09.016310Z",
     "start_time": "2025-03-26T10:04:08.875112Z"
    }
   },
   "cell_type": "code",
   "source": [
    "data = pd.read_csv('/home/stepbruh/Рабочий стол/JetBrains Projects/DataspellProjects/Projects/Data Scientist Plus/Part_14/Анализ временных рядов/energy_consumption.csv', index_col=[0], parse_dates=[0])\n",
    "data.sort_index(inplace=True)\n",
    "data = data.resample('1D').sum()\n",
    "\n",
    "make_features(data,6,1)\n",
    "print(data.head())"
   ],
   "id": "fd84dfd754b894d0",
   "outputs": [
    {
     "name": "stdout",
     "output_type": "stream",
     "text": [
      "             PJME_MW  year  month  day  dayofweek     lag_1     lag_2  \\\n",
      "Datetime                                                                \n",
      "2002-01-01  714857.0  2002      1    1          1       NaN       NaN   \n",
      "2002-01-02  822277.0  2002      1    2          2  714857.0       NaN   \n",
      "2002-01-03  828285.0  2002      1    3          3  822277.0  714857.0   \n",
      "2002-01-04  809171.0  2002      1    4          4  828285.0  822277.0   \n",
      "2002-01-05  729723.0  2002      1    5          5  809171.0  828285.0   \n",
      "\n",
      "               lag_3     lag_4  lag_5  lag_6  rolling_mean  \n",
      "Datetime                                                    \n",
      "2002-01-01       NaN       NaN    NaN    NaN           NaN  \n",
      "2002-01-02       NaN       NaN    NaN    NaN      714857.0  \n",
      "2002-01-03       NaN       NaN    NaN    NaN      822277.0  \n",
      "2002-01-04  714857.0       NaN    NaN    NaN      828285.0  \n",
      "2002-01-05  822277.0  714857.0    NaN    NaN      809171.0  \n"
     ]
    }
   ],
   "execution_count": 25
  },
  {
   "metadata": {
    "ExecuteTime": {
     "end_time": "2025-03-26T10:04:09.228779Z",
     "start_time": "2025-03-26T10:04:09.224229Z"
    }
   },
   "cell_type": "code",
   "source": "data = data.dropna()",
   "id": "d212779a9a47fe24",
   "outputs": [],
   "execution_count": 26
  },
  {
   "metadata": {
    "ExecuteTime": {
     "end_time": "2025-03-26T10:04:09.788294Z",
     "start_time": "2025-03-26T10:04:09.783640Z"
    }
   },
   "cell_type": "code",
   "source": "train, test = train_test_split(data, shuffle=False, test_size=.2)",
   "id": "8ffd372611176472",
   "outputs": [],
   "execution_count": 27
  },
  {
   "metadata": {
    "ExecuteTime": {
     "end_time": "2025-03-26T10:04:12.130671Z",
     "start_time": "2025-03-26T10:04:12.128336Z"
    }
   },
   "cell_type": "code",
   "source": [
    "print(train.shape)\n",
    "print(test.shape)"
   ],
   "id": "7ab25474a84b785e",
   "outputs": [
    {
     "name": "stdout",
     "output_type": "stream",
     "text": [
      "(4842, 12)\n",
      "(1211, 12)\n"
     ]
    }
   ],
   "execution_count": 28
  },
  {
   "metadata": {
    "ExecuteTime": {
     "end_time": "2025-03-26T10:04:12.853469Z",
     "start_time": "2025-03-26T10:04:12.848512Z"
    }
   },
   "cell_type": "code",
   "source": [
    "train_features = train.drop('PJME_MW', axis=1)\n",
    "train_target = train['PJME_MW']\n",
    "test_features = test.drop('PJME_MW', axis=1)\n",
    "test_target = test['PJME_MW']"
   ],
   "id": "cd2450c60beb08aa",
   "outputs": [],
   "execution_count": 29
  },
  {
   "metadata": {
    "ExecuteTime": {
     "end_time": "2025-03-26T10:04:13.248562Z",
     "start_time": "2025-03-26T10:04:13.233931Z"
    }
   },
   "cell_type": "code",
   "source": [
    "model = LinearRegression()\n",
    "model.fit(train_features, train_target)\n",
    "pred = model.predict(test_features)\n",
    "mae = mean_absolute_error(test_target, pred)\n",
    "mae"
   ],
   "id": "631b324975acf534",
   "outputs": [
    {
     "data": {
      "text/plain": [
       "36822.485686357584"
      ]
     },
     "execution_count": 30,
     "metadata": {},
     "output_type": "execute_result"
    }
   ],
   "execution_count": 30
  },
  {
   "metadata": {},
   "cell_type": "code",
   "outputs": [],
   "execution_count": null,
   "source": "",
   "id": "da81373e68147528"
  }
 ],
 "metadata": {
  "kernelspec": {
   "display_name": "Python 3",
   "language": "python",
   "name": "python3"
  },
  "language_info": {
   "codemirror_mode": {
    "name": "ipython",
    "version": 2
   },
   "file_extension": ".py",
   "mimetype": "text/x-python",
   "name": "python",
   "nbconvert_exporter": "python",
   "pygments_lexer": "ipython2",
   "version": "2.7.6"
  }
 },
 "nbformat": 4,
 "nbformat_minor": 5
}
