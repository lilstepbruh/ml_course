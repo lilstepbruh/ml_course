{
 "cells": [
  {
   "cell_type": "code",
   "id": "initial_id",
   "metadata": {
    "collapsed": true,
    "ExecuteTime": {
     "end_time": "2025-03-25T21:36:01.267316Z",
     "start_time": "2025-03-25T21:36:01.264354Z"
    }
   },
   "source": [
    "import numpy as np\n",
    "import pandas as pd\n",
    "from statsmodels.tsa.seasonal import seasonal_decompose\n",
    "from sklearn.model_selection import train_test_split\n",
    "from sklearn.metrics import mean_absolute_error\n"
   ],
   "outputs": [],
   "execution_count": 22
  },
  {
   "metadata": {
    "ExecuteTime": {
     "end_time": "2025-03-25T21:29:04.598057Z",
     "start_time": "2025-03-25T21:29:04.467768Z"
    }
   },
   "cell_type": "code",
   "source": [
    "data = pd.read_csv('/home/stepbruh/Рабочий стол/JetBrains Projects/DataspellProjects/Projects/Data Scientist Plus/Part_14/Анализ временных рядов/energy_consumption.csv', index_col=[0], parse_dates=[0])\n",
    "data.sort_index(inplace=True)\n",
    "data = data.resample('1D').sum()"
   ],
   "id": "88bb20d31a961639",
   "outputs": [],
   "execution_count": 5
  },
  {
   "metadata": {
    "ExecuteTime": {
     "end_time": "2025-03-25T21:30:19.257421Z",
     "start_time": "2025-03-25T21:30:19.253476Z"
    }
   },
   "cell_type": "code",
   "source": "train, test = train_test_split(data, shuffle=False, test_size=.2)",
   "id": "146ed9971f16d912",
   "outputs": [],
   "execution_count": 7
  },
  {
   "metadata": {
    "ExecuteTime": {
     "end_time": "2025-03-25T21:30:26.897907Z",
     "start_time": "2025-03-25T21:30:26.894750Z"
    }
   },
   "cell_type": "code",
   "source": [
    "print(train.index.min(), train.index.max())\n",
    "print(test.index.min(), test.index.max())"
   ],
   "id": "8eb1e8cb54e4afc8",
   "outputs": [
    {
     "name": "stdout",
     "output_type": "stream",
     "text": [
      "2002-01-01 00:00:00 2015-04-09 00:00:00\n",
      "2015-04-10 00:00:00 2018-08-03 00:00:00\n"
     ]
    }
   ],
   "execution_count": 8
  },
  {
   "metadata": {
    "ExecuteTime": {
     "end_time": "2025-03-25T21:31:36.311046Z",
     "start_time": "2025-03-25T21:31:36.307917Z"
    }
   },
   "cell_type": "code",
   "source": "print(\"Средний объём электропотребления в день:\", test['PJME_MW'].mean())",
   "id": "e1b0f9cb0ea53c4c",
   "outputs": [
    {
     "name": "stdout",
     "output_type": "stream",
     "text": [
      "Средний объём электропотребления в день: 745523.4529702971\n"
     ]
    }
   ],
   "execution_count": 9
  },
  {
   "metadata": {
    "ExecuteTime": {
     "end_time": "2025-03-25T21:38:37.870871Z",
     "start_time": "2025-03-25T21:38:37.867373Z"
    }
   },
   "cell_type": "code",
   "source": [
    "pred_median = np.ones(test.shape[0]) * train['PJME_MW'].median()\n",
    "mae = mean_absolute_error(pred_median, test['PJME_MW'])"
   ],
   "id": "67cb61c02e7da974",
   "outputs": [],
   "execution_count": 31
  },
  {
   "metadata": {
    "ExecuteTime": {
     "end_time": "2025-03-25T21:38:38.348558Z",
     "start_time": "2025-03-25T21:38:38.344384Z"
    }
   },
   "cell_type": "code",
   "source": "mae",
   "id": "c46b0ab0bd1f22e8",
   "outputs": [
    {
     "data": {
      "text/plain": [
       "96625.08333333333"
      ]
     },
     "execution_count": 32,
     "metadata": {},
     "output_type": "execute_result"
    }
   ],
   "execution_count": 32
  },
  {
   "metadata": {
    "ExecuteTime": {
     "end_time": "2025-03-25T21:40:40.094839Z",
     "start_time": "2025-03-25T21:40:40.089623Z"
    }
   },
   "cell_type": "code",
   "source": [
    "pred_previous = test['PJME_MW'].shift(1)\n",
    "pred_previous.iloc[0] = train['PJME_MW'].iloc[-1]\n",
    "\n",
    "# Вычисляем MAE\n",
    "mae = mean_absolute_error(test['PJME_MW'], pred_previous)\n",
    "\n",
    "# Выводим MAE\n",
    "print(\"MAE:\", mae)"
   ],
   "id": "bf10c7dc07a82423",
   "outputs": [
    {
     "name": "stdout",
     "output_type": "stream",
     "text": [
      "MAE: 44941.65924092409\n"
     ]
    }
   ],
   "execution_count": 33
  }
 ],
 "metadata": {
  "kernelspec": {
   "display_name": "Python 3",
   "language": "python",
   "name": "python3"
  },
  "language_info": {
   "codemirror_mode": {
    "name": "ipython",
    "version": 2
   },
   "file_extension": ".py",
   "mimetype": "text/x-python",
   "name": "python",
   "nbconvert_exporter": "python",
   "pygments_lexer": "ipython2",
   "version": "2.7.6"
  }
 },
 "nbformat": 4,
 "nbformat_minor": 5
}
