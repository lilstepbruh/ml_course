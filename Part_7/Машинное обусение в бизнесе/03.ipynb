{
 "cells": [
  {
   "cell_type": "code",
   "id": "initial_id",
   "metadata": {
    "collapsed": true,
    "ExecuteTime": {
     "end_time": "2025-02-22T14:01:24.846905Z",
     "start_time": "2025-02-22T14:01:14.297999Z"
    }
   },
   "source": [
    "import pandas as pd\n",
    "from scipy import stats as st"
   ],
   "outputs": [],
   "execution_count": 1
  },
  {
   "metadata": {
    "ExecuteTime": {
     "end_time": "2025-02-22T14:01:28.678605Z",
     "start_time": "2025-02-22T14:01:28.645122Z"
    }
   },
   "cell_type": "code",
   "source": [
    "sample_before = pd.Series([\n",
    "    436, 397, 433, 412, 367, 353, 440, 375, 414,\n",
    "    410, 434, 356, 377, 403, 434, 377, 437, 383,\n",
    "    388, 412, 350, 392, 354, 362, 392, 441, 371,\n",
    "    350, 364, 449, 413, 401, 382, 445, 366, 435,\n",
    "    442, 413, 386, 390, 350, 364, 418, 369, 369,\n",
    "    368, 429, 388, 397, 393, 373, 438, 385, 365,\n",
    "    447, 408, 379, 411, 358, 368, 442, 366, 431,\n",
    "    400, 449, 422, 423, 427, 361, 354])\n",
    "\n",
    "sample_after = pd.Series([\n",
    "    439, 518, 452, 505, 493, 470, 498, 442, 497,\n",
    "    423, 524, 442, 459, 452, 463, 488, 497, 500,\n",
    "    476, 501, 456, 425, 438, 435, 516, 453, 505,\n",
    "    441, 477, 469, 497, 502, 442, 449, 465, 429,\n",
    "    442, 472, 466, 431, 490, 475, 447, 435, 482,\n",
    "    434, 525, 510, 494, 493, 495, 499, 455, 464,\n",
    "    509, 432, 476, 438, 512, 423, 428, 499, 492,\n",
    "    493, 467, 493, 468, 420, 513, 427])"
   ],
   "id": "c1a684224a4fd5e1",
   "outputs": [],
   "execution_count": 2
  },
  {
   "metadata": {
    "ExecuteTime": {
     "end_time": "2025-02-22T14:01:29.797936Z",
     "start_time": "2025-02-22T14:01:29.785792Z"
    }
   },
   "cell_type": "code",
   "source": [
    "print('Среднее до:', sample_before.mean())\n",
    "print('Среднее после:', sample_after.mean())"
   ],
   "id": "10819afd85a55f04",
   "outputs": [
    {
     "name": "stdout",
     "output_type": "stream",
     "text": [
      "Среднее до: 396.9714285714286\n",
      "Среднее после: 470.5285714285714\n"
     ]
    }
   ],
   "execution_count": 3
  },
  {
   "metadata": {
    "ExecuteTime": {
     "end_time": "2025-02-22T14:01:31.055566Z",
     "start_time": "2025-02-22T14:01:31.049150Z"
    }
   },
   "cell_type": "code",
   "source": "alpha = 0.05",
   "id": "8530cfea477d1060",
   "outputs": [],
   "execution_count": 4
  },
  {
   "metadata": {
    "ExecuteTime": {
     "end_time": "2025-02-22T14:01:31.774875Z",
     "start_time": "2025-02-22T14:01:31.752019Z"
    }
   },
   "cell_type": "code",
   "source": [
    "results = st.ttest_ind(sample_before, sample_after)\n",
    "print(results.pvalue/2)"
   ],
   "id": "77e7f9d80b1cab59",
   "outputs": [
    {
     "name": "stdout",
     "output_type": "stream",
     "text": [
      "3.090979110409132e-29\n"
     ]
    }
   ],
   "execution_count": 5
  },
  {
   "metadata": {
    "ExecuteTime": {
     "end_time": "2025-02-22T14:01:32.574574Z",
     "start_time": "2025-02-22T14:01:32.565237Z"
    }
   },
   "cell_type": "code",
   "source": [
    "if results.pvalue < alpha:\n",
    "    print(\"Отвергаем нулевую гипотезу: скорее всего средний чек увеличился\")\n",
    "else:\n",
    "    print(\"Не получилось отвергнуть нулевую гипотезу: скорее всего средний чек не увеличился\")"
   ],
   "id": "cb28b95ad70504e9",
   "outputs": [
    {
     "name": "stdout",
     "output_type": "stream",
     "text": [
      "Отвергаем нулевую гипотезу: скорее всего средний чек увеличился\n"
     ]
    }
   ],
   "execution_count": 6
  },
  {
   "metadata": {},
   "cell_type": "code",
   "outputs": [],
   "execution_count": null,
   "source": "",
   "id": "7eccf279ea88a0ce"
  }
 ],
 "metadata": {
  "kernelspec": {
   "display_name": "Python 3",
   "language": "python",
   "name": "python3"
  },
  "language_info": {
   "codemirror_mode": {
    "name": "ipython",
    "version": 2
   },
   "file_extension": ".py",
   "mimetype": "text/x-python",
   "name": "python",
   "nbconvert_exporter": "python",
   "pygments_lexer": "ipython2",
   "version": "2.7.6"
  }
 },
 "nbformat": 4,
 "nbformat_minor": 5
}
