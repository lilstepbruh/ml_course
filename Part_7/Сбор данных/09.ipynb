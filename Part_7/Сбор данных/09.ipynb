{
 "cells": [
  {
   "cell_type": "code",
   "id": "initial_id",
   "metadata": {
    "collapsed": true,
    "ExecuteTime": {
     "end_time": "2025-02-18T13:24:33.258803Z",
     "start_time": "2025-02-18T13:24:33.253637Z"
    }
   },
   "source": [
    "import pandas as pd\n",
    "from sklearn.tree import DecisionTreeClassifier\n",
    "from sklearn.model_selection import cross_val_score"
   ],
   "outputs": [],
   "execution_count": 8
  },
  {
   "metadata": {
    "ExecuteTime": {
     "end_time": "2025-02-18T13:09:51.297941Z",
     "start_time": "2025-02-18T13:09:51.280852Z"
    }
   },
   "cell_type": "code",
   "source": "df = pd.read_csv(r\"C:\\Users\\andre\\Рабочий стол\\Практикум\\Специалист по Data Science Плюс. Часть 7\\01 Машинное обучение в бизнесе\\04 Сбор данных\\heart.csv\")",
   "id": "94360c027b485502",
   "outputs": [],
   "execution_count": 2
  },
  {
   "metadata": {
    "ExecuteTime": {
     "end_time": "2025-02-18T13:10:34.098938Z",
     "start_time": "2025-02-18T13:10:34.088138Z"
    }
   },
   "cell_type": "code",
   "source": [
    "features = df.drop('target', axis=1)\n",
    "target = df['target']"
   ],
   "id": "7f5e9b4681e88188",
   "outputs": [],
   "execution_count": 3
  },
  {
   "metadata": {
    "ExecuteTime": {
     "end_time": "2025-02-18T13:10:41.709282Z",
     "start_time": "2025-02-18T13:10:41.704304Z"
    }
   },
   "cell_type": "code",
   "source": "scores = []",
   "id": "92147cbdb0d7a208",
   "outputs": [],
   "execution_count": 4
  },
  {
   "metadata": {
    "ExecuteTime": {
     "end_time": "2025-02-18T13:10:58.580022Z",
     "start_time": "2025-02-18T13:10:58.575049Z"
    }
   },
   "cell_type": "code",
   "source": "sample_size = int(len(features)/3)",
   "id": "b47cd11cb480d33a",
   "outputs": [],
   "execution_count": 5
  },
  {
   "metadata": {
    "ExecuteTime": {
     "end_time": "2025-02-18T13:21:28.637116Z",
     "start_time": "2025-02-18T13:21:28.606270Z"
    }
   },
   "cell_type": "code",
   "source": [
    "for i in range(0,len(df),sample_size):\n",
    "    valid_indexes = list(range(i, min(i + sample_size, len(df))))\n",
    "    train_indexes = list(range(0, i)) + list(range(min(i + sample_size, len(df)), len(df)))\n",
    "\n",
    "    features_train, target_train = features.iloc[train_indexes], target.iloc[train_indexes]\n",
    "    features_valid, target_valid = features.iloc[valid_indexes], target.iloc[valid_indexes]\n",
    "\n",
    "    model = DecisionTreeClassifier(random_state=0)\n",
    "    model.fit(features_train, target_train)\n",
    "\n",
    "    score = model.score(features_valid, target_valid)\n",
    "    scores.append(score)"
   ],
   "id": "5aa0f0d1bc1a78ec",
   "outputs": [],
   "execution_count": 6
  },
  {
   "metadata": {
    "ExecuteTime": {
     "end_time": "2025-02-18T13:21:29.492943Z",
     "start_time": "2025-02-18T13:21:29.487049Z"
    }
   },
   "cell_type": "code",
   "source": [
    "# Среднее качество модели\n",
    "final_score = sum(scores) / len(scores)\n",
    "print('Средняя оценка качества модели:', final_score)\n"
   ],
   "id": "ff93eb5d4d7ea159",
   "outputs": [
    {
     "name": "stdout",
     "output_type": "stream",
     "text": [
      "Средняя оценка качества модели: 0.7689768976897691\n"
     ]
    }
   ],
   "execution_count": 7
  },
  {
   "metadata": {
    "ExecuteTime": {
     "end_time": "2025-02-18T13:26:02.246595Z",
     "start_time": "2025-02-18T13:26:02.207263Z"
    }
   },
   "cell_type": "code",
   "source": [
    "model = DecisionTreeClassifier(random_state=0)\n",
    "score = cross_val_score(model, features, target, cv=5)\n",
    "score.mean()"
   ],
   "id": "f8565096071a62e4",
   "outputs": [
    {
     "data": {
      "text/plain": [
       "0.7856284153005464"
      ]
     },
     "execution_count": 12,
     "metadata": {},
     "output_type": "execute_result"
    }
   ],
   "execution_count": 12
  }
 ],
 "metadata": {
  "kernelspec": {
   "display_name": "Python 3",
   "language": "python",
   "name": "python3"
  },
  "language_info": {
   "codemirror_mode": {
    "name": "ipython",
    "version": 2
   },
   "file_extension": ".py",
   "mimetype": "text/x-python",
   "name": "python",
   "nbconvert_exporter": "python",
   "pygments_lexer": "ipython2",
   "version": "2.7.6"
  }
 },
 "nbformat": 4,
 "nbformat_minor": 5
}
