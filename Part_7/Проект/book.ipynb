{
 "cells": [
  {
   "cell_type": "markdown",
   "metadata": {},
   "source": [
    "# Выбор локации для скважины"
   ]
  },
  {
   "cell_type": "markdown",
   "metadata": {},
   "source": [
    "Допустим, вы работаете в добывающей компании «ГлавРосГосНефть». Нужно решить, где бурить новую скважину.\n",
    "\n",
    "Вам предоставлены пробы нефти в трёх регионах: в каждом 10 000 месторождений, где измерили качество нефти и объём её запасов. Постройте модель машинного обучения, которая поможет определить регион, где добыча принесёт наибольшую прибыль. Проанализируйте возможную прибыль и риски техникой *Bootstrap.*\n",
    "\n",
    "Шаги для выбора локации:\n",
    "\n",
    "- В избранном регионе ищут месторождения, для каждого определяют значения признаков;\n",
    "- Строят модель и оценивают объём запасов;\n",
    "- Выбирают месторождения с самым высокими оценками значений. Количество месторождений зависит от бюджета компании и стоимости разработки одной скважины;\n",
    "- Прибыль равна суммарной прибыли отобранных месторождений."
   ]
  },
  {
   "cell_type": "markdown",
   "metadata": {},
   "source": [
    "## Загрузка и подготовка данных"
   ]
  },
  {
   "metadata": {
    "ExecuteTime": {
     "end_time": "2025-02-18T14:29:12.099963Z",
     "start_time": "2025-02-18T14:29:12.095783Z"
    }
   },
   "cell_type": "code",
   "source": [
    "import pandas as pd\n",
    "from sklearn.model_selection import train_test_split\n",
    "from sklearn.linear_model import LinearRegression\n",
    "import sklearn.metrics as metrics"
   ],
   "outputs": [],
   "execution_count": 16
  },
  {
   "cell_type": "code",
   "metadata": {
    "ExecuteTime": {
     "end_time": "2025-02-18T14:25:13.529084Z",
     "start_time": "2025-02-18T14:25:13.237056Z"
    }
   },
   "source": [
    "g0 = pd.read_csv(r\"C:\\Users\\andre\\Рабочий стол\\Практикум\\Специалист по Data Science Плюс. Часть 7\\01 Машинное обучение в бизнесе\\06 Самостоятельный проект\\geo_data_0.csv\").drop('id', axis = 1)\n",
    "g1 = pd.read_csv(r\"C:\\Users\\andre\\Рабочий стол\\Практикум\\Специалист по Data Science Плюс. Часть 7\\01 Машинное обучение в бизнесе\\06 Самостоятельный проект\\geo_data_1.csv\").drop('id', axis = 1)\n",
    "g2 = pd.read_csv(r\"C:\\Users\\andre\\Рабочий стол\\Практикум\\Специалист по Data Science Плюс. Часть 7\\01 Машинное обучение в бизнесе\\06 Самостоятельный проект\\geo_data_2.csv\").drop('id', axis = 1)\n"
   ],
   "outputs": [],
   "execution_count": 8
  },
  {
   "metadata": {
    "ExecuteTime": {
     "end_time": "2025-02-18T14:25:14.289902Z",
     "start_time": "2025-02-18T14:25:14.236944Z"
    }
   },
   "cell_type": "code",
   "source": [
    "g0_features_train, g0_features_valid, g0_target_train, g0_target_valid = train_test_split(g0.drop('product', axis=1),g0['product'], test_size=0.25, random_state=42)\n",
    "g1_features_train, g1_features_valid, g1_target_train, g1_target_valid = train_test_split(g1.drop('product', axis=1),g1['product'], test_size=0.25, random_state=42)\n",
    "g2_features_train, g2_features_valid, g2_target_train, g2_target_valid = train_test_split(g2.drop('product', axis=1),g2['product'], test_size=0.25, random_state=42)"
   ],
   "outputs": [],
   "execution_count": 9
  },
  {
   "cell_type": "markdown",
   "metadata": {},
   "source": [
    "## Обучение и проверка модели"
   ]
  },
  {
   "cell_type": "code",
   "metadata": {
    "ExecuteTime": {
     "end_time": "2025-02-19T16:54:43.871738Z",
     "start_time": "2025-02-19T16:54:43.704882Z"
    }
   },
   "source": [
    "results = []\n",
    "predictions = pd.DataFrame()\n",
    "\n",
    "for i in range(3):\n",
    "    model = LinearRegression()\n",
    "    features_train = globals()[f'g{i}_features_train']\n",
    "    target_train = globals()[f'g{i}_target_train']\n",
    "    features_valid = globals()[f'g{i}_features_valid']\n",
    "    target_valid = globals()[f'g{i}_target_valid']\n",
    "\n",
    "    model.fit(pd.DataFrame(features_train), pd.Series(target_train))\n",
    "    prediction = model.predict(pd.DataFrame(features_valid))\n",
    "\n",
    "    mse = metrics.mean_squared_error(pd.Series(target_valid), prediction)\n",
    "    r2 = metrics.r2_score(pd.Series(target_valid), prediction)\n",
    "    mae = metrics.mean_absolute_error(pd.Series(target_valid), prediction)\n",
    "\n",
    "    predictions[i] = prediction\n",
    "    results.append([mse ** 0.5, r2, mae, prediction.mean()])\n"
   ],
   "outputs": [],
   "execution_count": 28
  },
  {
   "metadata": {
    "ExecuteTime": {
     "end_time": "2025-02-19T16:54:46.913169Z",
     "start_time": "2025-02-19T16:54:46.901554Z"
    }
   },
   "cell_type": "code",
   "source": "print(pd.DataFrame(results).rename(columns={0: 'mse', 1: 'r2', 2: 'mae', 3: 'predictions'}))",
   "outputs": [
    {
     "name": "stdout",
     "output_type": "stream",
     "text": [
      "         mse        r2        mae  predictions\n",
      "0  37.756600  0.272829  31.047682    92.398800\n",
      "1   0.890280  0.999625   0.717012    68.712878\n",
      "2  40.145872  0.196347  32.896959    94.771024\n"
     ]
    }
   ],
   "execution_count": 29
  },
  {
   "metadata": {
    "ExecuteTime": {
     "end_time": "2025-02-19T16:54:54.922072Z",
     "start_time": "2025-02-19T16:54:54.902465Z"
    }
   },
   "cell_type": "code",
   "source": "predictions.head()",
   "outputs": [
    {
     "data": {
      "text/plain": [
       "            0           1           2\n",
       "0  101.901017    0.844738   98.301916\n",
       "1   78.217774   52.921612  101.592461\n",
       "2  115.266901  135.110385   52.449099\n",
       "3  105.618618  109.494863  109.922127\n",
       "4   97.980185   -0.047292   72.411847"
      ],
      "text/html": [
       "<div>\n",
       "<style scoped>\n",
       "    .dataframe tbody tr th:only-of-type {\n",
       "        vertical-align: middle;\n",
       "    }\n",
       "\n",
       "    .dataframe tbody tr th {\n",
       "        vertical-align: top;\n",
       "    }\n",
       "\n",
       "    .dataframe thead th {\n",
       "        text-align: right;\n",
       "    }\n",
       "</style>\n",
       "<table border=\"1\" class=\"dataframe\">\n",
       "  <thead>\n",
       "    <tr style=\"text-align: right;\">\n",
       "      <th></th>\n",
       "      <th>0</th>\n",
       "      <th>1</th>\n",
       "      <th>2</th>\n",
       "    </tr>\n",
       "  </thead>\n",
       "  <tbody>\n",
       "    <tr>\n",
       "      <th>0</th>\n",
       "      <td>101.901017</td>\n",
       "      <td>0.844738</td>\n",
       "      <td>98.301916</td>\n",
       "    </tr>\n",
       "    <tr>\n",
       "      <th>1</th>\n",
       "      <td>78.217774</td>\n",
       "      <td>52.921612</td>\n",
       "      <td>101.592461</td>\n",
       "    </tr>\n",
       "    <tr>\n",
       "      <th>2</th>\n",
       "      <td>115.266901</td>\n",
       "      <td>135.110385</td>\n",
       "      <td>52.449099</td>\n",
       "    </tr>\n",
       "    <tr>\n",
       "      <th>3</th>\n",
       "      <td>105.618618</td>\n",
       "      <td>109.494863</td>\n",
       "      <td>109.922127</td>\n",
       "    </tr>\n",
       "    <tr>\n",
       "      <th>4</th>\n",
       "      <td>97.980185</td>\n",
       "      <td>-0.047292</td>\n",
       "      <td>72.411847</td>\n",
       "    </tr>\n",
       "  </tbody>\n",
       "</table>\n",
       "</div>"
      ]
     },
     "execution_count": 30,
     "metadata": {},
     "output_type": "execute_result"
    }
   ],
   "execution_count": 30
  },
  {
   "cell_type": "markdown",
   "metadata": {},
   "source": [
    "## Подготовка к расчёту прибыли"
   ]
  },
  {
   "cell_type": "code",
   "metadata": {
    "ExecuteTime": {
     "end_time": "2025-02-18T15:22:55.603408Z",
     "start_time": "2025-02-18T15:22:55.598524Z"
    }
   },
   "source": [
    "# Ключевые параметры для расчета прибыли\n",
    "BUDGET = 10_000_000_000  # 10 млрд рублей\n",
    "BARREL_PRICE = 450_000  # 450 тыс. рублей за 1000 баррелей\n",
    "BEST_WELLS = 200  # Количество лучших скважин\n",
    "TOTAL_WELLS = 500  # Всего исследуемых скважин"
   ],
   "outputs": [],
   "execution_count": 27
  },
  {
   "metadata": {
    "ExecuteTime": {
     "end_time": "2025-02-19T17:59:08.292363Z",
     "start_time": "2025-02-19T17:59:08.287034Z"
    }
   },
   "cell_type": "code",
   "source": [
    "def calculate_profit():\n",
    "    arr = []\n",
    "    for i in range(3):\n",
    "        selected = predictions[:][i].sort_values(ascending=False).loc[:BEST_WELLS]\n",
    "        arr.append(selected.sum() * BARREL_PRICE)\n",
    "        return arr\n"
   ],
   "outputs": [],
   "execution_count": 42
  },
  {
   "metadata": {
    "ExecuteTime": {
     "end_time": "2025-02-19T17:59:08.947757Z",
     "start_time": "2025-02-19T17:59:08.938793Z"
    }
   },
   "cell_type": "code",
   "source": "print(calculate_profit())\n",
   "outputs": [
    {
     "name": "stdout",
     "output_type": "stream",
     "text": [
      "[354552809150.9114]\n"
     ]
    }
   ],
   "execution_count": 43
  },
  {
   "metadata": {
    "ExecuteTime": {
     "end_time": "2025-02-19T17:59:41.611517Z",
     "start_time": "2025-02-19T17:59:41.598979Z"
    }
   },
   "cell_type": "code",
   "source": "predictions[:][0].sort_values(ascending=False)",
   "outputs": [
    {
     "data": {
      "text/plain": [
       "6958     176.536104\n",
       "18194    176.274510\n",
       "17251    173.249504\n",
       "457      172.802708\n",
       "2202     172.744977\n",
       "            ...    \n",
       "24951      9.986965\n",
       "8613       9.867996\n",
       "11880      8.503684\n",
       "6966       4.600630\n",
       "1586      -9.836371\n",
       "Name: 0, Length: 25000, dtype: float64"
      ]
     },
     "execution_count": 44,
     "metadata": {},
     "output_type": "execute_result"
    }
   ],
   "execution_count": 44
  },
  {
   "cell_type": "markdown",
   "metadata": {},
   "source": [
    "## Расчёт прибыли и рисков "
   ]
  },
  {
   "cell_type": "code",
   "execution_count": null,
   "metadata": {},
   "outputs": [],
   "source": []
  },
  {
   "cell_type": "markdown",
   "metadata": {},
   "source": [
    "## Чек-лист готовности проекта"
   ]
  },
  {
   "cell_type": "markdown",
   "metadata": {},
   "source": [
    "Поставьте 'x' в выполненных пунктах. Далее нажмите Shift+Enter."
   ]
  },
  {
   "cell_type": "markdown",
   "metadata": {},
   "source": [
    "- [x]  Jupyter Notebook открыт\n",
    "- [ ]  Весь код выполняется без ошибок\n",
    "- [ ]  Ячейки с кодом расположены в порядке исполнения\n",
    "- [ ]  Выполнен шаг 1: данные подготовлены\n",
    "- [ ]  Выполнен шаг 2: модели обучены и проверены\n",
    "    - [ ]  Данные корректно разбиты на обучающую и валидационную выборки\n",
    "    - [ ]  Модели обучены, предсказания сделаны\n",
    "    - [ ]  Предсказания и правильные ответы на валидационной выборке сохранены\n",
    "    - [ ]  На экране напечатаны результаты\n",
    "    - [ ]  Сделаны выводы\n",
    "- [ ]  Выполнен шаг 3: проведена подготовка к расчёту прибыли\n",
    "    - [ ]  Для всех ключевых значений созданы константы Python\n",
    "    - [ ]  Посчитано минимальное среднее количество продукта в месторождениях региона, достаточное для разработки\n",
    "    - [ ]  По предыдущему пункту сделаны выводы\n",
    "    - [ ]  Написана функция расчёта прибыли\n",
    "- [ ]  Выполнен шаг 4: посчитаны риски и прибыль\n",
    "    - [ ]  Проведена процедура *Bootstrap*\n",
    "    - [ ]  Все параметры бутстрепа соответствуют условию\n",
    "    - [ ]  Найдены все нужные величины\n",
    "    - [ ]  Предложен регион для разработки месторождения\n",
    "    - [ ]  Выбор региона обоснован"
   ]
  },
  {
   "cell_type": "code",
   "execution_count": null,
   "metadata": {},
   "outputs": [],
   "source": []
  }
 ],
 "metadata": {
  "kernelspec": {
   "display_name": "Python 3 (ipykernel)",
   "language": "python",
   "name": "python3"
  },
  "language_info": {
   "codemirror_mode": {
    "name": "ipython",
    "version": 3
   },
   "file_extension": ".py",
   "mimetype": "text/x-python",
   "name": "python",
   "nbconvert_exporter": "python",
   "pygments_lexer": "ipython3",
   "version": "3.9.5"
  },
  "toc": {
   "base_numbering": 1,
   "nav_menu": {},
   "number_sections": true,
   "sideBar": true,
   "skip_h1_title": true,
   "title_cell": "Table of Contents",
   "title_sidebar": "Contents",
   "toc_cell": false,
   "toc_position": {},
   "toc_section_display": true,
   "toc_window_display": false
  }
 },
 "nbformat": 4,
 "nbformat_minor": 2
}
