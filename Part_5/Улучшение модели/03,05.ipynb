{
 "cells": [
  {
   "metadata": {
    "ExecuteTime": {
     "end_time": "2025-02-02T10:52:15.365399Z",
     "start_time": "2025-02-02T10:52:14.679029Z"
    }
   },
   "cell_type": "code",
   "source": [
    "import pandas as pd\n",
    "from sklearn.metrics import accuracy_score\n",
    "from sklearn.model_selection import train_test_split\n",
    "from sklearn.tree import DecisionTreeClassifier\n",
    "from sklearn.ensemble import RandomForestClassifier"
   ],
   "id": "3b018ba11b02456d",
   "outputs": [],
   "execution_count": 20
  },
  {
   "metadata": {
    "ExecuteTime": {
     "end_time": "2025-02-02T08:57:41.808271Z",
     "start_time": "2025-02-02T08:57:41.774055Z"
    }
   },
   "cell_type": "code",
   "source": "df = pd.read_csv(r'C:\\Users\\andre\\Рабочий стол\\Jetbrains Projects\\DataspellProjects\\Projects\\Data Scientist Plus\\Part_5\\Первая обученная модель\\train_data.csv')",
   "id": "8b8787c8a7f55fb4",
   "outputs": [],
   "execution_count": 10
  },
  {
   "metadata": {
    "ExecuteTime": {
     "end_time": "2025-02-02T08:57:42.083093Z",
     "start_time": "2025-02-02T08:57:42.069596Z"
    }
   },
   "cell_type": "code",
   "source": [
    "target_median = df['last_price'].median()\n",
    "df['price_class'] = df['last_price'].apply(lambda x: 1.0 if x > target_median else 0.0)"
   ],
   "id": "618419ca401a8212",
   "outputs": [],
   "execution_count": 11
  },
  {
   "metadata": {
    "ExecuteTime": {
     "end_time": "2025-02-02T08:57:42.363294Z",
     "start_time": "2025-02-02T08:57:42.351934Z"
    }
   },
   "cell_type": "code",
   "source": "df_train, df_valid = train_test_split(df, test_size=0.25, random_state=12345)",
   "id": "696443bb26658d53",
   "outputs": [],
   "execution_count": 12
  },
  {
   "metadata": {
    "ExecuteTime": {
     "end_time": "2025-02-02T08:57:42.654098Z",
     "start_time": "2025-02-02T08:57:42.646442Z"
    }
   },
   "cell_type": "code",
   "source": [
    "features_train = df_train.drop(['last_price', 'price_class'], axis=1)\n",
    "target_train = df_train['price_class']"
   ],
   "id": "231228168fb978d",
   "outputs": [],
   "execution_count": 13
  },
  {
   "metadata": {
    "ExecuteTime": {
     "end_time": "2025-02-02T08:57:42.997062Z",
     "start_time": "2025-02-02T08:57:42.990037Z"
    }
   },
   "cell_type": "code",
   "source": [
    "features_valid = df_valid.drop(['last_price', 'price_class'], axis=1)\n",
    "target_valid = df_valid['price_class']"
   ],
   "id": "f76cbe4082168883",
   "outputs": [],
   "execution_count": 14
  },
  {
   "metadata": {
    "ExecuteTime": {
     "end_time": "2025-02-02T09:00:43.677322Z",
     "start_time": "2025-02-02T09:00:43.516960Z"
    }
   },
   "cell_type": "code",
   "source": [
    "for depth in range(1, 10):\n",
    "    model = DecisionTreeClassifier(max_depth=depth)\n",
    "    model.fit(features_train, target_train)\n",
    "    predictions = model.predict(features_valid)\n",
    "    score = accuracy_score(predictions, target_valid)\n",
    "    print(depth, score)"
   ],
   "id": "576c0276f6523fde",
   "outputs": [
    {
     "name": "stdout",
     "output_type": "stream",
     "text": [
      "1 0.8522167487684729\n",
      "2 0.8522167487684729\n",
      "3 0.8466748768472906\n",
      "4 0.8725369458128078\n",
      "5 0.8663793103448276\n",
      "6 0.8706896551724138\n",
      "7 0.8657635467980296\n",
      "8 0.8706896551724138\n",
      "9 0.8639162561576355\n"
     ]
    }
   ],
   "execution_count": 19
  },
  {
   "metadata": {
    "ExecuteTime": {
     "end_time": "2025-02-02T10:56:18.945959Z",
     "start_time": "2025-02-02T10:56:18.506962Z"
    }
   },
   "cell_type": "code",
   "source": [
    "for est in range(1, 11):\n",
    "    best_score, best_est = 0, 0\n",
    "    model = RandomForestClassifier(n_estimators=est, random_state=12345)\n",
    "    model.fit(features_train, target_train)\n",
    "    predictions = model.predict(features_valid)\n",
    "    score = accuracy_score(predictions, target_valid)\n",
    "    if score > best_score:\n",
    "        best_score = score\n",
    "        best_est = est\n",
    "\n",
    "print(best_score)"
   ],
   "id": "aeef73a6b40040c",
   "outputs": [
    {
     "name": "stdout",
     "output_type": "stream",
     "text": [
      "0.8866995073891626\n"
     ]
    }
   ],
   "execution_count": 24
  }
 ],
 "metadata": {
  "kernelspec": {
   "display_name": "Python 3",
   "language": "python",
   "name": "python3"
  },
  "language_info": {
   "codemirror_mode": {
    "name": "ipython",
    "version": 2
   },
   "file_extension": ".py",
   "mimetype": "text/x-python",
   "name": "python",
   "nbconvert_exporter": "python",
   "pygments_lexer": "ipython2",
   "version": "2.7.6"
  }
 },
 "nbformat": 4,
 "nbformat_minor": 5
}
