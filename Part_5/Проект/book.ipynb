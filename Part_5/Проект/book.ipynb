{
 "cells": [
  {
   "cell_type": "markdown",
   "metadata": {},
   "source": [
    "# Рекомендация тарифов"
   ]
  },
  {
   "cell_type": "markdown",
   "metadata": {},
   "source": [
    "В вашем распоряжении данные о поведении клиентов, которые уже перешли на эти тарифы (из проекта курса «Статистический анализ данных»). Нужно построить модель для задачи классификации, которая выберет подходящий тариф. Предобработка данных не понадобится — вы её уже сделали.\n",
    "\n",
    "Постройте модель с максимально большим значением *accuracy*. Чтобы сдать проект успешно, нужно довести долю правильных ответов по крайней мере до 0.75. Проверьте *accuracy* на тестовой выборке самостоятельно."
   ]
  },
  {
   "metadata": {
    "ExecuteTime": {
     "end_time": "2025-02-02T19:25:03.009735Z",
     "start_time": "2025-02-02T19:25:03.004103Z"
    }
   },
   "cell_type": "code",
   "source": [
    "import pandas as pd\n",
    "from sklearn.model_selection import train_test_split\n",
    "from sklearn.tree import DecisionTreeClassifier\n",
    "from sklearn.ensemble import RandomForestClassifier\n",
    "from sklearn import metrics\n",
    "from sklearn.linear_model import LogisticRegression\n",
    "from sklearn.metrics import mean_squared_error"
   ],
   "outputs": [],
   "execution_count": 21
  },
  {
   "cell_type": "markdown",
   "metadata": {},
   "source": [
    "## Откройте и изучите файл"
   ]
  },
  {
   "cell_type": "code",
   "metadata": {
    "ExecuteTime": {
     "end_time": "2025-02-02T18:51:20.459589Z",
     "start_time": "2025-02-02T18:51:20.422450Z"
    }
   },
   "source": [
    "df = pd.read_csv(r'C:\\Users\\andre\\Рабочий стол\\Практикум\\Специалист по Data Science Плюс. Часть 5\\06 Проект\\users_behavior.csv')\n",
    "df.head()"
   ],
   "outputs": [
    {
     "data": {
      "text/plain": [
       "   calls  minutes  messages   mb_used  is_ultra\n",
       "0   40.0   311.90      83.0  19915.42         0\n",
       "1   85.0   516.75      56.0  22696.96         0\n",
       "2   77.0   467.66      86.0  21060.45         0\n",
       "3  106.0   745.53      81.0   8437.39         1\n",
       "4   66.0   418.74       1.0  14502.75         0"
      ],
      "text/html": [
       "<div>\n",
       "<style scoped>\n",
       "    .dataframe tbody tr th:only-of-type {\n",
       "        vertical-align: middle;\n",
       "    }\n",
       "\n",
       "    .dataframe tbody tr th {\n",
       "        vertical-align: top;\n",
       "    }\n",
       "\n",
       "    .dataframe thead th {\n",
       "        text-align: right;\n",
       "    }\n",
       "</style>\n",
       "<table border=\"1\" class=\"dataframe\">\n",
       "  <thead>\n",
       "    <tr style=\"text-align: right;\">\n",
       "      <th></th>\n",
       "      <th>calls</th>\n",
       "      <th>minutes</th>\n",
       "      <th>messages</th>\n",
       "      <th>mb_used</th>\n",
       "      <th>is_ultra</th>\n",
       "    </tr>\n",
       "  </thead>\n",
       "  <tbody>\n",
       "    <tr>\n",
       "      <th>0</th>\n",
       "      <td>40.0</td>\n",
       "      <td>311.90</td>\n",
       "      <td>83.0</td>\n",
       "      <td>19915.42</td>\n",
       "      <td>0</td>\n",
       "    </tr>\n",
       "    <tr>\n",
       "      <th>1</th>\n",
       "      <td>85.0</td>\n",
       "      <td>516.75</td>\n",
       "      <td>56.0</td>\n",
       "      <td>22696.96</td>\n",
       "      <td>0</td>\n",
       "    </tr>\n",
       "    <tr>\n",
       "      <th>2</th>\n",
       "      <td>77.0</td>\n",
       "      <td>467.66</td>\n",
       "      <td>86.0</td>\n",
       "      <td>21060.45</td>\n",
       "      <td>0</td>\n",
       "    </tr>\n",
       "    <tr>\n",
       "      <th>3</th>\n",
       "      <td>106.0</td>\n",
       "      <td>745.53</td>\n",
       "      <td>81.0</td>\n",
       "      <td>8437.39</td>\n",
       "      <td>1</td>\n",
       "    </tr>\n",
       "    <tr>\n",
       "      <th>4</th>\n",
       "      <td>66.0</td>\n",
       "      <td>418.74</td>\n",
       "      <td>1.0</td>\n",
       "      <td>14502.75</td>\n",
       "      <td>0</td>\n",
       "    </tr>\n",
       "  </tbody>\n",
       "</table>\n",
       "</div>"
      ]
     },
     "execution_count": 4,
     "metadata": {},
     "output_type": "execute_result"
    }
   ],
   "execution_count": 4
  },
  {
   "cell_type": "markdown",
   "metadata": {},
   "source": [
    "## Разбейте данные на выборки"
   ]
  },
  {
   "cell_type": "code",
   "metadata": {
    "ExecuteTime": {
     "end_time": "2025-02-02T18:54:41.806972Z",
     "start_time": "2025-02-02T18:54:41.800455Z"
    }
   },
   "source": [
    "target = df['is_ultra']\n",
    "features = df.drop('is_ultra', axis=1)"
   ],
   "outputs": [],
   "execution_count": 5
  },
  {
   "metadata": {
    "ExecuteTime": {
     "end_time": "2025-02-02T18:55:52.591779Z",
     "start_time": "2025-02-02T18:55:52.582030Z"
    }
   },
   "cell_type": "code",
   "source": "train_features, test_features, train_target, test_target = train_test_split(features, target, test_size=0.25, random_state=42)",
   "outputs": [],
   "execution_count": 6
  },
  {
   "cell_type": "markdown",
   "metadata": {},
   "source": [
    "## Исследуйте модели"
   ]
  },
  {
   "metadata": {},
   "cell_type": "markdown",
   "source": "### Дерево решений"
  },
  {
   "cell_type": "code",
   "metadata": {
    "ExecuteTime": {
     "end_time": "2025-02-02T19:00:26.367767Z",
     "start_time": "2025-02-02T19:00:26.284705Z"
    }
   },
   "source": [
    "best_depth, best_result = 0,0\n",
    "for depth in range(1, 10):\n",
    "    des_tree = DecisionTreeClassifier(max_depth=depth)\n",
    "    des_tree.fit(train_features, train_target)\n",
    "    prediction = des_tree.predict(test_features)\n",
    "    score = metrics.accuracy_score(test_target, prediction)\n",
    "    if score > best_result:\n",
    "        best_result = score\n",
    "        best_depth = depth\n",
    "print(best_result,best_depth)"
   ],
   "outputs": [
    {
     "name": "stdout",
     "output_type": "stream",
     "text": [
      "0.8072139303482587 4\n"
     ]
    }
   ],
   "execution_count": 10
  },
  {
   "metadata": {},
   "cell_type": "markdown",
   "source": "### Случайный лес"
  },
  {
   "metadata": {
    "ExecuteTime": {
     "end_time": "2025-02-02T19:21:22.001849Z",
     "start_time": "2025-02-02T19:20:02.969190Z"
    }
   },
   "cell_type": "code",
   "source": [
    "best_depth, best_result, best_est = 0,0,0\n",
    "for est in range(1, 51, 10):\n",
    "    for sample in range(1, 51):\n",
    "        for depth in range(1, 10):\n",
    "            rand_forest = RandomForestClassifier(n_estimators=est, max_depth=depth, max_samples=sample)\n",
    "            rand_forest.fit(train_features, train_target)\n",
    "            prediction = rand_forest.predict(test_features)\n",
    "            score = metrics.accuracy_score(test_target, prediction)\n",
    "            if score > best_result:\n",
    "                best_result = score\n",
    "                best_depth = depth\n",
    "                best_est = est\n",
    "print(best_result,best_depth,best_est)"
   ],
   "outputs": [
    {
     "name": "stdout",
     "output_type": "stream",
     "text": [
      "0.8134328358208955 9 31\n"
     ]
    }
   ],
   "execution_count": 20
  },
  {
   "metadata": {},
   "cell_type": "markdown",
   "source": "### Логистическая регрессия"
  },
  {
   "metadata": {
    "ExecuteTime": {
     "end_time": "2025-02-02T19:11:12.325436Z",
     "start_time": "2025-02-02T19:11:12.296106Z"
    }
   },
   "cell_type": "code",
   "source": [
    "log_reg = LogisticRegression(max_iter=1000, solver='lbfgs')\n",
    "log_reg.fit(train_features, train_target)\n",
    "prediction = log_reg.predict(test_features)\n",
    "score = metrics.accuracy_score(test_target, prediction)\n",
    "print(score)"
   ],
   "outputs": [
    {
     "name": "stdout",
     "output_type": "stream",
     "text": [
      "0.7549751243781094\n"
     ]
    }
   ],
   "execution_count": 18
  },
  {
   "cell_type": "markdown",
   "metadata": {},
   "source": [
    "## Проверьте модель на тестовой выборке"
   ]
  },
  {
   "cell_type": "code",
   "execution_count": null,
   "metadata": {},
   "outputs": [],
   "source": ""
  },
  {
   "cell_type": "markdown",
   "metadata": {},
   "source": [
    "## (бонус) Проверьте модели на адекватность"
   ]
  },
  {
   "cell_type": "code",
   "execution_count": null,
   "metadata": {},
   "outputs": [],
   "source": []
  },
  {
   "cell_type": "markdown",
   "metadata": {},
   "source": [
    "## Чек-лист готовности проекта"
   ]
  },
  {
   "cell_type": "markdown",
   "metadata": {},
   "source": [
    "Поставьте 'x' в выполненных пунктах. Далее нажмите Shift+Enter."
   ]
  },
  {
   "cell_type": "markdown",
   "metadata": {},
   "source": [
    "- [x] Jupyter Notebook открыт\n",
    "- [ ] Весь код исполняется без ошибок\n",
    "- [ ] Ячейки с кодом расположены в порядке исполнения\n",
    "- [ ] Выполнено задание 1: данные загружены и изучены\n",
    "- [ ] Выполнено задание 2: данные разбиты на три выборки\n",
    "- [ ] Выполнено задание 3: проведено исследование моделей\n",
    "    - [ ] Рассмотрено больше одной модели\n",
    "    - [ ] Рассмотрено хотя бы 3 значения гипепараметров для какой-нибудь модели\n",
    "    - [ ] Написаны выводы по результатам исследования\n",
    "- [ ] Выполнено задание 3: Проведено тестирование\n",
    "- [ ] Удалось достичь accuracy не меньше 0.75\n"
   ]
  },
  {
   "cell_type": "code",
   "execution_count": null,
   "metadata": {},
   "outputs": [],
   "source": []
  },
  {
   "metadata": {},
   "cell_type": "markdown",
   "source": [
    "Конечно! Давайте рассмотрим понятия \"точность\" (precision) и \"полнота\" (recall) в контексте задач классификации. Оба показателя используются для оценки качества модели.\n",
    "\n",
    "### Precision (Точность)\n",
    "Точность показывает, какая доля предсказанных положительных примеров действительно является положительными.\n",
    "\n",
    "**Формула**:\n",
    "$$ \\text{Precision} = \\frac{\\text{TP}}{\\text{TP} + \\text{FP}} $$\n",
    "\n",
    "- **TP (True Positive)** - количество истинно положительных предсказаний (когда модель правильно предсказала положительный класс).\n",
    "- **FP (False Positive)** - количество ложно положительных предсказаний (когда модель ошибочно предсказала положительный класс).\n",
    "\n",
    "**Пример**:\n",
    "Если модель определяет наличие заболевания, и из 100 предсказанных положительных случаев 80 действительно больны, а 20 здоровы, то точность будет:\n",
    "$$ \\text{Precision} = \\frac{80}{80 + 20} = 0.8 $$\n",
    "\n",
    "### Recall (Полнота)\n",
    "Полнота показывает, какую долю положительных примеров модель правильно распознала.\n",
    "\n",
    "**Формула**:\n",
    "$$ \\text{Recall} = \\frac{\\text{TP}}{\\text{TP} + \\text{FN}} $$\n",
    "\n",
    "- **TP (True Positive)** - количество истинно положительных предсказаний.\n",
    "- **FN (False Negative)** - количество ложно отрицательных предсказаний (когда модель не распознала положительный класс).\n",
    "\n",
    "**Пример**:\n",
    "Если из 100 фактически больных людей модель правильно определила 80, а пропустила 20, то полнота будет:\n",
    "$$ \\text{Recall} = \\frac{80}{80 + 20} = 0.8 $$\n",
    "\n",
    "### Взаимосвязь\n",
    "Оба показателя важны для оценки качества модели. При высоком значении точности модель делает меньше ложных положительных предсказаний, а при высоком значении полноты - меньше ложных отрицательных. Баланс между ними можно найти с помощью F1-меры, которая является гармоническим средним точности и полноты:\n",
    "$$ \\text{F1 Score} = 2 \\cdot \\frac{\\text{Precision} \\cdot \\text{Recall}}{\\text{Precision} + \\text{Recall}} $$\n",
    "\n",
    "Надеюсь, это описание помогло вам лучше понять точность и полноту! Если у вас есть дополнительные вопросы или нужен пример с кодом, дайте знать!"
   ]
  }
 ],
 "metadata": {
  "kernelspec": {
   "display_name": "Python 3 (ipykernel)",
   "language": "python",
   "name": "python3"
  },
  "language_info": {
   "codemirror_mode": {
    "name": "ipython",
    "version": 3
   },
   "file_extension": ".py",
   "mimetype": "text/x-python",
   "name": "python",
   "nbconvert_exporter": "python",
   "pygments_lexer": "ipython3",
   "version": "3.9.5"
  },
  "toc": {
   "base_numbering": 1,
   "nav_menu": {},
   "number_sections": true,
   "sideBar": true,
   "skip_h1_title": true,
   "title_cell": "Table of Contents",
   "title_sidebar": "Contents",
   "toc_cell": false,
   "toc_position": {},
   "toc_section_display": true,
   "toc_window_display": false
  }
 },
 "nbformat": 4,
 "nbformat_minor": 2
}
