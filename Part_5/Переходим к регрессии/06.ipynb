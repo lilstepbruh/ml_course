{
 "cells": [
  {
   "cell_type": "code",
   "id": "initial_id",
   "metadata": {
    "collapsed": true,
    "ExecuteTime": {
     "end_time": "2025-02-02T14:39:10.105770Z",
     "start_time": "2025-02-02T14:39:03.708181Z"
    }
   },
   "source": [
    "import pandas as pd\n",
    "from sklearn.tree import DecisionTreeRegressor\n",
    "from sklearn.model_selection import train_test_split\n",
    "from sklearn.metrics import mean_squared_error"
   ],
   "outputs": [],
   "execution_count": 1
  },
  {
   "metadata": {
    "ExecuteTime": {
     "end_time": "2025-02-02T14:39:11.242716Z",
     "start_time": "2025-02-02T14:39:11.202744Z"
    }
   },
   "cell_type": "code",
   "source": "df = pd.read_csv(r'C:\\Users\\andre\\Рабочий стол\\Jetbrains Projects\\DataspellProjects\\Projects\\Data Scientist Plus\\Part_5\\Первая обученная модель\\train_data.csv')",
   "id": "cbbf46f7743ae96a",
   "outputs": [],
   "execution_count": 2
  },
  {
   "metadata": {
    "ExecuteTime": {
     "end_time": "2025-02-02T14:39:35.451765Z",
     "start_time": "2025-02-02T14:39:35.445340Z"
    }
   },
   "cell_type": "code",
   "source": [
    "features = df.drop(['last_price'], axis=1)\n",
    "target = df['last_price'] / 1000000"
   ],
   "id": "36a17620ea7501c6",
   "outputs": [],
   "execution_count": 3
  },
  {
   "metadata": {
    "ExecuteTime": {
     "end_time": "2025-02-02T14:47:56.635738Z",
     "start_time": "2025-02-02T14:47:56.623321Z"
    }
   },
   "cell_type": "code",
   "source": "features_train, features_valid, target_train, target_valid = train_test_split(features, target, test_size = 25, random_state=12345)",
   "id": "fcf6a0c274589857",
   "outputs": [],
   "execution_count": 5
  },
  {
   "metadata": {
    "ExecuteTime": {
     "end_time": "2025-02-02T14:49:45.114934Z",
     "start_time": "2025-02-02T14:49:45.040142Z"
    }
   },
   "cell_type": "code",
   "source": [
    "best_result, best_depth = float('inf'), 0\n",
    "best_model = None\n",
    "for depth in range(1, 6):\n",
    "    model = DecisionTreeRegressor(max_depth=depth, random_state=12345)\n",
    "    model.fit(features_train, target_train)\n",
    "    predictions = model.predict(features_valid)\n",
    "    mse = mean_squared_error(target_valid, predictions) ** 0.5\n",
    "    if mse < best_result:\n",
    "        best_result = mse\n",
    "        best_depth = depth\n",
    "        best_model = model"
   ],
   "id": "977a6b4e77752b48",
   "outputs": [],
   "execution_count": 15
  },
  {
   "metadata": {
    "ExecuteTime": {
     "end_time": "2025-02-02T14:49:45.530801Z",
     "start_time": "2025-02-02T14:49:45.524974Z"
    }
   },
   "cell_type": "code",
   "source": "print(\"RMSE наилучшей модели на валидационной выборке:\", best_result, \"Глубина дерева:\", best_depth)\n",
   "id": "6e994b4682df5e8",
   "outputs": [
    {
     "name": "stdout",
     "output_type": "stream",
     "text": [
      "RMSE наилучшей модели на валидационной выборке: 2.8804101522793957 Глубина дерева: 5\n"
     ]
    }
   ],
   "execution_count": 16
  }
 ],
 "metadata": {
  "kernelspec": {
   "display_name": "Python 3",
   "language": "python",
   "name": "python3"
  },
  "language_info": {
   "codemirror_mode": {
    "name": "ipython",
    "version": 2
   },
   "file_extension": ".py",
   "mimetype": "text/x-python",
   "name": "python",
   "nbconvert_exporter": "python",
   "pygments_lexer": "ipython2",
   "version": "2.7.6"
  }
 },
 "nbformat": 4,
 "nbformat_minor": 5
}
