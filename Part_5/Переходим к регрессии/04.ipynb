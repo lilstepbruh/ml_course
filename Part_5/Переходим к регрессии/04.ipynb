{
 "cells": [
  {
   "cell_type": "code",
   "id": "initial_id",
   "metadata": {
    "collapsed": true,
    "ExecuteTime": {
     "end_time": "2025-02-02T13:07:47.400317Z",
     "start_time": "2025-02-02T13:07:47.391785Z"
    }
   },
   "source": [
    "answers = [623, 253, 150, 237]\n",
    "predictions = [649, 253, 370, 148]"
   ],
   "outputs": [],
   "execution_count": 1
  },
  {
   "metadata": {
    "ExecuteTime": {
     "end_time": "2025-02-02T13:09:06.121383Z",
     "start_time": "2025-02-02T13:09:06.116128Z"
    }
   },
   "cell_type": "code",
   "source": [
    "def mse(predictions, answers):\n",
    "    res = 0\n",
    "    for i in range(len(predictions)):\n",
    "        res += (predictions[i] - answers[i]) ** 2\n",
    "    return res / len(predictions)"
   ],
   "id": "cae8a037a5002afa",
   "outputs": [],
   "execution_count": 4
  },
  {
   "metadata": {
    "ExecuteTime": {
     "end_time": "2025-02-02T13:09:06.543399Z",
     "start_time": "2025-02-02T13:09:06.531736Z"
    }
   },
   "cell_type": "code",
   "source": "mse(predictions, answers)",
   "id": "921f7be6e22605cd",
   "outputs": [
    {
     "data": {
      "text/plain": [
       "14249.25"
      ]
     },
     "execution_count": 5,
     "metadata": {},
     "output_type": "execute_result"
    }
   ],
   "execution_count": 5
  },
  {
   "metadata": {
    "ExecuteTime": {
     "end_time": "2025-02-02T13:09:58.980794Z",
     "start_time": "2025-02-02T13:09:56.793475Z"
    }
   },
   "cell_type": "code",
   "source": "from sklearn.metrics import mean_squared_error",
   "id": "cde526cf0344e89a",
   "outputs": [],
   "execution_count": 6
  },
  {
   "metadata": {
    "ExecuteTime": {
     "end_time": "2025-02-02T13:10:36.878233Z",
     "start_time": "2025-02-02T13:10:36.870503Z"
    }
   },
   "cell_type": "code",
   "source": "mean_squared_error(answers, predictions)",
   "id": "f9bb799c5bfd88bb",
   "outputs": [
    {
     "data": {
      "text/plain": [
       "14249.25"
      ]
     },
     "execution_count": 9,
     "metadata": {},
     "output_type": "execute_result"
    }
   ],
   "execution_count": 9
  }
 ],
 "metadata": {
  "kernelspec": {
   "display_name": "Python 3",
   "language": "python",
   "name": "python3"
  },
  "language_info": {
   "codemirror_mode": {
    "name": "ipython",
    "version": 2
   },
   "file_extension": ".py",
   "mimetype": "text/x-python",
   "name": "python",
   "nbconvert_exporter": "python",
   "pygments_lexer": "ipython2",
   "version": "2.7.6"
  }
 },
 "nbformat": 4,
 "nbformat_minor": 5
}
