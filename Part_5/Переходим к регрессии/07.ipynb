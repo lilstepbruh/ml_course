{
 "cells": [
  {
   "metadata": {
    "ExecuteTime": {
     "end_time": "2025-02-02T14:59:46.403227Z",
     "start_time": "2025-02-02T14:59:46.398014Z"
    }
   },
   "cell_type": "code",
   "source": [
    "import pandas as pd\n",
    "from sklearn.ensemble import RandomForestClassifier\n",
    "from sklearn.model_selection import train_test_split\n",
    "from sklearn.metrics import mean_squared_error"
   ],
   "id": "4e49d3cef45ea179",
   "outputs": [],
   "execution_count": 8
  },
  {
   "metadata": {
    "ExecuteTime": {
     "end_time": "2025-02-02T14:59:46.473630Z",
     "start_time": "2025-02-02T14:59:46.456344Z"
    }
   },
   "cell_type": "code",
   "source": "df = pd.read_csv(r'C:\\Users\\andre\\Рабочий стол\\Jetbrains Projects\\DataspellProjects\\Projects\\Data Scientist Plus\\Part_5\\Первая обученная модель\\train_data.csv')",
   "id": "a21c8ddbd2a77fa6",
   "outputs": [],
   "execution_count": 9
  },
  {
   "metadata": {
    "ExecuteTime": {
     "end_time": "2025-02-02T14:59:46.490406Z",
     "start_time": "2025-02-02T14:59:46.484234Z"
    }
   },
   "cell_type": "code",
   "source": [
    "features = df.drop(['last_price'], axis=1)\n",
    "target = df['last_price'] / 1000000"
   ],
   "id": "c62fb216dbf32659",
   "outputs": [],
   "execution_count": 10
  },
  {
   "metadata": {
    "ExecuteTime": {
     "end_time": "2025-02-02T15:00:44.869901Z",
     "start_time": "2025-02-02T15:00:44.861700Z"
    }
   },
   "cell_type": "code",
   "source": "features_train, features_valid, target_train, target_valid = train_test_split(features, target, test_size = 0.25, random_state=12345)",
   "id": "e02db6499cb13e92",
   "outputs": [],
   "execution_count": 16
  },
  {
   "metadata": {
    "ExecuteTime": {
     "end_time": "2025-02-02T15:00:45.339053Z",
     "start_time": "2025-02-02T15:00:45.332910Z"
    }
   },
   "cell_type": "code",
   "source": [
    "best_model = None\n",
    "best_result = float('inf')\n",
    "best_est = 0\n",
    "best_depth = 0"
   ],
   "id": "205531a01a280c1d",
   "outputs": [],
   "execution_count": 17
  },
  {
   "metadata": {
    "ExecuteTime": {
     "end_time": "2025-02-02T15:01:00.011754Z",
     "start_time": "2025-02-02T15:00:45.899845Z"
    }
   },
   "cell_type": "code",
   "source": [
    "for est in range(10, 51, 10):\n",
    "    for depth in range(1, 11):\n",
    "        model = RandomForestRegressor(random_state=12345, n_estimators=est, max_depth=depth)\n",
    "        model.fit(features_train, target_train)\n",
    "        predictions_valid = model.predict(features_valid)\n",
    "        result = mean_squared_error(target_valid, predictions_valid) ** 0.5\n",
    "        if result < best_result:\n",
    "            best_model = model\n",
    "            best_result = result\n",
    "            best_est = est\n",
    "            best_depth = depth"
   ],
   "id": "31cbf7013cb71088",
   "outputs": [],
   "execution_count": 18
  },
  {
   "metadata": {
    "ExecuteTime": {
     "end_time": "2025-02-02T15:01:01.208498Z",
     "start_time": "2025-02-02T15:01:01.203418Z"
    }
   },
   "cell_type": "code",
   "source": "print(\"RMSE наилучшей модели на валидационной выборке:\", best_result, \"Количество деревьев:\", best_est, \"Максимальная глубина:\", best_depth)\n",
   "id": "e5d9cd4c4b3a4972",
   "outputs": [
    {
     "name": "stdout",
     "output_type": "stream",
     "text": [
      "RMSE наилучшей модели на валидационной выборке: 7.052975801299085 Количество деревьев: 40 Максимальная глубина: 10\n"
     ]
    }
   ],
   "execution_count": 19
  },
  {
   "metadata": {},
   "cell_type": "code",
   "outputs": [],
   "execution_count": null,
   "source": "",
   "id": "2268aa5fd87a52f2"
  }
 ],
 "metadata": {
  "kernelspec": {
   "display_name": "Python 3",
   "language": "python",
   "name": "python3"
  },
  "language_info": {
   "codemirror_mode": {
    "name": "ipython",
    "version": 2
   },
   "file_extension": ".py",
   "mimetype": "text/x-python",
   "name": "python",
   "nbconvert_exporter": "python",
   "pygments_lexer": "ipython2",
   "version": "2.7.6"
  }
 },
 "nbformat": 4,
 "nbformat_minor": 5
}
