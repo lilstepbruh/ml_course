{
 "cells": [
  {
   "metadata": {
    "ExecuteTime": {
     "end_time": "2025-02-02T16:00:52.418963Z",
     "start_time": "2025-02-02T16:00:49.714340Z"
    }
   },
   "cell_type": "code",
   "source": [
    "import pandas as pd\n",
    "from sklearn.linear_model import LinearRegression\n",
    "from sklearn.model_selection import train_test_split\n",
    "from sklearn.metrics import mean_squared_error"
   ],
   "id": "e457228ada6a6422",
   "outputs": [],
   "execution_count": 1
  },
  {
   "metadata": {
    "ExecuteTime": {
     "end_time": "2025-02-02T16:00:56.477271Z",
     "start_time": "2025-02-02T16:00:56.447832Z"
    }
   },
   "cell_type": "code",
   "source": "df = pd.read_csv(r'C:\\Users\\andre\\Рабочий стол\\Jetbrains Projects\\DataspellProjects\\Projects\\Data Scientist Plus\\Part_5\\Первая обученная модель\\train_data.csv')",
   "id": "95ad28c764dd3696",
   "outputs": [],
   "execution_count": 2
  },
  {
   "metadata": {
    "ExecuteTime": {
     "end_time": "2025-02-02T16:01:21.748923Z",
     "start_time": "2025-02-02T16:01:21.739605Z"
    }
   },
   "cell_type": "code",
   "source": [
    "features = df.drop(['last_price'], axis=1)\n",
    "target = df['last_price'] / 1000000"
   ],
   "id": "143ab5d9781dd6c4",
   "outputs": [],
   "execution_count": 3
  },
  {
   "metadata": {
    "ExecuteTime": {
     "end_time": "2025-02-02T16:04:33.519355Z",
     "start_time": "2025-02-02T16:04:33.509757Z"
    }
   },
   "cell_type": "code",
   "source": "features_train, features_test, target_train, target_test = train_test_split(features, target, test_size=0.25, random_state=12345)",
   "id": "437feb868c856b7e",
   "outputs": [],
   "execution_count": 4
  },
  {
   "metadata": {
    "ExecuteTime": {
     "end_time": "2025-02-02T16:05:39.129838Z",
     "start_time": "2025-02-02T16:05:38.657194Z"
    }
   },
   "cell_type": "code",
   "source": [
    "model = LinearRegression()\n",
    "model.fit(features_train, target_train)\n",
    "predictions = model.predict(features_test)\n",
    "mse = mean_squared_error(target_test, predictions)"
   ],
   "id": "e54680691af2feda",
   "outputs": [],
   "execution_count": 5
  },
  {
   "metadata": {
    "ExecuteTime": {
     "end_time": "2025-02-02T16:05:55.126419Z",
     "start_time": "2025-02-02T16:05:55.120718Z"
    }
   },
   "cell_type": "code",
   "source": "print(\"RMSE модели линейной регрессии на валидационной выборке:\", mse**0.5)\n",
   "id": "2b83c6300c712e2a",
   "outputs": [
    {
     "name": "stdout",
     "output_type": "stream",
     "text": [
      "RMSE модели линейной регрессии на валидационной выборке: 7.7260066970084065\n"
     ]
    }
   ],
   "execution_count": 6
  },
  {
   "metadata": {},
   "cell_type": "code",
   "outputs": [],
   "execution_count": null,
   "source": "",
   "id": "9a901b6ee6b07104"
  }
 ],
 "metadata": {
  "kernelspec": {
   "display_name": "Python 3",
   "language": "python",
   "name": "python3"
  },
  "language_info": {
   "codemirror_mode": {
    "name": "ipython",
    "version": 2
   },
   "file_extension": ".py",
   "mimetype": "text/x-python",
   "name": "python",
   "nbconvert_exporter": "python",
   "pygments_lexer": "ipython2",
   "version": "2.7.6"
  }
 },
 "nbformat": 4,
 "nbformat_minor": 5
}
