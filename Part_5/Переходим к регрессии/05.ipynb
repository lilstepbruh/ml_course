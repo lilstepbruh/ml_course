{
 "cells": [
  {
   "cell_type": "code",
   "id": "initial_id",
   "metadata": {
    "collapsed": true,
    "ExecuteTime": {
     "end_time": "2025-02-02T13:12:38.756495Z",
     "start_time": "2025-02-02T13:12:36.924177Z"
    }
   },
   "source": [
    "import pandas as pd\n",
    "from sklearn.metrics import mean_squared_error"
   ],
   "outputs": [],
   "execution_count": 1
  },
  {
   "metadata": {
    "ExecuteTime": {
     "end_time": "2025-02-02T13:12:56.610122Z",
     "start_time": "2025-02-02T13:12:56.572478Z"
    }
   },
   "cell_type": "code",
   "source": "df = pd.read_csv(r'C:\\Users\\andre\\Рабочий стол\\Jetbrains Projects\\DataspellProjects\\Projects\\Data Scientist Plus\\Part_5\\Первая обученная модель\\train_data.csv')",
   "id": "e4f8dac71c6793ee",
   "outputs": [],
   "execution_count": 2
  },
  {
   "metadata": {
    "ExecuteTime": {
     "end_time": "2025-02-02T13:16:46.679374Z",
     "start_time": "2025-02-02T13:16:46.671025Z"
    }
   },
   "cell_type": "code",
   "source": [
    "features = df.drop('last_price', axis=1)\n",
    "target = (df['last_price']/10**6)\n",
    "mean = target.mean()"
   ],
   "id": "205203c3fc15127e",
   "outputs": [],
   "execution_count": 5
  },
  {
   "metadata": {
    "ExecuteTime": {
     "end_time": "2025-02-02T13:18:03.365313Z",
     "start_time": "2025-02-02T13:18:03.358624Z"
    }
   },
   "cell_type": "code",
   "source": "predictions = pd.Series(target.mean(), index=target.index)",
   "id": "f062b09d03f61418",
   "outputs": [],
   "execution_count": 7
  },
  {
   "metadata": {
    "ExecuteTime": {
     "end_time": "2025-02-02T13:22:08.337677Z",
     "start_time": "2025-02-02T13:22:08.326832Z"
    }
   },
   "cell_type": "code",
   "source": [
    "err = mean_squared_error(target, predictions)\n",
    "rmse = err ** 0.5\n",
    "rmse"
   ],
   "id": "892872eec873b4b5",
   "outputs": [
    {
     "data": {
      "text/plain": [
       "11.757737744151"
      ]
     },
     "execution_count": 9,
     "metadata": {},
     "output_type": "execute_result"
    }
   ],
   "execution_count": 9
  }
 ],
 "metadata": {
  "kernelspec": {
   "display_name": "Python 3",
   "language": "python",
   "name": "python3"
  },
  "language_info": {
   "codemirror_mode": {
    "name": "ipython",
    "version": 2
   },
   "file_extension": ".py",
   "mimetype": "text/x-python",
   "name": "python",
   "nbconvert_exporter": "python",
   "pygments_lexer": "ipython2",
   "version": "2.7.6"
  }
 },
 "nbformat": 4,
 "nbformat_minor": 5
}
