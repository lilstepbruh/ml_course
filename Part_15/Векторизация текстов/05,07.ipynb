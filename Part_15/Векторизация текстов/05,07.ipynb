{
 "cells": [
  {
   "cell_type": "code",
   "id": "initial_id",
   "metadata": {
    "collapsed": true,
    "ExecuteTime": {
     "end_time": "2025-03-26T14:43:31.301537Z",
     "start_time": "2025-03-26T14:43:31.297808Z"
    }
   },
   "source": [
    "from isort.parse import skip_line\n",
    "from nltk.corpus import stopwords\n",
    "import pandas as pd\n",
    "from pymystem3 import Mystem\n",
    "from sklearn.feature_extraction.text import CountVectorizer\n",
    "from sklearn.feature_extraction.text import TfidfVectorizer\n",
    "from sklearn.linear_model import LogisticRegression"
   ],
   "outputs": [],
   "execution_count": 41
  },
  {
   "metadata": {
    "ExecuteTime": {
     "end_time": "2025-03-26T12:56:27.680080Z",
     "start_time": "2025-03-26T12:56:27.646554Z"
    }
   },
   "cell_type": "code",
   "source": "data = pd.read_csv('/home/stepbruh/Рабочий стол/Практикум/Специалист по Data Science Плюс. Часть 15 из 16 (2022)/02 Векторизация текстов/tweets_lemm.csv')",
   "id": "bbf7bc21f6fb9358",
   "outputs": [],
   "execution_count": 4
  },
  {
   "metadata": {
    "ExecuteTime": {
     "end_time": "2025-03-26T13:08:53.362192Z",
     "start_time": "2025-03-26T13:08:53.359042Z"
    }
   },
   "cell_type": "code",
   "source": "stop_words = list(stopwords.words('russian'))",
   "id": "a39b8b7ab0cde0f",
   "outputs": [],
   "execution_count": 29
  },
  {
   "metadata": {
    "ExecuteTime": {
     "end_time": "2025-03-26T13:08:54.788063Z",
     "start_time": "2025-03-26T13:08:54.785428Z"
    }
   },
   "cell_type": "code",
   "source": [
    "count_vector_clear = CountVectorizer(stop_words=stop_words)\n",
    "count_vector = CountVectorizer()"
   ],
   "id": "c4d730963c6cdc07",
   "outputs": [],
   "execution_count": 31
  },
  {
   "metadata": {
    "ExecuteTime": {
     "end_time": "2025-03-26T13:08:55.283627Z",
     "start_time": "2025-03-26T13:08:55.174223Z"
    }
   },
   "cell_type": "code",
   "source": [
    "bow_clear = count_vector_clear.fit_transform(data['lemm_text'])\n",
    "bow = count_vector.fit_transform(data['lemm_text'])"
   ],
   "id": "e17e23f518c625ac",
   "outputs": [],
   "execution_count": 32
  },
  {
   "metadata": {
    "ExecuteTime": {
     "end_time": "2025-03-26T13:06:36.003534Z",
     "start_time": "2025-03-26T13:06:35.998916Z"
    }
   },
   "cell_type": "code",
   "source": "bow.shape",
   "id": "44459cb34190f615",
   "outputs": [
    {
     "data": {
      "text/plain": [
       "(5000, 9345)"
      ]
     },
     "execution_count": 22,
     "metadata": {},
     "output_type": "execute_result"
    }
   ],
   "execution_count": 22
  },
  {
   "metadata": {
    "ExecuteTime": {
     "end_time": "2025-03-26T13:09:04.979844Z",
     "start_time": "2025-03-26T13:09:04.976328Z"
    }
   },
   "cell_type": "code",
   "source": "bow_clear.shape",
   "id": "360e9cdae0500336",
   "outputs": [
    {
     "data": {
      "text/plain": [
       "(5000, 9248)"
      ]
     },
     "execution_count": 33,
     "metadata": {},
     "output_type": "execute_result"
    }
   ],
   "execution_count": 33
  },
  {
   "metadata": {
    "ExecuteTime": {
     "end_time": "2025-03-26T13:44:22.116099Z",
     "start_time": "2025-03-26T13:44:22.113913Z"
    }
   },
   "cell_type": "code",
   "source": "tfidf = TfidfVectorizer(stop_words=stop_words)",
   "id": "6ded2b3bee40a5f3",
   "outputs": [],
   "execution_count": 37
  },
  {
   "metadata": {
    "ExecuteTime": {
     "end_time": "2025-03-26T13:44:50.824287Z",
     "start_time": "2025-03-26T13:44:50.744673Z"
    }
   },
   "cell_type": "code",
   "source": "tf_idf = tfidf.fit_transform(data['lemm_text'])",
   "id": "962f9fd7e0dcf565",
   "outputs": [],
   "execution_count": 38
  },
  {
   "metadata": {
    "ExecuteTime": {
     "end_time": "2025-03-26T13:44:56.247625Z",
     "start_time": "2025-03-26T13:44:56.243475Z"
    }
   },
   "cell_type": "code",
   "source": "tf_idf.shape",
   "id": "dfab1ffbb51c1992",
   "outputs": [
    {
     "data": {
      "text/plain": [
       "(5000, 9248)"
      ]
     },
     "execution_count": 39,
     "metadata": {},
     "output_type": "execute_result"
    }
   ],
   "execution_count": 39
  },
  {
   "metadata": {
    "ExecuteTime": {
     "end_time": "2025-03-26T13:45:31.259109Z",
     "start_time": "2025-03-26T13:45:31.171958Z"
    }
   },
   "cell_type": "code",
   "source": "tf_idf.toarray()",
   "id": "4de4fee4da217afd",
   "outputs": [
    {
     "data": {
      "text/plain": [
       "array([[0., 0., 0., ..., 0., 0., 0.],\n",
       "       [0., 0., 0., ..., 0., 0., 0.],\n",
       "       [0., 0., 0., ..., 0., 0., 0.],\n",
       "       ...,\n",
       "       [0., 0., 0., ..., 0., 0., 0.],\n",
       "       [0., 0., 0., ..., 0., 0., 0.],\n",
       "       [0., 0., 0., ..., 0., 0., 0.]])"
      ]
     },
     "execution_count": 40,
     "metadata": {},
     "output_type": "execute_result"
    }
   ],
   "execution_count": 40
  },
  {
   "metadata": {},
   "cell_type": "code",
   "outputs": [],
   "execution_count": null,
   "source": "model = LogisticRegression()",
   "id": "c4caa2c802c9c98f"
  }
 ],
 "metadata": {
  "kernelspec": {
   "display_name": "Python 3",
   "language": "python",
   "name": "python3"
  },
  "language_info": {
   "codemirror_mode": {
    "name": "ipython",
    "version": 2
   },
   "file_extension": ".py",
   "mimetype": "text/x-python",
   "name": "python",
   "nbconvert_exporter": "python",
   "pygments_lexer": "ipython2",
   "version": "2.7.6"
  }
 },
 "nbformat": 4,
 "nbformat_minor": 5
}
