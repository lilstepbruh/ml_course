{
 "cells": [
  {
   "cell_type": "code",
   "id": "initial_id",
   "metadata": {
    "collapsed": true,
    "ExecuteTime": {
     "end_time": "2025-03-27T06:45:27.134401Z",
     "start_time": "2025-03-27T06:45:25.272215Z"
    }
   },
   "source": [
    "from nltk.corpus import stopwords\n",
    "import pandas as pd\n",
    "from sklearn.feature_extraction.text import TfidfVectorizer\n",
    "from sklearn.linear_model import LogisticRegression\n",
    "from sklearn.model_selection import train_test_split\n",
    "from sklearn.metrics import accuracy_score\n"
   ],
   "outputs": [],
   "execution_count": 2
  },
  {
   "metadata": {
    "ExecuteTime": {
     "end_time": "2025-03-26T15:43:27.142008Z",
     "start_time": "2025-03-26T15:43:27.139816Z"
    }
   },
   "cell_type": "code",
   "source": "stop_words = list(stopwords.words('russian'))",
   "id": "6c74c94a10b568ce",
   "outputs": [],
   "execution_count": 52
  },
  {
   "metadata": {
    "ExecuteTime": {
     "end_time": "2025-03-26T15:43:27.190548Z",
     "start_time": "2025-03-26T15:43:27.187083Z"
    }
   },
   "cell_type": "code",
   "source": "vectorizer = TfidfVectorizer(stop_words=stop_words)",
   "id": "a9366afe58cf1412",
   "outputs": [],
   "execution_count": 53
  },
  {
   "metadata": {
    "ExecuteTime": {
     "end_time": "2025-03-26T15:43:27.276900Z",
     "start_time": "2025-03-26T15:43:27.240121Z"
    }
   },
   "cell_type": "code",
   "source": [
    "train = pd.read_csv('tweets_lemm_train.csv')\n",
    "test = pd.read_csv('tweets_lemm_test.csv')"
   ],
   "id": "3e009a40ffd5667",
   "outputs": [],
   "execution_count": 54
  },
  {
   "metadata": {
    "ExecuteTime": {
     "end_time": "2025-03-26T15:43:27.474169Z",
     "start_time": "2025-03-26T15:43:27.324483Z"
    }
   },
   "cell_type": "code",
   "source": [
    "train_features = vectorizer.fit_transform(train['lemm_text'])\n",
    "train_target = train['positive']"
   ],
   "id": "f2c82ef6f8eb0fd1",
   "outputs": [],
   "execution_count": 55
  },
  {
   "metadata": {
    "ExecuteTime": {
     "end_time": "2025-03-26T15:43:28.281915Z",
     "start_time": "2025-03-26T15:43:27.573404Z"
    }
   },
   "cell_type": "code",
   "source": [
    "X_train, X_val, y_train, y_val = train_test_split(train_features, train_target,\n",
    "                                                  test_size=0.2, random_state=42)\n",
    "\n",
    "model = LogisticRegression(max_iter=1000, random_state=42)\n",
    "model.fit(X_train, y_train)\n",
    "\n",
    "val_preds = model.predict(X_val)\n",
    "accuracy = accuracy_score(y_val, val_preds)\n",
    "print(f\"Accuracy на валидационной выборке: {accuracy:.4f}\")\n",
    "\n",
    "if accuracy < 0.62:\n",
    "    print(\"Точность ниже 0.62, попробуйте настроить параметры модели или векторайзера.\")\n",
    "\n",
    "test_features = vectorizer.transform(test['lemm_text'])\n",
    "\n",
    "predictions = model.predict(test_features)\n",
    "\n",
    "test['positive'] = predictions\n",
    "\n",
    "test[['lemm_text', 'positive']].to_csv('predictions', index=False)\n",
    "\n",
    "print(\"Предсказания сохранены в файл 'predictions'\")"
   ],
   "id": "98250aa6fe6e62",
   "outputs": [
    {
     "name": "stdout",
     "output_type": "stream",
     "text": [
      "Accuracy на валидационной выборке: 0.6270\n",
      "Предсказания сохранены в файл 'predictions'\n"
     ]
    }
   ],
   "execution_count": 56
  },
  {
   "metadata": {
    "ExecuteTime": {
     "end_time": "2025-03-26T15:47:32.724315Z",
     "start_time": "2025-03-26T15:47:32.719705Z"
    }
   },
   "cell_type": "code",
   "source": "test = pd.concat([test, pd.Series(predictions)])",
   "id": "c8cf5c97687d287f",
   "outputs": [],
   "execution_count": 59
  }
 ],
 "metadata": {
  "kernelspec": {
   "display_name": "Python 3",
   "language": "python",
   "name": "python3"
  },
  "language_info": {
   "codemirror_mode": {
    "name": "ipython",
    "version": 2
   },
   "file_extension": ".py",
   "mimetype": "text/x-python",
   "name": "python",
   "nbconvert_exporter": "python",
   "pygments_lexer": "ipython2",
   "version": "2.7.6"
  }
 },
 "nbformat": 4,
 "nbformat_minor": 5
}
