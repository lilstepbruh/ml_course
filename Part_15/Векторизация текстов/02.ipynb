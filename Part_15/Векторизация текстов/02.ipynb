{
 "cells": [
  {
   "cell_type": "code",
   "id": "initial_id",
   "metadata": {
    "collapsed": true,
    "ExecuteTime": {
     "end_time": "2025-03-26T12:23:12.749463Z",
     "start_time": "2025-03-26T12:23:12.747393Z"
    }
   },
   "source": [
    "import pandas as pd\n",
    "from pymystem3 import Mystem\n",
    "import re"
   ],
   "outputs": [],
   "execution_count": 8
  },
  {
   "metadata": {
    "ExecuteTime": {
     "end_time": "2025-03-26T12:11:14.565881Z",
     "start_time": "2025-03-26T12:11:14.545241Z"
    }
   },
   "cell_type": "code",
   "source": "df = pd.read_csv('/home/stepbruh/Рабочий стол/Практикум/Специалист по Data Science Плюс. Часть 15 из 16 (2022)/02 Векторизация текстов/tweets.csv')",
   "id": "de44bcc10ca6d988",
   "outputs": [],
   "execution_count": 2
  },
  {
   "metadata": {
    "ExecuteTime": {
     "end_time": "2025-03-26T12:11:35.886215Z",
     "start_time": "2025-03-26T12:11:35.880066Z"
    }
   },
   "cell_type": "code",
   "source": "corpus = df['text'].values.astype('U')",
   "id": "6cec75e231e0ed8c",
   "outputs": [],
   "execution_count": 3
  },
  {
   "metadata": {
    "ExecuteTime": {
     "end_time": "2025-03-26T12:14:54.807754Z",
     "start_time": "2025-03-26T12:14:54.804471Z"
    }
   },
   "cell_type": "code",
   "source": [
    "def lemmatize(text):\n",
    "    m = Mystem()\n",
    "    return ''.join(m.lemmatize(text))"
   ],
   "id": "6b3164ce14b64d65",
   "outputs": [],
   "execution_count": 5
  },
  {
   "metadata": {
    "ExecuteTime": {
     "end_time": "2025-03-26T12:15:15.643752Z",
     "start_time": "2025-03-26T12:15:15.110128Z"
    }
   },
   "cell_type": "code",
   "source": [
    "print(\"Исходный текст:\", corpus[0])\n",
    "print(\"Лемматизированный текст:\", lemmatize(corpus[0]))"
   ],
   "id": "842b532fa72ebb3e",
   "outputs": [
    {
     "name": "stdout",
     "output_type": "stream",
     "text": [
      "Исходный текст: @first_timee хоть я и школота, но поверь, у нас то же самое :D общество профилирующий предмет типа)\n",
      "Лемматизированный текст: @first_timee хоть я и школоть, но поверять, у мы то же самый :D общество профилирующий предмет тип)\n",
      "\n"
     ]
    }
   ],
   "execution_count": 7
  },
  {
   "metadata": {
    "ExecuteTime": {
     "end_time": "2025-03-26T12:30:03.149500Z",
     "start_time": "2025-03-26T12:30:03.146993Z"
    }
   },
   "cell_type": "code",
   "source": [
    "def clear_text(text):\n",
    "    #text =\n",
    "    return ' '.join(re.sub('[^а-яА-ЯёЁ]', ' ', text).split())"
   ],
   "id": "cdcbbb169f9a386d",
   "outputs": [],
   "execution_count": 35
  },
  {
   "metadata": {
    "ExecuteTime": {
     "end_time": "2025-03-26T12:30:03.559990Z",
     "start_time": "2025-03-26T12:30:03.556846Z"
    }
   },
   "cell_type": "code",
   "source": "clear_text(corpus[0])",
   "id": "c7b8697f5ed43928",
   "outputs": [
    {
     "data": {
      "text/plain": [
       "'хоть я и школота но поверь у нас то же самое общество профилирующий предмет типа'"
      ]
     },
     "execution_count": 36,
     "metadata": {},
     "output_type": "execute_result"
    }
   ],
   "execution_count": 36
  },
  {
   "metadata": {
    "ExecuteTime": {
     "end_time": "2025-03-26T12:30:11.689774Z",
     "start_time": "2025-03-26T12:30:11.686440Z"
    }
   },
   "cell_type": "code",
   "source": [
    "print(\"Исходный текст:\", corpus[0])\n",
    "print(\"Лемматизированный текст:\", clear_text(corpus[0]))"
   ],
   "id": "62ad84f959b0e93c",
   "outputs": [
    {
     "name": "stdout",
     "output_type": "stream",
     "text": [
      "Исходный текст: @first_timee хоть я и школота, но поверь, у нас то же самое :D общество профилирующий предмет типа)\n",
      "Лемматизированный текст: хоть я и школота но поверь у нас то же самое общество профилирующий предмет типа\n"
     ]
    }
   ],
   "execution_count": 37
  }
 ],
 "metadata": {
  "kernelspec": {
   "display_name": "Python 3",
   "language": "python",
   "name": "python3"
  },
  "language_info": {
   "codemirror_mode": {
    "name": "ipython",
    "version": 2
   },
   "file_extension": ".py",
   "mimetype": "text/x-python",
   "name": "python",
   "nbconvert_exporter": "python",
   "pygments_lexer": "ipython2",
   "version": "2.7.6"
  }
 },
 "nbformat": 4,
 "nbformat_minor": 5
}
