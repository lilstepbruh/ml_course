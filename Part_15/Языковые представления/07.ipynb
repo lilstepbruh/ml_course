{
 "cells": [
  {
   "cell_type": "markdown",
   "metadata": {
    "deletable": false,
    "editable": false,
    "tags": [
     "90174557-ccbc-4d19-b780-5988d67a3706"
    ]
   },
   "source": [
    "# Предобработка твитов"
   ]
  },
  {
   "metadata": {},
   "cell_type": "code",
   "source": [
    "import pandas as pd\n",
    "import torch\n",
    "import transformers\n",
    "import numpy as np\n",
    "from tqdm import notebook\n",
    "import ipywidgets as widgets\n"
   ],
   "outputs": [],
   "execution_count": null
  },
  {
   "cell_type": "code",
   "metadata": {},
   "source": [
    "# Загрузка предобученного токенизатора\n",
    "tokenizer = transformers.BertTokenizer.from_pretrained(\"DeepPavlov/rubert-base-cased\")\n",
    "\n",
    "vector = tokenizer.encode('Очень удобно использовать уже готовый трансформатор текста', add_special_tokens=True)\n",
    "\n",
    "n = 280\n",
    "padded = np.array(vector + [0] * (n - len(vector)))\n",
    "\n",
    "# создаём маску для важных токенов\n",
    "attention_mask = np.where(padded != 0, 1, 0)\n",
    "\n",
    "print(attention_mask.shape)\n",
    "\n",
    "\n"
   ],
   "outputs": [],
   "execution_count": null
  },
  {
   "metadata": {},
   "cell_type": "code",
   "source": [
    "# Загружаем предобученную модель\n",
    "model = transformers.BertModel.from_pretrained(\"DeepPavlov/rubert-base-cased\")\n",
    "\n",
    "embeddings = []\n",
    "batch_size = 100\n",
    "\n",
    "# Проверяем, что размерность padded корректна\n",
    "padded = np.expand_dims(padded, axis=0)\n",
    "attention_mask = np.expand_dims(attention_mask, axis=0)\n"
   ],
   "outputs": [],
   "execution_count": null
  },
  {
   "metadata": {},
   "cell_type": "code",
   "source": [
    "if batch_size > 0:\n",
    "    for i in notebook.tqdm(range(padded.shape[0] // batch_size)):\n",
    "        batch = torch.LongTensor(padded[batch_size * i:batch_size * (i + 1)])\n",
    "        attention_mask_batch = torch.LongTensor(attention_mask[batch_size * i:batch_size * (i + 1)])\n",
    "\n",
    "        with torch.no_grad():\n",
    "            batch_embeddings = model(batch, attention_mask=attention_mask_batch)\n",
    "\n",
    "        embeddings.append(batch_embeddings.last_hidden_state[:, 0, :].numpy())\n",
    "\n",
    "    # Объединяем все эмбеддинги\n",
    "    features = np.concatenate(embeddings)\n",
    "    print(\"Features shape:\", features.shape)\n",
    "else:\n",
    "    print(\"Ошибка: недостаточно данных для хотя бы одного батча.\")"
   ],
   "outputs": [],
   "execution_count": null
  }
 ],
 "metadata": {
  "kernelspec": {
   "display_name": "Python 3 (ipykernel)",
   "language": "python",
   "name": "python3"
  },
  "language_info": {
   "codemirror_mode": {
    "name": "ipython",
    "version": 3
   },
   "file_extension": ".py",
   "mimetype": "text/x-python",
   "name": "python",
   "nbconvert_exporter": "python",
   "pygments_lexer": "ipython3",
   "version": "3.9.5"
  },
  "toc": {
   "base_numbering": 1,
   "nav_menu": {},
   "number_sections": true,
   "sideBar": true,
   "skip_h1_title": true,
   "title_cell": "Table of Contents",
   "title_sidebar": "Contents",
   "toc_cell": false,
   "toc_position": {},
   "toc_section_display": true,
   "toc_window_display": false
  }
 },
 "nbformat": 4,
 "nbformat_minor": 2
}
