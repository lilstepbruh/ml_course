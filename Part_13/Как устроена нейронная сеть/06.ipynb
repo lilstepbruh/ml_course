{
 "cells": [
  {
   "cell_type": "code",
   "id": "initial_id",
   "metadata": {
    "collapsed": true,
    "ExecuteTime": {
     "end_time": "2025-03-19T12:29:55.747941Z",
     "start_time": "2025-03-19T12:29:54.938923Z"
    }
   },
   "source": [
    "import torch\n",
    "import numpy as np\n",
    "import sklearn.metrics as metrics"
   ],
   "outputs": [],
   "execution_count": 42
  },
  {
   "metadata": {
    "ExecuteTime": {
     "end_time": "2025-03-19T12:07:36.773406Z",
     "start_time": "2025-03-19T12:07:36.766871Z"
    }
   },
   "cell_type": "code",
   "source": "x = torch.Tensor(3,3)",
   "id": "9dd5ab04cc41f52a",
   "outputs": [],
   "execution_count": 2
  },
  {
   "metadata": {
    "ExecuteTime": {
     "end_time": "2025-03-19T12:07:39.217218Z",
     "start_time": "2025-03-19T12:07:39.210284Z"
    }
   },
   "cell_type": "code",
   "source": "x",
   "id": "46e75c7b57f011b7",
   "outputs": [
    {
     "data": {
      "text/plain": [
       "tensor([[4.9489e-15, 0.0000e+00, 0.0000e+00],\n",
       "        [0.0000e+00, 4.3066e+21, 6.3828e+28],\n",
       "        [3.8016e-39, 4.1568e-41, 6.7262e-44]])"
      ]
     },
     "execution_count": 3,
     "metadata": {},
     "output_type": "execute_result"
    }
   ],
   "execution_count": 3
  },
  {
   "metadata": {
    "ExecuteTime": {
     "end_time": "2025-03-19T12:14:27.077020Z",
     "start_time": "2025-03-19T12:14:27.071158Z"
    }
   },
   "cell_type": "code",
   "source": "x[1][2]",
   "id": "5b9309786bd60757",
   "outputs": [
    {
     "data": {
      "text/plain": [
       "tensor(6.3828e+28)"
      ]
     },
     "execution_count": 17,
     "metadata": {},
     "output_type": "execute_result"
    }
   ],
   "execution_count": 17
  },
  {
   "metadata": {
    "ExecuteTime": {
     "end_time": "2025-03-19T12:08:15.567850Z",
     "start_time": "2025-03-19T12:08:15.563831Z"
    }
   },
   "cell_type": "code",
   "source": [
    "x1 = torch.IntTensor(3,3)\n",
    "x1"
   ],
   "id": "155b944931850123",
   "outputs": [
    {
     "data": {
      "text/plain": [
       "tensor([[721179815,         0,         0],\n",
       "        [        0,         0,         0],\n",
       "        [        0,         0,        48]], dtype=torch.int32)"
      ]
     },
     "execution_count": 4,
     "metadata": {},
     "output_type": "execute_result"
    }
   ],
   "execution_count": 4
  },
  {
   "metadata": {
    "ExecuteTime": {
     "end_time": "2025-03-19T12:08:42.418619Z",
     "start_time": "2025-03-19T12:08:42.414865Z"
    }
   },
   "cell_type": "code",
   "source": [
    "x2 = torch.ShortTensor(3,3)\n",
    "x2"
   ],
   "id": "f1a5bd09fcb51f3d",
   "outputs": [
    {
     "data": {
      "text/plain": [
       "tensor([[  -28, 11045,     0],\n",
       "        [    0,     0,     0],\n",
       "        [    0,     0,     0]], dtype=torch.int16)"
      ]
     },
     "execution_count": 5,
     "metadata": {},
     "output_type": "execute_result"
    }
   ],
   "execution_count": 5
  },
  {
   "metadata": {
    "ExecuteTime": {
     "end_time": "2025-03-19T12:09:25.886572Z",
     "start_time": "2025-03-19T12:09:25.882645Z"
    }
   },
   "cell_type": "code",
   "source": "x2.dim()",
   "id": "ad231c3f1e02727a",
   "outputs": [
    {
     "data": {
      "text/plain": [
       "2"
      ]
     },
     "execution_count": 6,
     "metadata": {},
     "output_type": "execute_result"
    }
   ],
   "execution_count": 6
  },
  {
   "metadata": {
    "ExecuteTime": {
     "end_time": "2025-03-19T12:09:49.908885Z",
     "start_time": "2025-03-19T12:09:49.905364Z"
    }
   },
   "cell_type": "code",
   "source": "x2.size()",
   "id": "2f93ede8beca423a",
   "outputs": [
    {
     "data": {
      "text/plain": [
       "torch.Size([3, 3])"
      ]
     },
     "execution_count": 7,
     "metadata": {},
     "output_type": "execute_result"
    }
   ],
   "execution_count": 7
  },
  {
   "metadata": {
    "ExecuteTime": {
     "end_time": "2025-03-19T12:10:04.374611Z",
     "start_time": "2025-03-19T12:10:04.370182Z"
    }
   },
   "cell_type": "code",
   "source": "x2.type()",
   "id": "e45b6011bae5fa0c",
   "outputs": [
    {
     "data": {
      "text/plain": [
       "'torch.ShortTensor'"
      ]
     },
     "execution_count": 9,
     "metadata": {},
     "output_type": "execute_result"
    }
   ],
   "execution_count": 9
  },
  {
   "metadata": {
    "ExecuteTime": {
     "end_time": "2025-03-19T12:10:52.694715Z",
     "start_time": "2025-03-19T12:10:52.687048Z"
    }
   },
   "cell_type": "code",
   "source": "x3 = torch.rand(2,3,3)",
   "id": "e058135731feaf5f",
   "outputs": [],
   "execution_count": 10
  },
  {
   "metadata": {
    "ExecuteTime": {
     "end_time": "2025-03-19T12:10:56.595646Z",
     "start_time": "2025-03-19T12:10:56.590679Z"
    }
   },
   "cell_type": "code",
   "source": "x3",
   "id": "f2f705618f538144",
   "outputs": [
    {
     "data": {
      "text/plain": [
       "tensor([[[0.8225, 0.1607, 0.1970],\n",
       "         [0.0075, 0.9046, 0.4005],\n",
       "         [0.8245, 0.2683, 0.0833]],\n",
       "\n",
       "        [[0.3989, 0.9179, 0.5249],\n",
       "         [0.2884, 0.3505, 0.0434],\n",
       "         [0.1917, 0.6095, 0.1497]]])"
      ]
     },
     "execution_count": 11,
     "metadata": {},
     "output_type": "execute_result"
    }
   ],
   "execution_count": 11
  },
  {
   "metadata": {
    "ExecuteTime": {
     "end_time": "2025-03-19T12:11:22.896397Z",
     "start_time": "2025-03-19T12:11:22.893082Z"
    }
   },
   "cell_type": "code",
   "source": "print(x3.dim(), x3.size(), x3.type())",
   "id": "7b5217c3fd632679",
   "outputs": [
    {
     "name": "stdout",
     "output_type": "stream",
     "text": [
      "3 torch.Size([2, 3, 3]) torch.FloatTensor\n"
     ]
    }
   ],
   "execution_count": 12
  },
  {
   "metadata": {
    "ExecuteTime": {
     "end_time": "2025-03-19T12:12:41.795615Z",
     "start_time": "2025-03-19T12:12:41.792059Z"
    }
   },
   "cell_type": "code",
   "source": "x4 = torch.randint(-10,20,(5,))",
   "id": "bc116b9bb7a63d57",
   "outputs": [],
   "execution_count": 13
  },
  {
   "metadata": {
    "ExecuteTime": {
     "end_time": "2025-03-19T12:12:45.337015Z",
     "start_time": "2025-03-19T12:12:45.333228Z"
    }
   },
   "cell_type": "code",
   "source": "x4",
   "id": "68856f159a64c3a4",
   "outputs": [
    {
     "data": {
      "text/plain": [
       "tensor([  7,  17,  -3, -10,   6])"
      ]
     },
     "execution_count": 14,
     "metadata": {},
     "output_type": "execute_result"
    }
   ],
   "execution_count": 14
  },
  {
   "metadata": {
    "ExecuteTime": {
     "end_time": "2025-03-19T12:16:05.174647Z",
     "start_time": "2025-03-19T12:16:05.171424Z"
    }
   },
   "cell_type": "code",
   "source": [
    "x = torch.randint(high=20, size=(3,3))\n",
    "y = torch.randint(high=30, size=(3,3))"
   ],
   "id": "e1939198af4a9346",
   "outputs": [],
   "execution_count": 19
  },
  {
   "metadata": {
    "ExecuteTime": {
     "end_time": "2025-03-19T12:16:11.930829Z",
     "start_time": "2025-03-19T12:16:11.925679Z"
    }
   },
   "cell_type": "code",
   "source": "x+y",
   "id": "e3338d7b3aedd632",
   "outputs": [
    {
     "data": {
      "text/plain": [
       "tensor([[17, 41, 35],\n",
       "        [29, 23, 16],\n",
       "        [34, 20, 31]])"
      ]
     },
     "execution_count": 20,
     "metadata": {},
     "output_type": "execute_result"
    }
   ],
   "execution_count": 20
  },
  {
   "metadata": {
    "ExecuteTime": {
     "end_time": "2025-03-19T12:16:43.860921Z",
     "start_time": "2025-03-19T12:16:43.856485Z"
    }
   },
   "cell_type": "code",
   "source": "torch.add(x,y)",
   "id": "da75f603a791654",
   "outputs": [
    {
     "data": {
      "text/plain": [
       "tensor([[17, 41, 35],\n",
       "        [29, 23, 16],\n",
       "        [34, 20, 31]])"
      ]
     },
     "execution_count": 21,
     "metadata": {},
     "output_type": "execute_result"
    }
   ],
   "execution_count": 21
  },
  {
   "metadata": {
    "ExecuteTime": {
     "end_time": "2025-03-19T12:24:43.123731Z",
     "start_time": "2025-03-19T12:24:43.121016Z"
    }
   },
   "cell_type": "code",
   "source": "a_np = np.random.randint(-20,20,(3,3))",
   "id": "e6d0080ec9d31706",
   "outputs": [],
   "execution_count": 32
  },
  {
   "metadata": {
    "ExecuteTime": {
     "end_time": "2025-03-19T12:25:11.322722Z",
     "start_time": "2025-03-19T12:25:11.315375Z"
    }
   },
   "cell_type": "code",
   "source": "a_tr = torch.IntTensor(a_np)",
   "id": "357fbb1fe43e86e1",
   "outputs": [],
   "execution_count": 33
  },
  {
   "metadata": {
    "ExecuteTime": {
     "end_time": "2025-03-19T12:28:25.492045Z",
     "start_time": "2025-03-19T12:28:25.489213Z"
    }
   },
   "cell_type": "code",
   "source": [
    "a = torch.randint(high=100, size=(20,))\n",
    "b = torch.randint(high=100, size=(20,))"
   ],
   "id": "f3086e8ba0e2c8d6",
   "outputs": [],
   "execution_count": 38
  },
  {
   "metadata": {
    "ExecuteTime": {
     "end_time": "2025-03-19T12:29:29.716942Z",
     "start_time": "2025-03-19T12:29:29.714007Z"
    }
   },
   "cell_type": "code",
   "source": [
    "def torch_mse(a,b):\n",
    "    return sum((b-a)**2)/len(a)"
   ],
   "id": "f6418e95a1e3ef59",
   "outputs": [],
   "execution_count": 40
  },
  {
   "metadata": {
    "ExecuteTime": {
     "end_time": "2025-03-19T12:29:35.427605Z",
     "start_time": "2025-03-19T12:29:35.408242Z"
    }
   },
   "cell_type": "code",
   "source": "torch_mse(a,b)",
   "id": "5dc2a8f690aa04e7",
   "outputs": [
    {
     "data": {
      "text/plain": [
       "tensor(2715.5000)"
      ]
     },
     "execution_count": 41,
     "metadata": {},
     "output_type": "execute_result"
    }
   ],
   "execution_count": 41
  },
  {
   "metadata": {
    "ExecuteTime": {
     "end_time": "2025-03-19T12:30:16.380848Z",
     "start_time": "2025-03-19T12:30:16.374139Z"
    }
   },
   "cell_type": "code",
   "source": "metrics.mean_squared_error(a,b)",
   "id": "9ae2cb7d23944401",
   "outputs": [
    {
     "data": {
      "text/plain": [
       "2715.5"
      ]
     },
     "execution_count": 43,
     "metadata": {},
     "output_type": "execute_result"
    }
   ],
   "execution_count": 43
  }
 ],
 "metadata": {
  "kernelspec": {
   "display_name": "Python 3",
   "language": "python",
   "name": "python3"
  },
  "language_info": {
   "codemirror_mode": {
    "name": "ipython",
    "version": 2
   },
   "file_extension": ".py",
   "mimetype": "text/x-python",
   "name": "python",
   "nbconvert_exporter": "python",
   "pygments_lexer": "ipython2",
   "version": "2.7.6"
  }
 },
 "nbformat": 4,
 "nbformat_minor": 5
}
