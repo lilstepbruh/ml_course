{
 "cells": [
  {
   "cell_type": "code",
   "id": "initial_id",
   "metadata": {
    "collapsed": true,
    "ExecuteTime": {
     "end_time": "2025-03-19T11:40:02.024053Z",
     "start_time": "2025-03-19T11:40:02.020592Z"
    }
   },
   "source": [
    "import math\n",
    "import matplotlib.pyplot as plt\n",
    "import seaborn as sns\n",
    "import numpy as np"
   ],
   "outputs": [],
   "execution_count": 23
  },
  {
   "metadata": {
    "ExecuteTime": {
     "end_time": "2025-03-19T11:22:49.101607Z",
     "start_time": "2025-03-19T11:22:49.099025Z"
    }
   },
   "cell_type": "code",
   "source": [
    "def hyp_tangent(x):\n",
    "    a = np.exp(x) - np.exp(-x)\n",
    "    m = np.exp(x) + np.exp(-x)\n",
    "    return a/m"
   ],
   "id": "a4620aa8c011d7ec",
   "outputs": [],
   "execution_count": 2
  },
  {
   "metadata": {
    "ExecuteTime": {
     "end_time": "2025-03-19T11:23:36.402444Z",
     "start_time": "2025-03-19T11:23:36.396545Z"
    }
   },
   "cell_type": "code",
   "source": [
    "x = np.arange(-20,20)\n",
    "hyp_tangent(x)"
   ],
   "id": "68ab3def56415249",
   "outputs": [
    {
     "data": {
      "text/plain": [
       "array([-1.        , -1.        , -1.        , -1.        , -1.        ,\n",
       "       -1.        , -1.        , -1.        , -1.        , -1.        ,\n",
       "       -1.        , -0.99999997, -0.99999977, -0.99999834, -0.99998771,\n",
       "       -0.9999092 , -0.9993293 , -0.99505475, -0.96402758, -0.76159416,\n",
       "        0.        ,  0.76159416,  0.96402758,  0.99505475,  0.9993293 ,\n",
       "        0.9999092 ,  0.99998771,  0.99999834,  0.99999977,  0.99999997,\n",
       "        1.        ,  1.        ,  1.        ,  1.        ,  1.        ,\n",
       "        1.        ,  1.        ,  1.        ,  1.        ,  1.        ])"
      ]
     },
     "execution_count": 3,
     "metadata": {},
     "output_type": "execute_result"
    }
   ],
   "execution_count": 3
  },
  {
   "metadata": {
    "ExecuteTime": {
     "end_time": "2025-03-19T11:30:09.347144Z",
     "start_time": "2025-03-19T11:30:09.344318Z"
    }
   },
   "cell_type": "code",
   "source": [
    "def relu(x):\n",
    "    return [x[i] if x[i] >= 0 else 0 for i in range(len(x))]"
   ],
   "id": "f6f06e45e3a6072e",
   "outputs": [],
   "execution_count": 8
  },
  {
   "metadata": {},
   "cell_type": "code",
   "outputs": [],
   "execution_count": null,
   "source": [
    "def relu(x):\n",
    "    return [max(0, xi) for xi in x]"
   ],
   "id": "b5b51ee4e268db22"
  },
  {
   "metadata": {
    "ExecuteTime": {
     "end_time": "2025-03-19T11:30:10.112273Z",
     "start_time": "2025-03-19T11:30:10.108412Z"
    }
   },
   "cell_type": "code",
   "source": "relu(x)",
   "id": "f8bd310866bef645",
   "outputs": [
    {
     "data": {
      "text/plain": [
       "[0,\n",
       " 0,\n",
       " 0,\n",
       " 0,\n",
       " 0,\n",
       " 0,\n",
       " 0,\n",
       " 0,\n",
       " 0,\n",
       " 0,\n",
       " 0,\n",
       " 0,\n",
       " 0,\n",
       " 0,\n",
       " 0,\n",
       " 0,\n",
       " 0,\n",
       " 0,\n",
       " 0,\n",
       " 0,\n",
       " 0,\n",
       " 1,\n",
       " 2,\n",
       " 3,\n",
       " 4,\n",
       " 5,\n",
       " 6,\n",
       " 7,\n",
       " 8,\n",
       " 9,\n",
       " 10,\n",
       " 11,\n",
       " 12,\n",
       " 13,\n",
       " 14,\n",
       " 15,\n",
       " 16,\n",
       " 17,\n",
       " 18,\n",
       " 19]"
      ]
     },
     "execution_count": 9,
     "metadata": {},
     "output_type": "execute_result"
    }
   ],
   "execution_count": 9
  },
  {
   "metadata": {
    "ExecuteTime": {
     "end_time": "2025-03-19T11:36:31.669170Z",
     "start_time": "2025-03-19T11:36:31.666619Z"
    }
   },
   "cell_type": "code",
   "source": "y=[3.5, 2, 1.2]",
   "id": "a53a429b6ca89179",
   "outputs": [],
   "execution_count": 12
  },
  {
   "metadata": {
    "ExecuteTime": {
     "end_time": "2025-03-19T11:40:06.090462Z",
     "start_time": "2025-03-19T11:40:06.087702Z"
    }
   },
   "cell_type": "code",
   "source": [
    "def softmax_x(x):\n",
    "    return [(math.e**x[i]/sum(np.exp(x))) for i in range(len(x))]"
   ],
   "id": "2ef0e14a149771e8",
   "outputs": [],
   "execution_count": 24
  },
  {
   "metadata": {
    "ExecuteTime": {
     "end_time": "2025-03-19T11:40:06.845473Z",
     "start_time": "2025-03-19T11:40:06.842233Z"
    }
   },
   "cell_type": "code",
   "source": "softmax_x(y)",
   "id": "8ea850f1718e3ca9",
   "outputs": [
    {
     "data": {
      "text/plain": [
       "[0.7556357178990889, 0.1686051187486975, 0.07575916335221339]"
      ]
     },
     "execution_count": 25,
     "metadata": {},
     "output_type": "execute_result"
    }
   ],
   "execution_count": 25
  }
 ],
 "metadata": {
  "kernelspec": {
   "display_name": "Python 3",
   "language": "python",
   "name": "python3"
  },
  "language_info": {
   "codemirror_mode": {
    "name": "ipython",
    "version": 2
   },
   "file_extension": ".py",
   "mimetype": "text/x-python",
   "name": "python",
   "nbconvert_exporter": "python",
   "pygments_lexer": "ipython2",
   "version": "2.7.6"
  }
 },
 "nbformat": 4,
 "nbformat_minor": 5
}
