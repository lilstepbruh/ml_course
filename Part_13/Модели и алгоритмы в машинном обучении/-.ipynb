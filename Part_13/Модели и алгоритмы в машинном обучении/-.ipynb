{
 "cells": [
  {
   "cell_type": "code",
   "id": "initial_id",
   "metadata": {
    "collapsed": true,
    "ExecuteTime": {
     "end_time": "2025-03-18T12:18:18.712258Z",
     "start_time": "2025-03-18T12:18:18.648420Z"
    }
   },
   "source": [
    "import math as m\n",
    "import numpy as np"
   ],
   "outputs": [],
   "execution_count": 2
  },
  {
   "metadata": {
    "ExecuteTime": {
     "end_time": "2025-03-18T12:23:08.377980Z",
     "start_time": "2025-03-18T12:23:08.375308Z"
    }
   },
   "cell_type": "code",
   "source": [
    "def x (w0,a0, w1,a1, w2, a2, bias):\n",
    "    return w0*a0 + w1*a1 + w2*a2 + bias"
   ],
   "id": "26560264bb60921",
   "outputs": [],
   "execution_count": 5
  },
  {
   "metadata": {
    "ExecuteTime": {
     "end_time": "2025-03-18T12:23:09.396144Z",
     "start_time": "2025-03-18T12:23:09.393493Z"
    }
   },
   "cell_type": "code",
   "source": [
    "x1 = x(1.3993, 1, 0.2478, 1, 2.0589, 1, -2.0682)\n",
    "x2 = x(1.3993, 1, 0.2478, 1, 2.0589, 0, -2.0682)"
   ],
   "id": "c04343686ee784c3",
   "outputs": [],
   "execution_count": 6
  },
  {
   "metadata": {
    "ExecuteTime": {
     "end_time": "2025-03-18T12:25:57.811426Z",
     "start_time": "2025-03-18T12:25:57.808929Z"
    }
   },
   "cell_type": "code",
   "source": [
    "def predict(x_):\n",
    "    return 1/(1+m.e**(-x_))"
   ],
   "id": "b6480aa2787868d7",
   "outputs": [],
   "execution_count": 12
  },
  {
   "metadata": {
    "ExecuteTime": {
     "end_time": "2025-03-18T12:25:58.266741Z",
     "start_time": "2025-03-18T12:25:58.263466Z"
    }
   },
   "cell_type": "code",
   "source": "predict(x1)",
   "id": "7f9d07be69396d8e",
   "outputs": [
    {
     "data": {
      "text/plain": [
       "0.8372353607161579"
      ]
     },
     "execution_count": 13,
     "metadata": {},
     "output_type": "execute_result"
    }
   ],
   "execution_count": 13
  },
  {
   "metadata": {
    "ExecuteTime": {
     "end_time": "2025-03-18T12:25:58.856123Z",
     "start_time": "2025-03-18T12:25:58.852888Z"
    }
   },
   "cell_type": "code",
   "source": "predict(x2)",
   "id": "12942c6f69790528",
   "outputs": [
    {
     "data": {
      "text/plain": [
       "0.3962535597824872"
      ]
     },
     "execution_count": 14,
     "metadata": {},
     "output_type": "execute_result"
    }
   ],
   "execution_count": 14
  },
  {
   "metadata": {},
   "cell_type": "code",
   "outputs": [],
   "execution_count": null,
   "source": "",
   "id": "93b993793aed6273"
  }
 ],
 "metadata": {
  "kernelspec": {
   "display_name": "Python 3",
   "language": "python",
   "name": "python3"
  },
  "language_info": {
   "codemirror_mode": {
    "name": "ipython",
    "version": 2
   },
   "file_extension": ".py",
   "mimetype": "text/x-python",
   "name": "python",
   "nbconvert_exporter": "python",
   "pygments_lexer": "ipython2",
   "version": "2.7.6"
  }
 },
 "nbformat": 4,
 "nbformat_minor": 5
}
