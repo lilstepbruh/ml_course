{
 "cells": [
  {
   "cell_type": "code",
   "id": "initial_id",
   "metadata": {
    "collapsed": true,
    "ExecuteTime": {
     "end_time": "2025-03-19T16:04:09.654493Z",
     "start_time": "2025-03-19T16:04:09.644091Z"
    }
   },
   "source": [
    "import torch\n",
    "import torch.nn as nn"
   ],
   "outputs": [],
   "execution_count": 2
  },
  {
   "metadata": {
    "ExecuteTime": {
     "end_time": "2025-03-19T16:21:28.776291Z",
     "start_time": "2025-03-19T16:21:28.771884Z"
    }
   },
   "cell_type": "code",
   "source": [
    "class Net(torch.nn.Module):\n",
    "    def __init__(self, n_in_neurons, n_hidden_neurons_1, n_hidden_neurons_2, n_out_neurons):\n",
    "        super(Net, self).__init__()\n",
    "        self.fc1 = nn.Linear(n_in_neurons, n_hidden_neurons_1)\n",
    "        self.act1 = nn.Sigmoid()\n",
    "        self.fc2 = nn.Linear(n_hidden_neurons_1, n_hidden_neurons_2)\n",
    "        self.act2 = nn.Tanh()\n",
    "        self.fc3 = nn.Linear(n_hidden_neurons_2, n_out_neurons)\n",
    "        self.act3 = nn.ReLU()\n",
    "\n",
    "    def forward(self, x):\n",
    "        x = self.fc1(x)\n",
    "        x = self.act1(x)\n",
    "        x = self.fc2(x)\n",
    "        x = self.act2(x)\n",
    "        x = self.fc3(x)\n",
    "        x = self.act3(x)\n",
    "        return x"
   ],
   "id": "edd67571c0c006f0",
   "outputs": [],
   "execution_count": 8
  },
  {
   "metadata": {
    "ExecuteTime": {
     "end_time": "2025-03-19T16:21:29.592378Z",
     "start_time": "2025-03-19T16:21:29.588498Z"
    }
   },
   "cell_type": "code",
   "source": [
    "net = Net(3, 5, 3, 1)\n",
    "tens = torch.FloatTensor([1, 44, -7])"
   ],
   "id": "a7973dc50fdbdba",
   "outputs": [],
   "execution_count": 9
  },
  {
   "metadata": {
    "ExecuteTime": {
     "end_time": "2025-03-19T16:21:30.086568Z",
     "start_time": "2025-03-19T16:21:30.071102Z"
    }
   },
   "cell_type": "code",
   "source": "print(net.forward(tens))",
   "id": "cdedae1055ba8091",
   "outputs": [
    {
     "name": "stdout",
     "output_type": "stream",
     "text": [
      "tensor([0.2714], grad_fn=<ReluBackward0>)\n"
     ]
    }
   ],
   "execution_count": 10
  },
  {
   "metadata": {
    "ExecuteTime": {
     "end_time": "2025-03-19T18:24:34.251395Z",
     "start_time": "2025-03-19T18:24:34.247137Z"
    }
   },
   "cell_type": "code",
   "source": [
    "class Net2(torch.nn.Module):\n",
    "    def __init__(self, n_in_neurons, n_hidden_neurons_1, n_hidden_neurons_2, n_out_neurons):\n",
    "        super(Net2, self).__init__()\n",
    "        self.fc1 = nn.Linear(n_in_neurons, n_hidden_neurons_1)\n",
    "        self.act1 = nn.Tanh()\n",
    "        self.fc2 = nn.Linear(n_hidden_neurons_1, n_hidden_neurons_2)\n",
    "        self.act2 = nn.ReLU()\n",
    "        self.fc3 = nn.Linear(n_hidden_neurons_2, n_out_neurons)\n",
    "        self.act3 = nn.Sigmoid()\n",
    "\n",
    "    def forward(self, x):\n",
    "        x = self.fc1(x)\n",
    "        x = self.act1(x)\n",
    "        x = self.fc2(x)\n",
    "        x = self.act2(x)\n",
    "        x = self.fc3(x)\n",
    "        x = self.act3(x)\n",
    "        return x"
   ],
   "id": "f564c3eeb5f52693",
   "outputs": [],
   "execution_count": 12
  },
  {
   "metadata": {
    "ExecuteTime": {
     "end_time": "2025-03-19T18:24:34.579769Z",
     "start_time": "2025-03-19T18:24:34.574970Z"
    }
   },
   "cell_type": "code",
   "source": "net2 = Net2(10, 7, 4, 1)",
   "id": "9b1ff7fd10e4f9c8",
   "outputs": [],
   "execution_count": 13
  },
  {
   "metadata": {
    "ExecuteTime": {
     "end_time": "2025-03-19T18:27:00.835928Z",
     "start_time": "2025-03-19T18:27:00.832543Z"
    }
   },
   "cell_type": "code",
   "source": "tensor = torch.FloatTensor(100,10)",
   "id": "35f2583e06b4193a",
   "outputs": [],
   "execution_count": 19
  },
  {
   "metadata": {
    "ExecuteTime": {
     "end_time": "2025-03-19T18:27:01.244582Z",
     "start_time": "2025-03-19T18:27:01.217507Z"
    }
   },
   "cell_type": "code",
   "source": "print(net2.forward(tensor))",
   "id": "6d18f36be235cd47",
   "outputs": [
    {
     "name": "stdout",
     "output_type": "stream",
     "text": [
      "tensor([[0.5592],\n",
      "        [   nan],\n",
      "        [   nan],\n",
      "        [   nan],\n",
      "        [   nan],\n",
      "        [   nan],\n",
      "        [   nan],\n",
      "        [0.5359],\n",
      "        [0.5359],\n",
      "        [0.5359],\n",
      "        [0.5359],\n",
      "        [0.5359],\n",
      "        [0.5359],\n",
      "        [0.5359],\n",
      "        [0.5359],\n",
      "        [0.5359],\n",
      "        [0.5359],\n",
      "        [0.5359],\n",
      "        [0.5359],\n",
      "        [0.5359],\n",
      "        [0.5359],\n",
      "        [0.5359],\n",
      "        [0.5359],\n",
      "        [0.5359],\n",
      "        [0.5359],\n",
      "        [0.5359],\n",
      "        [0.5359],\n",
      "        [0.5359],\n",
      "        [0.5359],\n",
      "        [0.5359],\n",
      "        [0.5359],\n",
      "        [0.5359],\n",
      "        [0.5359],\n",
      "        [0.5359],\n",
      "        [0.5359],\n",
      "        [0.5359],\n",
      "        [0.5359],\n",
      "        [0.5359],\n",
      "        [0.5359],\n",
      "        [0.5359],\n",
      "        [0.5359],\n",
      "        [0.5359],\n",
      "        [0.5359],\n",
      "        [0.5359],\n",
      "        [0.5359],\n",
      "        [0.5359],\n",
      "        [0.5359],\n",
      "        [0.5359],\n",
      "        [0.5359],\n",
      "        [0.5359],\n",
      "        [0.5359],\n",
      "        [0.5359],\n",
      "        [0.5359],\n",
      "        [0.5359],\n",
      "        [0.5359],\n",
      "        [0.5359],\n",
      "        [0.5359],\n",
      "        [0.5359],\n",
      "        [0.5359],\n",
      "        [0.5359],\n",
      "        [0.5359],\n",
      "        [0.5359],\n",
      "        [0.5359],\n",
      "        [0.5359],\n",
      "        [0.5359],\n",
      "        [0.5359],\n",
      "        [0.5359],\n",
      "        [0.5359],\n",
      "        [0.5359],\n",
      "        [0.5359],\n",
      "        [0.5359],\n",
      "        [0.5359],\n",
      "        [0.5359],\n",
      "        [0.5359],\n",
      "        [0.5359],\n",
      "        [0.5359],\n",
      "        [0.5359],\n",
      "        [0.5359],\n",
      "        [0.5359],\n",
      "        [0.5359],\n",
      "        [0.5359],\n",
      "        [0.5359],\n",
      "        [0.5359],\n",
      "        [0.5359],\n",
      "        [0.5359],\n",
      "        [0.5359],\n",
      "        [0.5359],\n",
      "        [0.5359],\n",
      "        [0.5359],\n",
      "        [0.5359],\n",
      "        [0.5592],\n",
      "        [0.5962],\n",
      "        [0.5359],\n",
      "        [0.5359],\n",
      "        [0.5359],\n",
      "        [0.5359],\n",
      "        [0.5359],\n",
      "        [0.5359],\n",
      "        [0.5359],\n",
      "        [0.5575]], grad_fn=<SigmoidBackward0>)\n"
     ]
    }
   ],
   "execution_count": 20
  },
  {
   "metadata": {},
   "cell_type": "code",
   "outputs": [],
   "execution_count": null,
   "source": "",
   "id": "19c6923115301a58"
  }
 ],
 "metadata": {
  "kernelspec": {
   "display_name": "Python 3",
   "language": "python",
   "name": "python3"
  },
  "language_info": {
   "codemirror_mode": {
    "name": "ipython",
    "version": 2
   },
   "file_extension": ".py",
   "mimetype": "text/x-python",
   "name": "python",
   "nbconvert_exporter": "python",
   "pygments_lexer": "ipython2",
   "version": "2.7.6"
  }
 },
 "nbformat": 4,
 "nbformat_minor": 5
}
