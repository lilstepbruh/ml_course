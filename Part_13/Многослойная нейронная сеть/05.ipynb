{
 "cells": [
  {
   "cell_type": "code",
   "id": "initial_id",
   "metadata": {
    "collapsed": true,
    "ExecuteTime": {
     "end_time": "2025-03-19T19:08:49.679236Z",
     "start_time": "2025-03-19T19:08:48.618940Z"
    }
   },
   "source": [
    "import torch\n",
    "import torch.nn as nn"
   ],
   "outputs": [],
   "execution_count": 1
  },
  {
   "metadata": {
    "ExecuteTime": {
     "end_time": "2025-03-19T19:08:49.722894Z",
     "start_time": "2025-03-19T19:08:49.719684Z"
    }
   },
   "cell_type": "code",
   "source": [
    "n_in_neurons = 4\n",
    "n_hidden_neurons_1 = 6\n",
    "n_hidden_neurons_2 = 3\n",
    "n_out_neurons = 1"
   ],
   "id": "794a59602d19472c",
   "outputs": [],
   "execution_count": 2
  },
  {
   "metadata": {
    "ExecuteTime": {
     "end_time": "2025-03-19T19:08:49.888027Z",
     "start_time": "2025-03-19T19:08:49.883414Z"
    }
   },
   "cell_type": "code",
   "source": [
    "net = nn.Sequential(\n",
    "    nn.Linear(n_in_neurons, n_hidden_neurons_1),\n",
    "    nn.Sigmoid(),\n",
    "    nn.Linear(n_hidden_neurons_1,n_hidden_neurons_2),\n",
    "    nn.Tanh(),\n",
    "    nn.Linear(n_hidden_neurons_2, n_out_neurons),\n",
    "    nn.ReLU()\n",
    ")"
   ],
   "id": "1c785e8224a4186e",
   "outputs": [],
   "execution_count": 3
  },
  {
   "metadata": {
    "ExecuteTime": {
     "end_time": "2025-03-19T19:08:49.950002Z",
     "start_time": "2025-03-19T19:08:49.942653Z"
    }
   },
   "cell_type": "code",
   "source": [
    "x = torch.Tensor(50,4)\n",
    "print(net.forward(x))"
   ],
   "id": "6c97157abed380ee",
   "outputs": [
    {
     "name": "stdout",
     "output_type": "stream",
     "text": [
      "tensor([[0.],\n",
      "        [0.],\n",
      "        [0.],\n",
      "        [0.],\n",
      "        [0.],\n",
      "        [0.],\n",
      "        [0.],\n",
      "        [0.],\n",
      "        [0.],\n",
      "        [0.],\n",
      "        [0.],\n",
      "        [0.],\n",
      "        [0.],\n",
      "        [0.],\n",
      "        [0.],\n",
      "        [0.],\n",
      "        [0.],\n",
      "        [0.],\n",
      "        [0.],\n",
      "        [0.],\n",
      "        [0.],\n",
      "        [0.],\n",
      "        [0.],\n",
      "        [0.],\n",
      "        [0.],\n",
      "        [0.],\n",
      "        [0.],\n",
      "        [0.],\n",
      "        [0.],\n",
      "        [0.],\n",
      "        [0.],\n",
      "        [0.],\n",
      "        [0.],\n",
      "        [0.],\n",
      "        [0.],\n",
      "        [0.],\n",
      "        [0.],\n",
      "        [0.],\n",
      "        [0.],\n",
      "        [0.],\n",
      "        [0.],\n",
      "        [0.],\n",
      "        [0.],\n",
      "        [0.],\n",
      "        [0.],\n",
      "        [0.],\n",
      "        [0.],\n",
      "        [0.],\n",
      "        [0.],\n",
      "        [nan]], grad_fn=<ReluBackward0>)\n"
     ]
    }
   ],
   "execution_count": 4
  },
  {
   "metadata": {},
   "cell_type": "markdown",
   "source": "## 2",
   "id": "3e636c7a5ee520e8"
  },
  {
   "metadata": {
    "ExecuteTime": {
     "end_time": "2025-03-19T19:08:50.208395Z",
     "start_time": "2025-03-19T19:08:50.205279Z"
    }
   },
   "cell_type": "code",
   "source": [
    "n_neurons = [20, 16, 12, 8, 4, 2, 1]\n",
    "net_layers = []"
   ],
   "id": "a4b7c25024fccbf0",
   "outputs": [],
   "execution_count": 5
  },
  {
   "metadata": {
    "ExecuteTime": {
     "end_time": "2025-03-19T19:08:50.427088Z",
     "start_time": "2025-03-19T19:08:50.420457Z"
    }
   },
   "cell_type": "code",
   "source": [
    "for i in range(len(n_neurons)-2):\n",
    "    net_layers.append(nn.Linear(n_neurons[i], n_neurons[i+1]))\n",
    "    if (i+1)%2==0:\n",
    "        net_layers.append(nn.Sigmoid())\n",
    "    else:\n",
    "        net_layers.append(nn.Tanh())\n",
    "net_layers.append(nn.Linear(n_neurons[5], n_neurons[6]))\n",
    "net_layers.append(nn.ReLU())"
   ],
   "id": "a0f9b1c9dcf7bc7",
   "outputs": [],
   "execution_count": 6
  },
  {
   "metadata": {
    "ExecuteTime": {
     "end_time": "2025-03-19T19:11:04.565555Z",
     "start_time": "2025-03-19T19:11:04.560823Z"
    }
   },
   "cell_type": "code",
   "source": "tensor = torch.FloatTensor(50,20)",
   "id": "38249be1a1d804f7",
   "outputs": [],
   "execution_count": 13
  },
  {
   "metadata": {
    "ExecuteTime": {
     "end_time": "2025-03-19T19:11:05.077734Z",
     "start_time": "2025-03-19T19:11:05.073979Z"
    }
   },
   "cell_type": "code",
   "source": "net = nn.Sequential(*net_layers)",
   "id": "de3a28ecd1d3b49c",
   "outputs": [],
   "execution_count": 14
  },
  {
   "metadata": {
    "ExecuteTime": {
     "end_time": "2025-03-19T19:11:05.524967Z",
     "start_time": "2025-03-19T19:11:05.522009Z"
    }
   },
   "cell_type": "code",
   "source": "print(net)",
   "id": "d7a9fcb85f53099c",
   "outputs": [
    {
     "name": "stdout",
     "output_type": "stream",
     "text": [
      "Sequential(\n",
      "  (0): Linear(in_features=20, out_features=16, bias=True)\n",
      "  (1): Tanh()\n",
      "  (2): Linear(in_features=16, out_features=12, bias=True)\n",
      "  (3): Sigmoid()\n",
      "  (4): Linear(in_features=12, out_features=8, bias=True)\n",
      "  (5): Tanh()\n",
      "  (6): Linear(in_features=8, out_features=4, bias=True)\n",
      "  (7): Sigmoid()\n",
      "  (8): Linear(in_features=4, out_features=2, bias=True)\n",
      "  (9): Tanh()\n",
      "  (10): Linear(in_features=2, out_features=1, bias=True)\n",
      "  (11): ReLU()\n",
      ")\n"
     ]
    }
   ],
   "execution_count": 15
  },
  {
   "metadata": {
    "ExecuteTime": {
     "end_time": "2025-03-19T19:11:06.752302Z",
     "start_time": "2025-03-19T19:11:06.747678Z"
    }
   },
   "cell_type": "code",
   "source": "print(net.forward(tensor))",
   "id": "490e769838f9a5d8",
   "outputs": [
    {
     "name": "stdout",
     "output_type": "stream",
     "text": [
      "tensor([[nan],\n",
      "        [nan],\n",
      "        [nan],\n",
      "        [0.],\n",
      "        [0.],\n",
      "        [0.],\n",
      "        [0.],\n",
      "        [0.],\n",
      "        [0.],\n",
      "        [0.],\n",
      "        [0.],\n",
      "        [0.],\n",
      "        [0.],\n",
      "        [0.],\n",
      "        [0.],\n",
      "        [0.],\n",
      "        [0.],\n",
      "        [0.],\n",
      "        [0.],\n",
      "        [0.],\n",
      "        [0.],\n",
      "        [0.],\n",
      "        [0.],\n",
      "        [0.],\n",
      "        [0.],\n",
      "        [0.],\n",
      "        [0.],\n",
      "        [0.],\n",
      "        [0.],\n",
      "        [0.],\n",
      "        [0.],\n",
      "        [0.],\n",
      "        [0.],\n",
      "        [0.],\n",
      "        [0.],\n",
      "        [0.],\n",
      "        [0.],\n",
      "        [0.],\n",
      "        [0.],\n",
      "        [0.],\n",
      "        [0.],\n",
      "        [0.],\n",
      "        [0.],\n",
      "        [0.],\n",
      "        [0.],\n",
      "        [0.],\n",
      "        [0.],\n",
      "        [0.],\n",
      "        [0.],\n",
      "        [0.]], grad_fn=<ReluBackward0>)\n"
     ]
    }
   ],
   "execution_count": 16
  },
  {
   "metadata": {},
   "cell_type": "code",
   "outputs": [],
   "execution_count": null,
   "source": "",
   "id": "2ad32638c0ece841"
  }
 ],
 "metadata": {
  "kernelspec": {
   "display_name": "Python 3",
   "language": "python",
   "name": "python3"
  },
  "language_info": {
   "codemirror_mode": {
    "name": "ipython",
    "version": 2
   },
   "file_extension": ".py",
   "mimetype": "text/x-python",
   "name": "python",
   "nbconvert_exporter": "python",
   "pygments_lexer": "ipython2",
   "version": "2.7.6"
  }
 },
 "nbformat": 4,
 "nbformat_minor": 5
}
