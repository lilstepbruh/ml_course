{
 "cells": [
  {
   "metadata": {
    "ExecuteTime": {
     "end_time": "2025-03-24T13:14:15.808115Z",
     "start_time": "2025-03-24T13:14:12.632085Z"
    }
   },
   "cell_type": "code",
   "source": [
    "import random\n",
    "import numpy as np\n",
    "import pandas as pd\n",
    "import torch\n",
    "import torch.nn as nn\n",
    "\n",
    "from sklearn.model_selection import train_test_split"
   ],
   "id": "aab1354046ca858b",
   "outputs": [],
   "execution_count": 1
  },
  {
   "metadata": {},
   "cell_type": "markdown",
   "source": "# 1",
   "id": "293efbecc0f10679"
  },
  {
   "metadata": {},
   "cell_type": "code",
   "outputs": [],
   "execution_count": null,
   "source": [
    "random.seed(0)\n",
    "np.random.seed(0)\n",
    "torch.manual_seed(0)\n",
    "torch.use_deterministic_algorithms(True)\n",
    "\n",
    "\n",
    "class Net(nn.Module):\n",
    "    def __init__(self, n_in_neurons, n_hidden_neurons_1,\n",
    "                 n_hidden_neurons_2, n_out_neurons):\n",
    "        super(Net, self).__init__()\n",
    "\n",
    "        self.fc1 = nn.Linear(n_in_neurons,n_hidden_neurons_1)\n",
    "        self.act1 = nn.Tanh()\n",
    "\n",
    "        self.fc2 = nn.Linear(n_hidden_neurons_1,n_hidden_neurons_2)\n",
    "        self.act2 = nn.ReLU()\n",
    "\n",
    "        self.fc3 = nn.Linear(n_hidden_neurons_2, n_out_neurons)\n",
    "        self.act3 = nn.Sigmoid()\n",
    "\n",
    "        nn.init.uniform_(self.fc1.weight, a=-2, b=2)\n",
    "        nn.init.uniform_(self.fc1.bias, a=-2, b=2)\n",
    "        nn.init.kaiming_normal_(self.fc2.weight, nonlinearity='relu')\n",
    "        nn.init.normal_(self.fc2.bias, mean=.5, std=.7)\n",
    "        nn.init.xavier_normal_(self.fc3.weight)\n",
    "        nn.init.normal_(self.fc3.bias, mean=.5, std=.7)\n",
    "\n",
    "    def forward(self, x):\n",
    "        x = self.fc1(x)\n",
    "        x = self.act1(x)\n",
    "\n",
    "        x = self.fc2(x)\n",
    "        x = self.act2(x)\n",
    "\n",
    "        x = self.fc3(x)\n",
    "        x = self.act3(x)\n",
    "        return x"
   ],
   "id": "e38581835116b6e7"
  },
  {
   "metadata": {
    "ExecuteTime": {
     "end_time": "2025-03-24T13:31:24.204855Z",
     "start_time": "2025-03-24T13:31:24.165142Z"
    }
   },
   "cell_type": "code",
   "source": [
    "data = pd.read_csv('/home/stepbruh/Рабочий стол/Практикум/Специалист по Data Science Плюс. Часть 13 из 16 (2022)/Модели и алгоритмы в машинном обучении/04 Обучение нейронной сети/Electrical_Grid_Stability.csv', sep=';').drop('Unnamed: 0', axis=1)\n",
    "\n",
    "X_train, X_test, y_train, y_test = train_test_split(\n",
    "    data.drop(columns=['stability']),\n",
    "    data.stability,\n",
    "    test_size=0.3,\n",
    "    shuffle=True)\n",
    "\n",
    "X_train = torch.FloatTensor(X_train.values)\n",
    "X_test = torch.FloatTensor(X_test.values)\n",
    "y_train = torch.FloatTensor(y_train.values)\n",
    "y_test = torch.FloatTensor(y_test.values)\n",
    "\n",
    "\n",
    "n_in_neurons = 12\n",
    "n_hidden_neurons_1 = 8\n",
    "n_hidden_neurons_2 = 4\n",
    "n_out_neurons = 1\n",
    "\n",
    "net = Net(n_in_neurons,n_hidden_neurons_1,n_hidden_neurons_2,n_out_neurons)\n",
    "optimizer = torch.optim.Adam(net.parameters(), lr=1e-3)\n",
    "loss = nn.BCELoss()\n",
    "num_epochs = 100"
   ],
   "id": "bc3b22ede5285148",
   "outputs": [],
   "execution_count": 8
  },
  {
   "metadata": {
    "ExecuteTime": {
     "end_time": "2025-03-24T13:35:34.589054Z",
     "start_time": "2025-03-24T13:35:34.219838Z"
    }
   },
   "cell_type": "code",
   "source": [
    "for epoch in range(num_epochs):\n",
    "    net.train()\n",
    "    optimizer.zero_grad()\n",
    "    preds = net.forward(X_train).flatten()\n",
    "    loss_value = loss(preds, y_train)\n",
    "    loss_value.backward()\n",
    "    optimizer.step()\n",
    "\n",
    "    if epoch%10 == 0 or epoch == num_epochs - 1:\n",
    "        net.eval()\n",
    "        test_preds = net.forward(X_test)\n",
    "        accuracy = (torch.round(test_preds) == y_test).float().mean().data\n",
    "        print(accuracy)"
   ],
   "id": "ecc239281ccf970b",
   "outputs": [
    {
     "name": "stdout",
     "output_type": "stream",
     "text": [
      "tensor(0.6371)\n",
      "tensor(0.6360)\n",
      "tensor(0.6341)\n",
      "tensor(0.6317)\n",
      "tensor(0.6306)\n",
      "tensor(0.6292)\n",
      "tensor(0.6287)\n",
      "tensor(0.6279)\n",
      "tensor(0.6269)\n",
      "tensor(0.6265)\n",
      "tensor(0.6258)\n"
     ]
    }
   ],
   "execution_count": 12
  },
  {
   "metadata": {},
   "cell_type": "markdown",
   "source": "# 2",
   "id": "ebfb7af41829013d"
  },
  {
   "metadata": {
    "ExecuteTime": {
     "end_time": "2025-03-24T13:44:07.736683Z",
     "start_time": "2025-03-24T13:44:07.669030Z"
    }
   },
   "cell_type": "code",
   "source": [
    "random.seed(0)\n",
    "np.random.seed(0)\n",
    "torch.manual_seed(0)\n",
    "torch.use_deterministic_algorithms(True)\n",
    "\n",
    "data = pd.read_csv('/home/stepbruh/Рабочий стол/Практикум/Специалист по Data Science Плюс. Часть 13 из 16 (2022)/Модели и алгоритмы в машинном обучении/04 Обучение нейронной сети/Electrical_Grid_Stability.csv', sep=';').drop('Unnamed: 0', axis=1)\n",
    "\n",
    "X_train, X_test, y_train, y_test = train_test_split(\n",
    "    data.drop(columns=['stability']),\n",
    "    data.stability,\n",
    "    test_size=0.3,\n",
    "    shuffle=True)\n",
    "\n",
    "X_train = torch.FloatTensor(X_train.values)\n",
    "X_test = torch.FloatTensor(X_test.values)\n",
    "y_train = torch.FloatTensor(y_train.values)\n",
    "y_test = torch.FloatTensor(y_test.values)\n",
    "\n",
    "n_neurons = [12, 9, 6, 3, 1]\n",
    "net_layers = []\n",
    "\n",
    "for i in range(1, len(n_neurons) - 1):\n",
    "\t\tnet_layers.append(nn.Linear(n_neurons[i-1], n_neurons[i]))\n",
    "\t\tif (i+1) % 2 == 0:\n",
    "\t\t\t\tnet_layers.append(nn.Tanh())\n",
    "\t\telse:\n",
    "\t\t\t\tnet_layers.append(nn.ReLU())\n",
    "\n",
    "net_layers.append(nn.Linear(n_neurons[-2], n_neurons[-1]))\n",
    "net_layers.append(nn.Sigmoid())\n",
    "\n",
    "net = nn.Sequential(*net_layers) # такая запись позволяет передавать элементы списка как параметры для инициализации\n",
    "\n",
    "def init_weights(layer):\n",
    "    if type(layer) == nn.Linear: # Проверка, что слой – полносвязный\n",
    "        nn.init.normal_(layer.weight, mean=.5, std=2)\n",
    "        nn.init.normal_(layer.bias, mean=-.5, std=1)\n",
    "\n",
    "net.apply(init_weights)\n",
    "optimizer = torch.optim.Adam(net.parameters(), lr=1e-3)\n",
    "loss = nn.BCELoss()\n",
    "num_epochs = 100"
   ],
   "id": "b755c876c68b546e",
   "outputs": [],
   "execution_count": 13
  },
  {
   "metadata": {
    "ExecuteTime": {
     "end_time": "2025-03-24T13:44:12.308108Z",
     "start_time": "2025-03-24T13:44:11.859239Z"
    }
   },
   "cell_type": "code",
   "source": [
    "for epoch in range(num_epochs):\n",
    "    optimizer.zero_grad()\n",
    "\n",
    "    preds = net.forward(X_train).flatten()\n",
    "\n",
    "    loss_value = loss(preds, y_train)\n",
    "    # print(loss_value)\n",
    "\n",
    "    loss_value.backward()\n",
    "\n",
    "    optimizer.step()\n",
    "\n",
    "    if epoch % 10 == 0 or epoch == num_epochs - 1:\n",
    "        net.eval()\n",
    "        test_preds = net.forward(X_test)\n",
    "        accuracy = (torch.round(test_preds) == y_test).float().mean().data\n",
    "        print(accuracy)"
   ],
   "id": "31438a5467f6b66",
   "outputs": [
    {
     "name": "stdout",
     "output_type": "stream",
     "text": [
      "tensor(0.5290)\n",
      "tensor(0.5287)\n",
      "tensor(0.5285)\n",
      "tensor(0.5289)\n",
      "tensor(0.5285)\n",
      "tensor(0.5282)\n",
      "tensor(0.5278)\n",
      "tensor(0.5280)\n",
      "tensor(0.5277)\n",
      "tensor(0.5275)\n",
      "tensor(0.5286)\n"
     ]
    }
   ],
   "execution_count": 14
  }
 ],
 "metadata": {
  "kernelspec": {
   "display_name": "Python 3",
   "language": "python",
   "name": "python3"
  },
  "language_info": {
   "codemirror_mode": {
    "name": "ipython",
    "version": 2
   },
   "file_extension": ".py",
   "mimetype": "text/x-python",
   "name": "python",
   "nbconvert_exporter": "python",
   "pygments_lexer": "ipython2",
   "version": "2.7.6"
  }
 },
 "nbformat": 4,
 "nbformat_minor": 5
}
