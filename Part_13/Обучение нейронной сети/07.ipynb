{
 "cells": [
  {
   "cell_type": "code",
   "id": "initial_id",
   "metadata": {
    "collapsed": true,
    "ExecuteTime": {
     "end_time": "2025-03-21T09:45:22.002110Z",
     "start_time": "2025-03-21T09:45:21.997972Z"
    }
   },
   "source": [
    "import random\n",
    "import numpy as np\n",
    "import pandas as pd\n",
    "import torch\n",
    "import torch.nn as nn\n",
    "from sklearn.model_selection import train_test_split\n",
    "import math as m"
   ],
   "outputs": [],
   "execution_count": 57
  },
  {
   "metadata": {
    "ExecuteTime": {
     "end_time": "2025-03-21T09:45:22.045169Z",
     "start_time": "2025-03-21T09:45:22.025354Z"
    }
   },
   "cell_type": "code",
   "source": "data = pd.read_csv('/home/stepbruh/Рабочий стол/Практикум/Специалист по Data Science Плюс. Часть 13 из 16 (2022)/Модели и алгоритмы в машинном обучении/04 Обучение нейронной сети/Electrical_Grid_Stability.csv', sep=';')",
   "id": "e71af80fa9b0aad1",
   "outputs": [],
   "execution_count": 58
  },
  {
   "metadata": {
    "ExecuteTime": {
     "end_time": "2025-03-21T09:45:22.084059Z",
     "start_time": "2025-03-21T09:45:22.080865Z"
    }
   },
   "cell_type": "code",
   "source": [
    "random.seed(0)\n",
    "np.random.seed(0)\n",
    "torch.manual_seed(0)\n",
    "torch.use_deterministic_algorithms(True)"
   ],
   "id": "321d3ab0f44c88ff",
   "outputs": [],
   "execution_count": 59
  },
  {
   "metadata": {
    "ExecuteTime": {
     "end_time": "2025-03-21T09:45:22.142478Z",
     "start_time": "2025-03-21T09:45:22.137893Z"
    }
   },
   "cell_type": "code",
   "source": [
    "X =  torch.FloatTensor(data.drop(['stability', 'Unnamed: 0'], axis = 1).values)\n",
    "y = torch.FloatTensor(data.stability.values)"
   ],
   "id": "83a58e329fc988d",
   "outputs": [],
   "execution_count": 60
  },
  {
   "metadata": {
    "ExecuteTime": {
     "end_time": "2025-03-21T09:45:22.198210Z",
     "start_time": "2025-03-21T09:45:22.194921Z"
    }
   },
   "cell_type": "code",
   "source": "X_train, X_test, y_train, y_test = train_test_split(X,y, test_size=.3, shuffle=True, random_state=42)",
   "id": "eaf925bfa868ef08",
   "outputs": [],
   "execution_count": 61
  },
  {
   "metadata": {
    "ExecuteTime": {
     "end_time": "2025-03-21T09:45:22.263045Z",
     "start_time": "2025-03-21T09:45:22.260776Z"
    }
   },
   "cell_type": "code",
   "source": [
    "n_in_neurons = 12\n",
    "n_hidden_neurons_1 = 8\n",
    "n_hidden_neurons_2 = 4\n",
    "n_out_neurons = 1"
   ],
   "id": "3a59437f1f6d9bcf",
   "outputs": [],
   "execution_count": 62
  },
  {
   "metadata": {
    "ExecuteTime": {
     "end_time": "2025-03-21T09:45:22.324251Z",
     "start_time": "2025-03-21T09:45:22.320972Z"
    }
   },
   "cell_type": "code",
   "source": [
    "model = nn.Sequential(\n",
    "    nn.Linear(n_in_neurons, n_hidden_neurons_1),\n",
    "    nn.ReLU(),\n",
    "    nn.Linear(n_hidden_neurons_1,n_hidden_neurons_2),\n",
    "    nn.Tanh(),\n",
    "    nn.Linear(n_hidden_neurons_2,n_out_neurons),\n",
    "    nn.Sigmoid()\n",
    ")"
   ],
   "id": "f49b0a7bb2f77261",
   "outputs": [],
   "execution_count": 63
  },
  {
   "metadata": {
    "ExecuteTime": {
     "end_time": "2025-03-21T09:45:22.379358Z",
     "start_time": "2025-03-21T09:45:22.376862Z"
    }
   },
   "cell_type": "code",
   "source": "print(model)",
   "id": "6e69cf7a08bd346",
   "outputs": [
    {
     "name": "stdout",
     "output_type": "stream",
     "text": [
      "Sequential(\n",
      "  (0): Linear(in_features=12, out_features=8, bias=True)\n",
      "  (1): ReLU()\n",
      "  (2): Linear(in_features=8, out_features=4, bias=True)\n",
      "  (3): Tanh()\n",
      "  (4): Linear(in_features=4, out_features=1, bias=True)\n",
      "  (5): Sigmoid()\n",
      ")\n"
     ]
    }
   ],
   "execution_count": 64
  },
  {
   "metadata": {
    "ExecuteTime": {
     "end_time": "2025-03-21T09:45:22.498122Z",
     "start_time": "2025-03-21T09:45:22.495158Z"
    }
   },
   "cell_type": "code",
   "source": [
    "optimizer = torch.optim.Adam(params=model.parameters(),lr=1e-3)\n",
    "loss = nn.BCELoss()\n",
    "num_epochs = 100\n",
    "batch_length = 500\n",
    "num_batches = m.ceil((len(X_train))/batch_length)"
   ],
   "id": "15a64dd3ff96b4ea",
   "outputs": [],
   "execution_count": 65
  },
  {
   "metadata": {
    "ExecuteTime": {
     "end_time": "2025-03-21T09:45:24.229979Z",
     "start_time": "2025-03-21T09:45:22.565604Z"
    }
   },
   "cell_type": "code",
   "source": [
    "for epoch in range(num_epochs):\n",
    "\n",
    "    order = np.random.permutation(len(X_train))\n",
    "    for batch_idx in range(num_batches):\n",
    "\n",
    "        start_idx = batch_length * batch_idx\n",
    "        optimizer.zero_grad()\n",
    "\n",
    "        batch_idxs = start_idx + batch_length\n",
    "        X_batch = X_train[start_idx:batch_idxs]\n",
    "        y_batch = y_train[start_idx:batch_idxs]\n",
    "\n",
    "        preds = model.forward(X_batch).flatten()\n",
    "        loss_value = loss(preds, y_batch)\n",
    "        loss_value.backward()\n",
    "        optimizer.step()\n",
    "\n",
    "    if epoch%10==0 or epoch==num_epochs-1:\n",
    "        model.eval()\n",
    "        with torch.no_grad():\n",
    "            test_preds = model.forward(X_test)\n",
    "            accuracy = (torch.round(test_preds) == y_test).float().mean().item()\n",
    "        print(f\"Epoch {epoch}: Loss = {loss_value.item():.4f}, Accuracy = {accuracy:.4f}\")\n"
   ],
   "id": "f2ba80942c3c4ba",
   "outputs": [
    {
     "name": "stdout",
     "output_type": "stream",
     "text": [
      "Epoch 0: Loss = 0.7172, Accuracy = 0.6463\n",
      "Epoch 10: Loss = 0.6033, Accuracy = 0.6181\n",
      "Epoch 20: Loss = 0.5394, Accuracy = 0.5755\n",
      "Epoch 30: Loss = 0.4725, Accuracy = 0.5630\n",
      "Epoch 40: Loss = 0.4092, Accuracy = 0.5537\n",
      "Epoch 50: Loss = 0.3672, Accuracy = 0.5484\n",
      "Epoch 60: Loss = 0.3384, Accuracy = 0.5467\n",
      "Epoch 70: Loss = 0.3166, Accuracy = 0.5462\n",
      "Epoch 80: Loss = 0.2960, Accuracy = 0.5453\n",
      "Epoch 90: Loss = 0.2815, Accuracy = 0.5462\n",
      "Epoch 99: Loss = 0.2725, Accuracy = 0.5461\n"
     ]
    }
   ],
   "execution_count": 66
  }
 ],
 "metadata": {
  "kernelspec": {
   "display_name": "Python 3",
   "language": "python",
   "name": "python3"
  },
  "language_info": {
   "codemirror_mode": {
    "name": "ipython",
    "version": 2
   },
   "file_extension": ".py",
   "mimetype": "text/x-python",
   "name": "python",
   "nbconvert_exporter": "python",
   "pygments_lexer": "ipython2",
   "version": "2.7.6"
  }
 },
 "nbformat": 4,
 "nbformat_minor": 5
}
