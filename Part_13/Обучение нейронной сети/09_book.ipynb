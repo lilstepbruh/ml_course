{
 "cells": [
  {
   "cell_type": "code",
   "id": "e431cf8e",
   "metadata": {
    "ExecuteTime": {
     "end_time": "2025-03-24T13:58:18.233969Z",
     "start_time": "2025-03-24T13:58:13.806439Z"
    }
   },
   "source": [
    "import random\n",
    "import numpy as np\n",
    "import pandas as pd\n",
    "import torch\n",
    "import torch.nn as nn\n",
    "from sklearn.model_selection import train_test_split\n",
    "\n",
    "\n",
    "random.seed(0)\n",
    "np.random.seed(0)\n",
    "torch.manual_seed(0)\n",
    "torch.use_deterministic_algorithms(True)"
   ],
   "outputs": [],
   "execution_count": 1
  },
  {
   "metadata": {
    "ExecuteTime": {
     "end_time": "2025-03-24T13:58:18.299035Z",
     "start_time": "2025-03-24T13:58:18.294811Z"
    }
   },
   "cell_type": "code",
   "source": [
    "params = {}\n",
    "k=-1"
   ],
   "id": "1c873c29b4f6e403",
   "outputs": [],
   "execution_count": 2
  },
  {
   "cell_type": "code",
   "id": "055325bf",
   "metadata": {
    "ExecuteTime": {
     "end_time": "2025-03-24T13:58:18.749121Z",
     "start_time": "2025-03-24T13:58:18.621391Z"
    }
   },
   "source": [
    "data = pd.read_csv('/home/stepbruh/Рабочий стол/Практикум/Специалист по Data Science Плюс. Часть 13 из 16 (2022)/Модели и алгоритмы в машинном обучении/04 Обучение нейронной сети/Electrical_Grid_Stability.csv', sep=';').drop('Unnamed: 0', axis=1)\n",
    "\n",
    "X_train, X_test, y_train, y_test = train_test_split(\n",
    "    data.drop(columns=['stability']), \n",
    "    data.stability, \n",
    "    test_size=0.3, \n",
    "    shuffle=True,\n",
    "    random_state=42)\n",
    "\n",
    "X_train = torch.FloatTensor(X_train.values)\n",
    "X_test = torch.FloatTensor(X_test.values)\n",
    "y_train = torch.FloatTensor(y_train.values)\n",
    "y_test = torch.FloatTensor(y_test.values)"
   ],
   "outputs": [],
   "execution_count": 3
  },
  {
   "cell_type": "code",
   "id": "eb24e472",
   "metadata": {
    "ExecuteTime": {
     "end_time": "2025-03-24T13:58:18.847662Z",
     "start_time": "2025-03-24T13:58:18.841686Z"
    }
   },
   "source": [
    "n_in_neurons = 12\n",
    "n_hidden_neurons_1 = 8\n",
    "n_hidden_neurons_2 = 4\n",
    "n_out_neurons = 1 \n",
    "\n",
    "net = nn.Sequential(\n",
    "    nn.Linear(n_in_neurons, n_hidden_neurons_1),\n",
    "    nn.ReLU(),\n",
    "    nn.Linear(n_hidden_neurons_1, n_hidden_neurons_2),\n",
    "    nn.Tanh(),\n",
    "    nn.Linear(n_hidden_neurons_2, n_out_neurons), \n",
    "    nn.Sigmoid()\n",
    ")"
   ],
   "outputs": [],
   "execution_count": 4
  },
  {
   "cell_type": "code",
   "id": "4f75e24b",
   "metadata": {
    "ExecuteTime": {
     "end_time": "2025-03-24T13:58:20.623672Z",
     "start_time": "2025-03-24T13:58:18.934401Z"
    }
   },
   "source": [
    "optimizer = torch.optim.Adam(net.parameters(), lr=1e-3)\n",
    "\n",
    "loss = nn.BCELoss()\n",
    "\n",
    "num_epochs = 100"
   ],
   "outputs": [],
   "execution_count": 5
  },
  {
   "cell_type": "code",
   "id": "048b5ed1",
   "metadata": {
    "ExecuteTime": {
     "end_time": "2025-03-24T14:05:08.213654Z",
     "start_time": "2025-03-24T14:05:07.864967Z"
    }
   },
   "source": [
    "for epoch in range(num_epochs):\n",
    "    optimizer.zero_grad()\n",
    "\t\n",
    "    preds = net.forward(X_train).flatten()\n",
    "\t        \n",
    "    loss_value = loss(preds, y_train)\n",
    "\n",
    "    loss_value.backward()\n",
    "\t        \n",
    "    optimizer.step()\n",
    "\t\n",
    "    if epoch % 10 == 0 or epoch == num_epochs - 1:\n",
    "        net.eval()\n",
    "        test_preds = net.forward(X_test)\n",
    "        accuracy = (torch.round(test_preds) == y_test).float().mean().data\n",
    "        print(accuracy)"
   ],
   "outputs": [
    {
     "name": "stdout",
     "output_type": "stream",
     "text": [
      "tensor(0.5692)\n",
      "tensor(0.5698)\n",
      "tensor(0.5686)\n",
      "tensor(0.5667)\n",
      "tensor(0.5667)\n",
      "tensor(0.5650)\n",
      "tensor(0.5637)\n",
      "tensor(0.5619)\n",
      "tensor(0.5610)\n",
      "tensor(0.5602)\n",
      "tensor(0.5592)\n"
     ]
    }
   ],
   "execution_count": 12
  },
  {
   "metadata": {
    "ExecuteTime": {
     "end_time": "2025-03-24T13:58:21.401859Z",
     "start_time": "2025-03-24T13:58:21.398286Z"
    }
   },
   "cell_type": "code",
   "source": [
    "k+=1\n",
    "params[k] = [net.parameters()]"
   ],
   "id": "2652cad915a72e5c",
   "outputs": [],
   "execution_count": 7
  }
 ],
 "metadata": {
  "ExecuteTimeLog": [
   {
    "duration": 1495,
    "start_time": "2023-03-25T16:30:26.742Z"
   },
   {
    "duration": 449,
    "start_time": "2023-03-25T16:40:26.151Z"
   }
  ],
  "celltoolbar": "Tags",
  "kernelspec": {
   "display_name": "Python 3 (ipykernel)",
   "language": "python",
   "name": "python3"
  },
  "language_info": {
   "codemirror_mode": {
    "name": "ipython",
    "version": 3
   },
   "file_extension": ".py",
   "mimetype": "text/x-python",
   "name": "python",
   "nbconvert_exporter": "python",
   "pygments_lexer": "ipython3",
   "version": "3.9.5"
  },
  "toc": {
   "base_numbering": 1,
   "nav_menu": {},
   "number_sections": true,
   "sideBar": true,
   "skip_h1_title": true,
   "title_cell": "Table of Contents",
   "title_sidebar": "Contents",
   "toc_cell": false,
   "toc_position": {},
   "toc_section_display": true,
   "toc_window_display": false
  }
 },
 "nbformat": 4,
 "nbformat_minor": 5
}
