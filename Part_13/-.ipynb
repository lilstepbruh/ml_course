{
 "cells": [
  {
   "metadata": {
    "ExecuteTime": {
     "end_time": "2025-03-24T14:50:58.154681Z",
     "start_time": "2025-03-24T14:50:58.151995Z"
    }
   },
   "cell_type": "code",
   "source": [
    "import pandas as pd\n",
    "from sklearn.preprocessing import StandardScaler, OneHotEncoder"
   ],
   "id": "ce5bd0cd8cec014c",
   "outputs": [],
   "execution_count": 60
  },
  {
   "cell_type": "code",
   "id": "initial_id",
   "metadata": {
    "collapsed": true,
    "ExecuteTime": {
     "end_time": "2025-03-24T14:50:58.167375Z",
     "start_time": "2025-03-24T14:50:58.164953Z"
    }
   },
   "source": [
    "def normalize(x: int, min: int, max: int, range: list[int]) -> float:\n",
    "    return ((x-min)*(range[1]-range[0]))/(max-min)"
   ],
   "outputs": [],
   "execution_count": 61
  },
  {
   "metadata": {
    "ExecuteTime": {
     "end_time": "2025-03-24T14:50:58.215041Z",
     "start_time": "2025-03-24T14:50:58.212440Z"
    }
   },
   "cell_type": "code",
   "source": "print(normalize(41, 36, 46, [0,1]))",
   "id": "bade6f242be33756",
   "outputs": [
    {
     "name": "stdout",
     "output_type": "stream",
     "text": [
      "0.5\n"
     ]
    }
   ],
   "execution_count": 62
  },
  {
   "metadata": {
    "ExecuteTime": {
     "end_time": "2025-03-24T14:50:58.268160Z",
     "start_time": "2025-03-24T14:50:58.263416Z"
    }
   },
   "cell_type": "code",
   "source": [
    "data = [\n",
    "    [574, 'Белый', 40, 10, 4000],\n",
    "    [777, 'Красный', 42, 12, 7000],\n",
    "    [123, 'Белый', 44, 9, 3000],\n",
    "]\n",
    "\n",
    "df = pd.DataFrame(data, columns=['Модель', 'Цвет', 'Размер', 'Высота', 'Цена'])\n",
    "print('Данные:\\n', df)"
   ],
   "id": "eb665a5a706ff295",
   "outputs": [
    {
     "name": "stdout",
     "output_type": "stream",
     "text": [
      "Данные:\n",
      "    Модель     Цвет  Размер  Высота  Цена\n",
      "0     574    Белый      40      10  4000\n",
      "1     777  Красный      42      12  7000\n",
      "2     123    Белый      44       9  3000\n"
     ]
    }
   ],
   "execution_count": 63
  },
  {
   "metadata": {
    "ExecuteTime": {
     "end_time": "2025-03-24T14:50:58.318743Z",
     "start_time": "2025-03-24T14:50:58.315820Z"
    }
   },
   "cell_type": "code",
   "source": [
    "obj_cols = []\n",
    "dig_cols = []\n",
    "\n",
    "for column in df.columns:\n",
    "    if df[column].dtype == object:\n",
    "        obj_cols.append(column)\n",
    "    else:\n",
    "        dig_cols.append(column)"
   ],
   "id": "2a39dd1cb27904dc",
   "outputs": [],
   "execution_count": 64
  },
  {
   "metadata": {
    "ExecuteTime": {
     "end_time": "2025-03-24T14:50:58.365958Z",
     "start_time": "2025-03-24T14:50:58.362382Z"
    }
   },
   "cell_type": "code",
   "source": [
    "dig_cols.remove('Модель')\n",
    "obj_cols.append(df['Модель'].name)\n",
    "df[obj_cols] = df[obj_cols].astype(str)"
   ],
   "id": "eb244f58454e93a0",
   "outputs": [],
   "execution_count": 65
  },
  {
   "metadata": {
    "ExecuteTime": {
     "end_time": "2025-03-24T14:50:58.421575Z",
     "start_time": "2025-03-24T14:50:58.419582Z"
    }
   },
   "cell_type": "code",
   "source": [
    "ohe = OneHotEncoder(drop='first')\n",
    "scaler = StandardScaler()"
   ],
   "id": "8ce5b7ee0340eb8f",
   "outputs": [],
   "execution_count": 66
  },
  {
   "metadata": {
    "ExecuteTime": {
     "end_time": "2025-03-24T14:50:58.468096Z",
     "start_time": "2025-03-24T14:50:58.463343Z"
    }
   },
   "cell_type": "code",
   "source": "df[dig_cols] = scaler.fit_transform(df[dig_cols])",
   "id": "33c3fd93fa550a14",
   "outputs": [],
   "execution_count": 67
  },
  {
   "metadata": {
    "ExecuteTime": {
     "end_time": "2025-03-24T14:51:44.926208Z",
     "start_time": "2025-03-24T14:51:44.919131Z"
    }
   },
   "cell_type": "code",
   "source": [
    "encoded = ohe.fit_transform(df[obj_cols]).toarray()\n",
    "encoded_df = pd.DataFrame(encoded, columns=ohe.get_feature_names_out())\n",
    "df = df.drop(columns=obj_cols)\n",
    "df = pd.concat([df, encoded_df], axis=1)"
   ],
   "id": "584a53172c60dc0d",
   "outputs": [],
   "execution_count": 69
  }
 ],
 "metadata": {
  "kernelspec": {
   "display_name": "Python 3",
   "language": "python",
   "name": "python3"
  },
  "language_info": {
   "codemirror_mode": {
    "name": "ipython",
    "version": 2
   },
   "file_extension": ".py",
   "mimetype": "text/x-python",
   "name": "python",
   "nbconvert_exporter": "python",
   "pygments_lexer": "ipython2",
   "version": "2.7.6"
  }
 },
 "nbformat": 4,
 "nbformat_minor": 5
}
