{
 "cells": [
  {
   "cell_type": "markdown",
   "id": "cosmetic-isaac",
   "metadata": {},
   "source": [
    "В предыдущих уроках вы изучили BatchNorm и Dropout. Теперь пора посмотреть, как они работают.\n",
    "\n",
    "Поупражняйтесь на датасете рукописных цифр MNIST и убедитесь, что даже на одной эпохе BatchNorm улучшает качество модели. \n",
    "\n",
    "В этой задаче вы можете менять только класс модели. Исходный код дает точность ≈96.31% на тесте. С помощью BatchNorm можно её повысить до значения более 97%. \n",
    "\n",
    "В этой задаче нет одного правильного решения, вам нужно эксперементировать."
   ]
  },
  {
   "cell_type": "markdown",
   "id": "veterinary-martial",
   "metadata": {},
   "source": [
    "# Задача"
   ]
  },
  {
   "cell_type": "markdown",
   "id": "chronic-being",
   "metadata": {},
   "source": [
    "Запустите исходный код, чтобы получить базовые результаты обучения модели (англ. *baseline*). Затем добавьте один или несколько слоёв BatchNorm (пример `nn.BatchNorm1d(num_inputs)`) в модель `NeuralNet` и сравните итоги работы модели с использованием этого метода и без.\n",
    "\n",
    "Кроме того, вы можете добавить слой Dropout (пример `nn.Dropout(p=0.5)`) и посмотреть, как он сочетается с BatchNorm. Так вы сможете понять, почему два этих метода не рекомендуется использовать одновременно."
   ]
  },
  {
   "cell_type": "markdown",
   "id": "3425ef5e",
   "metadata": {},
   "source": [
    "Установите необходимые пакеты. Возможно, после установки потребуется перезапустить ядро Jupyter через пункт меню Kernel -> Restart. "
   ]
  },
  {
   "cell_type": "code",
   "id": "b2676e2e",
   "metadata": {},
   "source": [
    "!pip install torch==1.10.0+cpu torchvision==0.11.0+cpu torchaudio==0.10.0 -f https://download.pytorch.org/whl/torch_stable.html --user\n"
   ],
   "outputs": [],
   "execution_count": null
  },
  {
   "cell_type": "markdown",
   "id": "manual-garbage",
   "metadata": {},
   "source": [
    "Импортируйте необходимые пакеты"
   ]
  },
  {
   "cell_type": "code",
   "id": "crazy-basement",
   "metadata": {
    "tags": [
     "24a96b51-8991-4c48-a695-8d2bbf2cc7bc"
    ],
    "ExecuteTime": {
     "end_time": "2025-03-25T12:06:31.671619Z",
     "start_time": "2025-03-25T12:06:31.667642Z"
    }
   },
   "source": [
    "import torch\n",
    "import torch.nn as nn\n",
    "import torchvision\n",
    "import torchvision.transforms as transforms"
   ],
   "outputs": [],
   "execution_count": 3
  },
  {
   "cell_type": "markdown",
   "id": "preliminary-mistress",
   "metadata": {},
   "source": [
    "Гиперпараметры обучения:"
   ]
  },
  {
   "cell_type": "code",
   "id": "personalized-associate",
   "metadata": {
    "ExecuteTime": {
     "end_time": "2025-03-25T12:07:06.824901Z",
     "start_time": "2025-03-25T12:07:06.806618Z"
    }
   },
   "source": [
    "\n",
    "torch.manual_seed(1234)\n",
    "input_size = 28*28\n",
    "hidden_size = 800\n",
    "num_classes = 10\n",
    "num_epochs = 1\n",
    "batch_size = 100\n",
    "learning_rate = 0.001\n"
   ],
   "outputs": [],
   "execution_count": 4
  },
  {
   "cell_type": "markdown",
   "id": "cultural-western",
   "metadata": {},
   "source": [
    "Создайте датасет и даталоадер:"
   ]
  },
  {
   "cell_type": "code",
   "id": "protecting-tower",
   "metadata": {
    "ExecuteTime": {
     "end_time": "2025-03-25T12:10:29.705066Z",
     "start_time": "2025-03-25T12:07:10.973742Z"
    }
   },
   "source": [
    "# MNIST датасет\n",
    "train_dataset = torchvision.datasets.MNIST(root='data', \n",
    "                                           train=True, \n",
    "                                           transform=transforms.ToTensor(),  \n",
    "                                           download=True)\n",
    "\n",
    "test_dataset = torchvision.datasets.MNIST(root='data', \n",
    "                                          train=False, \n",
    "                                          transform=transforms.ToTensor())\n",
    "\n",
    "# Dataloader для тренировочной и тестовой части датасета \n",
    "train_loader = torch.utils.data.DataLoader(dataset=train_dataset, \n",
    "                                           batch_size=batch_size, \n",
    "                                           shuffle=True)\n",
    "\n",
    "test_loader = torch.utils.data.DataLoader(dataset=test_dataset, \n",
    "                                          batch_size=batch_size, \n",
    "                                          shuffle=False)\n"
   ],
   "outputs": [
    {
     "name": "stderr",
     "output_type": "stream",
     "text": [
      "100%|██████████| 9.91M/9.91M [00:02<00:00, 4.75MB/s]\n",
      "100%|██████████| 28.9k/28.9k [00:00<00:00, 225kB/s]\n",
      "100%|██████████| 1.65M/1.65M [00:00<00:00, 1.80MB/s]\n",
      "100%|██████████| 4.54k/4.54k [00:00<00:00, 8.76MB/s]\n"
     ]
    }
   ],
   "execution_count": 5
  },
  {
   "cell_type": "markdown",
   "id": "bridal-james",
   "metadata": {},
   "source": [
    "Создайте модель"
   ]
  },
  {
   "cell_type": "code",
   "id": "active-minneapolis",
   "metadata": {
    "ExecuteTime": {
     "end_time": "2025-03-25T12:16:53.351205Z",
     "start_time": "2025-03-25T12:16:53.347463Z"
    }
   },
   "source": [
    "class NeuralNet(nn.Module):\n",
    "    def __init__(self, input_size, hidden_size, num_classes):\n",
    "        super(NeuralNet, self).__init__()\n",
    "        #self.bn1 = nn.BatchNorm1d(input_size)\n",
    "        self.fc1 = nn.Linear(input_size, hidden_size)\n",
    "        self.bn2 = nn.BatchNorm1d(hidden_size)\n",
    "        self.relu = nn.ReLU()\n",
    "        self.fc2 = nn.Linear(hidden_size, num_classes)  \n",
    "    \n",
    "    def forward(self, x):\n",
    "        #out = self.bn1(x)\n",
    "        out = self.fc1(x)\n",
    "        out = self.bn2(out)\n",
    "        out = self.relu(out)\n",
    "        out = self.fc2(out)\n",
    "        return out"
   ],
   "outputs": [],
   "execution_count": 16
  },
  {
   "cell_type": "markdown",
   "id": "convenient-binding",
   "metadata": {},
   "source": [
    "Обучение и проверка точности на тесте:"
   ]
  },
  {
   "cell_type": "code",
   "id": "floral-chance",
   "metadata": {
    "ExecuteTime": {
     "end_time": "2025-03-25T12:17:02.383409Z",
     "start_time": "2025-03-25T12:16:53.805159Z"
    }
   },
   "source": [
    "model = NeuralNet(input_size, hidden_size, num_classes)\n",
    "\n",
    "criterion = nn.CrossEntropyLoss()  # В качестве функции потерь используем Кросс-Энтропию\n",
    "optimizer = torch.optim.Adam(model.parameters(), lr=learning_rate)  # создаем Adam оптимизатор\n",
    "\n",
    "# Цикл обучения\n",
    "total_step = len(train_loader)\n",
    "for epoch in range(num_epochs):\n",
    "    for i, (images, labels) in enumerate(train_loader):  \n",
    "        images = images.reshape(-1, input_size)\n",
    "        \n",
    "        # Прямой проход\n",
    "        outputs = model(images)\n",
    "        loss = criterion(outputs, labels)\n",
    "        \n",
    "        # Обратный проход\n",
    "        optimizer.zero_grad()\n",
    "        loss.backward()\n",
    "        optimizer.step()\n",
    "        _, predicted = torch.max(outputs.data, 1)\n",
    "        if (i+1) % 100 == 0:\n",
    "            print ('Эпоха [{}/{}], Итерация [{}/{}], Значение функции потерь: {:.4f} Точность на батче: {}%' \n",
    "                   .format(epoch+1, num_epochs, i+1, total_step, loss.item(), 100 *(predicted == labels).sum()/labels.size(0)))\n",
    "\n",
    "# Считаем точность на тестовой выборке\n",
    "with torch.no_grad():\n",
    "    correct = 0\n",
    "    total = 0\n",
    "    for images, labels in test_loader:\n",
    "        images = images.reshape(-1, input_size)\n",
    "        labels = labels\n",
    "        outputs = model(images)\n",
    "        _, predicted = torch.max(outputs.data, 1)\n",
    "        total += labels.size(0)\n",
    "        correct += (predicted == labels).sum().item()\n",
    "\n",
    "    print('Точность на тесте: {} %'.format(100 * correct / total))"
   ],
   "outputs": [
    {
     "name": "stdout",
     "output_type": "stream",
     "text": [
      "Эпоха [1/1], Итерация [100/600], Значение функции потерь: 0.2541 Точность на батче: 92.0%\n",
      "Эпоха [1/1], Итерация [200/600], Значение функции потерь: 0.1209 Точность на батче: 96.0%\n",
      "Эпоха [1/1], Итерация [300/600], Значение функции потерь: 0.3069 Точность на батче: 93.0%\n",
      "Эпоха [1/1], Итерация [400/600], Значение функции потерь: 0.1231 Точность на батче: 96.0%\n",
      "Эпоха [1/1], Итерация [500/600], Значение функции потерь: 0.1262 Точность на батче: 96.0%\n",
      "Эпоха [1/1], Итерация [600/600], Значение функции потерь: 0.1231 Точность на батче: 96.0%\n",
      "Точность на тесте: 96.32 %\n"
     ]
    }
   ],
   "execution_count": 17
  },
  {
   "cell_type": "code",
   "execution_count": null,
   "id": "61d03384",
   "metadata": {},
   "outputs": [],
   "source": []
  }
 ],
 "metadata": {
  "celltoolbar": "Tags",
  "kernelspec": {
   "display_name": "Python 3 (ipykernel)",
   "language": "python",
   "name": "python3"
  },
  "language_info": {
   "codemirror_mode": {
    "name": "ipython",
    "version": 3
   },
   "file_extension": ".py",
   "mimetype": "text/x-python",
   "name": "python",
   "nbconvert_exporter": "python",
   "pygments_lexer": "ipython3",
   "version": "3.9.5"
  },
  "toc": {
   "base_numbering": 1,
   "nav_menu": {},
   "number_sections": false,
   "sideBar": true,
   "skip_h1_title": false,
   "title_cell": "Table of Contents",
   "title_sidebar": "Contents",
   "toc_cell": false,
   "toc_position": {},
   "toc_section_display": true,
   "toc_window_display": false
  },
  "varInspector": {
   "cols": {
    "lenName": 16,
    "lenType": 16,
    "lenVar": 40
   },
   "kernels_config": {
    "python": {
     "delete_cmd_postfix": "",
     "delete_cmd_prefix": "del ",
     "library": "var_list.py",
     "varRefreshCmd": "print(var_dic_list())"
    },
    "r": {
     "delete_cmd_postfix": ") ",
     "delete_cmd_prefix": "rm(",
     "library": "var_list.r",
     "varRefreshCmd": "cat(var_dic_list()) "
    }
   },
   "types_to_exclude": [
    "module",
    "function",
    "builtin_function_or_method",
    "instance",
    "_Feature"
   ],
   "window_display": false
  }
 },
 "nbformat": 4,
 "nbformat_minor": 5
}
