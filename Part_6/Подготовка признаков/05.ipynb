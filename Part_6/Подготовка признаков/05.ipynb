{
 "cells": [
  {
   "cell_type": "code",
   "id": "initial_id",
   "metadata": {
    "collapsed": true,
    "ExecuteTime": {
     "end_time": "2025-02-06T19:23:14.488378Z",
     "start_time": "2025-02-06T19:23:13.852327Z"
    }
   },
   "source": [
    "import pandas as pd\n",
    "from sklearn.model_selection import train_test_split\n",
    "from sklearn.preprocessing import OrdinalEncoder\n",
    "from sklearn.tree import DecisionTreeClassifier"
   ],
   "outputs": [],
   "execution_count": 10
  },
  {
   "metadata": {
    "ExecuteTime": {
     "end_time": "2025-02-06T19:19:38.088104Z",
     "start_time": "2025-02-06T19:19:38.023137Z"
    }
   },
   "cell_type": "code",
   "source": "df = pd.read_csv(r'C:\\Users\\andre\\Рабочий стол\\Практикум\\Специалист по Data Science Плюс. Часть 6\\Часть 6\\02 Подготовка признаков\\travel_insurance.csv')",
   "id": "ae9f4b4843a6d4d0",
   "outputs": [],
   "execution_count": 3
  },
  {
   "metadata": {
    "ExecuteTime": {
     "end_time": "2025-02-06T19:20:15.490466Z",
     "start_time": "2025-02-06T19:20:15.485649Z"
    }
   },
   "cell_type": "code",
   "source": "enc = OrdinalEncoder()",
   "id": "3b39cac280e9d227",
   "outputs": [],
   "execution_count": 4
  },
  {
   "metadata": {
    "ExecuteTime": {
     "end_time": "2025-02-06T19:21:47.758722Z",
     "start_time": "2025-02-06T19:21:47.674277Z"
    }
   },
   "cell_type": "code",
   "source": "df = pd.DataFrame(enc.fit_transform(df))",
   "id": "b3e44939ba9fe0f7",
   "outputs": [],
   "execution_count": 8
  },
  {
   "metadata": {
    "ExecuteTime": {
     "end_time": "2025-02-06T19:21:48.166247Z",
     "start_time": "2025-02-06T19:21:48.143478Z"
    }
   },
   "cell_type": "code",
   "source": "df.head()",
   "id": "b2766876f77353c9",
   "outputs": [
    {
     "data": {
      "text/plain": [
       "    0    1    2     3    4      5      6      7      8    9     10\n",
       "0  9.0  0.0  1.0  24.0  0.0   14.0  121.0  602.0  486.0  1.0  37.0\n",
       "1  7.0  1.0  1.0  10.0  0.0   52.0   61.0  470.0    0.0  NaN  34.0\n",
       "2  7.0  1.0  1.0  10.0  0.0  253.0   16.0  735.0    0.0  NaN  34.0\n",
       "3  7.0  1.0  1.0  10.0  0.0    8.0   54.0  121.0    0.0  NaN  34.0\n",
       "4  9.0  0.0  1.0  24.0  0.0    7.0   24.0  602.0  486.0  1.0  32.0"
      ],
      "text/html": [
       "<div>\n",
       "<style scoped>\n",
       "    .dataframe tbody tr th:only-of-type {\n",
       "        vertical-align: middle;\n",
       "    }\n",
       "\n",
       "    .dataframe tbody tr th {\n",
       "        vertical-align: top;\n",
       "    }\n",
       "\n",
       "    .dataframe thead th {\n",
       "        text-align: right;\n",
       "    }\n",
       "</style>\n",
       "<table border=\"1\" class=\"dataframe\">\n",
       "  <thead>\n",
       "    <tr style=\"text-align: right;\">\n",
       "      <th></th>\n",
       "      <th>0</th>\n",
       "      <th>1</th>\n",
       "      <th>2</th>\n",
       "      <th>3</th>\n",
       "      <th>4</th>\n",
       "      <th>5</th>\n",
       "      <th>6</th>\n",
       "      <th>7</th>\n",
       "      <th>8</th>\n",
       "      <th>9</th>\n",
       "      <th>10</th>\n",
       "    </tr>\n",
       "  </thead>\n",
       "  <tbody>\n",
       "    <tr>\n",
       "      <th>0</th>\n",
       "      <td>9.0</td>\n",
       "      <td>0.0</td>\n",
       "      <td>1.0</td>\n",
       "      <td>24.0</td>\n",
       "      <td>0.0</td>\n",
       "      <td>14.0</td>\n",
       "      <td>121.0</td>\n",
       "      <td>602.0</td>\n",
       "      <td>486.0</td>\n",
       "      <td>1.0</td>\n",
       "      <td>37.0</td>\n",
       "    </tr>\n",
       "    <tr>\n",
       "      <th>1</th>\n",
       "      <td>7.0</td>\n",
       "      <td>1.0</td>\n",
       "      <td>1.0</td>\n",
       "      <td>10.0</td>\n",
       "      <td>0.0</td>\n",
       "      <td>52.0</td>\n",
       "      <td>61.0</td>\n",
       "      <td>470.0</td>\n",
       "      <td>0.0</td>\n",
       "      <td>NaN</td>\n",
       "      <td>34.0</td>\n",
       "    </tr>\n",
       "    <tr>\n",
       "      <th>2</th>\n",
       "      <td>7.0</td>\n",
       "      <td>1.0</td>\n",
       "      <td>1.0</td>\n",
       "      <td>10.0</td>\n",
       "      <td>0.0</td>\n",
       "      <td>253.0</td>\n",
       "      <td>16.0</td>\n",
       "      <td>735.0</td>\n",
       "      <td>0.0</td>\n",
       "      <td>NaN</td>\n",
       "      <td>34.0</td>\n",
       "    </tr>\n",
       "    <tr>\n",
       "      <th>3</th>\n",
       "      <td>7.0</td>\n",
       "      <td>1.0</td>\n",
       "      <td>1.0</td>\n",
       "      <td>10.0</td>\n",
       "      <td>0.0</td>\n",
       "      <td>8.0</td>\n",
       "      <td>54.0</td>\n",
       "      <td>121.0</td>\n",
       "      <td>0.0</td>\n",
       "      <td>NaN</td>\n",
       "      <td>34.0</td>\n",
       "    </tr>\n",
       "    <tr>\n",
       "      <th>4</th>\n",
       "      <td>9.0</td>\n",
       "      <td>0.0</td>\n",
       "      <td>1.0</td>\n",
       "      <td>24.0</td>\n",
       "      <td>0.0</td>\n",
       "      <td>7.0</td>\n",
       "      <td>24.0</td>\n",
       "      <td>602.0</td>\n",
       "      <td>486.0</td>\n",
       "      <td>1.0</td>\n",
       "      <td>32.0</td>\n",
       "    </tr>\n",
       "  </tbody>\n",
       "</table>\n",
       "</div>"
      ]
     },
     "execution_count": 9,
     "metadata": {},
     "output_type": "execute_result"
    }
   ],
   "execution_count": 9
  },
  {
   "metadata": {
    "ExecuteTime": {
     "end_time": "2025-02-06T19:24:42.571754Z",
     "start_time": "2025-02-06T19:24:42.555718Z"
    }
   },
   "cell_type": "code",
   "source": [
    "features = df.drop(4, axis=1)\n",
    "target = df[4]\n",
    "\n",
    "train_features, valid_features, train_targets, valid_targets = train_test_split(features, target, test_size=0.25, random_state=12345)"
   ],
   "id": "5382f46452f86bfb",
   "outputs": [],
   "execution_count": 11
  },
  {
   "metadata": {
    "ExecuteTime": {
     "end_time": "2025-02-06T19:28:28.631163Z",
     "start_time": "2025-02-06T19:28:27.512006Z"
    }
   },
   "cell_type": "code",
   "source": [
    "for depth in range(1, 15):\n",
    "    model = DecisionTreeClassifier(max_depth=depth)\n",
    "    model.fit(train_features, train_targets)\n",
    "    predictions = model.predict(valid_features)\n",
    "    score = model.score(valid_features, valid_targets)\n",
    "    print(depth, score)"
   ],
   "id": "89f93a2f9ab0f01d",
   "outputs": [
    {
     "name": "stdout",
     "output_type": "stream",
     "text": [
      "1 0.9866561389656534\n",
      "2 0.9866561389656534\n",
      "3 0.9866561389656534\n",
      "4 0.9866561389656534\n",
      "5 0.9866561389656534\n",
      "6 0.9867350967232531\n",
      "7 0.9861823924200552\n",
      "8 0.9855507303592578\n",
      "9 0.9842084484800632\n",
      "10 0.983497828661666\n",
      "11 0.9827082510856692\n",
      "12 0.981997631267272\n",
      "13 0.9817607579944729\n",
      "14 0.9810501381760758\n"
     ]
    }
   ],
   "execution_count": 16
  },
  {
   "metadata": {},
   "cell_type": "code",
   "outputs": [],
   "execution_count": null,
   "source": "",
   "id": "71a5a16db76c5577"
  }
 ],
 "metadata": {
  "kernelspec": {
   "display_name": "Python 3",
   "language": "python",
   "name": "python3"
  },
  "language_info": {
   "codemirror_mode": {
    "name": "ipython",
    "version": 2
   },
   "file_extension": ".py",
   "mimetype": "text/x-python",
   "name": "python",
   "nbconvert_exporter": "python",
   "pygments_lexer": "ipython2",
   "version": "2.7.6"
  }
 },
 "nbformat": 4,
 "nbformat_minor": 5
}
