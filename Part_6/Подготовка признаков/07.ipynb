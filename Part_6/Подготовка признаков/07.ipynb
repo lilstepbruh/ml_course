{
 "cells": [
  {
   "metadata": {
    "ExecuteTime": {
     "end_time": "2025-02-06T19:41:10.491601Z",
     "start_time": "2025-02-06T19:41:10.485807Z"
    }
   },
   "cell_type": "code",
   "source": [
    "import pandas as pd\n",
    "from sklearn.model_selection import train_test_split\n",
    "from sklearn.preprocessing import StandardScaler"
   ],
   "id": "9db8072e0a04c0c0",
   "outputs": [],
   "execution_count": 4
  },
  {
   "metadata": {
    "ExecuteTime": {
     "end_time": "2025-02-06T19:41:10.579356Z",
     "start_time": "2025-02-06T19:41:10.517435Z"
    }
   },
   "cell_type": "code",
   "source": "data = pd.read_csv(r'C:\\Users\\andre\\Рабочий стол\\Практикум\\Специалист по Data Science Плюс. Часть 6\\Часть 6\\02 Подготовка признаков\\travel_insurance.csv')",
   "id": "2edc66f7ce5a1a1c",
   "outputs": [],
   "execution_count": 5
  },
  {
   "metadata": {
    "ExecuteTime": {
     "end_time": "2025-02-06T19:41:10.608862Z",
     "start_time": "2025-02-06T19:41:10.586220Z"
    }
   },
   "cell_type": "code",
   "source": [
    "target = data['Claim']\n",
    "features = data.drop('Claim', axis=1)\n",
    "features_train, features_valid, target_train, target_valid = train_test_split(\n",
    "    features, target, test_size=0.25, random_state=12345)"
   ],
   "id": "5ccc6fbec1cf00d",
   "outputs": [],
   "execution_count": 6
  },
  {
   "metadata": {
    "ExecuteTime": {
     "end_time": "2025-02-06T19:41:10.636608Z",
     "start_time": "2025-02-06T19:41:10.631026Z"
    }
   },
   "cell_type": "code",
   "source": "numeric = ['Duration', 'Net Sales', 'Commission (in value)', 'Age']",
   "id": "c6250038be51f66d",
   "outputs": [],
   "execution_count": 7
  },
  {
   "cell_type": "code",
   "id": "initial_id",
   "metadata": {
    "collapsed": true,
    "ExecuteTime": {
     "end_time": "2025-02-06T19:41:10.686264Z",
     "start_time": "2025-02-06T19:41:10.662439Z"
    }
   },
   "source": [
    "scaler = StandardScaler()\n",
    "scaler.fit(features_train[numeric])\n",
    "\n",
    "features_train[numeric] = scaler.transform(features_train[numeric])\n",
    "\n",
    "features_valid[numeric] = scaler.transform(features_valid[numeric])"
   ],
   "outputs": [],
   "execution_count": 8
  },
  {
   "metadata": {
    "ExecuteTime": {
     "end_time": "2025-02-06T19:41:10.718679Z",
     "start_time": "2025-02-06T19:41:10.709993Z"
    }
   },
   "cell_type": "code",
   "source": "print(features_train.head())\n",
   "id": "1600377ca6415a3a",
   "outputs": [
    {
     "name": "stdout",
     "output_type": "stream",
     "text": [
      "      Agency    Agency Type Distribution Channel              Product Name  \\\n",
      "33312    EPX  Travel Agency               Online         Cancellation Plan   \n",
      "50154    EPX  Travel Agency               Online         Cancellation Plan   \n",
      "26729    EPX  Travel Agency               Online         Cancellation Plan   \n",
      "37842    EPX  Travel Agency               Online  2 way Comprehensive Plan   \n",
      "23588    EPX  Travel Agency               Online  2 way Comprehensive Plan   \n",
      "\n",
      "       Duration Destination  Net Sales  Commission (in value) Gender       Age  \n",
      "33312  0.243485       CHINA  -0.513068              -0.500631    NaN -0.283389  \n",
      "50154 -0.266879   SINGAPORE  -0.554403              -0.500631    NaN -0.283389  \n",
      "26729 -0.329555    MALAYSIA  -0.637074              -0.500631    NaN -0.709982  \n",
      "37842 -0.069896    THAILAND   0.065625              -0.500631    NaN -0.354488  \n",
      "23588 -0.374324    MALAYSIA  -0.430398              -0.500631    NaN -0.425587  \n"
     ]
    }
   ],
   "execution_count": 9
  }
 ],
 "metadata": {
  "kernelspec": {
   "display_name": "Python 3",
   "language": "python",
   "name": "python3"
  },
  "language_info": {
   "codemirror_mode": {
    "name": "ipython",
    "version": 2
   },
   "file_extension": ".py",
   "mimetype": "text/x-python",
   "name": "python",
   "nbconvert_exporter": "python",
   "pygments_lexer": "ipython2",
   "version": "2.7.6"
  }
 },
 "nbformat": 4,
 "nbformat_minor": 5
}
