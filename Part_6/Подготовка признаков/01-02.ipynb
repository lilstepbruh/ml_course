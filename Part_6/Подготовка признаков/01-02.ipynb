{
 "cells": [
  {
   "cell_type": "code",
   "id": "initial_id",
   "metadata": {
    "collapsed": true,
    "ExecuteTime": {
     "end_time": "2025-02-06T18:35:21.727383Z",
     "start_time": "2025-02-06T18:35:21.723006Z"
    }
   },
   "source": [
    "import pandas as pd\n",
    "from sklearn.model_selection import train_test_split\n",
    "from sklearn.preprocessing import OneHotEncoder"
   ],
   "outputs": [],
   "execution_count": 14
  },
  {
   "metadata": {
    "ExecuteTime": {
     "end_time": "2025-02-06T18:24:25.444691Z",
     "start_time": "2025-02-06T18:24:25.363580Z"
    }
   },
   "cell_type": "code",
   "source": "df = pd.read_csv(r'C:\\Users\\andre\\Рабочий стол\\Практикум\\Специалист по Data Science Плюс. Часть 6\\Часть 6\\02 Подготовка признаков\\travel_insurance.csv')",
   "id": "54bc4bfb01de97e1",
   "outputs": [],
   "execution_count": 2
  },
  {
   "metadata": {
    "ExecuteTime": {
     "end_time": "2025-02-06T18:28:09.357923Z",
     "start_time": "2025-02-06T18:28:09.335496Z"
    }
   },
   "cell_type": "code",
   "source": [
    "features = df.drop('Claim', axis=1)\n",
    "target = df['Claim']\n",
    "\n",
    "train_features, valid_features, train_targets, valid_targets = train_test_split(features, target, test_size=0.25, random_state=12345)"
   ],
   "id": "a7d22a76333c600",
   "outputs": [],
   "execution_count": 7
  },
  {
   "metadata": {
    "ExecuteTime": {
     "end_time": "2025-02-06T18:29:08.211658Z",
     "start_time": "2025-02-06T18:29:08.206604Z"
    }
   },
   "cell_type": "code",
   "source": "print(train_features.shape, valid_features.shape)",
   "id": "7f0b2136d028c08b",
   "outputs": [
    {
     "name": "stdout",
     "output_type": "stream",
     "text": [
      "(37995, 10) (12665, 10)\n"
     ]
    }
   ],
   "execution_count": 8
  },
  {
   "metadata": {
    "ExecuteTime": {
     "end_time": "2025-02-06T18:33:40.951961Z",
     "start_time": "2025-02-06T18:33:40.943976Z"
    }
   },
   "cell_type": "code",
   "source": "df.dtypes",
   "id": "2eecd3602badee00",
   "outputs": [
    {
     "data": {
      "text/plain": [
       "Agency                    object\n",
       "Agency Type               object\n",
       "Distribution Channel      object\n",
       "Product Name              object\n",
       "Claim                      int64\n",
       "Duration                   int64\n",
       "Destination               object\n",
       "Net Sales                float64\n",
       "Commission (in value)    float64\n",
       "Gender                    object\n",
       "Age                        int64\n",
       "dtype: object"
      ]
     },
     "execution_count": 12,
     "metadata": {},
     "output_type": "execute_result"
    }
   ],
   "execution_count": 12
  },
  {
   "metadata": {
    "ExecuteTime": {
     "end_time": "2025-02-06T18:50:46.638915Z",
     "start_time": "2025-02-06T18:50:46.630344Z"
    }
   },
   "cell_type": "code",
   "source": "df['Gender'].head()",
   "id": "9466c35790754df0",
   "outputs": [
    {
     "data": {
      "text/plain": [
       "0      M\n",
       "1    NaN\n",
       "2    NaN\n",
       "3    NaN\n",
       "4      M\n",
       "Name: Gender, dtype: object"
      ]
     },
     "execution_count": 23,
     "metadata": {},
     "output_type": "execute_result"
    }
   ],
   "execution_count": 23
  },
  {
   "metadata": {
    "ExecuteTime": {
     "end_time": "2025-02-06T18:46:46.853223Z",
     "start_time": "2025-02-06T18:46:46.848524Z"
    }
   },
   "cell_type": "code",
   "source": "encoder = OneHotEncoder(handle_unknown='ignore')",
   "id": "d09681e0e0f1f066",
   "outputs": [],
   "execution_count": 18
  },
  {
   "metadata": {
    "ExecuteTime": {
     "end_time": "2025-02-06T18:50:35.828689Z",
     "start_time": "2025-02-06T18:50:35.815579Z"
    }
   },
   "cell_type": "code",
   "source": "print(pd.get_dummies(df['Gender'], drop_first=True).head())",
   "id": "a393f2b6dc8b6237",
   "outputs": [
    {
     "name": "stdout",
     "output_type": "stream",
     "text": [
      "       M\n",
      "0   True\n",
      "1  False\n",
      "2  False\n",
      "3  False\n",
      "4   True\n"
     ]
    }
   ],
   "execution_count": 22
  },
  {
   "metadata": {
    "ExecuteTime": {
     "end_time": "2025-02-06T18:51:46.165254Z",
     "start_time": "2025-02-06T18:51:46.105345Z"
    }
   },
   "cell_type": "code",
   "source": [
    "ohe = pd.get_dummies(df, drop_first=True)\n",
    "ohe.head()"
   ],
   "id": "2f69330d7d0364f4",
   "outputs": [
    {
     "data": {
      "text/plain": [
       "   Claim  Duration  Net Sales  Commission (in value)  Age  Agency_ART  \\\n",
       "0      0        12       45.0                  15.75   39       False   \n",
       "1      0        50       22.0                   0.00   36       False   \n",
       "2      0       251       80.0                   0.00   36       False   \n",
       "3      0         6      -10.0                   0.00   36       False   \n",
       "4      0         5       45.0                  15.75   34       False   \n",
       "\n",
       "   Agency_C2B  Agency_CBH  Agency_CCR  Agency_CSR  ...  \\\n",
       "0       False       False       False       False  ...   \n",
       "1       False       False       False       False  ...   \n",
       "2       False       False       False       False  ...   \n",
       "3       False       False       False       False  ...   \n",
       "4       False       False       False       False  ...   \n",
       "\n",
       "   Destination_UNITED KINGDOM  Destination_UNITED STATES  Destination_URUGUAY  \\\n",
       "0                       False                      False                False   \n",
       "1                       False                      False                False   \n",
       "2                       False                      False                False   \n",
       "3                       False                      False                False   \n",
       "4                       False                      False                False   \n",
       "\n",
       "   Destination_UZBEKISTAN  Destination_VANUATU  Destination_VENEZUELA  \\\n",
       "0                   False                False                  False   \n",
       "1                   False                False                  False   \n",
       "2                   False                False                  False   \n",
       "3                   False                False                  False   \n",
       "4                   False                False                  False   \n",
       "\n",
       "   Destination_VIET NAM  Destination_ZAMBIA  Destination_ZIMBABWE  Gender_M  \n",
       "0                 False               False                 False      True  \n",
       "1                 False               False                 False     False  \n",
       "2                 False               False                 False     False  \n",
       "3                 False               False                 False     False  \n",
       "4                 False               False                 False      True  \n",
       "\n",
       "[5 rows x 188 columns]"
      ],
      "text/html": [
       "<div>\n",
       "<style scoped>\n",
       "    .dataframe tbody tr th:only-of-type {\n",
       "        vertical-align: middle;\n",
       "    }\n",
       "\n",
       "    .dataframe tbody tr th {\n",
       "        vertical-align: top;\n",
       "    }\n",
       "\n",
       "    .dataframe thead th {\n",
       "        text-align: right;\n",
       "    }\n",
       "</style>\n",
       "<table border=\"1\" class=\"dataframe\">\n",
       "  <thead>\n",
       "    <tr style=\"text-align: right;\">\n",
       "      <th></th>\n",
       "      <th>Claim</th>\n",
       "      <th>Duration</th>\n",
       "      <th>Net Sales</th>\n",
       "      <th>Commission (in value)</th>\n",
       "      <th>Age</th>\n",
       "      <th>Agency_ART</th>\n",
       "      <th>Agency_C2B</th>\n",
       "      <th>Agency_CBH</th>\n",
       "      <th>Agency_CCR</th>\n",
       "      <th>Agency_CSR</th>\n",
       "      <th>...</th>\n",
       "      <th>Destination_UNITED KINGDOM</th>\n",
       "      <th>Destination_UNITED STATES</th>\n",
       "      <th>Destination_URUGUAY</th>\n",
       "      <th>Destination_UZBEKISTAN</th>\n",
       "      <th>Destination_VANUATU</th>\n",
       "      <th>Destination_VENEZUELA</th>\n",
       "      <th>Destination_VIET NAM</th>\n",
       "      <th>Destination_ZAMBIA</th>\n",
       "      <th>Destination_ZIMBABWE</th>\n",
       "      <th>Gender_M</th>\n",
       "    </tr>\n",
       "  </thead>\n",
       "  <tbody>\n",
       "    <tr>\n",
       "      <th>0</th>\n",
       "      <td>0</td>\n",
       "      <td>12</td>\n",
       "      <td>45.0</td>\n",
       "      <td>15.75</td>\n",
       "      <td>39</td>\n",
       "      <td>False</td>\n",
       "      <td>False</td>\n",
       "      <td>False</td>\n",
       "      <td>False</td>\n",
       "      <td>False</td>\n",
       "      <td>...</td>\n",
       "      <td>False</td>\n",
       "      <td>False</td>\n",
       "      <td>False</td>\n",
       "      <td>False</td>\n",
       "      <td>False</td>\n",
       "      <td>False</td>\n",
       "      <td>False</td>\n",
       "      <td>False</td>\n",
       "      <td>False</td>\n",
       "      <td>True</td>\n",
       "    </tr>\n",
       "    <tr>\n",
       "      <th>1</th>\n",
       "      <td>0</td>\n",
       "      <td>50</td>\n",
       "      <td>22.0</td>\n",
       "      <td>0.00</td>\n",
       "      <td>36</td>\n",
       "      <td>False</td>\n",
       "      <td>False</td>\n",
       "      <td>False</td>\n",
       "      <td>False</td>\n",
       "      <td>False</td>\n",
       "      <td>...</td>\n",
       "      <td>False</td>\n",
       "      <td>False</td>\n",
       "      <td>False</td>\n",
       "      <td>False</td>\n",
       "      <td>False</td>\n",
       "      <td>False</td>\n",
       "      <td>False</td>\n",
       "      <td>False</td>\n",
       "      <td>False</td>\n",
       "      <td>False</td>\n",
       "    </tr>\n",
       "    <tr>\n",
       "      <th>2</th>\n",
       "      <td>0</td>\n",
       "      <td>251</td>\n",
       "      <td>80.0</td>\n",
       "      <td>0.00</td>\n",
       "      <td>36</td>\n",
       "      <td>False</td>\n",
       "      <td>False</td>\n",
       "      <td>False</td>\n",
       "      <td>False</td>\n",
       "      <td>False</td>\n",
       "      <td>...</td>\n",
       "      <td>False</td>\n",
       "      <td>False</td>\n",
       "      <td>False</td>\n",
       "      <td>False</td>\n",
       "      <td>False</td>\n",
       "      <td>False</td>\n",
       "      <td>False</td>\n",
       "      <td>False</td>\n",
       "      <td>False</td>\n",
       "      <td>False</td>\n",
       "    </tr>\n",
       "    <tr>\n",
       "      <th>3</th>\n",
       "      <td>0</td>\n",
       "      <td>6</td>\n",
       "      <td>-10.0</td>\n",
       "      <td>0.00</td>\n",
       "      <td>36</td>\n",
       "      <td>False</td>\n",
       "      <td>False</td>\n",
       "      <td>False</td>\n",
       "      <td>False</td>\n",
       "      <td>False</td>\n",
       "      <td>...</td>\n",
       "      <td>False</td>\n",
       "      <td>False</td>\n",
       "      <td>False</td>\n",
       "      <td>False</td>\n",
       "      <td>False</td>\n",
       "      <td>False</td>\n",
       "      <td>False</td>\n",
       "      <td>False</td>\n",
       "      <td>False</td>\n",
       "      <td>False</td>\n",
       "    </tr>\n",
       "    <tr>\n",
       "      <th>4</th>\n",
       "      <td>0</td>\n",
       "      <td>5</td>\n",
       "      <td>45.0</td>\n",
       "      <td>15.75</td>\n",
       "      <td>34</td>\n",
       "      <td>False</td>\n",
       "      <td>False</td>\n",
       "      <td>False</td>\n",
       "      <td>False</td>\n",
       "      <td>False</td>\n",
       "      <td>...</td>\n",
       "      <td>False</td>\n",
       "      <td>False</td>\n",
       "      <td>False</td>\n",
       "      <td>False</td>\n",
       "      <td>False</td>\n",
       "      <td>False</td>\n",
       "      <td>False</td>\n",
       "      <td>False</td>\n",
       "      <td>False</td>\n",
       "      <td>True</td>\n",
       "    </tr>\n",
       "  </tbody>\n",
       "</table>\n",
       "<p>5 rows × 188 columns</p>\n",
       "</div>"
      ]
     },
     "execution_count": 24,
     "metadata": {},
     "output_type": "execute_result"
    }
   ],
   "execution_count": 24
  },
  {
   "metadata": {
    "ExecuteTime": {
     "end_time": "2025-02-06T18:53:49.014161Z",
     "start_time": "2025-02-06T18:53:48.978202Z"
    }
   },
   "cell_type": "code",
   "source": "%store ohe",
   "id": "d351b8d24a389cb9",
   "outputs": [
    {
     "name": "stdout",
     "output_type": "stream",
     "text": [
      "Stored 'ohe' (DataFrame)\n"
     ]
    }
   ],
   "execution_count": 25
  }
 ],
 "metadata": {
  "kernelspec": {
   "display_name": "Python 3",
   "language": "python",
   "name": "python3"
  },
  "language_info": {
   "codemirror_mode": {
    "name": "ipython",
    "version": 2
   },
   "file_extension": ".py",
   "mimetype": "text/x-python",
   "name": "python",
   "nbconvert_exporter": "python",
   "pygments_lexer": "ipython2",
   "version": "2.7.6"
  }
 },
 "nbformat": 4,
 "nbformat_minor": 5
}
