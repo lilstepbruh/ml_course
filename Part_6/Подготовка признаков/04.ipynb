{
 "cells": [
  {
   "cell_type": "code",
   "id": "initial_id",
   "metadata": {
    "collapsed": true,
    "ExecuteTime": {
     "end_time": "2025-02-06T18:54:07.138147Z",
     "start_time": "2025-02-06T18:54:06.509385Z"
    }
   },
   "source": [
    "import sklearn\n",
    "%store -r ohe"
   ],
   "outputs": [],
   "execution_count": 1
  },
  {
   "metadata": {
    "ExecuteTime": {
     "end_time": "2025-02-06T19:11:33.225397Z",
     "start_time": "2025-02-06T19:11:33.219621Z"
    }
   },
   "cell_type": "code",
   "source": [
    "import pandas as pd\n",
    "from sklearn.model_selection import train_test_split\n",
    "from sklearn.linear_model import LogisticRegression\n",
    "from sklearn.metrics import confusion_matrix\n",
    "import sklearn"
   ],
   "id": "4ab3aa49b487e069",
   "outputs": [],
   "execution_count": 14
  },
  {
   "metadata": {
    "ExecuteTime": {
     "end_time": "2025-02-06T18:54:50.591572Z",
     "start_time": "2025-02-06T18:54:50.566385Z"
    }
   },
   "cell_type": "code",
   "source": "ohe.head()",
   "id": "3dd40d874e1b8486",
   "outputs": [
    {
     "data": {
      "text/plain": [
       "   Claim  Duration  Net Sales  Commission (in value)  Age  Agency_ART  \\\n",
       "0      0        12       45.0                  15.75   39       False   \n",
       "1      0        50       22.0                   0.00   36       False   \n",
       "2      0       251       80.0                   0.00   36       False   \n",
       "3      0         6      -10.0                   0.00   36       False   \n",
       "4      0         5       45.0                  15.75   34       False   \n",
       "\n",
       "   Agency_C2B  Agency_CBH  Agency_CCR  Agency_CSR  ...  \\\n",
       "0       False       False       False       False  ...   \n",
       "1       False       False       False       False  ...   \n",
       "2       False       False       False       False  ...   \n",
       "3       False       False       False       False  ...   \n",
       "4       False       False       False       False  ...   \n",
       "\n",
       "   Destination_UNITED KINGDOM  Destination_UNITED STATES  Destination_URUGUAY  \\\n",
       "0                       False                      False                False   \n",
       "1                       False                      False                False   \n",
       "2                       False                      False                False   \n",
       "3                       False                      False                False   \n",
       "4                       False                      False                False   \n",
       "\n",
       "   Destination_UZBEKISTAN  Destination_VANUATU  Destination_VENEZUELA  \\\n",
       "0                   False                False                  False   \n",
       "1                   False                False                  False   \n",
       "2                   False                False                  False   \n",
       "3                   False                False                  False   \n",
       "4                   False                False                  False   \n",
       "\n",
       "   Destination_VIET NAM  Destination_ZAMBIA  Destination_ZIMBABWE  Gender_M  \n",
       "0                 False               False                 False      True  \n",
       "1                 False               False                 False     False  \n",
       "2                 False               False                 False     False  \n",
       "3                 False               False                 False     False  \n",
       "4                 False               False                 False      True  \n",
       "\n",
       "[5 rows x 188 columns]"
      ],
      "text/html": [
       "<div>\n",
       "<style scoped>\n",
       "    .dataframe tbody tr th:only-of-type {\n",
       "        vertical-align: middle;\n",
       "    }\n",
       "\n",
       "    .dataframe tbody tr th {\n",
       "        vertical-align: top;\n",
       "    }\n",
       "\n",
       "    .dataframe thead th {\n",
       "        text-align: right;\n",
       "    }\n",
       "</style>\n",
       "<table border=\"1\" class=\"dataframe\">\n",
       "  <thead>\n",
       "    <tr style=\"text-align: right;\">\n",
       "      <th></th>\n",
       "      <th>Claim</th>\n",
       "      <th>Duration</th>\n",
       "      <th>Net Sales</th>\n",
       "      <th>Commission (in value)</th>\n",
       "      <th>Age</th>\n",
       "      <th>Agency_ART</th>\n",
       "      <th>Agency_C2B</th>\n",
       "      <th>Agency_CBH</th>\n",
       "      <th>Agency_CCR</th>\n",
       "      <th>Agency_CSR</th>\n",
       "      <th>...</th>\n",
       "      <th>Destination_UNITED KINGDOM</th>\n",
       "      <th>Destination_UNITED STATES</th>\n",
       "      <th>Destination_URUGUAY</th>\n",
       "      <th>Destination_UZBEKISTAN</th>\n",
       "      <th>Destination_VANUATU</th>\n",
       "      <th>Destination_VENEZUELA</th>\n",
       "      <th>Destination_VIET NAM</th>\n",
       "      <th>Destination_ZAMBIA</th>\n",
       "      <th>Destination_ZIMBABWE</th>\n",
       "      <th>Gender_M</th>\n",
       "    </tr>\n",
       "  </thead>\n",
       "  <tbody>\n",
       "    <tr>\n",
       "      <th>0</th>\n",
       "      <td>0</td>\n",
       "      <td>12</td>\n",
       "      <td>45.0</td>\n",
       "      <td>15.75</td>\n",
       "      <td>39</td>\n",
       "      <td>False</td>\n",
       "      <td>False</td>\n",
       "      <td>False</td>\n",
       "      <td>False</td>\n",
       "      <td>False</td>\n",
       "      <td>...</td>\n",
       "      <td>False</td>\n",
       "      <td>False</td>\n",
       "      <td>False</td>\n",
       "      <td>False</td>\n",
       "      <td>False</td>\n",
       "      <td>False</td>\n",
       "      <td>False</td>\n",
       "      <td>False</td>\n",
       "      <td>False</td>\n",
       "      <td>True</td>\n",
       "    </tr>\n",
       "    <tr>\n",
       "      <th>1</th>\n",
       "      <td>0</td>\n",
       "      <td>50</td>\n",
       "      <td>22.0</td>\n",
       "      <td>0.00</td>\n",
       "      <td>36</td>\n",
       "      <td>False</td>\n",
       "      <td>False</td>\n",
       "      <td>False</td>\n",
       "      <td>False</td>\n",
       "      <td>False</td>\n",
       "      <td>...</td>\n",
       "      <td>False</td>\n",
       "      <td>False</td>\n",
       "      <td>False</td>\n",
       "      <td>False</td>\n",
       "      <td>False</td>\n",
       "      <td>False</td>\n",
       "      <td>False</td>\n",
       "      <td>False</td>\n",
       "      <td>False</td>\n",
       "      <td>False</td>\n",
       "    </tr>\n",
       "    <tr>\n",
       "      <th>2</th>\n",
       "      <td>0</td>\n",
       "      <td>251</td>\n",
       "      <td>80.0</td>\n",
       "      <td>0.00</td>\n",
       "      <td>36</td>\n",
       "      <td>False</td>\n",
       "      <td>False</td>\n",
       "      <td>False</td>\n",
       "      <td>False</td>\n",
       "      <td>False</td>\n",
       "      <td>...</td>\n",
       "      <td>False</td>\n",
       "      <td>False</td>\n",
       "      <td>False</td>\n",
       "      <td>False</td>\n",
       "      <td>False</td>\n",
       "      <td>False</td>\n",
       "      <td>False</td>\n",
       "      <td>False</td>\n",
       "      <td>False</td>\n",
       "      <td>False</td>\n",
       "    </tr>\n",
       "    <tr>\n",
       "      <th>3</th>\n",
       "      <td>0</td>\n",
       "      <td>6</td>\n",
       "      <td>-10.0</td>\n",
       "      <td>0.00</td>\n",
       "      <td>36</td>\n",
       "      <td>False</td>\n",
       "      <td>False</td>\n",
       "      <td>False</td>\n",
       "      <td>False</td>\n",
       "      <td>False</td>\n",
       "      <td>...</td>\n",
       "      <td>False</td>\n",
       "      <td>False</td>\n",
       "      <td>False</td>\n",
       "      <td>False</td>\n",
       "      <td>False</td>\n",
       "      <td>False</td>\n",
       "      <td>False</td>\n",
       "      <td>False</td>\n",
       "      <td>False</td>\n",
       "      <td>False</td>\n",
       "    </tr>\n",
       "    <tr>\n",
       "      <th>4</th>\n",
       "      <td>0</td>\n",
       "      <td>5</td>\n",
       "      <td>45.0</td>\n",
       "      <td>15.75</td>\n",
       "      <td>34</td>\n",
       "      <td>False</td>\n",
       "      <td>False</td>\n",
       "      <td>False</td>\n",
       "      <td>False</td>\n",
       "      <td>False</td>\n",
       "      <td>...</td>\n",
       "      <td>False</td>\n",
       "      <td>False</td>\n",
       "      <td>False</td>\n",
       "      <td>False</td>\n",
       "      <td>False</td>\n",
       "      <td>False</td>\n",
       "      <td>False</td>\n",
       "      <td>False</td>\n",
       "      <td>False</td>\n",
       "      <td>True</td>\n",
       "    </tr>\n",
       "  </tbody>\n",
       "</table>\n",
       "<p>5 rows × 188 columns</p>\n",
       "</div>"
      ]
     },
     "execution_count": 3,
     "metadata": {},
     "output_type": "execute_result"
    }
   ],
   "execution_count": 3
  },
  {
   "metadata": {
    "ExecuteTime": {
     "end_time": "2025-02-06T18:55:05.163227Z",
     "start_time": "2025-02-06T18:55:05.153749Z"
    }
   },
   "cell_type": "code",
   "source": "ohe.dtypes",
   "id": "6e3630c9d05225b6",
   "outputs": [
    {
     "data": {
      "text/plain": [
       "Claim                      int64\n",
       "Duration                   int64\n",
       "Net Sales                float64\n",
       "Commission (in value)    float64\n",
       "Age                        int64\n",
       "                          ...   \n",
       "Destination_VENEZUELA       bool\n",
       "Destination_VIET NAM        bool\n",
       "Destination_ZAMBIA          bool\n",
       "Destination_ZIMBABWE        bool\n",
       "Gender_M                    bool\n",
       "Length: 188, dtype: object"
      ]
     },
     "execution_count": 4,
     "metadata": {},
     "output_type": "execute_result"
    }
   ],
   "execution_count": 4
  },
  {
   "metadata": {
    "ExecuteTime": {
     "end_time": "2025-02-06T19:07:43.531414Z",
     "start_time": "2025-02-06T19:07:43.516561Z"
    }
   },
   "cell_type": "code",
   "source": [
    "features = ohe.drop('Claim', axis=1)\n",
    "target = ohe['Claim']"
   ],
   "id": "b8f733f2b27a0faf",
   "outputs": [],
   "execution_count": 5
  },
  {
   "metadata": {
    "ExecuteTime": {
     "end_time": "2025-02-06T19:07:55.169615Z",
     "start_time": "2025-02-06T19:07:55.139973Z"
    }
   },
   "cell_type": "code",
   "source": "train_features, valid_features, train_targets, valid_targets = train_test_split(features, target, test_size=0.25, random_state=12345)",
   "id": "a1b98cde661f816f",
   "outputs": [],
   "execution_count": 6
  },
  {
   "metadata": {
    "ExecuteTime": {
     "end_time": "2025-02-06T19:08:46.439180Z",
     "start_time": "2025-02-06T19:08:46.433569Z"
    }
   },
   "cell_type": "code",
   "source": "model = LogisticRegression(solver='liblinear')",
   "id": "3c3e34a9864aeaad",
   "outputs": [],
   "execution_count": 7
  },
  {
   "metadata": {
    "ExecuteTime": {
     "end_time": "2025-02-06T19:11:51.910398Z",
     "start_time": "2025-02-06T19:11:51.518301Z"
    }
   },
   "cell_type": "code",
   "source": [
    "model.fit(train_features, train_targets)\n",
    "predictions = model.predict(valid_features)\n",
    "cm = confusion_matrix(valid_targets, predictions)"
   ],
   "id": "68e2481e7bde7bd1",
   "outputs": [],
   "execution_count": 17
  },
  {
   "metadata": {
    "ExecuteTime": {
     "end_time": "2025-02-06T19:12:02.435955Z",
     "start_time": "2025-02-06T19:12:02.413155Z"
    }
   },
   "cell_type": "code",
   "source": "print(sklearn.metrics.classification_report(valid_targets, predictions))",
   "id": "56f2f454f421b453",
   "outputs": [
    {
     "name": "stdout",
     "output_type": "stream",
     "text": [
      "              precision    recall  f1-score   support\n",
      "\n",
      "           0       0.99      1.00      0.99     12496\n",
      "           1       0.00      0.00      0.00       169\n",
      "\n",
      "    accuracy                           0.99     12665\n",
      "   macro avg       0.49      0.50      0.50     12665\n",
      "weighted avg       0.97      0.99      0.98     12665\n",
      "\n"
     ]
    },
    {
     "name": "stderr",
     "output_type": "stream",
     "text": [
      "C:\\Users\\andre\\anaconda3\\Lib\\site-packages\\sklearn\\metrics\\_classification.py:1509: UndefinedMetricWarning: Precision is ill-defined and being set to 0.0 in labels with no predicted samples. Use `zero_division` parameter to control this behavior.\n",
      "  _warn_prf(average, modifier, f\"{metric.capitalize()} is\", len(result))\n",
      "C:\\Users\\andre\\anaconda3\\Lib\\site-packages\\sklearn\\metrics\\_classification.py:1509: UndefinedMetricWarning: Precision is ill-defined and being set to 0.0 in labels with no predicted samples. Use `zero_division` parameter to control this behavior.\n",
      "  _warn_prf(average, modifier, f\"{metric.capitalize()} is\", len(result))\n",
      "C:\\Users\\andre\\anaconda3\\Lib\\site-packages\\sklearn\\metrics\\_classification.py:1509: UndefinedMetricWarning: Precision is ill-defined and being set to 0.0 in labels with no predicted samples. Use `zero_division` parameter to control this behavior.\n",
      "  _warn_prf(average, modifier, f\"{metric.capitalize()} is\", len(result))\n"
     ]
    }
   ],
   "execution_count": 19
  },
  {
   "metadata": {
    "ExecuteTime": {
     "end_time": "2025-02-06T19:10:42.076604Z",
     "start_time": "2025-02-06T19:10:42.069058Z"
    }
   },
   "cell_type": "code",
   "source": "cm",
   "id": "4ac7cfd1422b80be",
   "outputs": [
    {
     "data": {
      "text/plain": [
       "array([[12496,     0],\n",
       "       [  169,     0]], dtype=int64)"
      ]
     },
     "execution_count": 12,
     "metadata": {},
     "output_type": "execute_result"
    }
   ],
   "execution_count": 12
  },
  {
   "metadata": {},
   "cell_type": "code",
   "outputs": [],
   "execution_count": null,
   "source": "",
   "id": "6ee623df23b51cae"
  }
 ],
 "metadata": {
  "kernelspec": {
   "display_name": "Python 3",
   "language": "python",
   "name": "python3"
  },
  "language_info": {
   "codemirror_mode": {
    "name": "ipython",
    "version": 2
   },
   "file_extension": ".py",
   "mimetype": "text/x-python",
   "name": "python",
   "nbconvert_exporter": "python",
   "pygments_lexer": "ipython2",
   "version": "2.7.6"
  }
 },
 "nbformat": 4,
 "nbformat_minor": 5
}
