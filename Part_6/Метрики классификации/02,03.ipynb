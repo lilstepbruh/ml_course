{
 "cells": [
  {
   "cell_type": "code",
   "id": "initial_id",
   "metadata": {
    "collapsed": true,
    "ExecuteTime": {
     "end_time": "2025-02-07T11:18:09.074814Z",
     "start_time": "2025-02-07T11:18:09.069242Z"
    }
   },
   "source": [
    "import pandas as pd\n",
    "from sklearn.model_selection import train_test_split\n",
    "from sklearn.metrics import accuracy_score\n",
    "from sklearn.tree import DecisionTreeClassifier\n",
    "from sklearn.metrics import classification_report\n",
    "from sklearn.metrics import recall_score\n",
    "from sklearn.metrics import precision_score"
   ],
   "outputs": [],
   "execution_count": 34
  },
  {
   "metadata": {
    "ExecuteTime": {
     "end_time": "2025-02-07T05:38:53.268861Z",
     "start_time": "2025-02-07T05:38:52.777230Z"
    }
   },
   "cell_type": "code",
   "source": "df = pd.read_csv(r\"C:\\Users\\andre\\Рабочий стол\\Практикум\\Специалист по Data Science Плюс. Часть 6\\Часть 6\\03 Метрики классификации\\travel_insurance_preprocessed.csv\")",
   "id": "734dbb32e18fb8be",
   "outputs": [],
   "execution_count": 7
  },
  {
   "metadata": {
    "ExecuteTime": {
     "end_time": "2025-02-07T05:38:53.323444Z",
     "start_time": "2025-02-07T05:38:53.276873Z"
    }
   },
   "cell_type": "code",
   "source": [
    "target = df['Claim']\n",
    "features = df.drop('Claim', axis=1)"
   ],
   "id": "2a0c255a1319b04a",
   "outputs": [],
   "execution_count": 8
  },
  {
   "metadata": {
    "ExecuteTime": {
     "end_time": "2025-02-07T05:38:53.470921Z",
     "start_time": "2025-02-07T05:38:53.361634Z"
    }
   },
   "cell_type": "code",
   "source": "features_train, features_valid, target_train, target_valid = train_test_split(features, target, test_size=0.25, random_state=12345)",
   "id": "3cae3f6c424895bb",
   "outputs": [],
   "execution_count": 9
  },
  {
   "metadata": {
    "ExecuteTime": {
     "end_time": "2025-02-07T11:15:43.548695Z",
     "start_time": "2025-02-07T11:15:42.840515Z"
    }
   },
   "cell_type": "code",
   "source": [
    "model = DecisionTreeClassifier(random_state=12345)\n",
    "model.fit(features_train, target_train)\n",
    "predictions = model.predict(features_valid)\n",
    "accuracy = accuracy_score(target_valid, predictions)\n",
    "report = classification_report(target_valid, predictions)\n",
    "print(accuracy)\n",
    "print(report)"
   ],
   "id": "b1103a65b29e7096",
   "outputs": [
    {
     "name": "stdout",
     "output_type": "stream",
     "text": [
      "0.974496644295302\n",
      "              precision    recall  f1-score   support\n",
      "\n",
      "           0       0.99      0.99      0.99     12496\n",
      "           1       0.07      0.07      0.07       169\n",
      "\n",
      "    accuracy                           0.97     12665\n",
      "   macro avg       0.53      0.53      0.53     12665\n",
      "weighted avg       0.98      0.97      0.97     12665\n",
      "\n"
     ]
    }
   ],
   "execution_count": 31
  },
  {
   "metadata": {
    "ExecuteTime": {
     "end_time": "2025-02-07T11:16:58.379922Z",
     "start_time": "2025-02-07T11:16:58.366767Z"
    }
   },
   "cell_type": "code",
   "source": "recall_score(target_valid, predictions)",
   "id": "9abd6f6305efed6c",
   "outputs": [
    {
     "data": {
      "text/plain": [
       "0.07100591715976332"
      ]
     },
     "execution_count": 33,
     "metadata": {},
     "output_type": "execute_result"
    }
   ],
   "execution_count": 33
  },
  {
   "metadata": {
    "ExecuteTime": {
     "end_time": "2025-02-07T11:18:28.664521Z",
     "start_time": "2025-02-07T11:18:28.652388Z"
    }
   },
   "cell_type": "code",
   "source": "precision_score(target_valid, predictions)",
   "id": "11ce25d71e69436c",
   "outputs": [
    {
     "data": {
      "text/plain": [
       "0.06741573033707865"
      ]
     },
     "execution_count": 35,
     "metadata": {},
     "output_type": "execute_result"
    }
   ],
   "execution_count": 35
  },
  {
   "metadata": {
    "ExecuteTime": {
     "end_time": "2025-02-07T05:49:25.905216Z",
     "start_time": "2025-02-07T05:49:25.779390Z"
    }
   },
   "cell_type": "code",
   "source": [
    "class_frequency = df['Claim'].value_counts(normalize=True)\n",
    "print(class_frequency)\n",
    "class_frequency.plot(kind='bar')"
   ],
   "id": "6537613d4ff1ebda",
   "outputs": [
    {
     "name": "stdout",
     "output_type": "stream",
     "text": [
      "Claim\n",
      "0    0.985136\n",
      "1    0.014864\n",
      "Name: proportion, dtype: float64\n"
     ]
    },
    {
     "data": {
      "text/plain": [
       "<Axes: xlabel='Claim'>"
      ]
     },
     "execution_count": 22,
     "metadata": {},
     "output_type": "execute_result"
    },
    {
     "data": {
      "text/plain": [
       "<Figure size 640x480 with 1 Axes>"
      ],
      "image/png": "[encoded data removed]"
     },
     "metadata": {},
     "output_type": "display_data"
    }
   ],
   "execution_count": 22
  },
  {
   "metadata": {
    "ExecuteTime": {
     "end_time": "2025-02-07T05:49:40.108502Z",
     "start_time": "2025-02-07T05:49:39.982272Z"
    }
   },
   "cell_type": "code",
   "source": [
    "class_frequency = pd.DataFrame(predictions).value_counts(normalize=True)\n",
    "print(class_frequency)\n",
    "class_frequency.plot(kind='bar')"
   ],
   "id": "a69081946ce42530",
   "outputs": [
    {
     "name": "stdout",
     "output_type": "stream",
     "text": [
      "0\n",
      "0    0.985946\n",
      "1    0.014054\n",
      "Name: proportion, dtype: float64\n"
     ]
    },
    {
     "data": {
      "text/plain": [
       "<Axes: xlabel='0'>"
      ]
     },
     "execution_count": 23,
     "metadata": {},
     "output_type": "execute_result"
    },
    {
     "data": {
      "text/plain": [
       "<Figure size 640x480 with 1 Axes>"
      ],
      "image/png": "[encoded data removed]"
     },
     "metadata": {},
     "output_type": "display_data"
    }
   ],
   "execution_count": 23
  },
  {
   "metadata": {
    "ExecuteTime": {
     "end_time": "2025-02-07T05:52:05.809208Z",
     "start_time": "2025-02-07T05:52:05.786099Z"
    }
   },
   "cell_type": "code",
   "source": [
    "target_pred_constant = pd.Series([0]*len(target))\n",
    "print(accuracy_score(target, target_pred_constant))\n"
   ],
   "id": "6095c954a474cc31",
   "outputs": [
    {
     "name": "stdout",
     "output_type": "stream",
     "text": [
      "0.9851362021318595\n"
     ]
    }
   ],
   "execution_count": 25
  }
 ],
 "metadata": {
  "kernelspec": {
   "display_name": "Python 3",
   "language": "python",
   "name": "python3"
  },
  "language_info": {
   "codemirror_mode": {
    "name": "ipython",
    "version": 2
   },
   "file_extension": ".py",
   "mimetype": "text/x-python",
   "name": "python",
   "nbconvert_exporter": "python",
   "pygments_lexer": "ipython2",
   "version": "2.7.6"
  }
 },
 "nbformat": 4,
 "nbformat_minor": 5
}
