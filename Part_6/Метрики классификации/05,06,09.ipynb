{
 "cells": [
  {
   "cell_type": "code",
   "id": "initial_id",
   "metadata": {
    "collapsed": true,
    "ExecuteTime": {
     "end_time": "2025-02-07T06:06:53.131957Z",
     "start_time": "2025-02-07T06:06:51.922085Z"
    }
   },
   "source": [
    "import pandas as pd\n",
    "from sklearn.metrics import confusion_matrix"
   ],
   "outputs": [],
   "execution_count": 5
  },
  {
   "metadata": {
    "ExecuteTime": {
     "end_time": "2025-02-07T06:02:41.018570Z",
     "start_time": "2025-02-07T06:02:41.011919Z"
    }
   },
   "cell_type": "code",
   "source": [
    "target = pd.Series([1, 0, 0, 1, 1, 0, 1, 0, 1, 1, 0, 0, 0, 1])\n",
    "predictions = pd.Series([1, 1, 0, 0, 1, 1, 1, 0, 0, 1, 0, 1, 0, 1])"
   ],
   "id": "c3b11975bcfe1e57",
   "outputs": [],
   "execution_count": 2
  },
  {
   "metadata": {
    "ExecuteTime": {
     "end_time": "2025-02-07T06:03:01.709892Z",
     "start_time": "2025-02-07T06:03:01.699745Z"
    }
   },
   "cell_type": "code",
   "source": "((target == 1) & (predictions == 1)).sum()",
   "id": "f63fbde1f0c6b36f",
   "outputs": [
    {
     "data": {
      "text/plain": [
       "5"
      ]
     },
     "execution_count": 3,
     "metadata": {},
     "output_type": "execute_result"
    }
   ],
   "execution_count": 3
  },
  {
   "metadata": {
    "ExecuteTime": {
     "end_time": "2025-02-07T06:03:10.716713Z",
     "start_time": "2025-02-07T06:03:10.708031Z"
    }
   },
   "cell_type": "code",
   "source": "((target != 1) & (predictions != 1)).sum()",
   "id": "d4db815e5bb992bb",
   "outputs": [
    {
     "data": {
      "text/plain": [
       "4"
      ]
     },
     "execution_count": 4,
     "metadata": {},
     "output_type": "execute_result"
    }
   ],
   "execution_count": 4
  },
  {
   "metadata": {
    "ExecuteTime": {
     "end_time": "2025-02-07T06:07:00.959022Z",
     "start_time": "2025-02-07T06:07:00.947981Z"
    }
   },
   "cell_type": "code",
   "source": "confusion_matrix(target, predictions)",
   "id": "776f6cabd78663e8",
   "outputs": [
    {
     "data": {
      "text/plain": [
       "array([[4, 3],\n",
       "       [2, 5]], dtype=int64)"
      ]
     },
     "execution_count": 6,
     "metadata": {},
     "output_type": "execute_result"
    }
   ],
   "execution_count": 6
  }
 ],
 "metadata": {
  "kernelspec": {
   "display_name": "Python 3",
   "language": "python",
   "name": "python3"
  },
  "language_info": {
   "codemirror_mode": {
    "name": "ipython",
    "version": 2
   },
   "file_extension": ".py",
   "mimetype": "text/x-python",
   "name": "python",
   "nbconvert_exporter": "python",
   "pygments_lexer": "ipython2",
   "version": "2.7.6"
  }
 },
 "nbformat": 4,
 "nbformat_minor": 5
}
