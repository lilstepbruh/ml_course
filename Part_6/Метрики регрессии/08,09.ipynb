{
 "cells": [
  {
   "cell_type": "code",
   "id": "initial_id",
   "metadata": {
    "collapsed": true,
    "ExecuteTime": {
     "end_time": "2025-02-10T19:24:30.797210Z",
     "start_time": "2025-02-10T19:24:29.846617Z"
    }
   },
   "source": [
    "import pandas as pd\n",
    "from sklearn.model_selection import train_test_split\n",
    "from sklearn.linear_model import LinearRegression\n",
    "from sklearn.metrics import mean_absolute_error\n",
    "from sklearn.ensemble import RandomForestRegressor\n"
   ],
   "outputs": [],
   "execution_count": 6
  },
  {
   "metadata": {
    "ExecuteTime": {
     "end_time": "2025-02-10T19:21:01.187584Z",
     "start_time": "2025-02-10T19:21:00.935840Z"
    }
   },
   "cell_type": "code",
   "source": [
    "data = pd.read_csv(r\"C:\\Users\\andre\\Рабочий стол\\Практикум\\Специалист по Data Science Плюс. Часть 6\\Часть 6\\05 Метрики регрессии\\flights_preprocessed.csv\")\n",
    "\n",
    "target = data['Arrival Delay']\n",
    "features = data.drop(['Arrival Delay'] , axis=1)\n",
    "features_train, features_valid, target_train, target_valid = train_test_split(\n",
    "    features, target, test_size=0.25, random_state=12345)"
   ],
   "id": "8da4b7443eb45ab4",
   "outputs": [],
   "execution_count": 2
  },
  {
   "metadata": {
    "ExecuteTime": {
     "end_time": "2025-02-10T19:21:02.187418Z",
     "start_time": "2025-02-10T19:21:01.782998Z"
    }
   },
   "cell_type": "code",
   "source": [
    "model = LinearRegression()\n",
    "model.fit(features_train, target_train)\n",
    "predicted_valid = model.predict(features_valid)"
   ],
   "id": "94d8fae4d5ca929a",
   "outputs": [],
   "execution_count": 3
  },
  {
   "metadata": {
    "ExecuteTime": {
     "end_time": "2025-02-10T19:21:02.743696Z",
     "start_time": "2025-02-10T19:21:02.736416Z"
    }
   },
   "cell_type": "code",
   "source": [
    "print(\"Linear Regression\")\n",
    "print(mean_absolute_error(target_valid, predicted_valid))\n",
    "print()"
   ],
   "id": "97315e080d11bc36",
   "outputs": [
    {
     "name": "stdout",
     "output_type": "stream",
     "text": [
      "Linear Regression\n",
      "27.436250978085845\n",
      "\n"
     ]
    }
   ],
   "execution_count": 4
  },
  {
   "metadata": {
    "ExecuteTime": {
     "end_time": "2025-02-10T19:22:12.185633Z",
     "start_time": "2025-02-10T19:22:12.176410Z"
    }
   },
   "cell_type": "code",
   "source": [
    "predicted_valid = pd.Series(target_train.median(), index=target_valid.index)\n",
    "print(\"Median\")\n",
    "print(mean_absolute_error(target_valid, predicted_valid))"
   ],
   "id": "ab60a18dbd1bd15a",
   "outputs": [
    {
     "name": "stdout",
     "output_type": "stream",
     "text": [
      "Median\n",
      "27.22281548413595\n"
     ]
    }
   ],
   "execution_count": 5
  },
  {
   "metadata": {
    "ExecuteTime": {
     "end_time": "2025-02-10T19:28:22.597485Z",
     "start_time": "2025-02-10T19:26:06.430136Z"
    }
   },
   "cell_type": "code",
   "source": [
    "for depth in range(1, 16, 1):\n",
    "    decision_tree = RandomForestRegressor(random_state=12345, max_depth=depth)\n",
    "    decision_tree.fit(features_train, target_train)\n",
    "    predicted_valid = decision_tree.predict(features_valid)\n",
    "    print(\"Decision Tree\")\n",
    "    print(mean_absolute_error(target_valid, predicted_valid))"
   ],
   "id": "2d5a1a04ced3ae11",
   "outputs": [
    {
     "name": "stdout",
     "output_type": "stream",
     "text": [
      "Decision Tree\n",
      "29.0925280655811\n",
      "Decision Tree\n",
      "28.212997458841045\n",
      "Decision Tree\n",
      "27.660401601758082\n",
      "Decision Tree\n",
      "27.279006967175707\n",
      "Decision Tree\n",
      "26.8603397993518\n",
      "Decision Tree\n",
      "26.47717918578531\n",
      "Decision Tree\n",
      "26.159906823464063\n",
      "Decision Tree\n",
      "25.89652957373701\n",
      "Decision Tree\n",
      "25.70440892833576\n",
      "Decision Tree\n",
      "25.58861820505304\n",
      "Decision Tree\n",
      "25.516761092737028\n",
      "Decision Tree\n",
      "25.47745895064548\n",
      "Decision Tree\n",
      "25.511447798587024\n",
      "Decision Tree\n",
      "25.541311707772184\n",
      "Decision Tree\n",
      "25.59278159728628\n"
     ]
    }
   ],
   "execution_count": 8
  },
  {
   "metadata": {
    "ExecuteTime": {
     "end_time": "2025-02-10T19:39:18.088478Z",
     "start_time": "2025-02-10T19:36:21.899792Z"
    }
   },
   "cell_type": "code",
   "source": [
    "for n_estimators in range(140, 201  , 10):\n",
    "    model = RandomForestRegressor(random_state=12345, n_estimators=n_estimators, max_depth=12)\n",
    "    model.fit(features_train, target_train)\n",
    "    predicted_valid = model.predict(features_valid)\n",
    "    print(\"Random Forest. n_estimators: {}\".format(n_estimators), mean_absolute_error(target_valid, predicted_valid))"
   ],
   "id": "e30b1ed969e1a008",
   "outputs": [
    {
     "name": "stdout",
     "output_type": "stream",
     "text": [
      "Random Forest. n_estimators: 140 25.457532553108123\n",
      "Random Forest. n_estimators: 150 25.45667748750142\n",
      "Random Forest. n_estimators: 160 25.45758803657772\n",
      "Random Forest. n_estimators: 170 25.459692691557777\n",
      "Random Forest. n_estimators: 180 25.46011075217271\n",
      "Random Forest. n_estimators: 190 25.46145034404382\n",
      "Random Forest. n_estimators: 200 25.460128043594516\n"
     ]
    }
   ],
   "execution_count": 12
  },
  {
   "metadata": {
    "ExecuteTime": {
     "end_time": "2025-02-10T19:43:35.432961Z",
     "start_time": "2025-02-10T19:43:15.911300Z"
    }
   },
   "cell_type": "code",
   "source": [
    "model = RandomForestRegressor(random_state=12345, n_estimators=150, max_depth=12)\n",
    "model.fit(features_train, target_train)\n",
    "predicted_valid = model.predict(features_valid)\n",
    "print(mean_absolute_error(target_valid, predicted_valid))"
   ],
   "id": "225fdbeeae9b3092",
   "outputs": [
    {
     "name": "stdout",
     "output_type": "stream",
     "text": [
      "25.45667748750142\n"
     ]
    }
   ],
   "execution_count": 14
  }
 ],
 "metadata": {
  "kernelspec": {
   "display_name": "Python 3",
   "language": "python",
   "name": "python3"
  },
  "language_info": {
   "codemirror_mode": {
    "name": "ipython",
    "version": 2
   },
   "file_extension": ".py",
   "mimetype": "text/x-python",
   "name": "python",
   "nbconvert_exporter": "python",
   "pygments_lexer": "ipython2",
   "version": "2.7.6"
  }
 },
 "nbformat": 4,
 "nbformat_minor": 5
}
