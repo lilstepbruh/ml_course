{
 "cells": [
  {
   "cell_type": "code",
   "id": "initial_id",
   "metadata": {
    "collapsed": true,
    "ExecuteTime": {
     "end_time": "2025-02-09T19:26:54.062513Z",
     "start_time": "2025-02-09T19:26:54.057195Z"
    }
   },
   "source": [
    "import pandas as pd\n",
    "from sklearn.model_selection import train_test_split\n",
    "from sklearn.linear_model import LinearRegression\n",
    "from sklearn.metrics import mean_squared_error\n",
    "from sklearn.metrics import r2_score"
   ],
   "outputs": [],
   "execution_count": 12
  },
  {
   "metadata": {
    "ExecuteTime": {
     "end_time": "2025-02-09T19:16:04.709774Z",
     "start_time": "2025-02-09T19:16:04.506681Z"
    }
   },
   "cell_type": "code",
   "source": "data = pd.read_csv(r\"C:\\Users\\andre\\Рабочий стол\\Практикум\\Специалист по Data Science Плюс. Часть 6\\Часть 6\\05 Метрики регрессии\\flights_preprocessed.csv\")",
   "id": "f1b7ca6e5244d26",
   "outputs": [],
   "execution_count": 5
  },
  {
   "metadata": {
    "ExecuteTime": {
     "end_time": "2025-02-09T19:16:06.130978Z",
     "start_time": "2025-02-09T19:16:06.098903Z"
    }
   },
   "cell_type": "code",
   "source": [
    "target = data['Arrival Delay']\n",
    "features = data.drop(['Arrival Delay'] , axis=1)\n",
    "features_train, features_valid, target_train, target_valid = train_test_split(features, target, test_size=0.25, random_state=12345)"
   ],
   "id": "6b3c3a15c4a2e95f",
   "outputs": [],
   "execution_count": 6
  },
  {
   "metadata": {
    "ExecuteTime": {
     "end_time": "2025-02-09T19:17:54.026142Z",
     "start_time": "2025-02-09T19:17:53.963989Z"
    }
   },
   "cell_type": "code",
   "source": [
    "model = LinearRegression()\n",
    "model.fit(features_train, target_train)\n",
    "predictions = model.predict(features_valid)\n",
    "mse = mean_squared_error(target_valid, predictions)\n",
    "print(mse)\n",
    "print(mse**0.5)"
   ],
   "id": "8f9c359f0b72a191",
   "outputs": [
    {
     "name": "stdout",
     "output_type": "stream",
     "text": [
      "2129.82405285553\n",
      "46.15001682400051\n"
     ]
    }
   ],
   "execution_count": 11
  },
  {
   "metadata": {
    "ExecuteTime": {
     "end_time": "2025-02-09T19:17:49.219396Z",
     "start_time": "2025-02-09T19:17:49.211164Z"
    }
   },
   "cell_type": "code",
   "source": [
    "predicted_valid = pd.Series(target_train.mean(), index=target_valid.index)\n",
    "mse = mean_squared_error(target_valid, predicted_valid)\n",
    "print(mse)\n",
    "print(mse**0.5)"
   ],
   "id": "ae9fe7a50c51d5c5",
   "outputs": [
    {
     "name": "stdout",
     "output_type": "stream",
     "text": [
      "2358.8874869200226\n",
      "48.568379496540985\n"
     ]
    }
   ],
   "execution_count": 10
  },
  {
   "metadata": {
    "ExecuteTime": {
     "end_time": "2025-02-09T19:27:04.407020Z",
     "start_time": "2025-02-09T19:27:04.398830Z"
    }
   },
   "cell_type": "code",
   "source": "print(r2_score(target_valid, predictions))",
   "id": "f4c6d335b4b14602",
   "outputs": [
    {
     "name": "stdout",
     "output_type": "stream",
     "text": [
      "0.09710497146204955\n"
     ]
    }
   ],
   "execution_count": 13
  }
 ],
 "metadata": {
  "kernelspec": {
   "display_name": "Python 3",
   "language": "python",
   "name": "python3"
  },
  "language_info": {
   "codemirror_mode": {
    "name": "ipython",
    "version": 2
   },
   "file_extension": ".py",
   "mimetype": "text/x-python",
   "name": "python",
   "nbconvert_exporter": "python",
   "pygments_lexer": "ipython2",
   "version": "2.7.6"
  }
 },
 "nbformat": 4,
 "nbformat_minor": 5
}
