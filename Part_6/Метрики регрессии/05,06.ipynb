{
 "cells": [
  {
   "cell_type": "code",
   "id": "initial_id",
   "metadata": {
    "collapsed": true,
    "ExecuteTime": {
     "end_time": "2025-02-09T20:09:13.410743Z",
     "start_time": "2025-02-09T20:09:09.241319Z"
    }
   },
   "source": [
    "import pandas as pd\n",
    "from sklearn.model_selection import train_test_split\n",
    "from sklearn.linear_model import LinearRegression\n",
    "from sklearn.tree import DecisionTreeRegressor\n",
    "from sklearn.ensemble import RandomForestRegressor\n"
   ],
   "outputs": [],
   "execution_count": 1
  },
  {
   "metadata": {
    "ExecuteTime": {
     "end_time": "2025-02-09T20:09:45.253772Z",
     "start_time": "2025-02-09T20:09:45.025626Z"
    }
   },
   "cell_type": "code",
   "source": [
    "data = pd.read_csv(r\"C:\\Users\\andre\\Рабочий стол\\Практикум\\Специалист по Data Science Плюс. Часть 6\\Часть 6\\05 Метрики регрессии\\flights_preprocessed.csv\")\n",
    "\n",
    "target = data['Arrival Delay']\n",
    "features = data.drop(['Arrival Delay'] , axis=1)\n",
    "features_train, features_valid, target_train, target_valid = train_test_split(\n",
    "    features, target, test_size=0.25, random_state=12345)"
   ],
   "id": "6166f8aa06d3c063",
   "outputs": [],
   "execution_count": 3
  },
  {
   "metadata": {
    "ExecuteTime": {
     "end_time": "2025-02-09T20:10:30.018983Z",
     "start_time": "2025-02-09T20:10:29.919775Z"
    }
   },
   "cell_type": "code",
   "source": [
    "linear_regressor = LinearRegression()\n",
    "linear_regressor.fit(features_train, target_train)\n",
    "print(linear_regressor.score(features_valid, target_valid))"
   ],
   "id": "271d8eb27243211a",
   "outputs": [
    {
     "name": "stdout",
     "output_type": "stream",
     "text": [
      "0.09710497146204955\n"
     ]
    }
   ],
   "execution_count": 4
  },
  {
   "metadata": {
    "ExecuteTime": {
     "end_time": "2025-02-09T20:15:45.028701Z",
     "start_time": "2025-02-09T20:14:56.708005Z"
    }
   },
   "cell_type": "code",
   "source": [
    "for depth in range(1,20,1):\n",
    "    best_depth = 0\n",
    "    best_score = 0\n",
    "    random_forest_regressor = RandomForestRegressor(random_state=12345, max_depth=depth, n_estimators=20)\n",
    "    random_forest_regressor.fit(features_train, target_train)\n",
    "    score = random_forest_regressor.score(features_valid, target_valid)\n",
    "    if score > best_score:\n",
    "        best_score = score\n",
    "        best_depth = depth\n",
    "    print(best_depth,'|', best_score)"
   ],
   "id": "19a71955b421e3bb",
   "outputs": [
    {
     "name": "stdout",
     "output_type": "stream",
     "text": [
      "1 | 0.037285907526148354\n",
      "2 | 0.06819642209621124\n",
      "3 | 0.08784043439422196\n",
      "4 | 0.10410539417320941\n",
      "5 | 0.1170148926305088\n",
      "6 | 0.12812270304109197\n",
      "7 | 0.14023988572891255\n",
      "8 | 0.1509905046331984\n",
      "9 | 0.1561784744742989\n",
      "10 | 0.15937461353477067\n",
      "11 | 0.16165140416942136\n",
      "12 | 0.16050981198241898\n",
      "13 | 0.15524848318843387\n",
      "14 | 0.14612375630805674\n",
      "15 | 0.1419794076464067\n",
      "16 | 0.13718695302885975\n",
      "17 | 0.13233863623582987\n",
      "18 | 0.12489273693852321\n",
      "19 | 0.11827964642763755\n"
     ]
    }
   ],
   "execution_count": 6
  },
  {
   "metadata": {
    "ExecuteTime": {
     "end_time": "2025-02-09T20:24:36.261023Z",
     "start_time": "2025-02-09T20:23:58.529982Z"
    }
   },
   "cell_type": "code",
   "source": [
    "for n_estimators in range(80,101,10):\n",
    "    #best_est = 0\n",
    "    #best_score = 0\n",
    "    random_forest_regressor = RandomForestRegressor(random_state=12345, max_depth=12, n_estimators=n_estimators)\n",
    "    random_forest_regressor.fit(features_train, target_train)\n",
    "    score = random_forest_regressor.score(features_valid, target_valid)\n",
    "    '''if score > best_score:\n",
    "        best_score = score\n",
    "        best_est = n_estimators'''\n",
    "    print(n_estimators,'|', score)"
   ],
   "id": "6e8ace041f421e7c",
   "outputs": [
    {
     "name": "stdout",
     "output_type": "stream",
     "text": [
      "80 | 0.16382573576817927\n",
      "90 | 0.1648855293625755\n",
      "100 | 0.16455159363220306\n"
     ]
    }
   ],
   "execution_count": 12
  },
  {
   "metadata": {
    "ExecuteTime": {
     "end_time": "2025-02-09T20:42:20.479374Z",
     "start_time": "2025-02-09T20:42:07.433489Z"
    }
   },
   "cell_type": "code",
   "source": [
    "random_forest_regressor = RandomForestRegressor(random_state=12345, max_depth=12, n_estimators=90)\n",
    "random_forest_regressor.fit(features_train, target_train)\n",
    "print(random_forest_regressor.score(features_valid, target_valid))"
   ],
   "id": "1aa7bf56312167bc",
   "outputs": [
    {
     "name": "stdout",
     "output_type": "stream",
     "text": [
      "0.1648855293625755\n"
     ]
    }
   ],
   "execution_count": 13
  },
  {
   "metadata": {
    "ExecuteTime": {
     "end_time": "2025-02-09T20:43:03.232269Z",
     "start_time": "2025-02-09T20:43:02.427830Z"
    }
   },
   "cell_type": "code",
   "source": "print(random_forest_regressor.score(features_train, target_train))",
   "id": "31070a2126771242",
   "outputs": [
    {
     "name": "stdout",
     "output_type": "stream",
     "text": [
      "0.4332487974164281\n"
     ]
    }
   ],
   "execution_count": 14
  },
  {
   "metadata": {
    "ExecuteTime": {
     "end_time": "2025-02-09T22:36:48.026412Z",
     "start_time": "2025-02-09T22:36:48.020274Z"
    }
   },
   "cell_type": "code",
   "source": [
    "df = pd.DataFrame({\n",
    "    \"values\": [10, 12, 15, 100, 14, 13, 11, 102, 16]\n",
    "})"
   ],
   "id": "140a7f2fc375202c",
   "outputs": [],
   "execution_count": 16
  },
  {
   "metadata": {
    "ExecuteTime": {
     "end_time": "2025-02-09T22:39:36.910728Z",
     "start_time": "2025-02-09T22:39:36.892473Z"
    }
   },
   "cell_type": "code",
   "source": [
    "def remove_outliers(df, column):\n",
    "    Q1 = df[column].quantile(0.25)\n",
    "    Q3 = df[column].quantile(0.75)\n",
    "    IQR = Q3 - Q1\n",
    "\n",
    "    lower_bound = Q1 - 1.5 * IQR\n",
    "    upper_bound = Q3 + 1.5 * IQR\n",
    "\n",
    "    return df[(df[column] >= lower_bound) & (df[column] <= upper_bound)]\n",
    "\n",
    "# Пример использования:\n",
    "data = pd.DataFrame({\n",
    "    \"values\": [10, 12, 15, 100, 14, 13, 11, 102, 16]\n",
    "})\n",
    "\n",
    "cleaned_data = remove_outliers(data, \"values\")\n",
    "print(cleaned_data)"
   ],
   "id": "68e0dc44bf63c096",
   "outputs": [
    {
     "name": "stdout",
     "output_type": "stream",
     "text": [
      "   values\n",
      "0      10\n",
      "1      12\n",
      "2      15\n",
      "4      14\n",
      "5      13\n",
      "6      11\n",
      "8      16\n"
     ]
    }
   ],
   "execution_count": 21
  }
 ],
 "metadata": {
  "kernelspec": {
   "display_name": "Python 3",
   "language": "python",
   "name": "python3"
  },
  "language_info": {
   "codemirror_mode": {
    "name": "ipython",
    "version": 2
   },
   "file_extension": ".py",
   "mimetype": "text/x-python",
   "name": "python",
   "nbconvert_exporter": "python",
   "pygments_lexer": "ipython2",
   "version": "2.7.6"
  }
 },
 "nbformat": 4,
 "nbformat_minor": 5
}
