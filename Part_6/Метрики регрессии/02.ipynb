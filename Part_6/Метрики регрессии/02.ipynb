{
 "cells": [
  {
   "cell_type": "code",
   "id": "initial_id",
   "metadata": {
    "collapsed": true,
    "ExecuteTime": {
     "end_time": "2025-02-09T19:06:24.837466Z",
     "start_time": "2025-02-09T19:06:24.831928Z"
    }
   },
   "source": [
    "import pandas as pd\n",
    "from sklearn.preprocessing import StandardScaler\n",
    "from sklearn.preprocessing import OneHotEncoder\n",
    "from sklearn.model_selection import train_test_split"
   ],
   "outputs": [],
   "execution_count": 28
  },
  {
   "metadata": {
    "ExecuteTime": {
     "end_time": "2025-02-09T19:06:24.978194Z",
     "start_time": "2025-02-09T19:06:24.875261Z"
    }
   },
   "cell_type": "code",
   "source": "df = pd.read_csv(r\"C:\\Users\\andre\\Рабочий стол\\Практикум\\Специалист по Data Science Плюс. Часть 6\\Часть 6\\05 Метрики регрессии\\flights.csv\")",
   "id": "7193c345398af8ef",
   "outputs": [],
   "execution_count": 29
  },
  {
   "metadata": {
    "ExecuteTime": {
     "end_time": "2025-02-09T19:06:25.007052Z",
     "start_time": "2025-02-09T19:06:24.988289Z"
    }
   },
   "cell_type": "code",
   "source": "df.info()",
   "id": "6ef50feb0bd00035",
   "outputs": [
    {
     "name": "stdout",
     "output_type": "stream",
     "text": [
      "<class 'pandas.core.frame.DataFrame'>\n",
      "RangeIndex: 77909 entries, 0 to 77908\n",
      "Data columns (total 11 columns):\n",
      " #   Column                          Non-Null Count  Dtype  \n",
      "---  ------                          --------------  -----  \n",
      " 0   Month                           77909 non-null  int64  \n",
      " 1   Day                             77909 non-null  int64  \n",
      " 2   Day Of Week                     77909 non-null  int64  \n",
      " 3   Airline                         77909 non-null  object \n",
      " 4   Origin Airport Delay Rate       77909 non-null  float64\n",
      " 5   Destination Airport Delay Rate  77909 non-null  float64\n",
      " 6   Scheduled Time                  77909 non-null  int64  \n",
      " 7   Distance                        77909 non-null  int64  \n",
      " 8   Scheduled Departure Hour        77909 non-null  int64  \n",
      " 9   Scheduled Departure Minute      77909 non-null  int64  \n",
      " 10  Arrival Delay                   77909 non-null  float64\n",
      "dtypes: float64(3), int64(7), object(1)\n",
      "memory usage: 6.5+ MB\n"
     ]
    }
   ],
   "execution_count": 30
  },
  {
   "metadata": {
    "ExecuteTime": {
     "end_time": "2025-02-09T19:06:25.059456Z",
     "start_time": "2025-02-09T19:06:25.050782Z"
    }
   },
   "cell_type": "code",
   "source": "df.shape",
   "id": "fa63217586be496f",
   "outputs": [
    {
     "data": {
      "text/plain": [
       "(77909, 11)"
      ]
     },
     "execution_count": 31,
     "metadata": {},
     "output_type": "execute_result"
    }
   ],
   "execution_count": 31
  },
  {
   "metadata": {
    "ExecuteTime": {
     "end_time": "2025-02-09T19:06:25.149451Z",
     "start_time": "2025-02-09T19:06:25.134534Z"
    }
   },
   "cell_type": "code",
   "source": "df.head()",
   "id": "47daa6aeaf965f16",
   "outputs": [
    {
     "data": {
      "text/plain": [
       "   Month  Day  Day Of Week Airline  Origin Airport Delay Rate  \\\n",
       "0      1    2            5      WN                   0.000000   \n",
       "1      1    4            7      AA                   0.000000   \n",
       "2      1    4            7      US                   0.000000   \n",
       "3      1    3            6      WN                   0.000000   \n",
       "4      1    5            1      EV                   0.633333   \n",
       "\n",
       "   Destination Airport Delay Rate  Scheduled Time  Distance  \\\n",
       "0                        0.000000             225      1390   \n",
       "1                        0.590909             172      1096   \n",
       "2                        0.000000              46       130   \n",
       "3                        0.000000             160       925   \n",
       "4                        0.000000              69       113   \n",
       "\n",
       "   Scheduled Departure Hour  Scheduled Departure Minute  Arrival Delay  \n",
       "0                         8                          55          -13.0  \n",
       "1                         8                          30          -12.0  \n",
       "2                         0                          30          189.0  \n",
       "3                         9                          25           -7.0  \n",
       "4                         5                          46           -4.0  "
      ],
      "text/html": [
       "<div>\n",
       "<style scoped>\n",
       "    .dataframe tbody tr th:only-of-type {\n",
       "        vertical-align: middle;\n",
       "    }\n",
       "\n",
       "    .dataframe tbody tr th {\n",
       "        vertical-align: top;\n",
       "    }\n",
       "\n",
       "    .dataframe thead th {\n",
       "        text-align: right;\n",
       "    }\n",
       "</style>\n",
       "<table border=\"1\" class=\"dataframe\">\n",
       "  <thead>\n",
       "    <tr style=\"text-align: right;\">\n",
       "      <th></th>\n",
       "      <th>Month</th>\n",
       "      <th>Day</th>\n",
       "      <th>Day Of Week</th>\n",
       "      <th>Airline</th>\n",
       "      <th>Origin Airport Delay Rate</th>\n",
       "      <th>Destination Airport Delay Rate</th>\n",
       "      <th>Scheduled Time</th>\n",
       "      <th>Distance</th>\n",
       "      <th>Scheduled Departure Hour</th>\n",
       "      <th>Scheduled Departure Minute</th>\n",
       "      <th>Arrival Delay</th>\n",
       "    </tr>\n",
       "  </thead>\n",
       "  <tbody>\n",
       "    <tr>\n",
       "      <th>0</th>\n",
       "      <td>1</td>\n",
       "      <td>2</td>\n",
       "      <td>5</td>\n",
       "      <td>WN</td>\n",
       "      <td>0.000000</td>\n",
       "      <td>0.000000</td>\n",
       "      <td>225</td>\n",
       "      <td>1390</td>\n",
       "      <td>8</td>\n",
       "      <td>55</td>\n",
       "      <td>-13.0</td>\n",
       "    </tr>\n",
       "    <tr>\n",
       "      <th>1</th>\n",
       "      <td>1</td>\n",
       "      <td>4</td>\n",
       "      <td>7</td>\n",
       "      <td>AA</td>\n",
       "      <td>0.000000</td>\n",
       "      <td>0.590909</td>\n",
       "      <td>172</td>\n",
       "      <td>1096</td>\n",
       "      <td>8</td>\n",
       "      <td>30</td>\n",
       "      <td>-12.0</td>\n",
       "    </tr>\n",
       "    <tr>\n",
       "      <th>2</th>\n",
       "      <td>1</td>\n",
       "      <td>4</td>\n",
       "      <td>7</td>\n",
       "      <td>US</td>\n",
       "      <td>0.000000</td>\n",
       "      <td>0.000000</td>\n",
       "      <td>46</td>\n",
       "      <td>130</td>\n",
       "      <td>0</td>\n",
       "      <td>30</td>\n",
       "      <td>189.0</td>\n",
       "    </tr>\n",
       "    <tr>\n",
       "      <th>3</th>\n",
       "      <td>1</td>\n",
       "      <td>3</td>\n",
       "      <td>6</td>\n",
       "      <td>WN</td>\n",
       "      <td>0.000000</td>\n",
       "      <td>0.000000</td>\n",
       "      <td>160</td>\n",
       "      <td>925</td>\n",
       "      <td>9</td>\n",
       "      <td>25</td>\n",
       "      <td>-7.0</td>\n",
       "    </tr>\n",
       "    <tr>\n",
       "      <th>4</th>\n",
       "      <td>1</td>\n",
       "      <td>5</td>\n",
       "      <td>1</td>\n",
       "      <td>EV</td>\n",
       "      <td>0.633333</td>\n",
       "      <td>0.000000</td>\n",
       "      <td>69</td>\n",
       "      <td>113</td>\n",
       "      <td>5</td>\n",
       "      <td>46</td>\n",
       "      <td>-4.0</td>\n",
       "    </tr>\n",
       "  </tbody>\n",
       "</table>\n",
       "</div>"
      ]
     },
     "execution_count": 32,
     "metadata": {},
     "output_type": "execute_result"
    }
   ],
   "execution_count": 32
  },
  {
   "metadata": {
    "ExecuteTime": {
     "end_time": "2025-02-09T19:06:25.259942Z",
     "start_time": "2025-02-09T19:06:25.238351Z"
    }
   },
   "cell_type": "code",
   "source": "df_ohe = pd.get_dummies(df, drop_first=True)",
   "id": "aea7ec484b1bb807",
   "outputs": [],
   "execution_count": 33
  },
  {
   "metadata": {
    "ExecuteTime": {
     "end_time": "2025-02-09T19:06:25.352304Z",
     "start_time": "2025-02-09T19:06:25.339789Z"
    }
   },
   "cell_type": "code",
   "source": [
    "target = df_ohe['Arrival Delay']\n",
    "features = df_ohe.drop('Arrival Delay', axis=1)"
   ],
   "id": "e546f54d49460092",
   "outputs": [],
   "execution_count": 34
  },
  {
   "metadata": {
    "ExecuteTime": {
     "end_time": "2025-02-09T19:06:25.479245Z",
     "start_time": "2025-02-09T19:06:25.435658Z"
    }
   },
   "cell_type": "code",
   "source": [
    "numeric = ['Day', 'Day Of Week', 'Origin Airport Delay Rate',\n",
    "           'Destination Airport Delay Rate', 'Scheduled Time', 'Distance',\n",
    "           'Scheduled Departure Hour', 'Scheduled Departure Minute']\n",
    "\n",
    "scaler = StandardScaler()\n",
    "scaler.fit(features[numeric])\n",
    "features[numeric] = scaler.transform(features[numeric])"
   ],
   "id": "ea5b8d3617854584",
   "outputs": [],
   "execution_count": 35
  },
  {
   "metadata": {
    "ExecuteTime": {
     "end_time": "2025-02-09T19:07:05.241953Z",
     "start_time": "2025-02-09T19:07:05.216727Z"
    }
   },
   "cell_type": "code",
   "source": "features_train, features_valid, target_train, target_valid = train_test_split(features, target, test_size=0.25, random_state=12345)",
   "id": "5da8036291677f87",
   "outputs": [],
   "execution_count": 38
  },
  {
   "metadata": {
    "ExecuteTime": {
     "end_time": "2025-02-09T19:07:05.660768Z",
     "start_time": "2025-02-09T19:07:05.655195Z"
    }
   },
   "cell_type": "code",
   "source": [
    "print(features_train.shape)\n",
    "print(features_valid.shape)"
   ],
   "id": "3fc4ec9e14839c92",
   "outputs": [
    {
     "name": "stdout",
     "output_type": "stream",
     "text": [
      "(58431, 22)\n",
      "(19478, 22)\n"
     ]
    }
   ],
   "execution_count": 39
  }
 ],
 "metadata": {
  "kernelspec": {
   "display_name": "Python 3",
   "language": "python",
   "name": "python3"
  },
  "language_info": {
   "codemirror_mode": {
    "name": "ipython",
    "version": 2
   },
   "file_extension": ".py",
   "mimetype": "text/x-python",
   "name": "python",
   "nbconvert_exporter": "python",
   "pygments_lexer": "ipython2",
   "version": "2.7.6"
  }
 },
 "nbformat": 4,
 "nbformat_minor": 5
}
