{
 "cells": [
  {
   "cell_type": "code",
   "id": "initial_id",
   "metadata": {
    "collapsed": true,
    "ExecuteTime": {
     "end_time": "2025-02-07T11:30:21.445767Z",
     "start_time": "2025-02-07T11:30:17.696418Z"
    }
   },
   "source": [
    "import pandas as pd\n",
    "from sklearn.model_selection import train_test_split\n",
    "from sklearn.linear_model import LogisticRegression\n",
    "from sklearn.metrics import f1_score"
   ],
   "outputs": [],
   "execution_count": 1
  },
  {
   "metadata": {
    "ExecuteTime": {
     "end_time": "2025-02-07T11:30:27.149276Z",
     "start_time": "2025-02-07T11:30:26.320679Z"
    }
   },
   "cell_type": "code",
   "source": "df = pd.read_csv(r\"C:\\Users\\andre\\Рабочий стол\\Практикум\\Специалист по Data Science Плюс. Часть 6\\Часть 6\\04 Несбалансированная классификация\\travel_insurance_preprocessed.csv\")",
   "id": "6280c4d7bb6c870a",
   "outputs": [],
   "execution_count": 2
  },
  {
   "metadata": {
    "ExecuteTime": {
     "end_time": "2025-02-07T11:30:52.960097Z",
     "start_time": "2025-02-07T11:30:52.922388Z"
    }
   },
   "cell_type": "code",
   "source": [
    "target = df['Claim']\n",
    "features = df.drop('Claim', axis=1)"
   ],
   "id": "fc20aca564ef0a8b",
   "outputs": [],
   "execution_count": 3
  },
  {
   "metadata": {
    "ExecuteTime": {
     "end_time": "2025-02-07T11:32:00.053791Z",
     "start_time": "2025-02-07T11:31:59.962629Z"
    }
   },
   "cell_type": "code",
   "source": "features_train, features_valid, target_train, target_valid = train_test_split(features, target, test_size=0.25, random_state=12345)",
   "id": "3d59bcf5fcdb86d2",
   "outputs": [],
   "execution_count": 4
  },
  {
   "metadata": {
    "ExecuteTime": {
     "end_time": "2025-02-07T11:33:16.993934Z",
     "start_time": "2025-02-07T11:33:15.995754Z"
    }
   },
   "cell_type": "code",
   "source": [
    "model = LogisticRegression(class_weight='balanced', random_state=12345, solver='liblinear')\n",
    "model.fit(features_train, target_train)\n",
    "model.fit(features_train, target_train)\n",
    "predictions = model.predict(features_valid)\n",
    "f1 = f1_score(target_valid, predictions)\n",
    "print(f1)"
   ],
   "id": "21ec1c73932944e5",
   "outputs": [
    {
     "name": "stdout",
     "output_type": "stream",
     "text": [
      "0.09425821440424825\n"
     ]
    }
   ],
   "execution_count": 6
  }
 ],
 "metadata": {
  "kernelspec": {
   "display_name": "Python 3",
   "language": "python",
   "name": "python3"
  },
  "language_info": {
   "codemirror_mode": {
    "name": "ipython",
    "version": 2
   },
   "file_extension": ".py",
   "mimetype": "text/x-python",
   "name": "python",
   "nbconvert_exporter": "python",
   "pygments_lexer": "ipython2",
   "version": "2.7.6"
  }
 },
 "nbformat": 4,
 "nbformat_minor": 5
}
