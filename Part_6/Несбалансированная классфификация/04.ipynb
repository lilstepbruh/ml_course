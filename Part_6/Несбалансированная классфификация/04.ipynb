{
 "cells": [
  {
   "cell_type": "code",
   "id": "initial_id",
   "metadata": {
    "collapsed": true,
    "ExecuteTime": {
     "end_time": "2025-02-09T08:38:42.241103Z",
     "start_time": "2025-02-09T08:38:36.048176Z"
    }
   },
   "source": [
    "import pandas as pd\n",
    "from sklearn.model_selection import train_test_split\n",
    "from sklearn.utils import shuffle\n",
    "from sklearn.metrics import f1_score\n",
    "from sklearn.linear_model import LogisticRegression"
   ],
   "outputs": [],
   "execution_count": 1
  },
  {
   "metadata": {
    "ExecuteTime": {
     "end_time": "2025-02-09T08:38:43.793765Z",
     "start_time": "2025-02-09T08:38:43.121573Z"
    }
   },
   "cell_type": "code",
   "source": "df = pd.read_csv(r\"C:\\Users\\andre\\Рабочий стол\\Практикум\\Специалист по Data Science Плюс. Часть 6\\Часть 6\\04 Несбалансированная классификация\\travel_insurance_preprocessed.csv\")",
   "id": "eb29eabde8106e57",
   "outputs": [],
   "execution_count": 2
  },
  {
   "metadata": {
    "ExecuteTime": {
     "end_time": "2025-02-09T08:38:51.836696Z",
     "start_time": "2025-02-09T08:38:51.808954Z"
    }
   },
   "cell_type": "code",
   "source": [
    "target = df['Claim']\n",
    "features = df.drop('Claim', axis=1)"
   ],
   "id": "3b2d44c11e46c29a",
   "outputs": [],
   "execution_count": 3
  },
  {
   "metadata": {
    "ExecuteTime": {
     "end_time": "2025-02-09T08:39:06.429379Z",
     "start_time": "2025-02-09T08:39:06.337021Z"
    }
   },
   "cell_type": "code",
   "source": "features_train, features_valid, target_train, target_valid = train_test_split(features, target, test_size=0.25, random_state=12345)",
   "id": "e032b97541e7ac5d",
   "outputs": [],
   "execution_count": 4
  },
  {
   "metadata": {
    "ExecuteTime": {
     "end_time": "2025-02-09T08:45:32.596777Z",
     "start_time": "2025-02-09T08:45:32.590461Z"
    }
   },
   "cell_type": "code",
   "source": [
    "def downsample(features, target, fraction):\n",
    "    features_zeros = features[target == 0]\n",
    "    features_ones = features[target == 1]\n",
    "    target_zeros = target[target == 0]\n",
    "    target_ones = target[target == 1]\n",
    "\n",
    "    features_downsampled = pd.concat([features_zeros.sample(frac=fraction,random_state=12345)] + [features_ones])\n",
    "    target_downsampled = pd.concat([target_zeros.sample(frac=fraction,random_state=12345)] + [target_ones])\n",
    "\n",
    "    features_downsampled, target_downsampled = shuffle(features_downsampled, target_downsampled, random_state=12345)\n",
    "\n",
    "    return features_downsampled, target_downsampled"
   ],
   "id": "ffe354a82d05a16b",
   "outputs": [],
   "execution_count": 7
  },
  {
   "metadata": {
    "ExecuteTime": {
     "end_time": "2025-02-09T08:45:34.054539Z",
     "start_time": "2025-02-09T08:45:33.989823Z"
    }
   },
   "cell_type": "code",
   "source": "features_downsampled, target_downsampled = downsample(features_train, target_train, 0.1)",
   "id": "9b3d3409a3d2b76a",
   "outputs": [],
   "execution_count": 8
  },
  {
   "metadata": {
    "ExecuteTime": {
     "end_time": "2025-02-09T08:45:46.045456Z",
     "start_time": "2025-02-09T08:45:46.038990Z"
    }
   },
   "cell_type": "code",
   "source": [
    "print(features_downsampled.shape)\n",
    "print(target_downsampled.shape)"
   ],
   "id": "4897fc79ea720285",
   "outputs": [
    {
     "name": "stdout",
     "output_type": "stream",
     "text": [
      "(4325, 196)\n",
      "(4325,)\n"
     ]
    }
   ],
   "execution_count": 9
  },
  {
   "metadata": {
    "ExecuteTime": {
     "end_time": "2025-02-09T08:47:23.444543Z",
     "start_time": "2025-02-09T08:47:23.379986Z"
    }
   },
   "cell_type": "code",
   "source": [
    "model = LogisticRegression(random_state=12345, solver='liblinear')\n",
    "model.fit(features_downsampled, target_downsampled)\n",
    "predictions = model.predict(features_valid)\n",
    "f1 = f1_score(target_valid, predictions)\n",
    "print(f1)"
   ],
   "id": "aee561d52e2b7a6a",
   "outputs": [
    {
     "name": "stdout",
     "output_type": "stream",
     "text": [
      "0.13333333333333333\n"
     ]
    }
   ],
   "execution_count": 10
  }
 ],
 "metadata": {
  "kernelspec": {
   "display_name": "Python 3",
   "language": "python",
   "name": "python3"
  },
  "language_info": {
   "codemirror_mode": {
    "name": "ipython",
    "version": 2
   },
   "file_extension": ".py",
   "mimetype": "text/x-python",
   "name": "python",
   "nbconvert_exporter": "python",
   "pygments_lexer": "ipython2",
   "version": "2.7.6"
  }
 },
 "nbformat": 4,
 "nbformat_minor": 5
}
