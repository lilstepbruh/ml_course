{
 "cells": [
  {
   "metadata": {
    "ExecuteTime": {
     "end_time": "2025-02-07T20:16:42.057753Z",
     "start_time": "2025-02-07T20:16:42.048328Z"
    }
   },
   "cell_type": "code",
   "source": [
    "import pandas as pd\n",
    "from sklearn.model_selection import train_test_split\n",
    "from sklearn.utils import shuffle\n",
    "from sklearn.metrics import f1_score\n",
    "from sklearn.linear_model import LogisticRegression"
   ],
   "id": "9cda71573218a432",
   "outputs": [],
   "execution_count": 18
  },
  {
   "metadata": {
    "ExecuteTime": {
     "end_time": "2025-02-07T20:16:43.190754Z",
     "start_time": "2025-02-07T20:16:42.176414Z"
    }
   },
   "cell_type": "code",
   "source": "df = pd.read_csv(r\"C:\\Users\\andre\\Рабочий стол\\Практикум\\Специалист по Data Science Плюс. Часть 6\\Часть 6\\04 Несбалансированная классификация\\travel_insurance_preprocessed.csv\")",
   "id": "ed6ff20636e9a776",
   "outputs": [],
   "execution_count": 19
  },
  {
   "metadata": {
    "ExecuteTime": {
     "end_time": "2025-02-07T20:16:43.265933Z",
     "start_time": "2025-02-07T20:16:43.203040Z"
    }
   },
   "cell_type": "code",
   "source": [
    "target = df['Claim']\n",
    "features = df.drop('Claim', axis=1)"
   ],
   "id": "cdbe697406c5747d",
   "outputs": [],
   "execution_count": 20
  },
  {
   "metadata": {
    "ExecuteTime": {
     "end_time": "2025-02-07T20:16:43.537829Z",
     "start_time": "2025-02-07T20:16:43.386395Z"
    }
   },
   "cell_type": "code",
   "source": "features_train, features_valid, target_train, target_valid = train_test_split(features, target, test_size=0.25, random_state=12345)",
   "id": "4700385416fc8eaa",
   "outputs": [],
   "execution_count": 21
  },
  {
   "metadata": {
    "ExecuteTime": {
     "end_time": "2025-02-07T20:16:43.803065Z",
     "start_time": "2025-02-07T20:16:43.788343Z"
    }
   },
   "cell_type": "code",
   "source": [
    "def upsample(features, target, repeat):\n",
    "      features_zeros = features[target == 0]\n",
    "      features_ones = features[target == 1]\n",
    "      target_zeros = target[target == 0]\n",
    "      target_ones = target[target == 1]\n",
    "      features_upsampled = pd.concat([features_zeros] + [features_ones] * repeat)\n",
    "      target_upsampled = pd.concat([target_zeros] + [target_ones] * repeat)\n",
    "\n",
    "      features_upsampled, target_upsampled = shuffle(\n",
    "      features_upsampled, target_upsampled, random_state=12345)\n",
    "      return features_upsampled, target_upsampled"
   ],
   "id": "81b36885a3369d41",
   "outputs": [],
   "execution_count": 22
  },
  {
   "metadata": {
    "ExecuteTime": {
     "end_time": "2025-02-07T20:16:44.193931Z",
     "start_time": "2025-02-07T20:16:43.974878Z"
    }
   },
   "cell_type": "code",
   "source": "features_upsampled, target_upsampled = upsample(features_train, target_train, 10)",
   "id": "699d99e3418c2c65",
   "outputs": [],
   "execution_count": 23
  },
  {
   "metadata": {
    "ExecuteTime": {
     "end_time": "2025-02-07T20:16:45.083631Z",
     "start_time": "2025-02-07T20:16:44.211942Z"
    }
   },
   "cell_type": "code",
   "source": [
    "model = LogisticRegression(random_state=12345, solver='liblinear')\n",
    "model.fit(features_upsampled, target_upsampled)\n",
    "predictions =  model.predict(features_valid)\n",
    "f1 = f1_score(target_valid, predictions)\n",
    "print(f1)\n"
   ],
   "id": "7d5e6e1e16d8e9ed",
   "outputs": [
    {
     "name": "stdout",
     "output_type": "stream",
     "text": [
      "0.13688212927756654\n"
     ]
    }
   ],
   "execution_count": 24
  }
 ],
 "metadata": {
  "kernelspec": {
   "display_name": "Python 3",
   "language": "python",
   "name": "python3"
  },
  "language_info": {
   "codemirror_mode": {
    "name": "ipython",
    "version": 2
   },
   "file_extension": ".py",
   "mimetype": "text/x-python",
   "name": "python",
   "nbconvert_exporter": "python",
   "pygments_lexer": "ipython2",
   "version": "2.7.6"
  }
 },
 "nbformat": 4,
 "nbformat_minor": 5
}
