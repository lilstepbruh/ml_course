{
 "cells": [
  {
   "metadata": {},
   "cell_type": "markdown",
   "source": "# Given a Bank customer, can we build a classifier which can determine whether they will leave in the next 6 months or not?"
  },
  {
   "metadata": {
    "_uuid": "8f2839f25d086af736a60e9eeb907d3b93b6e0e5",
    "_cell_guid": "b1076dfc-b9ad-4769-8c92-a6c4dae69d19",
    "trusted": true
   },
   "cell_type": "code",
   "source": "# This Python 3 environment comes with many helpful analytics libraries installed\n# It is defined by the kaggle/python Docker image: https://github.com/kaggle/docker-python\n# For example, here's several helpful packages to load\n\nimport numpy as np # linear algebra\nimport pandas as pd # data processing, CSV file I/O (e.g. pd.read_csv)\n\n# Input data files are available in the read-only \"../input/\" directory\n# For example, running this (by clicking run or pressing Shift+Enter) will list all files under the input directory\n\nimport os\nfor dirname, _, filenames in os.walk('/kaggle/input'):\n    for filename in filenames:\n        print(os.path.join(dirname, filename))\n\n# You can write up to 5GB to the current directory (/kaggle/working/) that gets preserved as output when you create a version using \"Save & Run All\" \n# You can also write temporary files to /kaggle/temp/, but they won't be saved outside of the current session",
   "execution_count": 27,
   "outputs": [
    {
     "output_type": "stream",
     "text": "/kaggle/input/bank-customer-churn-modeling/Churn_Modelling.csv\n",
     "name": "stdout"
    }
   ]
  },
  {
   "metadata": {
    "_uuid": "d629ff2d2480ee46fbb7e2d37f6b5fab8052498a",
    "_cell_guid": "79c7e3d0-c299-4dcb-8224-4455121ee9b0",
    "trusted": true
   },
   "cell_type": "code",
   "source": [
    "#Let's import all necessary libraries for our project\n",
    "import pandas as pd\n",
    "import numpy as np\n",
    "import matplotlib.pyplot as plt\n",
    "import seaborn as sns\n",
    "import itertools\n",
    "from sklearn.linear_model import LogisticRegression\n",
    "from sklearn.ensemble import RandomForestClassifier\n",
    "from sklearn.model_selection import train_test_split, KFold, cross_val_score, ShuffleSplit\n",
    "from sklearn.preprocessing import StandardScaler, OrdinalEncoder\n",
    "from sklearn.impute import SimpleImputer\n",
    "from sklearn.metrics import accuracy_score, confusion_matrix, f1_score, roc_curve, roc_auc_score, precision_score, recall_score\n",
    "from sklearn.utils import shuffle\n",
    "from plot_metric.functions import BinaryClassification"
   ],
   "execution_count": 28,
   "outputs": [
    {
     "output_type": "stream",
     "text": "Requirement already satisfied: plot_metric in /opt/conda/lib/python3.7/site-packages (0.0.6)\nRequirement already satisfied: scipy>=1.1.0 in /opt/conda/lib/python3.7/site-packages (from plot_metric) (1.4.1)\nRequirement already satisfied: seaborn>=0.9.0 in /opt/conda/lib/python3.7/site-packages (from plot_metric) (0.10.0)\nRequirement already satisfied: colorlover>=0.3.0 in /opt/conda/lib/python3.7/site-packages (from plot_metric) (0.3.0)\nRequirement already satisfied: scikit-learn>=0.21.2 in /opt/conda/lib/python3.7/site-packages (from plot_metric) (0.23.1)\nRequirement already satisfied: numpy>=1.15.4 in /opt/conda/lib/python3.7/site-packages (from plot_metric) (1.18.5)\nRequirement already satisfied: matplotlib>=3.0.2 in /opt/conda/lib/python3.7/site-packages (from plot_metric) (3.2.1)\nRequirement already satisfied: pandas>=0.23.4 in /opt/conda/lib/python3.7/site-packages (from plot_metric) (1.0.3)\nRequirement already satisfied: joblib>=0.11 in /opt/conda/lib/python3.7/site-packages (from scikit-learn>=0.21.2->plot_metric) (0.14.1)\nRequirement already satisfied: threadpoolctl>=2.0.0 in /opt/conda/lib/python3.7/site-packages (from scikit-learn>=0.21.2->plot_metric) (2.1.0)\nRequirement already satisfied: python-dateutil>=2.1 in /opt/conda/lib/python3.7/site-packages (from matplotlib>=3.0.2->plot_metric) (2.8.1)\nRequirement already satisfied: kiwisolver>=1.0.1 in /opt/conda/lib/python3.7/site-packages (from matplotlib>=3.0.2->plot_metric) (1.2.0)\nRequirement already satisfied: cycler>=0.10 in /opt/conda/lib/python3.7/site-packages (from matplotlib>=3.0.2->plot_metric) (0.10.0)\nRequirement already satisfied: pyparsing!=2.0.4,!=2.1.2,!=2.1.6,>=2.0.1 in /opt/conda/lib/python3.7/site-packages (from matplotlib>=3.0.2->plot_metric) (2.4.7)\nRequirement already satisfied: pytz>=2017.2 in /opt/conda/lib/python3.7/site-packages (from pandas>=0.23.4->plot_metric) (2019.3)\nRequirement already satisfied: six>=1.5 in /opt/conda/lib/python3.7/site-packages (from python-dateutil>=2.1->matplotlib>=3.0.2->plot_metric) (1.14.0)\n\u001B[33mWARNING: You are using pip version 20.1.1; however, version 20.2.2 is available.\nYou should consider upgrading via the '/opt/conda/bin/python3.7 -m pip install --upgrade pip' command.\u001B[0m\n",
     "name": "stdout"
    }
   ]
  },
  {
   "metadata": {
    "trusted": true
   },
   "cell_type": "code",
   "source": "#Let's open our dataset\ndf = pd.read_csv('/kaggle/input/bank-customer-churn-modeling/Churn_Modelling.csv')\ndisplay(df.head(5))\ndisplay(df.tail(5))",
   "execution_count": 29,
   "outputs": [
    {
     "output_type": "display_data",
     "data": {
      "text/plain": "   RowNumber  CustomerId   Surname  CreditScore Geography  Gender  Age  \\\n0          1    15634602  Hargrave          619    France  Female   42   \n1          2    15647311      Hill          608     Spain  Female   41   \n2          3    15619304      Onio          502    France  Female   42   \n3          4    15701354      Boni          699    France  Female   39   \n4          5    15737888  Mitchell          850     Spain  Female   43   \n\n   Tenure    Balance  NumOfProducts  HasCrCard  IsActiveMember  \\\n0       2       0.00              1          1               1   \n1       1   83807.86              1          0               1   \n2       8  159660.80              3          1               0   \n3       1       0.00              2          0               0   \n4       2  125510.82              1          1               1   \n\n   EstimatedSalary  Exited  \n0        101348.88       1  \n1        112542.58       0  \n2        113931.57       1  \n3         93826.63       0  \n4         79084.10       0  ",
      "text/html": "<div>\n<style scoped>\n    .dataframe tbody tr th:only-of-type {\n        vertical-align: middle;\n    }\n\n    .dataframe tbody tr th {\n        vertical-align: top;\n    }\n\n    .dataframe thead th {\n        text-align: right;\n    }\n</style>\n<table border=\"1\" class=\"dataframe\">\n  <thead>\n    <tr style=\"text-align: right;\">\n      <th></th>\n      <th>RowNumber</th>\n      <th>CustomerId</th>\n      <th>Surname</th>\n      <th>CreditScore</th>\n      <th>Geography</th>\n      <th>Gender</th>\n      <th>Age</th>\n      <th>Tenure</th>\n      <th>Balance</th>\n      <th>NumOfProducts</th>\n      <th>HasCrCard</th>\n      <th>IsActiveMember</th>\n      <th>EstimatedSalary</th>\n      <th>Exited</th>\n    </tr>\n  </thead>\n  <tbody>\n    <tr>\n      <th>0</th>\n      <td>1</td>\n      <td>15634602</td>\n      <td>Hargrave</td>\n      <td>619</td>\n      <td>France</td>\n      <td>Female</td>\n      <td>42</td>\n      <td>2</td>\n      <td>0.00</td>\n      <td>1</td>\n      <td>1</td>\n      <td>1</td>\n      <td>101348.88</td>\n      <td>1</td>\n    </tr>\n    <tr>\n      <th>1</th>\n      <td>2</td>\n      <td>15647311</td>\n      <td>Hill</td>\n      <td>608</td>\n      <td>Spain</td>\n      <td>Female</td>\n      <td>41</td>\n      <td>1</td>\n      <td>83807.86</td>\n      <td>1</td>\n      <td>0</td>\n      <td>1</td>\n      <td>112542.58</td>\n      <td>0</td>\n    </tr>\n    <tr>\n      <th>2</th>\n      <td>3</td>\n      <td>15619304</td>\n      <td>Onio</td>\n      <td>502</td>\n      <td>France</td>\n      <td>Female</td>\n      <td>42</td>\n      <td>8</td>\n      <td>159660.80</td>\n      <td>3</td>\n      <td>1</td>\n      <td>0</td>\n      <td>113931.57</td>\n      <td>1</td>\n    </tr>\n    <tr>\n      <th>3</th>\n      <td>4</td>\n      <td>15701354</td>\n      <td>Boni</td>\n      <td>699</td>\n      <td>France</td>\n      <td>Female</td>\n      <td>39</td>\n      <td>1</td>\n      <td>0.00</td>\n      <td>2</td>\n      <td>0</td>\n      <td>0</td>\n      <td>93826.63</td>\n      <td>0</td>\n    </tr>\n    <tr>\n      <th>4</th>\n      <td>5</td>\n      <td>15737888</td>\n      <td>Mitchell</td>\n      <td>850</td>\n      <td>Spain</td>\n      <td>Female</td>\n      <td>43</td>\n      <td>2</td>\n      <td>125510.82</td>\n      <td>1</td>\n      <td>1</td>\n      <td>1</td>\n      <td>79084.10</td>\n      <td>0</td>\n    </tr>\n  </tbody>\n</table>\n</div>"
     },
     "metadata": {}
    },
    {
     "output_type": "display_data",
     "data": {
      "text/plain": "      RowNumber  CustomerId    Surname  CreditScore Geography  Gender  Age  \\\n9995       9996    15606229   Obijiaku          771    France    Male   39   \n9996       9997    15569892  Johnstone          516    France    Male   35   \n9997       9998    15584532        Liu          709    France  Female   36   \n9998       9999    15682355  Sabbatini          772   Germany    Male   42   \n9999      10000    15628319     Walker          792    France  Female   28   \n\n      Tenure    Balance  NumOfProducts  HasCrCard  IsActiveMember  \\\n9995       5       0.00              2          1               0   \n9996      10   57369.61              1          1               1   \n9997       7       0.00              1          0               1   \n9998       3   75075.31              2          1               0   \n9999       4  130142.79              1          1               0   \n\n      EstimatedSalary  Exited  \n9995         96270.64       0  \n9996        101699.77       0  \n9997         42085.58       1  \n9998         92888.52       1  \n9999         38190.78       0  ",
      "text/html": "<div>\n<style scoped>\n    .dataframe tbody tr th:only-of-type {\n        vertical-align: middle;\n    }\n\n    .dataframe tbody tr th {\n        vertical-align: top;\n    }\n\n    .dataframe thead th {\n        text-align: right;\n    }\n</style>\n<table border=\"1\" class=\"dataframe\">\n  <thead>\n    <tr style=\"text-align: right;\">\n      <th></th>\n      <th>RowNumber</th>\n      <th>CustomerId</th>\n      <th>Surname</th>\n      <th>CreditScore</th>\n      <th>Geography</th>\n      <th>Gender</th>\n      <th>Age</th>\n      <th>Tenure</th>\n      <th>Balance</th>\n      <th>NumOfProducts</th>\n      <th>HasCrCard</th>\n      <th>IsActiveMember</th>\n      <th>EstimatedSalary</th>\n      <th>Exited</th>\n    </tr>\n  </thead>\n  <tbody>\n    <tr>\n      <th>9995</th>\n      <td>9996</td>\n      <td>15606229</td>\n      <td>Obijiaku</td>\n      <td>771</td>\n      <td>France</td>\n      <td>Male</td>\n      <td>39</td>\n      <td>5</td>\n      <td>0.00</td>\n      <td>2</td>\n      <td>1</td>\n      <td>0</td>\n      <td>96270.64</td>\n      <td>0</td>\n    </tr>\n    <tr>\n      <th>9996</th>\n      <td>9997</td>\n      <td>15569892</td>\n      <td>Johnstone</td>\n      <td>516</td>\n      <td>France</td>\n      <td>Male</td>\n      <td>35</td>\n      <td>10</td>\n      <td>57369.61</td>\n      <td>1</td>\n      <td>1</td>\n      <td>1</td>\n      <td>101699.77</td>\n      <td>0</td>\n    </tr>\n    <tr>\n      <th>9997</th>\n      <td>9998</td>\n      <td>15584532</td>\n      <td>Liu</td>\n      <td>709</td>\n      <td>France</td>\n      <td>Female</td>\n      <td>36</td>\n      <td>7</td>\n      <td>0.00</td>\n      <td>1</td>\n      <td>0</td>\n      <td>1</td>\n      <td>42085.58</td>\n      <td>1</td>\n    </tr>\n    <tr>\n      <th>9998</th>\n      <td>9999</td>\n      <td>15682355</td>\n      <td>Sabbatini</td>\n      <td>772</td>\n      <td>Germany</td>\n      <td>Male</td>\n      <td>42</td>\n      <td>3</td>\n      <td>75075.31</td>\n      <td>2</td>\n      <td>1</td>\n      <td>0</td>\n      <td>92888.52</td>\n      <td>1</td>\n    </tr>\n    <tr>\n      <th>9999</th>\n      <td>10000</td>\n      <td>15628319</td>\n      <td>Walker</td>\n      <td>792</td>\n      <td>France</td>\n      <td>Female</td>\n      <td>28</td>\n      <td>4</td>\n      <td>130142.79</td>\n      <td>1</td>\n      <td>1</td>\n      <td>0</td>\n      <td>38190.78</td>\n      <td>0</td>\n    </tr>\n  </tbody>\n</table>\n</div>"
     },
     "metadata": {}
    }
   ]
  },
  {
   "metadata": {
    "trusted": true
   },
   "cell_type": "code",
   "source": "# Let's see what we have there\ndisplay(df.info())\ndisplay(df.describe())",
   "execution_count": 30,
   "outputs": [
    {
     "output_type": "stream",
     "text": "<class 'pandas.core.frame.DataFrame'>\nRangeIndex: 10000 entries, 0 to 9999\nData columns (total 14 columns):\n #   Column           Non-Null Count  Dtype  \n---  ------           --------------  -----  \n 0   RowNumber        10000 non-null  int64  \n 1   CustomerId       10000 non-null  int64  \n 2   Surname          10000 non-null  object \n 3   CreditScore      10000 non-null  int64  \n 4   Geography        10000 non-null  object \n 5   Gender           10000 non-null  object \n 6   Age              10000 non-null  int64  \n 7   Tenure           10000 non-null  int64  \n 8   Balance          10000 non-null  float64\n 9   NumOfProducts    10000 non-null  int64  \n 10  HasCrCard        10000 non-null  int64  \n 11  IsActiveMember   10000 non-null  int64  \n 12  EstimatedSalary  10000 non-null  float64\n 13  Exited           10000 non-null  int64  \ndtypes: float64(2), int64(9), object(3)\nmemory usage: 1.1+ MB\n",
     "name": "stdout"
    },
    {
     "output_type": "display_data",
     "data": {
      "text/plain": "None"
     },
     "metadata": {}
    },
    {
     "output_type": "display_data",
     "data": {
      "text/plain": "         RowNumber    CustomerId   CreditScore           Age        Tenure  \\\ncount  10000.00000  1.000000e+04  10000.000000  10000.000000  10000.000000   \nmean    5000.50000  1.569094e+07    650.528800     38.921800      5.012800   \nstd     2886.89568  7.193619e+04     96.653299     10.487806      2.892174   \nmin        1.00000  1.556570e+07    350.000000     18.000000      0.000000   \n25%     2500.75000  1.562853e+07    584.000000     32.000000      3.000000   \n50%     5000.50000  1.569074e+07    652.000000     37.000000      5.000000   \n75%     7500.25000  1.575323e+07    718.000000     44.000000      7.000000   \nmax    10000.00000  1.581569e+07    850.000000     92.000000     10.000000   \n\n             Balance  NumOfProducts    HasCrCard  IsActiveMember  \\\ncount   10000.000000   10000.000000  10000.00000    10000.000000   \nmean    76485.889288       1.530200      0.70550        0.515100   \nstd     62397.405202       0.581654      0.45584        0.499797   \nmin         0.000000       1.000000      0.00000        0.000000   \n25%         0.000000       1.000000      0.00000        0.000000   \n50%     97198.540000       1.000000      1.00000        1.000000   \n75%    127644.240000       2.000000      1.00000        1.000000   \nmax    250898.090000       4.000000      1.00000        1.000000   \n\n       EstimatedSalary        Exited  \ncount     10000.000000  10000.000000  \nmean     100090.239881      0.203700  \nstd       57510.492818      0.402769  \nmin          11.580000      0.000000  \n25%       51002.110000      0.000000  \n50%      100193.915000      0.000000  \n75%      149388.247500      0.000000  \nmax      199992.480000      1.000000  ",
      "text/html": "<div>\n<style scoped>\n    .dataframe tbody tr th:only-of-type {\n        vertical-align: middle;\n    }\n\n    .dataframe tbody tr th {\n        vertical-align: top;\n    }\n\n    .dataframe thead th {\n        text-align: right;\n    }\n</style>\n<table border=\"1\" class=\"dataframe\">\n  <thead>\n    <tr style=\"text-align: right;\">\n      <th></th>\n      <th>RowNumber</th>\n      <th>CustomerId</th>\n      <th>CreditScore</th>\n      <th>Age</th>\n      <th>Tenure</th>\n      <th>Balance</th>\n      <th>NumOfProducts</th>\n      <th>HasCrCard</th>\n      <th>IsActiveMember</th>\n      <th>EstimatedSalary</th>\n      <th>Exited</th>\n    </tr>\n  </thead>\n  <tbody>\n    <tr>\n      <th>count</th>\n      <td>10000.00000</td>\n      <td>1.000000e+04</td>\n      <td>10000.000000</td>\n      <td>10000.000000</td>\n      <td>10000.000000</td>\n      <td>10000.000000</td>\n      <td>10000.000000</td>\n      <td>10000.00000</td>\n      <td>10000.000000</td>\n      <td>10000.000000</td>\n      <td>10000.000000</td>\n    </tr>\n    <tr>\n      <th>mean</th>\n      <td>5000.50000</td>\n      <td>1.569094e+07</td>\n      <td>650.528800</td>\n      <td>38.921800</td>\n      <td>5.012800</td>\n      <td>76485.889288</td>\n      <td>1.530200</td>\n      <td>0.70550</td>\n      <td>0.515100</td>\n      <td>100090.239881</td>\n      <td>0.203700</td>\n    </tr>\n    <tr>\n      <th>std</th>\n      <td>2886.89568</td>\n      <td>7.193619e+04</td>\n      <td>96.653299</td>\n      <td>10.487806</td>\n      <td>2.892174</td>\n      <td>62397.405202</td>\n      <td>0.581654</td>\n      <td>0.45584</td>\n      <td>0.499797</td>\n      <td>57510.492818</td>\n      <td>0.402769</td>\n    </tr>\n    <tr>\n      <th>min</th>\n      <td>1.00000</td>\n      <td>1.556570e+07</td>\n      <td>350.000000</td>\n      <td>18.000000</td>\n      <td>0.000000</td>\n      <td>0.000000</td>\n      <td>1.000000</td>\n      <td>0.00000</td>\n      <td>0.000000</td>\n      <td>11.580000</td>\n      <td>0.000000</td>\n    </tr>\n    <tr>\n      <th>25%</th>\n      <td>2500.75000</td>\n      <td>1.562853e+07</td>\n      <td>584.000000</td>\n      <td>32.000000</td>\n      <td>3.000000</td>\n      <td>0.000000</td>\n      <td>1.000000</td>\n      <td>0.00000</td>\n      <td>0.000000</td>\n      <td>51002.110000</td>\n      <td>0.000000</td>\n    </tr>\n    <tr>\n      <th>50%</th>\n      <td>5000.50000</td>\n      <td>1.569074e+07</td>\n      <td>652.000000</td>\n      <td>37.000000</td>\n      <td>5.000000</td>\n      <td>97198.540000</td>\n      <td>1.000000</td>\n      <td>1.00000</td>\n      <td>1.000000</td>\n      <td>100193.915000</td>\n      <td>0.000000</td>\n    </tr>\n    <tr>\n      <th>75%</th>\n      <td>7500.25000</td>\n      <td>1.575323e+07</td>\n      <td>718.000000</td>\n      <td>44.000000</td>\n      <td>7.000000</td>\n      <td>127644.240000</td>\n      <td>2.000000</td>\n      <td>1.00000</td>\n      <td>1.000000</td>\n      <td>149388.247500</td>\n      <td>0.000000</td>\n    </tr>\n    <tr>\n      <th>max</th>\n      <td>10000.00000</td>\n      <td>1.581569e+07</td>\n      <td>850.000000</td>\n      <td>92.000000</td>\n      <td>10.000000</td>\n      <td>250898.090000</td>\n      <td>4.000000</td>\n      <td>1.00000</td>\n      <td>1.000000</td>\n      <td>199992.480000</td>\n      <td>1.000000</td>\n    </tr>\n  </tbody>\n</table>\n</div>"
     },
     "metadata": {}
    }
   ]
  },
  {
   "metadata": {
    "trusted": true
   },
   "cell_type": "code",
   "source": "#Do we have null entries\ndf.isnull().sum()",
   "execution_count": 31,
   "outputs": [
    {
     "output_type": "execute_result",
     "execution_count": 31,
     "data": {
      "text/plain": "RowNumber          0\nCustomerId         0\nSurname            0\nCreditScore        0\nGeography          0\nGender             0\nAge                0\nTenure             0\nBalance            0\nNumOfProducts      0\nHasCrCard          0\nIsActiveMember     0\nEstimatedSalary    0\nExited             0\ndtype: int64"
     },
     "metadata": {}
    }
   ]
  },
  {
   "metadata": {
    "trusted": true
   },
   "cell_type": "code",
   "source": "#What about duplicates?\ndf.duplicated().sum()",
   "execution_count": 32,
   "outputs": [
    {
     "output_type": "execute_result",
     "execution_count": 32,
     "data": {
      "text/plain": "0"
     },
     "metadata": {}
    }
   ]
  },
  {
   "metadata": {
    "trusted": true
   },
   "cell_type": "code",
   "source": "#Let's see corr table\ndf.corr()",
   "execution_count": 33,
   "outputs": [
    {
     "output_type": "execute_result",
     "execution_count": 33,
     "data": {
      "text/plain": "                 RowNumber  CustomerId  CreditScore       Age    Tenure  \\\nRowNumber         1.000000    0.004202     0.005840  0.000783 -0.006495   \nCustomerId        0.004202    1.000000     0.005308  0.009497 -0.014883   \nCreditScore       0.005840    0.005308     1.000000 -0.003965  0.000842   \nAge               0.000783    0.009497    -0.003965  1.000000 -0.009997   \nTenure           -0.006495   -0.014883     0.000842 -0.009997  1.000000   \nBalance          -0.009067   -0.012419     0.006268  0.028308 -0.012254   \nNumOfProducts     0.007246    0.016972     0.012238 -0.030680  0.013444   \nHasCrCard         0.000599   -0.014025    -0.005458 -0.011721  0.022583   \nIsActiveMember    0.012044    0.001665     0.025651  0.085472 -0.028362   \nEstimatedSalary  -0.005988    0.015271    -0.001384 -0.007201  0.007784   \nExited           -0.016571   -0.006248    -0.027094  0.285323 -0.014001   \n\n                  Balance  NumOfProducts  HasCrCard  IsActiveMember  \\\nRowNumber       -0.009067       0.007246   0.000599        0.012044   \nCustomerId      -0.012419       0.016972  -0.014025        0.001665   \nCreditScore      0.006268       0.012238  -0.005458        0.025651   \nAge              0.028308      -0.030680  -0.011721        0.085472   \nTenure          -0.012254       0.013444   0.022583       -0.028362   \nBalance          1.000000      -0.304180  -0.014858       -0.010084   \nNumOfProducts   -0.304180       1.000000   0.003183        0.009612   \nHasCrCard       -0.014858       0.003183   1.000000       -0.011866   \nIsActiveMember  -0.010084       0.009612  -0.011866        1.000000   \nEstimatedSalary  0.012797       0.014204  -0.009933       -0.011421   \nExited           0.118533      -0.047820  -0.007138       -0.156128   \n\n                 EstimatedSalary    Exited  \nRowNumber              -0.005988 -0.016571  \nCustomerId              0.015271 -0.006248  \nCreditScore            -0.001384 -0.027094  \nAge                    -0.007201  0.285323  \nTenure                  0.007784 -0.014001  \nBalance                 0.012797  0.118533  \nNumOfProducts           0.014204 -0.047820  \nHasCrCard              -0.009933 -0.007138  \nIsActiveMember         -0.011421 -0.156128  \nEstimatedSalary         1.000000  0.012097  \nExited                  0.012097  1.000000  ",
      "text/html": "<div>\n<style scoped>\n    .dataframe tbody tr th:only-of-type {\n        vertical-align: middle;\n    }\n\n    .dataframe tbody tr th {\n        vertical-align: top;\n    }\n\n    .dataframe thead th {\n        text-align: right;\n    }\n</style>\n<table border=\"1\" class=\"dataframe\">\n  <thead>\n    <tr style=\"text-align: right;\">\n      <th></th>\n      <th>RowNumber</th>\n      <th>CustomerId</th>\n      <th>CreditScore</th>\n      <th>Age</th>\n      <th>Tenure</th>\n      <th>Balance</th>\n      <th>NumOfProducts</th>\n      <th>HasCrCard</th>\n      <th>IsActiveMember</th>\n      <th>EstimatedSalary</th>\n      <th>Exited</th>\n    </tr>\n  </thead>\n  <tbody>\n    <tr>\n      <th>RowNumber</th>\n      <td>1.000000</td>\n      <td>0.004202</td>\n      <td>0.005840</td>\n      <td>0.000783</td>\n      <td>-0.006495</td>\n      <td>-0.009067</td>\n      <td>0.007246</td>\n      <td>0.000599</td>\n      <td>0.012044</td>\n      <td>-0.005988</td>\n      <td>-0.016571</td>\n    </tr>\n    <tr>\n      <th>CustomerId</th>\n      <td>0.004202</td>\n      <td>1.000000</td>\n      <td>0.005308</td>\n      <td>0.009497</td>\n      <td>-0.014883</td>\n      <td>-0.012419</td>\n      <td>0.016972</td>\n      <td>-0.014025</td>\n      <td>0.001665</td>\n      <td>0.015271</td>\n      <td>-0.006248</td>\n    </tr>\n    <tr>\n      <th>CreditScore</th>\n      <td>0.005840</td>\n      <td>0.005308</td>\n      <td>1.000000</td>\n      <td>-0.003965</td>\n      <td>0.000842</td>\n      <td>0.006268</td>\n      <td>0.012238</td>\n      <td>-0.005458</td>\n      <td>0.025651</td>\n      <td>-0.001384</td>\n      <td>-0.027094</td>\n    </tr>\n    <tr>\n      <th>Age</th>\n      <td>0.000783</td>\n      <td>0.009497</td>\n      <td>-0.003965</td>\n      <td>1.000000</td>\n      <td>-0.009997</td>\n      <td>0.028308</td>\n      <td>-0.030680</td>\n      <td>-0.011721</td>\n      <td>0.085472</td>\n      <td>-0.007201</td>\n      <td>0.285323</td>\n    </tr>\n    <tr>\n      <th>Tenure</th>\n      <td>-0.006495</td>\n      <td>-0.014883</td>\n      <td>0.000842</td>\n      <td>-0.009997</td>\n      <td>1.000000</td>\n      <td>-0.012254</td>\n      <td>0.013444</td>\n      <td>0.022583</td>\n      <td>-0.028362</td>\n      <td>0.007784</td>\n      <td>-0.014001</td>\n    </tr>\n    <tr>\n      <th>Balance</th>\n      <td>-0.009067</td>\n      <td>-0.012419</td>\n      <td>0.006268</td>\n      <td>0.028308</td>\n      <td>-0.012254</td>\n      <td>1.000000</td>\n      <td>-0.304180</td>\n      <td>-0.014858</td>\n      <td>-0.010084</td>\n      <td>0.012797</td>\n      <td>0.118533</td>\n    </tr>\n    <tr>\n      <th>NumOfProducts</th>\n      <td>0.007246</td>\n      <td>0.016972</td>\n      <td>0.012238</td>\n      <td>-0.030680</td>\n      <td>0.013444</td>\n      <td>-0.304180</td>\n      <td>1.000000</td>\n      <td>0.003183</td>\n      <td>0.009612</td>\n      <td>0.014204</td>\n      <td>-0.047820</td>\n    </tr>\n    <tr>\n      <th>HasCrCard</th>\n      <td>0.000599</td>\n      <td>-0.014025</td>\n      <td>-0.005458</td>\n      <td>-0.011721</td>\n      <td>0.022583</td>\n      <td>-0.014858</td>\n      <td>0.003183</td>\n      <td>1.000000</td>\n      <td>-0.011866</td>\n      <td>-0.009933</td>\n      <td>-0.007138</td>\n    </tr>\n    <tr>\n      <th>IsActiveMember</th>\n      <td>0.012044</td>\n      <td>0.001665</td>\n      <td>0.025651</td>\n      <td>0.085472</td>\n      <td>-0.028362</td>\n      <td>-0.010084</td>\n      <td>0.009612</td>\n      <td>-0.011866</td>\n      <td>1.000000</td>\n      <td>-0.011421</td>\n      <td>-0.156128</td>\n    </tr>\n    <tr>\n      <th>EstimatedSalary</th>\n      <td>-0.005988</td>\n      <td>0.015271</td>\n      <td>-0.001384</td>\n      <td>-0.007201</td>\n      <td>0.007784</td>\n      <td>0.012797</td>\n      <td>0.014204</td>\n      <td>-0.009933</td>\n      <td>-0.011421</td>\n      <td>1.000000</td>\n      <td>0.012097</td>\n    </tr>\n    <tr>\n      <th>Exited</th>\n      <td>-0.016571</td>\n      <td>-0.006248</td>\n      <td>-0.027094</td>\n      <td>0.285323</td>\n      <td>-0.014001</td>\n      <td>0.118533</td>\n      <td>-0.047820</td>\n      <td>-0.007138</td>\n      <td>-0.156128</td>\n      <td>0.012097</td>\n      <td>1.000000</td>\n    </tr>\n  </tbody>\n</table>\n</div>"
     },
     "metadata": {}
    }
   ]
  },
  {
   "metadata": {
    "trusted": true
   },
   "cell_type": "code",
   "source": "#How many males and females do we have\ndf['Gender'].value_counts()",
   "execution_count": 34,
   "outputs": [
    {
     "output_type": "execute_result",
     "execution_count": 34,
     "data": {
      "text/plain": "Male      5457\nFemale    4543\nName: Gender, dtype: int64"
     },
     "metadata": {}
    }
   ]
  },
  {
   "metadata": {
    "trusted": true
   },
   "cell_type": "code",
   "source": "#What countries do we have\ndf['Geography'].value_counts()",
   "execution_count": 35,
   "outputs": [
    {
     "output_type": "execute_result",
     "execution_count": 35,
     "data": {
      "text/plain": "France     5014\nGermany    2509\nSpain      2477\nName: Geography, dtype: int64"
     },
     "metadata": {}
    }
   ]
  },
  {
   "metadata": {
    "trusted": true
   },
   "cell_type": "code",
   "source": "#Let's delete columns that we don't need for our future model\ndf = df.drop(['RowNumber','CustomerId','Surname'], axis=1)",
   "execution_count": 36,
   "outputs": []
  },
  {
   "metadata": {
    "trusted": true
   },
   "cell_type": "code",
   "source": "df.head()",
   "execution_count": 37,
   "outputs": [
    {
     "output_type": "execute_result",
     "execution_count": 37,
     "data": {
      "text/plain": "   CreditScore Geography  Gender  Age  Tenure    Balance  NumOfProducts  \\\n0          619    France  Female   42       2       0.00              1   \n1          608     Spain  Female   41       1   83807.86              1   \n2          502    France  Female   42       8  159660.80              3   \n3          699    France  Female   39       1       0.00              2   \n4          850     Spain  Female   43       2  125510.82              1   \n\n   HasCrCard  IsActiveMember  EstimatedSalary  Exited  \n0          1               1        101348.88       1  \n1          0               1        112542.58       0  \n2          1               0        113931.57       1  \n3          0               0         93826.63       0  \n4          1               1         79084.10       0  ",
      "text/html": "<div>\n<style scoped>\n    .dataframe tbody tr th:only-of-type {\n        vertical-align: middle;\n    }\n\n    .dataframe tbody tr th {\n        vertical-align: top;\n    }\n\n    .dataframe thead th {\n        text-align: right;\n    }\n</style>\n<table border=\"1\" class=\"dataframe\">\n  <thead>\n    <tr style=\"text-align: right;\">\n      <th></th>\n      <th>CreditScore</th>\n      <th>Geography</th>\n      <th>Gender</th>\n      <th>Age</th>\n      <th>Tenure</th>\n      <th>Balance</th>\n      <th>NumOfProducts</th>\n      <th>HasCrCard</th>\n      <th>IsActiveMember</th>\n      <th>EstimatedSalary</th>\n      <th>Exited</th>\n    </tr>\n  </thead>\n  <tbody>\n    <tr>\n      <th>0</th>\n      <td>619</td>\n      <td>France</td>\n      <td>Female</td>\n      <td>42</td>\n      <td>2</td>\n      <td>0.00</td>\n      <td>1</td>\n      <td>1</td>\n      <td>1</td>\n      <td>101348.88</td>\n      <td>1</td>\n    </tr>\n    <tr>\n      <th>1</th>\n      <td>608</td>\n      <td>Spain</td>\n      <td>Female</td>\n      <td>41</td>\n      <td>1</td>\n      <td>83807.86</td>\n      <td>1</td>\n      <td>0</td>\n      <td>1</td>\n      <td>112542.58</td>\n      <td>0</td>\n    </tr>\n    <tr>\n      <th>2</th>\n      <td>502</td>\n      <td>France</td>\n      <td>Female</td>\n      <td>42</td>\n      <td>8</td>\n      <td>159660.80</td>\n      <td>3</td>\n      <td>1</td>\n      <td>0</td>\n      <td>113931.57</td>\n      <td>1</td>\n    </tr>\n    <tr>\n      <th>3</th>\n      <td>699</td>\n      <td>France</td>\n      <td>Female</td>\n      <td>39</td>\n      <td>1</td>\n      <td>0.00</td>\n      <td>2</td>\n      <td>0</td>\n      <td>0</td>\n      <td>93826.63</td>\n      <td>0</td>\n    </tr>\n    <tr>\n      <th>4</th>\n      <td>850</td>\n      <td>Spain</td>\n      <td>Female</td>\n      <td>43</td>\n      <td>2</td>\n      <td>125510.82</td>\n      <td>1</td>\n      <td>1</td>\n      <td>1</td>\n      <td>79084.10</td>\n      <td>0</td>\n    </tr>\n  </tbody>\n</table>\n</div>"
     },
     "metadata": {}
    }
   ]
  },
  {
   "metadata": {
    "trusted": true
   },
   "cell_type": "code",
   "source": "#Encode categorical features\ndf = pd.get_dummies(df, drop_first=True)\n\n#Standardizing features\nscaler = StandardScaler()\nnumeric = ['CreditScore', 'Age', 'Balance', 'EstimatedSalary']\nscaler.fit(df[numeric])\ndf[numeric] = scaler.transform(df[numeric])",
   "execution_count": 38,
   "outputs": []
  },
  {
   "metadata": {
    "trusted": true
   },
   "cell_type": "code",
   "source": "df",
   "execution_count": 39,
   "outputs": [
    {
     "output_type": "execute_result",
     "execution_count": 39,
     "data": {
      "text/plain": "      CreditScore       Age  Tenure   Balance  NumOfProducts  HasCrCard  \\\n0       -0.326221  0.293517       2 -1.225848              1          1   \n1       -0.440036  0.198164       1  0.117350              1          0   \n2       -1.536794  0.293517       8  1.333053              3          1   \n3        0.501521  0.007457       1 -1.225848              2          0   \n4        2.063884  0.388871       2  0.785728              1          1   \n...           ...       ...     ...       ...            ...        ...   \n9995     1.246488  0.007457       5 -1.225848              2          1   \n9996    -1.391939 -0.373958      10 -0.306379              1          1   \n9997     0.604988 -0.278604       7 -1.225848              1          0   \n9998     1.256835  0.293517       3 -0.022608              2          1   \n9999     1.463771 -1.041433       4  0.859965              1          1   \n\n      IsActiveMember  EstimatedSalary  Exited  Geography_Germany  \\\n0                  1         0.021886       1                  0   \n1                  1         0.216534       0                  0   \n2                  0         0.240687       1                  0   \n3                  0        -0.108918       0                  0   \n4                  1        -0.365276       0                  0   \n...              ...              ...     ...                ...   \n9995               0        -0.066419       0                  0   \n9996               1         0.027988       0                  0   \n9997               1        -1.008643       1                  0   \n9998               0        -0.125231       1                  1   \n9999               0        -1.076370       0                  0   \n\n      Geography_Spain  Gender_Male  \n0                   0            0  \n1                   1            0  \n2                   0            0  \n3                   0            0  \n4                   1            0  \n...               ...          ...  \n9995                0            1  \n9996                0            1  \n9997                0            0  \n9998                0            1  \n9999                0            0  \n\n[10000 rows x 12 columns]",
      "text/html": "<div>\n<style scoped>\n    .dataframe tbody tr th:only-of-type {\n        vertical-align: middle;\n    }\n\n    .dataframe tbody tr th {\n        vertical-align: top;\n    }\n\n    .dataframe thead th {\n        text-align: right;\n    }\n</style>\n<table border=\"1\" class=\"dataframe\">\n  <thead>\n    <tr style=\"text-align: right;\">\n      <th></th>\n      <th>CreditScore</th>\n      <th>Age</th>\n      <th>Tenure</th>\n      <th>Balance</th>\n      <th>NumOfProducts</th>\n      <th>HasCrCard</th>\n      <th>IsActiveMember</th>\n      <th>EstimatedSalary</th>\n      <th>Exited</th>\n      <th>Geography_Germany</th>\n      <th>Geography_Spain</th>\n      <th>Gender_Male</th>\n    </tr>\n  </thead>\n  <tbody>\n    <tr>\n      <th>0</th>\n      <td>-0.326221</td>\n      <td>0.293517</td>\n      <td>2</td>\n      <td>-1.225848</td>\n      <td>1</td>\n      <td>1</td>\n      <td>1</td>\n      <td>0.021886</td>\n      <td>1</td>\n      <td>0</td>\n      <td>0</td>\n      <td>0</td>\n    </tr>\n    <tr>\n      <th>1</th>\n      <td>-0.440036</td>\n      <td>0.198164</td>\n      <td>1</td>\n      <td>0.117350</td>\n      <td>1</td>\n      <td>0</td>\n      <td>1</td>\n      <td>0.216534</td>\n      <td>0</td>\n      <td>0</td>\n      <td>1</td>\n      <td>0</td>\n    </tr>\n    <tr>\n      <th>2</th>\n      <td>-1.536794</td>\n      <td>0.293517</td>\n      <td>8</td>\n      <td>1.333053</td>\n      <td>3</td>\n      <td>1</td>\n      <td>0</td>\n      <td>0.240687</td>\n      <td>1</td>\n      <td>0</td>\n      <td>0</td>\n      <td>0</td>\n    </tr>\n    <tr>\n      <th>3</th>\n      <td>0.501521</td>\n      <td>0.007457</td>\n      <td>1</td>\n      <td>-1.225848</td>\n      <td>2</td>\n      <td>0</td>\n      <td>0</td>\n      <td>-0.108918</td>\n      <td>0</td>\n      <td>0</td>\n      <td>0</td>\n      <td>0</td>\n    </tr>\n    <tr>\n      <th>4</th>\n      <td>2.063884</td>\n      <td>0.388871</td>\n      <td>2</td>\n      <td>0.785728</td>\n      <td>1</td>\n      <td>1</td>\n      <td>1</td>\n      <td>-0.365276</td>\n      <td>0</td>\n      <td>0</td>\n      <td>1</td>\n      <td>0</td>\n    </tr>\n    <tr>\n      <th>...</th>\n      <td>...</td>\n      <td>...</td>\n      <td>...</td>\n      <td>...</td>\n      <td>...</td>\n      <td>...</td>\n      <td>...</td>\n      <td>...</td>\n      <td>...</td>\n      <td>...</td>\n      <td>...</td>\n      <td>...</td>\n    </tr>\n    <tr>\n      <th>9995</th>\n      <td>1.246488</td>\n      <td>0.007457</td>\n      <td>5</td>\n      <td>-1.225848</td>\n      <td>2</td>\n      <td>1</td>\n      <td>0</td>\n      <td>-0.066419</td>\n      <td>0</td>\n      <td>0</td>\n      <td>0</td>\n      <td>1</td>\n    </tr>\n    <tr>\n      <th>9996</th>\n      <td>-1.391939</td>\n      <td>-0.373958</td>\n      <td>10</td>\n      <td>-0.306379</td>\n      <td>1</td>\n      <td>1</td>\n      <td>1</td>\n      <td>0.027988</td>\n      <td>0</td>\n      <td>0</td>\n      <td>0</td>\n      <td>1</td>\n    </tr>\n    <tr>\n      <th>9997</th>\n      <td>0.604988</td>\n      <td>-0.278604</td>\n      <td>7</td>\n      <td>-1.225848</td>\n      <td>1</td>\n      <td>0</td>\n      <td>1</td>\n      <td>-1.008643</td>\n      <td>1</td>\n      <td>0</td>\n      <td>0</td>\n      <td>0</td>\n    </tr>\n    <tr>\n      <th>9998</th>\n      <td>1.256835</td>\n      <td>0.293517</td>\n      <td>3</td>\n      <td>-0.022608</td>\n      <td>2</td>\n      <td>1</td>\n      <td>0</td>\n      <td>-0.125231</td>\n      <td>1</td>\n      <td>1</td>\n      <td>0</td>\n      <td>1</td>\n    </tr>\n    <tr>\n      <th>9999</th>\n      <td>1.463771</td>\n      <td>-1.041433</td>\n      <td>4</td>\n      <td>0.859965</td>\n      <td>1</td>\n      <td>1</td>\n      <td>0</td>\n      <td>-1.076370</td>\n      <td>0</td>\n      <td>0</td>\n      <td>0</td>\n      <td>0</td>\n    </tr>\n  </tbody>\n</table>\n<p>10000 rows × 12 columns</p>\n</div>"
     },
     "metadata": {}
    }
   ]
  },
  {
   "metadata": {
    "trusted": true
   },
   "cell_type": "code",
   "source": "#Splitting our dataset into training, validating and test sets\nX = df.drop(['Exited'], axis=1)\ny = df['Exited']\n\nX_train, X_valid, y_train, y_valid = train_test_split(X, y, train_size=0.6, test_size=0.4, random_state=12345)\nX_test, X_valid, y_test, y_valid = train_test_split(X_valid, y_valid, test_size=0.5, random_state=12345)\n\nprint('Training set size:', X_train.shape[0])\nprint('Validating set size:', X_valid.shape[0])\nprint('Test set size:',X_test.shape[0])",
   "execution_count": 40,
   "outputs": [
    {
     "output_type": "stream",
     "text": "Training set size: 6000\nValidating set size: 2000\nTest set size: 2000\n",
     "name": "stdout"
    }
   ]
  },
  {
   "metadata": {},
   "cell_type": "markdown",
   "source": "# RandomForestClassifier model"
  },
  {
   "metadata": {
    "trusted": true
   },
   "cell_type": "code",
   "source": "model = RandomForestClassifier(random_state=12345)\nmodel.fit(X_train, y_train)\npredicted_valid = model.predict(X_valid)\naccuracy_valid = accuracy_score(predicted_valid, y_valid)\nprint('Accuracy is:', accuracy_valid)\nprint('F1_Score is:', f1_score(y_valid, predicted_valid))\nconfusion_matrix(y_valid, predicted_valid)",
   "execution_count": 41,
   "outputs": [
    {
     "output_type": "stream",
     "text": "Accuracy is: 0.8455\nF1_Score is: 0.5282442748091603\n",
     "name": "stdout"
    },
    {
     "output_type": "execute_result",
     "execution_count": 41,
     "data": {
      "text/plain": "array([[1518,   59],\n       [ 250,  173]])"
     },
     "metadata": {}
    }
   ]
  },
  {
   "metadata": {},
   "cell_type": "markdown",
   "source": "# LogisticRegression model"
  },
  {
   "metadata": {
    "trusted": true
   },
   "cell_type": "code",
   "source": "model = LogisticRegression(random_state=12345, solver='liblinear')\nmodel.fit(X_train, y_train)\npredicted_valid = model.predict(X_valid)\naccuracy_valid = accuracy_score(predicted_valid, y_valid)\nprint('Accuracy is:', accuracy_valid)\nprint('F1_Score is:', f1_score(y_valid, predicted_valid))\n\nconfusion_matrix(y_valid, predicted_valid)",
   "execution_count": 42,
   "outputs": [
    {
     "output_type": "stream",
     "text": "Accuracy is: 0.7915\nF1_Score is: 0.2772963604852686\n",
     "name": "stdout"
    },
    {
     "output_type": "execute_result",
     "execution_count": 42,
     "data": {
      "text/plain": "array([[1503,   74],\n       [ 343,   80]])"
     },
     "metadata": {}
    }
   ]
  },
  {
   "metadata": {},
   "cell_type": "markdown",
   "source": "#### RandomForestClassifier shows best results, let's use it for our prediction."
  },
  {
   "metadata": {
    "trusted": true
   },
   "cell_type": "code",
   "source": "#let's use \"loop\" for find the best parameters for our RandomForestClassifier to get best accuracy and F1_score\nfor depth,estimator in itertools.product(range(1,30,10), range(1,151,50)):\n    model = RandomForestClassifier(random_state=12345, max_depth=depth, n_estimators=estimator, class_weight='balanced')\n    model.fit(X_train, y_train)\n    predictions = model.predict(X_valid)\n    score = accuracy_score(predictions, y_valid)\n    fscore = f1_score(y_valid, predictions)\n    print('Depth: {: >5.0f}       |   Estimators: {:>5.0f}'.format(depth, estimator))\n    print('Accuracy: {: >5.4f}   |   F1_Score: {: >5.4f}'.format(score,fscore))\n    print('------------------------------------------------------')",
   "execution_count": 43,
   "outputs": [
    {
     "output_type": "stream",
     "text": "Depth:     1       |   Estimators:     1\nAccuracy: 0.8095   |   F1_Score: 0.2177\n------------------------------------------------------\nDepth:     1       |   Estimators:    51\nAccuracy: 0.7355   |   F1_Score: 0.5187\n------------------------------------------------------\nDepth:     1       |   Estimators:   101\nAccuracy: 0.7385   |   F1_Score: 0.5232\n------------------------------------------------------\nDepth:    11       |   Estimators:     1\nAccuracy: 0.7455   |   F1_Score: 0.5317\n------------------------------------------------------\nDepth:    11       |   Estimators:    51\nAccuracy: 0.8390   |   F1_Score: 0.5985\n------------------------------------------------------\nDepth:    11       |   Estimators:   101\nAccuracy: 0.8410   |   F1_Score: 0.5985\n------------------------------------------------------\nDepth:    21       |   Estimators:     1\nAccuracy: 0.7445   |   F1_Score: 0.4120\n------------------------------------------------------\nDepth:    21       |   Estimators:    51\nAccuracy: 0.8455   |   F1_Score: 0.5268\n------------------------------------------------------\nDepth:    21       |   Estimators:   101\nAccuracy: 0.8445   |   F1_Score: 0.5178\n------------------------------------------------------\n",
     "name": "stdout"
    }
   ]
  },
  {
   "metadata": {},
   "cell_type": "markdown",
   "source": "<b>Well it looks like with max_depth = 11 and n_estimators = 101 we got f1_score 0.5985 and accuracy score 0.8410, let's try to improve our model</b>"
  },
  {
   "metadata": {
    "trusted": true
   },
   "cell_type": "code",
   "source": "#Let's try to increase our training sets\n\ndef upsampling(features, target, repeat):\n    X_zeros = X_train[y_train == 0]\n    X_ones = X_train[y_train == 1]\n    y_zeros = y_train[y_train == 0]\n    y_ones = y_train[y_train == 1]\n\n    X_upsampled = pd.concat([X_zeros] + [X_ones] * repeat)\n    y_upsampled = pd.concat([y_zeros] + [y_ones] * repeat)\n    \n    X_upsampled, y_upsampled = shuffle(X_upsampled, y_upsampled, random_state=12345)\n    \n    return X_upsampled, y_upsampled\n\n\nfor repeat in range(1,10,1):\n    X_upsampled, y_upsampled = upsampling(X_train, y_train, repeat)\n\n    model = RandomForestClassifier(random_state=12345)\n    model.fit(X_upsampled, y_upsampled)\n    predictions = model.predict(X_valid)\n    print(\"F1_Score: {: >5.3f}  |   Repeats : {: >5.0f}\".format(f1_score(y_valid, predictions),repeat))",
   "execution_count": 44,
   "outputs": [
    {
     "output_type": "stream",
     "text": "F1_Score: 0.532  |   Repeats :     1\nF1_Score: 0.583  |   Repeats :     2\nF1_Score: 0.594  |   Repeats :     3\nF1_Score: 0.588  |   Repeats :     4\nF1_Score: 0.585  |   Repeats :     5\nF1_Score: 0.589  |   Repeats :     6\nF1_Score: 0.591  |   Repeats :     7\nF1_Score: 0.578  |   Repeats :     8\nF1_Score: 0.584  |   Repeats :     9\n",
     "name": "stdout"
    }
   ]
  },
  {
   "metadata": {
    "trusted": true
   },
   "cell_type": "code",
   "source": "#Let's try to decrease our training set\n\ndef downsampling(X, y, fraction):\n    X_zeros = X[y == 0]\n    X_ones = X[y == 1]\n    y_zeros = y[y == 0]\n    y_ones = y[y == 1]\n\n    X_downsampled = pd.concat(\n        [X_zeros.sample(frac=fraction, random_state=12345)] + [X_ones])\n    y_downsampled = pd.concat(\n        [y_zeros.sample(frac=fraction, random_state=12345)] + [y_ones])\n    \n    X_downsampled, y_downsampled = shuffle(\n        X_downsampled, y_downsampled, random_state=12345)\n    \n    return X_downsampled, y_downsampled\n\nfor i in np.arange(0.03, 0.31, 0.03):\n    X_downsampled, y_downsampled = downsampling(X_train, y_train, i)\n    model = RandomForestClassifier(random_state=12345)\n    model.fit(X_downsampled, y_downsampled)\n    predictions = model.predict(X_valid)\n    print(\"F1_Score: {: >5.3f}  |  Fractions : {: >5.3f}\".format(f1_score(y_valid, predictions), i))",
   "execution_count": 45,
   "outputs": [
    {
     "output_type": "stream",
     "text": "F1_Score: 0.373  |  Fractions : 0.030\nF1_Score: 0.429  |  Fractions : 0.060\nF1_Score: 0.479  |  Fractions : 0.090\nF1_Score: 0.514  |  Fractions : 0.120\nF1_Score: 0.542  |  Fractions : 0.150\nF1_Score: 0.553  |  Fractions : 0.180\nF1_Score: 0.561  |  Fractions : 0.210\nF1_Score: 0.572  |  Fractions : 0.240\nF1_Score: 0.583  |  Fractions : 0.270\nF1_Score: 0.587  |  Fractions : 0.300\n",
     "name": "stdout"
    }
   ]
  },
  {
   "metadata": {},
   "cell_type": "markdown",
   "source": "Well, we didn't improve our model with increasing or decreasing training sets. so let's use parameters that we found in previous loop cycle."
  },
  {
   "metadata": {},
   "cell_type": "markdown",
   "source": "# Testing our model"
  },
  {
   "metadata": {
    "trusted": true
   },
   "cell_type": "code",
   "source": "# Let's use best parameters for our test set\nmodel = RandomForestClassifier(n_estimators = 101, max_depth=11, class_weight='balanced', random_state=12345)\nmodel.fit(X_train, y_train)\npredicted_valid = model.predict(X_test)\n\naccuracy_valid = accuracy_score(predicted_valid, y_test)\nprint('Accuracy is:', accuracy_valid)\nprint('F1_Score is:', f1_score(y_test, predicted_valid))\nprint('Precission is: {:.3f}'.format(precision_score(y_test, predicted_valid)))\nprint('Recall is: {:.3f}'.format(recall_score(y_test, predicted_valid)))",
   "execution_count": 46,
   "outputs": [
    {
     "output_type": "stream",
     "text": "Accuracy is: 0.847\nF1_Score is: 0.6165413533834587\nPrecission is: 0.647\nRecall is: 0.589\n",
     "name": "stdout"
    }
   ]
  },
  {
   "metadata": {
    "trusted": true
   },
   "cell_type": "code",
   "source": "#For better learning let's merge our train and valid sets.\nfinal_X = pd.concat([X_train]+[X_valid])\nfinal_y = pd.concat([y_train]+[y_valid])\n\nmodel = RandomForestClassifier(n_estimators = 101, max_depth=11, class_weight='balanced', random_state=12345)\nmodel.fit(final_X, final_y)\npredicted_valid = model.predict(X_test)\n\naccuracy_valid = accuracy_score(predicted_valid, y_test)\nprint('Accuracy is: {:.3f}'.format(accuracy_valid))\nprint('F1_Score is: {:.3f}'.format(f1_score(y_test, predicted_valid)))\nprint('Precission is: {:.3f}'.format(precision_score(y_test, predicted_valid)))\nprint('Recall is: {:.3f}'.format(recall_score(y_test, predicted_valid)))",
   "execution_count": 47,
   "outputs": [
    {
     "output_type": "stream",
     "text": "Accuracy is: 0.845\nF1_Score is: 0.625\nPrecission is: 0.630\nRecall is: 0.620\n",
     "name": "stdout"
    }
   ]
  },
  {
   "metadata": {
    "trusted": true
   },
   "cell_type": "code",
   "source": "#ROC AUC\ny_pred = model.predict_proba(X_test)[:,1]\nbc = BinaryClassification(y_test, y_pred, labels=[\"Class 1\"])\n\nplt.figure(figsize=(8,8))\nbc.plot_roc_curve()\nplt.show()\nprint('                       Roc Auc Score is: {:.3f}'.format(roc_auc_score(y_test, y_pred)))",
   "execution_count": 48,
   "outputs": [
    {
     "output_type": "display_data",
     "data": {
      "text/plain": "<Figure size 576x576 with 1 Axes>",
      "image/png": "[encoded data removed]"
     },
     "metadata": {}
    },
    {
     "output_type": "stream",
     "text": "                       Roc Auc Score is: 0.857\n",
     "name": "stdout"
    }
   ]
  },
  {
   "metadata": {},
   "cell_type": "markdown",
   "source": "### Conclusion:\n- We tried two models: RandomForestClassifier and LogisticRegression, at the initial stage LogisticRegression showed the worst results, so we chose RandomForestClassifier for further work.\n- With best parameters that we found we got f1_score: 0.625 and Accuracy score: 0.84. Well it looks like our model predicts well.\n"
  },
  {
   "metadata": {
    "trusted": true
   },
   "cell_type": "code",
   "source": "",
   "execution_count": null,
   "outputs": []
  }
 ],
 "metadata": {
  "kernelspec": {
   "name": "python3",
   "display_name": "Python 3",
   "language": "python"
  },
  "language_info": {
   "name": "python",
   "version": "3.7.6",
   "mimetype": "text/x-python",
   "codemirror_mode": {
    "name": "ipython",
    "version": 3
   },
   "pygments_lexer": "ipython3",
   "nbconvert_exporter": "python",
   "file_extension": ".py"
  }
 },
 "nbformat": 4,
 "nbformat_minor": 4
}
