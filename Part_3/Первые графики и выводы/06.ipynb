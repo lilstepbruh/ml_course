{
 "cells": [
  {
   "cell_type": "code",
   "id": "initial_id",
   "metadata": {
    "collapsed": true,
    "ExecuteTime": {
     "end_time": "2024-10-24T20:01:47.065984Z",
     "start_time": "2024-10-24T20:01:46.457222Z"
    }
   },
   "source": "import pandas as pd",
   "outputs": [],
   "execution_count": 1
  },
  {
   "metadata": {
    "ExecuteTime": {
     "end_time": "2024-10-24T20:01:59.710504Z",
     "start_time": "2024-10-24T20:01:59.616234Z"
    }
   },
   "cell_type": "code",
   "source": "%store -r df",
   "id": "29349d56802fc0ff",
   "outputs": [],
   "execution_count": 2
  },
  {
   "metadata": {
    "ExecuteTime": {
     "end_time": "2024-10-24T20:02:07.439774Z",
     "start_time": "2024-10-24T20:02:07.420788Z"
    }
   },
   "cell_type": "code",
   "source": "df.head()",
   "id": "52a69a44508a450b",
   "outputs": [
    {
     "data": {
      "text/plain": [
       "         date_time        id  time_spent     name\n",
       "0  20180406T165358  76144fb2        98.0  Василёк\n",
       "1  20180404T173913  76144fb2        15.0  Василёк\n",
       "2  20180403T172824  76144fb2       220.0  Василёк\n",
       "3  20180407T070441  76144fb2        19.0  Василёк\n",
       "4  20180404T132049  76144fb2        14.0  Василёк"
      ],
      "text/html": [
       "<div>\n",
       "<style scoped>\n",
       "    .dataframe tbody tr th:only-of-type {\n",
       "        vertical-align: middle;\n",
       "    }\n",
       "\n",
       "    .dataframe tbody tr th {\n",
       "        vertical-align: top;\n",
       "    }\n",
       "\n",
       "    .dataframe thead th {\n",
       "        text-align: right;\n",
       "    }\n",
       "</style>\n",
       "<table border=\"1\" class=\"dataframe\">\n",
       "  <thead>\n",
       "    <tr style=\"text-align: right;\">\n",
       "      <th></th>\n",
       "      <th>date_time</th>\n",
       "      <th>id</th>\n",
       "      <th>time_spent</th>\n",
       "      <th>name</th>\n",
       "    </tr>\n",
       "  </thead>\n",
       "  <tbody>\n",
       "    <tr>\n",
       "      <th>0</th>\n",
       "      <td>20180406T165358</td>\n",
       "      <td>76144fb2</td>\n",
       "      <td>98.0</td>\n",
       "      <td>Василёк</td>\n",
       "    </tr>\n",
       "    <tr>\n",
       "      <th>1</th>\n",
       "      <td>20180404T173913</td>\n",
       "      <td>76144fb2</td>\n",
       "      <td>15.0</td>\n",
       "      <td>Василёк</td>\n",
       "    </tr>\n",
       "    <tr>\n",
       "      <th>2</th>\n",
       "      <td>20180403T172824</td>\n",
       "      <td>76144fb2</td>\n",
       "      <td>220.0</td>\n",
       "      <td>Василёк</td>\n",
       "    </tr>\n",
       "    <tr>\n",
       "      <th>3</th>\n",
       "      <td>20180407T070441</td>\n",
       "      <td>76144fb2</td>\n",
       "      <td>19.0</td>\n",
       "      <td>Василёк</td>\n",
       "    </tr>\n",
       "    <tr>\n",
       "      <th>4</th>\n",
       "      <td>20180404T132049</td>\n",
       "      <td>76144fb2</td>\n",
       "      <td>14.0</td>\n",
       "      <td>Василёк</td>\n",
       "    </tr>\n",
       "  </tbody>\n",
       "</table>\n",
       "</div>"
      ]
     },
     "execution_count": 3,
     "metadata": {},
     "output_type": "execute_result"
    }
   ],
   "execution_count": 3
  },
  {
   "metadata": {
    "ExecuteTime": {
     "end_time": "2024-10-24T20:02:26.818042Z",
     "start_time": "2024-10-24T20:02:26.812077Z"
    }
   },
   "cell_type": "code",
   "source": "total_visits = len(df)",
   "id": "b50eba167fc0bfee",
   "outputs": [],
   "execution_count": 4
  },
  {
   "metadata": {
    "ExecuteTime": {
     "end_time": "2024-10-24T20:03:00.915281Z",
     "start_time": "2024-10-24T20:03:00.897136Z"
    }
   },
   "cell_type": "code",
   "source": "total_stations = df['id'].nunique()",
   "id": "443fb82a56e5ea9c",
   "outputs": [],
   "execution_count": 5
  },
  {
   "metadata": {
    "ExecuteTime": {
     "end_time": "2024-10-24T20:03:56.268425Z",
     "start_time": "2024-10-24T20:03:56.211857Z"
    }
   },
   "cell_type": "code",
   "source": "print(df['date_time'].min(), df['date_time'].max())",
   "id": "a4f3b6723feacae4",
   "outputs": [
    {
     "name": "stdout",
     "output_type": "stream",
     "text": [
      "20180402T000008 20180408T235957\n"
     ]
    }
   ],
   "execution_count": 6
  },
  {
   "metadata": {
    "ExecuteTime": {
     "end_time": "2024-10-24T20:05:12.854853Z",
     "start_time": "2024-10-24T20:05:11.653892Z"
    }
   },
   "cell_type": "code",
   "source": "df['date_time'] = pd.to_datetime(df['date_time'], format='%Y%m%dT%H%M%S')",
   "id": "82c9cef14d7580c5",
   "outputs": [],
   "execution_count": 7
  },
  {
   "metadata": {
    "ExecuteTime": {
     "end_time": "2024-10-24T20:05:21.981578Z",
     "start_time": "2024-10-24T20:05:21.971516Z"
    }
   },
   "cell_type": "code",
   "source": "df.head()",
   "id": "6fc80880ccf59412",
   "outputs": [
    {
     "data": {
      "text/plain": [
       "            date_time        id  time_spent     name\n",
       "0 2018-04-06 16:53:58  76144fb2        98.0  Василёк\n",
       "1 2018-04-04 17:39:13  76144fb2        15.0  Василёк\n",
       "2 2018-04-03 17:28:24  76144fb2       220.0  Василёк\n",
       "3 2018-04-07 07:04:41  76144fb2        19.0  Василёк\n",
       "4 2018-04-04 13:20:49  76144fb2        14.0  Василёк"
      ],
      "text/html": [
       "<div>\n",
       "<style scoped>\n",
       "    .dataframe tbody tr th:only-of-type {\n",
       "        vertical-align: middle;\n",
       "    }\n",
       "\n",
       "    .dataframe tbody tr th {\n",
       "        vertical-align: top;\n",
       "    }\n",
       "\n",
       "    .dataframe thead th {\n",
       "        text-align: right;\n",
       "    }\n",
       "</style>\n",
       "<table border=\"1\" class=\"dataframe\">\n",
       "  <thead>\n",
       "    <tr style=\"text-align: right;\">\n",
       "      <th></th>\n",
       "      <th>date_time</th>\n",
       "      <th>id</th>\n",
       "      <th>time_spent</th>\n",
       "      <th>name</th>\n",
       "    </tr>\n",
       "  </thead>\n",
       "  <tbody>\n",
       "    <tr>\n",
       "      <th>0</th>\n",
       "      <td>2018-04-06 16:53:58</td>\n",
       "      <td>76144fb2</td>\n",
       "      <td>98.0</td>\n",
       "      <td>Василёк</td>\n",
       "    </tr>\n",
       "    <tr>\n",
       "      <th>1</th>\n",
       "      <td>2018-04-04 17:39:13</td>\n",
       "      <td>76144fb2</td>\n",
       "      <td>15.0</td>\n",
       "      <td>Василёк</td>\n",
       "    </tr>\n",
       "    <tr>\n",
       "      <th>2</th>\n",
       "      <td>2018-04-03 17:28:24</td>\n",
       "      <td>76144fb2</td>\n",
       "      <td>220.0</td>\n",
       "      <td>Василёк</td>\n",
       "    </tr>\n",
       "    <tr>\n",
       "      <th>3</th>\n",
       "      <td>2018-04-07 07:04:41</td>\n",
       "      <td>76144fb2</td>\n",
       "      <td>19.0</td>\n",
       "      <td>Василёк</td>\n",
       "    </tr>\n",
       "    <tr>\n",
       "      <th>4</th>\n",
       "      <td>2018-04-04 13:20:49</td>\n",
       "      <td>76144fb2</td>\n",
       "      <td>14.0</td>\n",
       "      <td>Василёк</td>\n",
       "    </tr>\n",
       "  </tbody>\n",
       "</table>\n",
       "</div>"
      ]
     },
     "execution_count": 8,
     "metadata": {},
     "output_type": "execute_result"
    }
   ],
   "execution_count": 8
  },
  {
   "metadata": {
    "ExecuteTime": {
     "end_time": "2024-10-24T20:06:53.122802Z",
     "start_time": "2024-10-24T20:06:53.115973Z"
    }
   },
   "cell_type": "code",
   "source": "total_days = df['date_time'].max().day - df['date_time'].min().day + 1",
   "id": "3545b01b356075a0",
   "outputs": [],
   "execution_count": 12
  },
  {
   "metadata": {
    "ExecuteTime": {
     "end_time": "2024-10-24T20:10:04.540114Z",
     "start_time": "2024-10-24T20:10:04.535731Z"
    }
   },
   "cell_type": "code",
   "source": "station_visits_per_day = total_visits/(total_days*total_stations)",
   "id": "16e72da990acc276",
   "outputs": [],
   "execution_count": 15
  },
  {
   "metadata": {
    "ExecuteTime": {
     "end_time": "2024-10-24T20:12:08.797924Z",
     "start_time": "2024-10-24T20:12:08.769017Z"
    }
   },
   "cell_type": "code",
   "source": "df['name'].value_counts()",
   "id": "9e17d0273ba8276",
   "outputs": [
    {
     "data": {
      "text/plain": [
       "name\n",
       "Календула      85648\n",
       "Василёк        79006\n",
       "Георгина       34356\n",
       "Немезия        20138\n",
       "Колокольчик    18835\n",
       "Мальва         17386\n",
       "Гейхера        14125\n",
       "Доротеантус     6312\n",
       "Нарцисс         3640\n",
       "Амарант         3221\n",
       "Тюльпан         2968\n",
       "Лаватера        2655\n",
       "Арктотис        2558\n",
       "Малопа          2339\n",
       "Левкой          2326\n",
       "Роза            2199\n",
       "Люпин           1964\n",
       "Ромашка         1749\n",
       "Бархатцы        1525\n",
       "Агератум        1470\n",
       "Пион            1282\n",
       "Вероника        1237\n",
       "Вербена         1145\n",
       "Аммобиум        1144\n",
       "Фасоль          1114\n",
       "Лобулярия        984\n",
       "Бегония          618\n",
       "Космос           590\n",
       "Ирис             552\n",
       "Бальзамин        535\n",
       "Астильба         489\n",
       "Гвоздика         416\n",
       "Настурция        392\n",
       "Незабудка        367\n",
       "Гелихризум       339\n",
       "Хризантема       310\n",
       "Подснежник       290\n",
       "Белоцветник      232\n",
       "Функия           190\n",
       "Гацания          162\n",
       "Диморфотека      118\n",
       "Петуния           73\n",
       "Крокус            63\n",
       "Годеция           24\n",
       "Обриета           18\n",
       "Name: count, dtype: int64"
      ]
     },
     "execution_count": 16,
     "metadata": {},
     "output_type": "execute_result"
    }
   ],
   "execution_count": 16
  }
 ],
 "metadata": {
  "kernelspec": {
   "display_name": "Python 3",
   "language": "python",
   "name": "python3"
  },
  "language_info": {
   "codemirror_mode": {
    "name": "ipython",
    "version": 2
   },
   "file_extension": ".py",
   "mimetype": "text/x-python",
   "name": "python",
   "nbconvert_exporter": "python",
   "pygments_lexer": "ipython2",
   "version": "2.7.6"
  }
 },
 "nbformat": 4,
 "nbformat_minor": 5
}
