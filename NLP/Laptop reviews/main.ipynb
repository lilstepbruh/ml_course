{
 "cells": [
  {
   "cell_type": "code",
   "id": "initial_id",
   "metadata": {
    "collapsed": true,
    "ExecuteTime": {
     "end_time": "2025-03-30T19:48:38.691875Z",
     "start_time": "2025-03-30T19:48:38.051928Z"
    }
   },
   "source": [
    "import math\n",
    "\n",
    "import pandas as pd\n",
    "import re\n",
    "import spacy\n",
    "from sklearn.model_selection import train_test_split\n",
    "from sklearn.feature_extraction.text import TfidfVectorizer\n",
    "from sklearn.linear_model import LogisticRegression\n",
    "from sklearn.metrics import (classification_report, accuracy_score,\n",
    "                             confusion_matrix, roc_auc_score, ConfusionMatrixDisplay)\n",
    "import xgboost as xgb\n",
    "import catboost as cb\n",
    "import matplotlib.pyplot as plt"
   ],
   "outputs": [],
   "execution_count": 101
  },
  {
   "metadata": {
    "ExecuteTime": {
     "end_time": "2025-03-30T18:21:45.866907Z",
     "start_time": "2025-03-30T18:21:45.798682Z"
    }
   },
   "cell_type": "code",
   "source": "df = pd.read_csv('/home/stepbruh/Рабочий стол/JetBrains Projects/DataspellProjects/Datasets/laptops_dataset_final_600.csv')",
   "id": "a34503591de3e4c0",
   "outputs": [],
   "execution_count": 9
  },
  {
   "metadata": {
    "ExecuteTime": {
     "end_time": "2025-03-30T18:10:48.508559Z",
     "start_time": "2025-03-30T18:10:48.493287Z"
    }
   },
   "cell_type": "code",
   "source": "df.head()",
   "id": "dd9ed06dbf035734",
   "outputs": [
    {
     "data": {
      "text/plain": [
       "                                        product_name  overall_rating  \\\n",
       "0  Apple MacBook AIR Apple M2 - (8 GB/256 GB SSD/...             4.7   \n",
       "1  Apple MacBook AIR Apple M2 - (8 GB/256 GB SSD/...             4.7   \n",
       "2  Apple MacBook AIR Apple M2 - (8 GB/256 GB SSD/...             4.7   \n",
       "3  Apple MacBook AIR Apple M2 - (8 GB/256 GB SSD/...             4.7   \n",
       "4  Apple MacBook AIR Apple M2 - (8 GB/256 GB SSD/...             4.7   \n",
       "\n",
       "  no_ratings no_reviews  rating             title  \\\n",
       "0     15,210        900       5  Perfect product!   \n",
       "1     15,210        900       5         Fabulous!   \n",
       "2     15,210        900       5         Fabulous!   \n",
       "3     15,210        900       4        Delightful   \n",
       "4     15,210        900       5           Awesome   \n",
       "\n",
       "                                              review  \n",
       "0  Loved it, it's my first MacBook that I earned ...  \n",
       "1  Battery lasted longer than my first relationsh...  \n",
       "2  Such a great deal.. very happy with the perfor...  \n",
       "3  Awesome build quality and very good display, b...  \n",
       "4  When i ordered and came to know about seller r...  "
      ],
      "text/html": [
       "<div>\n",
       "<style scoped>\n",
       "    .dataframe tbody tr th:only-of-type {\n",
       "        vertical-align: middle;\n",
       "    }\n",
       "\n",
       "    .dataframe tbody tr th {\n",
       "        vertical-align: top;\n",
       "    }\n",
       "\n",
       "    .dataframe thead th {\n",
       "        text-align: right;\n",
       "    }\n",
       "</style>\n",
       "<table border=\"1\" class=\"dataframe\">\n",
       "  <thead>\n",
       "    <tr style=\"text-align: right;\">\n",
       "      <th></th>\n",
       "      <th>product_name</th>\n",
       "      <th>overall_rating</th>\n",
       "      <th>no_ratings</th>\n",
       "      <th>no_reviews</th>\n",
       "      <th>rating</th>\n",
       "      <th>title</th>\n",
       "      <th>review</th>\n",
       "    </tr>\n",
       "  </thead>\n",
       "  <tbody>\n",
       "    <tr>\n",
       "      <th>0</th>\n",
       "      <td>Apple MacBook AIR Apple M2 - (8 GB/256 GB SSD/...</td>\n",
       "      <td>4.7</td>\n",
       "      <td>15,210</td>\n",
       "      <td>900</td>\n",
       "      <td>5</td>\n",
       "      <td>Perfect product!</td>\n",
       "      <td>Loved it, it's my first MacBook that I earned ...</td>\n",
       "    </tr>\n",
       "    <tr>\n",
       "      <th>1</th>\n",
       "      <td>Apple MacBook AIR Apple M2 - (8 GB/256 GB SSD/...</td>\n",
       "      <td>4.7</td>\n",
       "      <td>15,210</td>\n",
       "      <td>900</td>\n",
       "      <td>5</td>\n",
       "      <td>Fabulous!</td>\n",
       "      <td>Battery lasted longer than my first relationsh...</td>\n",
       "    </tr>\n",
       "    <tr>\n",
       "      <th>2</th>\n",
       "      <td>Apple MacBook AIR Apple M2 - (8 GB/256 GB SSD/...</td>\n",
       "      <td>4.7</td>\n",
       "      <td>15,210</td>\n",
       "      <td>900</td>\n",
       "      <td>5</td>\n",
       "      <td>Fabulous!</td>\n",
       "      <td>Such a great deal.. very happy with the perfor...</td>\n",
       "    </tr>\n",
       "    <tr>\n",
       "      <th>3</th>\n",
       "      <td>Apple MacBook AIR Apple M2 - (8 GB/256 GB SSD/...</td>\n",
       "      <td>4.7</td>\n",
       "      <td>15,210</td>\n",
       "      <td>900</td>\n",
       "      <td>4</td>\n",
       "      <td>Delightful</td>\n",
       "      <td>Awesome build quality and very good display, b...</td>\n",
       "    </tr>\n",
       "    <tr>\n",
       "      <th>4</th>\n",
       "      <td>Apple MacBook AIR Apple M2 - (8 GB/256 GB SSD/...</td>\n",
       "      <td>4.7</td>\n",
       "      <td>15,210</td>\n",
       "      <td>900</td>\n",
       "      <td>5</td>\n",
       "      <td>Awesome</td>\n",
       "      <td>When i ordered and came to know about seller r...</td>\n",
       "    </tr>\n",
       "  </tbody>\n",
       "</table>\n",
       "</div>"
      ]
     },
     "execution_count": 3,
     "metadata": {},
     "output_type": "execute_result"
    }
   ],
   "execution_count": 3
  },
  {
   "metadata": {
    "ExecuteTime": {
     "end_time": "2025-03-30T18:15:32.497854Z",
     "start_time": "2025-03-30T18:15:32.481177Z"
    }
   },
   "cell_type": "code",
   "source": "df.info()",
   "id": "190a1661622ce048",
   "outputs": [
    {
     "name": "stdout",
     "output_type": "stream",
     "text": [
      "<class 'pandas.core.frame.DataFrame'>\n",
      "RangeIndex: 24113 entries, 0 to 24112\n",
      "Data columns (total 7 columns):\n",
      " #   Column          Non-Null Count  Dtype  \n",
      "---  ------          --------------  -----  \n",
      " 0   product_name    24113 non-null  object \n",
      " 1   overall_rating  24113 non-null  float64\n",
      " 2   no_ratings      24113 non-null  object \n",
      " 3   no_reviews      24113 non-null  object \n",
      " 4   rating          24113 non-null  int64  \n",
      " 5   title           24113 non-null  object \n",
      " 6   review          24113 non-null  object \n",
      "dtypes: float64(1), int64(1), object(5)\n",
      "memory usage: 1.3+ MB\n"
     ]
    }
   ],
   "execution_count": 4
  },
  {
   "metadata": {
    "ExecuteTime": {
     "end_time": "2025-03-30T18:16:13.083718Z",
     "start_time": "2025-03-30T18:16:13.076796Z"
    }
   },
   "cell_type": "code",
   "source": "df['rating'].value_counts()",
   "id": "f873ba8ca6ba4fcc",
   "outputs": [
    {
     "data": {
      "text/plain": [
       "rating\n",
       "5    13972\n",
       "4     5629\n",
       "3     2035\n",
       "1     1809\n",
       "2      668\n",
       "Name: count, dtype: int64"
      ]
     },
     "execution_count": 6,
     "metadata": {},
     "output_type": "execute_result"
    }
   ],
   "execution_count": 6
  },
  {
   "metadata": {
    "ExecuteTime": {
     "end_time": "2025-03-30T18:17:09.275725Z",
     "start_time": "2025-03-30T18:17:09.267245Z"
    }
   },
   "cell_type": "code",
   "source": "df.loc[:,['title','review']]",
   "id": "bc0d105122d45cf4",
   "outputs": [
    {
     "data": {
      "text/plain": [
       "                               title  \\\n",
       "0                   Perfect product!   \n",
       "1                          Fabulous!   \n",
       "2                          Fabulous!   \n",
       "3                         Delightful   \n",
       "4                            Awesome   \n",
       "...                              ...   \n",
       "24108               Perfect product!   \n",
       "24109               Perfect product!   \n",
       "24110  Good product, Lacks features.   \n",
       "24111                           Nice   \n",
       "24112                      Very Good   \n",
       "\n",
       "                                                  review  \n",
       "0      Loved it, it's my first MacBook that I earned ...  \n",
       "1      Battery lasted longer than my first relationsh...  \n",
       "2      Such a great deal.. very happy with the perfor...  \n",
       "3      Awesome build quality and very good display, b...  \n",
       "4      When i ordered and came to know about seller r...  \n",
       "...                                                  ...  \n",
       "24108  MSI Laptop is high performance and the best. c...  \n",
       "24109                 Excellent performance best laptop.  \n",
       "24110  Decent battery life. Exceptional build quality...  \n",
       "24111  The product does not support facial recognitio...  \n",
       "24112  DISPLAY IS A LET DOWN. But the lenovo Pen work...  \n",
       "\n",
       "[24113 rows x 2 columns]"
      ],
      "text/html": [
       "<div>\n",
       "<style scoped>\n",
       "    .dataframe tbody tr th:only-of-type {\n",
       "        vertical-align: middle;\n",
       "    }\n",
       "\n",
       "    .dataframe tbody tr th {\n",
       "        vertical-align: top;\n",
       "    }\n",
       "\n",
       "    .dataframe thead th {\n",
       "        text-align: right;\n",
       "    }\n",
       "</style>\n",
       "<table border=\"1\" class=\"dataframe\">\n",
       "  <thead>\n",
       "    <tr style=\"text-align: right;\">\n",
       "      <th></th>\n",
       "      <th>title</th>\n",
       "      <th>review</th>\n",
       "    </tr>\n",
       "  </thead>\n",
       "  <tbody>\n",
       "    <tr>\n",
       "      <th>0</th>\n",
       "      <td>Perfect product!</td>\n",
       "      <td>Loved it, it's my first MacBook that I earned ...</td>\n",
       "    </tr>\n",
       "    <tr>\n",
       "      <th>1</th>\n",
       "      <td>Fabulous!</td>\n",
       "      <td>Battery lasted longer than my first relationsh...</td>\n",
       "    </tr>\n",
       "    <tr>\n",
       "      <th>2</th>\n",
       "      <td>Fabulous!</td>\n",
       "      <td>Such a great deal.. very happy with the perfor...</td>\n",
       "    </tr>\n",
       "    <tr>\n",
       "      <th>3</th>\n",
       "      <td>Delightful</td>\n",
       "      <td>Awesome build quality and very good display, b...</td>\n",
       "    </tr>\n",
       "    <tr>\n",
       "      <th>4</th>\n",
       "      <td>Awesome</td>\n",
       "      <td>When i ordered and came to know about seller r...</td>\n",
       "    </tr>\n",
       "    <tr>\n",
       "      <th>...</th>\n",
       "      <td>...</td>\n",
       "      <td>...</td>\n",
       "    </tr>\n",
       "    <tr>\n",
       "      <th>24108</th>\n",
       "      <td>Perfect product!</td>\n",
       "      <td>MSI Laptop is high performance and the best. c...</td>\n",
       "    </tr>\n",
       "    <tr>\n",
       "      <th>24109</th>\n",
       "      <td>Perfect product!</td>\n",
       "      <td>Excellent performance best laptop.</td>\n",
       "    </tr>\n",
       "    <tr>\n",
       "      <th>24110</th>\n",
       "      <td>Good product, Lacks features.</td>\n",
       "      <td>Decent battery life. Exceptional build quality...</td>\n",
       "    </tr>\n",
       "    <tr>\n",
       "      <th>24111</th>\n",
       "      <td>Nice</td>\n",
       "      <td>The product does not support facial recognitio...</td>\n",
       "    </tr>\n",
       "    <tr>\n",
       "      <th>24112</th>\n",
       "      <td>Very Good</td>\n",
       "      <td>DISPLAY IS A LET DOWN. But the lenovo Pen work...</td>\n",
       "    </tr>\n",
       "  </tbody>\n",
       "</table>\n",
       "<p>24113 rows × 2 columns</p>\n",
       "</div>"
      ]
     },
     "execution_count": 7,
     "metadata": {},
     "output_type": "execute_result"
    }
   ],
   "execution_count": 7
  },
  {
   "metadata": {
    "ExecuteTime": {
     "end_time": "2025-03-30T18:24:56.227424Z",
     "start_time": "2025-03-30T18:24:56.219846Z"
    }
   },
   "cell_type": "code",
   "source": "df.drop(df[df['rating'] == 3].index, axis=0, inplace=True)",
   "id": "e04caba2b65f6717",
   "outputs": [],
   "execution_count": 15
  },
  {
   "metadata": {
    "ExecuteTime": {
     "end_time": "2025-03-30T18:25:21.727877Z",
     "start_time": "2025-03-30T18:25:21.718441Z"
    }
   },
   "cell_type": "code",
   "source": "df['sentiment'] = df['rating'].apply(lambda x: 1 if x in [4,5] else 0 )",
   "id": "2fa294e6623927e4",
   "outputs": [],
   "execution_count": 16
  },
  {
   "metadata": {
    "ExecuteTime": {
     "end_time": "2025-03-30T19:38:31.566557Z",
     "start_time": "2025-03-30T19:38:31.552440Z"
    }
   },
   "cell_type": "code",
   "source": "df['full_text'] = df['title'] + ' ' + df['review']",
   "id": "9a82688034a6d792",
   "outputs": [],
   "execution_count": 87
  },
  {
   "metadata": {},
   "cell_type": "code",
   "outputs": [],
   "execution_count": null,
   "source": "nlp = spacy.load('en_core_web_sm')",
   "id": "a4dfceb09d521b3f"
  },
  {
   "metadata": {
    "ExecuteTime": {
     "end_time": "2025-03-30T19:40:20.460879Z",
     "start_time": "2025-03-30T19:40:20.456746Z"
    }
   },
   "cell_type": "code",
   "source": [
    "def lower_replace_punctuation(text: str):\n",
    "    return ' '.join(re.sub('[^a-zA-Z]',' ',text.lower()).split())"
   ],
   "id": "fff45a596ebd856d",
   "outputs": [],
   "execution_count": 89
  },
  {
   "metadata": {
    "ExecuteTime": {
     "end_time": "2025-03-30T19:39:46.897403Z",
     "start_time": "2025-03-30T19:39:46.894168Z"
    }
   },
   "cell_type": "code",
   "source": [
    "def preprocess_spacy(text: str):\n",
    "    doc = nlp(text)\n",
    "    lemmas = [\n",
    "        token.lemma_.lower() for token in doc\n",
    "        if token.is_alpha and not token.is_stop and not token.is_punct\n",
    "    ]\n",
    "    return ' '.join(lemmas)"
   ],
   "id": "310bc867a761c5ec",
   "outputs": [],
   "execution_count": 88
  },
  {
   "metadata": {
    "ExecuteTime": {
     "end_time": "2025-03-30T19:42:22.628317Z",
     "start_time": "2025-03-30T19:40:28.644427Z"
    }
   },
   "cell_type": "code",
   "source": [
    "df['clean_basic'] = df['full_text'].apply(lambda x: lower_replace_punctuation(x))\n",
    "df['processed_text'] = df['clean_basic'].apply(preprocess_spacy)"
   ],
   "id": "2528c8ebaa0a0fc8",
   "outputs": [],
   "execution_count": 90
  },
  {
   "metadata": {
    "ExecuteTime": {
     "end_time": "2025-03-30T19:42:28.049605Z",
     "start_time": "2025-03-30T19:42:28.038835Z"
    }
   },
   "cell_type": "code",
   "source": "print(df[['full_text', 'processed_text']].head())",
   "id": "d18ceff7fbfa9285",
   "outputs": [
    {
     "name": "stdout",
     "output_type": "stream",
     "text": [
      "                                           full_text  \\\n",
      "0  Perfect product! Loved it, it's my first MacBo...   \n",
      "1  Fabulous! Battery lasted longer than my first ...   \n",
      "2  Fabulous! Such a great deal.. very happy with ...   \n",
      "3  Delightful Awesome build quality and very good...   \n",
      "4  Awesome When i ordered and came to know about ...   \n",
      "\n",
      "                                      processed_text  \n",
      "0       perfect product love s macbook earn hardwork  \n",
      "1  fabulous battery last long relationship day li...  \n",
      "2  fabulous great deal happy performance battery ...  \n",
      "3  delightful awesome build quality good display ...  \n",
      "4  awesome order come know seller review scared c...  \n"
     ]
    }
   ],
   "execution_count": 91
  },
  {
   "metadata": {
    "ExecuteTime": {
     "end_time": "2025-03-30T19:43:36.180178Z",
     "start_time": "2025-03-30T19:43:36.177382Z"
    }
   },
   "cell_type": "code",
   "source": [
    "X = df['processed_text']\n",
    "y = df['sentiment']"
   ],
   "id": "d701466f79cc17ff",
   "outputs": [],
   "execution_count": 93
  },
  {
   "metadata": {
    "ExecuteTime": {
     "end_time": "2025-03-30T19:43:37.272208Z",
     "start_time": "2025-03-30T19:43:37.258052Z"
    }
   },
   "cell_type": "code",
   "source": [
    "X_train, X_test, y_train, y_test = train_test_split(\n",
    "    X, y,\n",
    "    test_size=0.2,\n",
    "    random_state=42,\n",
    "    stratify=y\n",
    ")"
   ],
   "id": "af892680061dd094",
   "outputs": [],
   "execution_count": 94
  },
  {
   "metadata": {
    "ExecuteTime": {
     "end_time": "2025-03-30T19:43:49.683975Z",
     "start_time": "2025-03-30T19:43:49.678706Z"
    }
   },
   "cell_type": "code",
   "source": [
    "print(\"\\nРазмеры выборок:\")\n",
    "print(f\"Обучающая: {X_train.shape[0]} объектов\")\n",
    "print(f\"Тестовая:  {X_test.shape[0]} объектов\")"
   ],
   "id": "5f70034a8af9774a",
   "outputs": [
    {
     "name": "stdout",
     "output_type": "stream",
     "text": [
      "\n",
      "Размеры выборок:\n",
      "Обучающая: 17662 объектов\n",
      "Тестовая:  4416 объектов\n"
     ]
    }
   ],
   "execution_count": 95
  },
  {
   "metadata": {
    "ExecuteTime": {
     "end_time": "2025-03-30T19:45:01.254607Z",
     "start_time": "2025-03-30T19:45:01.252057Z"
    }
   },
   "cell_type": "code",
   "source": [
    "vectorizer = TfidfVectorizer(\n",
    "    max_features=10000,\n",
    "    ngram_range=(1, 2)\n",
    ")"
   ],
   "id": "bd51ef52d5429bbe",
   "outputs": [],
   "execution_count": 97
  },
  {
   "metadata": {
    "ExecuteTime": {
     "end_time": "2025-03-30T19:45:13.679689Z",
     "start_time": "2025-03-30T19:45:13.221951Z"
    }
   },
   "cell_type": "code",
   "source": [
    "X_train_tfidf = vectorizer.fit_transform(X_train)\n",
    "X_test_tfidf = vectorizer.transform(X_test)"
   ],
   "id": "da48109dcbee24d9",
   "outputs": [],
   "execution_count": 98
  },
  {
   "metadata": {
    "ExecuteTime": {
     "end_time": "2025-03-30T19:45:29.810535Z",
     "start_time": "2025-03-30T19:45:29.807638Z"
    }
   },
   "cell_type": "code",
   "source": [
    "print(\"\\nРазмеры TF-IDF матриц:\")\n",
    "print(f\"Обучающая: {X_train_tfidf.shape}\")\n",
    "print(f\"Тестовая:  {X_test_tfidf.shape}\")"
   ],
   "id": "3cdbb47e1cec23d1",
   "outputs": [
    {
     "name": "stdout",
     "output_type": "stream",
     "text": [
      "\n",
      "Размеры TF-IDF матриц:\n",
      "Обучающая: (17662, 10000)\n",
      "Тестовая:  (4416, 10000)\n"
     ]
    }
   ],
   "execution_count": 99
  },
  {
   "metadata": {
    "ExecuteTime": {
     "end_time": "2025-03-30T19:48:42.453862Z",
     "start_time": "2025-03-30T19:48:42.344575Z"
    }
   },
   "cell_type": "code",
   "source": [
    "logreg = LogisticRegression(max_iter=1000, random_state=42)\n",
    "logreg.fit(X_train_tfidf, y_train)\n",
    "y_pred_logreg = logreg.predict(X_test_tfidf)\n",
    "y_pred_proba_logreg = logreg.predict_proba(X_test_tfidf)[:, 1]\n",
    "print(\"\\nОтчет по классификации (Logistic Regression):\")\n",
    "print(classification_report(y_test, y_pred_logreg))"
   ],
   "id": "331f95f30a88e6b5",
   "outputs": [
    {
     "name": "stdout",
     "output_type": "stream",
     "text": [
      "\n",
      "Отчет по классификации (Logistic Regression):\n",
      "              precision    recall  f1-score   support\n",
      "\n",
      "           0       0.98      0.89      0.94       495\n",
      "           1       0.99      1.00      0.99      3921\n",
      "\n",
      "    accuracy                           0.99      4416\n",
      "   macro avg       0.99      0.94      0.96      4416\n",
      "weighted avg       0.99      0.99      0.99      4416\n",
      "\n"
     ]
    }
   ],
   "execution_count": 102
  },
  {
   "metadata": {
    "ExecuteTime": {
     "end_time": "2025-03-30T19:50:52.308741Z",
     "start_time": "2025-03-30T19:50:52.196008Z"
    }
   },
   "cell_type": "code",
   "source": [
    "accuracy_logreg = accuracy_score(y_test, y_pred_logreg)\n",
    "roc_auc_logreg = roc_auc_score(y_test, y_pred_proba_logreg)\n",
    "print(f\"Accuracy (Logistic Regression): {accuracy_logreg:.4f}\")\n",
    "print(f\"ROC AUC Score (Logistic Regression): {roc_auc_logreg:.4f}\")\n",
    "\n",
    "disp = ConfusionMatrixDisplay(confusion_matrix=cm_logreg, display_labels=logreg.classes_)\n",
    "disp.plot(cmap=plt.cm.Blues)\n",
    "plt.title(\"Confusion Matrix - Logistic Regression\")\n",
    "plt.show()"
   ],
   "id": "16cc936a29c5b860",
   "outputs": [
    {
     "name": "stdout",
     "output_type": "stream",
     "text": [
      "Accuracy (Logistic Regression): 0.9862\n",
      "ROC AUC Score (Logistic Regression): 0.9921\n"
     ]
    },
    {
     "data": {
      "text/plain": [
       "<Figure size 640x480 with 2 Axes>"
      ],
      "image/png": "[encoded data removed]"
     },
     "metadata": {},
     "output_type": "display_data"
    }
   ],
   "execution_count": 106
  },
  {
   "metadata": {},
   "cell_type": "markdown",
   "source": "# XGB",
   "id": "616b7db9be125cdd"
  },
  {
   "metadata": {
    "ExecuteTime": {
     "end_time": "2025-03-30T19:55:24.449188Z",
     "start_time": "2025-03-30T19:55:22.489335Z"
    }
   },
   "cell_type": "code",
   "source": [
    "xgb_clf = xgb.XGBClassifier(objective='binary:logistic',\n",
    "                            eval_metric='logloss',\n",
    "                            use_label_encoder=False,\n",
    "                            random_state=42)\n",
    "xgb_clf.fit(X_train_tfidf, y_train)\n",
    "y_pred_xgb = xgb_clf.predict(X_test_tfidf)\n",
    "y_pred_proba_xgb = xgb_clf.predict_proba(X_test_tfidf)[:, 1]\n",
    "print(\"\\nОтчет по классификации (XGBoost):\")\n",
    "print(classification_report(y_test, y_pred_xgb))\n",
    "\n",
    "accuracy_xgb = accuracy_score(y_test, y_pred_xgb)\n",
    "roc_auc_xgb = roc_auc_score(y_test, y_pred_proba_xgb)\n",
    "print(f\"Accuracy (XGBoost): {accuracy_xgb:.4f}\")\n",
    "print(f\"ROC AUC Score (XGBoost): {roc_auc_xgb:.4f}\")\n",
    "print(\"\\nМатрица ошибок (XGBoost):\")\n",
    "cm_xgb = confusion_matrix(y_test, y_pred_xgb)\n",
    "print(cm_xgb)\n",
    "disp = ConfusionMatrixDisplay(confusion_matrix=cm_xgb, display_labels=xgb_clf.classes_)\n",
    "disp.plot(cmap=plt.cm.Blues)\n",
    "plt.title(\"Confusion Matrix - XGBoost\")\n",
    "plt.show()"
   ],
   "id": "ca08fd961c5be1aa",
   "outputs": [
    {
     "name": "stderr",
     "output_type": "stream",
     "text": [
      "/home/stepbruh/anaconda3/lib/python3.12/site-packages/xgboost/core.py:158: UserWarning: [22:55:22] WARNING: /croot/xgboost-split_1724073744422/work/src/learner.cc:740: \n",
      "Parameters: { \"use_label_encoder\" } are not used.\n",
      "\n",
      "  warnings.warn(smsg, UserWarning)\n"
     ]
    },
    {
     "name": "stdout",
     "output_type": "stream",
     "text": [
      "\n",
      "Отчет по классификации (XGBoost):\n",
      "              precision    recall  f1-score   support\n",
      "\n",
      "           0       0.98      0.95      0.96       495\n",
      "           1       0.99      1.00      1.00      3921\n",
      "\n",
      "    accuracy                           0.99      4416\n",
      "   macro avg       0.99      0.97      0.98      4416\n",
      "weighted avg       0.99      0.99      0.99      4416\n",
      "\n",
      "Accuracy (XGBoost): 0.9918\n",
      "ROC AUC Score (XGBoost): 0.9964\n",
      "\n",
      "Матрица ошибок (XGBoost):\n",
      "[[ 468   27]\n",
      " [   9 3912]]\n"
     ]
    },
    {
     "data": {
      "text/plain": [
       "<Figure size 640x480 with 2 Axes>"
      ],
      "image/png": "[encoded data removed]"
     },
     "metadata": {},
     "output_type": "display_data"
    }
   ],
   "execution_count": 108
  }
 ],
 "metadata": {
  "kernelspec": {
   "display_name": "Python 3",
   "language": "python",
   "name": "python3"
  },
  "language_info": {
   "codemirror_mode": {
    "name": "ipython",
    "version": 2
   },
   "file_extension": ".py",
   "mimetype": "text/x-python",
   "name": "python",
   "nbconvert_exporter": "python",
   "pygments_lexer": "ipython2",
   "version": "2.7.6"
  }
 },
 "nbformat": 4,
 "nbformat_minor": 5
}
