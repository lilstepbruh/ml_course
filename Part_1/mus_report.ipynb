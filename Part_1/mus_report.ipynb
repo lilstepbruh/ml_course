{
 "cells": [
  {
   "cell_type": "code",
   "id": "initial_id",
   "metadata": {
    "collapsed": true,
    "ExecuteTime": {
     "end_time": "2024-08-22T08:39:15.117865Z",
     "start_time": "2024-08-22T08:39:13.218083Z"
    }
   },
   "source": "import pandas as pd",
   "outputs": [],
   "execution_count": 1
  },
  {
   "metadata": {
    "ExecuteTime": {
     "end_time": "2024-08-22T08:39:15.411389Z",
     "start_time": "2024-08-22T08:39:15.132868Z"
    }
   },
   "cell_type": "code",
   "source": "df = pd.read_csv(r'C:\\Users\\andre\\Рабочий стол\\Практикум\\Специалист по Data Science Плюс. Часть 1\\[SLIV.ONE] 03 Базовый Python\\[SLIV.ONE] 11 Анализ данных и оформление результатов\\music_log_upd.csv')",
   "id": "f07949b778dd73e2",
   "outputs": [],
   "execution_count": 2
  },
  {
   "metadata": {
    "ExecuteTime": {
     "end_time": "2024-08-22T08:39:15.559854Z",
     "start_time": "2024-08-22T08:39:15.415366Z"
    }
   },
   "cell_type": "code",
   "source": "df_research = df.groupby('user_id')['total_play_seconds'].sum()\n",
   "id": "5372b26a3fbf7e12",
   "outputs": [],
   "execution_count": 3
  },
  {
   "metadata": {
    "ExecuteTime": {
     "end_time": "2024-08-22T08:39:15.584398Z",
     "start_time": "2024-08-22T08:39:15.562876Z"
    }
   },
   "cell_type": "code",
   "source": [
    "df_med = df_research.median()\n",
    "df_med_before = 57.456\n",
    "df_med"
   ],
   "id": "8ab2d6e86514229f",
   "outputs": [
    {
     "data": {
      "text/plain": [
       "62.344431"
      ]
     },
     "execution_count": 4,
     "metadata": {},
     "output_type": "execute_result"
    }
   ],
   "execution_count": 4
  },
  {
   "metadata": {
    "ExecuteTime": {
     "end_time": "2024-08-22T08:39:15.620993Z",
     "start_time": "2024-08-22T08:39:15.589357Z"
    }
   },
   "cell_type": "code",
   "source": [
    "columns = ['metrics ', 'before_test ', 'after_test ', 'absolute_difference']\n",
    "data = [['engagement ', df_med, df_med_before, df_med - df_med_before ]]\n",
    "table_1 = pd.DataFrame(columns = columns, data = data)\n",
    "table_1"
   ],
   "id": "ae397856433b1dde",
   "outputs": [
    {
     "data": {
      "text/plain": [
       "      metrics   before_test   after_test   absolute_difference\n",
       "0  engagement      62.344431       57.456             4.888431"
      ],
      "text/html": [
       "<div>\n",
       "<style scoped>\n",
       "    .dataframe tbody tr th:only-of-type {\n",
       "        vertical-align: middle;\n",
       "    }\n",
       "\n",
       "    .dataframe tbody tr th {\n",
       "        vertical-align: top;\n",
       "    }\n",
       "\n",
       "    .dataframe thead th {\n",
       "        text-align: right;\n",
       "    }\n",
       "</style>\n",
       "<table border=\"1\" class=\"dataframe\">\n",
       "  <thead>\n",
       "    <tr style=\"text-align: right;\">\n",
       "      <th></th>\n",
       "      <th>metrics</th>\n",
       "      <th>before_test</th>\n",
       "      <th>after_test</th>\n",
       "      <th>absolute_difference</th>\n",
       "    </tr>\n",
       "  </thead>\n",
       "  <tbody>\n",
       "    <tr>\n",
       "      <th>0</th>\n",
       "      <td>engagement</td>\n",
       "      <td>62.344431</td>\n",
       "      <td>57.456</td>\n",
       "      <td>4.888431</td>\n",
       "    </tr>\n",
       "  </tbody>\n",
       "</table>\n",
       "</div>"
      ]
     },
     "execution_count": 5,
     "metadata": {},
     "output_type": "execute_result"
    }
   ],
   "execution_count": 5
  },
  {
   "metadata": {
    "ExecuteTime": {
     "end_time": "2024-08-22T08:39:15.656189Z",
     "start_time": "2024-08-22T08:39:15.626008Z"
    }
   },
   "cell_type": "code",
   "source": [
    "genre_rock = df[df['genre_name'] == 'rock']\n",
    "genre_rock = df[df['total_play_seconds'] > 0]\n",
    "genre_rock_max = genre_rock['total_play_seconds'].max()\n",
    "genre_rock_min = genre_rock['total_play_seconds'].min()\n",
    "print(f'Максимальное время прослушивания в жанре рок равно: {genre_rock_max}\\n'\n",
    "      f'Минимальное время прослушивания в жанре рок равно: {genre_rock_min}'\n",
    "      )\n"
   ],
   "id": "528ca7c316f753a1",
   "outputs": [
    {
     "name": "stdout",
     "output_type": "stream",
     "text": [
      "Максимальное время прослушивания в жанре рок равно: 4707.422018\n",
      "Минимальное время прослушивания в жанре рок равно: 0.000794\n"
     ]
    }
   ],
   "execution_count": 6
  }
 ],
 "metadata": {
  "kernelspec": {
   "display_name": "Python 3",
   "language": "python",
   "name": "python3"
  },
  "language_info": {
   "codemirror_mode": {
    "name": "ipython",
    "version": 2
   },
   "file_extension": ".py",
   "mimetype": "text/x-python",
   "name": "python",
   "nbconvert_exporter": "python",
   "pygments_lexer": "ipython2",
   "version": "2.7.6"
  }
 },
 "nbformat": 4,
 "nbformat_minor": 5
}
