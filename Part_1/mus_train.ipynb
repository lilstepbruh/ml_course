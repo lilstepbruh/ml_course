{
 "cells": [
  {
   "metadata": {
    "ExecuteTime": {
     "end_time": "2024-09-11T20:06:52.056822Z",
     "start_time": "2024-09-11T20:06:52.051743Z"
    }
   },
   "cell_type": "code",
   "source": "import pandas as pd",
   "id": "25211f3d7509e2c",
   "outputs": [],
   "execution_count": 1
  },
  {
   "cell_type": "code",
   "id": "initial_id",
   "metadata": {
    "collapsed": true,
    "ExecuteTime": {
     "end_time": "2024-09-11T20:06:52.246964Z",
     "start_time": "2024-09-11T20:06:52.058853Z"
    }
   },
   "source": [
    "music = pd.read_csv(r\"C:\\Users\\andre\\Рабочий стол\\Практикум\\Специалист по Data Science Плюс. Часть 1\\[SLIV.ONE] 03 Базовый Python\\[SLIV.ONE] 10 Предобработка данных\\music_log.csv\")\n",
    "\n",
    "display(music.head())"
   ],
   "outputs": [
    {
     "data": {
      "text/plain": [
       "    user_id  total play        Artist    genre                   track\n",
       "0  BF6EA5AF   92.851388    Marina Rei      pop                  Musica\n",
       "1  FB1E568E  282.981000  Stive Morgan  ambient             Love Planet\n",
       "2  FB1E568E  282.981000  Stive Morgan  ambient             Love Planet\n",
       "3  EF15C7BA    8.966000           NaN    dance     Loving Every Minute\n",
       "4  82F52E69  193.776327        Rixton      pop  Me And My Broken Heart"
      ],
      "text/html": [
       "<div>\n",
       "<style scoped>\n",
       "    .dataframe tbody tr th:only-of-type {\n",
       "        vertical-align: middle;\n",
       "    }\n",
       "\n",
       "    .dataframe tbody tr th {\n",
       "        vertical-align: top;\n",
       "    }\n",
       "\n",
       "    .dataframe thead th {\n",
       "        text-align: right;\n",
       "    }\n",
       "</style>\n",
       "<table border=\"1\" class=\"dataframe\">\n",
       "  <thead>\n",
       "    <tr style=\"text-align: right;\">\n",
       "      <th></th>\n",
       "      <th>user_id</th>\n",
       "      <th>total play</th>\n",
       "      <th>Artist</th>\n",
       "      <th>genre</th>\n",
       "      <th>track</th>\n",
       "    </tr>\n",
       "  </thead>\n",
       "  <tbody>\n",
       "    <tr>\n",
       "      <th>0</th>\n",
       "      <td>BF6EA5AF</td>\n",
       "      <td>92.851388</td>\n",
       "      <td>Marina Rei</td>\n",
       "      <td>pop</td>\n",
       "      <td>Musica</td>\n",
       "    </tr>\n",
       "    <tr>\n",
       "      <th>1</th>\n",
       "      <td>FB1E568E</td>\n",
       "      <td>282.981000</td>\n",
       "      <td>Stive Morgan</td>\n",
       "      <td>ambient</td>\n",
       "      <td>Love Planet</td>\n",
       "    </tr>\n",
       "    <tr>\n",
       "      <th>2</th>\n",
       "      <td>FB1E568E</td>\n",
       "      <td>282.981000</td>\n",
       "      <td>Stive Morgan</td>\n",
       "      <td>ambient</td>\n",
       "      <td>Love Planet</td>\n",
       "    </tr>\n",
       "    <tr>\n",
       "      <th>3</th>\n",
       "      <td>EF15C7BA</td>\n",
       "      <td>8.966000</td>\n",
       "      <td>NaN</td>\n",
       "      <td>dance</td>\n",
       "      <td>Loving Every Minute</td>\n",
       "    </tr>\n",
       "    <tr>\n",
       "      <th>4</th>\n",
       "      <td>82F52E69</td>\n",
       "      <td>193.776327</td>\n",
       "      <td>Rixton</td>\n",
       "      <td>pop</td>\n",
       "      <td>Me And My Broken Heart</td>\n",
       "    </tr>\n",
       "  </tbody>\n",
       "</table>\n",
       "</div>"
      ]
     },
     "metadata": {},
     "output_type": "display_data"
    }
   ],
   "execution_count": 2
  },
  {
   "metadata": {
    "ExecuteTime": {
     "end_time": "2024-08-21T20:55:18.877912Z",
     "start_time": "2024-08-21T20:55:18.858904Z"
    }
   },
   "cell_type": "code",
   "source": "music.info()",
   "id": "1f03f5e321b883bf",
   "outputs": [
    {
     "name": "stdout",
     "output_type": "stream",
     "text": [
      "<class 'pandas.core.frame.DataFrame'>\n",
      "RangeIndex: 67963 entries, 0 to 67962\n",
      "Data columns (total 5 columns):\n",
      " #   Column      Non-Null Count  Dtype  \n",
      "---  ------      --------------  -----  \n",
      " 0     user_id   67963 non-null  object \n",
      " 1   total play  67399 non-null  float64\n",
      " 2   Artist      59646 non-null  object \n",
      " 3   genre       64661 non-null  object \n",
      " 4   track       64804 non-null  object \n",
      "dtypes: float64(1), object(4)\n",
      "memory usage: 2.6+ MB\n"
     ]
    }
   ],
   "execution_count": 162
  },
  {
   "metadata": {
    "ExecuteTime": {
     "end_time": "2024-08-21T20:55:18.901967Z",
     "start_time": "2024-08-21T20:55:18.879928Z"
    }
   },
   "cell_type": "code",
   "source": [
    "music = music.rename(columns={'total play':'total_play','Artist':'artist', '  user_id':'user_id'})\n",
    "music.head(3)"
   ],
   "id": "147fae15f1711b36",
   "outputs": [
    {
     "data": {
      "text/plain": [
       "    user_id  total_play        artist    genre        track\n",
       "0  BF6EA5AF   92.851388    Marina Rei      pop       Musica\n",
       "1  FB1E568E  282.981000  Stive Morgan  ambient  Love Planet\n",
       "2  FB1E568E  282.981000  Stive Morgan  ambient  Love Planet"
      ],
      "text/html": [
       "<div>\n",
       "<style scoped>\n",
       "    .dataframe tbody tr th:only-of-type {\n",
       "        vertical-align: middle;\n",
       "    }\n",
       "\n",
       "    .dataframe tbody tr th {\n",
       "        vertical-align: top;\n",
       "    }\n",
       "\n",
       "    .dataframe thead th {\n",
       "        text-align: right;\n",
       "    }\n",
       "</style>\n",
       "<table border=\"1\" class=\"dataframe\">\n",
       "  <thead>\n",
       "    <tr style=\"text-align: right;\">\n",
       "      <th></th>\n",
       "      <th>user_id</th>\n",
       "      <th>total_play</th>\n",
       "      <th>artist</th>\n",
       "      <th>genre</th>\n",
       "      <th>track</th>\n",
       "    </tr>\n",
       "  </thead>\n",
       "  <tbody>\n",
       "    <tr>\n",
       "      <th>0</th>\n",
       "      <td>BF6EA5AF</td>\n",
       "      <td>92.851388</td>\n",
       "      <td>Marina Rei</td>\n",
       "      <td>pop</td>\n",
       "      <td>Musica</td>\n",
       "    </tr>\n",
       "    <tr>\n",
       "      <th>1</th>\n",
       "      <td>FB1E568E</td>\n",
       "      <td>282.981000</td>\n",
       "      <td>Stive Morgan</td>\n",
       "      <td>ambient</td>\n",
       "      <td>Love Planet</td>\n",
       "    </tr>\n",
       "    <tr>\n",
       "      <th>2</th>\n",
       "      <td>FB1E568E</td>\n",
       "      <td>282.981000</td>\n",
       "      <td>Stive Morgan</td>\n",
       "      <td>ambient</td>\n",
       "      <td>Love Planet</td>\n",
       "    </tr>\n",
       "  </tbody>\n",
       "</table>\n",
       "</div>"
      ]
     },
     "execution_count": 163,
     "metadata": {},
     "output_type": "execute_result"
    }
   ],
   "execution_count": 163
  },
  {
   "metadata": {
    "ExecuteTime": {
     "end_time": "2024-08-21T20:55:18.915464Z",
     "start_time": "2024-08-21T20:55:18.903998Z"
    }
   },
   "cell_type": "code",
   "source": [
    "def fill_gaps(dataframe, column_name, column_value):\n",
    "    dataframe[column_name] = dataframe[column_name].fillna(column_value)\n",
    "    \n",
    "def value_per_column(dataframe, column_name, column_value):\n",
    "    print(dataframe[music[column_name]==column_value][column_name].count())\n"
   ],
   "id": "439bcd1500ae3a10",
   "outputs": [],
   "execution_count": 164
  },
  {
   "metadata": {
    "ExecuteTime": {
     "end_time": "2024-08-21T20:55:18.953184Z",
     "start_time": "2024-08-21T20:55:18.919681Z"
    }
   },
   "cell_type": "code",
   "source": [
    "fill_gaps(music,'artist', 'unknown')\n",
    "fill_gaps(music,'track', 'unknown')\n",
    "music.head(100)"
   ],
   "id": "9181731cb0edd648",
   "outputs": [
    {
     "data": {
      "text/plain": [
       "     user_id  total_play        artist       genre                     track\n",
       "0   BF6EA5AF   92.851388    Marina Rei         pop                    Musica\n",
       "1   FB1E568E  282.981000  Stive Morgan     ambient               Love Planet\n",
       "2   FB1E568E  282.981000  Stive Morgan     ambient               Love Planet\n",
       "3   EF15C7BA    8.966000       unknown       dance       Loving Every Minute\n",
       "4   82F52E69  193.776327        Rixton         pop    Me And My Broken Heart\n",
       "..       ...         ...           ...         ...                       ...\n",
       "95   4B1EEB5  224.002000         Trst.  electronic             Throw Yo Body\n",
       "96  7F38A6F8   50.040000     D. Rogers         pop  When It’s Done It’s Done\n",
       "97  510D9BEE  213.004754  Tapani Kansa         pop    Anna Mun Jäädä Sun Luo\n",
       "98  A95CC18E   31.696000   Sofi Lapina         pop                   Gravity\n",
       "99  9224DF40  134.974000  Nino Nardini       world           La joie d'aimer\n",
       "\n",
       "[100 rows x 5 columns]"
      ],
      "text/html": [
       "<div>\n",
       "<style scoped>\n",
       "    .dataframe tbody tr th:only-of-type {\n",
       "        vertical-align: middle;\n",
       "    }\n",
       "\n",
       "    .dataframe tbody tr th {\n",
       "        vertical-align: top;\n",
       "    }\n",
       "\n",
       "    .dataframe thead th {\n",
       "        text-align: right;\n",
       "    }\n",
       "</style>\n",
       "<table border=\"1\" class=\"dataframe\">\n",
       "  <thead>\n",
       "    <tr style=\"text-align: right;\">\n",
       "      <th></th>\n",
       "      <th>user_id</th>\n",
       "      <th>total_play</th>\n",
       "      <th>artist</th>\n",
       "      <th>genre</th>\n",
       "      <th>track</th>\n",
       "    </tr>\n",
       "  </thead>\n",
       "  <tbody>\n",
       "    <tr>\n",
       "      <th>0</th>\n",
       "      <td>BF6EA5AF</td>\n",
       "      <td>92.851388</td>\n",
       "      <td>Marina Rei</td>\n",
       "      <td>pop</td>\n",
       "      <td>Musica</td>\n",
       "    </tr>\n",
       "    <tr>\n",
       "      <th>1</th>\n",
       "      <td>FB1E568E</td>\n",
       "      <td>282.981000</td>\n",
       "      <td>Stive Morgan</td>\n",
       "      <td>ambient</td>\n",
       "      <td>Love Planet</td>\n",
       "    </tr>\n",
       "    <tr>\n",
       "      <th>2</th>\n",
       "      <td>FB1E568E</td>\n",
       "      <td>282.981000</td>\n",
       "      <td>Stive Morgan</td>\n",
       "      <td>ambient</td>\n",
       "      <td>Love Planet</td>\n",
       "    </tr>\n",
       "    <tr>\n",
       "      <th>3</th>\n",
       "      <td>EF15C7BA</td>\n",
       "      <td>8.966000</td>\n",
       "      <td>unknown</td>\n",
       "      <td>dance</td>\n",
       "      <td>Loving Every Minute</td>\n",
       "    </tr>\n",
       "    <tr>\n",
       "      <th>4</th>\n",
       "      <td>82F52E69</td>\n",
       "      <td>193.776327</td>\n",
       "      <td>Rixton</td>\n",
       "      <td>pop</td>\n",
       "      <td>Me And My Broken Heart</td>\n",
       "    </tr>\n",
       "    <tr>\n",
       "      <th>...</th>\n",
       "      <td>...</td>\n",
       "      <td>...</td>\n",
       "      <td>...</td>\n",
       "      <td>...</td>\n",
       "      <td>...</td>\n",
       "    </tr>\n",
       "    <tr>\n",
       "      <th>95</th>\n",
       "      <td>4B1EEB5</td>\n",
       "      <td>224.002000</td>\n",
       "      <td>Trst.</td>\n",
       "      <td>electronic</td>\n",
       "      <td>Throw Yo Body</td>\n",
       "    </tr>\n",
       "    <tr>\n",
       "      <th>96</th>\n",
       "      <td>7F38A6F8</td>\n",
       "      <td>50.040000</td>\n",
       "      <td>D. Rogers</td>\n",
       "      <td>pop</td>\n",
       "      <td>When It’s Done It’s Done</td>\n",
       "    </tr>\n",
       "    <tr>\n",
       "      <th>97</th>\n",
       "      <td>510D9BEE</td>\n",
       "      <td>213.004754</td>\n",
       "      <td>Tapani Kansa</td>\n",
       "      <td>pop</td>\n",
       "      <td>Anna Mun Jäädä Sun Luo</td>\n",
       "    </tr>\n",
       "    <tr>\n",
       "      <th>98</th>\n",
       "      <td>A95CC18E</td>\n",
       "      <td>31.696000</td>\n",
       "      <td>Sofi Lapina</td>\n",
       "      <td>pop</td>\n",
       "      <td>Gravity</td>\n",
       "    </tr>\n",
       "    <tr>\n",
       "      <th>99</th>\n",
       "      <td>9224DF40</td>\n",
       "      <td>134.974000</td>\n",
       "      <td>Nino Nardini</td>\n",
       "      <td>world</td>\n",
       "      <td>La joie d'aimer</td>\n",
       "    </tr>\n",
       "  </tbody>\n",
       "</table>\n",
       "<p>100 rows × 5 columns</p>\n",
       "</div>"
      ]
     },
     "execution_count": 165,
     "metadata": {},
     "output_type": "execute_result"
    }
   ],
   "execution_count": 165
  },
  {
   "metadata": {
    "ExecuteTime": {
     "end_time": "2024-08-21T20:55:18.985773Z",
     "start_time": "2024-08-21T20:55:18.955199Z"
    }
   },
   "cell_type": "code",
   "source": [
    "music = music.dropna(subset=['genre'])\n",
    "music.info()"
   ],
   "id": "8c4496bcb97988ce",
   "outputs": [
    {
     "name": "stdout",
     "output_type": "stream",
     "text": [
      "<class 'pandas.core.frame.DataFrame'>\n",
      "Index: 64661 entries, 0 to 67961\n",
      "Data columns (total 5 columns):\n",
      " #   Column      Non-Null Count  Dtype  \n",
      "---  ------      --------------  -----  \n",
      " 0   user_id     64661 non-null  object \n",
      " 1   total_play  64661 non-null  float64\n",
      " 2   artist      64661 non-null  object \n",
      " 3   genre       64661 non-null  object \n",
      " 4   track       64661 non-null  object \n",
      "dtypes: float64(1), object(4)\n",
      "memory usage: 3.0+ MB\n"
     ]
    }
   ],
   "execution_count": 166
  },
  {
   "metadata": {
    "ExecuteTime": {
     "end_time": "2024-08-21T20:55:18.994481Z",
     "start_time": "2024-08-21T20:55:18.987787Z"
    }
   },
   "cell_type": "code",
   "source": [
    "shape_table = music.shape\n",
    "shape_table"
   ],
   "id": "77cf706b345d94bc",
   "outputs": [
    {
     "data": {
      "text/plain": [
       "(64661, 5)"
      ]
     },
     "execution_count": 167,
     "metadata": {},
     "output_type": "execute_result"
    }
   ],
   "execution_count": 167
  },
  {
   "metadata": {
    "ExecuteTime": {
     "end_time": "2024-08-21T20:55:19.067325Z",
     "start_time": "2024-08-21T20:55:18.996495Z"
    }
   },
   "cell_type": "code",
   "source": "music.duplicated().sum()",
   "id": "dbacd6c30c8b4d86",
   "outputs": [
    {
     "data": {
      "text/plain": [
       "3978"
      ]
     },
     "execution_count": 168,
     "metadata": {},
     "output_type": "execute_result"
    }
   ],
   "execution_count": 168
  },
  {
   "metadata": {
    "ExecuteTime": {
     "end_time": "2024-08-21T20:55:19.146792Z",
     "start_time": "2024-08-21T20:55:19.070352Z"
    }
   },
   "cell_type": "code",
   "source": "music = music.drop_duplicates().reset_index(drop=True)",
   "id": "8f6260a037223fda",
   "outputs": [],
   "execution_count": 169
  },
  {
   "metadata": {
    "ExecuteTime": {
     "end_time": "2024-08-21T20:55:19.231530Z",
     "start_time": "2024-08-21T20:55:19.224806Z"
    }
   },
   "cell_type": "code",
   "source": [
    "shape_table_update = music.shape\n",
    "shape_table_update"
   ],
   "id": "f51dec71782a233d",
   "outputs": [
    {
     "data": {
      "text/plain": [
       "(60683, 5)"
      ]
     },
     "execution_count": 170,
     "metadata": {},
     "output_type": "execute_result"
    }
   ],
   "execution_count": 170
  },
  {
   "metadata": {
    "ExecuteTime": {
     "end_time": "2024-08-21T20:55:19.526321Z",
     "start_time": "2024-08-21T20:55:19.516047Z"
    }
   },
   "cell_type": "code",
   "source": [
    "unique_genre = pd.Series(music.genre.unique())\n",
    "unique_genre"
   ],
   "id": "ee9ed4027e8a0626",
   "outputs": [
    {
     "data": {
      "text/plain": [
       "0               pop\n",
       "1           ambient\n",
       "2             dance\n",
       "3              jazz\n",
       "4      classicmetal\n",
       "           ...     \n",
       "299           djent\n",
       "300     independent\n",
       "301            şiir\n",
       "302      shoegazing\n",
       "303            rave\n",
       "Length: 304, dtype: object"
      ]
     },
     "execution_count": 171,
     "metadata": {},
     "output_type": "execute_result"
    }
   ],
   "execution_count": 171
  },
  {
   "metadata": {
    "ExecuteTime": {
     "end_time": "2024-08-21T20:55:19.615256Z",
     "start_time": "2024-08-21T20:55:19.585384Z"
    }
   },
   "cell_type": "code",
   "source": [
    "print(value_per_column(music, 'genre', 'электроника'))\n",
    "print(value_per_column(music, 'genre', 'electronic'))\n",
    "music['genre'] = music['genre'].replace('электроника', 'electronic')\n",
    "print(value_per_column(music, 'genre', 'электроника'))\n",
    "print(value_per_column(music, 'genre', 'electronic'))"
   ],
   "id": "8bb14b101bb66260",
   "outputs": [
    {
     "name": "stdout",
     "output_type": "stream",
     "text": [
      "2\n",
      "None\n",
      "5894\n",
      "None\n",
      "0\n",
      "None\n",
      "5896\n",
      "None\n"
     ]
    }
   ],
   "execution_count": 172
  },
  {
   "metadata": {
    "ExecuteTime": {
     "end_time": "2024-08-21T20:55:19.631455Z",
     "start_time": "2024-08-21T20:55:19.617267Z"
    }
   },
   "cell_type": "code",
   "source": [
    "rock = pd.DataFrame(music[music['genre'] == 'rock'])\n",
    "rock_time = rock['total_play']\n",
    "rock_haters = rock_time[rock_time < 5].count()\n",
    "print(f'Количество пропущенных треков жанра рок равно: {rock_haters}')"
   ],
   "id": "9a652ede91cf0cc5",
   "outputs": [
    {
     "name": "stdout",
     "output_type": "stream",
     "text": [
      "Количество пропущенных треков жанра рок равно: 2092\n"
     ]
    }
   ],
   "execution_count": 173
  },
  {
   "metadata": {
    "ExecuteTime": {
     "end_time": "2024-08-21T20:55:19.653519Z",
     "start_time": "2024-08-21T20:55:19.637468Z"
    }
   },
   "cell_type": "code",
   "source": [
    "pop = pd.DataFrame(music[music['genre'] == 'pop'])\n",
    "pop_time = pop['total_play']\n",
    "pop_haters = pop_time[pop_time < 5].count()\n",
    "print(f'Количество пропущенных треков жанра поп равно: {pop_haters}')"
   ],
   "id": "52b3e91322e29f5a",
   "outputs": [
    {
     "name": "stdout",
     "output_type": "stream",
     "text": [
      "Количество пропущенных треков жанра поп равно: 2721\n"
     ]
    }
   ],
   "execution_count": 174
  },
  {
   "metadata": {
    "ExecuteTime": {
     "end_time": "2024-08-21T20:55:19.728090Z",
     "start_time": "2024-08-21T20:55:19.719574Z"
    }
   },
   "cell_type": "code",
   "source": [
    "rock_skip = rock_haters/rock['artist'].count()\n",
    "pop_skip = pop_haters/pop['artist'].count()\n",
    "\n",
    "print(f'Доля пропущенных композиций жанра рок равна: {rock_skip:.5%} \\n '\n",
    "      f'Доля пропущенных композиций жанра поп равна: {pop_skip:.5%}')"
   ],
   "id": "1693e1ecd72dbbba",
   "outputs": [
    {
     "name": "stdout",
     "output_type": "stream",
     "text": [
      "Доля пропущенных композиций жанра рок равна: 32.90343% \n",
      " Доля пропущенных композиций жанра поп равна: 33.82225%\n"
     ]
    }
   ],
   "execution_count": 175
  },
  {
   "metadata": {
    "ExecuteTime": {
     "end_time": "2024-08-21T20:56:16.527910Z",
     "start_time": "2024-08-21T20:56:16.457208Z"
    }
   },
   "cell_type": "code",
   "source": [
    "genre_groping = music.groupby('user_id')['genre']\n",
    "genre_counting = genre_groping.count()\n",
    "genre_counting.head(30)"
   ],
   "id": "91ef2c922107f47a",
   "outputs": [
    {
     "data": {
      "text/plain": [
       "user_id\n",
       "100080DD    4\n",
       "1006CA56    1\n",
       "1006FCEA    1\n",
       "100CE9      4\n",
       "100DB5AA    1\n",
       "100EF65A    1\n",
       "10129A7A    3\n",
       "10189D10    1\n",
       "10190C72    1\n",
       "101AE353    1\n",
       "101BBC61    2\n",
       "101CE4E2    3\n",
       "101CF71A    1\n",
       "101FCD47    2\n",
       "10207505    1\n",
       "10207CE1    5\n",
       "10207E1F    1\n",
       "1022648D    1\n",
       "10270767    1\n",
       "1027DE43    4\n",
       "10292580    2\n",
       "10299B4F    1\n",
       "102A0499    1\n",
       "102A782D    2\n",
       "102AA0E9    2\n",
       "102ABCC4    1\n",
       "102AFB4F    1\n",
       "102B3B4C    1\n",
       "102F799B    1\n",
       "103047D3    1\n",
       "Name: genre, dtype: int64"
      ]
     },
     "execution_count": 179,
     "metadata": {},
     "output_type": "execute_result"
    }
   ],
   "execution_count": 179
  },
  {
   "metadata": {
    "ExecuteTime": {
     "end_time": "2024-08-21T21:08:02.326632Z",
     "start_time": "2024-08-21T21:08:02.321642Z"
    }
   },
   "cell_type": "code",
   "source": [
    "def user_genres(group):\n",
    "    for col in group:\n",
    "        if len(col[1])>50:\n",
    "            user = col[0]\n",
    "    return user"
   ],
   "id": "d3d8a2d5236e567c",
   "outputs": [],
   "execution_count": 180
  },
  {
   "metadata": {
    "ExecuteTime": {
     "end_time": "2024-08-21T21:14:28.870300Z",
     "start_time": "2024-08-21T21:14:28.271995Z"
    }
   },
   "cell_type": "code",
   "source": "search_id = user_genres(genre_groping)",
   "id": "923dddb314188ecf",
   "outputs": [],
   "execution_count": 186
  },
  {
   "metadata": {
    "ExecuteTime": {
     "end_time": "2024-08-21T21:15:50.134657Z",
     "start_time": "2024-08-21T21:15:50.122841Z"
    }
   },
   "cell_type": "code",
   "source": [
    "music_user = music[music['user_id']==search_id]\n",
    "music_user = music_user[music_user['total_play']>0]\n"
   ],
   "id": "7fd7c0d8b4991414",
   "outputs": [],
   "execution_count": 188
  },
  {
   "metadata": {
    "ExecuteTime": {
     "end_time": "2024-08-21T21:17:01.044589Z",
     "start_time": "2024-08-21T21:17:01.036114Z"
    }
   },
   "cell_type": "code",
   "source": [
    "sum_music_user = music_user.groupby(by='genre')['total_play'].sum()\n",
    "sum_music_user"
   ],
   "id": "b639e9f71ab88e1f",
   "outputs": [
    {
     "data": {
      "text/plain": [
       "genre\n",
       "alternative       56.345185\n",
       "beats              2.542456\n",
       "blues              3.406879\n",
       "classical          3.526920\n",
       "dance            104.891762\n",
       "deep              35.720919\n",
       "electronic       217.555503\n",
       "freestyle         35.619229\n",
       "holiday            6.529443\n",
       "house             11.391031\n",
       "indie              2.996371\n",
       "industrial         4.093653\n",
       "miscellaneous     11.566013\n",
       "pop               55.172319\n",
       "rock              35.517261\n",
       "salsa             14.893266\n",
       "world              3.518863\n",
       "Name: total_play, dtype: float64"
      ]
     },
     "execution_count": 191,
     "metadata": {},
     "output_type": "execute_result"
    }
   ],
   "execution_count": 191
  },
  {
   "metadata": {
    "ExecuteTime": {
     "end_time": "2024-08-21T21:20:00.733642Z",
     "start_time": "2024-08-21T21:20:00.724716Z"
    }
   },
   "cell_type": "code",
   "source": [
    "count_music_user = music_user.groupby(by='genre')['genre'].count()\n",
    "count_music_user"
   ],
   "id": "d16c1d70df84644",
   "outputs": [
    {
     "data": {
      "text/plain": [
       "genre\n",
       "alternative       5\n",
       "beats             1\n",
       "blues             1\n",
       "classical         1\n",
       "dance             8\n",
       "deep              1\n",
       "electronic       14\n",
       "freestyle         1\n",
       "holiday           1\n",
       "house             1\n",
       "indie             1\n",
       "industrial        1\n",
       "miscellaneous     1\n",
       "pop               4\n",
       "rock              3\n",
       "salsa             1\n",
       "world             1\n",
       "Name: genre, dtype: int64"
      ]
     },
     "execution_count": 195,
     "metadata": {},
     "output_type": "execute_result"
    }
   ],
   "execution_count": 195
  },
  {
   "metadata": {
    "ExecuteTime": {
     "end_time": "2024-08-21T21:23:14.698378Z",
     "start_time": "2024-08-21T21:23:14.692975Z"
    }
   },
   "cell_type": "code",
   "source": [
    "final_sum = sum_music_user.sort_values(ascending=False)\n",
    "final_count = count_music_user.sort_values(ascending=False)\n"
   ],
   "id": "22f3d8022eb6e0bb",
   "outputs": [],
   "execution_count": 203
  },
  {
   "metadata": {},
   "cell_type": "markdown",
   "source": "### Яндекс Музыка: описательная статистика",
   "id": "e75010b7abe0a5ff"
  },
  {
   "metadata": {
    "ExecuteTime": {
     "end_time": "2024-08-21T21:34:23.162481Z",
     "start_time": "2024-08-21T21:34:23.147880Z"
    }
   },
   "cell_type": "code",
   "source": [
    "pop_music = music[music['genre']=='pop']\n",
    "pop_music = pop_music[pop_music['total_play']>0]\n"
   ],
   "id": "7e6fbf7d129114b",
   "outputs": [],
   "execution_count": 210
  },
  {
   "metadata": {
    "ExecuteTime": {
     "end_time": "2024-08-21T21:38:47.351071Z",
     "start_time": "2024-08-21T21:38:47.331610Z"
    }
   },
   "cell_type": "code",
   "source": [
    "pop_music_max_total_play = pop_music['total_play'].max()\n",
    "pop_music_max_info = pop_music.max()\n",
    "pop_music_min_total_play = pop_music['total_play'].min()\n",
    "pop_music_min_info = pop_music.min()\n",
    "pop_music_median = pop_music['total_play'].median()\n",
    "pop_music_mean = pop_music['total_play'].mean()\n",
    "print(pop_music_max_total_play, \n",
    "      pop_music_min_total_play, \n",
    "      pop_music_median,\n",
    "      pop_music_mean)"
   ],
   "id": "2e34a5295c257768",
   "outputs": [
    {
     "name": "stdout",
     "output_type": "stream",
     "text": [
      "1158.0280450000016 0.000794 34.3730400486111 98.35391325838705\n"
     ]
    }
   ],
   "execution_count": 218
  }
 ],
 "metadata": {
  "kernelspec": {
   "display_name": "Python 3",
   "language": "python",
   "name": "python3"
  },
  "language_info": {
   "codemirror_mode": {
    "name": "ipython",
    "version": 2
   },
   "file_extension": ".py",
   "mimetype": "text/x-python",
   "name": "python",
   "nbconvert_exporter": "python",
   "pygments_lexer": "ipython2",
   "version": "2.7.6"
  }
 },
 "nbformat": 4,
 "nbformat_minor": 5
}
