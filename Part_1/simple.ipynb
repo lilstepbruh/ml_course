{
 "cells": [
  {
   "metadata": {
    "ExecuteTime": {
     "end_time": "2024-10-15T13:23:43.853156Z",
     "start_time": "2024-10-15T13:23:43.848149Z"
    }
   },
   "cell_type": "code",
   "source": [
    "# Import libraries\n",
    "import pandas as pd\n",
    "import matplotlib.pyplot as plt\n",
    "import numpy as np"
   ],
   "id": "7df9140457caed5e",
   "outputs": [],
   "execution_count": 32
  },
  {
   "metadata": {
    "ExecuteTime": {
     "end_time": "2024-10-15T12:51:39.529169Z",
     "start_time": "2024-10-15T12:51:39.391245Z"
    }
   },
   "cell_type": "code",
   "source": [
    "music = pd.read_csv(r\"C:\\Users\\andre\\Рабочий стол\\Практикум\\Специалист по Data Science Плюс. Часть 1\\03 Базовый Python\\10 Предобработка данных\\music_log.csv\")    \n",
    "\n",
    "music.head()"
   ],
   "id": "e65e58a1b7e04493",
   "outputs": [
    {
     "data": {
      "text/plain": [
       "    user_id  total play        Artist    genre                   track\n",
       "0  BF6EA5AF   92.851388    Marina Rei      pop                  Musica\n",
       "1  FB1E568E  282.981000  Stive Morgan  ambient             Love Planet\n",
       "2  FB1E568E  282.981000  Stive Morgan  ambient             Love Planet\n",
       "3  EF15C7BA    8.966000           NaN    dance     Loving Every Minute\n",
       "4  82F52E69  193.776327        Rixton      pop  Me And My Broken Heart"
      ],
      "text/html": [
       "<div>\n",
       "<style scoped>\n",
       "    .dataframe tbody tr th:only-of-type {\n",
       "        vertical-align: middle;\n",
       "    }\n",
       "\n",
       "    .dataframe tbody tr th {\n",
       "        vertical-align: top;\n",
       "    }\n",
       "\n",
       "    .dataframe thead th {\n",
       "        text-align: right;\n",
       "    }\n",
       "</style>\n",
       "<table border=\"1\" class=\"dataframe\">\n",
       "  <thead>\n",
       "    <tr style=\"text-align: right;\">\n",
       "      <th></th>\n",
       "      <th>user_id</th>\n",
       "      <th>total play</th>\n",
       "      <th>Artist</th>\n",
       "      <th>genre</th>\n",
       "      <th>track</th>\n",
       "    </tr>\n",
       "  </thead>\n",
       "  <tbody>\n",
       "    <tr>\n",
       "      <th>0</th>\n",
       "      <td>BF6EA5AF</td>\n",
       "      <td>92.851388</td>\n",
       "      <td>Marina Rei</td>\n",
       "      <td>pop</td>\n",
       "      <td>Musica</td>\n",
       "    </tr>\n",
       "    <tr>\n",
       "      <th>1</th>\n",
       "      <td>FB1E568E</td>\n",
       "      <td>282.981000</td>\n",
       "      <td>Stive Morgan</td>\n",
       "      <td>ambient</td>\n",
       "      <td>Love Planet</td>\n",
       "    </tr>\n",
       "    <tr>\n",
       "      <th>2</th>\n",
       "      <td>FB1E568E</td>\n",
       "      <td>282.981000</td>\n",
       "      <td>Stive Morgan</td>\n",
       "      <td>ambient</td>\n",
       "      <td>Love Planet</td>\n",
       "    </tr>\n",
       "    <tr>\n",
       "      <th>3</th>\n",
       "      <td>EF15C7BA</td>\n",
       "      <td>8.966000</td>\n",
       "      <td>NaN</td>\n",
       "      <td>dance</td>\n",
       "      <td>Loving Every Minute</td>\n",
       "    </tr>\n",
       "    <tr>\n",
       "      <th>4</th>\n",
       "      <td>82F52E69</td>\n",
       "      <td>193.776327</td>\n",
       "      <td>Rixton</td>\n",
       "      <td>pop</td>\n",
       "      <td>Me And My Broken Heart</td>\n",
       "    </tr>\n",
       "  </tbody>\n",
       "</table>\n",
       "</div>"
      ]
     },
     "execution_count": 6,
     "metadata": {},
     "output_type": "execute_result"
    }
   ],
   "execution_count": 6
  },
  {
   "metadata": {
    "ExecuteTime": {
     "end_time": "2024-08-17T06:38:56.463137Z",
     "start_time": "2024-08-17T06:38:56.450820Z"
    }
   },
   "cell_type": "code",
   "source": "music.dtypes",
   "id": "61d3e64064754876",
   "outputs": [
    {
     "data": {
      "text/plain": [
       "  user_id      object\n",
       "total play    float64\n",
       "Artist         object\n",
       "genre          object\n",
       "track          object\n",
       "dtype: object"
      ]
     },
     "execution_count": 3,
     "metadata": {},
     "output_type": "execute_result"
    }
   ],
   "execution_count": 3
  },
  {
   "metadata": {
    "ExecuteTime": {
     "end_time": "2024-08-17T06:38:56.488321Z",
     "start_time": "2024-08-17T06:38:56.466678Z"
    }
   },
   "cell_type": "code",
   "source": "music.info",
   "id": "625a2fd3a8374ecf",
   "outputs": [
    {
     "data": {
      "text/plain": [
       "<bound method DataFrame.info of         user_id  total play        Artist    genre                   track\n",
       "0      BF6EA5AF   92.851388    Marina Rei      pop                  Musica\n",
       "1      FB1E568E  282.981000  Stive Morgan  ambient             Love Planet\n",
       "2      FB1E568E  282.981000  Stive Morgan  ambient             Love Planet\n",
       "3      EF15C7BA    8.966000           NaN    dance     Loving Every Minute\n",
       "4      82F52E69  193.776327        Rixton      pop  Me And My Broken Heart\n",
       "...         ...         ...           ...      ...                     ...\n",
       "67958  2E27DF51  220.551837  Nadine Coyle      pop           Girls On Fire\n",
       "67959  4F29D4D5   26.127000  Digital Hero    dance               The Model\n",
       "67960  26B7058C  292.455000       Red God    metal               Действуй!\n",
       "67961  DB0038A8   11.529112  Less Chapell      pop                    Home\n",
       "67962  FE8684F6    0.100000           NaN      NaN                     NaN\n",
       "\n",
       "[67963 rows x 5 columns]>"
      ]
     },
     "execution_count": 4,
     "metadata": {},
     "output_type": "execute_result"
    }
   ],
   "execution_count": 4
  },
  {
   "metadata": {
    "ExecuteTime": {
     "end_time": "2024-08-17T06:38:56.521619Z",
     "start_time": "2024-08-17T06:38:56.493240Z"
    }
   },
   "cell_type": "code",
   "source": "music.loc[:10, 'Artist':'track']",
   "id": "5213364c80c71823",
   "outputs": [
    {
     "data": {
      "text/plain": [
       "                                    Artist         genre  \\\n",
       "0                               Marina Rei           pop   \n",
       "1                             Stive Morgan       ambient   \n",
       "2                             Stive Morgan       ambient   \n",
       "3                                      NaN         dance   \n",
       "4                                   Rixton           pop   \n",
       "5   Henry Hall & His Gleneagles Hotel Band          jazz   \n",
       "6                                      NaN  classicmetal   \n",
       "7                                      NaN    electronic   \n",
       "8                    Andrew Paul Woodworth           pop   \n",
       "9                             Pillar Point         indie   \n",
       "10                          Steve Campbell          jazz   \n",
       "\n",
       "                                   track  \n",
       "0                                 Musica  \n",
       "1                            Love Planet  \n",
       "2                            Love Planet  \n",
       "3                    Loving Every Minute  \n",
       "4                 Me And My Broken Heart  \n",
       "5                                   Home  \n",
       "6                                    NaN  \n",
       "7                                Riviera  \n",
       "8   The Name of This Next Song Is Called  \n",
       "9                                   Dove  \n",
       "10                           Morning Dew  "
      ],
      "text/html": [
       "<div>\n",
       "<style scoped>\n",
       "    .dataframe tbody tr th:only-of-type {\n",
       "        vertical-align: middle;\n",
       "    }\n",
       "\n",
       "    .dataframe tbody tr th {\n",
       "        vertical-align: top;\n",
       "    }\n",
       "\n",
       "    .dataframe thead th {\n",
       "        text-align: right;\n",
       "    }\n",
       "</style>\n",
       "<table border=\"1\" class=\"dataframe\">\n",
       "  <thead>\n",
       "    <tr style=\"text-align: right;\">\n",
       "      <th></th>\n",
       "      <th>Artist</th>\n",
       "      <th>genre</th>\n",
       "      <th>track</th>\n",
       "    </tr>\n",
       "  </thead>\n",
       "  <tbody>\n",
       "    <tr>\n",
       "      <th>0</th>\n",
       "      <td>Marina Rei</td>\n",
       "      <td>pop</td>\n",
       "      <td>Musica</td>\n",
       "    </tr>\n",
       "    <tr>\n",
       "      <th>1</th>\n",
       "      <td>Stive Morgan</td>\n",
       "      <td>ambient</td>\n",
       "      <td>Love Planet</td>\n",
       "    </tr>\n",
       "    <tr>\n",
       "      <th>2</th>\n",
       "      <td>Stive Morgan</td>\n",
       "      <td>ambient</td>\n",
       "      <td>Love Planet</td>\n",
       "    </tr>\n",
       "    <tr>\n",
       "      <th>3</th>\n",
       "      <td>NaN</td>\n",
       "      <td>dance</td>\n",
       "      <td>Loving Every Minute</td>\n",
       "    </tr>\n",
       "    <tr>\n",
       "      <th>4</th>\n",
       "      <td>Rixton</td>\n",
       "      <td>pop</td>\n",
       "      <td>Me And My Broken Heart</td>\n",
       "    </tr>\n",
       "    <tr>\n",
       "      <th>5</th>\n",
       "      <td>Henry Hall &amp; His Gleneagles Hotel Band</td>\n",
       "      <td>jazz</td>\n",
       "      <td>Home</td>\n",
       "    </tr>\n",
       "    <tr>\n",
       "      <th>6</th>\n",
       "      <td>NaN</td>\n",
       "      <td>classicmetal</td>\n",
       "      <td>NaN</td>\n",
       "    </tr>\n",
       "    <tr>\n",
       "      <th>7</th>\n",
       "      <td>NaN</td>\n",
       "      <td>electronic</td>\n",
       "      <td>Riviera</td>\n",
       "    </tr>\n",
       "    <tr>\n",
       "      <th>8</th>\n",
       "      <td>Andrew Paul Woodworth</td>\n",
       "      <td>pop</td>\n",
       "      <td>The Name of This Next Song Is Called</td>\n",
       "    </tr>\n",
       "    <tr>\n",
       "      <th>9</th>\n",
       "      <td>Pillar Point</td>\n",
       "      <td>indie</td>\n",
       "      <td>Dove</td>\n",
       "    </tr>\n",
       "    <tr>\n",
       "      <th>10</th>\n",
       "      <td>Steve Campbell</td>\n",
       "      <td>jazz</td>\n",
       "      <td>Morning Dew</td>\n",
       "    </tr>\n",
       "  </tbody>\n",
       "</table>\n",
       "</div>"
      ]
     },
     "execution_count": 5,
     "metadata": {},
     "output_type": "execute_result"
    }
   ],
   "execution_count": 5
  },
  {
   "metadata": {
    "ExecuteTime": {
     "end_time": "2024-08-17T06:38:56.551907Z",
     "start_time": "2024-08-17T06:38:56.528912Z"
    }
   },
   "cell_type": "code",
   "source": "music.loc[:,['Artist', 'genre']]",
   "id": "d50cae7a9a29bfd1",
   "outputs": [
    {
     "data": {
      "text/plain": [
       "             Artist    genre\n",
       "0        Marina Rei      pop\n",
       "1      Stive Morgan  ambient\n",
       "2      Stive Morgan  ambient\n",
       "3               NaN    dance\n",
       "4            Rixton      pop\n",
       "...             ...      ...\n",
       "67958  Nadine Coyle      pop\n",
       "67959  Digital Hero    dance\n",
       "67960       Red God    metal\n",
       "67961  Less Chapell      pop\n",
       "67962           NaN      NaN\n",
       "\n",
       "[67963 rows x 2 columns]"
      ],
      "text/html": [
       "<div>\n",
       "<style scoped>\n",
       "    .dataframe tbody tr th:only-of-type {\n",
       "        vertical-align: middle;\n",
       "    }\n",
       "\n",
       "    .dataframe tbody tr th {\n",
       "        vertical-align: top;\n",
       "    }\n",
       "\n",
       "    .dataframe thead th {\n",
       "        text-align: right;\n",
       "    }\n",
       "</style>\n",
       "<table border=\"1\" class=\"dataframe\">\n",
       "  <thead>\n",
       "    <tr style=\"text-align: right;\">\n",
       "      <th></th>\n",
       "      <th>Artist</th>\n",
       "      <th>genre</th>\n",
       "    </tr>\n",
       "  </thead>\n",
       "  <tbody>\n",
       "    <tr>\n",
       "      <th>0</th>\n",
       "      <td>Marina Rei</td>\n",
       "      <td>pop</td>\n",
       "    </tr>\n",
       "    <tr>\n",
       "      <th>1</th>\n",
       "      <td>Stive Morgan</td>\n",
       "      <td>ambient</td>\n",
       "    </tr>\n",
       "    <tr>\n",
       "      <th>2</th>\n",
       "      <td>Stive Morgan</td>\n",
       "      <td>ambient</td>\n",
       "    </tr>\n",
       "    <tr>\n",
       "      <th>3</th>\n",
       "      <td>NaN</td>\n",
       "      <td>dance</td>\n",
       "    </tr>\n",
       "    <tr>\n",
       "      <th>4</th>\n",
       "      <td>Rixton</td>\n",
       "      <td>pop</td>\n",
       "    </tr>\n",
       "    <tr>\n",
       "      <th>...</th>\n",
       "      <td>...</td>\n",
       "      <td>...</td>\n",
       "    </tr>\n",
       "    <tr>\n",
       "      <th>67958</th>\n",
       "      <td>Nadine Coyle</td>\n",
       "      <td>pop</td>\n",
       "    </tr>\n",
       "    <tr>\n",
       "      <th>67959</th>\n",
       "      <td>Digital Hero</td>\n",
       "      <td>dance</td>\n",
       "    </tr>\n",
       "    <tr>\n",
       "      <th>67960</th>\n",
       "      <td>Red God</td>\n",
       "      <td>metal</td>\n",
       "    </tr>\n",
       "    <tr>\n",
       "      <th>67961</th>\n",
       "      <td>Less Chapell</td>\n",
       "      <td>pop</td>\n",
       "    </tr>\n",
       "    <tr>\n",
       "      <th>67962</th>\n",
       "      <td>NaN</td>\n",
       "      <td>NaN</td>\n",
       "    </tr>\n",
       "  </tbody>\n",
       "</table>\n",
       "<p>67963 rows × 2 columns</p>\n",
       "</div>"
      ]
     },
     "execution_count": 6,
     "metadata": {},
     "output_type": "execute_result"
    }
   ],
   "execution_count": 6
  },
  {
   "metadata": {
    "ExecuteTime": {
     "end_time": "2024-08-17T06:38:56.573936Z",
     "start_time": "2024-08-17T06:38:56.556470Z"
    }
   },
   "cell_type": "code",
   "source": "music[:]['Artist']\n",
   "id": "2012553eda804bbe",
   "outputs": [
    {
     "data": {
      "text/plain": [
       "0          Marina Rei\n",
       "1        Stive Morgan\n",
       "2        Stive Morgan\n",
       "3                 NaN\n",
       "4              Rixton\n",
       "             ...     \n",
       "67958    Nadine Coyle\n",
       "67959    Digital Hero\n",
       "67960         Red God\n",
       "67961    Less Chapell\n",
       "67962             NaN\n",
       "Name: Artist, Length: 67963, dtype: object"
      ]
     },
     "execution_count": 7,
     "metadata": {},
     "output_type": "execute_result"
    }
   ],
   "execution_count": 7
  },
  {
   "metadata": {
    "ExecuteTime": {
     "end_time": "2024-08-17T06:38:56.611388Z",
     "start_time": "2024-08-17T06:38:56.576956Z"
    }
   },
   "cell_type": "code",
   "source": "music.loc[music.loc[:, 'Artist'] == 'Marina Rei']",
   "id": "c6535c70b1537ab1",
   "outputs": [
    {
     "data": {
      "text/plain": [
       "    user_id  total play      Artist genre   track\n",
       "0  BF6EA5AF   92.851388  Marina Rei   pop  Musica"
      ],
      "text/html": [
       "<div>\n",
       "<style scoped>\n",
       "    .dataframe tbody tr th:only-of-type {\n",
       "        vertical-align: middle;\n",
       "    }\n",
       "\n",
       "    .dataframe tbody tr th {\n",
       "        vertical-align: top;\n",
       "    }\n",
       "\n",
       "    .dataframe thead th {\n",
       "        text-align: right;\n",
       "    }\n",
       "</style>\n",
       "<table border=\"1\" class=\"dataframe\">\n",
       "  <thead>\n",
       "    <tr style=\"text-align: right;\">\n",
       "      <th></th>\n",
       "      <th>user_id</th>\n",
       "      <th>total play</th>\n",
       "      <th>Artist</th>\n",
       "      <th>genre</th>\n",
       "      <th>track</th>\n",
       "    </tr>\n",
       "  </thead>\n",
       "  <tbody>\n",
       "    <tr>\n",
       "      <th>0</th>\n",
       "      <td>BF6EA5AF</td>\n",
       "      <td>92.851388</td>\n",
       "      <td>Marina Rei</td>\n",
       "      <td>pop</td>\n",
       "      <td>Musica</td>\n",
       "    </tr>\n",
       "  </tbody>\n",
       "</table>\n",
       "</div>"
      ]
     },
     "execution_count": 8,
     "metadata": {},
     "output_type": "execute_result"
    }
   ],
   "execution_count": 8
  },
  {
   "metadata": {
    "ExecuteTime": {
     "end_time": "2024-08-17T06:38:56.641107Z",
     "start_time": "2024-08-17T06:38:56.614772Z"
    }
   },
   "cell_type": "code",
   "source": [
    "total_play = music['total play']\n",
    "print(music[total_play<20]['genre'].value_counts())"
   ],
   "id": "f61819b35b2dbe04",
   "outputs": [
    {
     "name": "stdout",
     "output_type": "stream",
     "text": [
      "genre\n",
      "pop           4262\n",
      "rock          3272\n",
      "dance         3088\n",
      "electronic    3014\n",
      "hiphop        2568\n",
      "              ... \n",
      "symphony         1\n",
      "jiddisch         1\n",
      "post             1\n",
      "afrikaans        1\n",
      "shoegazing       1\n",
      "Name: count, Length: 267, dtype: int64\n"
     ]
    }
   ],
   "execution_count": 9
  },
  {
   "metadata": {
    "ExecuteTime": {
     "end_time": "2024-08-17T06:38:56.664357Z",
     "start_time": "2024-08-17T06:38:56.644865Z"
    }
   },
   "cell_type": "code",
   "source": "board = pd.read_csv(r\"C:\\Users\\andre\\Downloads\\Практикум\\Специалист по Data Science Плюс. Часть 1\\[SLIV.ONE] 03 Базовый Python\\[SLIV.ONE] 09 Библиотека pandas\\10 work\\game_board.csv\")",
   "id": "1471cd5ed4f748c",
   "outputs": [],
   "execution_count": 10
  },
  {
   "metadata": {
    "ExecuteTime": {
     "end_time": "2024-08-17T06:38:56.687277Z",
     "start_time": "2024-08-17T06:38:56.667905Z"
    }
   },
   "cell_type": "code",
   "source": "board",
   "id": "cabacd2fdf46a6e9",
   "outputs": [
    {
     "data": {
      "text/plain": [
       "   A  B  C  D  E  F  G  H  J\n",
       "0  0  0  0  0  0  0  0  0  1\n",
       "1  0  1  0  0  0  0  0  0  0\n",
       "2  0  1  0  0  0  0  0  0  0\n",
       "3  0  1  0  0  0  0  0  0  0\n",
       "4  0  0  0  0  0  0  0  0  0\n",
       "5  0  0  1  1  1  1  0  0  0\n",
       "6  0  0  0  0  0  0  0  1  0\n",
       "7  0  0  0  0  0  0  0  1  0\n",
       "8  0  0  0  0  0  0  0  1  0\n",
       "9  0  0  0  0  0  0  0  1  0"
      ],
      "text/html": [
       "<div>\n",
       "<style scoped>\n",
       "    .dataframe tbody tr th:only-of-type {\n",
       "        vertical-align: middle;\n",
       "    }\n",
       "\n",
       "    .dataframe tbody tr th {\n",
       "        vertical-align: top;\n",
       "    }\n",
       "\n",
       "    .dataframe thead th {\n",
       "        text-align: right;\n",
       "    }\n",
       "</style>\n",
       "<table border=\"1\" class=\"dataframe\">\n",
       "  <thead>\n",
       "    <tr style=\"text-align: right;\">\n",
       "      <th></th>\n",
       "      <th>A</th>\n",
       "      <th>B</th>\n",
       "      <th>C</th>\n",
       "      <th>D</th>\n",
       "      <th>E</th>\n",
       "      <th>F</th>\n",
       "      <th>G</th>\n",
       "      <th>H</th>\n",
       "      <th>J</th>\n",
       "    </tr>\n",
       "  </thead>\n",
       "  <tbody>\n",
       "    <tr>\n",
       "      <th>0</th>\n",
       "      <td>0</td>\n",
       "      <td>0</td>\n",
       "      <td>0</td>\n",
       "      <td>0</td>\n",
       "      <td>0</td>\n",
       "      <td>0</td>\n",
       "      <td>0</td>\n",
       "      <td>0</td>\n",
       "      <td>1</td>\n",
       "    </tr>\n",
       "    <tr>\n",
       "      <th>1</th>\n",
       "      <td>0</td>\n",
       "      <td>1</td>\n",
       "      <td>0</td>\n",
       "      <td>0</td>\n",
       "      <td>0</td>\n",
       "      <td>0</td>\n",
       "      <td>0</td>\n",
       "      <td>0</td>\n",
       "      <td>0</td>\n",
       "    </tr>\n",
       "    <tr>\n",
       "      <th>2</th>\n",
       "      <td>0</td>\n",
       "      <td>1</td>\n",
       "      <td>0</td>\n",
       "      <td>0</td>\n",
       "      <td>0</td>\n",
       "      <td>0</td>\n",
       "      <td>0</td>\n",
       "      <td>0</td>\n",
       "      <td>0</td>\n",
       "    </tr>\n",
       "    <tr>\n",
       "      <th>3</th>\n",
       "      <td>0</td>\n",
       "      <td>1</td>\n",
       "      <td>0</td>\n",
       "      <td>0</td>\n",
       "      <td>0</td>\n",
       "      <td>0</td>\n",
       "      <td>0</td>\n",
       "      <td>0</td>\n",
       "      <td>0</td>\n",
       "    </tr>\n",
       "    <tr>\n",
       "      <th>4</th>\n",
       "      <td>0</td>\n",
       "      <td>0</td>\n",
       "      <td>0</td>\n",
       "      <td>0</td>\n",
       "      <td>0</td>\n",
       "      <td>0</td>\n",
       "      <td>0</td>\n",
       "      <td>0</td>\n",
       "      <td>0</td>\n",
       "    </tr>\n",
       "    <tr>\n",
       "      <th>5</th>\n",
       "      <td>0</td>\n",
       "      <td>0</td>\n",
       "      <td>1</td>\n",
       "      <td>1</td>\n",
       "      <td>1</td>\n",
       "      <td>1</td>\n",
       "      <td>0</td>\n",
       "      <td>0</td>\n",
       "      <td>0</td>\n",
       "    </tr>\n",
       "    <tr>\n",
       "      <th>6</th>\n",
       "      <td>0</td>\n",
       "      <td>0</td>\n",
       "      <td>0</td>\n",
       "      <td>0</td>\n",
       "      <td>0</td>\n",
       "      <td>0</td>\n",
       "      <td>0</td>\n",
       "      <td>1</td>\n",
       "      <td>0</td>\n",
       "    </tr>\n",
       "    <tr>\n",
       "      <th>7</th>\n",
       "      <td>0</td>\n",
       "      <td>0</td>\n",
       "      <td>0</td>\n",
       "      <td>0</td>\n",
       "      <td>0</td>\n",
       "      <td>0</td>\n",
       "      <td>0</td>\n",
       "      <td>1</td>\n",
       "      <td>0</td>\n",
       "    </tr>\n",
       "    <tr>\n",
       "      <th>8</th>\n",
       "      <td>0</td>\n",
       "      <td>0</td>\n",
       "      <td>0</td>\n",
       "      <td>0</td>\n",
       "      <td>0</td>\n",
       "      <td>0</td>\n",
       "      <td>0</td>\n",
       "      <td>1</td>\n",
       "      <td>0</td>\n",
       "    </tr>\n",
       "    <tr>\n",
       "      <th>9</th>\n",
       "      <td>0</td>\n",
       "      <td>0</td>\n",
       "      <td>0</td>\n",
       "      <td>0</td>\n",
       "      <td>0</td>\n",
       "      <td>0</td>\n",
       "      <td>0</td>\n",
       "      <td>1</td>\n",
       "      <td>0</td>\n",
       "    </tr>\n",
       "  </tbody>\n",
       "</table>\n",
       "</div>"
      ]
     },
     "execution_count": 11,
     "metadata": {},
     "output_type": "execute_result"
    }
   ],
   "execution_count": 11
  },
  {
   "metadata": {
    "ExecuteTime": {
     "end_time": "2024-08-17T06:38:56.705612Z",
     "start_time": "2024-08-17T06:38:56.690294Z"
    }
   },
   "cell_type": "code",
   "source": "board[1:4][\"B\"]",
   "id": "3b8a16574f59b34a",
   "outputs": [
    {
     "data": {
      "text/plain": [
       "1    1\n",
       "2    1\n",
       "3    1\n",
       "Name: B, dtype: int64"
      ]
     },
     "execution_count": 12,
     "metadata": {},
     "output_type": "execute_result"
    }
   ],
   "execution_count": 12
  },
  {
   "metadata": {
    "ExecuteTime": {
     "end_time": "2024-08-17T06:38:56.727641Z",
     "start_time": "2024-08-17T06:38:56.709156Z"
    }
   },
   "cell_type": "code",
   "source": [
    "ina = board[[\"C\", \"D\", \"E\",\"F\"]]\n",
    "ina[5:6]\n"
   ],
   "id": "3dcf5bbd8e24d15",
   "outputs": [
    {
     "data": {
      "text/plain": [
       "   C  D  E  F\n",
       "5  1  1  1  1"
      ],
      "text/html": [
       "<div>\n",
       "<style scoped>\n",
       "    .dataframe tbody tr th:only-of-type {\n",
       "        vertical-align: middle;\n",
       "    }\n",
       "\n",
       "    .dataframe tbody tr th {\n",
       "        vertical-align: top;\n",
       "    }\n",
       "\n",
       "    .dataframe thead th {\n",
       "        text-align: right;\n",
       "    }\n",
       "</style>\n",
       "<table border=\"1\" class=\"dataframe\">\n",
       "  <thead>\n",
       "    <tr style=\"text-align: right;\">\n",
       "      <th></th>\n",
       "      <th>C</th>\n",
       "      <th>D</th>\n",
       "      <th>E</th>\n",
       "      <th>F</th>\n",
       "    </tr>\n",
       "  </thead>\n",
       "  <tbody>\n",
       "    <tr>\n",
       "      <th>5</th>\n",
       "      <td>1</td>\n",
       "      <td>1</td>\n",
       "      <td>1</td>\n",
       "      <td>1</td>\n",
       "    </tr>\n",
       "  </tbody>\n",
       "</table>\n",
       "</div>"
      ]
     },
     "execution_count": 13,
     "metadata": {},
     "output_type": "execute_result"
    }
   ],
   "execution_count": 13
  },
  {
   "metadata": {
    "ExecuteTime": {
     "end_time": "2024-08-17T06:41:18.934065Z",
     "start_time": "2024-08-17T06:41:18.917344Z"
    }
   },
   "cell_type": "code",
   "source": "board.iloc[6:10]['H']",
   "id": "bfd286c6f5c92775",
   "outputs": [
    {
     "data": {
      "text/plain": [
       "6    1\n",
       "7    1\n",
       "8    1\n",
       "9    1\n",
       "Name: H, dtype: int64"
      ]
     },
     "execution_count": 17,
     "metadata": {},
     "output_type": "execute_result"
    }
   ],
   "execution_count": 17
  },
  {
   "metadata": {
    "ExecuteTime": {
     "end_time": "2024-08-20T11:34:03.699093Z",
     "start_time": "2024-08-20T11:34:03.679984Z"
    }
   },
   "cell_type": "code",
   "source": "music.info()",
   "id": "ea0e8dcba00e835c",
   "outputs": [
    {
     "name": "stdout",
     "output_type": "stream",
     "text": [
      "<class 'pandas.core.frame.DataFrame'>\n",
      "RangeIndex: 67963 entries, 0 to 67962\n",
      "Data columns (total 5 columns):\n",
      " #   Column      Non-Null Count  Dtype  \n",
      "---  ------      --------------  -----  \n",
      " 0     user_id   67963 non-null  object \n",
      " 1   total play  67399 non-null  float64\n",
      " 2   Artist      59646 non-null  object \n",
      " 3   genre       64661 non-null  object \n",
      " 4   track       64804 non-null  object \n",
      "dtypes: float64(1), object(4)\n",
      "memory usage: 2.6+ MB\n"
     ]
    }
   ],
   "execution_count": 21
  },
  {
   "metadata": {
    "ExecuteTime": {
     "end_time": "2024-08-20T12:10:23.669034Z",
     "start_time": "2024-08-20T12:10:23.658182Z"
    }
   },
   "cell_type": "code",
   "source": [
    "measurements = [['Солнце',146,152], # Измерения хранятся в списке списков \n",
    "                ['Луна',0.36, 0.41], # measurements (англ. «измерения»).\n",
    "                ['Меркурий',82, 217],\n",
    "                ['Венера',38, 261],\n",
    "                ['Марс',56,401],\n",
    "                ['Юпитер',588, 968],\n",
    "                ['Сатурн',1195, 1660],\n",
    "                ['Уран',2750, 3150],\n",
    "                ['Нептун', 4300, 4700],\n",
    "                ['Комета Галлея', 6, 5400]]\n",
    "\n",
    "# Названия столбцов хранятся в переменной header.\n",
    "header = ['Небесные тела ','MIN', 'MAX']\n",
    "\n",
    "# Сохраним структуру данных в переменной celestial (англ. «небесный»).\n",
    "celestial = pd.DataFrame(data=measurements, columns=header) "
   ],
   "id": "ecddafa24e2861dc",
   "outputs": [],
   "execution_count": 22
  },
  {
   "metadata": {
    "ExecuteTime": {
     "end_time": "2024-08-20T12:21:35.153388Z",
     "start_time": "2024-08-20T12:21:35.146952Z"
    }
   },
   "cell_type": "code",
   "source": "celestial = celestial.rename(columns={'Небесные тела ': 'celestial_bodies', 'MIN': 'min_distance', 'MAX': 'max_distance'})",
   "id": "58bde372e609ebb3",
   "outputs": [],
   "execution_count": 25
  },
  {
   "metadata": {
    "ExecuteTime": {
     "end_time": "2024-08-20T13:34:08.815624Z",
     "start_time": "2024-08-20T13:34:08.790720Z"
    }
   },
   "cell_type": "code",
   "source": "music.isna().sum()",
   "id": "de0dc72b6e33c4d6",
   "outputs": [
    {
     "data": {
      "text/plain": [
       "  user_id        0\n",
       "total play     564\n",
       "Artist        8317\n",
       "genre         3302\n",
       "track         3159\n",
       "dtype: int64"
      ]
     },
     "execution_count": 27,
     "metadata": {},
     "output_type": "execute_result"
    }
   ],
   "execution_count": 27
  },
  {
   "metadata": {
    "ExecuteTime": {
     "end_time": "2024-10-15T13:16:35.817813Z",
     "start_time": "2024-10-15T13:16:35.802662Z"
    }
   },
   "cell_type": "code",
   "source": [
    "music = music.rename(columns={'total play':'total_play', 'Artist':'artist', '  user_id':'user_id'})\n",
    "music.info"
   ],
   "id": "483ee8c31f377533",
   "outputs": [
    {
     "data": {
      "text/plain": [
       "<bound method DataFrame.info of         user_id  total_play        artist    genre                   track\n",
       "0      BF6EA5AF   92.851388    Marina Rei      pop                  Musica\n",
       "1      FB1E568E  282.981000  Stive Morgan  ambient             Love Planet\n",
       "2      FB1E568E  282.981000  Stive Morgan  ambient             Love Planet\n",
       "3      EF15C7BA    8.966000           NaN    dance     Loving Every Minute\n",
       "4      82F52E69  193.776327        Rixton      pop  Me And My Broken Heart\n",
       "...         ...         ...           ...      ...                     ...\n",
       "67958  2E27DF51  220.551837  Nadine Coyle      pop           Girls On Fire\n",
       "67959  4F29D4D5   26.127000  Digital Hero    dance               The Model\n",
       "67960  26B7058C  292.455000       Red God    metal               Действуй!\n",
       "67961  DB0038A8   11.529112  Less Chapell      pop                    Home\n",
       "67962  FE8684F6    0.100000           NaN      NaN                     NaN\n",
       "\n",
       "[67963 rows x 5 columns]>"
      ]
     },
     "execution_count": 20,
     "metadata": {},
     "output_type": "execute_result"
    }
   ],
   "execution_count": 20
  },
  {
   "metadata": {
    "ExecuteTime": {
     "end_time": "2024-10-15T13:18:47.612727Z",
     "start_time": "2024-10-15T13:18:47.598176Z"
    }
   },
   "cell_type": "code",
   "source": "music",
   "id": "d9f36e8b29e96476",
   "outputs": [
    {
     "data": {
      "text/plain": [
       "        user_id  total_play        artist    genre                   track\n",
       "0      BF6EA5AF   92.851388    Marina Rei      pop                  Musica\n",
       "1      FB1E568E  282.981000  Stive Morgan  ambient             Love Planet\n",
       "2      FB1E568E  282.981000  Stive Morgan  ambient             Love Planet\n",
       "3      EF15C7BA    8.966000           NaN    dance     Loving Every Minute\n",
       "4      82F52E69  193.776327        Rixton      pop  Me And My Broken Heart\n",
       "...         ...         ...           ...      ...                     ...\n",
       "67958  2E27DF51  220.551837  Nadine Coyle      pop           Girls On Fire\n",
       "67959  4F29D4D5   26.127000  Digital Hero    dance               The Model\n",
       "67960  26B7058C  292.455000       Red God    metal               Действуй!\n",
       "67961  DB0038A8   11.529112  Less Chapell      pop                    Home\n",
       "67962  FE8684F6    0.100000           NaN      NaN                     NaN\n",
       "\n",
       "[67963 rows x 5 columns]"
      ],
      "text/html": [
       "<div>\n",
       "<style scoped>\n",
       "    .dataframe tbody tr th:only-of-type {\n",
       "        vertical-align: middle;\n",
       "    }\n",
       "\n",
       "    .dataframe tbody tr th {\n",
       "        vertical-align: top;\n",
       "    }\n",
       "\n",
       "    .dataframe thead th {\n",
       "        text-align: right;\n",
       "    }\n",
       "</style>\n",
       "<table border=\"1\" class=\"dataframe\">\n",
       "  <thead>\n",
       "    <tr style=\"text-align: right;\">\n",
       "      <th></th>\n",
       "      <th>user_id</th>\n",
       "      <th>total_play</th>\n",
       "      <th>artist</th>\n",
       "      <th>genre</th>\n",
       "      <th>track</th>\n",
       "    </tr>\n",
       "  </thead>\n",
       "  <tbody>\n",
       "    <tr>\n",
       "      <th>0</th>\n",
       "      <td>BF6EA5AF</td>\n",
       "      <td>92.851388</td>\n",
       "      <td>Marina Rei</td>\n",
       "      <td>pop</td>\n",
       "      <td>Musica</td>\n",
       "    </tr>\n",
       "    <tr>\n",
       "      <th>1</th>\n",
       "      <td>FB1E568E</td>\n",
       "      <td>282.981000</td>\n",
       "      <td>Stive Morgan</td>\n",
       "      <td>ambient</td>\n",
       "      <td>Love Planet</td>\n",
       "    </tr>\n",
       "    <tr>\n",
       "      <th>2</th>\n",
       "      <td>FB1E568E</td>\n",
       "      <td>282.981000</td>\n",
       "      <td>Stive Morgan</td>\n",
       "      <td>ambient</td>\n",
       "      <td>Love Planet</td>\n",
       "    </tr>\n",
       "    <tr>\n",
       "      <th>3</th>\n",
       "      <td>EF15C7BA</td>\n",
       "      <td>8.966000</td>\n",
       "      <td>NaN</td>\n",
       "      <td>dance</td>\n",
       "      <td>Loving Every Minute</td>\n",
       "    </tr>\n",
       "    <tr>\n",
       "      <th>4</th>\n",
       "      <td>82F52E69</td>\n",
       "      <td>193.776327</td>\n",
       "      <td>Rixton</td>\n",
       "      <td>pop</td>\n",
       "      <td>Me And My Broken Heart</td>\n",
       "    </tr>\n",
       "    <tr>\n",
       "      <th>...</th>\n",
       "      <td>...</td>\n",
       "      <td>...</td>\n",
       "      <td>...</td>\n",
       "      <td>...</td>\n",
       "      <td>...</td>\n",
       "    </tr>\n",
       "    <tr>\n",
       "      <th>67958</th>\n",
       "      <td>2E27DF51</td>\n",
       "      <td>220.551837</td>\n",
       "      <td>Nadine Coyle</td>\n",
       "      <td>pop</td>\n",
       "      <td>Girls On Fire</td>\n",
       "    </tr>\n",
       "    <tr>\n",
       "      <th>67959</th>\n",
       "      <td>4F29D4D5</td>\n",
       "      <td>26.127000</td>\n",
       "      <td>Digital Hero</td>\n",
       "      <td>dance</td>\n",
       "      <td>The Model</td>\n",
       "    </tr>\n",
       "    <tr>\n",
       "      <th>67960</th>\n",
       "      <td>26B7058C</td>\n",
       "      <td>292.455000</td>\n",
       "      <td>Red God</td>\n",
       "      <td>metal</td>\n",
       "      <td>Действуй!</td>\n",
       "    </tr>\n",
       "    <tr>\n",
       "      <th>67961</th>\n",
       "      <td>DB0038A8</td>\n",
       "      <td>11.529112</td>\n",
       "      <td>Less Chapell</td>\n",
       "      <td>pop</td>\n",
       "      <td>Home</td>\n",
       "    </tr>\n",
       "    <tr>\n",
       "      <th>67962</th>\n",
       "      <td>FE8684F6</td>\n",
       "      <td>0.100000</td>\n",
       "      <td>NaN</td>\n",
       "      <td>NaN</td>\n",
       "      <td>NaN</td>\n",
       "    </tr>\n",
       "  </tbody>\n",
       "</table>\n",
       "<p>67963 rows × 5 columns</p>\n",
       "</div>"
      ]
     },
     "execution_count": 29,
     "metadata": {},
     "output_type": "execute_result"
    }
   ],
   "execution_count": 29
  },
  {
   "metadata": {
    "ExecuteTime": {
     "end_time": "2024-08-20T22:09:29.398090Z",
     "start_time": "2024-08-20T22:09:29.349272Z"
    }
   },
   "cell_type": "code",
   "source": "music.isna().sum()",
   "id": "eb923e3b292e16c9",
   "outputs": [
    {
     "data": {
      "text/plain": [
       "  user_id        0\n",
       "total_play     564\n",
       "artist        8317\n",
       "genre         3302\n",
       "track         3159\n",
       "dtype: int64"
      ]
     },
     "execution_count": 41,
     "metadata": {},
     "output_type": "execute_result"
    }
   ],
   "execution_count": 41
  },
  {
   "metadata": {
    "ExecuteTime": {
     "end_time": "2024-08-20T22:24:18.088225Z",
     "start_time": "2024-08-20T22:24:18.059044Z"
    }
   },
   "cell_type": "code",
   "source": "music = music.dropna(subset='total_play')",
   "id": "af09ee49e2a91bd0",
   "outputs": [],
   "execution_count": 63
  },
  {
   "metadata": {
    "ExecuteTime": {
     "end_time": "2024-08-20T22:24:22.121632Z",
     "start_time": "2024-08-20T22:24:22.072346Z"
    }
   },
   "cell_type": "code",
   "source": "music.isna().sum()\n",
   "id": "da0318474bf12bbb",
   "outputs": [
    {
     "data": {
      "text/plain": [
       "  user_id        0\n",
       "total_play       0\n",
       "artist           0\n",
       "genre         2738\n",
       "track         2595\n",
       "dtype: int64"
      ]
     },
     "execution_count": 64,
     "metadata": {},
     "output_type": "execute_result"
    }
   ],
   "execution_count": 64
  },
  {
   "metadata": {
    "ExecuteTime": {
     "end_time": "2024-08-20T22:20:22.976261Z",
     "start_time": "2024-08-20T22:20:22.952351Z"
    }
   },
   "cell_type": "code",
   "source": "music.head(20)",
   "id": "45c8233ae11bae8d",
   "outputs": [
    {
     "data": {
      "text/plain": [
       "     user_id  total_play                                  artist  \\\n",
       "0   BF6EA5AF   92.851388                              Marina Rei   \n",
       "1   FB1E568E  282.981000                            Stive Morgan   \n",
       "2   FB1E568E  282.981000                            Stive Morgan   \n",
       "3   EF15C7BA    8.966000                                       ?   \n",
       "4   82F52E69  193.776327                                  Rixton   \n",
       "5   4166D680    3.007000  Henry Hall & His Gleneagles Hotel Band   \n",
       "6    F4F5677    0.100000                                       ?   \n",
       "7   386FE1ED  211.880000                                       ?   \n",
       "8   A5E0D927    3.161000                   Andrew Paul Woodworth   \n",
       "9   E9E8A0CA  274.390000                            Pillar Point   \n",
       "10  D3DD8D00    8.836000                          Steve Campbell   \n",
       "11  596A4517    0.000000                            David Civera   \n",
       "12  2E50EDF9  245.040000                            Lumipa Beats   \n",
       "13  79D2876C    2.000000                         Henning Wehland   \n",
       "14   5A3095E    0.000000                                       ?   \n",
       "15  96DA13A1    0.000000                            Пётр Каледин   \n",
       "16  4023830D   46.885000                                ChinKong   \n",
       "17  AEAEF451   15.000000                               Albatraoz   \n",
       "18  285648EF    0.100000                              Pugs Atomz   \n",
       "19  34811AC9    7.000000                               Zak Moore   \n",
       "\n",
       "           genre                                 track  \n",
       "0            pop                                Musica  \n",
       "1        ambient                           Love Planet  \n",
       "2        ambient                           Love Planet  \n",
       "3          dance                   Loving Every Minute  \n",
       "4            pop                Me And My Broken Heart  \n",
       "5           jazz                                  Home  \n",
       "6   classicmetal                                   NaN  \n",
       "7     electronic                               Riviera  \n",
       "8            pop  The Name of This Next Song Is Called  \n",
       "9          indie                                  Dove  \n",
       "10          jazz                           Morning Dew  \n",
       "11           pop                               Bye Bye  \n",
       "12        hiphop                                 Cludo  \n",
       "13           pop                    Räuber und Gendarm  \n",
       "14           NaN                                   NaN  \n",
       "15        spoken         Пойти и не вернуться. Глава 1  \n",
       "16         dance                             Live Life  \n",
       "17           pop                           General Zod  \n",
       "18         dance                               No Love  \n",
       "19         dance                             Feel Good  "
      ],
      "text/html": [
       "<div>\n",
       "<style scoped>\n",
       "    .dataframe tbody tr th:only-of-type {\n",
       "        vertical-align: middle;\n",
       "    }\n",
       "\n",
       "    .dataframe tbody tr th {\n",
       "        vertical-align: top;\n",
       "    }\n",
       "\n",
       "    .dataframe thead th {\n",
       "        text-align: right;\n",
       "    }\n",
       "</style>\n",
       "<table border=\"1\" class=\"dataframe\">\n",
       "  <thead>\n",
       "    <tr style=\"text-align: right;\">\n",
       "      <th></th>\n",
       "      <th>user_id</th>\n",
       "      <th>total_play</th>\n",
       "      <th>artist</th>\n",
       "      <th>genre</th>\n",
       "      <th>track</th>\n",
       "    </tr>\n",
       "  </thead>\n",
       "  <tbody>\n",
       "    <tr>\n",
       "      <th>0</th>\n",
       "      <td>BF6EA5AF</td>\n",
       "      <td>92.851388</td>\n",
       "      <td>Marina Rei</td>\n",
       "      <td>pop</td>\n",
       "      <td>Musica</td>\n",
       "    </tr>\n",
       "    <tr>\n",
       "      <th>1</th>\n",
       "      <td>FB1E568E</td>\n",
       "      <td>282.981000</td>\n",
       "      <td>Stive Morgan</td>\n",
       "      <td>ambient</td>\n",
       "      <td>Love Planet</td>\n",
       "    </tr>\n",
       "    <tr>\n",
       "      <th>2</th>\n",
       "      <td>FB1E568E</td>\n",
       "      <td>282.981000</td>\n",
       "      <td>Stive Morgan</td>\n",
       "      <td>ambient</td>\n",
       "      <td>Love Planet</td>\n",
       "    </tr>\n",
       "    <tr>\n",
       "      <th>3</th>\n",
       "      <td>EF15C7BA</td>\n",
       "      <td>8.966000</td>\n",
       "      <td>?</td>\n",
       "      <td>dance</td>\n",
       "      <td>Loving Every Minute</td>\n",
       "    </tr>\n",
       "    <tr>\n",
       "      <th>4</th>\n",
       "      <td>82F52E69</td>\n",
       "      <td>193.776327</td>\n",
       "      <td>Rixton</td>\n",
       "      <td>pop</td>\n",
       "      <td>Me And My Broken Heart</td>\n",
       "    </tr>\n",
       "    <tr>\n",
       "      <th>5</th>\n",
       "      <td>4166D680</td>\n",
       "      <td>3.007000</td>\n",
       "      <td>Henry Hall &amp; His Gleneagles Hotel Band</td>\n",
       "      <td>jazz</td>\n",
       "      <td>Home</td>\n",
       "    </tr>\n",
       "    <tr>\n",
       "      <th>6</th>\n",
       "      <td>F4F5677</td>\n",
       "      <td>0.100000</td>\n",
       "      <td>?</td>\n",
       "      <td>classicmetal</td>\n",
       "      <td>NaN</td>\n",
       "    </tr>\n",
       "    <tr>\n",
       "      <th>7</th>\n",
       "      <td>386FE1ED</td>\n",
       "      <td>211.880000</td>\n",
       "      <td>?</td>\n",
       "      <td>electronic</td>\n",
       "      <td>Riviera</td>\n",
       "    </tr>\n",
       "    <tr>\n",
       "      <th>8</th>\n",
       "      <td>A5E0D927</td>\n",
       "      <td>3.161000</td>\n",
       "      <td>Andrew Paul Woodworth</td>\n",
       "      <td>pop</td>\n",
       "      <td>The Name of This Next Song Is Called</td>\n",
       "    </tr>\n",
       "    <tr>\n",
       "      <th>9</th>\n",
       "      <td>E9E8A0CA</td>\n",
       "      <td>274.390000</td>\n",
       "      <td>Pillar Point</td>\n",
       "      <td>indie</td>\n",
       "      <td>Dove</td>\n",
       "    </tr>\n",
       "    <tr>\n",
       "      <th>10</th>\n",
       "      <td>D3DD8D00</td>\n",
       "      <td>8.836000</td>\n",
       "      <td>Steve Campbell</td>\n",
       "      <td>jazz</td>\n",
       "      <td>Morning Dew</td>\n",
       "    </tr>\n",
       "    <tr>\n",
       "      <th>11</th>\n",
       "      <td>596A4517</td>\n",
       "      <td>0.000000</td>\n",
       "      <td>David Civera</td>\n",
       "      <td>pop</td>\n",
       "      <td>Bye Bye</td>\n",
       "    </tr>\n",
       "    <tr>\n",
       "      <th>12</th>\n",
       "      <td>2E50EDF9</td>\n",
       "      <td>245.040000</td>\n",
       "      <td>Lumipa Beats</td>\n",
       "      <td>hiphop</td>\n",
       "      <td>Cludo</td>\n",
       "    </tr>\n",
       "    <tr>\n",
       "      <th>13</th>\n",
       "      <td>79D2876C</td>\n",
       "      <td>2.000000</td>\n",
       "      <td>Henning Wehland</td>\n",
       "      <td>pop</td>\n",
       "      <td>Räuber und Gendarm</td>\n",
       "    </tr>\n",
       "    <tr>\n",
       "      <th>14</th>\n",
       "      <td>5A3095E</td>\n",
       "      <td>0.000000</td>\n",
       "      <td>?</td>\n",
       "      <td>NaN</td>\n",
       "      <td>NaN</td>\n",
       "    </tr>\n",
       "    <tr>\n",
       "      <th>15</th>\n",
       "      <td>96DA13A1</td>\n",
       "      <td>0.000000</td>\n",
       "      <td>Пётр Каледин</td>\n",
       "      <td>spoken</td>\n",
       "      <td>Пойти и не вернуться. Глава 1</td>\n",
       "    </tr>\n",
       "    <tr>\n",
       "      <th>16</th>\n",
       "      <td>4023830D</td>\n",
       "      <td>46.885000</td>\n",
       "      <td>ChinKong</td>\n",
       "      <td>dance</td>\n",
       "      <td>Live Life</td>\n",
       "    </tr>\n",
       "    <tr>\n",
       "      <th>17</th>\n",
       "      <td>AEAEF451</td>\n",
       "      <td>15.000000</td>\n",
       "      <td>Albatraoz</td>\n",
       "      <td>pop</td>\n",
       "      <td>General Zod</td>\n",
       "    </tr>\n",
       "    <tr>\n",
       "      <th>18</th>\n",
       "      <td>285648EF</td>\n",
       "      <td>0.100000</td>\n",
       "      <td>Pugs Atomz</td>\n",
       "      <td>dance</td>\n",
       "      <td>No Love</td>\n",
       "    </tr>\n",
       "    <tr>\n",
       "      <th>19</th>\n",
       "      <td>34811AC9</td>\n",
       "      <td>7.000000</td>\n",
       "      <td>Zak Moore</td>\n",
       "      <td>dance</td>\n",
       "      <td>Feel Good</td>\n",
       "    </tr>\n",
       "  </tbody>\n",
       "</table>\n",
       "</div>"
      ]
     },
     "execution_count": 62,
     "metadata": {},
     "output_type": "execute_result"
    }
   ],
   "execution_count": 62
  },
  {
   "metadata": {
    "ExecuteTime": {
     "end_time": "2024-08-20T22:29:53.862554Z",
     "start_time": "2024-08-20T22:29:53.712302Z"
    }
   },
   "cell_type": "code",
   "source": [
    "duplicated_music = music[music.duplicated()]\n",
    "duplicated_music.head(20)"
   ],
   "id": "8e1387c945c4be58",
   "outputs": [
    {
     "data": {
      "text/plain": [
       "       user_id  total_play                       artist       genre  \\\n",
       "2     FB1E568E  282.981000                 Stive Morgan     ambient   \n",
       "273   FE76AC63    0.100000                            ?         NaN   \n",
       "411   FE76AC63    0.100000                            ?         NaN   \n",
       "506    8E2B511   18.003328              Griffin & Flint         pop   \n",
       "583   F1014BD5  202.135510  Emanuel Borok Cullan Bryant   classical   \n",
       "669   FE76AC63    0.100000                            ?         NaN   \n",
       "794   FE76AC63    0.100000                            ?         NaN   \n",
       "1088  D7EBF7BF    0.100000                            ?         NaN   \n",
       "1105  FE76AC63    0.100000                            ?         NaN   \n",
       "1198  FE76AC63    0.100000                            ?         NaN   \n",
       "1402  FE76AC63    0.100000                            ?         NaN   \n",
       "1498   A97D9A0    7.206244                            ?      hiphop   \n",
       "1517  FE76AC63    0.100000                            ?         NaN   \n",
       "1523  36EFD5CB    1.555000                            ?         pop   \n",
       "1524  2E98BD85    0.000000                            ?         NaN   \n",
       "1561  FE76AC63    0.100000                            ?         NaN   \n",
       "1668  FE76AC63    0.100000                            ?         NaN   \n",
       "1677  54A859CF  256.522000              The Slow Revolt  electronic   \n",
       "1698  FE76AC63    0.100000                            ?         NaN   \n",
       "1762  FE76AC63    0.100000                            ?         NaN   \n",
       "\n",
       "                track  \n",
       "2         Love Planet  \n",
       "273               NaN  \n",
       "411               NaN  \n",
       "506   Sweater Weather  \n",
       "583     Love's Sorrow  \n",
       "669               NaN  \n",
       "794               NaN  \n",
       "1088              NaN  \n",
       "1105              NaN  \n",
       "1198              NaN  \n",
       "1402              NaN  \n",
       "1498           Ошибки  \n",
       "1517              NaN  \n",
       "1523   All Or Nothing  \n",
       "1524              NaN  \n",
       "1561              NaN  \n",
       "1668              NaN  \n",
       "1677  Never Get Close  \n",
       "1698              NaN  \n",
       "1762              NaN  "
      ],
      "text/html": [
       "<div>\n",
       "<style scoped>\n",
       "    .dataframe tbody tr th:only-of-type {\n",
       "        vertical-align: middle;\n",
       "    }\n",
       "\n",
       "    .dataframe tbody tr th {\n",
       "        vertical-align: top;\n",
       "    }\n",
       "\n",
       "    .dataframe thead th {\n",
       "        text-align: right;\n",
       "    }\n",
       "</style>\n",
       "<table border=\"1\" class=\"dataframe\">\n",
       "  <thead>\n",
       "    <tr style=\"text-align: right;\">\n",
       "      <th></th>\n",
       "      <th>user_id</th>\n",
       "      <th>total_play</th>\n",
       "      <th>artist</th>\n",
       "      <th>genre</th>\n",
       "      <th>track</th>\n",
       "    </tr>\n",
       "  </thead>\n",
       "  <tbody>\n",
       "    <tr>\n",
       "      <th>2</th>\n",
       "      <td>FB1E568E</td>\n",
       "      <td>282.981000</td>\n",
       "      <td>Stive Morgan</td>\n",
       "      <td>ambient</td>\n",
       "      <td>Love Planet</td>\n",
       "    </tr>\n",
       "    <tr>\n",
       "      <th>273</th>\n",
       "      <td>FE76AC63</td>\n",
       "      <td>0.100000</td>\n",
       "      <td>?</td>\n",
       "      <td>NaN</td>\n",
       "      <td>NaN</td>\n",
       "    </tr>\n",
       "    <tr>\n",
       "      <th>411</th>\n",
       "      <td>FE76AC63</td>\n",
       "      <td>0.100000</td>\n",
       "      <td>?</td>\n",
       "      <td>NaN</td>\n",
       "      <td>NaN</td>\n",
       "    </tr>\n",
       "    <tr>\n",
       "      <th>506</th>\n",
       "      <td>8E2B511</td>\n",
       "      <td>18.003328</td>\n",
       "      <td>Griffin &amp; Flint</td>\n",
       "      <td>pop</td>\n",
       "      <td>Sweater Weather</td>\n",
       "    </tr>\n",
       "    <tr>\n",
       "      <th>583</th>\n",
       "      <td>F1014BD5</td>\n",
       "      <td>202.135510</td>\n",
       "      <td>Emanuel Borok Cullan Bryant</td>\n",
       "      <td>classical</td>\n",
       "      <td>Love's Sorrow</td>\n",
       "    </tr>\n",
       "    <tr>\n",
       "      <th>669</th>\n",
       "      <td>FE76AC63</td>\n",
       "      <td>0.100000</td>\n",
       "      <td>?</td>\n",
       "      <td>NaN</td>\n",
       "      <td>NaN</td>\n",
       "    </tr>\n",
       "    <tr>\n",
       "      <th>794</th>\n",
       "      <td>FE76AC63</td>\n",
       "      <td>0.100000</td>\n",
       "      <td>?</td>\n",
       "      <td>NaN</td>\n",
       "      <td>NaN</td>\n",
       "    </tr>\n",
       "    <tr>\n",
       "      <th>1088</th>\n",
       "      <td>D7EBF7BF</td>\n",
       "      <td>0.100000</td>\n",
       "      <td>?</td>\n",
       "      <td>NaN</td>\n",
       "      <td>NaN</td>\n",
       "    </tr>\n",
       "    <tr>\n",
       "      <th>1105</th>\n",
       "      <td>FE76AC63</td>\n",
       "      <td>0.100000</td>\n",
       "      <td>?</td>\n",
       "      <td>NaN</td>\n",
       "      <td>NaN</td>\n",
       "    </tr>\n",
       "    <tr>\n",
       "      <th>1198</th>\n",
       "      <td>FE76AC63</td>\n",
       "      <td>0.100000</td>\n",
       "      <td>?</td>\n",
       "      <td>NaN</td>\n",
       "      <td>NaN</td>\n",
       "    </tr>\n",
       "    <tr>\n",
       "      <th>1402</th>\n",
       "      <td>FE76AC63</td>\n",
       "      <td>0.100000</td>\n",
       "      <td>?</td>\n",
       "      <td>NaN</td>\n",
       "      <td>NaN</td>\n",
       "    </tr>\n",
       "    <tr>\n",
       "      <th>1498</th>\n",
       "      <td>A97D9A0</td>\n",
       "      <td>7.206244</td>\n",
       "      <td>?</td>\n",
       "      <td>hiphop</td>\n",
       "      <td>Ошибки</td>\n",
       "    </tr>\n",
       "    <tr>\n",
       "      <th>1517</th>\n",
       "      <td>FE76AC63</td>\n",
       "      <td>0.100000</td>\n",
       "      <td>?</td>\n",
       "      <td>NaN</td>\n",
       "      <td>NaN</td>\n",
       "    </tr>\n",
       "    <tr>\n",
       "      <th>1523</th>\n",
       "      <td>36EFD5CB</td>\n",
       "      <td>1.555000</td>\n",
       "      <td>?</td>\n",
       "      <td>pop</td>\n",
       "      <td>All Or Nothing</td>\n",
       "    </tr>\n",
       "    <tr>\n",
       "      <th>1524</th>\n",
       "      <td>2E98BD85</td>\n",
       "      <td>0.000000</td>\n",
       "      <td>?</td>\n",
       "      <td>NaN</td>\n",
       "      <td>NaN</td>\n",
       "    </tr>\n",
       "    <tr>\n",
       "      <th>1561</th>\n",
       "      <td>FE76AC63</td>\n",
       "      <td>0.100000</td>\n",
       "      <td>?</td>\n",
       "      <td>NaN</td>\n",
       "      <td>NaN</td>\n",
       "    </tr>\n",
       "    <tr>\n",
       "      <th>1668</th>\n",
       "      <td>FE76AC63</td>\n",
       "      <td>0.100000</td>\n",
       "      <td>?</td>\n",
       "      <td>NaN</td>\n",
       "      <td>NaN</td>\n",
       "    </tr>\n",
       "    <tr>\n",
       "      <th>1677</th>\n",
       "      <td>54A859CF</td>\n",
       "      <td>256.522000</td>\n",
       "      <td>The Slow Revolt</td>\n",
       "      <td>electronic</td>\n",
       "      <td>Never Get Close</td>\n",
       "    </tr>\n",
       "    <tr>\n",
       "      <th>1698</th>\n",
       "      <td>FE76AC63</td>\n",
       "      <td>0.100000</td>\n",
       "      <td>?</td>\n",
       "      <td>NaN</td>\n",
       "      <td>NaN</td>\n",
       "    </tr>\n",
       "    <tr>\n",
       "      <th>1762</th>\n",
       "      <td>FE76AC63</td>\n",
       "      <td>0.100000</td>\n",
       "      <td>?</td>\n",
       "      <td>NaN</td>\n",
       "      <td>NaN</td>\n",
       "    </tr>\n",
       "  </tbody>\n",
       "</table>\n",
       "</div>"
      ]
     },
     "execution_count": 71,
     "metadata": {},
     "output_type": "execute_result"
    }
   ],
   "execution_count": 71
  },
  {
   "metadata": {
    "ExecuteTime": {
     "end_time": "2024-08-21T09:44:18.004027Z",
     "start_time": "2024-08-21T09:44:17.939399Z"
    }
   },
   "cell_type": "code",
   "source": [
    "music = music.drop_duplicates().reset_index(drop=True)\n",
    "gen = pd.Series(music['genre'].unique())\n",
    "gen"
   ],
   "id": "c2c7b05c221d0bd1",
   "outputs": [
    {
     "data": {
      "text/plain": [
       "0               pop\n",
       "1           ambient\n",
       "2             dance\n",
       "3              jazz\n",
       "4      classicmetal\n",
       "           ...     \n",
       "300           djent\n",
       "301     independent\n",
       "302            şiir\n",
       "303      shoegazing\n",
       "304            rave\n",
       "Length: 305, dtype: object"
      ]
     },
     "execution_count": 80,
     "metadata": {},
     "output_type": "execute_result"
    }
   ],
   "execution_count": 80
  },
  {
   "metadata": {
    "ExecuteTime": {
     "end_time": "2024-08-21T09:46:45.207449Z",
     "start_time": "2024-08-21T09:46:45.191968Z"
    }
   },
   "cell_type": "code",
   "source": [
    "music['genre'] = music['genre'].replace('электроника', 'electronic')\n",
    "gen = pd.Series(music['genre'].unique())\n",
    "gen"
   ],
   "id": "2f3b8cb05a6c8081",
   "outputs": [
    {
     "data": {
      "text/plain": [
       "0               pop\n",
       "1           ambient\n",
       "2             dance\n",
       "3              jazz\n",
       "4      classicmetal\n",
       "           ...     \n",
       "299           djent\n",
       "300     independent\n",
       "301            şiir\n",
       "302      shoegazing\n",
       "303            rave\n",
       "Length: 304, dtype: object"
      ]
     },
     "execution_count": 82,
     "metadata": {},
     "output_type": "execute_result"
    }
   ],
   "execution_count": 82
  },
  {
   "metadata": {
    "ExecuteTime": {
     "end_time": "2024-10-15T12:55:36.098163Z",
     "start_time": "2024-10-15T12:55:36.085571Z"
    }
   },
   "cell_type": "code",
   "source": "music['genre'].dropna()",
   "id": "24f60ee8619f3a42",
   "outputs": [
    {
     "data": {
      "text/plain": [
       "0            pop\n",
       "1        ambient\n",
       "2        ambient\n",
       "3          dance\n",
       "4            pop\n",
       "          ...   \n",
       "67957     reggae\n",
       "67958        pop\n",
       "67959      dance\n",
       "67960      metal\n",
       "67961        pop\n",
       "Name: genre, Length: 64661, dtype: object"
      ]
     },
     "execution_count": 7,
     "metadata": {},
     "output_type": "execute_result"
    }
   ],
   "execution_count": 7
  },
  {
   "metadata": {
    "ExecuteTime": {
     "end_time": "2024-10-15T13:15:56.919562Z",
     "start_time": "2024-10-15T13:15:56.886624Z"
    }
   },
   "cell_type": "code",
   "source": "music.info()",
   "id": "819612370c794e6b",
   "outputs": [
    {
     "name": "stdout",
     "output_type": "stream",
     "text": [
      "<class 'pandas.core.frame.DataFrame'>\n",
      "RangeIndex: 67963 entries, 0 to 67962\n",
      "Data columns (total 5 columns):\n",
      " #   Column      Non-Null Count  Dtype  \n",
      "---  ------      --------------  -----  \n",
      " 0     user_id   67963 non-null  object \n",
      " 1   total play  67399 non-null  float64\n",
      " 2   Artist      59646 non-null  object \n",
      " 3   genre       64661 non-null  object \n",
      " 4   track       64804 non-null  object \n",
      "dtypes: float64(1), object(4)\n",
      "memory usage: 2.6+ MB\n"
     ]
    }
   ],
   "execution_count": 18
  },
  {
   "metadata": {
    "ExecuteTime": {
     "end_time": "2024-10-15T13:32:33.627139Z",
     "start_time": "2024-10-15T13:32:33.589427Z"
    }
   },
   "cell_type": "code",
   "source": [
    "music.groupby(\n",
    "    'genre', as_index=False\n",
    ").agg(\n",
    "    {\n",
    "    'total_play':['mean','size'],\n",
    "    'user_id':'nunique',\n",
    "    }\n",
    ").sort_values(\n",
    "    by='genre',\n",
    "    ascending=True\n",
    ").droplevel(\n",
    "    level = 0,\n",
    "    axis = 1\n",
    ").rename(\n",
    "    {\n",
    "        '':'genre',\n",
    "        'mean':'avg_play',\n",
    "        'size':'non_unique_user_count',\n",
    "        'nunique':'unique_user_count'\n",
    "    },\n",
    "    axis = 1\n",
    ")"
   ],
   "id": "a9b07e59fc693ce3",
   "outputs": [
    {
     "data": {
      "text/plain": [
       "           genre    avg_play  non_unique_user_count  unique_user_count\n",
       "0       acapella  355.000000                      1                  1\n",
       "1           acid  242.461000                      2                  2\n",
       "2       acoustic   80.149388                      3                  2\n",
       "3         action  170.634529                      3                  2\n",
       "4          adult   85.560046                     27                 26\n",
       "..           ...         ...                    ...                ...\n",
       "299   worldmusic   20.000000                      1                  1\n",
       "300         wort   29.284968                      4                  4\n",
       "301         yoga  102.392381                      3                  3\n",
       "302         şiir    2.043000                      1                  1\n",
       "303  электроника    0.504500                      2                  2\n",
       "\n",
       "[304 rows x 4 columns]"
      ],
      "text/html": [
       "<div>\n",
       "<style scoped>\n",
       "    .dataframe tbody tr th:only-of-type {\n",
       "        vertical-align: middle;\n",
       "    }\n",
       "\n",
       "    .dataframe tbody tr th {\n",
       "        vertical-align: top;\n",
       "    }\n",
       "\n",
       "    .dataframe thead th {\n",
       "        text-align: right;\n",
       "    }\n",
       "</style>\n",
       "<table border=\"1\" class=\"dataframe\">\n",
       "  <thead>\n",
       "    <tr style=\"text-align: right;\">\n",
       "      <th></th>\n",
       "      <th>genre</th>\n",
       "      <th>avg_play</th>\n",
       "      <th>non_unique_user_count</th>\n",
       "      <th>unique_user_count</th>\n",
       "    </tr>\n",
       "  </thead>\n",
       "  <tbody>\n",
       "    <tr>\n",
       "      <th>0</th>\n",
       "      <td>acapella</td>\n",
       "      <td>355.000000</td>\n",
       "      <td>1</td>\n",
       "      <td>1</td>\n",
       "    </tr>\n",
       "    <tr>\n",
       "      <th>1</th>\n",
       "      <td>acid</td>\n",
       "      <td>242.461000</td>\n",
       "      <td>2</td>\n",
       "      <td>2</td>\n",
       "    </tr>\n",
       "    <tr>\n",
       "      <th>2</th>\n",
       "      <td>acoustic</td>\n",
       "      <td>80.149388</td>\n",
       "      <td>3</td>\n",
       "      <td>2</td>\n",
       "    </tr>\n",
       "    <tr>\n",
       "      <th>3</th>\n",
       "      <td>action</td>\n",
       "      <td>170.634529</td>\n",
       "      <td>3</td>\n",
       "      <td>2</td>\n",
       "    </tr>\n",
       "    <tr>\n",
       "      <th>4</th>\n",
       "      <td>adult</td>\n",
       "      <td>85.560046</td>\n",
       "      <td>27</td>\n",
       "      <td>26</td>\n",
       "    </tr>\n",
       "    <tr>\n",
       "      <th>...</th>\n",
       "      <td>...</td>\n",
       "      <td>...</td>\n",
       "      <td>...</td>\n",
       "      <td>...</td>\n",
       "    </tr>\n",
       "    <tr>\n",
       "      <th>299</th>\n",
       "      <td>worldmusic</td>\n",
       "      <td>20.000000</td>\n",
       "      <td>1</td>\n",
       "      <td>1</td>\n",
       "    </tr>\n",
       "    <tr>\n",
       "      <th>300</th>\n",
       "      <td>wort</td>\n",
       "      <td>29.284968</td>\n",
       "      <td>4</td>\n",
       "      <td>4</td>\n",
       "    </tr>\n",
       "    <tr>\n",
       "      <th>301</th>\n",
       "      <td>yoga</td>\n",
       "      <td>102.392381</td>\n",
       "      <td>3</td>\n",
       "      <td>3</td>\n",
       "    </tr>\n",
       "    <tr>\n",
       "      <th>302</th>\n",
       "      <td>şiir</td>\n",
       "      <td>2.043000</td>\n",
       "      <td>1</td>\n",
       "      <td>1</td>\n",
       "    </tr>\n",
       "    <tr>\n",
       "      <th>303</th>\n",
       "      <td>электроника</td>\n",
       "      <td>0.504500</td>\n",
       "      <td>2</td>\n",
       "      <td>2</td>\n",
       "    </tr>\n",
       "  </tbody>\n",
       "</table>\n",
       "<p>304 rows × 4 columns</p>\n",
       "</div>"
      ]
     },
     "execution_count": 43,
     "metadata": {},
     "output_type": "execute_result"
    }
   ],
   "execution_count": 43
  },
  {
   "metadata": {
    "ExecuteTime": {
     "end_time": "2024-10-15T12:57:37.800787Z",
     "start_time": "2024-10-15T12:57:37.795927Z"
    }
   },
   "cell_type": "code",
   "source": " ",
   "id": "47731bff001dca23",
   "outputs": [],
   "execution_count": null
  }
 ],
 "metadata": {
  "kernelspec": {
   "display_name": "Python 3",
   "language": "python",
   "name": "python3"
  },
  "language_info": {
   "codemirror_mode": {
    "name": "ipython",
    "version": 2
   },
   "file_extension": ".py",
   "mimetype": "text/x-python",
   "name": "python",
   "nbconvert_exporter": "python",
   "pygments_lexer": "ipython2",
   "version": "2.7.6"
  }
 },
 "nbformat": 4,
 "nbformat_minor": 5
}
