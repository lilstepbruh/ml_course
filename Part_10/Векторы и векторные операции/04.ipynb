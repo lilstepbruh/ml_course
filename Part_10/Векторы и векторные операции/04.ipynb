{
 "cells": [
  {
   "cell_type": "code",
   "id": "initial_id",
   "metadata": {
    "collapsed": true,
    "ExecuteTime": {
     "end_time": "2025-03-05T11:02:47.228137Z",
     "start_time": "2025-03-05T11:02:46.894580Z"
    }
   },
   "source": [
    "import numpy as np\n",
    "import pandas as pd"
   ],
   "outputs": [],
   "execution_count": 1
  },
  {
   "metadata": {
    "ExecuteTime": {
     "end_time": "2025-03-05T11:04:09.953319Z",
     "start_time": "2025-03-05T11:04:09.948985Z"
    }
   },
   "cell_type": "code",
   "source": [
    "quantity_1 = [25, 63, 80, 91, 81, 55, 14, 76, 33, 71]\n",
    "models = ['Чехол силиконовый для iPhone 8',\n",
    "          'Чехол кожаный для iPhone 8',\n",
    "          'Чехол силиконовый для iPhone XS',\n",
    "          'Чехол кожаный для iPhone XS',\n",
    "          'Чехол силиконовый для iPhone XS Max',\n",
    "          'Чехол кожаный для iPhone XS Max',\n",
    "          'Чехол силиконовый для iPhone 11',\n",
    "          'Чехол кожаный для iPhone 11',\n",
    "          'Чехол силиконовый для iPhone 11 Pro',\n",
    "          'Чехол кожаный для iPhone 11 Pro',\n",
    "          ]\n",
    "\n",
    "stocks_1 = pd.DataFrame({'Количество' : quantity_1}, index=models)\n",
    "quantity_2 = [82, 24, 92, 48, 32, 45, 4, 34, 12, 1]\n",
    "stocks_2 = pd.DataFrame({'Количество' : quantity_2}, index=models)\n"
   ],
   "id": "2850f71b99e0cf95",
   "outputs": [],
   "execution_count": 2
  },
  {
   "metadata": {
    "ExecuteTime": {
     "end_time": "2025-03-05T11:06:41.071389Z",
     "start_time": "2025-03-05T11:06:41.068467Z"
    }
   },
   "cell_type": "code",
   "source": [
    "vector_of_quantity_1 = np.array(stocks_1['Количество'].values)\n",
    "vector_of_quantity_2 = np.array(stocks_2['Количество'].values)"
   ],
   "id": "8a3813f7b925572",
   "outputs": [],
   "execution_count": 12
  },
  {
   "metadata": {
    "ExecuteTime": {
     "end_time": "2025-03-05T11:06:41.476567Z",
     "start_time": "2025-03-05T11:06:41.472002Z"
    }
   },
   "cell_type": "code",
   "source": [
    "print(\"Запасы первого магазина:\", vector_of_quantity_1,\n",
    "\"\\nЗапасы второго магазина:\",vector_of_quantity_2)"
   ],
   "id": "7715c1c8f73d40bb",
   "outputs": [
    {
     "name": "stdout",
     "output_type": "stream",
     "text": [
      "Запасы первого магазина: [25 63 80 91 81 55 14 76 33 71] \n",
      "Запасы второго магазина: [82 24 92 48 32 45  4 34 12  1]\n"
     ]
    }
   ],
   "execution_count": 13
  },
  {
   "metadata": {},
   "cell_type": "markdown",
   "source": [
    "\n",
    "Вычислите вектор со складским запасом объединённого интернет-магазина «АйДаЧехлоФон».\n",
    "Напечатайте результат на экране (уже в прекоде)."
   ],
   "id": "f6d458b701562a30"
  },
  {
   "metadata": {
    "ExecuteTime": {
     "end_time": "2025-03-05T11:08:08.676190Z",
     "start_time": "2025-03-05T11:08:08.673016Z"
    }
   },
   "cell_type": "code",
   "source": [
    "vector_of_quantity_united = vector_of_quantity_1 + vector_of_quantity_2\n",
    "print(vector_of_quantity_united)"
   ],
   "id": "5f3da67965026f9b",
   "outputs": [
    {
     "name": "stdout",
     "output_type": "stream",
     "text": [
      "[107  87 172 139 113 100  18 110  45  72]\n"
     ]
    }
   ],
   "execution_count": 14
  },
  {
   "metadata": {},
   "cell_type": "markdown",
   "source": "Постройте  таблицу с ассортиментом объединённого магазина. Напечатайте результат на экране (уже в прекоде).\n",
   "id": "cc6e8d04f6f5afdd"
  },
  {
   "metadata": {
    "ExecuteTime": {
     "end_time": "2025-03-05T11:10:14.580381Z",
     "start_time": "2025-03-05T11:10:14.575686Z"
    }
   },
   "cell_type": "code",
   "source": "pd.DataFrame({'Количество':vector_of_quantity_united}, index=models)",
   "id": "d045dd4a36af997e",
   "outputs": [
    {
     "data": {
      "text/plain": [
       "                                     Количество\n",
       "Чехол силиконовый для iPhone 8              107\n",
       "Чехол кожаный для iPhone 8                   87\n",
       "Чехол силиконовый для iPhone XS             172\n",
       "Чехол кожаный для iPhone XS                 139\n",
       "Чехол силиконовый для iPhone XS Max         113\n",
       "Чехол кожаный для iPhone XS Max             100\n",
       "Чехол силиконовый для iPhone 11              18\n",
       "Чехол кожаный для iPhone 11                 110\n",
       "Чехол силиконовый для iPhone 11 Pro          45\n",
       "Чехол кожаный для iPhone 11 Pro              72"
      ],
      "text/html": [
       "<div>\n",
       "<style scoped>\n",
       "    .dataframe tbody tr th:only-of-type {\n",
       "        vertical-align: middle;\n",
       "    }\n",
       "\n",
       "    .dataframe tbody tr th {\n",
       "        vertical-align: top;\n",
       "    }\n",
       "\n",
       "    .dataframe thead th {\n",
       "        text-align: right;\n",
       "    }\n",
       "</style>\n",
       "<table border=\"1\" class=\"dataframe\">\n",
       "  <thead>\n",
       "    <tr style=\"text-align: right;\">\n",
       "      <th></th>\n",
       "      <th>Количество</th>\n",
       "    </tr>\n",
       "  </thead>\n",
       "  <tbody>\n",
       "    <tr>\n",
       "      <th>Чехол силиконовый для iPhone 8</th>\n",
       "      <td>107</td>\n",
       "    </tr>\n",
       "    <tr>\n",
       "      <th>Чехол кожаный для iPhone 8</th>\n",
       "      <td>87</td>\n",
       "    </tr>\n",
       "    <tr>\n",
       "      <th>Чехол силиконовый для iPhone XS</th>\n",
       "      <td>172</td>\n",
       "    </tr>\n",
       "    <tr>\n",
       "      <th>Чехол кожаный для iPhone XS</th>\n",
       "      <td>139</td>\n",
       "    </tr>\n",
       "    <tr>\n",
       "      <th>Чехол силиконовый для iPhone XS Max</th>\n",
       "      <td>113</td>\n",
       "    </tr>\n",
       "    <tr>\n",
       "      <th>Чехол кожаный для iPhone XS Max</th>\n",
       "      <td>100</td>\n",
       "    </tr>\n",
       "    <tr>\n",
       "      <th>Чехол силиконовый для iPhone 11</th>\n",
       "      <td>18</td>\n",
       "    </tr>\n",
       "    <tr>\n",
       "      <th>Чехол кожаный для iPhone 11</th>\n",
       "      <td>110</td>\n",
       "    </tr>\n",
       "    <tr>\n",
       "      <th>Чехол силиконовый для iPhone 11 Pro</th>\n",
       "      <td>45</td>\n",
       "    </tr>\n",
       "    <tr>\n",
       "      <th>Чехол кожаный для iPhone 11 Pro</th>\n",
       "      <td>72</td>\n",
       "    </tr>\n",
       "  </tbody>\n",
       "</table>\n",
       "</div>"
      ]
     },
     "execution_count": 17,
     "metadata": {},
     "output_type": "execute_result"
    }
   ],
   "execution_count": 17
  }
 ],
 "metadata": {
  "kernelspec": {
   "display_name": "Python 3",
   "language": "python",
   "name": "python3"
  },
  "language_info": {
   "codemirror_mode": {
    "name": "ipython",
    "version": 2
   },
   "file_extension": ".py",
   "mimetype": "text/x-python",
   "name": "python",
   "nbconvert_exporter": "python",
   "pygments_lexer": "ipython2",
   "version": "2.7.6"
  }
 },
 "nbformat": 4,
 "nbformat_minor": 5
}
