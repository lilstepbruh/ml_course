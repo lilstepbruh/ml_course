{
 "cells": [
  {
   "cell_type": "code",
   "id": "initial_id",
   "metadata": {
    "collapsed": true,
    "ExecuteTime": {
     "end_time": "2025-03-05T08:29:28.820240Z",
     "start_time": "2025-03-05T08:29:28.017178Z"
    }
   },
   "source": [
    "import pandas as pd\n",
    "import numpy as np"
   ],
   "outputs": [],
   "execution_count": 1
  },
  {
   "metadata": {},
   "cell_type": "markdown",
   "source": "Создайте два вектора: первый содержит все ответы на вопрос о цене, второй — о качестве. Напечатайте результат на экране (уже в прекоде).\n",
   "id": "8474c3bfe7ef7ab9"
  },
  {
   "metadata": {
    "ExecuteTime": {
     "end_time": "2025-03-05T08:31:03.154899Z",
     "start_time": "2025-03-05T08:31:03.151829Z"
    }
   },
   "cell_type": "code",
   "source": [
    "reviews_values = [\n",
    "    [68,18], [81,19], [81,22], [15,75], [75,15], [17,72],\n",
    "    [24,75], [21,91], [76, 6], [12,74], [18,83], [20,62],\n",
    "    [21,82], [21,79], [84,15], [73,16], [88,25], [78,23],\n",
    "    [32, 81], [77, 35]]"
   ],
   "id": "8b1d9b87459cbc0e",
   "outputs": [],
   "execution_count": 3
  },
  {
   "metadata": {
    "ExecuteTime": {
     "end_time": "2025-03-05T08:31:03.522677Z",
     "start_time": "2025-03-05T08:31:03.518442Z"
    }
   },
   "cell_type": "code",
   "source": "reviews = pd.DataFrame(reviews_values, columns=['Цена', 'Качество'])",
   "id": "5104455a240acf6c",
   "outputs": [],
   "execution_count": 4
  },
  {
   "metadata": {
    "ExecuteTime": {
     "end_time": "2025-03-05T09:00:10.132713Z",
     "start_time": "2025-03-05T09:00:10.130690Z"
    }
   },
   "cell_type": "code",
   "source": [
    "price = reviews['Цена'].values\n",
    "quality = reviews['Качество'].values"
   ],
   "id": "1d590c7cb2011dac",
   "outputs": [],
   "execution_count": 22
  },
  {
   "metadata": {
    "ExecuteTime": {
     "end_time": "2025-03-05T09:00:13.498354Z",
     "start_time": "2025-03-05T09:00:13.495201Z"
    }
   },
   "cell_type": "code",
   "source": "print('Цена:', price)",
   "id": "63420b10630e8eb",
   "outputs": [
    {
     "name": "stdout",
     "output_type": "stream",
     "text": [
      "Цена: [68 81 81 15 75 17 24 21 76 12 18 20 21 21 84 73 88 78 32 77]\n"
     ]
    }
   ],
   "execution_count": 23
  },
  {
   "metadata": {
    "ExecuteTime": {
     "end_time": "2025-03-05T09:00:13.786582Z",
     "start_time": "2025-03-05T09:00:13.783048Z"
    }
   },
   "cell_type": "code",
   "source": "print('Качество:', quality)",
   "id": "fcec705c97cb0a8",
   "outputs": [
    {
     "name": "stdout",
     "output_type": "stream",
     "text": [
      "Качество: [18 19 22 75 15 72 75 91  6 74 83 62 82 79 15 16 25 23 81 35]\n"
     ]
    }
   ],
   "execution_count": 24
  },
  {
   "metadata": {},
   "cell_type": "markdown",
   "source": "Определите общее количество покупателей «НосиВипчик». Найдите вектор с оценками клиента с индексом 4 (нумерация индексов начинается с нуля). Напечатайте результат на экране (уже в прекоде).\n",
   "id": "290198ef9cb1767a"
  },
  {
   "metadata": {
    "ExecuteTime": {
     "end_time": "2025-03-05T09:00:45.847876Z",
     "start_time": "2025-03-05T09:00:45.844800Z"
    }
   },
   "cell_type": "code",
   "source": "len(reviews)",
   "id": "260928bdbd5c9838",
   "outputs": [
    {
     "data": {
      "text/plain": [
       "20"
      ]
     },
     "execution_count": 25,
     "metadata": {},
     "output_type": "execute_result"
    }
   ],
   "execution_count": 25
  },
  {
   "metadata": {
    "ExecuteTime": {
     "end_time": "2025-03-05T09:01:41.286800Z",
     "start_time": "2025-03-05T09:01:41.282837Z"
    }
   },
   "cell_type": "code",
   "source": "reviews.loc[4]",
   "id": "dcfde50023d4a38c",
   "outputs": [
    {
     "data": {
      "text/plain": [
       "Цена        75\n",
       "Качество    15\n",
       "Name: 4, dtype: int64"
      ]
     },
     "execution_count": 26,
     "metadata": {},
     "output_type": "execute_result"
    }
   ],
   "execution_count": 26
  },
  {
   "metadata": {},
   "cell_type": "markdown",
   "source": "У таблицы есть атрибут values — это двумерный массив. Вызовом функции list() преобразуйте его в список векторов с оценками всех клиентов. Последняя строчка кода выведет результат.\n",
   "id": "b4da79fb04063df9"
  },
  {
   "metadata": {
    "ExecuteTime": {
     "end_time": "2025-03-05T09:25:09.227879Z",
     "start_time": "2025-03-05T09:25:09.222492Z"
    }
   },
   "cell_type": "code",
   "source": "list(reviews.values)",
   "id": "63564df5dbb3698b",
   "outputs": [
    {
     "data": {
      "text/plain": [
       "[array([68, 18]),\n",
       " array([81, 19]),\n",
       " array([81, 22]),\n",
       " array([15, 75]),\n",
       " array([75, 15]),\n",
       " array([17, 72]),\n",
       " array([24, 75]),\n",
       " array([21, 91]),\n",
       " array([76,  6]),\n",
       " array([12, 74]),\n",
       " array([18, 83]),\n",
       " array([20, 62]),\n",
       " array([21, 82]),\n",
       " array([21, 79]),\n",
       " array([84, 15]),\n",
       " array([73, 16]),\n",
       " array([88, 25]),\n",
       " array([78, 23]),\n",
       " array([32, 81]),\n",
       " array([77, 35])]"
      ]
     },
     "execution_count": 27,
     "metadata": {},
     "output_type": "execute_result"
    }
   ],
   "execution_count": 27
  },
  {
   "metadata": {
    "ExecuteTime": {
     "end_time": "2025-03-05T10:32:41.509962Z",
     "start_time": "2025-03-05T10:32:41.504720Z"
    }
   },
   "cell_type": "code",
   "source": "%store reviews",
   "id": "f50fb71c27646185",
   "outputs": [
    {
     "name": "stdout",
     "output_type": "stream",
     "text": [
      "Stored 'reviews' (DataFrame)\n"
     ]
    }
   ],
   "execution_count": 28
  }
 ],
 "metadata": {
  "kernelspec": {
   "display_name": "Python 3",
   "language": "python",
   "name": "python3"
  },
  "language_info": {
   "codemirror_mode": {
    "name": "ipython",
    "version": 2
   },
   "file_extension": ".py",
   "mimetype": "text/x-python",
   "name": "python",
   "nbconvert_exporter": "python",
   "pygments_lexer": "ipython2",
   "version": "2.7.6"
  }
 },
 "nbformat": 4,
 "nbformat_minor": 5
}
