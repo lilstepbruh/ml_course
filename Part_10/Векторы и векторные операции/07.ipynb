{
 "cells": [
  {
   "cell_type": "code",
   "id": "initial_id",
   "metadata": {
    "collapsed": true,
    "ExecuteTime": {
     "end_time": "2025-03-05T14:56:13.975209Z",
     "start_time": "2025-03-05T14:56:13.903815Z"
    }
   },
   "source": "import numpy as np",
   "outputs": [],
   "execution_count": 1
  },
  {
   "metadata": {
    "ExecuteTime": {
     "end_time": "2025-03-05T14:57:59.450012Z",
     "start_time": "2025-03-05T14:57:59.447036Z"
    }
   },
   "cell_type": "code",
   "source": [
    "def logistic_transform(values):\n",
    "    return [(1/(1+np.exp(-x))) for x in values]\n",
    "\n",
    "our_values = np.array([-20, 0, 0.5, 80, -1])\n",
    "print(logistic_transform(our_values))"
   ],
   "id": "d8a481655bbb2d9a",
   "outputs": [
    {
     "name": "stdout",
     "output_type": "stream",
     "text": [
      "[2.0611536181902037e-09, 0.5, 0.6224593312018546, 1.0, 0.2689414213699951]\n"
     ]
    }
   ],
   "execution_count": 3
  }
 ],
 "metadata": {
  "kernelspec": {
   "display_name": "Python 3",
   "language": "python",
   "name": "python3"
  },
  "language_info": {
   "codemirror_mode": {
    "name": "ipython",
    "version": 2
   },
   "file_extension": ".py",
   "mimetype": "text/x-python",
   "name": "python",
   "nbconvert_exporter": "python",
   "pygments_lexer": "ipython2",
   "version": "2.7.6"
  }
 },
 "nbformat": 4,
 "nbformat_minor": 5
}
