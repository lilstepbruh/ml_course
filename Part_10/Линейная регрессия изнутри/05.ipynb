{
 "cells": [
  {
   "metadata": {
    "ExecuteTime": {
     "end_time": "2025-03-10T15:52:47.299308Z",
     "start_time": "2025-03-10T15:52:46.861341Z"
    }
   },
   "cell_type": "code",
   "source": [
    "import numpy as np\n",
    "import pandas as pd\n",
    "from jupyter_server.utils import fetch\n",
    "from sklearn.metrics import r2_score"
   ],
   "id": "5f944b00f08d68b9",
   "outputs": [],
   "execution_count": 9
  },
  {
   "cell_type": "code",
   "id": "initial_id",
   "metadata": {
    "collapsed": true,
    "ExecuteTime": {
     "end_time": "2025-03-10T19:22:06.742579Z",
     "start_time": "2025-03-10T19:22:06.724288Z"
    }
   },
   "source": [
    "columns = ['комнаты', 'площадь', 'кухня', 'пл. жилая', 'этаж', 'всего этажей', 'цена']\n",
    "\n",
    "data = pd.DataFrame([\n",
    "    [1, 38.5, 6.9, 18.9, 3, 5, 4200000],\n",
    "    [1, 38.0, 8.5, 19.2, 9, 17, 3500000],\n",
    "    [1, 34.7, 10.3, 19.8, 1, 9, 5100000],\n",
    "    [1, 45.9, 11.1, 17.5, 11, 23, 6300000],\n",
    "    [1, 42.4, 10.0, 19.9, 6, 14, 5900000],\n",
    "    [1, 46.0, 10.2, 20.5, 3, 12, 8100000],\n",
    "    [2, 77.7, 13.2, 39.3, 3, 17, 7400000],\n",
    "    [2, 69.8, 11.1, 31.4, 12, 23, 7200000],\n",
    "    [2, 78.2, 19.4, 33.2, 4, 9, 6800000],\n",
    "    [2, 55.5, 7.8, 29.6, 1, 25, 9300000],\n",
    "    [2, 74.3, 16.0, 34.2, 14, 17, 10600000],\n",
    "    [2, 78.3, 12.3, 42.6, 23, 23, 8500000],\n",
    "    [2, 74.0, 18.1, 49.0, 8, 9, 6000000],\n",
    "    [2, 91.4, 20.1, 60.4, 2, 10, 7200000],\n",
    "    [3, 85.0, 17.8, 56.1, 14, 14, 12500000],\n",
    "    [3, 79.8, 9.8, 44.8, 9, 10, 13200000],\n",
    "    [3, 72.0, 10.2, 37.3, 7, 9, 15100000],\n",
    "    [3, 95.3, 11.0, 51.5, 15, 23, 9800000],\n",
    "    [3, 69.3, 8.5, 39.3, 4, 9, 11400000],\n",
    "    [3, 89.8, 11.2, 58.2, 24, 25, 16300000],\n",
    "], columns=columns)\n",
    "\n",
    "features = data.drop('цена', axis=1)\n",
    "target = data['цена']"
   ],
   "outputs": [],
   "execution_count": 27
  },
  {
   "metadata": {
    "ExecuteTime": {
     "end_time": "2025-03-10T19:22:37.194617Z",
     "start_time": "2025-03-10T19:22:37.191251Z"
    }
   },
   "cell_type": "code",
   "source": [
    "class LinearRegression:\n",
    "    def fit(self, train_features, train_target):\n",
    "        self.w = np.zeros(train_features.shape[1])\n",
    "        self.w0 = np.mean(train_target)\n",
    "\n",
    "    def predict(self, test_features):\n",
    "        return test_features @ self.w + self.w0"
   ],
   "id": "e0735430dbcf2898",
   "outputs": [],
   "execution_count": 30
  },
  {
   "metadata": {
    "ExecuteTime": {
     "end_time": "2025-03-10T19:22:37.528277Z",
     "start_time": "2025-03-10T19:22:37.525130Z"
    }
   },
   "cell_type": "code",
   "source": [
    "model = LinearRegression()\n",
    "model.fit(features, target)\n",
    "predictions = model.predict(features)"
   ],
   "id": "e59ec16911b7d828",
   "outputs": [],
   "execution_count": 31
  },
  {
   "metadata": {
    "ExecuteTime": {
     "end_time": "2025-03-10T19:22:37.832650Z",
     "start_time": "2025-03-10T19:22:37.827992Z"
    }
   },
   "cell_type": "code",
   "source": "r2_score(target, predictions)",
   "id": "91f3771911fc9ba4",
   "outputs": [
    {
     "data": {
      "text/plain": [
       "0.0"
      ]
     },
     "execution_count": 32,
     "metadata": {},
     "output_type": "execute_result"
    }
   ],
   "execution_count": 32
  },
  {
   "metadata": {},
   "cell_type": "markdown",
   "source": "# 3",
   "id": "6120451d97b8f14d"
  },
  {
   "metadata": {
    "ExecuteTime": {
     "end_time": "2025-03-10T19:34:23.539061Z",
     "start_time": "2025-03-10T19:34:23.535559Z"
    }
   },
   "cell_type": "code",
   "source": [
    "class LinearRegression:\n",
    "    def fit(self, train_features, train_target):\n",
    "        X = np.concatenate((np.ones((train_features.shape[0], 1)), train_features), axis=1)\n",
    "        y = train_target\n",
    "        w = np.linalg.inv(X.T @ X) @ X.T @ y\n",
    "        self.w = w[1:]\n",
    "        self.w0 = w[0]\n",
    "    def predict(self, test_features):\n",
    "        return test_features.dot(self.w) + self.w0"
   ],
   "id": "8e590191c01d38e0",
   "outputs": [],
   "execution_count": 40
  },
  {
   "metadata": {
    "ExecuteTime": {
     "end_time": "2025-03-10T19:34:23.905313Z",
     "start_time": "2025-03-10T19:34:23.896593Z"
    }
   },
   "cell_type": "code",
   "source": [
    "model = LinearRegression()\n",
    "model.fit(features, target)\n",
    "predictions = model.predict(features)"
   ],
   "id": "26a335acd3fa4496",
   "outputs": [],
   "execution_count": 41
  },
  {
   "metadata": {
    "ExecuteTime": {
     "end_time": "2025-03-10T19:34:26.499457Z",
     "start_time": "2025-03-10T19:34:26.495021Z"
    }
   },
   "cell_type": "code",
   "source": "r2_score(target, predictions)\n",
   "id": "3f2ddcf978e63d8e",
   "outputs": [
    {
     "data": {
      "text/plain": [
       "0.7781189439686585"
      ]
     },
     "execution_count": 42,
     "metadata": {},
     "output_type": "execute_result"
    }
   ],
   "execution_count": 42
  },
  {
   "metadata": {},
   "cell_type": "code",
   "outputs": [],
   "execution_count": null,
   "source": "",
   "id": "a915bed2d8c2847a"
  }
 ],
 "metadata": {
  "kernelspec": {
   "display_name": "Python 3",
   "language": "python",
   "name": "python3"
  },
  "language_info": {
   "codemirror_mode": {
    "name": "ipython",
    "version": 2
   },
   "file_extension": ".py",
   "mimetype": "text/x-python",
   "name": "python",
   "nbconvert_exporter": "python",
   "pygments_lexer": "ipython2",
   "version": "2.7.6"
  }
 },
 "nbformat": 4,
 "nbformat_minor": 5
}
