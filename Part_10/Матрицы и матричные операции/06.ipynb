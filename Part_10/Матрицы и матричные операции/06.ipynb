{
 "cells": [
  {
   "metadata": {},
   "cell_type": "markdown",
   "source": "# 1",
   "id": "48468d919e3531c0"
  },
  {
   "cell_type": "code",
   "id": "initial_id",
   "metadata": {
    "collapsed": true,
    "ExecuteTime": {
     "end_time": "2025-03-07T08:50:37.407565Z",
     "start_time": "2025-03-07T08:50:37.108098Z"
    }
   },
   "source": [
    "import numpy as np\n",
    "import pandas as pd"
   ],
   "outputs": [],
   "execution_count": 1
  },
  {
   "metadata": {
    "ExecuteTime": {
     "end_time": "2025-03-07T08:51:07.152012Z",
     "start_time": "2025-03-07T08:51:07.147809Z"
    }
   },
   "cell_type": "code",
   "source": [
    "services = ['Минуты', 'СМС', 'Мбайты']\n",
    "packs_names = ['«За рулём»', '«В метро»']\n",
    "packs = np.array([\n",
    "    [20, 5],\n",
    "    [2, 5],\n",
    "    [500, 1000]])\n",
    "\n",
    "clients_packs = np.array([\n",
    "    [1, 2],\n",
    "    [2, 3],\n",
    "    [4, 1],\n",
    "    [2, 3],\n",
    "    [5, 0]])"
   ],
   "id": "32183202bac10d11",
   "outputs": [],
   "execution_count": 2
  },
  {
   "metadata": {
    "ExecuteTime": {
     "end_time": "2025-03-07T08:55:44.972690Z",
     "start_time": "2025-03-07T08:55:44.947528Z"
    }
   },
   "cell_type": "code",
   "source": [
    "print('Пакеты')\n",
    "print(pd.DataFrame(clients_packs, columns=packs_names))\n",
    "print()\n"
   ],
   "id": "b55f61b7b432cc20",
   "outputs": [
    {
     "name": "stdout",
     "output_type": "stream",
     "text": [
      "Пакеты\n",
      "   «За рулём»  «В метро»\n",
      "0           1          2\n",
      "1           2          3\n",
      "2           4          1\n",
      "3           2          3\n",
      "4           5          0\n",
      "\n"
     ]
    }
   ],
   "execution_count": 3
  },
  {
   "metadata": {
    "ExecuteTime": {
     "end_time": "2025-03-10T10:51:57.934667Z",
     "start_time": "2025-03-10T10:51:57.931770Z"
    }
   },
   "cell_type": "code",
   "source": "clients_services = [packs @ client for client in clients_packs]",
   "id": "32c352cdc182c2c8",
   "outputs": [],
   "execution_count": 4
  },
  {
   "metadata": {
    "ExecuteTime": {
     "end_time": "2025-03-10T10:52:07.541436Z",
     "start_time": "2025-03-10T10:52:07.536746Z"
    }
   },
   "cell_type": "code",
   "source": "clients_services",
   "id": "d8c6404043fa2d48",
   "outputs": [
    {
     "data": {
      "text/plain": [
       "[array([  30,   12, 2500]),\n",
       " array([  55,   19, 4000]),\n",
       " array([  85,   13, 3000]),\n",
       " array([  55,   19, 4000]),\n",
       " array([ 100,   10, 2500])]"
      ]
     },
     "execution_count": 5,
     "metadata": {},
     "output_type": "execute_result"
    }
   ],
   "execution_count": 5
  },
  {
   "metadata": {
    "ExecuteTime": {
     "end_time": "2025-03-10T11:09:46.730905Z",
     "start_time": "2025-03-10T11:09:46.727321Z"
    }
   },
   "cell_type": "code",
   "source": "clients_packs @ packs.T",
   "id": "7d9ee6a8e9c3e780",
   "outputs": [
    {
     "data": {
      "text/plain": [
       "array([[  30,   12, 2500],\n",
       "       [  55,   19, 4000],\n",
       "       [  85,   13, 3000],\n",
       "       [  55,   19, 4000],\n",
       "       [ 100,   10, 2500]])"
      ]
     },
     "execution_count": 8,
     "metadata": {},
     "output_type": "execute_result"
    }
   ],
   "execution_count": 8
  },
  {
   "metadata": {
    "ExecuteTime": {
     "end_time": "2025-03-10T11:15:57.789640Z",
     "start_time": "2025-03-10T11:15:57.785042Z"
    }
   },
   "cell_type": "code",
   "source": "packs @ clients_packs.T",
   "id": "6829d57e0c8f6d8a",
   "outputs": [
    {
     "data": {
      "text/plain": [
       "array([[  30,   55,   85,   55,  100],\n",
       "       [  12,   19,   13,   19,   10],\n",
       "       [2500, 4000, 3000, 4000, 2500]])"
      ]
     },
     "execution_count": 10,
     "metadata": {},
     "output_type": "execute_result"
    }
   ],
   "execution_count": 10
  },
  {
   "metadata": {},
   "cell_type": "markdown",
   "source": "# 2",
   "id": "9238d009a9153368"
  },
  {
   "metadata": {
    "ExecuteTime": {
     "end_time": "2025-03-10T13:15:38.751163Z",
     "start_time": "2025-03-10T13:15:38.746886Z"
    }
   },
   "cell_type": "code",
   "source": [
    "materials_names = ['Древесная плита', 'Металлическая труба', 'Винты']\n",
    "venues_names = ['Кофейня', 'Бистро', 'Ресторан']\n",
    "\n",
    "manufacture = np.array([\n",
    "    [0.2, 1.2, 8],\n",
    "    [0.5, 0.8, 6],\n",
    "    [0.8, 1.6, 8]])\n",
    "\n",
    "furniture = np.array([\n",
    "    [12, 0, 3],\n",
    "    [40, 2, 10],\n",
    "    [60, 6, 18]])\n",
    "\n"
   ],
   "id": "5747ada45ce6ef37",
   "outputs": [],
   "execution_count": 13
  },
  {
   "metadata": {
    "ExecuteTime": {
     "end_time": "2025-03-10T13:28:09.811111Z",
     "start_time": "2025-03-10T13:28:09.658447Z"
    }
   },
   "cell_type": "code",
   "source": [
    "venues_materials = furniture @ manufacture\n",
    "\n",
    "print('По заведениям')\n",
    "print(pd.DataFrame(venues_materials, index=venues_names, columns=materials_names))\n",
    "print()"
   ],
   "id": "f5a333d11a31e1f4",
   "outputs": [
    {
     "name": "stdout",
     "output_type": "stream",
     "text": [
      "По заведениям\n",
      "          Древесная плита  Металлическая труба  Винты\n",
      "Кофейня               4.8                 19.2  120.0\n",
      "Бистро               17.0                 65.6  412.0\n",
      "Ресторан             29.4                105.6  660.0\n",
      "\n"
     ]
    }
   ],
   "execution_count": 14
  },
  {
   "metadata": {
    "ExecuteTime": {
     "end_time": "2025-03-10T13:30:35.957586Z",
     "start_time": "2025-03-10T13:30:35.952215Z"
    }
   },
   "cell_type": "code",
   "source": [
    "venues = np.array([18, 12, 7])\n",
    "\n",
    "total_materials = venues_materials.T @ venues\n",
    "\n",
    "print('Всего')\n",
    "print(pd.DataFrame([total_materials], index=[''], columns=materials_names))\n"
   ],
   "id": "8a1170f41c2c39ef",
   "outputs": [
    {
     "name": "stdout",
     "output_type": "stream",
     "text": [
      "Всего\n",
      "  Древесная плита  Металлическая труба    Винты\n",
      "            496.2               1872.0  11724.0\n"
     ]
    }
   ],
   "execution_count": 16
  },
  {
   "metadata": {
    "ExecuteTime": {
     "end_time": "2025-03-10T14:33:23.752443Z",
     "start_time": "2025-03-10T14:33:23.750317Z"
    }
   },
   "cell_type": "code",
   "source": "n = np.random.normal(0, 1, size=(3,3))",
   "id": "57f3b756a04759e5",
   "outputs": [],
   "execution_count": 24
  },
  {
   "metadata": {
    "ExecuteTime": {
     "end_time": "2025-03-10T14:33:24.379921Z",
     "start_time": "2025-03-10T14:33:24.376153Z"
    }
   },
   "cell_type": "code",
   "source": "n_inv = np.linalg.inv(n)",
   "id": "4ab5e14300ebb7a8",
   "outputs": [],
   "execution_count": 25
  },
  {
   "metadata": {
    "ExecuteTime": {
     "end_time": "2025-03-10T14:33:24.811009Z",
     "start_time": "2025-03-10T14:33:24.806163Z"
    }
   },
   "cell_type": "code",
   "source": "n @ n_inv",
   "id": "91e88ad38ff95d3e",
   "outputs": [
    {
     "data": {
      "text/plain": [
       "array([[ 1.00000000e+00, -2.77555756e-17, -5.20417043e-18],\n",
       "       [ 0.00000000e+00,  1.00000000e+00, -1.38777878e-17],\n",
       "       [ 0.00000000e+00,  0.00000000e+00,  1.00000000e+00]])"
      ]
     },
     "execution_count": 26,
     "metadata": {},
     "output_type": "execute_result"
    }
   ],
   "execution_count": 26
  },
  {
   "metadata": {},
   "cell_type": "code",
   "outputs": [],
   "execution_count": null,
   "source": "",
   "id": "b290500d1f7e5808"
  }
 ],
 "metadata": {
  "kernelspec": {
   "display_name": "Python 3",
   "language": "python",
   "name": "python3"
  },
  "language_info": {
   "codemirror_mode": {
    "name": "ipython",
    "version": 2
   },
   "file_extension": ".py",
   "mimetype": "text/x-python",
   "name": "python",
   "nbconvert_exporter": "python",
   "pygments_lexer": "ipython2",
   "version": "2.7.6"
  }
 },
 "nbformat": 4,
 "nbformat_minor": 5
}
