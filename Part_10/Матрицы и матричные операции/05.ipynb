{
 "cells": [
  {
   "cell_type": "code",
   "id": "initial_id",
   "metadata": {
    "collapsed": true,
    "ExecuteTime": {
     "end_time": "2025-03-07T08:22:53.287167Z",
     "start_time": "2025-03-07T08:22:53.018930Z"
    }
   },
   "source": [
    "import numpy as np\n",
    "import pandas as pd"
   ],
   "outputs": [],
   "execution_count": 2
  },
  {
   "metadata": {
    "ExecuteTime": {
     "end_time": "2025-03-07T08:22:54.104392Z",
     "start_time": "2025-03-07T08:22:54.102024Z"
    }
   },
   "cell_type": "code",
   "source": "materials_names = ['Древесная плита', 'Металлическая труба', 'Винты']",
   "id": "50d442cbb520cd5f",
   "outputs": [],
   "execution_count": 3
  },
  {
   "metadata": {
    "ExecuteTime": {
     "end_time": "2025-03-07T08:22:54.425514Z",
     "start_time": "2025-03-07T08:22:54.422175Z"
    }
   },
   "cell_type": "code",
   "source": [
    "manufacture = np.array([\n",
    "    [0.2, 1.2, 8],\n",
    "    [0.5, 0.8, 6],\n",
    "    [0.8, 1.6, 8]])"
   ],
   "id": "2b5c42475b8f5b4e",
   "outputs": [],
   "execution_count": 4
  },
  {
   "metadata": {
    "ExecuteTime": {
     "end_time": "2025-03-07T08:35:38.441079Z",
     "start_time": "2025-03-07T08:35:38.437986Z"
    }
   },
   "cell_type": "code",
   "source": "furniture = pd.Series([60, 4, 16])",
   "id": "c640eae19e11b9b6",
   "outputs": [],
   "execution_count": 14
  },
  {
   "metadata": {
    "ExecuteTime": {
     "end_time": "2025-03-07T08:26:19.315525Z",
     "start_time": "2025-03-07T08:26:19.312901Z"
    }
   },
   "cell_type": "code",
   "source": "materials = manufacture.T @ furniture",
   "id": "6f05dfe1c9e8d292",
   "outputs": [],
   "execution_count": 12
  },
  {
   "metadata": {
    "ExecuteTime": {
     "end_time": "2025-03-07T08:26:04.951984Z",
     "start_time": "2025-03-07T08:26:04.946919Z"
    }
   },
   "cell_type": "code",
   "source": "print(pd.DataFrame([materials], index=[''], columns=materials_names))",
   "id": "cd8cd5573b4ef7df",
   "outputs": [
    {
     "name": "stdout",
     "output_type": "stream",
     "text": [
      "  Древесная плита  Металлическая труба  Винты\n",
      "            144.8                129.2  182.4\n"
     ]
    }
   ],
   "execution_count": 11
  },
  {
   "metadata": {
    "ExecuteTime": {
     "end_time": "2025-03-07T08:35:40.208170Z",
     "start_time": "2025-03-07T08:35:40.204112Z"
    }
   },
   "cell_type": "code",
   "source": "furniture.shape",
   "id": "4132af292ca6ad59",
   "outputs": [
    {
     "data": {
      "text/plain": [
       "(3,)"
      ]
     },
     "execution_count": 15,
     "metadata": {},
     "output_type": "execute_result"
    }
   ],
   "execution_count": 15
  }
 ],
 "metadata": {
  "kernelspec": {
   "display_name": "Python 3",
   "language": "python",
   "name": "python3"
  },
  "language_info": {
   "codemirror_mode": {
    "name": "ipython",
    "version": 2
   },
   "file_extension": ".py",
   "mimetype": "text/x-python",
   "name": "python",
   "nbconvert_exporter": "python",
   "pygments_lexer": "ipython2",
   "version": "2.7.6"
  }
 },
 "nbformat": 4,
 "nbformat_minor": 5
}
