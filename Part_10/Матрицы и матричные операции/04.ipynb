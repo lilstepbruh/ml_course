{
 "cells": [
  {
   "metadata": {
    "ExecuteTime": {
     "end_time": "2025-03-07T08:13:10.391459Z",
     "start_time": "2025-03-07T08:13:10.117771Z"
    }
   },
   "cell_type": "code",
   "source": [
    "import numpy as np\n",
    "import pandas as pd"
   ],
   "id": "881051d0f50b48a3",
   "outputs": [],
   "execution_count": 3
  },
  {
   "cell_type": "code",
   "id": "initial_id",
   "metadata": {
    "collapsed": true,
    "ExecuteTime": {
     "end_time": "2025-03-07T08:13:53.272578Z",
     "start_time": "2025-03-07T08:13:53.266821Z"
    }
   },
   "source": [
    "services = ['Минуты', 'СМС', 'Мбайты']\n",
    "packs_names = ['«За рулём»', '«В метро»']\n",
    "packs = np.array([\n",
    "    [20, 5],\n",
    "    [2, 5],\n",
    "    [500, 1000]])\n",
    "\n",
    "clients_packs = np.array([\n",
    "    [1, 2],\n",
    "    [2, 3],\n",
    "    [4, 1],\n",
    "    [2, 3],\n",
    "    [5, 0]])\n",
    "\n",
    "client = 1\n",
    "print('Пакеты клиента')\n",
    "print(pd.DataFrame(clients_packs[client], index=packs_names, columns=['']))\n",
    "print()\n",
    "\n",
    "client_vector = clients_packs[1,:]\n",
    "client_services = packs[:,0]*client_vector[0] + packs[:,1]*client_vector[1]\n",
    "\n",
    "print(\"Минуты, СМС, Мбайты\")\n",
    "print(client_services)"
   ],
   "outputs": [
    {
     "name": "stdout",
     "output_type": "stream",
     "text": [
      "Пакеты клиента\n",
      "             \n",
      "«За рулём»  2\n",
      "«В метро»   3\n",
      "\n",
      "Минуты, СМС, Мбайты\n",
      "[  55   19 4000]\n"
     ]
    }
   ],
   "execution_count": 6
  },
  {
   "metadata": {},
   "cell_type": "code",
   "outputs": [],
   "execution_count": null,
   "source": "",
   "id": "3a9977d0cc2350a0"
  }
 ],
 "metadata": {
  "kernelspec": {
   "display_name": "Python 3",
   "language": "python",
   "name": "python3"
  },
  "language_info": {
   "codemirror_mode": {
    "name": "ipython",
    "version": 2
   },
   "file_extension": ".py",
   "mimetype": "text/x-python",
   "name": "python",
   "nbconvert_exporter": "python",
   "pygments_lexer": "ipython2",
   "version": "2.7.6"
  }
 },
 "nbformat": 4,
 "nbformat_minor": 5
}
