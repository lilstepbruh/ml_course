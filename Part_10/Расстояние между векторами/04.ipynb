{
 "cells": [
  {
   "cell_type": "code",
   "id": "initial_id",
   "metadata": {
    "collapsed": true,
    "ExecuteTime": {
     "end_time": "2025-03-06T15:18:14.033611Z",
     "start_time": "2025-03-06T15:18:14.026417Z"
    }
   },
   "source": [
    "import numpy as np\n",
    "\n",
    "def manhattan_distance(first, second):\n",
    "    return abs(first[0] - second[0]) + abs(first[1] - second[1])\n",
    "\n",
    "first = np.array([3, 11])\n",
    "second = np.array([1, 6])\n",
    "\n",
    "print(manhattan_distance(first, second))"
   ],
   "outputs": [
    {
     "name": "stdout",
     "output_type": "stream",
     "text": [
      "7\n"
     ]
    }
   ],
   "execution_count": 59
  },
  {
   "metadata": {
    "ExecuteTime": {
     "end_time": "2025-03-06T14:55:34.707440Z",
     "start_time": "2025-03-06T14:55:34.701890Z"
    }
   },
   "cell_type": "code",
   "source": [
    "import numpy as np\n",
    "import pandas as pd\n",
    "from scipy.spatial import distance\n",
    "\n",
    "avenues_df = pd.DataFrame({'Dist': [0, 153, 307, 524]}, index=['Park', 'Lexington', '3rd', '2nd'])\n",
    "streets_df = pd.DataFrame([0, 81, 159, 240, 324], index=['76', '75', '74', '73', '72']).rename({0:'Dist'})\n",
    "\n",
    "address = ['Lexington', '74']\n",
    "taxies = [\n",
    "    ['Park', '72'],\n",
    "    ['2nd', '75'],\n",
    "    ['3rd', '76'],\n",
    "]"
   ],
   "id": "ac24cb8296f2a32f",
   "outputs": [],
   "execution_count": 30
  },
  {
   "metadata": {
    "ExecuteTime": {
     "end_time": "2025-03-06T15:19:01.364066Z",
     "start_time": "2025-03-06T15:19:01.359899Z"
    }
   },
   "cell_type": "code",
   "source": [
    "address_vector = np.array([\n",
    "    avenues_df.loc[address[0]].values[0],\n",
    "    streets_df.loc[address[1]].values[0]\n",
    "])\n",
    "taxi_distances = []\n"
   ],
   "id": "37fe4cff51713eb3",
   "outputs": [],
   "execution_count": 65
  },
  {
   "metadata": {
    "ExecuteTime": {
     "end_time": "2025-03-06T15:19:01.731724Z",
     "start_time": "2025-03-06T15:19:01.726147Z"
    }
   },
   "cell_type": "code",
   "source": [
    "for taxi in taxies:\n",
    "    taxi_vector = np.array([avenues_df.loc[taxi[0]].values[0],streets_df.loc[taxi[1]].values[0]])\n",
    "    taxi_distances.append(distance.euclidean(taxi_vector, address_vector))"
   ],
   "id": "71d71a4276c38f3b",
   "outputs": [],
   "execution_count": 66
  },
  {
   "metadata": {
    "ExecuteTime": {
     "end_time": "2025-03-06T15:19:56.348504Z",
     "start_time": "2025-03-06T15:19:56.343321Z"
    }
   },
   "cell_type": "code",
   "source": "index = np.argmin(taxi_distances)",
   "id": "d4ea0765bcdbe99a",
   "outputs": [],
   "execution_count": 67
  },
  {
   "metadata": {
    "ExecuteTime": {
     "end_time": "2025-03-06T15:19:59.051640Z",
     "start_time": "2025-03-06T15:19:59.045908Z"
    }
   },
   "cell_type": "code",
   "source": "print(taxies[index])",
   "id": "f31c644e843eb020",
   "outputs": [
    {
     "name": "stdout",
     "output_type": "stream",
     "text": [
      "['3rd', '76']\n"
     ]
    }
   ],
   "execution_count": 68
  }
 ],
 "metadata": {
  "kernelspec": {
   "display_name": "Python 3",
   "language": "python",
   "name": "python3"
  },
  "language_info": {
   "codemirror_mode": {
    "name": "ipython",
    "version": 2
   },
   "file_extension": ".py",
   "mimetype": "text/x-python",
   "name": "python",
   "nbconvert_exporter": "python",
   "pygments_lexer": "ipython2",
   "version": "2.7.6"
  }
 },
 "nbformat": 4,
 "nbformat_minor": 5
}
