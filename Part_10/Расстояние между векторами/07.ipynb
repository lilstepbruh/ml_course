{
 "cells": [
  {
   "metadata": {},
   "cell_type": "markdown",
   "source": [
    "Создайте класс NearestNeighborClassificator для модели классификации методом ближайших соседей. В этом задании будет только обучение, а в следующем — предсказание.\n",
    "Добавьте в класс метод fit(). Для метода ближайшего соседа обучение модели — это запоминание всей обучающей выборки. В ней predict() будет искать ближайший объект.\n",
    "Сохраните:\n",
    "признаки обучающей выборки в атрибуте self.features_train;\n",
    "целевой признак — self.target_train.\n",
    "Ничего страшного, если атрибуты называются так же, как параметры.\n",
    "Обучите модель, напечатайте на экране её атрибуты (уже в прекоде)."
   ],
   "id": "93eae89a4a2779b0"
  },
  {
   "metadata": {
    "ExecuteTime": {
     "end_time": "2025-03-07T07:16:16.103776Z",
     "start_time": "2025-03-07T07:16:15.971816Z"
    }
   },
   "cell_type": "code",
   "source": [
    "import numpy as np\n",
    "import pandas as pd\n",
    "from scipy.spatial import distance"
   ],
   "id": "f9c29199394c96e6",
   "outputs": [],
   "execution_count": 13
  },
  {
   "cell_type": "code",
   "id": "initial_id",
   "metadata": {
    "collapsed": true,
    "ExecuteTime": {
     "end_time": "2025-03-07T07:10:39.528668Z",
     "start_time": "2025-03-07T07:10:39.523513Z"
    }
   },
   "source": [
    "columns = ['комнаты', 'площадь', 'кухня', 'пл. жилая', 'этаж', 'всего этажей', 'кондиционер']\n",
    "\n",
    "df_train = pd.DataFrame([\n",
    "    [1, 38.5, 6.9, 18.9, 3, 5, 1],\n",
    "    [1, 38.0, 8.5, 19.2, 9, 17, 0],\n",
    "    [1, 34.7, 10.3, 19.8, 1, 9, 0],\n",
    "    [1, 45.9, 11.1, 17.5, 11, 23, 1],\n",
    "    [1, 42.4, 10.0, 19.9, 6, 14, 0],\n",
    "    [1, 46.0, 10.2, 20.5, 3, 12, 1],\n",
    "    [2, 77.7, 13.2, 39.3, 3, 17, 1],\n",
    "    [2, 69.8, 11.1, 31.4, 12, 23, 0],\n",
    "    [2, 78.2, 19.4, 33.2, 4, 9, 0],\n",
    "    [2, 55.5, 7.8, 29.6, 1, 25, 1],\n",
    "    [2, 74.3, 16.0, 34.2, 14, 17, 1],\n",
    "    [2, 78.3, 12.3, 42.6, 23, 23, 0],\n",
    "    [2, 74.0, 18.1, 49.0, 8, 9, 0],\n",
    "    [2, 91.4, 20.1, 60.4, 2, 10, 0],\n",
    "    [3, 85.0, 17.8, 56.1, 14, 14, 1],\n",
    "    [3, 79.8, 9.8, 44.8, 9, 10, 0],\n",
    "    [3, 72.0, 10.2, 37.3, 7, 9, 1],\n",
    "    [3, 95.3, 11.0, 51.5, 15, 23, 1],\n",
    "    [3, 69.3, 8.5, 39.3, 4, 9, 0],\n",
    "    [3, 89.8, 11.2, 58.2, 24, 25, 0],\n",
    "], columns=columns)\n"
   ],
   "outputs": [],
   "execution_count": 2
  },
  {
   "metadata": {
    "ExecuteTime": {
     "end_time": "2025-03-07T07:11:46.546877Z",
     "start_time": "2025-03-07T07:11:46.543718Z"
    }
   },
   "cell_type": "code",
   "source": [
    "train_features = df_train.drop('кондиционер', axis=1)\n",
    "train_target = df_train['кондиционер']"
   ],
   "id": "20cbd666a3e6da50",
   "outputs": [],
   "execution_count": 3
  },
  {
   "metadata": {
    "ExecuteTime": {
     "end_time": "2025-03-07T07:11:56.449621Z",
     "start_time": "2025-03-07T07:11:56.444773Z"
    }
   },
   "cell_type": "code",
   "source": [
    "df_test = pd.DataFrame([\n",
    "    [1, 36.5, 5.9, 17.9, 2, 7, 0],\n",
    "    [2, 71.7, 12.2, 34.3, 5, 21, 1],\n",
    "    [3, 88.0, 18.1, 58.2, 17, 17, 1],\n",
    "], columns=columns)"
   ],
   "id": "79ccfcc80e4d3f52",
   "outputs": [],
   "execution_count": 4
  },
  {
   "metadata": {
    "ExecuteTime": {
     "end_time": "2025-03-07T07:12:09.033089Z",
     "start_time": "2025-03-07T07:12:09.030035Z"
    }
   },
   "cell_type": "code",
   "source": "test_features = df_test.drop('кондиционер', axis=1)",
   "id": "fa86411956361191",
   "outputs": [],
   "execution_count": 5
  },
  {
   "metadata": {
    "ExecuteTime": {
     "end_time": "2025-03-07T07:37:20.910923Z",
     "start_time": "2025-03-07T07:37:16.684289Z"
    }
   },
   "cell_type": "code",
   "source": [
    "class NearestNeighborClassificator:\n",
    "    def fit(self, features_train, target_train):\n",
    "        self.features_train = features_train\n",
    "        self.target_train = target_train\n",
    "\n",
    "    def predict(self, test_features):\n",
    "        res = []\n",
    "        for i in range(test_features.shape[0]):\n",
    "            distances = [\n",
    "                distance.euclidean(self.features_train.iloc[i].values, test_features.iloc[0])\n",
    "                for i in range(self.features_train.shape[0])\n",
    "            ]\n",
    "            best_index = np.argmin(distances)\n",
    "            res.append(train_target.iloc[best_index])\n",
    "        return res\n"
   ],
   "id": "8c363215044f91bd",
   "outputs": [],
   "execution_count": 45
  },
  {
   "metadata": {
    "ExecuteTime": {
     "end_time": "2025-03-07T07:35:16.657566Z",
     "start_time": "2025-03-07T07:35:16.648602Z"
    }
   },
   "cell_type": "code",
   "source": [
    "model = NearestNeighborClassificator()\n",
    "model.fit(train_features, train_target)\n",
    "new_predictions = model.predict(test_features)\n",
    "print(new_predictions)\n",
    "#print(model.features_train.head())\n",
    "#print(model.target_train.head())"
   ],
   "id": "47a7ff88ca9a4d9a",
   "outputs": [
    {
     "name": "stdout",
     "output_type": "stream",
     "text": [
      "[1, 1, 1]\n"
     ]
    }
   ],
   "execution_count": 41
  }
 ],
 "metadata": {
  "kernelspec": {
   "display_name": "Python 3",
   "language": "python",
   "name": "python3"
  },
  "language_info": {
   "codemirror_mode": {
    "name": "ipython",
    "version": 2
   },
   "file_extension": ".py",
   "mimetype": "text/x-python",
   "name": "python",
   "nbconvert_exporter": "python",
   "pygments_lexer": "ipython2",
   "version": "2.7.6"
  }
 },
 "nbformat": 4,
 "nbformat_minor": 5
}
