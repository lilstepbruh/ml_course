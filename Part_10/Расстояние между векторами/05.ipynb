{
 "cells": [
  {
   "cell_type": "code",
   "id": "initial_id",
   "metadata": {
    "collapsed": true,
    "ExecuteTime": {
     "end_time": "2025-03-06T15:31:08.564022Z",
     "start_time": "2025-03-06T15:31:08.484374Z"
    }
   },
   "source": [
    "import numpy as np\n",
    "import pandas as pd\n",
    "from scipy.spatial import distance\n"
   ],
   "outputs": [],
   "execution_count": 2
  },
  {
   "metadata": {},
   "cell_type": "markdown",
   "source": "Сохраните векторы квартир с индексами 3 и 11 в переменных vector_first («первый вектор») и vector_second («второй вектор»). Вычислите между ними евклидово и манхэттенское расстояния. Напечатайте их значения на экране (уже в прекоде).\n",
   "id": "591089738ad5041d"
  },
  {
   "metadata": {
    "ExecuteTime": {
     "end_time": "2025-03-06T15:34:02.818589Z",
     "start_time": "2025-03-06T15:34:02.812573Z"
    }
   },
   "cell_type": "code",
   "source": [
    "columns = ['комнаты', 'пл. общая', 'кухня', 'пл. жилая', 'этаж', 'всего этажей']\n",
    "realty = [\n",
    "    [1, 38.5, 6.9, 18.9, 3, 5],\n",
    "    [1, 38.0, 8.5, 19.2, 9, 17],\n",
    "    [1, 34.7, 10.3, 19.8, 1, 9],\n",
    "    [1, 45.9, 11.1, 17.5, 11, 23],\n",
    "    [1, 42.4, 10.0, 19.9, 6, 14],\n",
    "    [1, 46.0, 10.2, 20.5, 3, 12],\n",
    "    [2, 77.7, 13.2, 39.3, 3, 17],\n",
    "    [2, 69.8, 11.1, 31.4, 12, 23],\n",
    "    [2, 78.2, 19.4, 33.2, 4, 9],\n",
    "    [2, 55.5, 7.8, 29.6, 1, 25],\n",
    "    [2, 74.3, 16.0, 34.2, 14, 17],\n",
    "    [2, 78.3, 12.3, 42.6, 23, 23],\n",
    "    [2, 74.0, 18.1, 49.0, 8, 9],\n",
    "    [2, 91.4, 20.1, 60.4, 2, 10],\n",
    "    [3, 85.0, 17.8, 56.1, 14, 14],\n",
    "    [3, 79.8, 9.8, 44.8, 9, 10],\n",
    "    [3, 72.0, 10.2, 37.3, 7, 9],\n",
    "    [3, 95.3, 11.0, 51.5, 15, 23],\n",
    "    [3, 69.3, 8.5, 39.3, 4, 9],\n",
    "    [3, 89.8, 11.2, 58.2, 24, 25],\n",
    "]\n",
    "\n",
    "df_realty = pd.DataFrame(realty, columns=columns)"
   ],
   "id": "24da62cab66865b4",
   "outputs": [],
   "execution_count": 4
  },
  {
   "metadata": {
    "ExecuteTime": {
     "end_time": "2025-03-06T15:34:03.321101Z",
     "start_time": "2025-03-06T15:34:03.317183Z"
    }
   },
   "cell_type": "code",
   "source": [
    "vector_first = df_realty.iloc[3].values\n",
    "vector_second = df_realty.iloc[11].values\n",
    "\n",
    "print(\"Евклидово расстояние:\", distance.euclidean(vector_first, vector_second))\n",
    "print(\"Манхэттенское расстояние:\", distance.cityblock(vector_first, vector_second))"
   ],
   "id": "64d7f91e515d771b",
   "outputs": [
    {
     "name": "stdout",
     "output_type": "stream",
     "text": [
      "Евклидово расстояние: 42.73417835877976\n",
      "Манхэттенское расстояние: 71.7\n"
     ]
    }
   ],
   "execution_count": 5
  },
  {
   "metadata": {},
   "cell_type": "markdown",
   "source": [
    "Клиенту понравилась квартира с индексом 12. Найдите к ней ближайшую по евклидовому расстоянию.\n",
    "Создайте список с расстояниями всех векторов до вектора с номером 12. Вычислите индекс наиболее похожего объекта и сохраните в переменной best_index. Напечатайте результат на экране (уже в прекоде)."
   ],
   "id": "ac3597ce3e417161"
  },
  {
   "metadata": {
    "ExecuteTime": {
     "end_time": "2025-03-06T18:00:51.262722Z",
     "start_time": "2025-03-06T18:00:51.259381Z"
    }
   },
   "cell_type": "code",
   "source": [
    "preference_index = 12\n",
    "preference_vector = df_realty.loc[preference_index].values"
   ],
   "id": "825391c0472326dd",
   "outputs": [],
   "execution_count": 6
  },
  {
   "metadata": {
    "ExecuteTime": {
     "end_time": "2025-03-06T18:10:12.567997Z",
     "start_time": "2025-03-06T18:10:12.562713Z"
    }
   },
   "cell_type": "code",
   "source": "distances = pd.Series(data=(distance.euclidean(preference_vector, x) for x in realty), name='val')",
   "id": "846c10baef151d0d",
   "outputs": [],
   "execution_count": 17
  },
  {
   "metadata": {
    "ExecuteTime": {
     "end_time": "2025-03-06T18:25:53.906461Z",
     "start_time": "2025-03-06T18:25:53.900460Z"
    }
   },
   "cell_type": "code",
   "source": "print((distances[distances>0]).argsort()[1])",
   "id": "1870be9d2e4ffa51",
   "outputs": [
    {
     "name": "stdout",
     "output_type": "stream",
     "text": [
      "15\n"
     ]
    }
   ],
   "execution_count": 31
  }
 ],
 "metadata": {
  "kernelspec": {
   "display_name": "Python 3",
   "language": "python",
   "name": "python3"
  },
  "language_info": {
   "codemirror_mode": {
    "name": "ipython",
    "version": 2
   },
   "file_extension": ".py",
   "mimetype": "text/x-python",
   "name": "python",
   "nbconvert_exporter": "python",
   "pygments_lexer": "ipython2",
   "version": "2.7.6"
  }
 },
 "nbformat": 4,
 "nbformat_minor": 5
}
