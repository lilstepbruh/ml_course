{
 "cells": [
  {
   "metadata": {
    "ExecuteTime": {
     "end_time": "2025-03-06T21:34:07.379757Z",
     "start_time": "2025-03-06T21:34:07.181240Z"
    }
   },
   "cell_type": "code",
   "source": [
    "import pandas as pd\n",
    "import numpy as np\n",
    "from scipy.spatial import distance"
   ],
   "id": "fed13a74df7835b2",
   "outputs": [],
   "execution_count": 5
  },
  {
   "cell_type": "code",
   "id": "initial_id",
   "metadata": {
    "collapsed": true,
    "ExecuteTime": {
     "end_time": "2025-03-06T21:30:30.920797Z",
     "start_time": "2025-03-06T21:30:30.911775Z"
    }
   },
   "source": [
    "columns = ['комнаты', 'площадь', 'кухня', 'пл. жилая', 'этаж', 'всего этажей', 'кондиционер']\n",
    "\n",
    "df_train = pd.DataFrame([\n",
    "    [1, 38.5, 6.9, 18.9, 3, 5, 1],\n",
    "    [1, 38.0, 8.5, 19.2, 9, 17, 0],\n",
    "    [1, 34.7, 10.3, 19.8, 1, 9, 0],\n",
    "    [1, 45.9, 11.1, 17.5, 11, 23, 1],\n",
    "    [1, 42.4, 10.0, 19.9, 6, 14, 0],\n",
    "    [1, 46.0, 10.2, 20.5, 3, 12, 1],\n",
    "    [2, 77.7, 13.2, 39.3, 3, 17, 1],\n",
    "    [2, 69.8, 11.1, 31.4, 12, 23, 0],\n",
    "    [2, 78.2, 19.4, 33.2, 4, 9, 0],\n",
    "    [2, 55.5, 7.8, 29.6, 1, 25, 1],\n",
    "    [2, 74.3, 16.0, 34.2, 14, 17, 1],\n",
    "    [2, 78.3, 12.3, 42.6, 23, 23, 0],\n",
    "    [2, 74.0, 18.1, 49.0, 8, 9, 0],\n",
    "    [2, 91.4, 20.1, 60.4, 2, 10, 0],\n",
    "    [3, 85.0, 17.8, 56.1, 14, 14, 1],\n",
    "    [3, 79.8, 9.8, 44.8, 9, 10, 0],\n",
    "    [3, 72.0, 10.2, 37.3, 7, 9, 1],\n",
    "    [3, 95.3, 11.0, 51.5, 15, 23, 1],\n",
    "    [3, 69.3, 8.5, 39.3, 4, 9, 0],\n",
    "    [3, 89.8, 11.2, 58.2, 24, 25, 0],\n",
    "], columns=columns)\n"
   ],
   "outputs": [],
   "execution_count": 3
  },
  {
   "metadata": {
    "ExecuteTime": {
     "end_time": "2025-03-07T07:06:36.699505Z",
     "start_time": "2025-03-07T07:06:36.696995Z"
    }
   },
   "cell_type": "code",
   "source": [
    "def nearest_neighbor_predict(train_features, train_target, new_features):\n",
    "    distances = [\n",
    "        distance.euclidean(train_features.iloc[i].values, new_features)\n",
    "        for i in range(train_features.shape[0])\n",
    "    ]\n",
    "    best_index = np.argmin(distances)\n",
    "    return train_target.iloc[best_index]"
   ],
   "id": "65b47b2a7c8d6caf",
   "outputs": [],
   "execution_count": 28
  },
  {
   "metadata": {
    "ExecuteTime": {
     "end_time": "2025-03-07T07:06:37.185941Z",
     "start_time": "2025-03-07T07:06:37.181691Z"
    }
   },
   "cell_type": "code",
   "source": [
    "train_features = df_train.drop('кондиционер', axis=1)\n",
    "train_target = df_train['кондиционер']\n",
    "new_apartment = np.array([2, 51.0, 8.2, 35.9, 5, 5])\n",
    "prediction = nearest_neighbor_predict(train_features, train_target, new_apartment)\n",
    "print(prediction)"
   ],
   "id": "288d800f1f22f4b6",
   "outputs": [
    {
     "name": "stdout",
     "output_type": "stream",
     "text": [
      "1\n"
     ]
    }
   ],
   "execution_count": 29
  }
 ],
 "metadata": {
  "kernelspec": {
   "display_name": "Python 3",
   "language": "python",
   "name": "python3"
  },
  "language_info": {
   "codemirror_mode": {
    "name": "ipython",
    "version": 2
   },
   "file_extension": ".py",
   "mimetype": "text/x-python",
   "name": "python",
   "nbconvert_exporter": "python",
   "pygments_lexer": "ipython2",
   "version": "2.7.6"
  }
 },
 "nbformat": 4,
 "nbformat_minor": 5
}
