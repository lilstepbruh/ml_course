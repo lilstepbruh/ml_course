{
 "cells": [
  {
   "metadata": {
    "ExecuteTime": {
     "end_time": "2025-03-05T16:21:13.635542Z",
     "start_time": "2025-03-05T16:21:13.290415Z"
    }
   },
   "cell_type": "code",
   "source": [
    "import numpy as np\n",
    "import pandas as pd\n",
    "\n",
    "shop1_price = [20990, 11990, 5390, 3190, 1990, 10990, 5999, 2290, 8111, 3290]\n",
    "shop1_quantity = [19, 11, 8, 15, 23, 7, 14, 9, 10, 4]\n",
    "\n",
    "shop2_price = [20990, 12490, 4290, 2790, 2390, 10990, 4990, 2490, 8990, 3290]\n",
    "shop2_quantity = [10, 16, 20, 9, 18, 12, 10, 11, 18, 22]\n",
    "\n",
    "models = ['Apple AirPods Pro',\n",
    "          'Apple AirPods MV7N2RU/A',\n",
    "          'JBL Tune 120TWS',\n",
    "          'JBL TUNE 500BT',\n",
    "          'JBL JR300BT',\n",
    "          'Huawei Freebuds 3',\n",
    "          'Philips TWS SHB2505',\n",
    "          'Sony WH-CH500',\n",
    "          'Sony WF-SP700N',\n",
    "          'Sony WI-XB400']\n",
    "\n",
    "stocks1 = pd.DataFrame({'Цена': shop1_price,\n",
    "                        'Количество': shop1_quantity}, index=models)\n",
    "stocks2 = pd.DataFrame({'Цена': shop2_price,\n",
    "                        'Количество': shop2_quantity}, index=models)"
   ],
   "id": "52e0c5e98b9a32a6",
   "outputs": [],
   "execution_count": 1
  },
  {
   "cell_type": "code",
   "id": "initial_id",
   "metadata": {
    "collapsed": true,
    "ExecuteTime": {
     "end_time": "2025-03-05T16:22:42.156085Z",
     "start_time": "2025-03-05T16:22:42.152575Z"
    }
   },
   "source": [
    "stocks1_price = stocks1['Цена'].values\n",
    "stocks1_quantity = stocks1['Количество'].values\n",
    "stocks2_price = stocks2['Цена'].values\n",
    "stocks2_quantity = stocks2['Количество'].values"
   ],
   "outputs": [],
   "execution_count": 2
  },
  {
   "metadata": {
    "ExecuteTime": {
     "end_time": "2025-03-05T16:23:10.763151Z",
     "start_time": "2025-03-05T16:23:10.760434Z"
    }
   },
   "cell_type": "code",
   "source": "stocks1_cost = stocks1_price @ stocks1_quantity",
   "id": "b63c7dd50fabb9b4",
   "outputs": [],
   "execution_count": 3
  },
  {
   "metadata": {
    "ExecuteTime": {
     "end_time": "2025-03-05T16:23:29.589769Z",
     "start_time": "2025-03-05T16:23:29.587372Z"
    }
   },
   "cell_type": "code",
   "source": "stocks2_cost = stocks2_price @ stocks2_quantity",
   "id": "3aeec20d18c7b498",
   "outputs": [],
   "execution_count": 4
  },
  {
   "metadata": {
    "ExecuteTime": {
     "end_time": "2025-03-05T16:23:36.706843Z",
     "start_time": "2025-03-05T16:23:36.704660Z"
    }
   },
   "cell_type": "code",
   "source": "total = stocks1_cost + stocks2_cost",
   "id": "e000405cce4e45d5",
   "outputs": [],
   "execution_count": 5
  },
  {
   "metadata": {
    "ExecuteTime": {
     "end_time": "2025-03-05T16:23:38.988810Z",
     "start_time": "2025-03-05T16:23:38.983340Z"
    }
   },
   "cell_type": "code",
   "source": "total",
   "id": "27000af2ac147a26",
   "outputs": [
    {
     "data": {
      "text/plain": [
       "1950276"
      ]
     },
     "execution_count": 6,
     "metadata": {},
     "output_type": "execute_result"
    }
   ],
   "execution_count": 6
  }
 ],
 "metadata": {
  "kernelspec": {
   "display_name": "Python 3",
   "language": "python",
   "name": "python3"
  },
  "language_info": {
   "codemirror_mode": {
    "name": "ipython",
    "version": 2
   },
   "file_extension": ".py",
   "mimetype": "text/x-python",
   "name": "python",
   "nbconvert_exporter": "python",
   "pygments_lexer": "ipython2",
   "version": "2.7.6"
  }
 },
 "nbformat": 4,
 "nbformat_minor": 5
}
