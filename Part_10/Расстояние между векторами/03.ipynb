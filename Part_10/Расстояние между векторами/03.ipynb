{
 "cells": [
  {
   "metadata": {
    "ExecuteTime": {
     "end_time": "2025-03-05T17:05:35.842345Z",
     "start_time": "2025-03-05T17:05:35.474251Z"
    }
   },
   "cell_type": "code",
   "source": [
    "import numpy as np\n",
    "import pandas as pd\n",
    "from scipy.spatial import distance"
   ],
   "id": "51d85cfcb93cf38b",
   "outputs": [],
   "execution_count": 1
  },
  {
   "cell_type": "code",
   "id": "initial_id",
   "metadata": {
    "collapsed": true,
    "ExecuteTime": {
     "end_time": "2025-03-05T17:06:17.081694Z",
     "start_time": "2025-03-05T17:06:17.072327Z"
    }
   },
   "source": [
    "x_axis = np.array([0.0, 0.18078584, 9.32526599, 17.09628721,\n",
    "                   4.69820241, 11.57529305, 11.31769349, 14.63378951])\n",
    "\n",
    "y_axis = np.array([0.0, 7.03050245, 9.06193657, 0.1718145,\n",
    "                   5.1383203, 0.11069032, 3.27703365, 5.36870287])\n",
    "\n",
    "shipments = np.array([5, 7, 4, 3, 5, 2, 1, 1])\n",
    "\n",
    "village = ['Тетерье',\n",
    "           'Журавец',\n",
    "           'Корсунь',\n",
    "           'Берёзовка',\n",
    "           'Протасово',\n",
    "           'Трудки',\n",
    "           'Нижний Туровец',\n",
    "           'Вышний Туровец']\n",
    "\n",
    "data = pd.DataFrame({'x_coordinates_km': x_axis,\n",
    "                     'y_coordinates_km': y_axis,\n",
    "                     'deliveries': shipments}, index=village)\n",
    "\n",
    "vectors = data[['x_coordinates_km', 'y_coordinates_km']].values\n",
    "\n",
    "distances = []"
   ],
   "outputs": [],
   "execution_count": 2
  },
  {
   "metadata": {
    "ExecuteTime": {
     "end_time": "2025-03-05T17:10:29.882423Z",
     "start_time": "2025-03-05T17:10:29.877744Z"
    }
   },
   "cell_type": "code",
   "source": [
    "for i in range(len(vectors)):\n",
    "    row = []\n",
    "    for j in range(len(vectors)):\n",
    "        row.append(distance.euclidean(vectors[i], vectors[j]))\n",
    "    distances.append(row)"
   ],
   "id": "9f7f4c16dbfc3658",
   "outputs": [],
   "execution_count": 3
  },
  {
   "metadata": {
    "ExecuteTime": {
     "end_time": "2025-03-05T17:11:21.125103Z",
     "start_time": "2025-03-05T17:11:21.112681Z"
    }
   },
   "cell_type": "code",
   "source": "pd.DataFrame(distances, index=village, columns=village)",
   "id": "e4b23254846036bc",
   "outputs": [
    {
     "data": {
      "text/plain": [
       "                  Тетерье    Журавец    Корсунь  Берёзовка  Протасово  \\\n",
       "Тетерье          0.000000   7.032826  13.003049  17.097151   6.962431   \n",
       "Журавец          7.032826   0.000000   9.367403  18.253103   4.897694   \n",
       "Корсунь         13.003049   9.367403   0.000000  11.807753   6.066670   \n",
       "Берёзовка       17.097151  18.253103  11.807753   0.000000  13.355848   \n",
       "Протасово        6.962431   4.897694   6.066670  13.355848   0.000000   \n",
       "Трудки          11.575822  13.331114   9.229704   5.521333   8.518887   \n",
       "Нижний Туровец  11.782578  11.752414   6.118404   6.560071   6.876194   \n",
       "Вышний Туровец  15.587520  14.548226   6.466869   5.750786   9.938258   \n",
       "\n",
       "                   Трудки  Нижний Туровец  Вышний Туровец  \n",
       "Тетерье         11.575822       11.782578       15.587520  \n",
       "Журавец         13.331114       11.752414       14.548226  \n",
       "Корсунь          9.229704        6.118404        6.466869  \n",
       "Берёзовка        5.521333        6.560071        5.750786  \n",
       "Протасово        8.518887        6.876194        9.938258  \n",
       "Трудки           0.000000        3.176805        6.082853  \n",
       "Нижний Туровец   3.176805        0.000000        3.920660  \n",
       "Вышний Туровец   6.082853        3.920660        0.000000  "
      ],
      "text/html": [
       "<div>\n",
       "<style scoped>\n",
       "    .dataframe tbody tr th:only-of-type {\n",
       "        vertical-align: middle;\n",
       "    }\n",
       "\n",
       "    .dataframe tbody tr th {\n",
       "        vertical-align: top;\n",
       "    }\n",
       "\n",
       "    .dataframe thead th {\n",
       "        text-align: right;\n",
       "    }\n",
       "</style>\n",
       "<table border=\"1\" class=\"dataframe\">\n",
       "  <thead>\n",
       "    <tr style=\"text-align: right;\">\n",
       "      <th></th>\n",
       "      <th>Тетерье</th>\n",
       "      <th>Журавец</th>\n",
       "      <th>Корсунь</th>\n",
       "      <th>Берёзовка</th>\n",
       "      <th>Протасово</th>\n",
       "      <th>Трудки</th>\n",
       "      <th>Нижний Туровец</th>\n",
       "      <th>Вышний Туровец</th>\n",
       "    </tr>\n",
       "  </thead>\n",
       "  <tbody>\n",
       "    <tr>\n",
       "      <th>Тетерье</th>\n",
       "      <td>0.000000</td>\n",
       "      <td>7.032826</td>\n",
       "      <td>13.003049</td>\n",
       "      <td>17.097151</td>\n",
       "      <td>6.962431</td>\n",
       "      <td>11.575822</td>\n",
       "      <td>11.782578</td>\n",
       "      <td>15.587520</td>\n",
       "    </tr>\n",
       "    <tr>\n",
       "      <th>Журавец</th>\n",
       "      <td>7.032826</td>\n",
       "      <td>0.000000</td>\n",
       "      <td>9.367403</td>\n",
       "      <td>18.253103</td>\n",
       "      <td>4.897694</td>\n",
       "      <td>13.331114</td>\n",
       "      <td>11.752414</td>\n",
       "      <td>14.548226</td>\n",
       "    </tr>\n",
       "    <tr>\n",
       "      <th>Корсунь</th>\n",
       "      <td>13.003049</td>\n",
       "      <td>9.367403</td>\n",
       "      <td>0.000000</td>\n",
       "      <td>11.807753</td>\n",
       "      <td>6.066670</td>\n",
       "      <td>9.229704</td>\n",
       "      <td>6.118404</td>\n",
       "      <td>6.466869</td>\n",
       "    </tr>\n",
       "    <tr>\n",
       "      <th>Берёзовка</th>\n",
       "      <td>17.097151</td>\n",
       "      <td>18.253103</td>\n",
       "      <td>11.807753</td>\n",
       "      <td>0.000000</td>\n",
       "      <td>13.355848</td>\n",
       "      <td>5.521333</td>\n",
       "      <td>6.560071</td>\n",
       "      <td>5.750786</td>\n",
       "    </tr>\n",
       "    <tr>\n",
       "      <th>Протасово</th>\n",
       "      <td>6.962431</td>\n",
       "      <td>4.897694</td>\n",
       "      <td>6.066670</td>\n",
       "      <td>13.355848</td>\n",
       "      <td>0.000000</td>\n",
       "      <td>8.518887</td>\n",
       "      <td>6.876194</td>\n",
       "      <td>9.938258</td>\n",
       "    </tr>\n",
       "    <tr>\n",
       "      <th>Трудки</th>\n",
       "      <td>11.575822</td>\n",
       "      <td>13.331114</td>\n",
       "      <td>9.229704</td>\n",
       "      <td>5.521333</td>\n",
       "      <td>8.518887</td>\n",
       "      <td>0.000000</td>\n",
       "      <td>3.176805</td>\n",
       "      <td>6.082853</td>\n",
       "    </tr>\n",
       "    <tr>\n",
       "      <th>Нижний Туровец</th>\n",
       "      <td>11.782578</td>\n",
       "      <td>11.752414</td>\n",
       "      <td>6.118404</td>\n",
       "      <td>6.560071</td>\n",
       "      <td>6.876194</td>\n",
       "      <td>3.176805</td>\n",
       "      <td>0.000000</td>\n",
       "      <td>3.920660</td>\n",
       "    </tr>\n",
       "    <tr>\n",
       "      <th>Вышний Туровец</th>\n",
       "      <td>15.587520</td>\n",
       "      <td>14.548226</td>\n",
       "      <td>6.466869</td>\n",
       "      <td>5.750786</td>\n",
       "      <td>9.938258</td>\n",
       "      <td>6.082853</td>\n",
       "      <td>3.920660</td>\n",
       "      <td>0.000000</td>\n",
       "    </tr>\n",
       "  </tbody>\n",
       "</table>\n",
       "</div>"
      ]
     },
     "execution_count": 6,
     "metadata": {},
     "output_type": "execute_result"
    }
   ],
   "execution_count": 6
  },
  {
   "metadata": {},
   "cell_type": "code",
   "outputs": [],
   "execution_count": null,
   "source": [
    "shipping_in_week = []\n",
    "shipping_in_week_df = pd.DataFrame({'distance': shipping_in_week}, index=village)\n",
    "print(shipping_in_week_df)\n",
    "print()\n",
    "print('Населённый пункт для склада:')"
   ],
   "id": "845c4afd6426cbde"
  },
  {
   "metadata": {
    "ExecuteTime": {
     "end_time": "2025-03-05T17:48:14.266484Z",
     "start_time": "2025-03-05T17:48:14.261095Z"
    }
   },
   "cell_type": "code",
   "source": [
    "shipping_in_week = []\n",
    "for i in range(len(village)):\n",
    "    total_distance = 2 * np.array(distances[i]) @ shipments\n",
    "    shipping_in_week.append(total_distance)\n",
    "\n",
    "shipping_in_week_df = pd.DataFrame({'distance': shipping_in_week}, index=village)"
   ],
   "id": "f2900b2d7258d9be",
   "outputs": [],
   "execution_count": 21
  },
  {
   "metadata": {
    "ExecuteTime": {
     "end_time": "2025-03-05T17:48:18.040977Z",
     "start_time": "2025-03-05T17:48:18.036847Z"
    }
   },
   "cell_type": "code",
   "source": "shipping_in_week",
   "id": "4dd55aead25f4417",
   "outputs": [
    {
     "data": {
      "text/plain": [
       "[475.7346555204142,\n",
       " 409.6887865605784,\n",
       " 454.7767127876416,\n",
       " 701.2425104901273,\n",
       " 334.564923683526,\n",
       " 513.0676271294627,\n",
       " 459.97771687140175,\n",
       " 577.3453452451445]"
      ]
     },
     "execution_count": 22,
     "metadata": {},
     "output_type": "execute_result"
    }
   ],
   "execution_count": 22
  },
  {
   "metadata": {
    "ExecuteTime": {
     "end_time": "2025-03-05T17:49:54.203771Z",
     "start_time": "2025-03-05T17:49:54.198745Z"
    }
   },
   "cell_type": "code",
   "source": "shipping_in_week_df['distance'].idxmin()",
   "id": "3608942c5ef19e64",
   "outputs": [
    {
     "data": {
      "text/plain": [
       "'Протасово'"
      ]
     },
     "execution_count": 25,
     "metadata": {},
     "output_type": "execute_result"
    }
   ],
   "execution_count": 25
  }
 ],
 "metadata": {
  "kernelspec": {
   "display_name": "Python 3",
   "language": "python",
   "name": "python3"
  },
  "language_info": {
   "codemirror_mode": {
    "name": "ipython",
    "version": 2
   },
   "file_extension": ".py",
   "mimetype": "text/x-python",
   "name": "python",
   "nbconvert_exporter": "python",
   "pygments_lexer": "ipython2",
   "version": "2.7.6"
  }
 },
 "nbformat": 4,
 "nbformat_minor": 5
}
