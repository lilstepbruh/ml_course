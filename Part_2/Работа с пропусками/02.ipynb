{
 "cells": [
  {
   "cell_type": "code",
   "id": "initial_id",
   "metadata": {
    "collapsed": true,
    "ExecuteTime": {
     "end_time": "2024-10-22T11:40:35.652312Z",
     "start_time": "2024-10-22T11:40:35.647210Z"
    }
   },
   "source": "import pandas as pd",
   "outputs": [],
   "execution_count": 12
  },
  {
   "metadata": {
    "ExecuteTime": {
     "end_time": "2024-10-22T11:40:35.700988Z",
     "start_time": "2024-10-22T11:40:35.688210Z"
    }
   },
   "cell_type": "code",
   "source": [
    "purchases = pd.read_csv(r\"C:\\Users\\andre\\Рабочий стол\\Практикум\\Специалист по Data Science Плюс. Часть 2\\02 Работа с пропусками\\02 work\\returned.csv\")\n",
    "purchases.head()"
   ],
   "id": "9958b18fa38449ec",
   "outputs": [
    {
     "data": {
      "text/plain": [
       "    source  first  repeated\n",
       "0  context   2933        96\n",
       "1    email    885       136\n",
       "2      smm   1653       139"
      ],
      "text/html": [
       "<div>\n",
       "<style scoped>\n",
       "    .dataframe tbody tr th:only-of-type {\n",
       "        vertical-align: middle;\n",
       "    }\n",
       "\n",
       "    .dataframe tbody tr th {\n",
       "        vertical-align: top;\n",
       "    }\n",
       "\n",
       "    .dataframe thead th {\n",
       "        text-align: right;\n",
       "    }\n",
       "</style>\n",
       "<table border=\"1\" class=\"dataframe\">\n",
       "  <thead>\n",
       "    <tr style=\"text-align: right;\">\n",
       "      <th></th>\n",
       "      <th>source</th>\n",
       "      <th>first</th>\n",
       "      <th>repeated</th>\n",
       "    </tr>\n",
       "  </thead>\n",
       "  <tbody>\n",
       "    <tr>\n",
       "      <th>0</th>\n",
       "      <td>context</td>\n",
       "      <td>2933</td>\n",
       "      <td>96</td>\n",
       "    </tr>\n",
       "    <tr>\n",
       "      <th>1</th>\n",
       "      <td>email</td>\n",
       "      <td>885</td>\n",
       "      <td>136</td>\n",
       "    </tr>\n",
       "    <tr>\n",
       "      <th>2</th>\n",
       "      <td>smm</td>\n",
       "      <td>1653</td>\n",
       "      <td>139</td>\n",
       "    </tr>\n",
       "  </tbody>\n",
       "</table>\n",
       "</div>"
      ]
     },
     "execution_count": 13,
     "metadata": {},
     "output_type": "execute_result"
    }
   ],
   "execution_count": 13
  },
  {
   "metadata": {
    "ExecuteTime": {
     "end_time": "2024-10-22T11:40:35.761493Z",
     "start_time": "2024-10-22T11:40:35.755319Z"
    }
   },
   "cell_type": "code",
   "source": [
    "email_visits = 1000 # количество визитов из рассылок\n",
    "context_visits = 2500 # количество визитов из контекстной рекламы\n",
    "email_purchases = 50 # количество покупок из рассылок\n",
    "context_purchases = 100 # количество покупок из контекстной рекламы\n",
    "\n",
    "email_conversion = email_purchases / email_visits\n",
    "context_conversion = context_purchases / context_visits\n",
    "\n",
    "print('Конверсия рассылок: {:.0%}'.format(email_conversion))\n",
    "print('Конверсия контекстной рекламы: {:.0%}'.format(context_conversion))"
   ],
   "id": "64bb1489c22f9271",
   "outputs": [
    {
     "name": "stdout",
     "output_type": "stream",
     "text": [
      "Конверсия рассылок: 5%\n",
      "Конверсия контекстной рекламы: 4%\n"
     ]
    }
   ],
   "execution_count": 14
  },
  {
   "metadata": {
    "ExecuteTime": {
     "end_time": "2024-10-22T11:41:11.736479Z",
     "start_time": "2024-10-22T11:41:11.730890Z"
    }
   },
   "cell_type": "code",
   "source": "purchases.insert(loc=3 ,column='total',value = purchases['first']+purchases['repeated'])",
   "id": "ae3a635cb868e495",
   "outputs": [],
   "execution_count": 17
  },
  {
   "metadata": {
    "ExecuteTime": {
     "end_time": "2024-10-22T11:41:13.310029Z",
     "start_time": "2024-10-22T11:41:13.300310Z"
    }
   },
   "cell_type": "code",
   "source": "purchases",
   "id": "ea72f127d8023a63",
   "outputs": [
    {
     "data": {
      "text/plain": [
       "    source  first  repeated  total\n",
       "0  context   2933        96   3029\n",
       "1    email    885       136   1021\n",
       "2      smm   1653       139   1792"
      ],
      "text/html": [
       "<div>\n",
       "<style scoped>\n",
       "    .dataframe tbody tr th:only-of-type {\n",
       "        vertical-align: middle;\n",
       "    }\n",
       "\n",
       "    .dataframe tbody tr th {\n",
       "        vertical-align: top;\n",
       "    }\n",
       "\n",
       "    .dataframe thead th {\n",
       "        text-align: right;\n",
       "    }\n",
       "</style>\n",
       "<table border=\"1\" class=\"dataframe\">\n",
       "  <thead>\n",
       "    <tr style=\"text-align: right;\">\n",
       "      <th></th>\n",
       "      <th>source</th>\n",
       "      <th>first</th>\n",
       "      <th>repeated</th>\n",
       "      <th>total</th>\n",
       "    </tr>\n",
       "  </thead>\n",
       "  <tbody>\n",
       "    <tr>\n",
       "      <th>0</th>\n",
       "      <td>context</td>\n",
       "      <td>2933</td>\n",
       "      <td>96</td>\n",
       "      <td>3029</td>\n",
       "    </tr>\n",
       "    <tr>\n",
       "      <th>1</th>\n",
       "      <td>email</td>\n",
       "      <td>885</td>\n",
       "      <td>136</td>\n",
       "      <td>1021</td>\n",
       "    </tr>\n",
       "    <tr>\n",
       "      <th>2</th>\n",
       "      <td>smm</td>\n",
       "      <td>1653</td>\n",
       "      <td>139</td>\n",
       "      <td>1792</td>\n",
       "    </tr>\n",
       "  </tbody>\n",
       "</table>\n",
       "</div>"
      ]
     },
     "execution_count": 18,
     "metadata": {},
     "output_type": "execute_result"
    }
   ],
   "execution_count": 18
  },
  {
   "metadata": {
    "ExecuteTime": {
     "end_time": "2024-10-22T12:08:31.063404Z",
     "start_time": "2024-10-22T12:08:31.056360Z"
    }
   },
   "cell_type": "code",
   "source": [
    "for index, row in purchases.iterrows():\n",
    "    print(f\"Количество покупок для {row['source']} = {row['repeated'] / row['total']:.0%}\")"
   ],
   "id": "80a05d6247aa78e2",
   "outputs": [
    {
     "name": "stdout",
     "output_type": "stream",
     "text": [
      "Количество покупок для context = 3%\n",
      "Количество покупок для email = 13%\n",
      "Количество покупок для smm = 8%\n"
     ]
    }
   ],
   "execution_count": 33
  },
  {
   "metadata": {
    "ExecuteTime": {
     "end_time": "2024-10-22T12:12:55.462687Z",
     "start_time": "2024-10-22T12:12:55.457092Z"
    }
   },
   "cell_type": "code",
   "source": "purchases['repeated_percentage'] = (purchases['repeated'] / purchases['total']).astype(float)*100",
   "id": "66e5f6c2720680c0",
   "outputs": [],
   "execution_count": 56
  },
  {
   "metadata": {
    "ExecuteTime": {
     "end_time": "2024-10-22T12:14:02.419082Z",
     "start_time": "2024-10-22T12:14:02.404261Z"
    }
   },
   "cell_type": "code",
   "source": "purchases.sort_values(by='repeated_percentage', ascending=False)",
   "id": "e472e75306795fba",
   "outputs": [
    {
     "data": {
      "text/plain": [
       "    source  first  repeated  total  repeated_percentage\n",
       "1    email    885       136   1021            13.320274\n",
       "2      smm   1653       139   1792             7.756696\n",
       "0  context   2933        96   3029             3.169363"
      ],
      "text/html": [
       "<div>\n",
       "<style scoped>\n",
       "    .dataframe tbody tr th:only-of-type {\n",
       "        vertical-align: middle;\n",
       "    }\n",
       "\n",
       "    .dataframe tbody tr th {\n",
       "        vertical-align: top;\n",
       "    }\n",
       "\n",
       "    .dataframe thead th {\n",
       "        text-align: right;\n",
       "    }\n",
       "</style>\n",
       "<table border=\"1\" class=\"dataframe\">\n",
       "  <thead>\n",
       "    <tr style=\"text-align: right;\">\n",
       "      <th></th>\n",
       "      <th>source</th>\n",
       "      <th>first</th>\n",
       "      <th>repeated</th>\n",
       "      <th>total</th>\n",
       "      <th>repeated_percentage</th>\n",
       "    </tr>\n",
       "  </thead>\n",
       "  <tbody>\n",
       "    <tr>\n",
       "      <th>1</th>\n",
       "      <td>email</td>\n",
       "      <td>885</td>\n",
       "      <td>136</td>\n",
       "      <td>1021</td>\n",
       "      <td>13.320274</td>\n",
       "    </tr>\n",
       "    <tr>\n",
       "      <th>2</th>\n",
       "      <td>smm</td>\n",
       "      <td>1653</td>\n",
       "      <td>139</td>\n",
       "      <td>1792</td>\n",
       "      <td>7.756696</td>\n",
       "    </tr>\n",
       "    <tr>\n",
       "      <th>0</th>\n",
       "      <td>context</td>\n",
       "      <td>2933</td>\n",
       "      <td>96</td>\n",
       "      <td>3029</td>\n",
       "      <td>3.169363</td>\n",
       "    </tr>\n",
       "  </tbody>\n",
       "</table>\n",
       "</div>"
      ]
     },
     "execution_count": 58,
     "metadata": {},
     "output_type": "execute_result"
    }
   ],
   "execution_count": 58
  }
 ],
 "metadata": {
  "kernelspec": {
   "display_name": "Python 3",
   "language": "python",
   "name": "python3"
  },
  "language_info": {
   "codemirror_mode": {
    "name": "ipython",
    "version": 2
   },
   "file_extension": ".py",
   "mimetype": "text/x-python",
   "name": "python",
   "nbconvert_exporter": "python",
   "pygments_lexer": "ipython2",
   "version": "2.7.6"
  }
 },
 "nbformat": 4,
 "nbformat_minor": 5
}
