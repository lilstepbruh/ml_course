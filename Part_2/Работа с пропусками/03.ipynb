{
 "cells": [
  {
   "cell_type": "code",
   "id": "initial_id",
   "metadata": {
    "collapsed": true,
    "ExecuteTime": {
     "end_time": "2024-10-22T12:36:23.957320Z",
     "start_time": "2024-10-22T12:36:23.952680Z"
    }
   },
   "source": "import pandas as pd",
   "outputs": [],
   "execution_count": 2
  },
  {
   "metadata": {
    "ExecuteTime": {
     "end_time": "2024-10-22T12:36:53.439803Z",
     "start_time": "2024-10-22T12:36:53.342418Z"
    }
   },
   "cell_type": "code",
   "source": [
    "logs = pd.read_csv(r\"C:\\Users\\andre\\Рабочий стол\\Практикум\\Специалист по Data Science Плюс. Часть 2\\02 Работа с пропусками\\03 work\\logs.csv\")\n",
    "logs.head()"
   ],
   "id": "e05f5c8babaf1eb4",
   "outputs": [
    {
     "data": {
      "text/plain": [
       "      user_id   source       email  purchase\n",
       "0  7141786820    other         NaN         0\n",
       "1  5644686960    email  c129aa540a         0\n",
       "2  1914055396  context         NaN         0\n",
       "3  4099355752    other         NaN         0\n",
       "4  6032477554  context         NaN         1"
      ],
      "text/html": [
       "<div>\n",
       "<style scoped>\n",
       "    .dataframe tbody tr th:only-of-type {\n",
       "        vertical-align: middle;\n",
       "    }\n",
       "\n",
       "    .dataframe tbody tr th {\n",
       "        vertical-align: top;\n",
       "    }\n",
       "\n",
       "    .dataframe thead th {\n",
       "        text-align: right;\n",
       "    }\n",
       "</style>\n",
       "<table border=\"1\" class=\"dataframe\">\n",
       "  <thead>\n",
       "    <tr style=\"text-align: right;\">\n",
       "      <th></th>\n",
       "      <th>user_id</th>\n",
       "      <th>source</th>\n",
       "      <th>email</th>\n",
       "      <th>purchase</th>\n",
       "    </tr>\n",
       "  </thead>\n",
       "  <tbody>\n",
       "    <tr>\n",
       "      <th>0</th>\n",
       "      <td>7141786820</td>\n",
       "      <td>other</td>\n",
       "      <td>NaN</td>\n",
       "      <td>0</td>\n",
       "    </tr>\n",
       "    <tr>\n",
       "      <th>1</th>\n",
       "      <td>5644686960</td>\n",
       "      <td>email</td>\n",
       "      <td>c129aa540a</td>\n",
       "      <td>0</td>\n",
       "    </tr>\n",
       "    <tr>\n",
       "      <th>2</th>\n",
       "      <td>1914055396</td>\n",
       "      <td>context</td>\n",
       "      <td>NaN</td>\n",
       "      <td>0</td>\n",
       "    </tr>\n",
       "    <tr>\n",
       "      <th>3</th>\n",
       "      <td>4099355752</td>\n",
       "      <td>other</td>\n",
       "      <td>NaN</td>\n",
       "      <td>0</td>\n",
       "    </tr>\n",
       "    <tr>\n",
       "      <th>4</th>\n",
       "      <td>6032477554</td>\n",
       "      <td>context</td>\n",
       "      <td>NaN</td>\n",
       "      <td>1</td>\n",
       "    </tr>\n",
       "  </tbody>\n",
       "</table>\n",
       "</div>"
      ]
     },
     "execution_count": 3,
     "metadata": {},
     "output_type": "execute_result"
    }
   ],
   "execution_count": 3
  },
  {
   "metadata": {
    "ExecuteTime": {
     "end_time": "2024-10-22T12:37:24.315160Z",
     "start_time": "2024-10-22T12:37:24.294168Z"
    }
   },
   "cell_type": "code",
   "source": "logs.info()",
   "id": "68c75de3a8988e67",
   "outputs": [
    {
     "name": "stdout",
     "output_type": "stream",
     "text": [
      "<class 'pandas.core.frame.DataFrame'>\n",
      "RangeIndex: 200000 entries, 0 to 199999\n",
      "Data columns (total 4 columns):\n",
      " #   Column    Non-Null Count   Dtype \n",
      "---  ------    --------------   ----- \n",
      " 0   user_id   200000 non-null  int64 \n",
      " 1   source    198326 non-null  object\n",
      " 2   email     13953 non-null   object\n",
      " 3   purchase  200000 non-null  int64 \n",
      "dtypes: int64(2), object(2)\n",
      "memory usage: 6.1+ MB\n"
     ]
    }
   ],
   "execution_count": 4
  },
  {
   "metadata": {
    "ExecuteTime": {
     "end_time": "2024-10-22T12:44:05.687530Z",
     "start_time": "2024-10-22T12:44:05.671433Z"
    }
   },
   "cell_type": "code",
   "source": "logs['user_id'].nunique()",
   "id": "f10de58482b387e",
   "outputs": [
    {
     "data": {
      "text/plain": [
       "86571"
      ]
     },
     "execution_count": 11,
     "metadata": {},
     "output_type": "execute_result"
    }
   ],
   "execution_count": 11
  },
  {
   "metadata": {
    "ExecuteTime": {
     "end_time": "2024-10-22T12:44:22.759500Z",
     "start_time": "2024-10-22T12:44:22.743971Z"
    }
   },
   "cell_type": "code",
   "source": "logs['email'].nunique()",
   "id": "71dc03c8257246cc",
   "outputs": [
    {
     "data": {
      "text/plain": [
       "6062"
      ]
     },
     "execution_count": 12,
     "metadata": {},
     "output_type": "execute_result"
    }
   ],
   "execution_count": 12
  },
  {
   "metadata": {
    "ExecuteTime": {
     "end_time": "2024-10-22T12:46:00.200923Z",
     "start_time": "2024-10-22T12:46:00.189223Z"
    }
   },
   "cell_type": "code",
   "source": "logs['source'].unique()",
   "id": "b6a8549bd50659f7",
   "outputs": [
    {
     "data": {
      "text/plain": [
       "array(['other', 'email', 'context', nan, 'undef'], dtype=object)"
      ]
     },
     "execution_count": 17,
     "metadata": {},
     "output_type": "execute_result"
    }
   ],
   "execution_count": 17
  }
 ],
 "metadata": {
  "kernelspec": {
   "display_name": "Python 3",
   "language": "python",
   "name": "python3"
  },
  "language_info": {
   "codemirror_mode": {
    "name": "ipython",
    "version": 2
   },
   "file_extension": ".py",
   "mimetype": "text/x-python",
   "name": "python",
   "nbconvert_exporter": "python",
   "pygments_lexer": "ipython2",
   "version": "2.7.6"
  }
 },
 "nbformat": 4,
 "nbformat_minor": 5
}
