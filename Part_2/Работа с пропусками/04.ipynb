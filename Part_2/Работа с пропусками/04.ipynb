{
 "cells": [
  {
   "cell_type": "code",
   "id": "initial_id",
   "metadata": {
    "collapsed": true,
    "ExecuteTime": {
     "end_time": "2024-10-22T13:28:04.953617Z",
     "start_time": "2024-10-22T13:28:04.948854Z"
    }
   },
   "source": [
    "import pandas as pd\n",
    "import numpy as np"
   ],
   "outputs": [],
   "execution_count": 94
  },
  {
   "metadata": {},
   "cell_type": "markdown",
   "source": [
    "1.\n",
    "Прежде чем заполнять пропуски, их нужно найти. Напечатайте на экране строки таблицы, у которых есть пропуски в столбце 'faculty_name'.\n",
    "2.\n",
    "Восстановите справедливость: верните Рону его факультет, заменив значение NaN на 'Гриффиндор' методом fillna(). Выведите на экран таблицу hogwarts_points.\n",
    "\n",
    "3.\n",
    "Найдите суммарные баллы каждого из факультетов и сохраните результат в переменной faculty_points. Потом используя эту переменную найдите факультет-победитель и сохраните результат в переменной winner. В конце выведите значения обеих переменных на экран (уже в прекоде).\n",
    "\n",
    "4.\n",
    "Применим полученные в Хогвартсе знания к реальной задаче. Возьмём источники трафика Яндекс.Маркета и рассчитаем конверсию.\n",
    "Найдите количество визитов из каждого источника трафика. Для этого сгруппируйте данные из столбца с идентификаторами пользователей по столбцу с источниками. Результат сохраните в переменной visits и выведите на экран.\n",
    "\n",
    "5.\n",
    "Посчитайте количество совершённых покупок для каждого источника трафика. Результат сохраните в переменной purchase и выведите на экран.\n",
    "\n",
    "6.\n",
    "Посчитайте конверсию по каждому источнику трафика, результат сохраните в переменной conversion и выведите на экран."
   ],
   "id": "c61b8e29d46a2380"
  },
  {
   "metadata": {
    "ExecuteTime": {
     "end_time": "2024-10-22T14:18:36.559051Z",
     "start_time": "2024-10-22T14:18:36.491544Z"
    }
   },
   "cell_type": "code",
   "source": [
    "df = pd.read_csv(r\"C:\\Users\\andre\\Рабочий стол\\Практикум\\Специалист по Data Science Плюс. Часть 2\\02 Работа с пропусками\\04 work\\hogwarts_points.csv\")\n",
    "market = pd.read_csv(r\"C:\\Users\\andre\\Рабочий стол\\Практикум\\Специалист по Data Science Плюс. Часть 2\\02 Работа с пропусками\\04 work\\logs.csv\")"
   ],
   "id": "b9b900a7853f67ed",
   "outputs": [],
   "execution_count": 127
  },
  {
   "metadata": {
    "ExecuteTime": {
     "end_time": "2024-10-22T13:11:39.901274Z",
     "start_time": "2024-10-22T13:11:39.891186Z"
    }
   },
   "cell_type": "code",
   "source": "df.head()",
   "id": "6bc5cbb27b3dd6f5",
   "outputs": [
    {
     "data": {
      "text/plain": [
       "  faculty_name    student_name  points\n",
       "0   Гриффиндор    Гарри Поттер      15\n",
       "1     Слизерин    Драко Малфой      28\n",
       "2    Когтевран  Полумна Лавгуд      10\n",
       "3          NaN       Рон Уизли       5\n",
       "4    Пуффендуй  Седрик Диггори      17"
      ],
      "text/html": [
       "<div>\n",
       "<style scoped>\n",
       "    .dataframe tbody tr th:only-of-type {\n",
       "        vertical-align: middle;\n",
       "    }\n",
       "\n",
       "    .dataframe tbody tr th {\n",
       "        vertical-align: top;\n",
       "    }\n",
       "\n",
       "    .dataframe thead th {\n",
       "        text-align: right;\n",
       "    }\n",
       "</style>\n",
       "<table border=\"1\" class=\"dataframe\">\n",
       "  <thead>\n",
       "    <tr style=\"text-align: right;\">\n",
       "      <th></th>\n",
       "      <th>faculty_name</th>\n",
       "      <th>student_name</th>\n",
       "      <th>points</th>\n",
       "    </tr>\n",
       "  </thead>\n",
       "  <tbody>\n",
       "    <tr>\n",
       "      <th>0</th>\n",
       "      <td>Гриффиндор</td>\n",
       "      <td>Гарри Поттер</td>\n",
       "      <td>15</td>\n",
       "    </tr>\n",
       "    <tr>\n",
       "      <th>1</th>\n",
       "      <td>Слизерин</td>\n",
       "      <td>Драко Малфой</td>\n",
       "      <td>28</td>\n",
       "    </tr>\n",
       "    <tr>\n",
       "      <th>2</th>\n",
       "      <td>Когтевран</td>\n",
       "      <td>Полумна Лавгуд</td>\n",
       "      <td>10</td>\n",
       "    </tr>\n",
       "    <tr>\n",
       "      <th>3</th>\n",
       "      <td>NaN</td>\n",
       "      <td>Рон Уизли</td>\n",
       "      <td>5</td>\n",
       "    </tr>\n",
       "    <tr>\n",
       "      <th>4</th>\n",
       "      <td>Пуффендуй</td>\n",
       "      <td>Седрик Диггори</td>\n",
       "      <td>17</td>\n",
       "    </tr>\n",
       "  </tbody>\n",
       "</table>\n",
       "</div>"
      ]
     },
     "execution_count": 59,
     "metadata": {},
     "output_type": "execute_result"
    }
   ],
   "execution_count": 59
  },
  {
   "metadata": {
    "ExecuteTime": {
     "end_time": "2024-10-22T13:11:39.963961Z",
     "start_time": "2024-10-22T13:11:39.956447Z"
    }
   },
   "cell_type": "code",
   "source": "df['faculty_name'].isna()",
   "id": "d36f2a310546459e",
   "outputs": [
    {
     "data": {
      "text/plain": [
       "0    False\n",
       "1    False\n",
       "2    False\n",
       "3     True\n",
       "4    False\n",
       "5    False\n",
       "Name: faculty_name, dtype: bool"
      ]
     },
     "execution_count": 60,
     "metadata": {},
     "output_type": "execute_result"
    }
   ],
   "execution_count": 60
  },
  {
   "metadata": {
    "ExecuteTime": {
     "end_time": "2024-10-22T13:11:40.074910Z",
     "start_time": "2024-10-22T13:11:40.069997Z"
    }
   },
   "cell_type": "code",
   "source": "df['faculty_name'] = df['faculty_name'].fillna('Гриффиндор')",
   "id": "587162b53ee79625",
   "outputs": [],
   "execution_count": 61
  },
  {
   "metadata": {
    "ExecuteTime": {
     "end_time": "2024-10-22T13:11:40.239630Z",
     "start_time": "2024-10-22T13:11:40.233760Z"
    }
   },
   "cell_type": "code",
   "source": "faculty_points  = df.points.sum()",
   "id": "24598f102b8d151d",
   "outputs": [],
   "execution_count": 62
  },
  {
   "metadata": {
    "ExecuteTime": {
     "end_time": "2024-10-22T13:12:47.337518Z",
     "start_time": "2024-10-22T13:12:47.328916Z"
    }
   },
   "cell_type": "code",
   "source": [
    "gdf = df.groupby('faculty_name')['points'].sum().idxmax()\n",
    "gdf"
   ],
   "id": "75bd81e8293f0ed9",
   "outputs": [
    {
     "data": {
      "text/plain": [
       "'Гриффиндор'"
      ]
     },
     "execution_count": 70,
     "metadata": {},
     "output_type": "execute_result"
    }
   ],
   "execution_count": 70
  },
  {
   "metadata": {
    "ExecuteTime": {
     "end_time": "2024-10-22T13:15:57.913088Z",
     "start_time": "2024-10-22T13:15:57.891445Z"
    }
   },
   "cell_type": "code",
   "source": "market.groupby('source')['user_id'].count()",
   "id": "ac255202067dbd8e",
   "outputs": [
    {
     "data": {
      "text/plain": [
       "source\n",
       "context     52032\n",
       "email       12279\n",
       "other      133834\n",
       "undef         181\n",
       "Name: user_id, dtype: int64"
      ]
     },
     "execution_count": 82,
     "metadata": {},
     "output_type": "execute_result"
    }
   ],
   "execution_count": 82
  },
  {
   "metadata": {
    "ExecuteTime": {
     "end_time": "2024-10-22T13:20:27.394063Z",
     "start_time": "2024-10-22T13:20:27.372549Z"
    }
   },
   "cell_type": "code",
   "source": "market.groupby('source')['purchase'].sum()",
   "id": "93e9474308193eb7",
   "outputs": [
    {
     "data": {
      "text/plain": [
       "source\n",
       "context    3029\n",
       "email       913\n",
       "other      8041\n",
       "undef        12\n",
       "Name: purchase, dtype: int64"
      ]
     },
     "execution_count": 85,
     "metadata": {},
     "output_type": "execute_result"
    }
   ],
   "execution_count": 85
  },
  {
   "metadata": {
    "ExecuteTime": {
     "end_time": "2024-10-22T14:21:16.029430Z",
     "start_time": "2024-10-22T14:21:16.006109Z"
    }
   },
   "cell_type": "code",
   "source": [
    "m2 = market[(market['source']=='undef') & (market['purchase']==2)]['purchase']\n",
    "m2"
   ],
   "id": "c367faca8953b276",
   "outputs": [
    {
     "data": {
      "text/plain": [
       "16163     2\n",
       "33855     2\n",
       "50214     2\n",
       "63439     2\n",
       "80379     2\n",
       "90683     2\n",
       "104062    2\n",
       "112543    2\n",
       "164946    2\n",
       "166938    2\n",
       "182014    2\n",
       "187552    2\n",
       "Name: purchase, dtype: int64"
      ]
     },
     "execution_count": 142,
     "metadata": {},
     "output_type": "execute_result"
    }
   ],
   "execution_count": 142
  },
  {
   "metadata": {
    "ExecuteTime": {
     "end_time": "2024-10-22T14:20:54.598243Z",
     "start_time": "2024-10-22T14:20:54.576999Z"
    }
   },
   "cell_type": "code",
   "source": [
    "m3 = market.loc[(market['source']=='undef') & (market['purchase']==2), 'purchase'] \n",
    "m3"
   ],
   "id": "b2463e0ae3af583a",
   "outputs": [
    {
     "data": {
      "text/plain": [
       "16163     2\n",
       "33855     2\n",
       "50214     2\n",
       "63439     2\n",
       "80379     2\n",
       "90683     2\n",
       "104062    2\n",
       "112543    2\n",
       "164946    2\n",
       "166938    2\n",
       "182014    2\n",
       "187552    2\n",
       "Name: purchase, dtype: int64"
      ]
     },
     "execution_count": 139,
     "metadata": {},
     "output_type": "execute_result"
    }
   ],
   "execution_count": 139
  },
  {
   "metadata": {
    "ExecuteTime": {
     "end_time": "2024-10-22T14:25:21.087907Z",
     "start_time": "2024-10-22T14:25:21.073501Z"
    }
   },
   "cell_type": "code",
   "source": "market[market['purchase']==2",
   "id": "c6254aa690313169",
   "outputs": [
    {
     "data": {
      "text/plain": [
       "           user_id source email  purchase\n",
       "16163   6142982248  undef   NaN         2\n",
       "33855   9679492983  undef   NaN         2\n",
       "50214    907481352  undef   NaN         2\n",
       "63439   5446726605  undef   NaN         2\n",
       "80379    432598494  undef   NaN         2\n",
       "90683   7344621071  undef   NaN         2\n",
       "104062  1540218663  undef   NaN         2\n",
       "112543   351249497  undef   NaN         2\n",
       "164946  2991619793  undef   NaN         2\n",
       "166938  6846965810  undef   NaN         2\n",
       "182014  9572135427  undef   NaN         2\n",
       "187552  9642694241  undef   NaN         2"
      ],
      "text/html": [
       "<div>\n",
       "<style scoped>\n",
       "    .dataframe tbody tr th:only-of-type {\n",
       "        vertical-align: middle;\n",
       "    }\n",
       "\n",
       "    .dataframe tbody tr th {\n",
       "        vertical-align: top;\n",
       "    }\n",
       "\n",
       "    .dataframe thead th {\n",
       "        text-align: right;\n",
       "    }\n",
       "</style>\n",
       "<table border=\"1\" class=\"dataframe\">\n",
       "  <thead>\n",
       "    <tr style=\"text-align: right;\">\n",
       "      <th></th>\n",
       "      <th>user_id</th>\n",
       "      <th>source</th>\n",
       "      <th>email</th>\n",
       "      <th>purchase</th>\n",
       "    </tr>\n",
       "  </thead>\n",
       "  <tbody>\n",
       "    <tr>\n",
       "      <th>16163</th>\n",
       "      <td>6142982248</td>\n",
       "      <td>undef</td>\n",
       "      <td>NaN</td>\n",
       "      <td>2</td>\n",
       "    </tr>\n",
       "    <tr>\n",
       "      <th>33855</th>\n",
       "      <td>9679492983</td>\n",
       "      <td>undef</td>\n",
       "      <td>NaN</td>\n",
       "      <td>2</td>\n",
       "    </tr>\n",
       "    <tr>\n",
       "      <th>50214</th>\n",
       "      <td>907481352</td>\n",
       "      <td>undef</td>\n",
       "      <td>NaN</td>\n",
       "      <td>2</td>\n",
       "    </tr>\n",
       "    <tr>\n",
       "      <th>63439</th>\n",
       "      <td>5446726605</td>\n",
       "      <td>undef</td>\n",
       "      <td>NaN</td>\n",
       "      <td>2</td>\n",
       "    </tr>\n",
       "    <tr>\n",
       "      <th>80379</th>\n",
       "      <td>432598494</td>\n",
       "      <td>undef</td>\n",
       "      <td>NaN</td>\n",
       "      <td>2</td>\n",
       "    </tr>\n",
       "    <tr>\n",
       "      <th>90683</th>\n",
       "      <td>7344621071</td>\n",
       "      <td>undef</td>\n",
       "      <td>NaN</td>\n",
       "      <td>2</td>\n",
       "    </tr>\n",
       "    <tr>\n",
       "      <th>104062</th>\n",
       "      <td>1540218663</td>\n",
       "      <td>undef</td>\n",
       "      <td>NaN</td>\n",
       "      <td>2</td>\n",
       "    </tr>\n",
       "    <tr>\n",
       "      <th>112543</th>\n",
       "      <td>351249497</td>\n",
       "      <td>undef</td>\n",
       "      <td>NaN</td>\n",
       "      <td>2</td>\n",
       "    </tr>\n",
       "    <tr>\n",
       "      <th>164946</th>\n",
       "      <td>2991619793</td>\n",
       "      <td>undef</td>\n",
       "      <td>NaN</td>\n",
       "      <td>2</td>\n",
       "    </tr>\n",
       "    <tr>\n",
       "      <th>166938</th>\n",
       "      <td>6846965810</td>\n",
       "      <td>undef</td>\n",
       "      <td>NaN</td>\n",
       "      <td>2</td>\n",
       "    </tr>\n",
       "    <tr>\n",
       "      <th>182014</th>\n",
       "      <td>9572135427</td>\n",
       "      <td>undef</td>\n",
       "      <td>NaN</td>\n",
       "      <td>2</td>\n",
       "    </tr>\n",
       "    <tr>\n",
       "      <th>187552</th>\n",
       "      <td>9642694241</td>\n",
       "      <td>undef</td>\n",
       "      <td>NaN</td>\n",
       "      <td>2</td>\n",
       "    </tr>\n",
       "  </tbody>\n",
       "</table>\n",
       "</div>"
      ]
     },
     "execution_count": 143,
     "metadata": {},
     "output_type": "execute_result"
    }
   ],
   "execution_count": 143
  },
  {
   "metadata": {
    "ExecuteTime": {
     "end_time": "2024-10-22T13:32:02.332682Z",
     "start_time": "2024-10-22T13:32:02.301587Z"
    }
   },
   "cell_type": "code",
   "outputs": [
    {
     "data": {
      "text/plain": [
       "         purchase\n",
       "source           \n",
       "context  0.058214\n",
       "email    0.074355\n",
       "other    0.060082\n",
       "undef    0.066298"
      ],
      "text/html": [
       "<div>\n",
       "<style scoped>\n",
       "    .dataframe tbody tr th:only-of-type {\n",
       "        vertical-align: middle;\n",
       "    }\n",
       "\n",
       "    .dataframe tbody tr th {\n",
       "        vertical-align: top;\n",
       "    }\n",
       "\n",
       "    .dataframe thead th {\n",
       "        text-align: right;\n",
       "    }\n",
       "</style>\n",
       "<table border=\"1\" class=\"dataframe\">\n",
       "  <thead>\n",
       "    <tr style=\"text-align: right;\">\n",
       "      <th></th>\n",
       "      <th>purchase</th>\n",
       "    </tr>\n",
       "    <tr>\n",
       "      <th>source</th>\n",
       "      <th></th>\n",
       "    </tr>\n",
       "  </thead>\n",
       "  <tbody>\n",
       "    <tr>\n",
       "      <th>context</th>\n",
       "      <td>0.058214</td>\n",
       "    </tr>\n",
       "    <tr>\n",
       "      <th>email</th>\n",
       "      <td>0.074355</td>\n",
       "    </tr>\n",
       "    <tr>\n",
       "      <th>other</th>\n",
       "      <td>0.060082</td>\n",
       "    </tr>\n",
       "    <tr>\n",
       "      <th>undef</th>\n",
       "      <td>0.066298</td>\n",
       "    </tr>\n",
       "  </tbody>\n",
       "</table>\n",
       "</div>"
      ]
     },
     "execution_count": 98,
     "metadata": {},
     "output_type": "execute_result"
    }
   ],
   "execution_count": 98,
   "source": [
    "market.groupby('source').agg(\n",
    "    {\n",
    "        'purchase': 'mean', \n",
    "    }\n",
    ")"
   ],
   "id": "d6be5ff9adee7290"
  }
 ],
 "metadata": {
  "kernelspec": {
   "display_name": "Python 3",
   "language": "python",
   "name": "python3"
  },
  "language_info": {
   "codemirror_mode": {
    "name": "ipython",
    "version": 2
   },
   "file_extension": ".py",
   "mimetype": "text/x-python",
   "name": "python",
   "nbconvert_exporter": "python",
   "pygments_lexer": "ipython2",
   "version": "2.7.6"
  }
 },
 "nbformat": 4,
 "nbformat_minor": 5
}
