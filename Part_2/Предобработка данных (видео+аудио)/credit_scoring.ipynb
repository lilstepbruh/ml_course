{
 "cells": [
  {
   "cell_type": "code",
   "metadata": {
    "pycharm": {
     "name": "#%%\n"
    },
    "ExecuteTime": {
     "end_time": "2024-09-02T14:27:01.947922Z",
     "start_time": "2024-09-02T14:27:01.937132Z"
    }
   },
   "source": [
    "import pandas as pd\n",
    "from matplotlib import pyplot as plt\n",
    "import seaborn as sns\n",
    "import numpy as np\n",
    "\n",
    "# Скроем предупреждения, чтобы не мозолили глаза\n",
    "import warnings\n",
    "warnings.filterwarnings(\"ignore\")"
   ],
   "outputs": [],
   "execution_count": 26
  },
  {
   "metadata": {
    "ExecuteTime": {
     "end_time": "2024-09-02T14:27:02.647327Z",
     "start_time": "2024-09-02T14:27:02.615457Z"
    }
   },
   "cell_type": "code",
   "source": [
    "scoring_data = pd.read_csv('german_credit_data.csv')\n",
    "scoring_data"
   ],
   "outputs": [
    {
     "data": {
      "text/plain": [
       "     Unnamed: 0  Age     Sex  Job Housing Saving accounts Checking account  \\\n",
       "0             0   67    male    2     own             NaN           little   \n",
       "1             1   22  female    2     own          little         moderate   \n",
       "2             2   49    male    1     own          little              NaN   \n",
       "3             3   45    male    2    free          little           little   \n",
       "4             4   53    male    2    free          little           little   \n",
       "..          ...  ...     ...  ...     ...             ...              ...   \n",
       "995         995   31  female    1     own          little              NaN   \n",
       "996         996   40    male    3     own          little           little   \n",
       "997         997   38    male    2     own          little              NaN   \n",
       "998         998   23    male    2    free          little           little   \n",
       "999         999   27    male    2     own        moderate         moderate   \n",
       "\n",
       "     Credit amount  Duration              Purpose  Risk  \n",
       "0             1169         6             radio/TV  good  \n",
       "1             5951        48             radio/TV   bad  \n",
       "2             2096        12            education  good  \n",
       "3             7882        42  furniture/equipment  good  \n",
       "4             4870        24                  car   bad  \n",
       "..             ...       ...                  ...   ...  \n",
       "995           1736        12  furniture/equipment  good  \n",
       "996           3857        30                  car  good  \n",
       "997            804        12             radio/TV  good  \n",
       "998           1845        45             radio/TV   bad  \n",
       "999           4576        45                  car  good  \n",
       "\n",
       "[1000 rows x 11 columns]"
      ],
      "text/html": [
       "<div>\n",
       "<style scoped>\n",
       "    .dataframe tbody tr th:only-of-type {\n",
       "        vertical-align: middle;\n",
       "    }\n",
       "\n",
       "    .dataframe tbody tr th {\n",
       "        vertical-align: top;\n",
       "    }\n",
       "\n",
       "    .dataframe thead th {\n",
       "        text-align: right;\n",
       "    }\n",
       "</style>\n",
       "<table border=\"1\" class=\"dataframe\">\n",
       "  <thead>\n",
       "    <tr style=\"text-align: right;\">\n",
       "      <th></th>\n",
       "      <th>Unnamed: 0</th>\n",
       "      <th>Age</th>\n",
       "      <th>Sex</th>\n",
       "      <th>Job</th>\n",
       "      <th>Housing</th>\n",
       "      <th>Saving accounts</th>\n",
       "      <th>Checking account</th>\n",
       "      <th>Credit amount</th>\n",
       "      <th>Duration</th>\n",
       "      <th>Purpose</th>\n",
       "      <th>Risk</th>\n",
       "    </tr>\n",
       "  </thead>\n",
       "  <tbody>\n",
       "    <tr>\n",
       "      <th>0</th>\n",
       "      <td>0</td>\n",
       "      <td>67</td>\n",
       "      <td>male</td>\n",
       "      <td>2</td>\n",
       "      <td>own</td>\n",
       "      <td>NaN</td>\n",
       "      <td>little</td>\n",
       "      <td>1169</td>\n",
       "      <td>6</td>\n",
       "      <td>radio/TV</td>\n",
       "      <td>good</td>\n",
       "    </tr>\n",
       "    <tr>\n",
       "      <th>1</th>\n",
       "      <td>1</td>\n",
       "      <td>22</td>\n",
       "      <td>female</td>\n",
       "      <td>2</td>\n",
       "      <td>own</td>\n",
       "      <td>little</td>\n",
       "      <td>moderate</td>\n",
       "      <td>5951</td>\n",
       "      <td>48</td>\n",
       "      <td>radio/TV</td>\n",
       "      <td>bad</td>\n",
       "    </tr>\n",
       "    <tr>\n",
       "      <th>2</th>\n",
       "      <td>2</td>\n",
       "      <td>49</td>\n",
       "      <td>male</td>\n",
       "      <td>1</td>\n",
       "      <td>own</td>\n",
       "      <td>little</td>\n",
       "      <td>NaN</td>\n",
       "      <td>2096</td>\n",
       "      <td>12</td>\n",
       "      <td>education</td>\n",
       "      <td>good</td>\n",
       "    </tr>\n",
       "    <tr>\n",
       "      <th>3</th>\n",
       "      <td>3</td>\n",
       "      <td>45</td>\n",
       "      <td>male</td>\n",
       "      <td>2</td>\n",
       "      <td>free</td>\n",
       "      <td>little</td>\n",
       "      <td>little</td>\n",
       "      <td>7882</td>\n",
       "      <td>42</td>\n",
       "      <td>furniture/equipment</td>\n",
       "      <td>good</td>\n",
       "    </tr>\n",
       "    <tr>\n",
       "      <th>4</th>\n",
       "      <td>4</td>\n",
       "      <td>53</td>\n",
       "      <td>male</td>\n",
       "      <td>2</td>\n",
       "      <td>free</td>\n",
       "      <td>little</td>\n",
       "      <td>little</td>\n",
       "      <td>4870</td>\n",
       "      <td>24</td>\n",
       "      <td>car</td>\n",
       "      <td>bad</td>\n",
       "    </tr>\n",
       "    <tr>\n",
       "      <th>...</th>\n",
       "      <td>...</td>\n",
       "      <td>...</td>\n",
       "      <td>...</td>\n",
       "      <td>...</td>\n",
       "      <td>...</td>\n",
       "      <td>...</td>\n",
       "      <td>...</td>\n",
       "      <td>...</td>\n",
       "      <td>...</td>\n",
       "      <td>...</td>\n",
       "      <td>...</td>\n",
       "    </tr>\n",
       "    <tr>\n",
       "      <th>995</th>\n",
       "      <td>995</td>\n",
       "      <td>31</td>\n",
       "      <td>female</td>\n",
       "      <td>1</td>\n",
       "      <td>own</td>\n",
       "      <td>little</td>\n",
       "      <td>NaN</td>\n",
       "      <td>1736</td>\n",
       "      <td>12</td>\n",
       "      <td>furniture/equipment</td>\n",
       "      <td>good</td>\n",
       "    </tr>\n",
       "    <tr>\n",
       "      <th>996</th>\n",
       "      <td>996</td>\n",
       "      <td>40</td>\n",
       "      <td>male</td>\n",
       "      <td>3</td>\n",
       "      <td>own</td>\n",
       "      <td>little</td>\n",
       "      <td>little</td>\n",
       "      <td>3857</td>\n",
       "      <td>30</td>\n",
       "      <td>car</td>\n",
       "      <td>good</td>\n",
       "    </tr>\n",
       "    <tr>\n",
       "      <th>997</th>\n",
       "      <td>997</td>\n",
       "      <td>38</td>\n",
       "      <td>male</td>\n",
       "      <td>2</td>\n",
       "      <td>own</td>\n",
       "      <td>little</td>\n",
       "      <td>NaN</td>\n",
       "      <td>804</td>\n",
       "      <td>12</td>\n",
       "      <td>radio/TV</td>\n",
       "      <td>good</td>\n",
       "    </tr>\n",
       "    <tr>\n",
       "      <th>998</th>\n",
       "      <td>998</td>\n",
       "      <td>23</td>\n",
       "      <td>male</td>\n",
       "      <td>2</td>\n",
       "      <td>free</td>\n",
       "      <td>little</td>\n",
       "      <td>little</td>\n",
       "      <td>1845</td>\n",
       "      <td>45</td>\n",
       "      <td>radio/TV</td>\n",
       "      <td>bad</td>\n",
       "    </tr>\n",
       "    <tr>\n",
       "      <th>999</th>\n",
       "      <td>999</td>\n",
       "      <td>27</td>\n",
       "      <td>male</td>\n",
       "      <td>2</td>\n",
       "      <td>own</td>\n",
       "      <td>moderate</td>\n",
       "      <td>moderate</td>\n",
       "      <td>4576</td>\n",
       "      <td>45</td>\n",
       "      <td>car</td>\n",
       "      <td>good</td>\n",
       "    </tr>\n",
       "  </tbody>\n",
       "</table>\n",
       "<p>1000 rows × 11 columns</p>\n",
       "</div>"
      ]
     },
     "execution_count": 27,
     "metadata": {},
     "output_type": "execute_result"
    }
   ],
   "execution_count": 27
  },
  {
   "cell_type": "code",
   "metadata": {
    "ExecuteTime": {
     "end_time": "2024-09-02T14:27:02.741219Z",
     "start_time": "2024-09-02T14:27:02.732790Z"
    }
   },
   "source": "scoring_data = scoring_data.drop(['Unnamed: 0'], axis=1)",
   "outputs": [],
   "execution_count": 28
  },
  {
   "cell_type": "code",
   "metadata": {
    "scrolled": false,
    "ExecuteTime": {
     "end_time": "2024-09-02T14:27:02.905157Z",
     "start_time": "2024-09-02T14:27:02.883461Z"
    }
   },
   "source": [
    "scoring_data.head(3)"
   ],
   "outputs": [
    {
     "data": {
      "text/plain": [
       "   Age     Sex  Job Housing Saving accounts Checking account  Credit amount  \\\n",
       "0   67    male    2     own             NaN           little           1169   \n",
       "1   22  female    2     own          little         moderate           5951   \n",
       "2   49    male    1     own          little              NaN           2096   \n",
       "\n",
       "   Duration    Purpose  Risk  \n",
       "0         6   radio/TV  good  \n",
       "1        48   radio/TV   bad  \n",
       "2        12  education  good  "
      ],
      "text/html": [
       "<div>\n",
       "<style scoped>\n",
       "    .dataframe tbody tr th:only-of-type {\n",
       "        vertical-align: middle;\n",
       "    }\n",
       "\n",
       "    .dataframe tbody tr th {\n",
       "        vertical-align: top;\n",
       "    }\n",
       "\n",
       "    .dataframe thead th {\n",
       "        text-align: right;\n",
       "    }\n",
       "</style>\n",
       "<table border=\"1\" class=\"dataframe\">\n",
       "  <thead>\n",
       "    <tr style=\"text-align: right;\">\n",
       "      <th></th>\n",
       "      <th>Age</th>\n",
       "      <th>Sex</th>\n",
       "      <th>Job</th>\n",
       "      <th>Housing</th>\n",
       "      <th>Saving accounts</th>\n",
       "      <th>Checking account</th>\n",
       "      <th>Credit amount</th>\n",
       "      <th>Duration</th>\n",
       "      <th>Purpose</th>\n",
       "      <th>Risk</th>\n",
       "    </tr>\n",
       "  </thead>\n",
       "  <tbody>\n",
       "    <tr>\n",
       "      <th>0</th>\n",
       "      <td>67</td>\n",
       "      <td>male</td>\n",
       "      <td>2</td>\n",
       "      <td>own</td>\n",
       "      <td>NaN</td>\n",
       "      <td>little</td>\n",
       "      <td>1169</td>\n",
       "      <td>6</td>\n",
       "      <td>radio/TV</td>\n",
       "      <td>good</td>\n",
       "    </tr>\n",
       "    <tr>\n",
       "      <th>1</th>\n",
       "      <td>22</td>\n",
       "      <td>female</td>\n",
       "      <td>2</td>\n",
       "      <td>own</td>\n",
       "      <td>little</td>\n",
       "      <td>moderate</td>\n",
       "      <td>5951</td>\n",
       "      <td>48</td>\n",
       "      <td>radio/TV</td>\n",
       "      <td>bad</td>\n",
       "    </tr>\n",
       "    <tr>\n",
       "      <th>2</th>\n",
       "      <td>49</td>\n",
       "      <td>male</td>\n",
       "      <td>1</td>\n",
       "      <td>own</td>\n",
       "      <td>little</td>\n",
       "      <td>NaN</td>\n",
       "      <td>2096</td>\n",
       "      <td>12</td>\n",
       "      <td>education</td>\n",
       "      <td>good</td>\n",
       "    </tr>\n",
       "  </tbody>\n",
       "</table>\n",
       "</div>"
      ]
     },
     "execution_count": 29,
     "metadata": {},
     "output_type": "execute_result"
    }
   ],
   "execution_count": 29
  },
  {
   "cell_type": "code",
   "metadata": {
    "ExecuteTime": {
     "end_time": "2024-09-02T14:27:03.090830Z",
     "start_time": "2024-09-02T14:27:03.064058Z"
    }
   },
   "source": [
    "# Сразу добавим численное обозначение риска 1 - bad risk, 0 - good risk\n",
    "scoring_data['is_risk'] = scoring_data.apply(lambda x: 0 if x['Risk'] == 'good' else 1, axis=1)"
   ],
   "outputs": [],
   "execution_count": 30
  },
  {
   "cell_type": "markdown",
   "metadata": {
    "pycharm": {
     "name": "#%% md\n"
    }
   },
   "source": [
    "## Задача: Определить, какой из факторов оказывает наибольшее влияние на риск выдачи кредита\n",
    "## (выявить причину невозвратов)"
   ]
  },
  {
   "cell_type": "markdown",
   "metadata": {
    "pycharm": {
     "name": "#%% md\n"
    }
   },
   "source": [
    "У нас имеются данные кредитного скорринга с маркером рисковости пользователя и его описания по ряду других колонок.\n",
    "\n",
    "**Age:** This variable bank contains the age information of the customers.\n",
    "\n",
    "**Sex:** This variable contains the gender information of the bank customers.\n",
    "\n",
    "**Job:** This variable contains occupational information of bank customers. Professions are divided into four categories according to skill level. (0 - unskilled and non\u0002resident, 1 - unskilled and resident, 2 - skilled, 3 - highly skilled)\n",
    "\n",
    "**Housing:** This variable includes the housing status of the bank customers.\n",
    "\n",
    "**Saving Accounts:** This variable bank contains customers savings information.Customers savings are classified as little, moderate, quite rich, rich.\n",
    "\n",
    "**Checking Accounts:** This variable show the cash in the accounts of bank customers.\n",
    "\n",
    "**Credit Amount:** This variable shows how much credit the bank customers get.\n",
    "\n",
    "**Duration:** This variable contains the specified time to pay the credit.\n",
    "\n",
    "**Purpose:** This variable shows the purpose for which the bank customer taking credit. Taking credit by customers are classified as car, furniture / equipment, radio / TV, domestic appliances, repairs, education, business, vacation / others.\n",
    "\n",
    "**Risk:** This variable contains the customers risk information. Customers in the Data Set have previously taken credit from banks. A value of 1 was given for customers who paid the credit and 0 for customers who could not."
   ]
  },
  {
   "cell_type": "markdown",
   "metadata": {},
   "source": [
    "## Типы данных"
   ]
  },
  {
   "cell_type": "markdown",
   "metadata": {},
   "source": [
    "Работая с датасетами, вы чаще всего будете встречать 3 наиболее популярных типа данных:\n",
    "\n",
    "    - Количественные / Числовые\n",
    "    - Категориальные\n",
    "    - Ранговые\n",
    "    \n",
    "    \n",
    "**Количественный тип самый распространённый:**\n",
    "\n",
    "Тут даже с примерами всё просто: рост, зарплата, вероятность, объём, площадь, возраст. Этот тип обладает двумя главными свойствами: [континуальностью](https://ru.wikipedia.org/wiki/Континуум_(теория_множеств)) (для любых двух элементов всегда найдётся целое множество элементов между ними) или хотя бы [счётностью](https://ru.wikipedia.org/wiki/Счётное_множество) (элементы, даже если их бесконечное количество, можно пересчитать) и [отношением порядка](https://ru.wikipedia.org/wiki/Отношение_порядка) (для любой пары неодинаковых элементов один из них всегда будет больше другого).\n",
    "\n",
    "\n",
    "\n",
    "**Категориальный тип устроен проще:**\n",
    "\n",
    "Данные этого типа - это элементы из ограниченного набора значений, например пол человека, страна, город, операционная система, название руды, и др. Ничего специфического и сложного. Иногда может быть представлен строковым типом, иногда чисовым - тут от способа представления данных зависит.\n",
    "\n",
    "\n",
    "**Ранговый тип данных:**\n",
    "\n",
    "Это комбинированный тип данных, который, также как и категориальные данные, представляет собой ограниченное множество значений. Но обладает упорядоченностью, т.е. можно сказать, что элементы внутри списка выстроены в порядке возрастания какого-то свойства или признака. Пример рангового типа данных - это обобщения над возрастом: детский возраст, школьный возраст, студенческий, возраст молодого специалиста, возраст специалиста, зрелый возраст, предпенсионный, пенсионный и т.д. Здесь мы взяли количественный тип данных \"Возраст\" и разбили на интервалы, дав каждому интервалу название. Примером такого же тпа данных может быть ваша оценка сервиса в приложении с выховом такси. \"Совсем не понравилось\", \"Не понравилось\", \"Нормально\", \"Хорошо\", \"Отлично\" - это тоже ранговый тип данных, потому что значения можно выстроить по возрастанию вашей удовлетворённости."
   ]
  },
  {
   "cell_type": "code",
   "metadata": {
    "scrolled": true,
    "ExecuteTime": {
     "end_time": "2024-09-02T14:27:03.219749Z",
     "start_time": "2024-09-02T14:27:03.194034Z"
    }
   },
   "source": [
    "scoring_data.head()"
   ],
   "outputs": [
    {
     "data": {
      "text/plain": [
       "   Age     Sex  Job Housing Saving accounts Checking account  Credit amount  \\\n",
       "0   67    male    2     own             NaN           little           1169   \n",
       "1   22  female    2     own          little         moderate           5951   \n",
       "2   49    male    1     own          little              NaN           2096   \n",
       "3   45    male    2    free          little           little           7882   \n",
       "4   53    male    2    free          little           little           4870   \n",
       "\n",
       "   Duration              Purpose  Risk  is_risk  \n",
       "0         6             radio/TV  good        0  \n",
       "1        48             radio/TV   bad        1  \n",
       "2        12            education  good        0  \n",
       "3        42  furniture/equipment  good        0  \n",
       "4        24                  car   bad        1  "
      ],
      "text/html": [
       "<div>\n",
       "<style scoped>\n",
       "    .dataframe tbody tr th:only-of-type {\n",
       "        vertical-align: middle;\n",
       "    }\n",
       "\n",
       "    .dataframe tbody tr th {\n",
       "        vertical-align: top;\n",
       "    }\n",
       "\n",
       "    .dataframe thead th {\n",
       "        text-align: right;\n",
       "    }\n",
       "</style>\n",
       "<table border=\"1\" class=\"dataframe\">\n",
       "  <thead>\n",
       "    <tr style=\"text-align: right;\">\n",
       "      <th></th>\n",
       "      <th>Age</th>\n",
       "      <th>Sex</th>\n",
       "      <th>Job</th>\n",
       "      <th>Housing</th>\n",
       "      <th>Saving accounts</th>\n",
       "      <th>Checking account</th>\n",
       "      <th>Credit amount</th>\n",
       "      <th>Duration</th>\n",
       "      <th>Purpose</th>\n",
       "      <th>Risk</th>\n",
       "      <th>is_risk</th>\n",
       "    </tr>\n",
       "  </thead>\n",
       "  <tbody>\n",
       "    <tr>\n",
       "      <th>0</th>\n",
       "      <td>67</td>\n",
       "      <td>male</td>\n",
       "      <td>2</td>\n",
       "      <td>own</td>\n",
       "      <td>NaN</td>\n",
       "      <td>little</td>\n",
       "      <td>1169</td>\n",
       "      <td>6</td>\n",
       "      <td>radio/TV</td>\n",
       "      <td>good</td>\n",
       "      <td>0</td>\n",
       "    </tr>\n",
       "    <tr>\n",
       "      <th>1</th>\n",
       "      <td>22</td>\n",
       "      <td>female</td>\n",
       "      <td>2</td>\n",
       "      <td>own</td>\n",
       "      <td>little</td>\n",
       "      <td>moderate</td>\n",
       "      <td>5951</td>\n",
       "      <td>48</td>\n",
       "      <td>radio/TV</td>\n",
       "      <td>bad</td>\n",
       "      <td>1</td>\n",
       "    </tr>\n",
       "    <tr>\n",
       "      <th>2</th>\n",
       "      <td>49</td>\n",
       "      <td>male</td>\n",
       "      <td>1</td>\n",
       "      <td>own</td>\n",
       "      <td>little</td>\n",
       "      <td>NaN</td>\n",
       "      <td>2096</td>\n",
       "      <td>12</td>\n",
       "      <td>education</td>\n",
       "      <td>good</td>\n",
       "      <td>0</td>\n",
       "    </tr>\n",
       "    <tr>\n",
       "      <th>3</th>\n",
       "      <td>45</td>\n",
       "      <td>male</td>\n",
       "      <td>2</td>\n",
       "      <td>free</td>\n",
       "      <td>little</td>\n",
       "      <td>little</td>\n",
       "      <td>7882</td>\n",
       "      <td>42</td>\n",
       "      <td>furniture/equipment</td>\n",
       "      <td>good</td>\n",
       "      <td>0</td>\n",
       "    </tr>\n",
       "    <tr>\n",
       "      <th>4</th>\n",
       "      <td>53</td>\n",
       "      <td>male</td>\n",
       "      <td>2</td>\n",
       "      <td>free</td>\n",
       "      <td>little</td>\n",
       "      <td>little</td>\n",
       "      <td>4870</td>\n",
       "      <td>24</td>\n",
       "      <td>car</td>\n",
       "      <td>bad</td>\n",
       "      <td>1</td>\n",
       "    </tr>\n",
       "  </tbody>\n",
       "</table>\n",
       "</div>"
      ]
     },
     "execution_count": 31,
     "metadata": {},
     "output_type": "execute_result"
    }
   ],
   "execution_count": 31
  },
  {
   "cell_type": "code",
   "metadata": {
    "ExecuteTime": {
     "end_time": "2024-09-02T14:27:03.688569Z",
     "start_time": "2024-09-02T14:27:03.665637Z"
    }
   },
   "source": [
    "scoring_data.info()"
   ],
   "outputs": [
    {
     "name": "stdout",
     "output_type": "stream",
     "text": [
      "<class 'pandas.core.frame.DataFrame'>\n",
      "RangeIndex: 1000 entries, 0 to 999\n",
      "Data columns (total 11 columns):\n",
      " #   Column            Non-Null Count  Dtype \n",
      "---  ------            --------------  ----- \n",
      " 0   Age               1000 non-null   int64 \n",
      " 1   Sex               1000 non-null   object\n",
      " 2   Job               1000 non-null   int64 \n",
      " 3   Housing           1000 non-null   object\n",
      " 4   Saving accounts   817 non-null    object\n",
      " 5   Checking account  606 non-null    object\n",
      " 6   Credit amount     1000 non-null   int64 \n",
      " 7   Duration          1000 non-null   int64 \n",
      " 8   Purpose           1000 non-null   object\n",
      " 9   Risk              1000 non-null   object\n",
      " 10  is_risk           1000 non-null   int64 \n",
      "dtypes: int64(5), object(6)\n",
      "memory usage: 86.1+ KB\n"
     ]
    }
   ],
   "execution_count": 32
  },
  {
   "cell_type": "markdown",
   "metadata": {},
   "source": [
    "## Заполнение пропусков"
   ]
  },
  {
   "cell_type": "markdown",
   "metadata": {},
   "source": [
    "Методов заполнения пустот имеется огромное количество, но также они зависимы от типа данных и решаемой задачи. Практически любое ваше действие с данными может исказить исходное распределение переменной - но это не страшно, более того, иногда это полезно. Поэтому о методах сразу расскажу в контексте решаемой задачи:\n",
    "\n",
    "\n",
    "**Решаю аналитическую задачу (строю максимально точные выводы по данным):**\n",
    "\n",
    "Для подобных задач редко пользуются методами, искажающими распределения. \n",
    "\n",
    "Категориальные и ранговые пропуски можно заполнить заглушкой в виде 'unknown', т.к. незаполненные данные в этом случае могут нести в себе информативность. Например в задаче кредитного скорринга незаполненное поле о наличии других кредитов может нести в себе вывод о том, что \n",
    "\n",
    "\n",
    "Количественные признаки обычно оставляют с пропусками, чтобы не допустить смещения распределений, и при построении выводов используют лишь заполненные строки. Либо количественные признаки превращают в ранговые, используя [биннинг](https://en.wikipedia.org/wiki/Data_binning) (объединение в группы, как в примерах с возрастом). И тогда незаполненные строки можно объединить в одну группу с заглушкой 'unknown' для дополнительного исследования. Например, клиент банка мог не указать объём заработной платы; биннинг заработных плат может помочь исследовать, как влияет это поле на рисковость клиента.\n",
    "\n",
    "\n",
    "**Решаю задачу прогнозирования (хочу получить максимальное качество):**\n",
    "\n",
    "В задачах прогнозирования наоборот очень важно сохранить как можно больше строк. Точность алгоритма прогнозирования зачастую сильнее зависит от количества данных и их вариабельности, нежели от несмещённости исходных распределений.\n",
    "Поэтому здесь имеет место инженерная задача поиска лучшего заполнения для данных.\n",
    "\n",
    "Для количественных данных можно найти множество методов заполнения, но самые популярные следующие:\n",
    "\n",
    "    - Заполнение нулями\n",
    "    - Заполнение медианами\n",
    "    - Заполнение средним значением по колонке\n",
    "    - Заполнение наиболее вероятным значением\n",
    "    - Использовать метод kNN (заполнение по наиболее близким соседям)\n",
    "    - Заполнение заглушками (например нехарактерным значением, для возраста \"-1\")\n",
    "    \n",
    "Для категориальных и ранговых данных сохраняются те же методы, что и для аналитических задач, но добавляются ещё методы:\n",
    "\n",
    "    - Заполнения наиболее частым\n",
    "    - Заполнение наиболее вероятным"
   ]
  },
  {
   "cell_type": "code",
   "metadata": {
    "ExecuteTime": {
     "end_time": "2024-09-02T14:27:04.080626Z",
     "start_time": "2024-09-02T14:27:04.070346Z"
    }
   },
   "source": [
    "scoring_data.fillna('unknown', inplace=True)"
   ],
   "outputs": [],
   "execution_count": 33
  },
  {
   "cell_type": "code",
   "source": [
    "scoring_data.info()"
   ],
   "metadata": {
    "collapsed": false,
    "pycharm": {
     "name": "#%%\n"
    },
    "ExecuteTime": {
     "end_time": "2024-09-02T14:27:04.498069Z",
     "start_time": "2024-09-02T14:27:04.476339Z"
    }
   },
   "outputs": [
    {
     "name": "stdout",
     "output_type": "stream",
     "text": [
      "<class 'pandas.core.frame.DataFrame'>\n",
      "RangeIndex: 1000 entries, 0 to 999\n",
      "Data columns (total 11 columns):\n",
      " #   Column            Non-Null Count  Dtype \n",
      "---  ------            --------------  ----- \n",
      " 0   Age               1000 non-null   int64 \n",
      " 1   Sex               1000 non-null   object\n",
      " 2   Job               1000 non-null   int64 \n",
      " 3   Housing           1000 non-null   object\n",
      " 4   Saving accounts   1000 non-null   object\n",
      " 5   Checking account  1000 non-null   object\n",
      " 6   Credit amount     1000 non-null   int64 \n",
      " 7   Duration          1000 non-null   int64 \n",
      " 8   Purpose           1000 non-null   object\n",
      " 9   Risk              1000 non-null   object\n",
      " 10  is_risk           1000 non-null   int64 \n",
      "dtypes: int64(5), object(6)\n",
      "memory usage: 86.1+ KB\n"
     ]
    }
   ],
   "execution_count": 34
  },
  {
   "cell_type": "markdown",
   "metadata": {},
   "source": [
    "## Рассмотрим влияние факторов на рисковость пользователя"
   ]
  },
  {
   "cell_type": "code",
   "metadata": {
    "ExecuteTime": {
     "end_time": "2024-09-02T14:27:04.623159Z",
     "start_time": "2024-09-02T14:27:04.610483Z"
    }
   },
   "source": [
    "def calc_risks(column):\n",
    "    \n",
    "    \"\"\"\n",
    "    Функция позволяет рассчитать среднее значение рискованности для группы пользователей.\n",
    "    Работает только для категориальных и ранговых переменных.\n",
    "    Для количественных переменных лучше использовать графики-гистограммы.\n",
    "    \"\"\"\n",
    "    \n",
    "    return scoring_data.groupby(\n",
    "        column, \n",
    "        as_index=False\n",
    "    ).agg( \n",
    "        {   ## Рассчитаем сразу две функции от одного датасета: среднее значение риска и кол-во клиентов\n",
    "            'is_risk': [np.mean, 'size']\n",
    "        }\n",
    "    ).droplevel(\n",
    "        ## После расчёта исправим названия колонок\n",
    "        level=0, \n",
    "        axis=1\n",
    "    ).rename(\n",
    "        {\n",
    "            '': column, \n",
    "            'mean': 'risk_level', \n",
    "            'size': 'clients_count'\n",
    "        }, \n",
    "        axis=1\n",
    "    ).sort_values(\n",
    "        ## Отсортируем по убыванию рискованности\n",
    "        by=['risk_level'],\n",
    "        ascending=False\n",
    "    )"
   ],
   "outputs": [],
   "execution_count": 35
  },
  {
   "cell_type": "code",
   "metadata": {
    "pycharm": {
     "name": "#%%\n"
    },
    "ExecuteTime": {
     "end_time": "2024-09-02T14:27:04.888627Z",
     "start_time": "2024-09-02T14:27:04.791166Z"
    }
   },
   "source": [
    "res = scoring_data.pivot_table(columns='Purpose', values='is_risk', index='Housing', aggfunc=['mean', 'std'])"
   ],
   "outputs": [],
   "execution_count": 36
  },
  {
   "cell_type": "code",
   "metadata": {
    "ExecuteTime": {
     "end_time": "2024-09-02T14:27:05.014854Z",
     "start_time": "2024-09-02T14:27:04.974515Z"
    }
   },
   "source": [
    "res"
   ],
   "outputs": [
    {
     "data": {
      "text/plain": [
       "             mean                                                              \\\n",
       "Purpose  business       car domestic appliances education furniture/equipment   \n",
       "Housing                                                                         \n",
       "free     0.600000  0.418182                 NaN  0.466667            0.272727   \n",
       "own      0.263158  0.273973                 0.3  0.352941            0.295082   \n",
       "rent     0.687500  0.365079                 0.5  0.400000            0.395833   \n",
       "\n",
       "                                                  std            \\\n",
       "Purpose  radio/TV   repairs vacation/others  business       car   \n",
       "Housing                                                           \n",
       "free     0.333333  0.666667            0.25  0.547723  0.497807   \n",
       "own      0.202643  0.294118            0.50  0.443273  0.447017   \n",
       "rent     0.289474  0.500000             NaN  0.478714  0.485320   \n",
       "\n",
       "                                                                               \\\n",
       "Purpose domestic appliances education furniture/equipment  radio/TV   repairs   \n",
       "Housing                                                                         \n",
       "free                    NaN  0.516398            0.467099  0.487950  0.577350   \n",
       "own                0.483046  0.485071            0.457960  0.402857  0.469668   \n",
       "rent               0.707107  0.516398            0.494204  0.459606  0.707107   \n",
       "\n",
       "                         \n",
       "Purpose vacation/others  \n",
       "Housing                  \n",
       "free           0.500000  \n",
       "own            0.534522  \n",
       "rent                NaN  "
      ],
      "text/html": [
       "<div>\n",
       "<style scoped>\n",
       "    .dataframe tbody tr th:only-of-type {\n",
       "        vertical-align: middle;\n",
       "    }\n",
       "\n",
       "    .dataframe tbody tr th {\n",
       "        vertical-align: top;\n",
       "    }\n",
       "\n",
       "    .dataframe thead tr th {\n",
       "        text-align: left;\n",
       "    }\n",
       "\n",
       "    .dataframe thead tr:last-of-type th {\n",
       "        text-align: right;\n",
       "    }\n",
       "</style>\n",
       "<table border=\"1\" class=\"dataframe\">\n",
       "  <thead>\n",
       "    <tr>\n",
       "      <th></th>\n",
       "      <th colspan=\"8\" halign=\"left\">mean</th>\n",
       "      <th colspan=\"8\" halign=\"left\">std</th>\n",
       "    </tr>\n",
       "    <tr>\n",
       "      <th>Purpose</th>\n",
       "      <th>business</th>\n",
       "      <th>car</th>\n",
       "      <th>domestic appliances</th>\n",
       "      <th>education</th>\n",
       "      <th>furniture/equipment</th>\n",
       "      <th>radio/TV</th>\n",
       "      <th>repairs</th>\n",
       "      <th>vacation/others</th>\n",
       "      <th>business</th>\n",
       "      <th>car</th>\n",
       "      <th>domestic appliances</th>\n",
       "      <th>education</th>\n",
       "      <th>furniture/equipment</th>\n",
       "      <th>radio/TV</th>\n",
       "      <th>repairs</th>\n",
       "      <th>vacation/others</th>\n",
       "    </tr>\n",
       "    <tr>\n",
       "      <th>Housing</th>\n",
       "      <th></th>\n",
       "      <th></th>\n",
       "      <th></th>\n",
       "      <th></th>\n",
       "      <th></th>\n",
       "      <th></th>\n",
       "      <th></th>\n",
       "      <th></th>\n",
       "      <th></th>\n",
       "      <th></th>\n",
       "      <th></th>\n",
       "      <th></th>\n",
       "      <th></th>\n",
       "      <th></th>\n",
       "      <th></th>\n",
       "      <th></th>\n",
       "    </tr>\n",
       "  </thead>\n",
       "  <tbody>\n",
       "    <tr>\n",
       "      <th>free</th>\n",
       "      <td>0.600000</td>\n",
       "      <td>0.418182</td>\n",
       "      <td>NaN</td>\n",
       "      <td>0.466667</td>\n",
       "      <td>0.272727</td>\n",
       "      <td>0.333333</td>\n",
       "      <td>0.666667</td>\n",
       "      <td>0.25</td>\n",
       "      <td>0.547723</td>\n",
       "      <td>0.497807</td>\n",
       "      <td>NaN</td>\n",
       "      <td>0.516398</td>\n",
       "      <td>0.467099</td>\n",
       "      <td>0.487950</td>\n",
       "      <td>0.577350</td>\n",
       "      <td>0.500000</td>\n",
       "    </tr>\n",
       "    <tr>\n",
       "      <th>own</th>\n",
       "      <td>0.263158</td>\n",
       "      <td>0.273973</td>\n",
       "      <td>0.3</td>\n",
       "      <td>0.352941</td>\n",
       "      <td>0.295082</td>\n",
       "      <td>0.202643</td>\n",
       "      <td>0.294118</td>\n",
       "      <td>0.50</td>\n",
       "      <td>0.443273</td>\n",
       "      <td>0.447017</td>\n",
       "      <td>0.483046</td>\n",
       "      <td>0.485071</td>\n",
       "      <td>0.457960</td>\n",
       "      <td>0.402857</td>\n",
       "      <td>0.469668</td>\n",
       "      <td>0.534522</td>\n",
       "    </tr>\n",
       "    <tr>\n",
       "      <th>rent</th>\n",
       "      <td>0.687500</td>\n",
       "      <td>0.365079</td>\n",
       "      <td>0.5</td>\n",
       "      <td>0.400000</td>\n",
       "      <td>0.395833</td>\n",
       "      <td>0.289474</td>\n",
       "      <td>0.500000</td>\n",
       "      <td>NaN</td>\n",
       "      <td>0.478714</td>\n",
       "      <td>0.485320</td>\n",
       "      <td>0.707107</td>\n",
       "      <td>0.516398</td>\n",
       "      <td>0.494204</td>\n",
       "      <td>0.459606</td>\n",
       "      <td>0.707107</td>\n",
       "      <td>NaN</td>\n",
       "    </tr>\n",
       "  </tbody>\n",
       "</table>\n",
       "</div>"
      ]
     },
     "execution_count": 37,
     "metadata": {},
     "output_type": "execute_result"
    }
   ],
   "execution_count": 37
  },
  {
   "cell_type": "code",
   "metadata": {
    "ExecuteTime": {
     "end_time": "2024-09-02T14:27:05.172540Z",
     "start_time": "2024-09-02T14:27:05.134532Z"
    }
   },
   "source": [
    "calc_risks('Purpose')"
   ],
   "outputs": [
    {
     "data": {
      "text/plain": [
       "               Purpose  risk_level  clients_count\n",
       "7      vacation/others    0.416667             12\n",
       "3            education    0.389831             59\n",
       "6              repairs    0.363636             22\n",
       "0             business    0.350515             97\n",
       "2  domestic appliances    0.333333             12\n",
       "4  furniture/equipment    0.320442            181\n",
       "1                  car    0.314540            337\n",
       "5             radio/TV    0.221429            280"
      ],
      "text/html": [
       "<div>\n",
       "<style scoped>\n",
       "    .dataframe tbody tr th:only-of-type {\n",
       "        vertical-align: middle;\n",
       "    }\n",
       "\n",
       "    .dataframe tbody tr th {\n",
       "        vertical-align: top;\n",
       "    }\n",
       "\n",
       "    .dataframe thead th {\n",
       "        text-align: right;\n",
       "    }\n",
       "</style>\n",
       "<table border=\"1\" class=\"dataframe\">\n",
       "  <thead>\n",
       "    <tr style=\"text-align: right;\">\n",
       "      <th></th>\n",
       "      <th>Purpose</th>\n",
       "      <th>risk_level</th>\n",
       "      <th>clients_count</th>\n",
       "    </tr>\n",
       "  </thead>\n",
       "  <tbody>\n",
       "    <tr>\n",
       "      <th>7</th>\n",
       "      <td>vacation/others</td>\n",
       "      <td>0.416667</td>\n",
       "      <td>12</td>\n",
       "    </tr>\n",
       "    <tr>\n",
       "      <th>3</th>\n",
       "      <td>education</td>\n",
       "      <td>0.389831</td>\n",
       "      <td>59</td>\n",
       "    </tr>\n",
       "    <tr>\n",
       "      <th>6</th>\n",
       "      <td>repairs</td>\n",
       "      <td>0.363636</td>\n",
       "      <td>22</td>\n",
       "    </tr>\n",
       "    <tr>\n",
       "      <th>0</th>\n",
       "      <td>business</td>\n",
       "      <td>0.350515</td>\n",
       "      <td>97</td>\n",
       "    </tr>\n",
       "    <tr>\n",
       "      <th>2</th>\n",
       "      <td>domestic appliances</td>\n",
       "      <td>0.333333</td>\n",
       "      <td>12</td>\n",
       "    </tr>\n",
       "    <tr>\n",
       "      <th>4</th>\n",
       "      <td>furniture/equipment</td>\n",
       "      <td>0.320442</td>\n",
       "      <td>181</td>\n",
       "    </tr>\n",
       "    <tr>\n",
       "      <th>1</th>\n",
       "      <td>car</td>\n",
       "      <td>0.314540</td>\n",
       "      <td>337</td>\n",
       "    </tr>\n",
       "    <tr>\n",
       "      <th>5</th>\n",
       "      <td>radio/TV</td>\n",
       "      <td>0.221429</td>\n",
       "      <td>280</td>\n",
       "    </tr>\n",
       "  </tbody>\n",
       "</table>\n",
       "</div>"
      ]
     },
     "execution_count": 38,
     "metadata": {},
     "output_type": "execute_result"
    }
   ],
   "execution_count": 38
  },
  {
   "cell_type": "code",
   "metadata": {
    "ExecuteTime": {
     "end_time": "2024-09-02T14:27:05.445580Z",
     "start_time": "2024-09-02T14:27:05.415498Z"
    }
   },
   "source": [
    "calc_risks('Checking account')"
   ],
   "outputs": [
    {
     "data": {
      "text/plain": [
       "  Checking account  risk_level  clients_count\n",
       "0           little    0.492701            274\n",
       "1         moderate    0.390335            269\n",
       "2             rich    0.222222             63\n",
       "3          unknown    0.116751            394"
      ],
      "text/html": [
       "<div>\n",
       "<style scoped>\n",
       "    .dataframe tbody tr th:only-of-type {\n",
       "        vertical-align: middle;\n",
       "    }\n",
       "\n",
       "    .dataframe tbody tr th {\n",
       "        vertical-align: top;\n",
       "    }\n",
       "\n",
       "    .dataframe thead th {\n",
       "        text-align: right;\n",
       "    }\n",
       "</style>\n",
       "<table border=\"1\" class=\"dataframe\">\n",
       "  <thead>\n",
       "    <tr style=\"text-align: right;\">\n",
       "      <th></th>\n",
       "      <th>Checking account</th>\n",
       "      <th>risk_level</th>\n",
       "      <th>clients_count</th>\n",
       "    </tr>\n",
       "  </thead>\n",
       "  <tbody>\n",
       "    <tr>\n",
       "      <th>0</th>\n",
       "      <td>little</td>\n",
       "      <td>0.492701</td>\n",
       "      <td>274</td>\n",
       "    </tr>\n",
       "    <tr>\n",
       "      <th>1</th>\n",
       "      <td>moderate</td>\n",
       "      <td>0.390335</td>\n",
       "      <td>269</td>\n",
       "    </tr>\n",
       "    <tr>\n",
       "      <th>2</th>\n",
       "      <td>rich</td>\n",
       "      <td>0.222222</td>\n",
       "      <td>63</td>\n",
       "    </tr>\n",
       "    <tr>\n",
       "      <th>3</th>\n",
       "      <td>unknown</td>\n",
       "      <td>0.116751</td>\n",
       "      <td>394</td>\n",
       "    </tr>\n",
       "  </tbody>\n",
       "</table>\n",
       "</div>"
      ]
     },
     "execution_count": 39,
     "metadata": {},
     "output_type": "execute_result"
    }
   ],
   "execution_count": 39
  },
  {
   "cell_type": "code",
   "metadata": {
    "pycharm": {
     "name": "#%%\n"
    },
    "ExecuteTime": {
     "end_time": "2024-09-02T14:27:06.505242Z",
     "start_time": "2024-09-02T14:27:06.479160Z"
    }
   },
   "source": [
    "calc_risks('Saving accounts')"
   ],
   "outputs": [
    {
     "data": {
      "text/plain": [
       "  Saving accounts  risk_level  clients_count\n",
       "0          little    0.359867            603\n",
       "1        moderate    0.330097            103\n",
       "4         unknown    0.174863            183\n",
       "2      quite rich    0.174603             63\n",
       "3            rich    0.125000             48"
      ],
      "text/html": [
       "<div>\n",
       "<style scoped>\n",
       "    .dataframe tbody tr th:only-of-type {\n",
       "        vertical-align: middle;\n",
       "    }\n",
       "\n",
       "    .dataframe tbody tr th {\n",
       "        vertical-align: top;\n",
       "    }\n",
       "\n",
       "    .dataframe thead th {\n",
       "        text-align: right;\n",
       "    }\n",
       "</style>\n",
       "<table border=\"1\" class=\"dataframe\">\n",
       "  <thead>\n",
       "    <tr style=\"text-align: right;\">\n",
       "      <th></th>\n",
       "      <th>Saving accounts</th>\n",
       "      <th>risk_level</th>\n",
       "      <th>clients_count</th>\n",
       "    </tr>\n",
       "  </thead>\n",
       "  <tbody>\n",
       "    <tr>\n",
       "      <th>0</th>\n",
       "      <td>little</td>\n",
       "      <td>0.359867</td>\n",
       "      <td>603</td>\n",
       "    </tr>\n",
       "    <tr>\n",
       "      <th>1</th>\n",
       "      <td>moderate</td>\n",
       "      <td>0.330097</td>\n",
       "      <td>103</td>\n",
       "    </tr>\n",
       "    <tr>\n",
       "      <th>4</th>\n",
       "      <td>unknown</td>\n",
       "      <td>0.174863</td>\n",
       "      <td>183</td>\n",
       "    </tr>\n",
       "    <tr>\n",
       "      <th>2</th>\n",
       "      <td>quite rich</td>\n",
       "      <td>0.174603</td>\n",
       "      <td>63</td>\n",
       "    </tr>\n",
       "    <tr>\n",
       "      <th>3</th>\n",
       "      <td>rich</td>\n",
       "      <td>0.125000</td>\n",
       "      <td>48</td>\n",
       "    </tr>\n",
       "  </tbody>\n",
       "</table>\n",
       "</div>"
      ]
     },
     "execution_count": 40,
     "metadata": {},
     "output_type": "execute_result"
    }
   ],
   "execution_count": 40
  },
  {
   "cell_type": "code",
   "metadata": {
    "pycharm": {
     "name": "#%%\n"
    },
    "ExecuteTime": {
     "end_time": "2024-09-02T14:27:06.936259Z",
     "start_time": "2024-09-02T14:27:06.901254Z"
    }
   },
   "source": [
    "calc_risks('Sex')"
   ],
   "outputs": [
    {
     "data": {
      "text/plain": [
       "      Sex  risk_level  clients_count\n",
       "0  female    0.351613            310\n",
       "1    male    0.276812            690"
      ],
      "text/html": [
       "<div>\n",
       "<style scoped>\n",
       "    .dataframe tbody tr th:only-of-type {\n",
       "        vertical-align: middle;\n",
       "    }\n",
       "\n",
       "    .dataframe tbody tr th {\n",
       "        vertical-align: top;\n",
       "    }\n",
       "\n",
       "    .dataframe thead th {\n",
       "        text-align: right;\n",
       "    }\n",
       "</style>\n",
       "<table border=\"1\" class=\"dataframe\">\n",
       "  <thead>\n",
       "    <tr style=\"text-align: right;\">\n",
       "      <th></th>\n",
       "      <th>Sex</th>\n",
       "      <th>risk_level</th>\n",
       "      <th>clients_count</th>\n",
       "    </tr>\n",
       "  </thead>\n",
       "  <tbody>\n",
       "    <tr>\n",
       "      <th>0</th>\n",
       "      <td>female</td>\n",
       "      <td>0.351613</td>\n",
       "      <td>310</td>\n",
       "    </tr>\n",
       "    <tr>\n",
       "      <th>1</th>\n",
       "      <td>male</td>\n",
       "      <td>0.276812</td>\n",
       "      <td>690</td>\n",
       "    </tr>\n",
       "  </tbody>\n",
       "</table>\n",
       "</div>"
      ]
     },
     "execution_count": 41,
     "metadata": {},
     "output_type": "execute_result"
    }
   ],
   "execution_count": 41
  },
  {
   "cell_type": "code",
   "metadata": {
    "pycharm": {
     "name": "#%%\n"
    },
    "ExecuteTime": {
     "end_time": "2024-09-02T14:27:07.633977Z",
     "start_time": "2024-09-02T14:27:07.566921Z"
    }
   },
   "source": [
    "calc_risks('Job')"
   ],
   "outputs": [
    {
     "data": {
      "text/plain": [
       "   Job  risk_level  clients_count\n",
       "3    3    0.344595            148\n",
       "0    0    0.318182             22\n",
       "2    2    0.295238            630\n",
       "1    1    0.280000            200"
      ],
      "text/html": [
       "<div>\n",
       "<style scoped>\n",
       "    .dataframe tbody tr th:only-of-type {\n",
       "        vertical-align: middle;\n",
       "    }\n",
       "\n",
       "    .dataframe tbody tr th {\n",
       "        vertical-align: top;\n",
       "    }\n",
       "\n",
       "    .dataframe thead th {\n",
       "        text-align: right;\n",
       "    }\n",
       "</style>\n",
       "<table border=\"1\" class=\"dataframe\">\n",
       "  <thead>\n",
       "    <tr style=\"text-align: right;\">\n",
       "      <th></th>\n",
       "      <th>Job</th>\n",
       "      <th>risk_level</th>\n",
       "      <th>clients_count</th>\n",
       "    </tr>\n",
       "  </thead>\n",
       "  <tbody>\n",
       "    <tr>\n",
       "      <th>3</th>\n",
       "      <td>3</td>\n",
       "      <td>0.344595</td>\n",
       "      <td>148</td>\n",
       "    </tr>\n",
       "    <tr>\n",
       "      <th>0</th>\n",
       "      <td>0</td>\n",
       "      <td>0.318182</td>\n",
       "      <td>22</td>\n",
       "    </tr>\n",
       "    <tr>\n",
       "      <th>2</th>\n",
       "      <td>2</td>\n",
       "      <td>0.295238</td>\n",
       "      <td>630</td>\n",
       "    </tr>\n",
       "    <tr>\n",
       "      <th>1</th>\n",
       "      <td>1</td>\n",
       "      <td>0.280000</td>\n",
       "      <td>200</td>\n",
       "    </tr>\n",
       "  </tbody>\n",
       "</table>\n",
       "</div>"
      ]
     },
     "execution_count": 42,
     "metadata": {},
     "output_type": "execute_result"
    }
   ],
   "execution_count": 42
  },
  {
   "cell_type": "code",
   "metadata": {
    "pycharm": {
     "name": "#%%\n"
    },
    "scrolled": true,
    "ExecuteTime": {
     "end_time": "2024-09-02T14:27:07.979426Z",
     "start_time": "2024-09-02T14:27:07.949246Z"
    }
   },
   "source": [
    "calc_risks('Housing')"
   ],
   "outputs": [
    {
     "data": {
      "text/plain": [
       "  Housing  risk_level  clients_count\n",
       "0    free    0.407407            108\n",
       "2    rent    0.391061            179\n",
       "1     own    0.260870            713"
      ],
      "text/html": [
       "<div>\n",
       "<style scoped>\n",
       "    .dataframe tbody tr th:only-of-type {\n",
       "        vertical-align: middle;\n",
       "    }\n",
       "\n",
       "    .dataframe tbody tr th {\n",
       "        vertical-align: top;\n",
       "    }\n",
       "\n",
       "    .dataframe thead th {\n",
       "        text-align: right;\n",
       "    }\n",
       "</style>\n",
       "<table border=\"1\" class=\"dataframe\">\n",
       "  <thead>\n",
       "    <tr style=\"text-align: right;\">\n",
       "      <th></th>\n",
       "      <th>Housing</th>\n",
       "      <th>risk_level</th>\n",
       "      <th>clients_count</th>\n",
       "    </tr>\n",
       "  </thead>\n",
       "  <tbody>\n",
       "    <tr>\n",
       "      <th>0</th>\n",
       "      <td>free</td>\n",
       "      <td>0.407407</td>\n",
       "      <td>108</td>\n",
       "    </tr>\n",
       "    <tr>\n",
       "      <th>2</th>\n",
       "      <td>rent</td>\n",
       "      <td>0.391061</td>\n",
       "      <td>179</td>\n",
       "    </tr>\n",
       "    <tr>\n",
       "      <th>1</th>\n",
       "      <td>own</td>\n",
       "      <td>0.260870</td>\n",
       "      <td>713</td>\n",
       "    </tr>\n",
       "  </tbody>\n",
       "</table>\n",
       "</div>"
      ]
     },
     "execution_count": 43,
     "metadata": {},
     "output_type": "execute_result"
    }
   ],
   "execution_count": 43
  },
  {
   "cell_type": "markdown",
   "metadata": {},
   "source": [
    "## Попробуем разглядеть отличие на графиках для Возраста, Срока кредитования и Суммы кредита"
   ]
  },
  {
   "cell_type": "code",
   "metadata": {
    "ExecuteTime": {
     "end_time": "2024-09-02T14:32:42.795714Z",
     "start_time": "2024-09-02T14:32:42.097618Z"
    }
   },
   "source": [
    "## Посмотрим на гистограммы для Возраста\n",
    "plt.figure(figsize=(12, 8))\n",
    "sns.histplot(scoring_data.query('is_risk == 0').Age, color='green', alpha=0.4)\n",
    "sns.histplot(scoring_data.query('is_risk == 1').Age, color='red', alpha=1)"
   ],
   "outputs": [
    {
     "data": {
      "text/plain": [
       "<Axes: xlabel='Age', ylabel='Count'>"
      ]
     },
     "execution_count": 57,
     "metadata": {},
     "output_type": "execute_result"
    },
    {
     "data": {
      "text/plain": [
       "<Figure size 1200x800 with 1 Axes>"
      ],
      "image/png": "[encoded data removed]"
     },
     "metadata": {},
     "output_type": "display_data"
    }
   ],
   "execution_count": 57
  },
  {
   "cell_type": "code",
   "metadata": {
    "scrolled": false,
    "ExecuteTime": {
     "end_time": "2024-09-02T14:27:10.723759Z",
     "start_time": "2024-09-02T14:27:09.973736Z"
    }
   },
   "source": [
    "## Посмотрим на гистограммы для Срока кредитования\n",
    "sns.histplot(scoring_data.query('is_risk == 0').Duration, color='green', alpha=.8)\n",
    "sns.histplot(scoring_data.query('is_risk == 1').Duration, color='red', alpha=.4)"
   ],
   "outputs": [
    {
     "data": {
      "text/plain": [
       "<Axes: xlabel='Duration', ylabel='Count'>"
      ]
     },
     "execution_count": 45,
     "metadata": {},
     "output_type": "execute_result"
    },
    {
     "data": {
      "text/plain": [
       "<Figure size 640x480 with 1 Axes>"
      ],
      "image/png": "[encoded data removed]"
     },
     "metadata": {},
     "output_type": "display_data"
    }
   ],
   "execution_count": 45
  },
  {
   "cell_type": "code",
   "metadata": {
    "ExecuteTime": {
     "end_time": "2024-09-02T14:27:11.515551Z",
     "start_time": "2024-09-02T14:27:10.728668Z"
    }
   },
   "source": [
    "## Посмотрим на гистограммы для Суммы кредитования\n",
    "sns.histplot(scoring_data.query('is_risk == 0')['Credit amount'], color='green', alpha=0.5)\n",
    "sns.histplot(scoring_data.query('is_risk == 1')['Credit amount'], color='red', alpha=0.5)"
   ],
   "outputs": [
    {
     "data": {
      "text/plain": [
       "<Axes: xlabel='Credit amount', ylabel='Count'>"
      ]
     },
     "execution_count": 46,
     "metadata": {},
     "output_type": "execute_result"
    },
    {
     "data": {
      "text/plain": [
       "<Figure size 640x480 with 1 Axes>"
      ],
      "image/png": "[encoded data removed]"
     },
     "metadata": {},
     "output_type": "display_data"
    }
   ],
   "execution_count": 46
  },
  {
   "cell_type": "markdown",
   "metadata": {},
   "source": [
    "### Построим сглаженные гистограммы"
   ]
  },
  {
   "cell_type": "code",
   "metadata": {
    "ExecuteTime": {
     "end_time": "2024-09-02T14:27:12.610366Z",
     "start_time": "2024-09-02T14:27:11.519768Z"
    }
   },
   "source": [
    "## Посмотрим на гистограммы для Возраста\n",
    "sns.kdeplot(scoring_data.query('is_risk == 0').Age, color='green', alpha=0.5)\n",
    "sns.kdeplot(scoring_data.query('is_risk == 1').Age, color='red', alpha=0.5)"
   ],
   "outputs": [
    {
     "data": {
      "text/plain": [
       "<Axes: xlabel='Age', ylabel='Density'>"
      ]
     },
     "execution_count": 47,
     "metadata": {},
     "output_type": "execute_result"
    },
    {
     "data": {
      "text/plain": [
       "<Figure size 640x480 with 1 Axes>"
      ],
      "image/png": "[encoded data removed]"
     },
     "metadata": {},
     "output_type": "display_data"
    }
   ],
   "execution_count": 47
  },
  {
   "cell_type": "code",
   "metadata": {
    "ExecuteTime": {
     "end_time": "2024-09-02T14:27:13.184008Z",
     "start_time": "2024-09-02T14:27:12.618426Z"
    }
   },
   "source": [
    "## Посмотрим на гистограммы для Срока кредитования\n",
    "sns.kdeplot(scoring_data.query('is_risk == 0').Duration, color='green', alpha=0.5)\n",
    "sns.kdeplot(scoring_data.query('is_risk == 1').Duration, color='red', alpha=0.5)"
   ],
   "outputs": [
    {
     "data": {
      "text/plain": [
       "<Axes: xlabel='Duration', ylabel='Density'>"
      ]
     },
     "execution_count": 48,
     "metadata": {},
     "output_type": "execute_result"
    },
    {
     "data": {
      "text/plain": [
       "<Figure size 640x480 with 1 Axes>"
      ],
      "image/png": "[encoded data removed]"
     },
     "metadata": {},
     "output_type": "display_data"
    }
   ],
   "execution_count": 48
  },
  {
   "cell_type": "code",
   "metadata": {
    "scrolled": false,
    "ExecuteTime": {
     "end_time": "2024-09-02T14:27:13.883496Z",
     "start_time": "2024-09-02T14:27:13.188034Z"
    }
   },
   "source": [
    "## Их кстати можно объединить на один график\n",
    "sns.kdeplot(scoring_data.query('is_risk == 0')['Credit amount'], color='green')\n",
    "# sns.kdeplot(scoring_data.query('is_risk == 1')['Credit amount'], color='red')"
   ],
   "outputs": [
    {
     "data": {
      "text/plain": [
       "<Axes: xlabel='Credit amount', ylabel='Density'>"
      ]
     },
     "execution_count": 49,
     "metadata": {},
     "output_type": "execute_result"
    },
    {
     "data": {
      "text/plain": [
       "<Figure size 640x480 with 1 Axes>"
      ],
      "image/png": "[encoded data removed]"
     },
     "metadata": {},
     "output_type": "display_data"
    }
   ],
   "execution_count": 49
  },
  {
   "cell_type": "code",
   "metadata": {
    "ExecuteTime": {
     "end_time": "2024-09-02T14:27:13.895313Z",
     "start_time": "2024-09-02T14:27:13.887743Z"
    }
   },
   "source": [
    "from scipy import stats"
   ],
   "outputs": [],
   "execution_count": 50
  },
  {
   "cell_type": "code",
   "metadata": {
    "ExecuteTime": {
     "end_time": "2024-09-02T14:27:13.970859Z",
     "start_time": "2024-09-02T14:27:13.900629Z"
    }
   },
   "source": [
    "m = stats.mode(scoring_data.query('is_risk == 0')['Credit amount']).mode[0]"
   ],
   "outputs": [
    {
     "ename": "IndexError",
     "evalue": "invalid index to scalar variable.",
     "output_type": "error",
     "traceback": [
      "\u001B[1;31m---------------------------------------------------------------------------\u001B[0m",
      "\u001B[1;31mIndexError\u001B[0m                                Traceback (most recent call last)",
      "Cell \u001B[1;32mIn[51], line 1\u001B[0m\n\u001B[1;32m----> 1\u001B[0m m \u001B[38;5;241m=\u001B[39m stats\u001B[38;5;241m.\u001B[39mmode(scoring_data\u001B[38;5;241m.\u001B[39mquery(\u001B[38;5;124m'\u001B[39m\u001B[38;5;124mis_risk == 0\u001B[39m\u001B[38;5;124m'\u001B[39m)[\u001B[38;5;124m'\u001B[39m\u001B[38;5;124mCredit amount\u001B[39m\u001B[38;5;124m'\u001B[39m])\u001B[38;5;241m.\u001B[39mmode[\u001B[38;5;241m0\u001B[39m]\n",
      "\u001B[1;31mIndexError\u001B[0m: invalid index to scalar variable."
     ]
    }
   ],
   "execution_count": 51
  },
  {
   "cell_type": "code",
   "metadata": {},
   "source": [
    "sns.kdeplot(scoring_data.query('is_risk == 0')['Credit amount'], color='green')\n",
    "sns.kdeplot(scoring_data.query('is_risk == 0')['Credit amount'].append(pd.Series([m] * 100)).reset_index(drop=True), color='goldenrod')\n",
    "\n"
   ],
   "outputs": [],
   "execution_count": null
  },
  {
   "cell_type": "markdown",
   "metadata": {},
   "source": [
    "## Оценим с помощью метода [WoE / IV](https://ecommerce-in-ukraine.blogspot.com/2020/09/iv-woe.html)"
   ]
  },
  {
   "cell_type": "code",
   "metadata": {},
   "source": [
    "## Т.к. метод расчёта WoE работает только с категориальными или с ранговыми данными:\n",
    "## сразу произведём биннинг для колонок Возраст, Сумма кредита и Срок кредитования\n",
    "## таким образом мы получим три раноговых переменных взамен трёх количественных\n",
    "## Для биннинга будем использовать метод np.digitize\n",
    "## А для создания границ биннинга воспользуемся персентилями из метода describe\n",
    "\n",
    "scoring_data['age_bucket'] = np.digitize(scoring_data['Age'], [19, 23, 35, 60, 75])\n",
    "scoring_data['amount_bucket'] = np.digitize(scoring_data['Credit amount'], [250, 1000, 5000, 18424])\n",
    "scoring_data['duration_bucket'] = np.digitize(scoring_data['Duration'], [4, 12, 24, 72])"
   ],
   "outputs": [],
   "execution_count": null
  },
  {
   "cell_type": "code",
   "metadata": {
    "pycharm": {
     "name": "#%%\n"
    }
   },
   "source": [
    "scoring_data"
   ],
   "outputs": [],
   "execution_count": null
  },
  {
   "cell_type": "code",
   "metadata": {},
   "source": [
    "def calc_woe_by_column(column):\n",
    "    \n",
    "    \"\"\"\n",
    "    Функция позволяет рассчитать метрику WoE для указанной колонки.\n",
    "    Работает только для категориальных и ранговых переменных.\n",
    "    \"\"\"\n",
    "    \n",
    "    tmp = scoring_data.groupby(column, as_index=False).agg(\n",
    "        {\n",
    "            'is_risk': np.sum,\n",
    "            'Age': lambda x: x.count(),\n",
    "        }\n",
    "    ).rename(\n",
    "        {'Age': 'all_cases'},\n",
    "        axis=1\n",
    "    ).assign(\n",
    "        not_risk = lambda x: x['all_cases'] - x['is_risk']\n",
    "    )\n",
    "\n",
    "    n_risk = tmp['is_risk'].sum()\n",
    "    n_not_risk = tmp['not_risk'].sum()\n",
    "\n",
    "    tmp['WoE'] = np.round(np.log((tmp['is_risk'] / n_risk) / (tmp['not_risk'] / n_not_risk)), 3)\n",
    "    tmp['reason'] = column + '_' + tmp[column].astype(str)\n",
    "    tmp = tmp[tmp.WoE != np.inf]\n",
    "    tmp = tmp[tmp.WoE != -np.inf]\n",
    "    \n",
    "    return tmp.sort_values(\n",
    "        by='WoE',\n",
    "        ascending=False\n",
    "    )[['reason', 'WoE', 'is_risk', 'not_risk']].reset_index(drop=True)\n",
    "\n",
    "\n",
    "def get_IV(column):\n",
    "    \n",
    "    \"\"\"\n",
    "    Функция позволяет рассчитать метрику IV для указанной колонки.\n",
    "    IV - information value позволяет объединить все значения WoE по колонке в одно число.\n",
    "    Работает только для категориальных и ранговых переменных.\n",
    "    \"\"\"\n",
    "    \n",
    "    tmp = calc_woe_by_column(column)\n",
    "    return ((tmp['is_risk'] - tmp['not_risk']) * tmp['WoE']).sum()"
   ],
   "outputs": [],
   "execution_count": null
  },
  {
   "cell_type": "code",
   "metadata": {
    "pycharm": {
     "name": "#%%\n"
    }
   },
   "source": [
    "calc_woe_by_column('Checking account')"
   ],
   "outputs": [],
   "execution_count": null
  },
  {
   "cell_type": "code",
   "metadata": {
    "pycharm": {
     "name": "#%%\n"
    }
   },
   "source": [
    "np.log((135 / 300 )/ (139 / 700))"
   ],
   "outputs": [],
   "execution_count": null
  },
  {
   "cell_type": "code",
   "metadata": {
    "pycharm": {
     "name": "#%%\n"
    }
   },
   "source": [
    "result"
   ],
   "outputs": [],
   "execution_count": null
  },
  {
   "cell_type": "code",
   "metadata": {
    "pycharm": {
     "name": "#%%\n"
    }
   },
   "source": [
    "np.log(348/ 150)"
   ],
   "outputs": [],
   "execution_count": null
  },
  {
   "cell_type": "code",
   "metadata": {
    "pycharm": {
     "name": "#%%\n"
    },
    "ExecuteTime": {
     "end_time": "2024-09-02T14:27:14.043862Z",
     "start_time": "2024-09-02T14:27:14.013290Z"
    }
   },
   "source": [
    "pd.isna(scoring_data)"
   ],
   "outputs": [
    {
     "data": {
      "text/plain": [
       "       Age    Sex    Job  Housing  Saving accounts  Checking account  \\\n",
       "0    False  False  False    False            False             False   \n",
       "1    False  False  False    False            False             False   \n",
       "2    False  False  False    False            False             False   \n",
       "3    False  False  False    False            False             False   \n",
       "4    False  False  False    False            False             False   \n",
       "..     ...    ...    ...      ...              ...               ...   \n",
       "995  False  False  False    False            False             False   \n",
       "996  False  False  False    False            False             False   \n",
       "997  False  False  False    False            False             False   \n",
       "998  False  False  False    False            False             False   \n",
       "999  False  False  False    False            False             False   \n",
       "\n",
       "     Credit amount  Duration  Purpose   Risk  is_risk  \n",
       "0            False     False    False  False    False  \n",
       "1            False     False    False  False    False  \n",
       "2            False     False    False  False    False  \n",
       "3            False     False    False  False    False  \n",
       "4            False     False    False  False    False  \n",
       "..             ...       ...      ...    ...      ...  \n",
       "995          False     False    False  False    False  \n",
       "996          False     False    False  False    False  \n",
       "997          False     False    False  False    False  \n",
       "998          False     False    False  False    False  \n",
       "999          False     False    False  False    False  \n",
       "\n",
       "[1000 rows x 11 columns]"
      ],
      "text/html": [
       "<div>\n",
       "<style scoped>\n",
       "    .dataframe tbody tr th:only-of-type {\n",
       "        vertical-align: middle;\n",
       "    }\n",
       "\n",
       "    .dataframe tbody tr th {\n",
       "        vertical-align: top;\n",
       "    }\n",
       "\n",
       "    .dataframe thead th {\n",
       "        text-align: right;\n",
       "    }\n",
       "</style>\n",
       "<table border=\"1\" class=\"dataframe\">\n",
       "  <thead>\n",
       "    <tr style=\"text-align: right;\">\n",
       "      <th></th>\n",
       "      <th>Age</th>\n",
       "      <th>Sex</th>\n",
       "      <th>Job</th>\n",
       "      <th>Housing</th>\n",
       "      <th>Saving accounts</th>\n",
       "      <th>Checking account</th>\n",
       "      <th>Credit amount</th>\n",
       "      <th>Duration</th>\n",
       "      <th>Purpose</th>\n",
       "      <th>Risk</th>\n",
       "      <th>is_risk</th>\n",
       "    </tr>\n",
       "  </thead>\n",
       "  <tbody>\n",
       "    <tr>\n",
       "      <th>0</th>\n",
       "      <td>False</td>\n",
       "      <td>False</td>\n",
       "      <td>False</td>\n",
       "      <td>False</td>\n",
       "      <td>False</td>\n",
       "      <td>False</td>\n",
       "      <td>False</td>\n",
       "      <td>False</td>\n",
       "      <td>False</td>\n",
       "      <td>False</td>\n",
       "      <td>False</td>\n",
       "    </tr>\n",
       "    <tr>\n",
       "      <th>1</th>\n",
       "      <td>False</td>\n",
       "      <td>False</td>\n",
       "      <td>False</td>\n",
       "      <td>False</td>\n",
       "      <td>False</td>\n",
       "      <td>False</td>\n",
       "      <td>False</td>\n",
       "      <td>False</td>\n",
       "      <td>False</td>\n",
       "      <td>False</td>\n",
       "      <td>False</td>\n",
       "    </tr>\n",
       "    <tr>\n",
       "      <th>2</th>\n",
       "      <td>False</td>\n",
       "      <td>False</td>\n",
       "      <td>False</td>\n",
       "      <td>False</td>\n",
       "      <td>False</td>\n",
       "      <td>False</td>\n",
       "      <td>False</td>\n",
       "      <td>False</td>\n",
       "      <td>False</td>\n",
       "      <td>False</td>\n",
       "      <td>False</td>\n",
       "    </tr>\n",
       "    <tr>\n",
       "      <th>3</th>\n",
       "      <td>False</td>\n",
       "      <td>False</td>\n",
       "      <td>False</td>\n",
       "      <td>False</td>\n",
       "      <td>False</td>\n",
       "      <td>False</td>\n",
       "      <td>False</td>\n",
       "      <td>False</td>\n",
       "      <td>False</td>\n",
       "      <td>False</td>\n",
       "      <td>False</td>\n",
       "    </tr>\n",
       "    <tr>\n",
       "      <th>4</th>\n",
       "      <td>False</td>\n",
       "      <td>False</td>\n",
       "      <td>False</td>\n",
       "      <td>False</td>\n",
       "      <td>False</td>\n",
       "      <td>False</td>\n",
       "      <td>False</td>\n",
       "      <td>False</td>\n",
       "      <td>False</td>\n",
       "      <td>False</td>\n",
       "      <td>False</td>\n",
       "    </tr>\n",
       "    <tr>\n",
       "      <th>...</th>\n",
       "      <td>...</td>\n",
       "      <td>...</td>\n",
       "      <td>...</td>\n",
       "      <td>...</td>\n",
       "      <td>...</td>\n",
       "      <td>...</td>\n",
       "      <td>...</td>\n",
       "      <td>...</td>\n",
       "      <td>...</td>\n",
       "      <td>...</td>\n",
       "      <td>...</td>\n",
       "    </tr>\n",
       "    <tr>\n",
       "      <th>995</th>\n",
       "      <td>False</td>\n",
       "      <td>False</td>\n",
       "      <td>False</td>\n",
       "      <td>False</td>\n",
       "      <td>False</td>\n",
       "      <td>False</td>\n",
       "      <td>False</td>\n",
       "      <td>False</td>\n",
       "      <td>False</td>\n",
       "      <td>False</td>\n",
       "      <td>False</td>\n",
       "    </tr>\n",
       "    <tr>\n",
       "      <th>996</th>\n",
       "      <td>False</td>\n",
       "      <td>False</td>\n",
       "      <td>False</td>\n",
       "      <td>False</td>\n",
       "      <td>False</td>\n",
       "      <td>False</td>\n",
       "      <td>False</td>\n",
       "      <td>False</td>\n",
       "      <td>False</td>\n",
       "      <td>False</td>\n",
       "      <td>False</td>\n",
       "    </tr>\n",
       "    <tr>\n",
       "      <th>997</th>\n",
       "      <td>False</td>\n",
       "      <td>False</td>\n",
       "      <td>False</td>\n",
       "      <td>False</td>\n",
       "      <td>False</td>\n",
       "      <td>False</td>\n",
       "      <td>False</td>\n",
       "      <td>False</td>\n",
       "      <td>False</td>\n",
       "      <td>False</td>\n",
       "      <td>False</td>\n",
       "    </tr>\n",
       "    <tr>\n",
       "      <th>998</th>\n",
       "      <td>False</td>\n",
       "      <td>False</td>\n",
       "      <td>False</td>\n",
       "      <td>False</td>\n",
       "      <td>False</td>\n",
       "      <td>False</td>\n",
       "      <td>False</td>\n",
       "      <td>False</td>\n",
       "      <td>False</td>\n",
       "      <td>False</td>\n",
       "      <td>False</td>\n",
       "    </tr>\n",
       "    <tr>\n",
       "      <th>999</th>\n",
       "      <td>False</td>\n",
       "      <td>False</td>\n",
       "      <td>False</td>\n",
       "      <td>False</td>\n",
       "      <td>False</td>\n",
       "      <td>False</td>\n",
       "      <td>False</td>\n",
       "      <td>False</td>\n",
       "      <td>False</td>\n",
       "      <td>False</td>\n",
       "      <td>False</td>\n",
       "    </tr>\n",
       "  </tbody>\n",
       "</table>\n",
       "<p>1000 rows × 11 columns</p>\n",
       "</div>"
      ]
     },
     "execution_count": 52,
     "metadata": {},
     "output_type": "execute_result"
    }
   ],
   "execution_count": 52
  },
  {
   "cell_type": "code",
   "metadata": {
    "ExecuteTime": {
     "end_time": "2024-09-02T14:27:14.925654Z",
     "start_time": "2024-09-02T14:27:14.872296Z"
    }
   },
   "source": [
    "## Объединим все факторы в одну таблицу и выведем, отсортированными по влиянию\n",
    "result = calc_woe_by_column('Sex')\n",
    "for col in scoring_data.columns.drop(['is_risk', 'Risk', 'Credit amount', 'Duration', 'Age', 'Sex']):\n",
    "    result = pd.concat([result, calc_woe_by_column(col)], 0, ignore_index=True)\n",
    "    \n",
    "result.sort_values(by='WoE', ascending=False).reset_index(drop=True)"
   ],
   "outputs": [
    {
     "ename": "NameError",
     "evalue": "name 'calc_woe_by_column' is not defined",
     "output_type": "error",
     "traceback": [
      "\u001B[1;31m---------------------------------------------------------------------------\u001B[0m",
      "\u001B[1;31mNameError\u001B[0m                                 Traceback (most recent call last)",
      "Cell \u001B[1;32mIn[53], line 2\u001B[0m\n\u001B[0;32m      1\u001B[0m \u001B[38;5;66;03m## Объединим все факторы в одну таблицу и выведем, отсортированными по влиянию\u001B[39;00m\n\u001B[1;32m----> 2\u001B[0m result \u001B[38;5;241m=\u001B[39m calc_woe_by_column(\u001B[38;5;124m'\u001B[39m\u001B[38;5;124mSex\u001B[39m\u001B[38;5;124m'\u001B[39m)\n\u001B[0;32m      3\u001B[0m \u001B[38;5;28;01mfor\u001B[39;00m col \u001B[38;5;129;01min\u001B[39;00m scoring_data\u001B[38;5;241m.\u001B[39mcolumns\u001B[38;5;241m.\u001B[39mdrop([\u001B[38;5;124m'\u001B[39m\u001B[38;5;124mis_risk\u001B[39m\u001B[38;5;124m'\u001B[39m, \u001B[38;5;124m'\u001B[39m\u001B[38;5;124mRisk\u001B[39m\u001B[38;5;124m'\u001B[39m, \u001B[38;5;124m'\u001B[39m\u001B[38;5;124mCredit amount\u001B[39m\u001B[38;5;124m'\u001B[39m, \u001B[38;5;124m'\u001B[39m\u001B[38;5;124mDuration\u001B[39m\u001B[38;5;124m'\u001B[39m, \u001B[38;5;124m'\u001B[39m\u001B[38;5;124mAge\u001B[39m\u001B[38;5;124m'\u001B[39m, \u001B[38;5;124m'\u001B[39m\u001B[38;5;124mSex\u001B[39m\u001B[38;5;124m'\u001B[39m]):\n\u001B[0;32m      4\u001B[0m     result \u001B[38;5;241m=\u001B[39m pd\u001B[38;5;241m.\u001B[39mconcat([result, calc_woe_by_column(col)], \u001B[38;5;241m0\u001B[39m, ignore_index\u001B[38;5;241m=\u001B[39m\u001B[38;5;28;01mTrue\u001B[39;00m)\n",
      "\u001B[1;31mNameError\u001B[0m: name 'calc_woe_by_column' is not defined"
     ]
    }
   ],
   "execution_count": 53
  },
  {
   "cell_type": "code",
   "metadata": {
    "pycharm": {
     "name": "#%%\n"
    },
    "ExecuteTime": {
     "end_time": "2024-09-02T14:27:15.321602Z",
     "start_time": "2024-09-02T14:27:15.269873Z"
    }
   },
   "source": [
    "## Посмотрим на влияние каждой отдельной колонки на рисковость пользователя с помощью IV\n",
    "for col in scoring_data.columns.drop(['is_risk', 'Risk', 'Credit amount', 'Duration', 'Age']):\n",
    "    print(col, get_IV(col))"
   ],
   "outputs": [
    {
     "ename": "NameError",
     "evalue": "name 'get_IV' is not defined",
     "output_type": "error",
     "traceback": [
      "\u001B[1;31m---------------------------------------------------------------------------\u001B[0m",
      "\u001B[1;31mNameError\u001B[0m                                 Traceback (most recent call last)",
      "Cell \u001B[1;32mIn[54], line 3\u001B[0m\n\u001B[0;32m      1\u001B[0m \u001B[38;5;66;03m## Посмотрим на влияние каждой отдельной колонки на рисковость пользователя с помощью IV\u001B[39;00m\n\u001B[0;32m      2\u001B[0m \u001B[38;5;28;01mfor\u001B[39;00m col \u001B[38;5;129;01min\u001B[39;00m scoring_data\u001B[38;5;241m.\u001B[39mcolumns\u001B[38;5;241m.\u001B[39mdrop([\u001B[38;5;124m'\u001B[39m\u001B[38;5;124mis_risk\u001B[39m\u001B[38;5;124m'\u001B[39m, \u001B[38;5;124m'\u001B[39m\u001B[38;5;124mRisk\u001B[39m\u001B[38;5;124m'\u001B[39m, \u001B[38;5;124m'\u001B[39m\u001B[38;5;124mCredit amount\u001B[39m\u001B[38;5;124m'\u001B[39m, \u001B[38;5;124m'\u001B[39m\u001B[38;5;124mDuration\u001B[39m\u001B[38;5;124m'\u001B[39m, \u001B[38;5;124m'\u001B[39m\u001B[38;5;124mAge\u001B[39m\u001B[38;5;124m'\u001B[39m]):\n\u001B[1;32m----> 3\u001B[0m     \u001B[38;5;28mprint\u001B[39m(col, get_IV(col))\n",
      "\u001B[1;31mNameError\u001B[0m: name 'get_IV' is not defined"
     ]
    }
   ],
   "execution_count": 54
  },
  {
   "cell_type": "code",
   "metadata": {
    "ExecuteTime": {
     "end_time": "2024-09-02T14:27:16.028654Z",
     "start_time": "2024-09-02T14:27:16.023050Z"
    }
   },
   "source": [],
   "outputs": [],
   "execution_count": 54
  }
 ],
 "metadata": {
  "kernelspec": {
   "display_name": "Python 3 (ipykernel)",
   "language": "python",
   "name": "python3"
  },
  "language_info": {
   "codemirror_mode": {
    "name": "ipython",
    "version": 3
   },
   "file_extension": ".py",
   "mimetype": "text/x-python",
   "name": "python",
   "nbconvert_exporter": "python",
   "pygments_lexer": "ipython3",
   "version": "3.9.7"
  }
 },
 "nbformat": 4,
 "nbformat_minor": 1
}
