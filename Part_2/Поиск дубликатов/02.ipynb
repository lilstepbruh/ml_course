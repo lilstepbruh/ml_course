{
 "cells": [
  {
   "cell_type": "code",
   "id": "initial_id",
   "metadata": {
    "collapsed": true,
    "ExecuteTime": {
     "end_time": "2024-10-23T18:11:59.970128Z",
     "start_time": "2024-10-23T18:11:59.964836Z"
    }
   },
   "source": "import pandas as pd",
   "outputs": [],
   "execution_count": 56
  },
  {
   "metadata": {
    "ExecuteTime": {
     "end_time": "2024-10-23T18:12:00.007752Z",
     "start_time": "2024-10-23T18:11:59.987872Z"
    }
   },
   "cell_type": "code",
   "source": [
    "stock = pd.read_excel(r\"C:\\Users\\andre\\Рабочий стол\\Практикум\\Специалист по Data Science Плюс. Часть 2\\04 Поиск дубликатов\\02 work\\stock.xlsx\")\n",
    "stock"
   ],
   "id": "300e41a982096480",
   "outputs": [
    {
     "data": {
      "text/plain": [
       "          id                              item  count\n",
       "0  100480924     Смартфон Xiaomi Redmi 6A 16GB     32\n",
       "1  100480929     Смартфон Xiaomi Redmi 6A 16GB     10\n",
       "2  100480938  Смартфон Samsung Galaxy A30 32GB     49\n",
       "3  100480952  смартфон Samsung Galaxy A30 32gb     11\n",
       "4  100480959          Смартфон HUAWEI P30 lite      5\n",
       "5  100480975     Смартфон Apple iPhone Xr 64gb     10\n",
       "6  100480988            Смартфон Honor 8X 64GB     64\n",
       "7  100480998          Смартфон HUAWEI P30 lite     33\n",
       "8  100481008     Смартфон Xiaomi Redmi 6A 16GB      2\n",
       "9  100481020     Смартфон Apple iPhone Xr 64GB     19"
      ],
      "text/html": [
       "<div>\n",
       "<style scoped>\n",
       "    .dataframe tbody tr th:only-of-type {\n",
       "        vertical-align: middle;\n",
       "    }\n",
       "\n",
       "    .dataframe tbody tr th {\n",
       "        vertical-align: top;\n",
       "    }\n",
       "\n",
       "    .dataframe thead th {\n",
       "        text-align: right;\n",
       "    }\n",
       "</style>\n",
       "<table border=\"1\" class=\"dataframe\">\n",
       "  <thead>\n",
       "    <tr style=\"text-align: right;\">\n",
       "      <th></th>\n",
       "      <th>id</th>\n",
       "      <th>item</th>\n",
       "      <th>count</th>\n",
       "    </tr>\n",
       "  </thead>\n",
       "  <tbody>\n",
       "    <tr>\n",
       "      <th>0</th>\n",
       "      <td>100480924</td>\n",
       "      <td>Смартфон Xiaomi Redmi 6A 16GB</td>\n",
       "      <td>32</td>\n",
       "    </tr>\n",
       "    <tr>\n",
       "      <th>1</th>\n",
       "      <td>100480929</td>\n",
       "      <td>Смартфон Xiaomi Redmi 6A 16GB</td>\n",
       "      <td>10</td>\n",
       "    </tr>\n",
       "    <tr>\n",
       "      <th>2</th>\n",
       "      <td>100480938</td>\n",
       "      <td>Смартфон Samsung Galaxy A30 32GB</td>\n",
       "      <td>49</td>\n",
       "    </tr>\n",
       "    <tr>\n",
       "      <th>3</th>\n",
       "      <td>100480952</td>\n",
       "      <td>смартфон Samsung Galaxy A30 32gb</td>\n",
       "      <td>11</td>\n",
       "    </tr>\n",
       "    <tr>\n",
       "      <th>4</th>\n",
       "      <td>100480959</td>\n",
       "      <td>Смартфон HUAWEI P30 lite</td>\n",
       "      <td>5</td>\n",
       "    </tr>\n",
       "    <tr>\n",
       "      <th>5</th>\n",
       "      <td>100480975</td>\n",
       "      <td>Смартфон Apple iPhone Xr 64gb</td>\n",
       "      <td>10</td>\n",
       "    </tr>\n",
       "    <tr>\n",
       "      <th>6</th>\n",
       "      <td>100480988</td>\n",
       "      <td>Смартфон Honor 8X 64GB</td>\n",
       "      <td>64</td>\n",
       "    </tr>\n",
       "    <tr>\n",
       "      <th>7</th>\n",
       "      <td>100480998</td>\n",
       "      <td>Смартфон HUAWEI P30 lite</td>\n",
       "      <td>33</td>\n",
       "    </tr>\n",
       "    <tr>\n",
       "      <th>8</th>\n",
       "      <td>100481008</td>\n",
       "      <td>Смартфон Xiaomi Redmi 6A 16GB</td>\n",
       "      <td>2</td>\n",
       "    </tr>\n",
       "    <tr>\n",
       "      <th>9</th>\n",
       "      <td>100481020</td>\n",
       "      <td>Смартфон Apple iPhone Xr 64GB</td>\n",
       "      <td>19</td>\n",
       "    </tr>\n",
       "  </tbody>\n",
       "</table>\n",
       "</div>"
      ]
     },
     "execution_count": 57,
     "metadata": {},
     "output_type": "execute_result"
    }
   ],
   "execution_count": 57
  },
  {
   "metadata": {
    "ExecuteTime": {
     "end_time": "2024-10-23T18:12:00.068835Z",
     "start_time": "2024-10-23T18:12:00.062704Z"
    }
   },
   "cell_type": "code",
   "source": "stock['item'].duplicated().sum()",
   "id": "f0f891e7e0ff2296",
   "outputs": [
    {
     "data": {
      "text/plain": [
       "3"
      ]
     },
     "execution_count": 58,
     "metadata": {},
     "output_type": "execute_result"
    }
   ],
   "execution_count": 58
  },
  {
   "metadata": {
    "ExecuteTime": {
     "end_time": "2024-10-23T18:12:00.127939Z",
     "start_time": "2024-10-23T18:12:00.119334Z"
    }
   },
   "cell_type": "code",
   "source": "stock['item'].value_counts()",
   "id": "a4a516c0aee1042e",
   "outputs": [
    {
     "data": {
      "text/plain": [
       "item\n",
       "Смартфон Xiaomi Redmi 6A 16GB       3\n",
       "Смартфон HUAWEI P30 lite            2\n",
       "Смартфон Samsung Galaxy A30 32GB    1\n",
       "смартфон Samsung Galaxy A30 32gb    1\n",
       "Смартфон Apple iPhone Xr 64gb       1\n",
       "Смартфон Honor 8X 64GB              1\n",
       "Смартфон Apple iPhone Xr 64GB       1\n",
       "Name: count, dtype: int64"
      ]
     },
     "execution_count": 59,
     "metadata": {},
     "output_type": "execute_result"
    }
   ],
   "execution_count": 59
  },
  {
   "metadata": {
    "ExecuteTime": {
     "end_time": "2024-10-23T18:12:00.222158Z",
     "start_time": "2024-10-23T18:12:00.216913Z"
    }
   },
   "cell_type": "code",
   "source": "xiaomi = stock[stock['item'] == 'Смартфон Xiaomi Redmi 6A 16GB']['count'].sum()",
   "id": "db31bcae203fc673",
   "outputs": [],
   "execution_count": 60
  },
  {
   "metadata": {
    "ExecuteTime": {
     "end_time": "2024-10-23T18:12:00.335567Z",
     "start_time": "2024-10-23T18:12:00.330343Z"
    }
   },
   "cell_type": "code",
   "source": "huawei = stock[stock['item'] == 'Смартфон HUAWEI P30 lite']['count'].sum()",
   "id": "b3f2f7d4535867a7",
   "outputs": [],
   "execution_count": 61
  },
  {
   "metadata": {
    "ExecuteTime": {
     "end_time": "2024-10-23T18:12:00.395241Z",
     "start_time": "2024-10-23T18:12:00.385277Z"
    }
   },
   "cell_type": "code",
   "source": [
    "stock['item'] = stock['item'].drop_duplicates()\n",
    "stock"
   ],
   "id": "9b2fd6f803426cf3",
   "outputs": [
    {
     "data": {
      "text/plain": [
       "          id                              item  count\n",
       "0  100480924     Смартфон Xiaomi Redmi 6A 16GB     32\n",
       "1  100480929                               NaN     10\n",
       "2  100480938  Смартфон Samsung Galaxy A30 32GB     49\n",
       "3  100480952  смартфон Samsung Galaxy A30 32gb     11\n",
       "4  100480959          Смартфон HUAWEI P30 lite      5\n",
       "5  100480975     Смартфон Apple iPhone Xr 64gb     10\n",
       "6  100480988            Смартфон Honor 8X 64GB     64\n",
       "7  100480998                               NaN     33\n",
       "8  100481008                               NaN      2\n",
       "9  100481020     Смартфон Apple iPhone Xr 64GB     19"
      ],
      "text/html": [
       "<div>\n",
       "<style scoped>\n",
       "    .dataframe tbody tr th:only-of-type {\n",
       "        vertical-align: middle;\n",
       "    }\n",
       "\n",
       "    .dataframe tbody tr th {\n",
       "        vertical-align: top;\n",
       "    }\n",
       "\n",
       "    .dataframe thead th {\n",
       "        text-align: right;\n",
       "    }\n",
       "</style>\n",
       "<table border=\"1\" class=\"dataframe\">\n",
       "  <thead>\n",
       "    <tr style=\"text-align: right;\">\n",
       "      <th></th>\n",
       "      <th>id</th>\n",
       "      <th>item</th>\n",
       "      <th>count</th>\n",
       "    </tr>\n",
       "  </thead>\n",
       "  <tbody>\n",
       "    <tr>\n",
       "      <th>0</th>\n",
       "      <td>100480924</td>\n",
       "      <td>Смартфон Xiaomi Redmi 6A 16GB</td>\n",
       "      <td>32</td>\n",
       "    </tr>\n",
       "    <tr>\n",
       "      <th>1</th>\n",
       "      <td>100480929</td>\n",
       "      <td>NaN</td>\n",
       "      <td>10</td>\n",
       "    </tr>\n",
       "    <tr>\n",
       "      <th>2</th>\n",
       "      <td>100480938</td>\n",
       "      <td>Смартфон Samsung Galaxy A30 32GB</td>\n",
       "      <td>49</td>\n",
       "    </tr>\n",
       "    <tr>\n",
       "      <th>3</th>\n",
       "      <td>100480952</td>\n",
       "      <td>смартфон Samsung Galaxy A30 32gb</td>\n",
       "      <td>11</td>\n",
       "    </tr>\n",
       "    <tr>\n",
       "      <th>4</th>\n",
       "      <td>100480959</td>\n",
       "      <td>Смартфон HUAWEI P30 lite</td>\n",
       "      <td>5</td>\n",
       "    </tr>\n",
       "    <tr>\n",
       "      <th>5</th>\n",
       "      <td>100480975</td>\n",
       "      <td>Смартфон Apple iPhone Xr 64gb</td>\n",
       "      <td>10</td>\n",
       "    </tr>\n",
       "    <tr>\n",
       "      <th>6</th>\n",
       "      <td>100480988</td>\n",
       "      <td>Смартфон Honor 8X 64GB</td>\n",
       "      <td>64</td>\n",
       "    </tr>\n",
       "    <tr>\n",
       "      <th>7</th>\n",
       "      <td>100480998</td>\n",
       "      <td>NaN</td>\n",
       "      <td>33</td>\n",
       "    </tr>\n",
       "    <tr>\n",
       "      <th>8</th>\n",
       "      <td>100481008</td>\n",
       "      <td>NaN</td>\n",
       "      <td>2</td>\n",
       "    </tr>\n",
       "    <tr>\n",
       "      <th>9</th>\n",
       "      <td>100481020</td>\n",
       "      <td>Смартфон Apple iPhone Xr 64GB</td>\n",
       "      <td>19</td>\n",
       "    </tr>\n",
       "  </tbody>\n",
       "</table>\n",
       "</div>"
      ]
     },
     "execution_count": 62,
     "metadata": {},
     "output_type": "execute_result"
    }
   ],
   "execution_count": 62
  },
  {
   "metadata": {
    "ExecuteTime": {
     "end_time": "2024-10-23T18:14:03.263008Z",
     "start_time": "2024-10-23T18:14:03.252052Z"
    }
   },
   "cell_type": "code",
   "source": [
    "stock = stock.dropna().reset_index(drop=True)\n",
    "stock"
   ],
   "id": "251098728250125d",
   "outputs": [
    {
     "data": {
      "text/plain": [
       "          id                              item  count\n",
       "0  100480924     Смартфон Xiaomi Redmi 6A 16GB     32\n",
       "1  100480938  Смартфон Samsung Galaxy A30 32GB     49\n",
       "2  100480952  смартфон Samsung Galaxy A30 32gb     11\n",
       "3  100480959          Смартфон HUAWEI P30 lite      5\n",
       "4  100480975     Смартфон Apple iPhone Xr 64gb     10\n",
       "5  100480988            Смартфон Honor 8X 64GB     64\n",
       "6  100481020     Смартфон Apple iPhone Xr 64GB     19"
      ],
      "text/html": [
       "<div>\n",
       "<style scoped>\n",
       "    .dataframe tbody tr th:only-of-type {\n",
       "        vertical-align: middle;\n",
       "    }\n",
       "\n",
       "    .dataframe tbody tr th {\n",
       "        vertical-align: top;\n",
       "    }\n",
       "\n",
       "    .dataframe thead th {\n",
       "        text-align: right;\n",
       "    }\n",
       "</style>\n",
       "<table border=\"1\" class=\"dataframe\">\n",
       "  <thead>\n",
       "    <tr style=\"text-align: right;\">\n",
       "      <th></th>\n",
       "      <th>id</th>\n",
       "      <th>item</th>\n",
       "      <th>count</th>\n",
       "    </tr>\n",
       "  </thead>\n",
       "  <tbody>\n",
       "    <tr>\n",
       "      <th>0</th>\n",
       "      <td>100480924</td>\n",
       "      <td>Смартфон Xiaomi Redmi 6A 16GB</td>\n",
       "      <td>32</td>\n",
       "    </tr>\n",
       "    <tr>\n",
       "      <th>1</th>\n",
       "      <td>100480938</td>\n",
       "      <td>Смартфон Samsung Galaxy A30 32GB</td>\n",
       "      <td>49</td>\n",
       "    </tr>\n",
       "    <tr>\n",
       "      <th>2</th>\n",
       "      <td>100480952</td>\n",
       "      <td>смартфон Samsung Galaxy A30 32gb</td>\n",
       "      <td>11</td>\n",
       "    </tr>\n",
       "    <tr>\n",
       "      <th>3</th>\n",
       "      <td>100480959</td>\n",
       "      <td>Смартфон HUAWEI P30 lite</td>\n",
       "      <td>5</td>\n",
       "    </tr>\n",
       "    <tr>\n",
       "      <th>4</th>\n",
       "      <td>100480975</td>\n",
       "      <td>Смартфон Apple iPhone Xr 64gb</td>\n",
       "      <td>10</td>\n",
       "    </tr>\n",
       "    <tr>\n",
       "      <th>5</th>\n",
       "      <td>100480988</td>\n",
       "      <td>Смартфон Honor 8X 64GB</td>\n",
       "      <td>64</td>\n",
       "    </tr>\n",
       "    <tr>\n",
       "      <th>6</th>\n",
       "      <td>100481020</td>\n",
       "      <td>Смартфон Apple iPhone Xr 64GB</td>\n",
       "      <td>19</td>\n",
       "    </tr>\n",
       "  </tbody>\n",
       "</table>\n",
       "</div>"
      ]
     },
     "execution_count": 67,
     "metadata": {},
     "output_type": "execute_result"
    }
   ],
   "execution_count": 67
  },
  {
   "metadata": {
    "ExecuteTime": {
     "end_time": "2024-10-23T18:18:03.177610Z",
     "start_time": "2024-10-23T18:18:03.162518Z"
    }
   },
   "cell_type": "code",
   "source": [
    "stock.loc[0,'count'] = xiaomi\n",
    "stock.loc[3,'count'] = huawei"
   ],
   "id": "6471677c5e3dcd0b",
   "outputs": [],
   "execution_count": 68
  },
  {
   "metadata": {
    "ExecuteTime": {
     "end_time": "2024-10-23T18:18:07.594318Z",
     "start_time": "2024-10-23T18:18:07.575223Z"
    }
   },
   "cell_type": "code",
   "source": "stock",
   "id": "4d3335da0ff520a0",
   "outputs": [
    {
     "data": {
      "text/plain": [
       "          id                              item  count\n",
       "0  100480924     Смартфон Xiaomi Redmi 6A 16GB     44\n",
       "1  100480938  Смартфон Samsung Galaxy A30 32GB     49\n",
       "2  100480952  смартфон Samsung Galaxy A30 32gb     11\n",
       "3  100480959          Смартфон HUAWEI P30 lite     38\n",
       "4  100480975     Смартфон Apple iPhone Xr 64gb     10\n",
       "5  100480988            Смартфон Honor 8X 64GB     64\n",
       "6  100481020     Смартфон Apple iPhone Xr 64GB     19"
      ],
      "text/html": [
       "<div>\n",
       "<style scoped>\n",
       "    .dataframe tbody tr th:only-of-type {\n",
       "        vertical-align: middle;\n",
       "    }\n",
       "\n",
       "    .dataframe tbody tr th {\n",
       "        vertical-align: top;\n",
       "    }\n",
       "\n",
       "    .dataframe thead th {\n",
       "        text-align: right;\n",
       "    }\n",
       "</style>\n",
       "<table border=\"1\" class=\"dataframe\">\n",
       "  <thead>\n",
       "    <tr style=\"text-align: right;\">\n",
       "      <th></th>\n",
       "      <th>id</th>\n",
       "      <th>item</th>\n",
       "      <th>count</th>\n",
       "    </tr>\n",
       "  </thead>\n",
       "  <tbody>\n",
       "    <tr>\n",
       "      <th>0</th>\n",
       "      <td>100480924</td>\n",
       "      <td>Смартфон Xiaomi Redmi 6A 16GB</td>\n",
       "      <td>44</td>\n",
       "    </tr>\n",
       "    <tr>\n",
       "      <th>1</th>\n",
       "      <td>100480938</td>\n",
       "      <td>Смартфон Samsung Galaxy A30 32GB</td>\n",
       "      <td>49</td>\n",
       "    </tr>\n",
       "    <tr>\n",
       "      <th>2</th>\n",
       "      <td>100480952</td>\n",
       "      <td>смартфон Samsung Galaxy A30 32gb</td>\n",
       "      <td>11</td>\n",
       "    </tr>\n",
       "    <tr>\n",
       "      <th>3</th>\n",
       "      <td>100480959</td>\n",
       "      <td>Смартфон HUAWEI P30 lite</td>\n",
       "      <td>38</td>\n",
       "    </tr>\n",
       "    <tr>\n",
       "      <th>4</th>\n",
       "      <td>100480975</td>\n",
       "      <td>Смартфон Apple iPhone Xr 64gb</td>\n",
       "      <td>10</td>\n",
       "    </tr>\n",
       "    <tr>\n",
       "      <th>5</th>\n",
       "      <td>100480988</td>\n",
       "      <td>Смартфон Honor 8X 64GB</td>\n",
       "      <td>64</td>\n",
       "    </tr>\n",
       "    <tr>\n",
       "      <th>6</th>\n",
       "      <td>100481020</td>\n",
       "      <td>Смартфон Apple iPhone Xr 64GB</td>\n",
       "      <td>19</td>\n",
       "    </tr>\n",
       "  </tbody>\n",
       "</table>\n",
       "</div>"
      ]
     },
     "execution_count": 69,
     "metadata": {},
     "output_type": "execute_result"
    }
   ],
   "execution_count": 69
  },
  {
   "metadata": {
    "ExecuteTime": {
     "end_time": "2024-10-23T18:19:07.708624Z",
     "start_time": "2024-10-23T18:19:07.691794Z"
    }
   },
   "cell_type": "code",
   "source": "%store stock",
   "id": "b81645f488c1c206",
   "outputs": [
    {
     "name": "stdout",
     "output_type": "stream",
     "text": [
      "Stored 'stock' (DataFrame)\n"
     ]
    }
   ],
   "execution_count": 70
  }
 ],
 "metadata": {
  "kernelspec": {
   "display_name": "Python 3",
   "language": "python",
   "name": "python3"
  },
  "language_info": {
   "codemirror_mode": {
    "name": "ipython",
    "version": 2
   },
   "file_extension": ".py",
   "mimetype": "text/x-python",
   "name": "python",
   "nbconvert_exporter": "python",
   "pygments_lexer": "ipython2",
   "version": "2.7.6"
  }
 },
 "nbformat": 4,
 "nbformat_minor": 5
}
