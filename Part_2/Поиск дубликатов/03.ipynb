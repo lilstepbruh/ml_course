{
 "cells": [
  {
   "cell_type": "code",
   "id": "initial_id",
   "metadata": {
    "collapsed": true,
    "ExecuteTime": {
     "end_time": "2024-10-23T18:19:26.361973Z",
     "start_time": "2024-10-23T18:19:24.928405Z"
    }
   },
   "source": "import pandas as pd",
   "outputs": [],
   "execution_count": 1
  },
  {
   "metadata": {
    "ExecuteTime": {
     "end_time": "2024-10-23T18:19:29.508806Z",
     "start_time": "2024-10-23T18:19:29.492438Z"
    }
   },
   "cell_type": "code",
   "source": "%store -r stock",
   "id": "259601c7fecc3e15",
   "outputs": [],
   "execution_count": 2
  },
  {
   "metadata": {
    "ExecuteTime": {
     "end_time": "2024-10-23T18:19:44.955980Z",
     "start_time": "2024-10-23T18:19:44.924956Z"
    }
   },
   "cell_type": "code",
   "source": "stock",
   "id": "10a69bc1cd26f29a",
   "outputs": [
    {
     "data": {
      "text/plain": [
       "          id                              item  count\n",
       "0  100480924     Смартфон Xiaomi Redmi 6A 16GB     44\n",
       "1  100480938  Смартфон Samsung Galaxy A30 32GB     49\n",
       "2  100480952  смартфон Samsung Galaxy A30 32gb     11\n",
       "3  100480959          Смартфон HUAWEI P30 lite     38\n",
       "4  100480975     Смартфон Apple iPhone Xr 64gb     10\n",
       "5  100480988            Смартфон Honor 8X 64GB     64\n",
       "6  100481020     Смартфон Apple iPhone Xr 64GB     19"
      ],
      "text/html": [
       "<div>\n",
       "<style scoped>\n",
       "    .dataframe tbody tr th:only-of-type {\n",
       "        vertical-align: middle;\n",
       "    }\n",
       "\n",
       "    .dataframe tbody tr th {\n",
       "        vertical-align: top;\n",
       "    }\n",
       "\n",
       "    .dataframe thead th {\n",
       "        text-align: right;\n",
       "    }\n",
       "</style>\n",
       "<table border=\"1\" class=\"dataframe\">\n",
       "  <thead>\n",
       "    <tr style=\"text-align: right;\">\n",
       "      <th></th>\n",
       "      <th>id</th>\n",
       "      <th>item</th>\n",
       "      <th>count</th>\n",
       "    </tr>\n",
       "  </thead>\n",
       "  <tbody>\n",
       "    <tr>\n",
       "      <th>0</th>\n",
       "      <td>100480924</td>\n",
       "      <td>Смартфон Xiaomi Redmi 6A 16GB</td>\n",
       "      <td>44</td>\n",
       "    </tr>\n",
       "    <tr>\n",
       "      <th>1</th>\n",
       "      <td>100480938</td>\n",
       "      <td>Смартфон Samsung Galaxy A30 32GB</td>\n",
       "      <td>49</td>\n",
       "    </tr>\n",
       "    <tr>\n",
       "      <th>2</th>\n",
       "      <td>100480952</td>\n",
       "      <td>смартфон Samsung Galaxy A30 32gb</td>\n",
       "      <td>11</td>\n",
       "    </tr>\n",
       "    <tr>\n",
       "      <th>3</th>\n",
       "      <td>100480959</td>\n",
       "      <td>Смартфон HUAWEI P30 lite</td>\n",
       "      <td>38</td>\n",
       "    </tr>\n",
       "    <tr>\n",
       "      <th>4</th>\n",
       "      <td>100480975</td>\n",
       "      <td>Смартфон Apple iPhone Xr 64gb</td>\n",
       "      <td>10</td>\n",
       "    </tr>\n",
       "    <tr>\n",
       "      <th>5</th>\n",
       "      <td>100480988</td>\n",
       "      <td>Смартфон Honor 8X 64GB</td>\n",
       "      <td>64</td>\n",
       "    </tr>\n",
       "    <tr>\n",
       "      <th>6</th>\n",
       "      <td>100481020</td>\n",
       "      <td>Смартфон Apple iPhone Xr 64GB</td>\n",
       "      <td>19</td>\n",
       "    </tr>\n",
       "  </tbody>\n",
       "</table>\n",
       "</div>"
      ]
     },
     "execution_count": 3,
     "metadata": {},
     "output_type": "execute_result"
    }
   ],
   "execution_count": 3
  },
  {
   "metadata": {
    "ExecuteTime": {
     "end_time": "2024-10-23T18:22:41.702524Z",
     "start_time": "2024-10-23T18:22:41.679861Z"
    }
   },
   "cell_type": "code",
   "source": [
    "stock['item_lowercase'] = stock['item'].str.lower()\n",
    "stock"
   ],
   "id": "96239c0be6c241ae",
   "outputs": [
    {
     "data": {
      "text/plain": [
       "          id                              item  count  \\\n",
       "0  100480924     Смартфон Xiaomi Redmi 6A 16GB     44   \n",
       "1  100480938  Смартфон Samsung Galaxy A30 32GB     49   \n",
       "2  100480952  смартфон Samsung Galaxy A30 32gb     11   \n",
       "3  100480959          Смартфон HUAWEI P30 lite     38   \n",
       "4  100480975     Смартфон Apple iPhone Xr 64gb     10   \n",
       "5  100480988            Смартфон Honor 8X 64GB     64   \n",
       "6  100481020     Смартфон Apple iPhone Xr 64GB     19   \n",
       "\n",
       "                     item_lowercase  \n",
       "0     смартфон xiaomi redmi 6a 16gb  \n",
       "1  смартфон samsung galaxy a30 32gb  \n",
       "2  смартфон samsung galaxy a30 32gb  \n",
       "3          смартфон huawei p30 lite  \n",
       "4     смартфон apple iphone xr 64gb  \n",
       "5            смартфон honor 8x 64gb  \n",
       "6     смартфон apple iphone xr 64gb  "
      ],
      "text/html": [
       "<div>\n",
       "<style scoped>\n",
       "    .dataframe tbody tr th:only-of-type {\n",
       "        vertical-align: middle;\n",
       "    }\n",
       "\n",
       "    .dataframe tbody tr th {\n",
       "        vertical-align: top;\n",
       "    }\n",
       "\n",
       "    .dataframe thead th {\n",
       "        text-align: right;\n",
       "    }\n",
       "</style>\n",
       "<table border=\"1\" class=\"dataframe\">\n",
       "  <thead>\n",
       "    <tr style=\"text-align: right;\">\n",
       "      <th></th>\n",
       "      <th>id</th>\n",
       "      <th>item</th>\n",
       "      <th>count</th>\n",
       "      <th>item_lowercase</th>\n",
       "    </tr>\n",
       "  </thead>\n",
       "  <tbody>\n",
       "    <tr>\n",
       "      <th>0</th>\n",
       "      <td>100480924</td>\n",
       "      <td>Смартфон Xiaomi Redmi 6A 16GB</td>\n",
       "      <td>44</td>\n",
       "      <td>смартфон xiaomi redmi 6a 16gb</td>\n",
       "    </tr>\n",
       "    <tr>\n",
       "      <th>1</th>\n",
       "      <td>100480938</td>\n",
       "      <td>Смартфон Samsung Galaxy A30 32GB</td>\n",
       "      <td>49</td>\n",
       "      <td>смартфон samsung galaxy a30 32gb</td>\n",
       "    </tr>\n",
       "    <tr>\n",
       "      <th>2</th>\n",
       "      <td>100480952</td>\n",
       "      <td>смартфон Samsung Galaxy A30 32gb</td>\n",
       "      <td>11</td>\n",
       "      <td>смартфон samsung galaxy a30 32gb</td>\n",
       "    </tr>\n",
       "    <tr>\n",
       "      <th>3</th>\n",
       "      <td>100480959</td>\n",
       "      <td>Смартфон HUAWEI P30 lite</td>\n",
       "      <td>38</td>\n",
       "      <td>смартфон huawei p30 lite</td>\n",
       "    </tr>\n",
       "    <tr>\n",
       "      <th>4</th>\n",
       "      <td>100480975</td>\n",
       "      <td>Смартфон Apple iPhone Xr 64gb</td>\n",
       "      <td>10</td>\n",
       "      <td>смартфон apple iphone xr 64gb</td>\n",
       "    </tr>\n",
       "    <tr>\n",
       "      <th>5</th>\n",
       "      <td>100480988</td>\n",
       "      <td>Смартфон Honor 8X 64GB</td>\n",
       "      <td>64</td>\n",
       "      <td>смартфон honor 8x 64gb</td>\n",
       "    </tr>\n",
       "    <tr>\n",
       "      <th>6</th>\n",
       "      <td>100481020</td>\n",
       "      <td>Смартфон Apple iPhone Xr 64GB</td>\n",
       "      <td>19</td>\n",
       "      <td>смартфон apple iphone xr 64gb</td>\n",
       "    </tr>\n",
       "  </tbody>\n",
       "</table>\n",
       "</div>"
      ]
     },
     "execution_count": 5,
     "metadata": {},
     "output_type": "execute_result"
    }
   ],
   "execution_count": 5
  },
  {
   "metadata": {
    "ExecuteTime": {
     "end_time": "2024-10-23T18:23:26.977948Z",
     "start_time": "2024-10-23T18:23:26.964138Z"
    }
   },
   "cell_type": "code",
   "source": "stock['item_lowercase'].value_counts()",
   "id": "5004b0a4e20df8af",
   "outputs": [
    {
     "data": {
      "text/plain": [
       "item_lowercase\n",
       "смартфон samsung galaxy a30 32gb    2\n",
       "смартфон apple iphone xr 64gb       2\n",
       "смартфон xiaomi redmi 6a 16gb       1\n",
       "смартфон huawei p30 lite            1\n",
       "смартфон honor 8x 64gb              1\n",
       "Name: count, dtype: int64"
      ]
     },
     "execution_count": 6,
     "metadata": {},
     "output_type": "execute_result"
    }
   ],
   "execution_count": 6
  },
  {
   "metadata": {
    "ExecuteTime": {
     "end_time": "2024-10-23T18:25:30.390066Z",
     "start_time": "2024-10-23T18:25:30.375374Z"
    }
   },
   "cell_type": "code",
   "source": [
    "samsung = stock[stock['item_lowercase'] == 'смартфон samsung galaxy a30 32gb']['count'].sum()\n",
    "apple = stock[stock['item_lowercase'] == 'смартфон apple iphone xr 64gb']['count'].sum()"
   ],
   "id": "79bf2628c01e6c7",
   "outputs": [],
   "execution_count": 7
  },
  {
   "metadata": {
    "ExecuteTime": {
     "end_time": "2024-10-23T18:29:12.649671Z",
     "start_time": "2024-10-23T18:29:12.623757Z"
    }
   },
   "cell_type": "code",
   "source": [
    "stock['item_lowercase'] = stock['item_lowercase'].drop_duplicates()\n",
    "stock"
   ],
   "id": "8ae670c4f1cdd40d",
   "outputs": [
    {
     "data": {
      "text/plain": [
       "          id                              item  count  \\\n",
       "0  100480924     Смартфон Xiaomi Redmi 6A 16GB     44   \n",
       "1  100480938  Смартфон Samsung Galaxy A30 32GB     49   \n",
       "2  100480952  смартфон Samsung Galaxy A30 32gb     11   \n",
       "3  100480959          Смартфон HUAWEI P30 lite     38   \n",
       "4  100480975     Смартфон Apple iPhone Xr 64gb     10   \n",
       "5  100480988            Смартфон Honor 8X 64GB     64   \n",
       "6  100481020     Смартфон Apple iPhone Xr 64GB     19   \n",
       "\n",
       "                     item_lowercase  \n",
       "0     смартфон xiaomi redmi 6a 16gb  \n",
       "1  смартфон samsung galaxy a30 32gb  \n",
       "2                               NaN  \n",
       "3          смартфон huawei p30 lite  \n",
       "4     смартфон apple iphone xr 64gb  \n",
       "5            смартфон honor 8x 64gb  \n",
       "6                               NaN  "
      ],
      "text/html": [
       "<div>\n",
       "<style scoped>\n",
       "    .dataframe tbody tr th:only-of-type {\n",
       "        vertical-align: middle;\n",
       "    }\n",
       "\n",
       "    .dataframe tbody tr th {\n",
       "        vertical-align: top;\n",
       "    }\n",
       "\n",
       "    .dataframe thead th {\n",
       "        text-align: right;\n",
       "    }\n",
       "</style>\n",
       "<table border=\"1\" class=\"dataframe\">\n",
       "  <thead>\n",
       "    <tr style=\"text-align: right;\">\n",
       "      <th></th>\n",
       "      <th>id</th>\n",
       "      <th>item</th>\n",
       "      <th>count</th>\n",
       "      <th>item_lowercase</th>\n",
       "    </tr>\n",
       "  </thead>\n",
       "  <tbody>\n",
       "    <tr>\n",
       "      <th>0</th>\n",
       "      <td>100480924</td>\n",
       "      <td>Смартфон Xiaomi Redmi 6A 16GB</td>\n",
       "      <td>44</td>\n",
       "      <td>смартфон xiaomi redmi 6a 16gb</td>\n",
       "    </tr>\n",
       "    <tr>\n",
       "      <th>1</th>\n",
       "      <td>100480938</td>\n",
       "      <td>Смартфон Samsung Galaxy A30 32GB</td>\n",
       "      <td>49</td>\n",
       "      <td>смартфон samsung galaxy a30 32gb</td>\n",
       "    </tr>\n",
       "    <tr>\n",
       "      <th>2</th>\n",
       "      <td>100480952</td>\n",
       "      <td>смартфон Samsung Galaxy A30 32gb</td>\n",
       "      <td>11</td>\n",
       "      <td>NaN</td>\n",
       "    </tr>\n",
       "    <tr>\n",
       "      <th>3</th>\n",
       "      <td>100480959</td>\n",
       "      <td>Смартфон HUAWEI P30 lite</td>\n",
       "      <td>38</td>\n",
       "      <td>смартфон huawei p30 lite</td>\n",
       "    </tr>\n",
       "    <tr>\n",
       "      <th>4</th>\n",
       "      <td>100480975</td>\n",
       "      <td>Смартфон Apple iPhone Xr 64gb</td>\n",
       "      <td>10</td>\n",
       "      <td>смартфон apple iphone xr 64gb</td>\n",
       "    </tr>\n",
       "    <tr>\n",
       "      <th>5</th>\n",
       "      <td>100480988</td>\n",
       "      <td>Смартфон Honor 8X 64GB</td>\n",
       "      <td>64</td>\n",
       "      <td>смартфон honor 8x 64gb</td>\n",
       "    </tr>\n",
       "    <tr>\n",
       "      <th>6</th>\n",
       "      <td>100481020</td>\n",
       "      <td>Смартфон Apple iPhone Xr 64GB</td>\n",
       "      <td>19</td>\n",
       "      <td>NaN</td>\n",
       "    </tr>\n",
       "  </tbody>\n",
       "</table>\n",
       "</div>"
      ]
     },
     "execution_count": 11,
     "metadata": {},
     "output_type": "execute_result"
    }
   ],
   "execution_count": 11
  },
  {
   "metadata": {
    "ExecuteTime": {
     "end_time": "2024-10-23T18:30:44.889858Z",
     "start_time": "2024-10-23T18:30:44.862330Z"
    }
   },
   "cell_type": "code",
   "source": [
    "stock = stock.dropna().reset_index(drop=True)\n",
    "stock"
   ],
   "id": "cd656acdcc588540",
   "outputs": [
    {
     "data": {
      "text/plain": [
       "          id                              item  count  \\\n",
       "0  100480924     Смартфон Xiaomi Redmi 6A 16GB     44   \n",
       "1  100480938  Смартфон Samsung Galaxy A30 32GB     49   \n",
       "2  100480959          Смартфон HUAWEI P30 lite     38   \n",
       "3  100480975     Смартфон Apple iPhone Xr 64gb     10   \n",
       "4  100480988            Смартфон Honor 8X 64GB     64   \n",
       "\n",
       "                     item_lowercase  \n",
       "0     смартфон xiaomi redmi 6a 16gb  \n",
       "1  смартфон samsung galaxy a30 32gb  \n",
       "2          смартфон huawei p30 lite  \n",
       "3     смартфон apple iphone xr 64gb  \n",
       "4            смартфон honor 8x 64gb  "
      ],
      "text/html": [
       "<div>\n",
       "<style scoped>\n",
       "    .dataframe tbody tr th:only-of-type {\n",
       "        vertical-align: middle;\n",
       "    }\n",
       "\n",
       "    .dataframe tbody tr th {\n",
       "        vertical-align: top;\n",
       "    }\n",
       "\n",
       "    .dataframe thead th {\n",
       "        text-align: right;\n",
       "    }\n",
       "</style>\n",
       "<table border=\"1\" class=\"dataframe\">\n",
       "  <thead>\n",
       "    <tr style=\"text-align: right;\">\n",
       "      <th></th>\n",
       "      <th>id</th>\n",
       "      <th>item</th>\n",
       "      <th>count</th>\n",
       "      <th>item_lowercase</th>\n",
       "    </tr>\n",
       "  </thead>\n",
       "  <tbody>\n",
       "    <tr>\n",
       "      <th>0</th>\n",
       "      <td>100480924</td>\n",
       "      <td>Смартфон Xiaomi Redmi 6A 16GB</td>\n",
       "      <td>44</td>\n",
       "      <td>смартфон xiaomi redmi 6a 16gb</td>\n",
       "    </tr>\n",
       "    <tr>\n",
       "      <th>1</th>\n",
       "      <td>100480938</td>\n",
       "      <td>Смартфон Samsung Galaxy A30 32GB</td>\n",
       "      <td>49</td>\n",
       "      <td>смартфон samsung galaxy a30 32gb</td>\n",
       "    </tr>\n",
       "    <tr>\n",
       "      <th>2</th>\n",
       "      <td>100480959</td>\n",
       "      <td>Смартфон HUAWEI P30 lite</td>\n",
       "      <td>38</td>\n",
       "      <td>смартфон huawei p30 lite</td>\n",
       "    </tr>\n",
       "    <tr>\n",
       "      <th>3</th>\n",
       "      <td>100480975</td>\n",
       "      <td>Смартфон Apple iPhone Xr 64gb</td>\n",
       "      <td>10</td>\n",
       "      <td>смартфон apple iphone xr 64gb</td>\n",
       "    </tr>\n",
       "    <tr>\n",
       "      <th>4</th>\n",
       "      <td>100480988</td>\n",
       "      <td>Смартфон Honor 8X 64GB</td>\n",
       "      <td>64</td>\n",
       "      <td>смартфон honor 8x 64gb</td>\n",
       "    </tr>\n",
       "  </tbody>\n",
       "</table>\n",
       "</div>"
      ]
     },
     "execution_count": 13,
     "metadata": {},
     "output_type": "execute_result"
    }
   ],
   "execution_count": 13
  },
  {
   "metadata": {
    "ExecuteTime": {
     "end_time": "2024-10-23T18:31:48.439777Z",
     "start_time": "2024-10-23T18:31:48.427465Z"
    }
   },
   "cell_type": "code",
   "source": [
    "stock.loc[1,'count'] = samsung\n",
    "stock.loc[3,'count'] = apple"
   ],
   "id": "184f4bb755212564",
   "outputs": [],
   "execution_count": 14
  },
  {
   "metadata": {
    "ExecuteTime": {
     "end_time": "2024-10-23T18:31:53.386135Z",
     "start_time": "2024-10-23T18:31:53.370131Z"
    }
   },
   "cell_type": "code",
   "source": "stock",
   "id": "d9e8fe7df84f8bb",
   "outputs": [
    {
     "data": {
      "text/plain": [
       "          id                              item  count  \\\n",
       "0  100480924     Смартфон Xiaomi Redmi 6A 16GB     44   \n",
       "1  100480938  Смартфон Samsung Galaxy A30 32GB     60   \n",
       "2  100480959          Смартфон HUAWEI P30 lite     38   \n",
       "3  100480975     Смартфон Apple iPhone Xr 64gb     29   \n",
       "4  100480988            Смартфон Honor 8X 64GB     64   \n",
       "\n",
       "                     item_lowercase  \n",
       "0     смартфон xiaomi redmi 6a 16gb  \n",
       "1  смартфон samsung galaxy a30 32gb  \n",
       "2          смартфон huawei p30 lite  \n",
       "3     смартфон apple iphone xr 64gb  \n",
       "4            смартфон honor 8x 64gb  "
      ],
      "text/html": [
       "<div>\n",
       "<style scoped>\n",
       "    .dataframe tbody tr th:only-of-type {\n",
       "        vertical-align: middle;\n",
       "    }\n",
       "\n",
       "    .dataframe tbody tr th {\n",
       "        vertical-align: top;\n",
       "    }\n",
       "\n",
       "    .dataframe thead th {\n",
       "        text-align: right;\n",
       "    }\n",
       "</style>\n",
       "<table border=\"1\" class=\"dataframe\">\n",
       "  <thead>\n",
       "    <tr style=\"text-align: right;\">\n",
       "      <th></th>\n",
       "      <th>id</th>\n",
       "      <th>item</th>\n",
       "      <th>count</th>\n",
       "      <th>item_lowercase</th>\n",
       "    </tr>\n",
       "  </thead>\n",
       "  <tbody>\n",
       "    <tr>\n",
       "      <th>0</th>\n",
       "      <td>100480924</td>\n",
       "      <td>Смартфон Xiaomi Redmi 6A 16GB</td>\n",
       "      <td>44</td>\n",
       "      <td>смартфон xiaomi redmi 6a 16gb</td>\n",
       "    </tr>\n",
       "    <tr>\n",
       "      <th>1</th>\n",
       "      <td>100480938</td>\n",
       "      <td>Смартфон Samsung Galaxy A30 32GB</td>\n",
       "      <td>60</td>\n",
       "      <td>смартфон samsung galaxy a30 32gb</td>\n",
       "    </tr>\n",
       "    <tr>\n",
       "      <th>2</th>\n",
       "      <td>100480959</td>\n",
       "      <td>Смартфон HUAWEI P30 lite</td>\n",
       "      <td>38</td>\n",
       "      <td>смартфон huawei p30 lite</td>\n",
       "    </tr>\n",
       "    <tr>\n",
       "      <th>3</th>\n",
       "      <td>100480975</td>\n",
       "      <td>Смартфон Apple iPhone Xr 64gb</td>\n",
       "      <td>29</td>\n",
       "      <td>смартфон apple iphone xr 64gb</td>\n",
       "    </tr>\n",
       "    <tr>\n",
       "      <th>4</th>\n",
       "      <td>100480988</td>\n",
       "      <td>Смартфон Honor 8X 64GB</td>\n",
       "      <td>64</td>\n",
       "      <td>смартфон honor 8x 64gb</td>\n",
       "    </tr>\n",
       "  </tbody>\n",
       "</table>\n",
       "</div>"
      ]
     },
     "execution_count": 15,
     "metadata": {},
     "output_type": "execute_result"
    }
   ],
   "execution_count": 15
  },
  {
   "metadata": {
    "ExecuteTime": {
     "end_time": "2024-10-23T18:33:35.116796Z",
     "start_time": "2024-10-23T18:33:35.095521Z"
    }
   },
   "cell_type": "code",
   "source": [
    "stock.drop(axis='columns', inplace=True, columns=['item_lowercase'])\n",
    "stock"
   ],
   "id": "df0b1460f34941b3",
   "outputs": [
    {
     "data": {
      "text/plain": [
       "          id                              item  count\n",
       "0  100480924     Смартфон Xiaomi Redmi 6A 16GB     44\n",
       "1  100480938  Смартфон Samsung Galaxy A30 32GB     60\n",
       "2  100480959          Смартфон HUAWEI P30 lite     38\n",
       "3  100480975     Смартфон Apple iPhone Xr 64gb     29\n",
       "4  100480988            Смартфон Honor 8X 64GB     64"
      ],
      "text/html": [
       "<div>\n",
       "<style scoped>\n",
       "    .dataframe tbody tr th:only-of-type {\n",
       "        vertical-align: middle;\n",
       "    }\n",
       "\n",
       "    .dataframe tbody tr th {\n",
       "        vertical-align: top;\n",
       "    }\n",
       "\n",
       "    .dataframe thead th {\n",
       "        text-align: right;\n",
       "    }\n",
       "</style>\n",
       "<table border=\"1\" class=\"dataframe\">\n",
       "  <thead>\n",
       "    <tr style=\"text-align: right;\">\n",
       "      <th></th>\n",
       "      <th>id</th>\n",
       "      <th>item</th>\n",
       "      <th>count</th>\n",
       "    </tr>\n",
       "  </thead>\n",
       "  <tbody>\n",
       "    <tr>\n",
       "      <th>0</th>\n",
       "      <td>100480924</td>\n",
       "      <td>Смартфон Xiaomi Redmi 6A 16GB</td>\n",
       "      <td>44</td>\n",
       "    </tr>\n",
       "    <tr>\n",
       "      <th>1</th>\n",
       "      <td>100480938</td>\n",
       "      <td>Смартфон Samsung Galaxy A30 32GB</td>\n",
       "      <td>60</td>\n",
       "    </tr>\n",
       "    <tr>\n",
       "      <th>2</th>\n",
       "      <td>100480959</td>\n",
       "      <td>Смартфон HUAWEI P30 lite</td>\n",
       "      <td>38</td>\n",
       "    </tr>\n",
       "    <tr>\n",
       "      <th>3</th>\n",
       "      <td>100480975</td>\n",
       "      <td>Смартфон Apple iPhone Xr 64gb</td>\n",
       "      <td>29</td>\n",
       "    </tr>\n",
       "    <tr>\n",
       "      <th>4</th>\n",
       "      <td>100480988</td>\n",
       "      <td>Смартфон Honor 8X 64GB</td>\n",
       "      <td>64</td>\n",
       "    </tr>\n",
       "  </tbody>\n",
       "</table>\n",
       "</div>"
      ]
     },
     "execution_count": 17,
     "metadata": {},
     "output_type": "execute_result"
    }
   ],
   "execution_count": 17
  }
 ],
 "metadata": {
  "kernelspec": {
   "display_name": "Python 3",
   "language": "python",
   "name": "python3"
  },
  "language_info": {
   "codemirror_mode": {
    "name": "ipython",
    "version": 2
   },
   "file_extension": ".py",
   "mimetype": "text/x-python",
   "name": "python",
   "nbconvert_exporter": "python",
   "pygments_lexer": "ipython2",
   "version": "2.7.6"
  }
 },
 "nbformat": 4,
 "nbformat_minor": 5
}
