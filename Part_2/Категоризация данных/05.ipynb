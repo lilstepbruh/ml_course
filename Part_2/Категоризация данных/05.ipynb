{
 "cells": [
  {
   "cell_type": "code",
   "id": "initial_id",
   "metadata": {
    "collapsed": true,
    "ExecuteTime": {
     "end_time": "2024-10-24T07:04:29.745135Z",
     "start_time": "2024-10-24T07:04:28.392160Z"
    }
   },
   "source": "import pandas as pd",
   "outputs": [],
   "execution_count": 1
  },
  {
   "metadata": {
    "ExecuteTime": {
     "end_time": "2024-10-24T07:08:10.512456Z",
     "start_time": "2024-10-24T07:08:10.474485Z"
    }
   },
   "cell_type": "code",
   "source": [
    "df = pd.read_csv(r\"C:\\Users\\andre\\Рабочий стол\\Практикум\\Специалист по Data Science Плюс. Часть 2\\05 Категоризация данных\\05 work\\support_log_grouped.csv\")\n",
    "df"
   ],
   "id": "ac44515299688616",
   "outputs": [
    {
     "data": {
      "text/plain": [
       "   type_id  user_id  timestamp alert_group  importance\n",
       "0        1      311        311     высокий           1\n",
       "1        2      302        302     высокий           0\n",
       "2        3      606        606   критичный           0\n",
       "3        4      312        312     высокий           1\n",
       "4        5      586        586   критичный           1\n",
       "5        6      303        303     высокий           1\n",
       "6        7      283        283     средний           1\n",
       "7        8      297        297     средний           0"
      ],
      "text/html": [
       "<div>\n",
       "<style scoped>\n",
       "    .dataframe tbody tr th:only-of-type {\n",
       "        vertical-align: middle;\n",
       "    }\n",
       "\n",
       "    .dataframe tbody tr th {\n",
       "        vertical-align: top;\n",
       "    }\n",
       "\n",
       "    .dataframe thead th {\n",
       "        text-align: right;\n",
       "    }\n",
       "</style>\n",
       "<table border=\"1\" class=\"dataframe\">\n",
       "  <thead>\n",
       "    <tr style=\"text-align: right;\">\n",
       "      <th></th>\n",
       "      <th>type_id</th>\n",
       "      <th>user_id</th>\n",
       "      <th>timestamp</th>\n",
       "      <th>alert_group</th>\n",
       "      <th>importance</th>\n",
       "    </tr>\n",
       "  </thead>\n",
       "  <tbody>\n",
       "    <tr>\n",
       "      <th>0</th>\n",
       "      <td>1</td>\n",
       "      <td>311</td>\n",
       "      <td>311</td>\n",
       "      <td>высокий</td>\n",
       "      <td>1</td>\n",
       "    </tr>\n",
       "    <tr>\n",
       "      <th>1</th>\n",
       "      <td>2</td>\n",
       "      <td>302</td>\n",
       "      <td>302</td>\n",
       "      <td>высокий</td>\n",
       "      <td>0</td>\n",
       "    </tr>\n",
       "    <tr>\n",
       "      <th>2</th>\n",
       "      <td>3</td>\n",
       "      <td>606</td>\n",
       "      <td>606</td>\n",
       "      <td>критичный</td>\n",
       "      <td>0</td>\n",
       "    </tr>\n",
       "    <tr>\n",
       "      <th>3</th>\n",
       "      <td>4</td>\n",
       "      <td>312</td>\n",
       "      <td>312</td>\n",
       "      <td>высокий</td>\n",
       "      <td>1</td>\n",
       "    </tr>\n",
       "    <tr>\n",
       "      <th>4</th>\n",
       "      <td>5</td>\n",
       "      <td>586</td>\n",
       "      <td>586</td>\n",
       "      <td>критичный</td>\n",
       "      <td>1</td>\n",
       "    </tr>\n",
       "    <tr>\n",
       "      <th>5</th>\n",
       "      <td>6</td>\n",
       "      <td>303</td>\n",
       "      <td>303</td>\n",
       "      <td>высокий</td>\n",
       "      <td>1</td>\n",
       "    </tr>\n",
       "    <tr>\n",
       "      <th>6</th>\n",
       "      <td>7</td>\n",
       "      <td>283</td>\n",
       "      <td>283</td>\n",
       "      <td>средний</td>\n",
       "      <td>1</td>\n",
       "    </tr>\n",
       "    <tr>\n",
       "      <th>7</th>\n",
       "      <td>8</td>\n",
       "      <td>297</td>\n",
       "      <td>297</td>\n",
       "      <td>средний</td>\n",
       "      <td>0</td>\n",
       "    </tr>\n",
       "  </tbody>\n",
       "</table>\n",
       "</div>"
      ]
     },
     "execution_count": 2,
     "metadata": {},
     "output_type": "execute_result"
    }
   ],
   "execution_count": 2
  },
  {
   "metadata": {
    "ExecuteTime": {
     "end_time": "2024-10-24T07:13:58.595908Z",
     "start_time": "2024-10-24T07:13:58.584887Z"
    }
   },
   "cell_type": "code",
   "source": [
    "def alert_group_importance(row):\n",
    "    alert_group = row['alert_group']\n",
    "    importance = row['importance']\n",
    "    \n",
    "    if alert_group == 'средний' and importance == 1:\n",
    "        return 'обратить внимание'\n",
    "    if alert_group == 'высокий' and importance == 1:\n",
    "        return 'высокий риск'\n",
    "    if alert_group == 'критичный' and importance == 1:\n",
    "        return 'блокер'\n",
    "    return 'все в порядке'"
   ],
   "id": "724e3cf4eb8506e4",
   "outputs": [],
   "execution_count": 6
  },
  {
   "metadata": {
    "ExecuteTime": {
     "end_time": "2024-10-24T07:13:59.198154Z",
     "start_time": "2024-10-24T07:13:59.185004Z"
    }
   },
   "cell_type": "code",
   "source": "alert_group_importance({'alert_group':'высокий', 'importance':1})",
   "id": "460b76f1a7c90069",
   "outputs": [
    {
     "data": {
      "text/plain": [
       "'высокий риск'"
      ]
     },
     "execution_count": 7,
     "metadata": {},
     "output_type": "execute_result"
    }
   ],
   "execution_count": 7
  },
  {
   "metadata": {
    "ExecuteTime": {
     "end_time": "2024-10-24T07:14:54.211265Z",
     "start_time": "2024-10-24T07:14:54.196482Z"
    }
   },
   "cell_type": "code",
   "source": "df['importance_status'] = df.apply(alert_group_importance, axis=1)",
   "id": "e2e1207e8fe93448",
   "outputs": [],
   "execution_count": 9
  },
  {
   "metadata": {
    "ExecuteTime": {
     "end_time": "2024-10-24T07:14:58.300610Z",
     "start_time": "2024-10-24T07:14:58.281058Z"
    }
   },
   "cell_type": "code",
   "source": "df",
   "id": "d236119d39b87a92",
   "outputs": [
    {
     "data": {
      "text/plain": [
       "   type_id  user_id  timestamp alert_group  importance  importance_status\n",
       "0        1      311        311     высокий           1       высокий риск\n",
       "1        2      302        302     высокий           0      все в порядке\n",
       "2        3      606        606   критичный           0      все в порядке\n",
       "3        4      312        312     высокий           1       высокий риск\n",
       "4        5      586        586   критичный           1             блокер\n",
       "5        6      303        303     высокий           1       высокий риск\n",
       "6        7      283        283     средний           1  обратить внимание\n",
       "7        8      297        297     средний           0      все в порядке"
      ],
      "text/html": [
       "<div>\n",
       "<style scoped>\n",
       "    .dataframe tbody tr th:only-of-type {\n",
       "        vertical-align: middle;\n",
       "    }\n",
       "\n",
       "    .dataframe tbody tr th {\n",
       "        vertical-align: top;\n",
       "    }\n",
       "\n",
       "    .dataframe thead th {\n",
       "        text-align: right;\n",
       "    }\n",
       "</style>\n",
       "<table border=\"1\" class=\"dataframe\">\n",
       "  <thead>\n",
       "    <tr style=\"text-align: right;\">\n",
       "      <th></th>\n",
       "      <th>type_id</th>\n",
       "      <th>user_id</th>\n",
       "      <th>timestamp</th>\n",
       "      <th>alert_group</th>\n",
       "      <th>importance</th>\n",
       "      <th>importance_status</th>\n",
       "    </tr>\n",
       "  </thead>\n",
       "  <tbody>\n",
       "    <tr>\n",
       "      <th>0</th>\n",
       "      <td>1</td>\n",
       "      <td>311</td>\n",
       "      <td>311</td>\n",
       "      <td>высокий</td>\n",
       "      <td>1</td>\n",
       "      <td>высокий риск</td>\n",
       "    </tr>\n",
       "    <tr>\n",
       "      <th>1</th>\n",
       "      <td>2</td>\n",
       "      <td>302</td>\n",
       "      <td>302</td>\n",
       "      <td>высокий</td>\n",
       "      <td>0</td>\n",
       "      <td>все в порядке</td>\n",
       "    </tr>\n",
       "    <tr>\n",
       "      <th>2</th>\n",
       "      <td>3</td>\n",
       "      <td>606</td>\n",
       "      <td>606</td>\n",
       "      <td>критичный</td>\n",
       "      <td>0</td>\n",
       "      <td>все в порядке</td>\n",
       "    </tr>\n",
       "    <tr>\n",
       "      <th>3</th>\n",
       "      <td>4</td>\n",
       "      <td>312</td>\n",
       "      <td>312</td>\n",
       "      <td>высокий</td>\n",
       "      <td>1</td>\n",
       "      <td>высокий риск</td>\n",
       "    </tr>\n",
       "    <tr>\n",
       "      <th>4</th>\n",
       "      <td>5</td>\n",
       "      <td>586</td>\n",
       "      <td>586</td>\n",
       "      <td>критичный</td>\n",
       "      <td>1</td>\n",
       "      <td>блокер</td>\n",
       "    </tr>\n",
       "    <tr>\n",
       "      <th>5</th>\n",
       "      <td>6</td>\n",
       "      <td>303</td>\n",
       "      <td>303</td>\n",
       "      <td>высокий</td>\n",
       "      <td>1</td>\n",
       "      <td>высокий риск</td>\n",
       "    </tr>\n",
       "    <tr>\n",
       "      <th>6</th>\n",
       "      <td>7</td>\n",
       "      <td>283</td>\n",
       "      <td>283</td>\n",
       "      <td>средний</td>\n",
       "      <td>1</td>\n",
       "      <td>обратить внимание</td>\n",
       "    </tr>\n",
       "    <tr>\n",
       "      <th>7</th>\n",
       "      <td>8</td>\n",
       "      <td>297</td>\n",
       "      <td>297</td>\n",
       "      <td>средний</td>\n",
       "      <td>0</td>\n",
       "      <td>все в порядке</td>\n",
       "    </tr>\n",
       "  </tbody>\n",
       "</table>\n",
       "</div>"
      ]
     },
     "execution_count": 10,
     "metadata": {},
     "output_type": "execute_result"
    }
   ],
   "execution_count": 10
  },
  {
   "metadata": {
    "ExecuteTime": {
     "end_time": "2024-10-24T07:28:06.363276Z",
     "start_time": "2024-10-24T07:28:06.346983Z"
    }
   },
   "cell_type": "code",
   "source": "df['importance_status'].value_counts(dropna=False)",
   "id": "eaffb413b5e604ad",
   "outputs": [
    {
     "data": {
      "text/plain": [
       "importance_status\n",
       "высокий риск         3\n",
       "все в порядке        3\n",
       "блокер               1\n",
       "обратить внимание    1\n",
       "Name: count, dtype: int64"
      ]
     },
     "execution_count": 17,
     "metadata": {},
     "output_type": "execute_result"
    }
   ],
   "execution_count": 17
  }
 ],
 "metadata": {
  "kernelspec": {
   "display_name": "Python 3",
   "language": "python",
   "name": "python3"
  },
  "language_info": {
   "codemirror_mode": {
    "name": "ipython",
    "version": 2
   },
   "file_extension": ".py",
   "mimetype": "text/x-python",
   "name": "python",
   "nbconvert_exporter": "python",
   "pygments_lexer": "ipython2",
   "version": "2.7.6"
  }
 },
 "nbformat": 4,
 "nbformat_minor": 5
}
