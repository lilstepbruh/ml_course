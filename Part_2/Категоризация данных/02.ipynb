{
 "cells": [
  {
   "cell_type": "code",
   "id": "initial_id",
   "metadata": {
    "collapsed": true,
    "ExecuteTime": {
     "end_time": "2024-10-23T18:42:50.642918Z",
     "start_time": "2024-10-23T18:42:50.634421Z"
    }
   },
   "source": "import pandas as pd",
   "outputs": [],
   "execution_count": 2
  },
  {
   "metadata": {
    "ExecuteTime": {
     "end_time": "2024-10-23T19:17:13.862017Z",
     "start_time": "2024-10-23T19:17:13.847660Z"
    }
   },
   "cell_type": "code",
   "source": "data = pd.read_csv(r\"C:\\Users\\andre\\Рабочий стол\\Практикум\\Специалист по Data Science Плюс. Часть 2\\05 Категоризация данных\\02 work\\support.csv\")",
   "id": "2c959c78c99dfa57",
   "outputs": [],
   "execution_count": 4
  },
  {
   "metadata": {
    "ExecuteTime": {
     "end_time": "2024-10-23T19:17:21.331339Z",
     "start_time": "2024-10-23T19:17:21.313106Z"
    }
   },
   "cell_type": "code",
   "source": "data.head(10)",
   "id": "719b8656af4471a5",
   "outputs": [
    {
     "data": {
      "text/plain": [
       "    user_id                Тип обращения  type_id      Время обращения\n",
       "0  DNcd8dnS   Жалоба на товар в магазине        3  2019-03-28 13:58:24\n",
       "1  0e9MvwGs                Мошенничество        5  2019-03-08 17:11:59\n",
       "2  boyDUG4C                Мошенничество        5  2019-03-03 17:52:34\n",
       "3  5jMA27s1   Жалоба на товар в магазине        3  2019-03-16 15:18:21\n",
       "4  wvtyctOK             Накрутка отзывов        2  2019-03-13 14:43:14\n",
       "5  zvN8W1tc         Жалоба на видеообзор        8  2019-03-29 20:32:17\n",
       "6  bBmybSbr             Не работает сайт        1  2019-04-08 21:37:15\n",
       "7  5JX1P5G8  Продажа запрещенных товаров        6  2019-04-06 12:15:20\n",
       "8  pbbG3xWx             Не работает сайт        1  2019-04-09 17:30:43\n",
       "9  vZWtTovT   Жалоба на товар в магазине        3  2019-04-16 12:26:16"
      ],
      "text/html": [
       "<div>\n",
       "<style scoped>\n",
       "    .dataframe tbody tr th:only-of-type {\n",
       "        vertical-align: middle;\n",
       "    }\n",
       "\n",
       "    .dataframe tbody tr th {\n",
       "        vertical-align: top;\n",
       "    }\n",
       "\n",
       "    .dataframe thead th {\n",
       "        text-align: right;\n",
       "    }\n",
       "</style>\n",
       "<table border=\"1\" class=\"dataframe\">\n",
       "  <thead>\n",
       "    <tr style=\"text-align: right;\">\n",
       "      <th></th>\n",
       "      <th>user_id</th>\n",
       "      <th>Тип обращения</th>\n",
       "      <th>type_id</th>\n",
       "      <th>Время обращения</th>\n",
       "    </tr>\n",
       "  </thead>\n",
       "  <tbody>\n",
       "    <tr>\n",
       "      <th>0</th>\n",
       "      <td>DNcd8dnS</td>\n",
       "      <td>Жалоба на товар в магазине</td>\n",
       "      <td>3</td>\n",
       "      <td>2019-03-28 13:58:24</td>\n",
       "    </tr>\n",
       "    <tr>\n",
       "      <th>1</th>\n",
       "      <td>0e9MvwGs</td>\n",
       "      <td>Мошенничество</td>\n",
       "      <td>5</td>\n",
       "      <td>2019-03-08 17:11:59</td>\n",
       "    </tr>\n",
       "    <tr>\n",
       "      <th>2</th>\n",
       "      <td>boyDUG4C</td>\n",
       "      <td>Мошенничество</td>\n",
       "      <td>5</td>\n",
       "      <td>2019-03-03 17:52:34</td>\n",
       "    </tr>\n",
       "    <tr>\n",
       "      <th>3</th>\n",
       "      <td>5jMA27s1</td>\n",
       "      <td>Жалоба на товар в магазине</td>\n",
       "      <td>3</td>\n",
       "      <td>2019-03-16 15:18:21</td>\n",
       "    </tr>\n",
       "    <tr>\n",
       "      <th>4</th>\n",
       "      <td>wvtyctOK</td>\n",
       "      <td>Накрутка отзывов</td>\n",
       "      <td>2</td>\n",
       "      <td>2019-03-13 14:43:14</td>\n",
       "    </tr>\n",
       "    <tr>\n",
       "      <th>5</th>\n",
       "      <td>zvN8W1tc</td>\n",
       "      <td>Жалоба на видеообзор</td>\n",
       "      <td>8</td>\n",
       "      <td>2019-03-29 20:32:17</td>\n",
       "    </tr>\n",
       "    <tr>\n",
       "      <th>6</th>\n",
       "      <td>bBmybSbr</td>\n",
       "      <td>Не работает сайт</td>\n",
       "      <td>1</td>\n",
       "      <td>2019-04-08 21:37:15</td>\n",
       "    </tr>\n",
       "    <tr>\n",
       "      <th>7</th>\n",
       "      <td>5JX1P5G8</td>\n",
       "      <td>Продажа запрещенных товаров</td>\n",
       "      <td>6</td>\n",
       "      <td>2019-04-06 12:15:20</td>\n",
       "    </tr>\n",
       "    <tr>\n",
       "      <th>8</th>\n",
       "      <td>pbbG3xWx</td>\n",
       "      <td>Не работает сайт</td>\n",
       "      <td>1</td>\n",
       "      <td>2019-04-09 17:30:43</td>\n",
       "    </tr>\n",
       "    <tr>\n",
       "      <th>9</th>\n",
       "      <td>vZWtTovT</td>\n",
       "      <td>Жалоба на товар в магазине</td>\n",
       "      <td>3</td>\n",
       "      <td>2019-04-16 12:26:16</td>\n",
       "    </tr>\n",
       "  </tbody>\n",
       "</table>\n",
       "</div>"
      ]
     },
     "execution_count": 5,
     "metadata": {},
     "output_type": "execute_result"
    }
   ],
   "execution_count": 5
  },
  {
   "metadata": {
    "ExecuteTime": {
     "end_time": "2024-10-23T19:17:25.926515Z",
     "start_time": "2024-10-23T19:17:25.914945Z"
    }
   },
   "cell_type": "code",
   "source": "data.info()",
   "id": "fb321dc667aadc5d",
   "outputs": [
    {
     "name": "stdout",
     "output_type": "stream",
     "text": [
      "<class 'pandas.core.frame.DataFrame'>\n",
      "RangeIndex: 3000 entries, 0 to 2999\n",
      "Data columns (total 4 columns):\n",
      " #   Column           Non-Null Count  Dtype \n",
      "---  ------           --------------  ----- \n",
      " 0   user_id          3000 non-null   object\n",
      " 1   Тип обращения    3000 non-null   object\n",
      " 2   type_id          3000 non-null   int64 \n",
      " 3   Время обращения  3000 non-null   object\n",
      "dtypes: int64(1), object(3)\n",
      "memory usage: 93.9+ KB\n"
     ]
    }
   ],
   "execution_count": 6
  },
  {
   "metadata": {
    "ExecuteTime": {
     "end_time": "2024-10-23T19:17:34.391003Z",
     "start_time": "2024-10-23T19:17:34.384623Z"
    }
   },
   "cell_type": "code",
   "source": "data.columns",
   "id": "9c7ab09bb649a9ce",
   "outputs": [
    {
     "data": {
      "text/plain": [
       "Index(['user_id', 'Тип обращения', 'type_id', 'Время обращения'], dtype='object')"
      ]
     },
     "execution_count": 7,
     "metadata": {},
     "output_type": "execute_result"
    }
   ],
   "execution_count": 7
  },
  {
   "metadata": {
    "ExecuteTime": {
     "end_time": "2024-10-23T19:24:55.314642Z",
     "start_time": "2024-10-23T19:24:55.306172Z"
    }
   },
   "cell_type": "code",
   "source": [
    "data = data.rename(columns={\"Тип обращения\": \"type_message\", \"Время обращения\":\"timestamp\"})\n",
    "data.columns"
   ],
   "id": "17dfb9277f29c5ab",
   "outputs": [
    {
     "data": {
      "text/plain": [
       "Index(['user_id', 'type_message', 'type_id', 'timestamp'], dtype='object')"
      ]
     },
     "execution_count": 8,
     "metadata": {},
     "output_type": "execute_result"
    }
   ],
   "execution_count": 8
  }
 ],
 "metadata": {
  "kernelspec": {
   "display_name": "Python 3",
   "language": "python",
   "name": "python3"
  },
  "language_info": {
   "codemirror_mode": {
    "name": "ipython",
    "version": 2
   },
   "file_extension": ".py",
   "mimetype": "text/x-python",
   "name": "python",
   "nbconvert_exporter": "python",
   "pygments_lexer": "ipython2",
   "version": "2.7.6"
  }
 },
 "nbformat": 4,
 "nbformat_minor": 5
}
