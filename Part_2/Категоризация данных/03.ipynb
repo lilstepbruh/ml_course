{
 "cells": [
  {
   "cell_type": "code",
   "id": "initial_id",
   "metadata": {
    "collapsed": true,
    "ExecuteTime": {
     "end_time": "2024-10-24T06:38:22.391034Z",
     "start_time": "2024-10-24T06:38:19.634954Z"
    }
   },
   "source": "import pandas as pd",
   "outputs": [],
   "execution_count": 1
  },
  {
   "metadata": {
    "ExecuteTime": {
     "end_time": "2024-10-24T06:38:53.639031Z",
     "start_time": "2024-10-24T06:38:53.566511Z"
    }
   },
   "cell_type": "code",
   "source": [
    "data = pd.read_csv(r\"C:\\Users\\andre\\Рабочий стол\\Практикум\\Специалист по Data Science Плюс. Часть 2\\05 Категоризация данных\\03 work\\support_upd.csv\")\n",
    "data.head()"
   ],
   "id": "462949e52c94c220",
   "outputs": [
    {
     "data": {
      "text/plain": [
       "    user_id                type_message  type_id            timestamp\n",
       "0  DNcd8dnS  Жалоба на товар в магазине        3  2019-03-28 13:58:24\n",
       "1  0e9MvwGs               Мошенничество        5  2019-03-08 17:11:59\n",
       "2  boyDUG4C               Мошенничество        5  2019-03-03 17:52:34\n",
       "3  5jMA27s1  Жалоба на товар в магазине        3  2019-03-16 15:18:21\n",
       "4  wvtyctOK            Накрутка отзывов        2  2019-03-13 14:43:14"
      ],
      "text/html": [
       "<div>\n",
       "<style scoped>\n",
       "    .dataframe tbody tr th:only-of-type {\n",
       "        vertical-align: middle;\n",
       "    }\n",
       "\n",
       "    .dataframe tbody tr th {\n",
       "        vertical-align: top;\n",
       "    }\n",
       "\n",
       "    .dataframe thead th {\n",
       "        text-align: right;\n",
       "    }\n",
       "</style>\n",
       "<table border=\"1\" class=\"dataframe\">\n",
       "  <thead>\n",
       "    <tr style=\"text-align: right;\">\n",
       "      <th></th>\n",
       "      <th>user_id</th>\n",
       "      <th>type_message</th>\n",
       "      <th>type_id</th>\n",
       "      <th>timestamp</th>\n",
       "    </tr>\n",
       "  </thead>\n",
       "  <tbody>\n",
       "    <tr>\n",
       "      <th>0</th>\n",
       "      <td>DNcd8dnS</td>\n",
       "      <td>Жалоба на товар в магазине</td>\n",
       "      <td>3</td>\n",
       "      <td>2019-03-28 13:58:24</td>\n",
       "    </tr>\n",
       "    <tr>\n",
       "      <th>1</th>\n",
       "      <td>0e9MvwGs</td>\n",
       "      <td>Мошенничество</td>\n",
       "      <td>5</td>\n",
       "      <td>2019-03-08 17:11:59</td>\n",
       "    </tr>\n",
       "    <tr>\n",
       "      <th>2</th>\n",
       "      <td>boyDUG4C</td>\n",
       "      <td>Мошенничество</td>\n",
       "      <td>5</td>\n",
       "      <td>2019-03-03 17:52:34</td>\n",
       "    </tr>\n",
       "    <tr>\n",
       "      <th>3</th>\n",
       "      <td>5jMA27s1</td>\n",
       "      <td>Жалоба на товар в магазине</td>\n",
       "      <td>3</td>\n",
       "      <td>2019-03-16 15:18:21</td>\n",
       "    </tr>\n",
       "    <tr>\n",
       "      <th>4</th>\n",
       "      <td>wvtyctOK</td>\n",
       "      <td>Накрутка отзывов</td>\n",
       "      <td>2</td>\n",
       "      <td>2019-03-13 14:43:14</td>\n",
       "    </tr>\n",
       "  </tbody>\n",
       "</table>\n",
       "</div>"
      ]
     },
     "execution_count": 2,
     "metadata": {},
     "output_type": "execute_result"
    }
   ],
   "execution_count": 2
  },
  {
   "metadata": {
    "ExecuteTime": {
     "end_time": "2024-10-24T06:39:15.239915Z",
     "start_time": "2024-10-24T06:39:15.225384Z"
    }
   },
   "cell_type": "code",
   "source": "data['type_message'].value_counts()",
   "id": "db7667491adc2bff",
   "outputs": [
    {
     "data": {
      "text/plain": [
       "type_message\n",
       "Жалоба на товар в магазине      606\n",
       "Мошенничество                   586\n",
       "Продажа поддельной продукции    312\n",
       "Не работает сайт                311\n",
       "Продажа запрещенных товаров     303\n",
       "Накрутка отзывов                302\n",
       "Жалоба на видеообзор            297\n",
       "Отзыв удалён                    283\n",
       "Name: count, dtype: int64"
      ]
     },
     "execution_count": 3,
     "metadata": {},
     "output_type": "execute_result"
    }
   ],
   "execution_count": 3
  },
  {
   "metadata": {
    "ExecuteTime": {
     "end_time": "2024-10-24T06:41:18.079214Z",
     "start_time": "2024-10-24T06:41:18.050222Z"
    }
   },
   "cell_type": "code",
   "source": [
    "support_log = data.loc[:,['user_id','type_message','timestamp']]\n",
    "support_log.head()"
   ],
   "id": "153cacfc59395941",
   "outputs": [
    {
     "data": {
      "text/plain": [
       "    user_id                type_message            timestamp\n",
       "0  DNcd8dnS  Жалоба на товар в магазине  2019-03-28 13:58:24\n",
       "1  0e9MvwGs               Мошенничество  2019-03-08 17:11:59\n",
       "2  boyDUG4C               Мошенничество  2019-03-03 17:52:34\n",
       "3  5jMA27s1  Жалоба на товар в магазине  2019-03-16 15:18:21\n",
       "4  wvtyctOK            Накрутка отзывов  2019-03-13 14:43:14"
      ],
      "text/html": [
       "<div>\n",
       "<style scoped>\n",
       "    .dataframe tbody tr th:only-of-type {\n",
       "        vertical-align: middle;\n",
       "    }\n",
       "\n",
       "    .dataframe tbody tr th {\n",
       "        vertical-align: top;\n",
       "    }\n",
       "\n",
       "    .dataframe thead th {\n",
       "        text-align: right;\n",
       "    }\n",
       "</style>\n",
       "<table border=\"1\" class=\"dataframe\">\n",
       "  <thead>\n",
       "    <tr style=\"text-align: right;\">\n",
       "      <th></th>\n",
       "      <th>user_id</th>\n",
       "      <th>type_message</th>\n",
       "      <th>timestamp</th>\n",
       "    </tr>\n",
       "  </thead>\n",
       "  <tbody>\n",
       "    <tr>\n",
       "      <th>0</th>\n",
       "      <td>DNcd8dnS</td>\n",
       "      <td>Жалоба на товар в магазине</td>\n",
       "      <td>2019-03-28 13:58:24</td>\n",
       "    </tr>\n",
       "    <tr>\n",
       "      <th>1</th>\n",
       "      <td>0e9MvwGs</td>\n",
       "      <td>Мошенничество</td>\n",
       "      <td>2019-03-08 17:11:59</td>\n",
       "    </tr>\n",
       "    <tr>\n",
       "      <th>2</th>\n",
       "      <td>boyDUG4C</td>\n",
       "      <td>Мошенничество</td>\n",
       "      <td>2019-03-03 17:52:34</td>\n",
       "    </tr>\n",
       "    <tr>\n",
       "      <th>3</th>\n",
       "      <td>5jMA27s1</td>\n",
       "      <td>Жалоба на товар в магазине</td>\n",
       "      <td>2019-03-16 15:18:21</td>\n",
       "    </tr>\n",
       "    <tr>\n",
       "      <th>4</th>\n",
       "      <td>wvtyctOK</td>\n",
       "      <td>Накрутка отзывов</td>\n",
       "      <td>2019-03-13 14:43:14</td>\n",
       "    </tr>\n",
       "  </tbody>\n",
       "</table>\n",
       "</div>"
      ]
     },
     "execution_count": 6,
     "metadata": {},
     "output_type": "execute_result"
    }
   ],
   "execution_count": 6
  },
  {
   "metadata": {
    "ExecuteTime": {
     "end_time": "2024-10-24T06:41:54.045053Z",
     "start_time": "2024-10-24T06:41:54.029202Z"
    }
   },
   "cell_type": "code",
   "source": [
    "support_dict = data.loc[:,['type_message','type_id']]\n",
    "support_dict.head()"
   ],
   "id": "addbb885f14bd299",
   "outputs": [
    {
     "data": {
      "text/plain": [
       "                 type_message  type_id\n",
       "0  Жалоба на товар в магазине        3\n",
       "1               Мошенничество        5\n",
       "2               Мошенничество        5\n",
       "3  Жалоба на товар в магазине        3\n",
       "4            Накрутка отзывов        2"
      ],
      "text/html": [
       "<div>\n",
       "<style scoped>\n",
       "    .dataframe tbody tr th:only-of-type {\n",
       "        vertical-align: middle;\n",
       "    }\n",
       "\n",
       "    .dataframe tbody tr th {\n",
       "        vertical-align: top;\n",
       "    }\n",
       "\n",
       "    .dataframe thead th {\n",
       "        text-align: right;\n",
       "    }\n",
       "</style>\n",
       "<table border=\"1\" class=\"dataframe\">\n",
       "  <thead>\n",
       "    <tr style=\"text-align: right;\">\n",
       "      <th></th>\n",
       "      <th>type_message</th>\n",
       "      <th>type_id</th>\n",
       "    </tr>\n",
       "  </thead>\n",
       "  <tbody>\n",
       "    <tr>\n",
       "      <th>0</th>\n",
       "      <td>Жалоба на товар в магазине</td>\n",
       "      <td>3</td>\n",
       "    </tr>\n",
       "    <tr>\n",
       "      <th>1</th>\n",
       "      <td>Мошенничество</td>\n",
       "      <td>5</td>\n",
       "    </tr>\n",
       "    <tr>\n",
       "      <th>2</th>\n",
       "      <td>Мошенничество</td>\n",
       "      <td>5</td>\n",
       "    </tr>\n",
       "    <tr>\n",
       "      <th>3</th>\n",
       "      <td>Жалоба на товар в магазине</td>\n",
       "      <td>3</td>\n",
       "    </tr>\n",
       "    <tr>\n",
       "      <th>4</th>\n",
       "      <td>Накрутка отзывов</td>\n",
       "      <td>2</td>\n",
       "    </tr>\n",
       "  </tbody>\n",
       "</table>\n",
       "</div>"
      ]
     },
     "execution_count": 7,
     "metadata": {},
     "output_type": "execute_result"
    }
   ],
   "execution_count": 7
  },
  {
   "metadata": {
    "ExecuteTime": {
     "end_time": "2024-10-24T06:45:26.211415Z",
     "start_time": "2024-10-24T06:45:26.185170Z"
    }
   },
   "cell_type": "code",
   "source": [
    "support_dict = support_dict.drop_duplicates().reset_index(drop=True)\n",
    "support_dict.sort_values(by=['type_id'],ascending=True)\n"
   ],
   "id": "258a314b42fd564c",
   "outputs": [
    {
     "data": {
      "text/plain": [
       "                   type_message  type_id\n",
       "4              Не работает сайт        1\n",
       "2              Накрутка отзывов        2\n",
       "0    Жалоба на товар в магазине        3\n",
       "6  Продажа поддельной продукции        4\n",
       "1                 Мошенничество        5\n",
       "5   Продажа запрещенных товаров        6\n",
       "7                  Отзыв удалён        7\n",
       "3          Жалоба на видеообзор        8"
      ],
      "text/html": [
       "<div>\n",
       "<style scoped>\n",
       "    .dataframe tbody tr th:only-of-type {\n",
       "        vertical-align: middle;\n",
       "    }\n",
       "\n",
       "    .dataframe tbody tr th {\n",
       "        vertical-align: top;\n",
       "    }\n",
       "\n",
       "    .dataframe thead th {\n",
       "        text-align: right;\n",
       "    }\n",
       "</style>\n",
       "<table border=\"1\" class=\"dataframe\">\n",
       "  <thead>\n",
       "    <tr style=\"text-align: right;\">\n",
       "      <th></th>\n",
       "      <th>type_message</th>\n",
       "      <th>type_id</th>\n",
       "    </tr>\n",
       "  </thead>\n",
       "  <tbody>\n",
       "    <tr>\n",
       "      <th>4</th>\n",
       "      <td>Не работает сайт</td>\n",
       "      <td>1</td>\n",
       "    </tr>\n",
       "    <tr>\n",
       "      <th>2</th>\n",
       "      <td>Накрутка отзывов</td>\n",
       "      <td>2</td>\n",
       "    </tr>\n",
       "    <tr>\n",
       "      <th>0</th>\n",
       "      <td>Жалоба на товар в магазине</td>\n",
       "      <td>3</td>\n",
       "    </tr>\n",
       "    <tr>\n",
       "      <th>6</th>\n",
       "      <td>Продажа поддельной продукции</td>\n",
       "      <td>4</td>\n",
       "    </tr>\n",
       "    <tr>\n",
       "      <th>1</th>\n",
       "      <td>Мошенничество</td>\n",
       "      <td>5</td>\n",
       "    </tr>\n",
       "    <tr>\n",
       "      <th>5</th>\n",
       "      <td>Продажа запрещенных товаров</td>\n",
       "      <td>6</td>\n",
       "    </tr>\n",
       "    <tr>\n",
       "      <th>7</th>\n",
       "      <td>Отзыв удалён</td>\n",
       "      <td>7</td>\n",
       "    </tr>\n",
       "    <tr>\n",
       "      <th>3</th>\n",
       "      <td>Жалоба на видеообзор</td>\n",
       "      <td>8</td>\n",
       "    </tr>\n",
       "  </tbody>\n",
       "</table>\n",
       "</div>"
      ]
     },
     "execution_count": 13,
     "metadata": {},
     "output_type": "execute_result"
    }
   ],
   "execution_count": 13
  }
 ],
 "metadata": {
  "kernelspec": {
   "display_name": "Python 3",
   "language": "python",
   "name": "python3"
  },
  "language_info": {
   "codemirror_mode": {
    "name": "ipython",
    "version": 2
   },
   "file_extension": ".py",
   "mimetype": "text/x-python",
   "name": "python",
   "nbconvert_exporter": "python",
   "pygments_lexer": "ipython2",
   "version": "2.7.6"
  }
 },
 "nbformat": 4,
 "nbformat_minor": 5
}
