{
 "cells": [
  {
   "cell_type": "code",
   "id": "initial_id",
   "metadata": {
    "collapsed": true,
    "ExecuteTime": {
     "end_time": "2024-10-23T11:22:42.871014Z",
     "start_time": "2024-10-23T11:22:41.746031Z"
    }
   },
   "source": [
    "import pandas as pd\n",
    "from sqlalchemy.dialects.postgresql import array\n",
    "from sympy.codegen.ast import continue_"
   ],
   "outputs": [],
   "execution_count": 1
  },
  {
   "metadata": {
    "ExecuteTime": {
     "end_time": "2024-10-23T11:25:12.094791Z",
     "start_time": "2024-10-23T11:25:12.084006Z"
    }
   },
   "cell_type": "code",
   "source": [
    "position = [\n",
    "\n",
    "    ['2data9-05-data', '6'],\n",
    "    ['2data9-05-Векторы и векторные операции', '5'],\n",
    "    ['2data9-05-03', '5'],\n",
    "    ['2data9-05-04', '4'],\n",
    "    ['2data9-05-05', '5'],\n",
    "    ['2data9-05-06', '5'],    \n",
    "    ['2data9-05-07', '4'],\n",
    "    ['2data9-05-08', '4'],\n",
    "    ['2data9-05-09', '3'],\n",
    "    ['2data9-05-10', '3'],\n",
    "]\n",
    "\n",
    "count_lines = 0\n",
    "\n",
    "for row in position:\n",
    "    count_lines+=1\n",
    "count_lines"
   ],
   "id": "cbc50f38917cd89f",
   "outputs": [
    {
     "data": {
      "text/plain": [
       "10"
      ]
     },
     "execution_count": 2,
     "metadata": {},
     "output_type": "execute_result"
    }
   ],
   "execution_count": 2
  },
  {
   "metadata": {
    "ExecuteTime": {
     "end_time": "2024-10-23T11:51:32.424913Z",
     "start_time": "2024-10-23T11:51:32.419720Z"
    }
   },
   "cell_type": "code",
   "source": [
    "def mn(arr: list):\n",
    "    count_lines = 0\n",
    "    wrong_rows = []\n",
    "    s = 0\n",
    "    for i in range(len(arr)):\n",
    "        try:\n",
    "            s += int(arr[i][1])\n",
    "        except:\n",
    "            count_lines += 1\n",
    "            wrong_rows.append(arr[i])\n",
    "\n",
    "    print(f'Total rows count: {len(arr)}')\n",
    "    print(f'Wrong rows count : {count_lines}')\n",
    "    print(f'Wrong rows: {wrong_rows}')\n",
    "    return s / (len(arr) - count_lines)"
   ],
   "id": "9883bea485dfe9c2",
   "outputs": [],
   "execution_count": 37
  },
  {
   "metadata": {
    "ExecuteTime": {
     "end_time": "2024-10-23T11:51:34.907341Z",
     "start_time": "2024-10-23T11:51:34.898268Z"
    }
   },
   "cell_type": "code",
   "source": [
    "position = [\n",
    "    ['2019-05-01', '- 6'],\n",
    "    ['2019-05-Векторы и векторные операции', '+5'],\n",
    "    ['2019-05-data', ' 5'],\n",
    "    ['2019-05-04', '4'],\n",
    "    ['2019-05-05', '5'],\n",
    "    ['2019-05-06', '5'],\n",
    "    ['2019-05-07', '4'],\n",
    "    ['2019-05-08', 'Error 5'],\n",
    "    ['2019-05-09', '3'],\n",
    "    ['2019-05-10', '3'],\n",
    "]\n",
    "\n",
    "mn(position)\n",
    "\n",
    "    "
   ],
   "id": "38746e37b7851e54",
   "outputs": [
    {
     "name": "stdout",
     "output_type": "stream",
     "text": [
      "Total rows count: 10\n",
      "Wrong rows count : 2\n",
      "Wrong rows: [['2019-05-01', '- 6'], ['2019-05-08', 'Error 5']]\n"
     ]
    },
    {
     "data": {
      "text/plain": [
       "4.25"
      ]
     },
     "execution_count": 38,
     "metadata": {},
     "output_type": "execute_result"
    }
   ],
   "execution_count": 38
  }
 ],
 "metadata": {
  "kernelspec": {
   "display_name": "Python 3",
   "language": "python",
   "name": "python3"
  },
  "language_info": {
   "codemirror_mode": {
    "name": "ipython",
    "version": 2
   },
   "file_extension": ".py",
   "mimetype": "text/x-python",
   "name": "python",
   "nbconvert_exporter": "python",
   "pygments_lexer": "ipython2",
   "version": "2.7.6"
  }
 },
 "nbformat": 4,
 "nbformat_minor": 5
}
