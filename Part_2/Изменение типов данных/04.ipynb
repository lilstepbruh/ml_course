{
 "cells": [
  {
   "cell_type": "code",
   "id": "initial_id",
   "metadata": {
    "collapsed": true,
    "ExecuteTime": {
     "end_time": "2024-10-22T21:58:36.270728Z",
     "start_time": "2024-10-22T21:58:36.265315Z"
    }
   },
   "source": "import pandas as pd",
   "outputs": [],
   "execution_count": 2
  },
  {
   "metadata": {
    "ExecuteTime": {
     "end_time": "2024-10-22T21:59:23.311104Z",
     "start_time": "2024-10-22T21:59:23.033775Z"
    }
   },
   "cell_type": "code",
   "source": [
    "df = pd.read_excel(r\"C:\\Users\\andre\\Рабочий стол\\Практикум\\Специалист по Data Science Плюс. Часть 2\\03 Изменение типов данных\\04 work\\ids.xlsx\")\n",
    "df.head()"
   ],
   "id": "7f8f53302c0df768",
   "outputs": [
    {
     "data": {
      "text/plain": [
       "             id category    amount\n",
       "0  600748331392        C  17515.36\n",
       "1  600748331404        B  10117.56\n",
       "2  600748331412        B  18489.26\n",
       "3  600748331430        B   6620.22\n",
       "4  600748331447        C    7559.9"
      ],
      "text/html": [
       "<div>\n",
       "<style scoped>\n",
       "    .dataframe tbody tr th:only-of-type {\n",
       "        vertical-align: middle;\n",
       "    }\n",
       "\n",
       "    .dataframe tbody tr th {\n",
       "        vertical-align: top;\n",
       "    }\n",
       "\n",
       "    .dataframe thead th {\n",
       "        text-align: right;\n",
       "    }\n",
       "</style>\n",
       "<table border=\"1\" class=\"dataframe\">\n",
       "  <thead>\n",
       "    <tr style=\"text-align: right;\">\n",
       "      <th></th>\n",
       "      <th>id</th>\n",
       "      <th>category</th>\n",
       "      <th>amount</th>\n",
       "    </tr>\n",
       "  </thead>\n",
       "  <tbody>\n",
       "    <tr>\n",
       "      <th>0</th>\n",
       "      <td>600748331392</td>\n",
       "      <td>C</td>\n",
       "      <td>17515.36</td>\n",
       "    </tr>\n",
       "    <tr>\n",
       "      <th>1</th>\n",
       "      <td>600748331404</td>\n",
       "      <td>B</td>\n",
       "      <td>10117.56</td>\n",
       "    </tr>\n",
       "    <tr>\n",
       "      <th>2</th>\n",
       "      <td>600748331412</td>\n",
       "      <td>B</td>\n",
       "      <td>18489.26</td>\n",
       "    </tr>\n",
       "    <tr>\n",
       "      <th>3</th>\n",
       "      <td>600748331430</td>\n",
       "      <td>B</td>\n",
       "      <td>6620.22</td>\n",
       "    </tr>\n",
       "    <tr>\n",
       "      <th>4</th>\n",
       "      <td>600748331447</td>\n",
       "      <td>C</td>\n",
       "      <td>7559.9</td>\n",
       "    </tr>\n",
       "  </tbody>\n",
       "</table>\n",
       "</div>"
      ]
     },
     "execution_count": 3,
     "metadata": {},
     "output_type": "execute_result"
    }
   ],
   "execution_count": 3
  },
  {
   "metadata": {
    "ExecuteTime": {
     "end_time": "2024-10-22T22:00:45.225015Z",
     "start_time": "2024-10-22T22:00:45.219272Z"
    }
   },
   "cell_type": "code",
   "source": "df['id'] = pd.to_numeric(df['id'])",
   "id": "658140416a1f5621",
   "outputs": [],
   "execution_count": 7
  },
  {
   "metadata": {
    "ExecuteTime": {
     "end_time": "2024-10-22T22:01:14.242133Z",
     "start_time": "2024-10-22T22:01:14.231023Z"
    }
   },
   "cell_type": "code",
   "source": "df.tail()",
   "id": "5889c8ce77961a82",
   "outputs": [
    {
     "data": {
      "text/plain": [
       "              id category    amount\n",
       "44  6.007483e+11        A   8958.23\n",
       "45  6.007483e+11        C   12771.1\n",
       "46  6.007483e+11        E   9630.56\n",
       "47  6.007483e+11     Null      Null\n",
       "48           NaN        A  14327.22"
      ],
      "text/html": [
       "<div>\n",
       "<style scoped>\n",
       "    .dataframe tbody tr th:only-of-type {\n",
       "        vertical-align: middle;\n",
       "    }\n",
       "\n",
       "    .dataframe tbody tr th {\n",
       "        vertical-align: top;\n",
       "    }\n",
       "\n",
       "    .dataframe thead th {\n",
       "        text-align: right;\n",
       "    }\n",
       "</style>\n",
       "<table border=\"1\" class=\"dataframe\">\n",
       "  <thead>\n",
       "    <tr style=\"text-align: right;\">\n",
       "      <th></th>\n",
       "      <th>id</th>\n",
       "      <th>category</th>\n",
       "      <th>amount</th>\n",
       "    </tr>\n",
       "  </thead>\n",
       "  <tbody>\n",
       "    <tr>\n",
       "      <th>44</th>\n",
       "      <td>6.007483e+11</td>\n",
       "      <td>A</td>\n",
       "      <td>8958.23</td>\n",
       "    </tr>\n",
       "    <tr>\n",
       "      <th>45</th>\n",
       "      <td>6.007483e+11</td>\n",
       "      <td>C</td>\n",
       "      <td>12771.1</td>\n",
       "    </tr>\n",
       "    <tr>\n",
       "      <th>46</th>\n",
       "      <td>6.007483e+11</td>\n",
       "      <td>E</td>\n",
       "      <td>9630.56</td>\n",
       "    </tr>\n",
       "    <tr>\n",
       "      <th>47</th>\n",
       "      <td>6.007483e+11</td>\n",
       "      <td>Null</td>\n",
       "      <td>Null</td>\n",
       "    </tr>\n",
       "    <tr>\n",
       "      <th>48</th>\n",
       "      <td>NaN</td>\n",
       "      <td>A</td>\n",
       "      <td>14327.22</td>\n",
       "    </tr>\n",
       "  </tbody>\n",
       "</table>\n",
       "</div>"
      ]
     },
     "execution_count": 9,
     "metadata": {},
     "output_type": "execute_result"
    }
   ],
   "execution_count": 9
  },
  {
   "metadata": {
    "ExecuteTime": {
     "end_time": "2024-10-22T22:01:32.761938Z",
     "start_time": "2024-10-22T22:01:32.748609Z"
    }
   },
   "cell_type": "code",
   "source": "df.info()",
   "id": "cb7f724b6838139",
   "outputs": [
    {
     "name": "stdout",
     "output_type": "stream",
     "text": [
      "<class 'pandas.core.frame.DataFrame'>\n",
      "RangeIndex: 49 entries, 0 to 48\n",
      "Data columns (total 3 columns):\n",
      " #   Column    Non-Null Count  Dtype  \n",
      "---  ------    --------------  -----  \n",
      " 0   id        48 non-null     float64\n",
      " 1   category  49 non-null     object \n",
      " 2   amount    49 non-null     object \n",
      "dtypes: float64(1), object(2)\n",
      "memory usage: 1.3+ KB\n"
     ]
    }
   ],
   "execution_count": 10
  },
  {
   "metadata": {
    "ExecuteTime": {
     "end_time": "2024-10-22T22:02:42.559441Z",
     "start_time": "2024-10-22T22:02:42.554572Z"
    }
   },
   "cell_type": "code",
   "source": "df['amount'] = pd.to_numeric(df['amount'], errors='coerce')",
   "id": "27227c9378902be8",
   "outputs": [],
   "execution_count": 12
  },
  {
   "metadata": {
    "ExecuteTime": {
     "end_time": "2024-10-22T22:02:59.379789Z",
     "start_time": "2024-10-22T22:02:59.372529Z"
    }
   },
   "cell_type": "code",
   "source": "df['amount'].sum()",
   "id": "999b9d070e0ecee8",
   "outputs": [
    {
     "data": {
      "text/plain": [
       "596107.1"
      ]
     },
     "execution_count": 13,
     "metadata": {},
     "output_type": "execute_result"
    }
   ],
   "execution_count": 13
  },
  {
   "metadata": {},
   "cell_type": "code",
   "outputs": [],
   "execution_count": null,
   "source": "",
   "id": "449f8ff1aa0c3b7c"
  },
  {
   "metadata": {
    "ExecuteTime": {
     "end_time": "2024-10-22T22:04:24.671526Z",
     "start_time": "2024-10-22T22:04:24.661606Z"
    }
   },
   "cell_type": "code",
   "source": "df.groupby(by='category')['amount'].sum()",
   "id": "dbc0451d0929c323",
   "outputs": [
    {
     "data": {
      "text/plain": [
       "category\n",
       "A       133988.50\n",
       "B       168617.89\n",
       "C       173332.50\n",
       "D        62630.82\n",
       "E        57537.39\n",
       "Null         0.00\n",
       "Name: amount, dtype: float64"
      ]
     },
     "execution_count": 15,
     "metadata": {},
     "output_type": "execute_result"
    }
   ],
   "execution_count": 15
  },
  {
   "metadata": {
    "ExecuteTime": {
     "end_time": "2024-10-22T22:17:09.628752Z",
     "start_time": "2024-10-22T22:17:09.489066Z"
    }
   },
   "cell_type": "code",
   "source": [
    "data = pd.read_excel(r\"C:\\Users\\andre\\Рабочий стол\\Практикум\\Специалист по Data Science Плюс. Часть 2\\03 Изменение типов данных\\02 work\\seo_data.xlsx\", sheet_name='traffic_data')\n",
    "data.head(3)"
   ],
   "id": "4020a7f218311a6a",
   "outputs": [
    {
     "data": {
      "text/plain": [
       "  subcategory_id  source         visits\n",
       "0     cf2e61c7af  direct  501165.668858\n",
       "1     0cd903d1cc  direct  126342.359505\n",
       "2     ef35bc88a7  direct   95626.321402"
      ],
      "text/html": [
       "<div>\n",
       "<style scoped>\n",
       "    .dataframe tbody tr th:only-of-type {\n",
       "        vertical-align: middle;\n",
       "    }\n",
       "\n",
       "    .dataframe tbody tr th {\n",
       "        vertical-align: top;\n",
       "    }\n",
       "\n",
       "    .dataframe thead th {\n",
       "        text-align: right;\n",
       "    }\n",
       "</style>\n",
       "<table border=\"1\" class=\"dataframe\">\n",
       "  <thead>\n",
       "    <tr style=\"text-align: right;\">\n",
       "      <th></th>\n",
       "      <th>subcategory_id</th>\n",
       "      <th>source</th>\n",
       "      <th>visits</th>\n",
       "    </tr>\n",
       "  </thead>\n",
       "  <tbody>\n",
       "    <tr>\n",
       "      <th>0</th>\n",
       "      <td>cf2e61c7af</td>\n",
       "      <td>direct</td>\n",
       "      <td>501165.668858</td>\n",
       "    </tr>\n",
       "    <tr>\n",
       "      <th>1</th>\n",
       "      <td>0cd903d1cc</td>\n",
       "      <td>direct</td>\n",
       "      <td>126342.359505</td>\n",
       "    </tr>\n",
       "    <tr>\n",
       "      <th>2</th>\n",
       "      <td>ef35bc88a7</td>\n",
       "      <td>direct</td>\n",
       "      <td>95626.321402</td>\n",
       "    </tr>\n",
       "  </tbody>\n",
       "</table>\n",
       "</div>"
      ]
     },
     "execution_count": 42,
     "metadata": {},
     "output_type": "execute_result"
    }
   ],
   "execution_count": 42
  },
  {
   "metadata": {
    "ExecuteTime": {
     "end_time": "2024-10-22T22:18:08.578463Z",
     "start_time": "2024-10-22T22:18:08.568015Z"
    }
   },
   "cell_type": "code",
   "source": [
    "data['visits'] = pd.to_numeric(data['visits'], errors='coerce')\n",
    "data.info()"
   ],
   "id": "ac032a90566cc667",
   "outputs": [
    {
     "name": "stdout",
     "output_type": "stream",
     "text": [
      "<class 'pandas.core.frame.DataFrame'>\n",
      "RangeIndex: 1930 entries, 0 to 1929\n",
      "Data columns (total 3 columns):\n",
      " #   Column          Non-Null Count  Dtype  \n",
      "---  ------          --------------  -----  \n",
      " 0   subcategory_id  1930 non-null   object \n",
      " 1   source          1930 non-null   object \n",
      " 2   visits          1928 non-null   float64\n",
      "dtypes: float64(1), object(2)\n",
      "memory usage: 45.4+ KB\n"
     ]
    }
   ],
   "execution_count": 47
  },
  {
   "metadata": {
    "ExecuteTime": {
     "end_time": "2024-10-22T22:18:09.430321Z",
     "start_time": "2024-10-22T22:18:09.422804Z"
    }
   },
   "cell_type": "code",
   "source": "data.loc[964]",
   "id": "11d9e64ff5b9bbcb",
   "outputs": [
    {
     "data": {
      "text/plain": [
       "subcategory_id     total\n",
       "source            direct\n",
       "visits               NaN\n",
       "Name: 964, dtype: object"
      ]
     },
     "execution_count": 48,
     "metadata": {},
     "output_type": "execute_result"
    }
   ],
   "execution_count": 48
  },
  {
   "metadata": {
    "ExecuteTime": {
     "end_time": "2024-10-22T22:18:10.620210Z",
     "start_time": "2024-10-22T22:18:10.613119Z"
    }
   },
   "cell_type": "code",
   "source": "len(data)",
   "id": "c66c21b0a78c4e3",
   "outputs": [
    {
     "data": {
      "text/plain": [
       "1930"
      ]
     },
     "execution_count": 49,
     "metadata": {},
     "output_type": "execute_result"
    }
   ],
   "execution_count": 49
  },
  {
   "metadata": {
    "ExecuteTime": {
     "end_time": "2024-10-22T22:18:12.692409Z",
     "start_time": "2024-10-22T22:18:12.681720Z"
    }
   },
   "cell_type": "code",
   "source": "data[data['subcategory_id'] == 'total']",
   "id": "9ffed187b491ccbd",
   "outputs": [
    {
     "data": {
      "text/plain": [
       "     subcategory_id   source  visits\n",
       "964           total   direct     NaN\n",
       "1929          total  organic     NaN"
      ],
      "text/html": [
       "<div>\n",
       "<style scoped>\n",
       "    .dataframe tbody tr th:only-of-type {\n",
       "        vertical-align: middle;\n",
       "    }\n",
       "\n",
       "    .dataframe tbody tr th {\n",
       "        vertical-align: top;\n",
       "    }\n",
       "\n",
       "    .dataframe thead th {\n",
       "        text-align: right;\n",
       "    }\n",
       "</style>\n",
       "<table border=\"1\" class=\"dataframe\">\n",
       "  <thead>\n",
       "    <tr style=\"text-align: right;\">\n",
       "      <th></th>\n",
       "      <th>subcategory_id</th>\n",
       "      <th>source</th>\n",
       "      <th>visits</th>\n",
       "    </tr>\n",
       "  </thead>\n",
       "  <tbody>\n",
       "    <tr>\n",
       "      <th>964</th>\n",
       "      <td>total</td>\n",
       "      <td>direct</td>\n",
       "      <td>NaN</td>\n",
       "    </tr>\n",
       "    <tr>\n",
       "      <th>1929</th>\n",
       "      <td>total</td>\n",
       "      <td>organic</td>\n",
       "      <td>NaN</td>\n",
       "    </tr>\n",
       "  </tbody>\n",
       "</table>\n",
       "</div>"
      ]
     },
     "execution_count": 50,
     "metadata": {},
     "output_type": "execute_result"
    }
   ],
   "execution_count": 50
  },
  {
   "metadata": {
    "ExecuteTime": {
     "end_time": "2024-10-22T22:19:32.084058Z",
     "start_time": "2024-10-22T22:19:32.078094Z"
    }
   },
   "cell_type": "code",
   "source": "data['visits'] = data['visits'].astype(int, errors='ignore')",
   "id": "365ca440268cec95",
   "outputs": [],
   "execution_count": 57
  },
  {
   "metadata": {
    "ExecuteTime": {
     "end_time": "2024-10-22T22:19:35.651281Z",
     "start_time": "2024-10-22T22:19:35.640799Z"
    }
   },
   "cell_type": "code",
   "source": "data.info()",
   "id": "757fbadfcd168557",
   "outputs": [
    {
     "name": "stdout",
     "output_type": "stream",
     "text": [
      "<class 'pandas.core.frame.DataFrame'>\n",
      "RangeIndex: 1930 entries, 0 to 1929\n",
      "Data columns (total 3 columns):\n",
      " #   Column          Non-Null Count  Dtype \n",
      "---  ------          --------------  ----- \n",
      " 0   subcategory_id  1930 non-null   object\n",
      " 1   source          1930 non-null   object\n",
      " 2   visits          1930 non-null   int32 \n",
      "dtypes: int32(1), object(2)\n",
      "memory usage: 37.8+ KB\n"
     ]
    }
   ],
   "execution_count": 58
  },
  {
   "metadata": {
    "ExecuteTime": {
     "end_time": "2024-10-22T22:18:51.086831Z",
     "start_time": "2024-10-22T22:18:51.079906Z"
    }
   },
   "cell_type": "code",
   "source": "data.loc[data['visits'].isna()] = 0",
   "id": "153538083a8807ed",
   "outputs": [],
   "execution_count": 54
  },
  {
   "metadata": {
    "ExecuteTime": {
     "end_time": "2024-10-22T22:19:39.414984Z",
     "start_time": "2024-10-22T22:19:39.404515Z"
    }
   },
   "cell_type": "code",
   "source": "data.head()",
   "id": "60b6288c6b12bf0c",
   "outputs": [
    {
     "data": {
      "text/plain": [
       "  subcategory_id  source  visits\n",
       "0     cf2e61c7af  direct  501165\n",
       "1     0cd903d1cc  direct  126342\n",
       "2     ef35bc88a7  direct   95626\n",
       "3     6ff9f4014c  direct   75680\n",
       "4     72bc238e4d  direct   64435"
      ],
      "text/html": [
       "<div>\n",
       "<style scoped>\n",
       "    .dataframe tbody tr th:only-of-type {\n",
       "        vertical-align: middle;\n",
       "    }\n",
       "\n",
       "    .dataframe tbody tr th {\n",
       "        vertical-align: top;\n",
       "    }\n",
       "\n",
       "    .dataframe thead th {\n",
       "        text-align: right;\n",
       "    }\n",
       "</style>\n",
       "<table border=\"1\" class=\"dataframe\">\n",
       "  <thead>\n",
       "    <tr style=\"text-align: right;\">\n",
       "      <th></th>\n",
       "      <th>subcategory_id</th>\n",
       "      <th>source</th>\n",
       "      <th>visits</th>\n",
       "    </tr>\n",
       "  </thead>\n",
       "  <tbody>\n",
       "    <tr>\n",
       "      <th>0</th>\n",
       "      <td>cf2e61c7af</td>\n",
       "      <td>direct</td>\n",
       "      <td>501165</td>\n",
       "    </tr>\n",
       "    <tr>\n",
       "      <th>1</th>\n",
       "      <td>0cd903d1cc</td>\n",
       "      <td>direct</td>\n",
       "      <td>126342</td>\n",
       "    </tr>\n",
       "    <tr>\n",
       "      <th>2</th>\n",
       "      <td>ef35bc88a7</td>\n",
       "      <td>direct</td>\n",
       "      <td>95626</td>\n",
       "    </tr>\n",
       "    <tr>\n",
       "      <th>3</th>\n",
       "      <td>6ff9f4014c</td>\n",
       "      <td>direct</td>\n",
       "      <td>75680</td>\n",
       "    </tr>\n",
       "    <tr>\n",
       "      <th>4</th>\n",
       "      <td>72bc238e4d</td>\n",
       "      <td>direct</td>\n",
       "      <td>64435</td>\n",
       "    </tr>\n",
       "  </tbody>\n",
       "</table>\n",
       "</div>"
      ]
     },
     "execution_count": 59,
     "metadata": {},
     "output_type": "execute_result"
    }
   ],
   "execution_count": 59
  },
  {
   "metadata": {
    "ExecuteTime": {
     "end_time": "2024-10-22T22:20:07.440312Z",
     "start_time": "2024-10-22T22:20:07.430347Z"
    }
   },
   "cell_type": "code",
   "source": "data.groupby(by='source')['visits'].sum()",
   "id": "c7afdf8e366becad",
   "outputs": [
    {
     "data": {
      "text/plain": [
       "source\n",
       "0                0\n",
       "direct     2368980\n",
       "organic    5687407\n",
       "Name: visits, dtype: int32"
      ]
     },
     "execution_count": 60,
     "metadata": {},
     "output_type": "execute_result"
    }
   ],
   "execution_count": 60
  }
 ],
 "metadata": {
  "kernelspec": {
   "display_name": "Python 3",
   "language": "python",
   "name": "python3"
  },
  "language_info": {
   "codemirror_mode": {
    "name": "ipython",
    "version": 2
   },
   "file_extension": ".py",
   "mimetype": "text/x-python",
   "name": "python",
   "nbconvert_exporter": "python",
   "pygments_lexer": "ipython2",
   "version": "2.7.6"
  }
 },
 "nbformat": 4,
 "nbformat_minor": 5
}
