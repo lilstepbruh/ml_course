{
 "cells": [
  {
   "metadata": {
    "ExecuteTime": {
     "end_time": "2025-03-11T16:29:40.107531Z",
     "start_time": "2025-03-11T16:29:39.877627Z"
    }
   },
   "cell_type": "code",
   "source": "import numpy as np",
   "id": "cd5cf6a2b8e3cecf",
   "outputs": [],
   "execution_count": 1
  },
  {
   "cell_type": "code",
   "id": "initial_id",
   "metadata": {
    "collapsed": true,
    "ExecuteTime": {
     "end_time": "2025-03-11T16:36:01.866095Z",
     "start_time": "2025-03-11T16:36:01.861754Z"
    }
   },
   "source": [
    "def func(x):\n",
    "    return (x[0] + x[1] - 1)**2 + (x[0] - x[1] - 2)**2\n",
    "\n",
    "def gradient(x):\n",
    "    return np.array([4 * x[0] - 6, 4 * x[1] + 2])\n",
    "\n",
    "print(gradient(np.array([0, 0])))\n",
    "print(gradient(np.array([0.5, 0.3])))"
   ],
   "outputs": [
    {
     "name": "stdout",
     "output_type": "stream",
     "text": [
      "[-6  2]\n",
      "[-4.   3.2]\n"
     ]
    }
   ],
   "execution_count": 4
  },
  {
   "metadata": {
    "ExecuteTime": {
     "end_time": "2025-03-11T16:46:48.482203Z",
     "start_time": "2025-03-11T16:46:48.478970Z"
    }
   },
   "cell_type": "code",
   "source": [
    "def gradient_descent(initialization, step_size, iterations):\n",
    "    x = initialization\n",
    "    for _ in range(iterations):\n",
    "        x = x + (step_size * ( -gradient (x) ) )\n",
    "    return x"
   ],
   "id": "4c451399b52ecdda",
   "outputs": [],
   "execution_count": 18
  },
  {
   "metadata": {
    "ExecuteTime": {
     "end_time": "2025-03-11T16:46:49.630121Z",
     "start_time": "2025-03-11T16:46:49.626636Z"
    }
   },
   "cell_type": "code",
   "source": [
    "print(gradient_descent(np.array([0, 0]), 0.1, 5))\n",
    "print(gradient_descent(np.array([0, 0]), 0.1, 100))"
   ],
   "id": "9b868148bdea392a",
   "outputs": [
    {
     "name": "stdout",
     "output_type": "stream",
     "text": [
      "[ 1.38336 -0.46112]\n",
      "[ 1.5 -0.5]\n"
     ]
    }
   ],
   "execution_count": 19
  },
  {
   "metadata": {},
   "cell_type": "code",
   "outputs": [],
   "execution_count": null,
   "source": "",
   "id": "7cde50d1b427b709"
  }
 ],
 "metadata": {
  "kernelspec": {
   "display_name": "Python 3",
   "language": "python",
   "name": "python3"
  },
  "language_info": {
   "codemirror_mode": {
    "name": "ipython",
    "version": 2
   },
   "file_extension": ".py",
   "mimetype": "text/x-python",
   "name": "python",
   "nbconvert_exporter": "python",
   "pygments_lexer": "ipython2",
   "version": "2.7.6"
  }
 },
 "nbformat": 4,
 "nbformat_minor": 5
}
