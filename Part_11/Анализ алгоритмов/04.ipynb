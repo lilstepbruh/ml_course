{
 "cells": [
  {
   "cell_type": "code",
   "execution_count": null,
   "id": "initial_id",
   "metadata": {
    "collapsed": true
   },
   "outputs": [],
   "source": [
    "import math\n",
    "\n",
    "def bisect(function, left, right, error):\n",
    "    while right - left > error:\n",
    "        # Проверяем, нет ли нулей\n",
    "        if function(left) == 0:\n",
    "            return left\n",
    "        if function(right) == 0:\n",
    "            return right\n",
    "\n",
    "        # Находим середину отрезка\n",
    "        middle = (left + right) / 2\n",
    "\n",
    "        # Проверяем знак функции в середине и корректируем границы\n",
    "        if function(middle) * function(left) < 0:\n",
    "            right = middle\n",
    "        else:\n",
    "            left = middle\n",
    "\n",
    "    return left  # Можно также вернуть (left + right) / 2 для большей точности\n",
    "\n",
    "def f1(x):\n",
    "    return x**3 - x**2 - 2*x\n",
    "\n",
    "def f2(x):\n",
    "    return (x+1) * math.log10(x) - x**0.75\n",
    "\n",
    "print(bisect(f1, 1, 4, 0.000001))\n",
    "print(bisect(f2, 1, 4, 0.000001))\n"
   ]
  }
 ],
 "metadata": {
  "kernelspec": {
   "display_name": "Python 3",
   "language": "python",
   "name": "python3"
  },
  "language_info": {
   "codemirror_mode": {
    "name": "ipython",
    "version": 2
   },
   "file_extension": ".py",
   "mimetype": "text/x-python",
   "name": "python",
   "nbconvert_exporter": "python",
   "pygments_lexer": "ipython2",
   "version": "2.7.6"
  }
 },
 "nbformat": 4,
 "nbformat_minor": 5
}
