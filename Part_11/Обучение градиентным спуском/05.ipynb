{
 "cells": [
  {
   "cell_type": "code",
   "id": "initial_id",
   "metadata": {
    "collapsed": true,
    "ExecuteTime": {
     "end_time": "2025-03-12T08:03:25.086768Z",
     "start_time": "2025-03-12T08:03:23.468452Z"
    }
   },
   "source": [
    "import numpy as np\n",
    "import pandas as pd\n",
    "from sklearn.metrics import r2_score"
   ],
   "outputs": [],
   "execution_count": 1
  },
  {
   "metadata": {
    "ExecuteTime": {
     "end_time": "2025-03-12T08:03:46.285426Z",
     "start_time": "2025-03-12T08:03:46.246426Z"
    }
   },
   "cell_type": "code",
   "source": [
    "data_train = pd.read_csv('../train_data_n.csv')\n",
    "features_train = data_train.drop(['target'], axis=1)\n",
    "target_train = data_train['target']\n",
    "\n",
    "data_test = pd.read_csv('../test_data_n.csv')\n",
    "features_test = data_test.drop(['target'], axis=1)\n",
    "target_test = data_test['target']"
   ],
   "id": "3bfe24ab0eb4a611",
   "outputs": [],
   "execution_count": 3
  },
  {
   "metadata": {
    "ExecuteTime": {
     "end_time": "2025-03-12T08:07:23.634982Z",
     "start_time": "2025-03-12T08:07:23.624799Z"
    }
   },
   "cell_type": "code",
   "source": [
    "class SGDLinearRegression:\n",
    "    def __init__(self, step_size, epochs, batch_size, reg_weight):\n",
    "        self.step_size = step_size\n",
    "        self.epochs = epochs\n",
    "        self.batch_size = batch_size\n",
    "        self.reg_weight = reg_weight\n",
    "\n",
    "    def fit(self, train_features, train_target):\n",
    "        X = np.concatenate((np.ones((train_features.shape[0], 1)), train_features), axis=1)\n",
    "        y = train_target\n",
    "        w = np.zeros(X.shape[1])\n",
    "\n",
    "        for _ in range(self.epochs):\n",
    "            batches_count = X.shape[0] // self.batch_size\n",
    "            for i in range(batches_count):\n",
    "                begin = i * self.batch_size\n",
    "                end = (i + 1) * self.batch_size\n",
    "                X_batch = X[begin:end, :]\n",
    "                y_batch = y[begin:end]\n",
    "\n",
    "                gradient = 2 * X_batch.T.dot(X_batch.dot(w) - y_batch) / X_batch.shape[0]\n",
    "                # копируем вектор w, чтобы его не менять\n",
    "                reg = 2 * w.copy()\n",
    "                reg[0] = 0\n",
    "                gradient += self.reg_weight * reg\n",
    "                w -= self.step_size * gradient\n",
    "\n",
    "        self.w = w[1:]\n",
    "        self.w0 = w[0]\n",
    "\n",
    "    def predict(self, test_features):\n",
    "        return test_features.dot(self.w) + self.w0"
   ],
   "id": "3a39aeddca178e4a",
   "outputs": [],
   "execution_count": 4
  },
  {
   "metadata": {
    "ExecuteTime": {
     "end_time": "2025-03-12T08:07:51.062655Z",
     "start_time": "2025-03-12T08:07:50.996871Z"
    }
   },
   "cell_type": "code",
   "source": [
    "for reg_weight in [0.0, 0.1, 1.0, 10.0]:\n",
    "    print(\"Регуляризация:\", reg_weight)\n",
    "    model = SGDLinearRegression(0.01, 10, 100, reg_weight)\n",
    "    model.fit(features_train, target_train)\n",
    "    pred_train = model.predict(features_train)\n",
    "    pred_test = model.predict(features_test)\n",
    "    print(r2_score(target_train, pred_train))\n",
    "    print(r2_score(target_test, pred_test))"
   ],
   "id": "f2d0a7beef61aafc",
   "outputs": [
    {
     "name": "stdout",
     "output_type": "stream",
     "text": [
      "Регуляризация: 0.0\n",
      "0.21882420870125097\n",
      "0.06295838397587328\n",
      "Регуляризация: 0.1\n",
      "0.21488138182726813\n",
      "0.07001298159200142\n",
      "Регуляризация: 1.0\n",
      "0.16660956844692543\n",
      "0.08061382017133167\n",
      "Регуляризация: 10.0\n",
      "0.03944665027115968\n",
      "0.024121773187080975\n"
     ]
    }
   ],
   "execution_count": 7
  }
 ],
 "metadata": {
  "kernelspec": {
   "display_name": "Python 3",
   "language": "python",
   "name": "python3"
  },
  "language_info": {
   "codemirror_mode": {
    "name": "ipython",
    "version": 2
   },
   "file_extension": ".py",
   "mimetype": "text/x-python",
   "name": "python",
   "nbconvert_exporter": "python",
   "pygments_lexer": "ipython2",
   "version": "2.7.6"
  }
 },
 "nbformat": 4,
 "nbformat_minor": 5
}
