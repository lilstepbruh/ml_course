{
 "cells": [
  {
   "metadata": {},
   "cell_type": "code",
   "source": [
    "import numpy as np\n",
    "import pandas as pd\n",
    "from sklearn.metrics import r2_score\n",
    "\n",
    "data_train = pd.read_csv('../train_data_n.csv')\n",
    "features_train = data_train.drop(['target'], axis=1)\n",
    "target_train = data_train['target']\n",
    "\n",
    "data_test = pd.read_csv('../test_data_n.csv')\n",
    "features_test = data_test.drop(['target'], axis=1)\n",
    "target_test = data_test['target']"
   ],
   "id": "1de9ebcd60c3001e",
   "outputs": [],
   "execution_count": null
  },
  {
   "cell_type": "code",
   "id": "initial_id",
   "metadata": {
    "collapsed": true
   },
   "source": [
    "class SGDLinearRegression:\n",
    "    def __init__(self, step_size, epochs, batch_size):\n",
    "        self.epochs = epochs\n",
    "        self.batch_size = batch_size\n",
    "        self.step_size = step_size\n",
    "\n",
    "    def fit(self, train_features, train_target):\n",
    "        X = np.concatenate((np.ones((train_features.shape[0], 1)), train_features), axis=1)\n",
    "        y = train_target\n",
    "        w = np.zeros(X.shape[1])\n",
    "\n",
    "        for _ in range(self.epochs):\n",
    "            batches_count = # < напишите код здесь >\n",
    "            for i in range(batches_count):\n",
    "                begin = i * self.batch_size\n",
    "                end = (i + 1) * self.batch_size\n",
    "                X_batch = X[begin:end, :]\n",
    "                y_batch = y[begin:end]\n",
    "                self.w = w[1:]\n",
    "                self.w0 = w[0]\n",
    "\n",
    "                gradient = # < напишите код здесь >\n",
    "                w -= # < напишите код здесь >\n",
    "\n",
    "        self.w = w[1:]\n",
    "        self.w0 = w[0]\n",
    "        self.batches_count = batches_count\n",
    "\n",
    "\n",
    "def predict(self, test_features):\n",
    "        return  test_features @ self.w + self.w0"
   ],
   "outputs": [],
   "execution_count": null
  },
  {
   "metadata": {},
   "cell_type": "code",
   "source": [
    "model = SGDLinearRegression(0.01, 1, 200)\n",
    "model.fit(features_train, target_train)\n",
    "pred_train = model.predict(features_train)\n",
    "pred_test = model.predict(features_test)\n",
    "print(r2_score(target_train, pred_train).round(5))\n",
    "print(r2_score(target_test, pred_test).round(5))"
   ],
   "id": "55a918020fe99494",
   "outputs": [],
   "execution_count": null
  },
  {
   "metadata": {},
   "cell_type": "code",
   "source": "",
   "id": "349aba58db4ef4f",
   "outputs": [],
   "execution_count": null
  }
 ],
 "metadata": {
  "kernelspec": {
   "display_name": "Python 3",
   "language": "python",
   "name": "python3"
  },
  "language_info": {
   "codemirror_mode": {
    "name": "ipython",
    "version": 2
   },
   "file_extension": ".py",
   "mimetype": "text/x-python",
   "name": "python",
   "nbconvert_exporter": "python",
   "pygments_lexer": "ipython2",
   "version": "2.7.6"
  }
 },
 "nbformat": 4,
 "nbformat_minor": 5
}
